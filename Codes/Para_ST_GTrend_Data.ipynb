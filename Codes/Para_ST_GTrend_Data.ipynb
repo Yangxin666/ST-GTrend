{
 "cells": [
  {
   "cell_type": "code",
   "execution_count": 1,
   "metadata": {
    "colab": {
     "base_uri": "https://localhost:8080/"
    },
    "id": "5lF5yQu48Qdt",
    "outputId": "85030793-d563-42a3-c933-71685abd3856"
   },
   "outputs": [],
   "source": [
    "import pandas as pd\n",
    "import numpy as np\n",
    "import matplotlib.pyplot as plt\n",
    "import matplotlib\n",
    "import random\n",
    "import matplotlib.transforms as mtransforms\n",
    "# from keras.layers import Dense\n",
    "# from keras.layers import Input\n",
    "# from keras.layers import concatenate\n",
    "# from tensorflow.keras import layers\n",
    "# from keras.models import Model\n",
    "# from keras import regularizers\n",
    "# # from keras.engine.training import Model\n",
    "# from keras.callbacks import ModelCheckpoint\n",
    "# from copy import copy\n",
    "# from tensorflow import sin\n",
    "# from keras.backend import set_value\n",
    "from numpy.fft import rfft, irfft, rfftfreq\n",
    "from scipy import pi, signal, fftpack\n",
    "from datetime import datetime\n",
    "import glob\n",
    "import os\n",
    "import scipy.sparse as sp\n",
    "import math\n",
    "import pywt\n",
    "import matplotlib.pyplot as plt\n",
    "import numpy as np\n",
    "import pywt\n",
    "import warnings\n",
    "warnings.filterwarnings(\"ignore\")\n",
    "# from sklearn.preprocessing import StandardScaler\n",
    "\n",
    "# from google.colab import drive\n",
    "# drive.mount('/content/gdrive')"
   ]
  },
  {
   "cell_type": "code",
   "execution_count": 2,
   "metadata": {
    "id": "TCGPu6Ri76r4"
   },
   "outputs": [],
   "source": [
    "df1 = pd.read_csv('rwb_simulated_PR_pw_36.1_-107.61.csv', sep=',')\n",
    "df2 = pd.read_csv('rwb_simulated_PR_pw_39.86_-107.43.csv', sep=',')\n",
    "df3 = pd.read_csv('rwb_simulated_PR_pw_38.49_-108.38.csv', sep=',')\n",
    "df4 = pd.read_csv('rwb_simulated_PR_pw_39.74_-107.82.csv', sep=',')\n",
    "df5 = pd.read_csv('rwb_simulated_PR_pw_39.17_-103.68.csv', sep=',')"
   ]
  },
  {
   "cell_type": "code",
   "execution_count": 3,
   "metadata": {
    "id": "V3iPKSit76yc"
   },
   "outputs": [],
   "source": [
    "from datetime import datetime\n",
    "#import geopy.distance # to compute distances between stations\n",
    "import glob\n",
    "import numpy as np\n",
    "import os\n",
    "import pandas as pd\n",
    "import scipy.sparse as sp\n",
    "from sklearn.preprocessing import StandardScaler\n",
    "import torch\n",
    "import torch.nn as nn\n",
    "import torch.nn.functional as F\n",
    "#from torch_geometric_temporal.nn import STConv\n",
    "from tqdm import tqdm\n",
    "import math\n",
    "import torch\n",
    "import torch.nn as nn\n",
    "import torch.nn.functional as F\n",
    "from torch_geometric.nn import ChebConv"
   ]
  },
  {
   "cell_type": "code",
   "execution_count": 4,
   "metadata": {
    "colab": {
     "base_uri": "https://localhost:8080/"
    },
    "id": "A0jq1Wu8761C",
    "outputId": "ca605a0b-9ab7-4e65-c63d-0f20ecac8113"
   },
   "outputs": [
    {
     "data": {
      "text/plain": [
       "1.3344393247471684"
      ]
     },
     "execution_count": 4,
     "metadata": {},
     "output_type": "execute_result"
    }
   ],
   "source": [
    "x = pd.concat([df1.iloc[:,10:30],df2.iloc[:,10:30],df3.iloc[:,10:30],df4.iloc[:,10:30],df5.iloc[:,10:30]], axis=1, ignore_index=False)\n",
    "x = x.fillna(0)\n",
    "# x = x*100\n",
    "np.max(x)"
   ]
  },
  {
   "cell_type": "code",
   "execution_count": 5,
   "metadata": {},
   "outputs": [
    {
     "data": {
      "text/html": [
       "<div>\n",
       "<style scoped>\n",
       "    .dataframe tbody tr th:only-of-type {\n",
       "        vertical-align: middle;\n",
       "    }\n",
       "\n",
       "    .dataframe tbody tr th {\n",
       "        vertical-align: top;\n",
       "    }\n",
       "\n",
       "    .dataframe thead th {\n",
       "        text-align: right;\n",
       "    }\n",
       "</style>\n",
       "<table border=\"1\" class=\"dataframe\">\n",
       "  <thead>\n",
       "    <tr style=\"text-align: right;\">\n",
       "      <th></th>\n",
       "      <th>col_0</th>\n",
       "      <th>col_1</th>\n",
       "      <th>col_2</th>\n",
       "      <th>col_3</th>\n",
       "      <th>col_4</th>\n",
       "      <th>col_5</th>\n",
       "      <th>col_6</th>\n",
       "      <th>col_7</th>\n",
       "      <th>col_8</th>\n",
       "      <th>col_9</th>\n",
       "      <th>...</th>\n",
       "      <th>col_990</th>\n",
       "      <th>col_991</th>\n",
       "      <th>col_992</th>\n",
       "      <th>col_993</th>\n",
       "      <th>col_994</th>\n",
       "      <th>col_995</th>\n",
       "      <th>col_996</th>\n",
       "      <th>col_997</th>\n",
       "      <th>col_998</th>\n",
       "      <th>col_999</th>\n",
       "    </tr>\n",
       "  </thead>\n",
       "  <tbody>\n",
       "    <tr>\n",
       "      <th>0</th>\n",
       "      <td>0.0</td>\n",
       "      <td>0.0</td>\n",
       "      <td>0.0</td>\n",
       "      <td>0.0</td>\n",
       "      <td>0.0</td>\n",
       "      <td>0.0</td>\n",
       "      <td>0.0</td>\n",
       "      <td>0.0</td>\n",
       "      <td>0.0</td>\n",
       "      <td>0.0</td>\n",
       "      <td>...</td>\n",
       "      <td>0.0</td>\n",
       "      <td>0.0</td>\n",
       "      <td>0.0</td>\n",
       "      <td>0.0</td>\n",
       "      <td>0.0</td>\n",
       "      <td>0.0</td>\n",
       "      <td>0.0</td>\n",
       "      <td>0.0</td>\n",
       "      <td>0.0</td>\n",
       "      <td>0.0</td>\n",
       "    </tr>\n",
       "    <tr>\n",
       "      <th>1</th>\n",
       "      <td>0.0</td>\n",
       "      <td>0.0</td>\n",
       "      <td>0.0</td>\n",
       "      <td>0.0</td>\n",
       "      <td>0.0</td>\n",
       "      <td>0.0</td>\n",
       "      <td>0.0</td>\n",
       "      <td>0.0</td>\n",
       "      <td>0.0</td>\n",
       "      <td>0.0</td>\n",
       "      <td>...</td>\n",
       "      <td>0.0</td>\n",
       "      <td>0.0</td>\n",
       "      <td>0.0</td>\n",
       "      <td>0.0</td>\n",
       "      <td>0.0</td>\n",
       "      <td>0.0</td>\n",
       "      <td>0.0</td>\n",
       "      <td>0.0</td>\n",
       "      <td>0.0</td>\n",
       "      <td>0.0</td>\n",
       "    </tr>\n",
       "    <tr>\n",
       "      <th>2</th>\n",
       "      <td>0.0</td>\n",
       "      <td>0.0</td>\n",
       "      <td>0.0</td>\n",
       "      <td>0.0</td>\n",
       "      <td>0.0</td>\n",
       "      <td>0.0</td>\n",
       "      <td>0.0</td>\n",
       "      <td>0.0</td>\n",
       "      <td>0.0</td>\n",
       "      <td>0.0</td>\n",
       "      <td>...</td>\n",
       "      <td>0.0</td>\n",
       "      <td>0.0</td>\n",
       "      <td>0.0</td>\n",
       "      <td>0.0</td>\n",
       "      <td>0.0</td>\n",
       "      <td>0.0</td>\n",
       "      <td>0.0</td>\n",
       "      <td>0.0</td>\n",
       "      <td>0.0</td>\n",
       "      <td>0.0</td>\n",
       "    </tr>\n",
       "    <tr>\n",
       "      <th>3</th>\n",
       "      <td>0.0</td>\n",
       "      <td>0.0</td>\n",
       "      <td>0.0</td>\n",
       "      <td>0.0</td>\n",
       "      <td>0.0</td>\n",
       "      <td>0.0</td>\n",
       "      <td>0.0</td>\n",
       "      <td>0.0</td>\n",
       "      <td>0.0</td>\n",
       "      <td>0.0</td>\n",
       "      <td>...</td>\n",
       "      <td>0.0</td>\n",
       "      <td>0.0</td>\n",
       "      <td>0.0</td>\n",
       "      <td>0.0</td>\n",
       "      <td>0.0</td>\n",
       "      <td>0.0</td>\n",
       "      <td>0.0</td>\n",
       "      <td>0.0</td>\n",
       "      <td>0.0</td>\n",
       "      <td>0.0</td>\n",
       "    </tr>\n",
       "    <tr>\n",
       "      <th>4</th>\n",
       "      <td>0.0</td>\n",
       "      <td>0.0</td>\n",
       "      <td>0.0</td>\n",
       "      <td>0.0</td>\n",
       "      <td>0.0</td>\n",
       "      <td>0.0</td>\n",
       "      <td>0.0</td>\n",
       "      <td>0.0</td>\n",
       "      <td>0.0</td>\n",
       "      <td>0.0</td>\n",
       "      <td>...</td>\n",
       "      <td>0.0</td>\n",
       "      <td>0.0</td>\n",
       "      <td>0.0</td>\n",
       "      <td>0.0</td>\n",
       "      <td>0.0</td>\n",
       "      <td>0.0</td>\n",
       "      <td>0.0</td>\n",
       "      <td>0.0</td>\n",
       "      <td>0.0</td>\n",
       "      <td>0.0</td>\n",
       "    </tr>\n",
       "    <tr>\n",
       "      <th>...</th>\n",
       "      <td>...</td>\n",
       "      <td>...</td>\n",
       "      <td>...</td>\n",
       "      <td>...</td>\n",
       "      <td>...</td>\n",
       "      <td>...</td>\n",
       "      <td>...</td>\n",
       "      <td>...</td>\n",
       "      <td>...</td>\n",
       "      <td>...</td>\n",
       "      <td>...</td>\n",
       "      <td>...</td>\n",
       "      <td>...</td>\n",
       "      <td>...</td>\n",
       "      <td>...</td>\n",
       "      <td>...</td>\n",
       "      <td>...</td>\n",
       "      <td>...</td>\n",
       "      <td>...</td>\n",
       "      <td>...</td>\n",
       "      <td>...</td>\n",
       "    </tr>\n",
       "    <tr>\n",
       "      <th>87595</th>\n",
       "      <td>0.0</td>\n",
       "      <td>0.0</td>\n",
       "      <td>0.0</td>\n",
       "      <td>0.0</td>\n",
       "      <td>0.0</td>\n",
       "      <td>0.0</td>\n",
       "      <td>0.0</td>\n",
       "      <td>0.0</td>\n",
       "      <td>0.0</td>\n",
       "      <td>0.0</td>\n",
       "      <td>...</td>\n",
       "      <td>0.0</td>\n",
       "      <td>0.0</td>\n",
       "      <td>0.0</td>\n",
       "      <td>0.0</td>\n",
       "      <td>0.0</td>\n",
       "      <td>0.0</td>\n",
       "      <td>0.0</td>\n",
       "      <td>0.0</td>\n",
       "      <td>0.0</td>\n",
       "      <td>0.0</td>\n",
       "    </tr>\n",
       "    <tr>\n",
       "      <th>87596</th>\n",
       "      <td>0.0</td>\n",
       "      <td>0.0</td>\n",
       "      <td>0.0</td>\n",
       "      <td>0.0</td>\n",
       "      <td>0.0</td>\n",
       "      <td>0.0</td>\n",
       "      <td>0.0</td>\n",
       "      <td>0.0</td>\n",
       "      <td>0.0</td>\n",
       "      <td>0.0</td>\n",
       "      <td>...</td>\n",
       "      <td>0.0</td>\n",
       "      <td>0.0</td>\n",
       "      <td>0.0</td>\n",
       "      <td>0.0</td>\n",
       "      <td>0.0</td>\n",
       "      <td>0.0</td>\n",
       "      <td>0.0</td>\n",
       "      <td>0.0</td>\n",
       "      <td>0.0</td>\n",
       "      <td>0.0</td>\n",
       "    </tr>\n",
       "    <tr>\n",
       "      <th>87597</th>\n",
       "      <td>0.0</td>\n",
       "      <td>0.0</td>\n",
       "      <td>0.0</td>\n",
       "      <td>0.0</td>\n",
       "      <td>0.0</td>\n",
       "      <td>0.0</td>\n",
       "      <td>0.0</td>\n",
       "      <td>0.0</td>\n",
       "      <td>0.0</td>\n",
       "      <td>0.0</td>\n",
       "      <td>...</td>\n",
       "      <td>0.0</td>\n",
       "      <td>0.0</td>\n",
       "      <td>0.0</td>\n",
       "      <td>0.0</td>\n",
       "      <td>0.0</td>\n",
       "      <td>0.0</td>\n",
       "      <td>0.0</td>\n",
       "      <td>0.0</td>\n",
       "      <td>0.0</td>\n",
       "      <td>0.0</td>\n",
       "    </tr>\n",
       "    <tr>\n",
       "      <th>87598</th>\n",
       "      <td>0.0</td>\n",
       "      <td>0.0</td>\n",
       "      <td>0.0</td>\n",
       "      <td>0.0</td>\n",
       "      <td>0.0</td>\n",
       "      <td>0.0</td>\n",
       "      <td>0.0</td>\n",
       "      <td>0.0</td>\n",
       "      <td>0.0</td>\n",
       "      <td>0.0</td>\n",
       "      <td>...</td>\n",
       "      <td>0.0</td>\n",
       "      <td>0.0</td>\n",
       "      <td>0.0</td>\n",
       "      <td>0.0</td>\n",
       "      <td>0.0</td>\n",
       "      <td>0.0</td>\n",
       "      <td>0.0</td>\n",
       "      <td>0.0</td>\n",
       "      <td>0.0</td>\n",
       "      <td>0.0</td>\n",
       "    </tr>\n",
       "    <tr>\n",
       "      <th>87599</th>\n",
       "      <td>0.0</td>\n",
       "      <td>0.0</td>\n",
       "      <td>0.0</td>\n",
       "      <td>0.0</td>\n",
       "      <td>0.0</td>\n",
       "      <td>0.0</td>\n",
       "      <td>0.0</td>\n",
       "      <td>0.0</td>\n",
       "      <td>0.0</td>\n",
       "      <td>0.0</td>\n",
       "      <td>...</td>\n",
       "      <td>0.0</td>\n",
       "      <td>0.0</td>\n",
       "      <td>0.0</td>\n",
       "      <td>0.0</td>\n",
       "      <td>0.0</td>\n",
       "      <td>0.0</td>\n",
       "      <td>0.0</td>\n",
       "      <td>0.0</td>\n",
       "      <td>0.0</td>\n",
       "      <td>0.0</td>\n",
       "    </tr>\n",
       "  </tbody>\n",
       "</table>\n",
       "<p>87600 rows × 1000 columns</p>\n",
       "</div>"
      ],
      "text/plain": [
       "       col_0  col_1  col_2  col_3  col_4  col_5  col_6  col_7  col_8  col_9   \n",
       "0        0.0    0.0    0.0    0.0    0.0    0.0    0.0    0.0    0.0    0.0  \\\n",
       "1        0.0    0.0    0.0    0.0    0.0    0.0    0.0    0.0    0.0    0.0   \n",
       "2        0.0    0.0    0.0    0.0    0.0    0.0    0.0    0.0    0.0    0.0   \n",
       "3        0.0    0.0    0.0    0.0    0.0    0.0    0.0    0.0    0.0    0.0   \n",
       "4        0.0    0.0    0.0    0.0    0.0    0.0    0.0    0.0    0.0    0.0   \n",
       "...      ...    ...    ...    ...    ...    ...    ...    ...    ...    ...   \n",
       "87595    0.0    0.0    0.0    0.0    0.0    0.0    0.0    0.0    0.0    0.0   \n",
       "87596    0.0    0.0    0.0    0.0    0.0    0.0    0.0    0.0    0.0    0.0   \n",
       "87597    0.0    0.0    0.0    0.0    0.0    0.0    0.0    0.0    0.0    0.0   \n",
       "87598    0.0    0.0    0.0    0.0    0.0    0.0    0.0    0.0    0.0    0.0   \n",
       "87599    0.0    0.0    0.0    0.0    0.0    0.0    0.0    0.0    0.0    0.0   \n",
       "\n",
       "       ...  col_990  col_991  col_992  col_993  col_994  col_995  col_996   \n",
       "0      ...      0.0      0.0      0.0      0.0      0.0      0.0      0.0  \\\n",
       "1      ...      0.0      0.0      0.0      0.0      0.0      0.0      0.0   \n",
       "2      ...      0.0      0.0      0.0      0.0      0.0      0.0      0.0   \n",
       "3      ...      0.0      0.0      0.0      0.0      0.0      0.0      0.0   \n",
       "4      ...      0.0      0.0      0.0      0.0      0.0      0.0      0.0   \n",
       "...    ...      ...      ...      ...      ...      ...      ...      ...   \n",
       "87595  ...      0.0      0.0      0.0      0.0      0.0      0.0      0.0   \n",
       "87596  ...      0.0      0.0      0.0      0.0      0.0      0.0      0.0   \n",
       "87597  ...      0.0      0.0      0.0      0.0      0.0      0.0      0.0   \n",
       "87598  ...      0.0      0.0      0.0      0.0      0.0      0.0      0.0   \n",
       "87599  ...      0.0      0.0      0.0      0.0      0.0      0.0      0.0   \n",
       "\n",
       "       col_997  col_998  col_999  \n",
       "0          0.0      0.0      0.0  \n",
       "1          0.0      0.0      0.0  \n",
       "2          0.0      0.0      0.0  \n",
       "3          0.0      0.0      0.0  \n",
       "4          0.0      0.0      0.0  \n",
       "...        ...      ...      ...  \n",
       "87595      0.0      0.0      0.0  \n",
       "87596      0.0      0.0      0.0  \n",
       "87597      0.0      0.0      0.0  \n",
       "87598      0.0      0.0      0.0  \n",
       "87599      0.0      0.0      0.0  \n",
       "\n",
       "[87600 rows x 1000 columns]"
      ]
     },
     "execution_count": 5,
     "metadata": {},
     "output_type": "execute_result"
    }
   ],
   "source": [
    "df_duplicated = pd.concat([x]*10, axis=1, ignore_index=True)\n",
    "\n",
    "# You can reset column names if needed\n",
    "df_duplicated.columns = [f'col_{i}' for i in range(df_duplicated.shape[1])]\n",
    "\n",
    "df_duplicated"
   ]
  },
  {
   "cell_type": "code",
   "execution_count": 6,
   "metadata": {
    "colab": {
     "base_uri": "https://localhost:8080/",
     "height": 424
    },
    "id": "V36gxyhP7639",
    "outputId": "23f64c78-cf9e-486a-f530-12c0a73f1475"
   },
   "outputs": [
    {
     "data": {
      "text/html": [
       "<div>\n",
       "<style scoped>\n",
       "    .dataframe tbody tr th:only-of-type {\n",
       "        vertical-align: middle;\n",
       "    }\n",
       "\n",
       "    .dataframe tbody tr th {\n",
       "        vertical-align: top;\n",
       "    }\n",
       "\n",
       "    .dataframe thead th {\n",
       "        text-align: right;\n",
       "    }\n",
       "</style>\n",
       "<table border=\"1\" class=\"dataframe\">\n",
       "  <thead>\n",
       "    <tr style=\"text-align: right;\">\n",
       "      <th></th>\n",
       "      <th>latd</th>\n",
       "      <th>lond</th>\n",
       "    </tr>\n",
       "  </thead>\n",
       "  <tbody>\n",
       "    <tr>\n",
       "      <th>0</th>\n",
       "      <td>36.0864</td>\n",
       "      <td>-107.6322</td>\n",
       "    </tr>\n",
       "    <tr>\n",
       "      <th>1</th>\n",
       "      <td>36.1014</td>\n",
       "      <td>-107.6733</td>\n",
       "    </tr>\n",
       "    <tr>\n",
       "      <th>2</th>\n",
       "      <td>36.0877</td>\n",
       "      <td>-107.6005</td>\n",
       "    </tr>\n",
       "    <tr>\n",
       "      <th>3</th>\n",
       "      <td>36.0979</td>\n",
       "      <td>-107.5536</td>\n",
       "    </tr>\n",
       "    <tr>\n",
       "      <th>4</th>\n",
       "      <td>36.1005</td>\n",
       "      <td>-107.5811</td>\n",
       "    </tr>\n",
       "    <tr>\n",
       "      <th>...</th>\n",
       "      <td>...</td>\n",
       "      <td>...</td>\n",
       "    </tr>\n",
       "    <tr>\n",
       "      <th>95</th>\n",
       "      <td>39.1736</td>\n",
       "      <td>-103.6255</td>\n",
       "    </tr>\n",
       "    <tr>\n",
       "      <th>96</th>\n",
       "      <td>39.1636</td>\n",
       "      <td>-103.6559</td>\n",
       "    </tr>\n",
       "    <tr>\n",
       "      <th>97</th>\n",
       "      <td>39.1593</td>\n",
       "      <td>-103.7698</td>\n",
       "    </tr>\n",
       "    <tr>\n",
       "      <th>98</th>\n",
       "      <td>39.1708</td>\n",
       "      <td>-103.7034</td>\n",
       "    </tr>\n",
       "    <tr>\n",
       "      <th>99</th>\n",
       "      <td>39.1618</td>\n",
       "      <td>-103.6987</td>\n",
       "    </tr>\n",
       "  </tbody>\n",
       "</table>\n",
       "<p>100 rows × 2 columns</p>\n",
       "</div>"
      ],
      "text/plain": [
       "       latd      lond\n",
       "0   36.0864 -107.6322\n",
       "1   36.1014 -107.6733\n",
       "2   36.0877 -107.6005\n",
       "3   36.0979 -107.5536\n",
       "4   36.1005 -107.5811\n",
       "..      ...       ...\n",
       "95  39.1736 -103.6255\n",
       "96  39.1636 -103.6559\n",
       "97  39.1593 -103.7698\n",
       "98  39.1708 -103.7034\n",
       "99  39.1618 -103.6987\n",
       "\n",
       "[100 rows x 2 columns]"
      ]
     },
     "execution_count": 6,
     "metadata": {},
     "output_type": "execute_result"
    }
   ],
   "source": [
    "location = pd.DataFrame(columns=['latd', 'lond'])\n",
    "PLR = []\n",
    "\n",
    "for i in range(10, 30):\n",
    "  l = df1.columns[i].split('_')\n",
    "  a = float(l[0])\n",
    "  b = float(l[1])\n",
    "  location.loc[i-10] = [a, b]\n",
    "  PLR.append(float(l[2]))\n",
    "\n",
    "for i in range(10, 30):\n",
    "  l = df2.columns[i].split('_')\n",
    "  a = float(l[0])\n",
    "  b = float(l[1])\n",
    "  location.loc[i+10] = [a, b]\n",
    "  PLR.append(float(l[2]))\n",
    "\n",
    "for i in range(10, 30):\n",
    "  l = df3.columns[i].split('_')\n",
    "  a = float(l[0])\n",
    "  b = float(l[1])\n",
    "  location.loc[i+30] = [a, b]\n",
    "  PLR.append(float(l[2]))\n",
    "\n",
    "for i in range(10, 30):\n",
    "  l = df4.columns[i].split('_')\n",
    "  a = float(l[0])\n",
    "  b = float(l[1])\n",
    "  location.loc[i+50] = [a, b]\n",
    "  PLR.append(float(l[2]))\n",
    "\n",
    "for i in range(10, 30):\n",
    "  l = df5.columns[i].split('_')\n",
    "  a = float(l[0])\n",
    "  b = float(l[1])\n",
    "  location.loc[i+70] = [a, b]\n",
    "  PLR.append(float(l[2]))\n",
    "\n",
    "PLR = [x*(-1) for x in PLR]\n",
    "location"
   ]
  },
  {
   "cell_type": "code",
   "execution_count": 7,
   "metadata": {
    "colab": {
     "base_uri": "https://localhost:8080/",
     "height": 424
    },
    "id": "4F13dpBP766i",
    "outputId": "b2173006-2937-4b76-f059-8ff78e4dbf69"
   },
   "outputs": [
    {
     "data": {
      "text/html": [
       "<div>\n",
       "<style scoped>\n",
       "    .dataframe tbody tr th:only-of-type {\n",
       "        vertical-align: middle;\n",
       "    }\n",
       "\n",
       "    .dataframe tbody tr th {\n",
       "        vertical-align: top;\n",
       "    }\n",
       "\n",
       "    .dataframe thead th {\n",
       "        text-align: right;\n",
       "    }\n",
       "</style>\n",
       "<table border=\"1\" class=\"dataframe\">\n",
       "  <thead>\n",
       "    <tr style=\"text-align: right;\">\n",
       "      <th></th>\n",
       "      <th>0</th>\n",
       "      <th>1</th>\n",
       "      <th>2</th>\n",
       "      <th>3</th>\n",
       "      <th>4</th>\n",
       "      <th>5</th>\n",
       "      <th>6</th>\n",
       "      <th>7</th>\n",
       "      <th>8</th>\n",
       "      <th>9</th>\n",
       "      <th>...</th>\n",
       "      <th>90</th>\n",
       "      <th>91</th>\n",
       "      <th>92</th>\n",
       "      <th>93</th>\n",
       "      <th>94</th>\n",
       "      <th>95</th>\n",
       "      <th>96</th>\n",
       "      <th>97</th>\n",
       "      <th>98</th>\n",
       "      <th>99</th>\n",
       "    </tr>\n",
       "  </thead>\n",
       "  <tbody>\n",
       "    <tr>\n",
       "      <th>0</th>\n",
       "      <td>0.0</td>\n",
       "      <td>1.0</td>\n",
       "      <td>1.0</td>\n",
       "      <td>1.0</td>\n",
       "      <td>1.0</td>\n",
       "      <td>1.0</td>\n",
       "      <td>1.0</td>\n",
       "      <td>1.0</td>\n",
       "      <td>1.0</td>\n",
       "      <td>1.0</td>\n",
       "      <td>...</td>\n",
       "      <td>0.0</td>\n",
       "      <td>0.0</td>\n",
       "      <td>0.0</td>\n",
       "      <td>0.0</td>\n",
       "      <td>0.0</td>\n",
       "      <td>0.0</td>\n",
       "      <td>0.0</td>\n",
       "      <td>0.0</td>\n",
       "      <td>0.0</td>\n",
       "      <td>0.0</td>\n",
       "    </tr>\n",
       "    <tr>\n",
       "      <th>1</th>\n",
       "      <td>1.0</td>\n",
       "      <td>0.0</td>\n",
       "      <td>1.0</td>\n",
       "      <td>1.0</td>\n",
       "      <td>1.0</td>\n",
       "      <td>1.0</td>\n",
       "      <td>1.0</td>\n",
       "      <td>1.0</td>\n",
       "      <td>1.0</td>\n",
       "      <td>1.0</td>\n",
       "      <td>...</td>\n",
       "      <td>0.0</td>\n",
       "      <td>0.0</td>\n",
       "      <td>0.0</td>\n",
       "      <td>0.0</td>\n",
       "      <td>0.0</td>\n",
       "      <td>0.0</td>\n",
       "      <td>0.0</td>\n",
       "      <td>0.0</td>\n",
       "      <td>0.0</td>\n",
       "      <td>0.0</td>\n",
       "    </tr>\n",
       "    <tr>\n",
       "      <th>2</th>\n",
       "      <td>1.0</td>\n",
       "      <td>1.0</td>\n",
       "      <td>0.0</td>\n",
       "      <td>1.0</td>\n",
       "      <td>1.0</td>\n",
       "      <td>1.0</td>\n",
       "      <td>1.0</td>\n",
       "      <td>1.0</td>\n",
       "      <td>1.0</td>\n",
       "      <td>1.0</td>\n",
       "      <td>...</td>\n",
       "      <td>0.0</td>\n",
       "      <td>0.0</td>\n",
       "      <td>0.0</td>\n",
       "      <td>0.0</td>\n",
       "      <td>0.0</td>\n",
       "      <td>0.0</td>\n",
       "      <td>0.0</td>\n",
       "      <td>0.0</td>\n",
       "      <td>0.0</td>\n",
       "      <td>0.0</td>\n",
       "    </tr>\n",
       "    <tr>\n",
       "      <th>3</th>\n",
       "      <td>1.0</td>\n",
       "      <td>1.0</td>\n",
       "      <td>1.0</td>\n",
       "      <td>0.0</td>\n",
       "      <td>1.0</td>\n",
       "      <td>1.0</td>\n",
       "      <td>1.0</td>\n",
       "      <td>1.0</td>\n",
       "      <td>1.0</td>\n",
       "      <td>1.0</td>\n",
       "      <td>...</td>\n",
       "      <td>0.0</td>\n",
       "      <td>0.0</td>\n",
       "      <td>0.0</td>\n",
       "      <td>0.0</td>\n",
       "      <td>0.0</td>\n",
       "      <td>0.0</td>\n",
       "      <td>0.0</td>\n",
       "      <td>0.0</td>\n",
       "      <td>0.0</td>\n",
       "      <td>0.0</td>\n",
       "    </tr>\n",
       "    <tr>\n",
       "      <th>4</th>\n",
       "      <td>1.0</td>\n",
       "      <td>1.0</td>\n",
       "      <td>1.0</td>\n",
       "      <td>1.0</td>\n",
       "      <td>0.0</td>\n",
       "      <td>1.0</td>\n",
       "      <td>1.0</td>\n",
       "      <td>1.0</td>\n",
       "      <td>1.0</td>\n",
       "      <td>1.0</td>\n",
       "      <td>...</td>\n",
       "      <td>0.0</td>\n",
       "      <td>0.0</td>\n",
       "      <td>0.0</td>\n",
       "      <td>0.0</td>\n",
       "      <td>0.0</td>\n",
       "      <td>0.0</td>\n",
       "      <td>0.0</td>\n",
       "      <td>0.0</td>\n",
       "      <td>0.0</td>\n",
       "      <td>0.0</td>\n",
       "    </tr>\n",
       "    <tr>\n",
       "      <th>...</th>\n",
       "      <td>...</td>\n",
       "      <td>...</td>\n",
       "      <td>...</td>\n",
       "      <td>...</td>\n",
       "      <td>...</td>\n",
       "      <td>...</td>\n",
       "      <td>...</td>\n",
       "      <td>...</td>\n",
       "      <td>...</td>\n",
       "      <td>...</td>\n",
       "      <td>...</td>\n",
       "      <td>...</td>\n",
       "      <td>...</td>\n",
       "      <td>...</td>\n",
       "      <td>...</td>\n",
       "      <td>...</td>\n",
       "      <td>...</td>\n",
       "      <td>...</td>\n",
       "      <td>...</td>\n",
       "      <td>...</td>\n",
       "      <td>...</td>\n",
       "    </tr>\n",
       "    <tr>\n",
       "      <th>95</th>\n",
       "      <td>0.0</td>\n",
       "      <td>0.0</td>\n",
       "      <td>0.0</td>\n",
       "      <td>0.0</td>\n",
       "      <td>0.0</td>\n",
       "      <td>0.0</td>\n",
       "      <td>0.0</td>\n",
       "      <td>0.0</td>\n",
       "      <td>0.0</td>\n",
       "      <td>0.0</td>\n",
       "      <td>...</td>\n",
       "      <td>1.0</td>\n",
       "      <td>1.0</td>\n",
       "      <td>1.0</td>\n",
       "      <td>1.0</td>\n",
       "      <td>1.0</td>\n",
       "      <td>0.0</td>\n",
       "      <td>1.0</td>\n",
       "      <td>1.0</td>\n",
       "      <td>1.0</td>\n",
       "      <td>1.0</td>\n",
       "    </tr>\n",
       "    <tr>\n",
       "      <th>96</th>\n",
       "      <td>0.0</td>\n",
       "      <td>0.0</td>\n",
       "      <td>0.0</td>\n",
       "      <td>0.0</td>\n",
       "      <td>0.0</td>\n",
       "      <td>0.0</td>\n",
       "      <td>0.0</td>\n",
       "      <td>0.0</td>\n",
       "      <td>0.0</td>\n",
       "      <td>0.0</td>\n",
       "      <td>...</td>\n",
       "      <td>1.0</td>\n",
       "      <td>1.0</td>\n",
       "      <td>1.0</td>\n",
       "      <td>1.0</td>\n",
       "      <td>1.0</td>\n",
       "      <td>1.0</td>\n",
       "      <td>0.0</td>\n",
       "      <td>1.0</td>\n",
       "      <td>1.0</td>\n",
       "      <td>1.0</td>\n",
       "    </tr>\n",
       "    <tr>\n",
       "      <th>97</th>\n",
       "      <td>0.0</td>\n",
       "      <td>0.0</td>\n",
       "      <td>0.0</td>\n",
       "      <td>0.0</td>\n",
       "      <td>0.0</td>\n",
       "      <td>0.0</td>\n",
       "      <td>0.0</td>\n",
       "      <td>0.0</td>\n",
       "      <td>0.0</td>\n",
       "      <td>0.0</td>\n",
       "      <td>...</td>\n",
       "      <td>1.0</td>\n",
       "      <td>1.0</td>\n",
       "      <td>1.0</td>\n",
       "      <td>1.0</td>\n",
       "      <td>1.0</td>\n",
       "      <td>1.0</td>\n",
       "      <td>1.0</td>\n",
       "      <td>0.0</td>\n",
       "      <td>1.0</td>\n",
       "      <td>1.0</td>\n",
       "    </tr>\n",
       "    <tr>\n",
       "      <th>98</th>\n",
       "      <td>0.0</td>\n",
       "      <td>0.0</td>\n",
       "      <td>0.0</td>\n",
       "      <td>0.0</td>\n",
       "      <td>0.0</td>\n",
       "      <td>0.0</td>\n",
       "      <td>0.0</td>\n",
       "      <td>0.0</td>\n",
       "      <td>0.0</td>\n",
       "      <td>0.0</td>\n",
       "      <td>...</td>\n",
       "      <td>1.0</td>\n",
       "      <td>1.0</td>\n",
       "      <td>1.0</td>\n",
       "      <td>1.0</td>\n",
       "      <td>1.0</td>\n",
       "      <td>1.0</td>\n",
       "      <td>1.0</td>\n",
       "      <td>1.0</td>\n",
       "      <td>0.0</td>\n",
       "      <td>1.0</td>\n",
       "    </tr>\n",
       "    <tr>\n",
       "      <th>99</th>\n",
       "      <td>0.0</td>\n",
       "      <td>0.0</td>\n",
       "      <td>0.0</td>\n",
       "      <td>0.0</td>\n",
       "      <td>0.0</td>\n",
       "      <td>0.0</td>\n",
       "      <td>0.0</td>\n",
       "      <td>0.0</td>\n",
       "      <td>0.0</td>\n",
       "      <td>0.0</td>\n",
       "      <td>...</td>\n",
       "      <td>1.0</td>\n",
       "      <td>1.0</td>\n",
       "      <td>1.0</td>\n",
       "      <td>1.0</td>\n",
       "      <td>1.0</td>\n",
       "      <td>1.0</td>\n",
       "      <td>1.0</td>\n",
       "      <td>1.0</td>\n",
       "      <td>1.0</td>\n",
       "      <td>0.0</td>\n",
       "    </tr>\n",
       "  </tbody>\n",
       "</table>\n",
       "<p>100 rows × 100 columns</p>\n",
       "</div>"
      ],
      "text/plain": [
       "     0    1    2    3    4    5    6    7    8    9   ...   90   91   92   93   \n",
       "0   0.0  1.0  1.0  1.0  1.0  1.0  1.0  1.0  1.0  1.0  ...  0.0  0.0  0.0  0.0  \\\n",
       "1   1.0  0.0  1.0  1.0  1.0  1.0  1.0  1.0  1.0  1.0  ...  0.0  0.0  0.0  0.0   \n",
       "2   1.0  1.0  0.0  1.0  1.0  1.0  1.0  1.0  1.0  1.0  ...  0.0  0.0  0.0  0.0   \n",
       "3   1.0  1.0  1.0  0.0  1.0  1.0  1.0  1.0  1.0  1.0  ...  0.0  0.0  0.0  0.0   \n",
       "4   1.0  1.0  1.0  1.0  0.0  1.0  1.0  1.0  1.0  1.0  ...  0.0  0.0  0.0  0.0   \n",
       "..  ...  ...  ...  ...  ...  ...  ...  ...  ...  ...  ...  ...  ...  ...  ...   \n",
       "95  0.0  0.0  0.0  0.0  0.0  0.0  0.0  0.0  0.0  0.0  ...  1.0  1.0  1.0  1.0   \n",
       "96  0.0  0.0  0.0  0.0  0.0  0.0  0.0  0.0  0.0  0.0  ...  1.0  1.0  1.0  1.0   \n",
       "97  0.0  0.0  0.0  0.0  0.0  0.0  0.0  0.0  0.0  0.0  ...  1.0  1.0  1.0  1.0   \n",
       "98  0.0  0.0  0.0  0.0  0.0  0.0  0.0  0.0  0.0  0.0  ...  1.0  1.0  1.0  1.0   \n",
       "99  0.0  0.0  0.0  0.0  0.0  0.0  0.0  0.0  0.0  0.0  ...  1.0  1.0  1.0  1.0   \n",
       "\n",
       "     94   95   96   97   98   99  \n",
       "0   0.0  0.0  0.0  0.0  0.0  0.0  \n",
       "1   0.0  0.0  0.0  0.0  0.0  0.0  \n",
       "2   0.0  0.0  0.0  0.0  0.0  0.0  \n",
       "3   0.0  0.0  0.0  0.0  0.0  0.0  \n",
       "4   0.0  0.0  0.0  0.0  0.0  0.0  \n",
       "..  ...  ...  ...  ...  ...  ...  \n",
       "95  1.0  0.0  1.0  1.0  1.0  1.0  \n",
       "96  1.0  1.0  0.0  1.0  1.0  1.0  \n",
       "97  1.0  1.0  1.0  0.0  1.0  1.0  \n",
       "98  1.0  1.0  1.0  1.0  0.0  1.0  \n",
       "99  1.0  1.0  1.0  1.0  1.0  0.0  \n",
       "\n",
       "[100 rows x 100 columns]"
      ]
     },
     "execution_count": 7,
     "metadata": {},
     "output_type": "execute_result"
    }
   ],
   "source": [
    "from math import radians, cos, sin, asin, sqrt\n",
    "\n",
    "def haversine(lon1, lat1, lon2, lat2):\n",
    "    \"\"\"\n",
    "    Calculate the great circle distance in kilometers between two points\n",
    "    on the earth (specified in decimal degrees)\n",
    "    \"\"\"\n",
    "    # convert decimal degrees to radians\n",
    "    lon1, lat1, lon2, lat2 = map(radians, [lon1, lat1, lon2, lat2])\n",
    "\n",
    "    # haversine formula\n",
    "    dlon = lon2 - lon1\n",
    "    dlat = lat2 - lat1\n",
    "    a = sin(dlat/2)**2 + cos(lat1) * cos(lat2) * sin(dlon/2)**2\n",
    "    c = 2 * asin(sqrt(a))\n",
    "    r = 6371 # Radius of earth in kilometers. Use 3956 for miles. Determines return value units.\n",
    "    return c * r\n",
    "\n",
    "distance = np.zeros(shape=(100,100))\n",
    "dist = []\n",
    "for i in range(100):\n",
    "    for j in range(100):\n",
    "        d = haversine(location.iloc[i][1], location.iloc[i][0], location.iloc[j][1], location.iloc[j][0])\n",
    "        distance[i][j] = d\n",
    "        dist.append(d)\n",
    "\n",
    "dist_std = np.std(dist)\n",
    "distance = pd.DataFrame(distance)\n",
    "\n",
    "# epsilon = 0, 0.25, 0.5, 0.75, 1\n",
    "epsilon = 0.5\n",
    "sigma = dist_std\n",
    "W = np.zeros(shape=(100,100))\n",
    "\n",
    "for i in range(100):\n",
    "    for j in range(100):\n",
    "        if i == j:\n",
    "            W[i][j] = 0\n",
    "        else:\n",
    "            # Compute distance between stations\n",
    "            d_ij = distance.loc[i][j]\n",
    "\n",
    "            # Compute weight w_ij\n",
    "            w_ij = np.exp(-d_ij**2 / sigma**2)\n",
    "\n",
    "            if w_ij >= epsilon:\n",
    "                W[i, j] = 1\n",
    "\n",
    "W = pd.DataFrame(W)\n",
    "W"
   ]
  },
  {
   "cell_type": "code",
   "execution_count": 8,
   "metadata": {},
   "outputs": [
    {
     "data": {
      "text/html": [
       "<div>\n",
       "<style scoped>\n",
       "    .dataframe tbody tr th:only-of-type {\n",
       "        vertical-align: middle;\n",
       "    }\n",
       "\n",
       "    .dataframe tbody tr th {\n",
       "        vertical-align: top;\n",
       "    }\n",
       "\n",
       "    .dataframe thead th {\n",
       "        text-align: right;\n",
       "    }\n",
       "</style>\n",
       "<table border=\"1\" class=\"dataframe\">\n",
       "  <thead>\n",
       "    <tr style=\"text-align: right;\">\n",
       "      <th></th>\n",
       "      <th>0</th>\n",
       "      <th>1</th>\n",
       "      <th>2</th>\n",
       "      <th>3</th>\n",
       "      <th>4</th>\n",
       "      <th>5</th>\n",
       "      <th>6</th>\n",
       "      <th>7</th>\n",
       "      <th>8</th>\n",
       "      <th>9</th>\n",
       "      <th>...</th>\n",
       "      <th>990</th>\n",
       "      <th>991</th>\n",
       "      <th>992</th>\n",
       "      <th>993</th>\n",
       "      <th>994</th>\n",
       "      <th>995</th>\n",
       "      <th>996</th>\n",
       "      <th>997</th>\n",
       "      <th>998</th>\n",
       "      <th>999</th>\n",
       "    </tr>\n",
       "  </thead>\n",
       "  <tbody>\n",
       "    <tr>\n",
       "      <th>0</th>\n",
       "      <td>0.0</td>\n",
       "      <td>1.0</td>\n",
       "      <td>1.0</td>\n",
       "      <td>1.0</td>\n",
       "      <td>1.0</td>\n",
       "      <td>1.0</td>\n",
       "      <td>1.0</td>\n",
       "      <td>1.0</td>\n",
       "      <td>1.0</td>\n",
       "      <td>1.0</td>\n",
       "      <td>...</td>\n",
       "      <td>0.0</td>\n",
       "      <td>0.0</td>\n",
       "      <td>0.0</td>\n",
       "      <td>0.0</td>\n",
       "      <td>0.0</td>\n",
       "      <td>0.0</td>\n",
       "      <td>0.0</td>\n",
       "      <td>0.0</td>\n",
       "      <td>0.0</td>\n",
       "      <td>0.0</td>\n",
       "    </tr>\n",
       "    <tr>\n",
       "      <th>1</th>\n",
       "      <td>1.0</td>\n",
       "      <td>0.0</td>\n",
       "      <td>1.0</td>\n",
       "      <td>1.0</td>\n",
       "      <td>1.0</td>\n",
       "      <td>1.0</td>\n",
       "      <td>1.0</td>\n",
       "      <td>1.0</td>\n",
       "      <td>1.0</td>\n",
       "      <td>1.0</td>\n",
       "      <td>...</td>\n",
       "      <td>0.0</td>\n",
       "      <td>0.0</td>\n",
       "      <td>0.0</td>\n",
       "      <td>0.0</td>\n",
       "      <td>0.0</td>\n",
       "      <td>0.0</td>\n",
       "      <td>0.0</td>\n",
       "      <td>0.0</td>\n",
       "      <td>0.0</td>\n",
       "      <td>0.0</td>\n",
       "    </tr>\n",
       "    <tr>\n",
       "      <th>2</th>\n",
       "      <td>1.0</td>\n",
       "      <td>1.0</td>\n",
       "      <td>0.0</td>\n",
       "      <td>1.0</td>\n",
       "      <td>1.0</td>\n",
       "      <td>1.0</td>\n",
       "      <td>1.0</td>\n",
       "      <td>1.0</td>\n",
       "      <td>1.0</td>\n",
       "      <td>1.0</td>\n",
       "      <td>...</td>\n",
       "      <td>0.0</td>\n",
       "      <td>0.0</td>\n",
       "      <td>0.0</td>\n",
       "      <td>0.0</td>\n",
       "      <td>0.0</td>\n",
       "      <td>0.0</td>\n",
       "      <td>0.0</td>\n",
       "      <td>0.0</td>\n",
       "      <td>0.0</td>\n",
       "      <td>0.0</td>\n",
       "    </tr>\n",
       "    <tr>\n",
       "      <th>3</th>\n",
       "      <td>1.0</td>\n",
       "      <td>1.0</td>\n",
       "      <td>1.0</td>\n",
       "      <td>0.0</td>\n",
       "      <td>1.0</td>\n",
       "      <td>1.0</td>\n",
       "      <td>1.0</td>\n",
       "      <td>1.0</td>\n",
       "      <td>1.0</td>\n",
       "      <td>1.0</td>\n",
       "      <td>...</td>\n",
       "      <td>0.0</td>\n",
       "      <td>0.0</td>\n",
       "      <td>0.0</td>\n",
       "      <td>0.0</td>\n",
       "      <td>0.0</td>\n",
       "      <td>0.0</td>\n",
       "      <td>0.0</td>\n",
       "      <td>0.0</td>\n",
       "      <td>0.0</td>\n",
       "      <td>0.0</td>\n",
       "    </tr>\n",
       "    <tr>\n",
       "      <th>4</th>\n",
       "      <td>1.0</td>\n",
       "      <td>1.0</td>\n",
       "      <td>1.0</td>\n",
       "      <td>1.0</td>\n",
       "      <td>0.0</td>\n",
       "      <td>1.0</td>\n",
       "      <td>1.0</td>\n",
       "      <td>1.0</td>\n",
       "      <td>1.0</td>\n",
       "      <td>1.0</td>\n",
       "      <td>...</td>\n",
       "      <td>0.0</td>\n",
       "      <td>0.0</td>\n",
       "      <td>0.0</td>\n",
       "      <td>0.0</td>\n",
       "      <td>0.0</td>\n",
       "      <td>0.0</td>\n",
       "      <td>0.0</td>\n",
       "      <td>0.0</td>\n",
       "      <td>0.0</td>\n",
       "      <td>0.0</td>\n",
       "    </tr>\n",
       "    <tr>\n",
       "      <th>...</th>\n",
       "      <td>...</td>\n",
       "      <td>...</td>\n",
       "      <td>...</td>\n",
       "      <td>...</td>\n",
       "      <td>...</td>\n",
       "      <td>...</td>\n",
       "      <td>...</td>\n",
       "      <td>...</td>\n",
       "      <td>...</td>\n",
       "      <td>...</td>\n",
       "      <td>...</td>\n",
       "      <td>...</td>\n",
       "      <td>...</td>\n",
       "      <td>...</td>\n",
       "      <td>...</td>\n",
       "      <td>...</td>\n",
       "      <td>...</td>\n",
       "      <td>...</td>\n",
       "      <td>...</td>\n",
       "      <td>...</td>\n",
       "      <td>...</td>\n",
       "    </tr>\n",
       "    <tr>\n",
       "      <th>995</th>\n",
       "      <td>0.0</td>\n",
       "      <td>0.0</td>\n",
       "      <td>0.0</td>\n",
       "      <td>0.0</td>\n",
       "      <td>0.0</td>\n",
       "      <td>0.0</td>\n",
       "      <td>0.0</td>\n",
       "      <td>0.0</td>\n",
       "      <td>0.0</td>\n",
       "      <td>0.0</td>\n",
       "      <td>...</td>\n",
       "      <td>1.0</td>\n",
       "      <td>1.0</td>\n",
       "      <td>1.0</td>\n",
       "      <td>1.0</td>\n",
       "      <td>1.0</td>\n",
       "      <td>0.0</td>\n",
       "      <td>1.0</td>\n",
       "      <td>1.0</td>\n",
       "      <td>1.0</td>\n",
       "      <td>1.0</td>\n",
       "    </tr>\n",
       "    <tr>\n",
       "      <th>996</th>\n",
       "      <td>0.0</td>\n",
       "      <td>0.0</td>\n",
       "      <td>0.0</td>\n",
       "      <td>0.0</td>\n",
       "      <td>0.0</td>\n",
       "      <td>0.0</td>\n",
       "      <td>0.0</td>\n",
       "      <td>0.0</td>\n",
       "      <td>0.0</td>\n",
       "      <td>0.0</td>\n",
       "      <td>...</td>\n",
       "      <td>1.0</td>\n",
       "      <td>1.0</td>\n",
       "      <td>1.0</td>\n",
       "      <td>1.0</td>\n",
       "      <td>1.0</td>\n",
       "      <td>1.0</td>\n",
       "      <td>0.0</td>\n",
       "      <td>1.0</td>\n",
       "      <td>1.0</td>\n",
       "      <td>1.0</td>\n",
       "    </tr>\n",
       "    <tr>\n",
       "      <th>997</th>\n",
       "      <td>0.0</td>\n",
       "      <td>0.0</td>\n",
       "      <td>0.0</td>\n",
       "      <td>0.0</td>\n",
       "      <td>0.0</td>\n",
       "      <td>0.0</td>\n",
       "      <td>0.0</td>\n",
       "      <td>0.0</td>\n",
       "      <td>0.0</td>\n",
       "      <td>0.0</td>\n",
       "      <td>...</td>\n",
       "      <td>1.0</td>\n",
       "      <td>1.0</td>\n",
       "      <td>1.0</td>\n",
       "      <td>1.0</td>\n",
       "      <td>1.0</td>\n",
       "      <td>1.0</td>\n",
       "      <td>1.0</td>\n",
       "      <td>0.0</td>\n",
       "      <td>1.0</td>\n",
       "      <td>1.0</td>\n",
       "    </tr>\n",
       "    <tr>\n",
       "      <th>998</th>\n",
       "      <td>0.0</td>\n",
       "      <td>0.0</td>\n",
       "      <td>0.0</td>\n",
       "      <td>0.0</td>\n",
       "      <td>0.0</td>\n",
       "      <td>0.0</td>\n",
       "      <td>0.0</td>\n",
       "      <td>0.0</td>\n",
       "      <td>0.0</td>\n",
       "      <td>0.0</td>\n",
       "      <td>...</td>\n",
       "      <td>1.0</td>\n",
       "      <td>1.0</td>\n",
       "      <td>1.0</td>\n",
       "      <td>1.0</td>\n",
       "      <td>1.0</td>\n",
       "      <td>1.0</td>\n",
       "      <td>1.0</td>\n",
       "      <td>1.0</td>\n",
       "      <td>0.0</td>\n",
       "      <td>1.0</td>\n",
       "    </tr>\n",
       "    <tr>\n",
       "      <th>999</th>\n",
       "      <td>0.0</td>\n",
       "      <td>0.0</td>\n",
       "      <td>0.0</td>\n",
       "      <td>0.0</td>\n",
       "      <td>0.0</td>\n",
       "      <td>0.0</td>\n",
       "      <td>0.0</td>\n",
       "      <td>0.0</td>\n",
       "      <td>0.0</td>\n",
       "      <td>0.0</td>\n",
       "      <td>...</td>\n",
       "      <td>1.0</td>\n",
       "      <td>1.0</td>\n",
       "      <td>1.0</td>\n",
       "      <td>1.0</td>\n",
       "      <td>1.0</td>\n",
       "      <td>1.0</td>\n",
       "      <td>1.0</td>\n",
       "      <td>1.0</td>\n",
       "      <td>1.0</td>\n",
       "      <td>0.0</td>\n",
       "    </tr>\n",
       "  </tbody>\n",
       "</table>\n",
       "<p>1000 rows × 1000 columns</p>\n",
       "</div>"
      ],
      "text/plain": [
       "     0    1    2    3    4    5    6    7    8    9    ...  990  991  992   \n",
       "0    0.0  1.0  1.0  1.0  1.0  1.0  1.0  1.0  1.0  1.0  ...  0.0  0.0  0.0  \\\n",
       "1    1.0  0.0  1.0  1.0  1.0  1.0  1.0  1.0  1.0  1.0  ...  0.0  0.0  0.0   \n",
       "2    1.0  1.0  0.0  1.0  1.0  1.0  1.0  1.0  1.0  1.0  ...  0.0  0.0  0.0   \n",
       "3    1.0  1.0  1.0  0.0  1.0  1.0  1.0  1.0  1.0  1.0  ...  0.0  0.0  0.0   \n",
       "4    1.0  1.0  1.0  1.0  0.0  1.0  1.0  1.0  1.0  1.0  ...  0.0  0.0  0.0   \n",
       "..   ...  ...  ...  ...  ...  ...  ...  ...  ...  ...  ...  ...  ...  ...   \n",
       "995  0.0  0.0  0.0  0.0  0.0  0.0  0.0  0.0  0.0  0.0  ...  1.0  1.0  1.0   \n",
       "996  0.0  0.0  0.0  0.0  0.0  0.0  0.0  0.0  0.0  0.0  ...  1.0  1.0  1.0   \n",
       "997  0.0  0.0  0.0  0.0  0.0  0.0  0.0  0.0  0.0  0.0  ...  1.0  1.0  1.0   \n",
       "998  0.0  0.0  0.0  0.0  0.0  0.0  0.0  0.0  0.0  0.0  ...  1.0  1.0  1.0   \n",
       "999  0.0  0.0  0.0  0.0  0.0  0.0  0.0  0.0  0.0  0.0  ...  1.0  1.0  1.0   \n",
       "\n",
       "     993  994  995  996  997  998  999  \n",
       "0    0.0  0.0  0.0  0.0  0.0  0.0  0.0  \n",
       "1    0.0  0.0  0.0  0.0  0.0  0.0  0.0  \n",
       "2    0.0  0.0  0.0  0.0  0.0  0.0  0.0  \n",
       "3    0.0  0.0  0.0  0.0  0.0  0.0  0.0  \n",
       "4    0.0  0.0  0.0  0.0  0.0  0.0  0.0  \n",
       "..   ...  ...  ...  ...  ...  ...  ...  \n",
       "995  1.0  1.0  0.0  1.0  1.0  1.0  1.0  \n",
       "996  1.0  1.0  1.0  0.0  1.0  1.0  1.0  \n",
       "997  1.0  1.0  1.0  1.0  0.0  1.0  1.0  \n",
       "998  1.0  1.0  1.0  1.0  1.0  0.0  1.0  \n",
       "999  1.0  1.0  1.0  1.0  1.0  1.0  0.0  \n",
       "\n",
       "[1000 rows x 1000 columns]"
      ]
     },
     "execution_count": 8,
     "metadata": {},
     "output_type": "execute_result"
    }
   ],
   "source": [
    "from math import radians, cos, sin, asin, sqrt\n",
    "\n",
    "def haversine(lon1, lat1, lon2, lat2):\n",
    "    \"\"\"\n",
    "    Calculate the great circle distance in kilometers between two points\n",
    "    on the earth (specified in decimal degrees)\n",
    "    \"\"\"\n",
    "    # convert decimal degrees to radians\n",
    "    lon1, lat1, lon2, lat2 = map(radians, [lon1, lat1, lon2, lat2])\n",
    "\n",
    "    # haversine formula\n",
    "    dlon = lon2 - lon1\n",
    "    dlat = lat2 - lat1\n",
    "    a = sin(dlat/2)**2 + cos(lat1) * cos(lat2) * sin(dlon/2)**2\n",
    "    c = 2 * asin(sqrt(a))\n",
    "    r = 6371 # Radius of earth in kilometers. Use 3956 for miles. Determines return value units.\n",
    "    return c * r\n",
    "\n",
    "distance = np.zeros(shape=(100,100))\n",
    "dist = []\n",
    "for i in range(100):\n",
    "    for j in range(100):\n",
    "        d = haversine(location.iloc[i][1], location.iloc[i][0], location.iloc[j][1], location.iloc[j][0])\n",
    "        distance[i][j] = d\n",
    "        dist.append(d)\n",
    "\n",
    "dist_std = np.std(dist)\n",
    "distance = pd.DataFrame(distance)\n",
    "\n",
    "# epsilon = 0, 0.25, 0.5, 0.75, 1\n",
    "epsilon = 0.5\n",
    "sigma = dist_std\n",
    "W = np.zeros(shape=(1000,1000))\n",
    "\n",
    "for i in range(1000):\n",
    "    for j in range(1000):\n",
    "        if i == j:\n",
    "            W[i][j] = 0\n",
    "        else:\n",
    "            # Compute distance between stations\n",
    "            d_ij = distance.loc[i%100][j%100]\n",
    "\n",
    "            # Compute weight w_ij\n",
    "            w_ij = np.exp(-d_ij**2 / sigma**2)\n",
    "\n",
    "            if w_ij >= epsilon:\n",
    "                W[i, j] = 1\n",
    "\n",
    "W = pd.DataFrame(W)\n",
    "W"
   ]
  },
  {
   "cell_type": "code",
   "execution_count": 8,
   "metadata": {
    "id": "XJVCyvio8sE0"
   },
   "outputs": [],
   "source": [
    "data = torch.FloatTensor(120, 100)\n",
    "N = 24*30\n",
    "for i in range(120):\n",
    "  for j in range(100):\n",
    "    # avg = np.mean(x.iloc[i*N:(i+1)*N, j])\n",
    "    # data[i][j] = avg\n",
    "    M = x.iloc[i*N:(i+1)*N, j].to_numpy()\n",
    "    data[i][j] = M[M!=0].mean()\n",
    "\n",
    "data = data*100"
   ]
  },
  {
   "cell_type": "code",
   "execution_count": 9,
   "metadata": {},
   "outputs": [],
   "source": [
    "data = torch.FloatTensor(120, 1000)\n",
    "N = 24*30\n",
    "for i in range(120):\n",
    "  for j in range(1000):\n",
    "    # avg = np.mean(x.iloc[i*N:(i+1)*N, j])\n",
    "    # data[i][j] = avg\n",
    "    M = df_duplicated.iloc[i*N:(i+1)*N, j].to_numpy()\n",
    "    data[i][j] = M[M!=0].mean()\n",
    "\n",
    "data = data*100"
   ]
  },
  {
   "cell_type": "code",
   "execution_count": 27,
   "metadata": {},
   "outputs": [],
   "source": [
    "data = torch.FloatTensor(7200, 100)\n",
    "N = 12\n",
    "for i in range(7200):\n",
    "  for j in range(100):\n",
    "    # avg = np.mean(x.iloc[i*N:(i+1)*N, j])\n",
    "    # data[i][j] = avg\n",
    "    M = x.iloc[i*N:(i+1)*N, j].to_numpy()\n",
    "    data[i][j] = M[M!=0].mean()\n",
    "\n",
    "data = data*100"
   ]
  },
  {
   "cell_type": "code",
   "execution_count": 13,
   "metadata": {
    "colab": {
     "base_uri": "https://localhost:8080/"
    },
    "id": "rJNMBBZb8sN5",
    "outputId": "fb73ec9e-0777-4e47-f552-054569d1e733"
   },
   "outputs": [
    {
     "data": {
      "text/plain": [
       "tensor(62.1814)"
      ]
     },
     "execution_count": 13,
     "metadata": {},
     "output_type": "execute_result"
    }
   ],
   "source": [
    "x = data.T\n",
    "A = W\n",
    "G = sp.coo_matrix(A)\n",
    "edge_index = torch.tensor(np.array([G.row, G.col]), dtype=torch.int64)\n",
    "edge_weight = torch.tensor(G.data).float()\n",
    "torch.max(x)"
   ]
  },
  {
   "cell_type": "code",
   "execution_count": 10,
   "metadata": {},
   "outputs": [
    {
     "data": {
      "text/plain": [
       "torch.Size([100, 120])"
      ]
     },
     "execution_count": 10,
     "metadata": {},
     "output_type": "execute_result"
    }
   ],
   "source": [
    "x.shape"
   ]
  },
  {
   "cell_type": "code",
   "execution_count": 10,
   "metadata": {
    "colab": {
     "base_uri": "https://localhost:8080/"
    },
    "id": "UTqZyRmo8wPe",
    "outputId": "aa1f4f67-5f48-4dda-c43a-8b1b605e4157"
   },
   "outputs": [
    {
     "name": "stdout",
     "output_type": "stream",
     "text": [
      "GCN(\n",
      "  (conv1): ChebConv(120, 60, K=1, normalization=sym)\n",
      "  (conv2): GATConv(60, 30, heads=1)\n",
      "  (conv3): ChebConv(30, 60, K=1, normalization=sym)\n",
      "  (conv4): GATConv(60, 120, heads=1)\n",
      "  (conv5): ChebConv(120, 60, K=1, normalization=sym)\n",
      "  (conv6): GATConv(60, 30, heads=1)\n",
      "  (conv7): ChebConv(30, 60, K=1, normalization=sym)\n",
      "  (conv8): GATConv(60, 120, heads=1)\n",
      ")\n"
     ]
    }
   ],
   "source": [
    "import torch\n",
    "from torch.nn import Linear\n",
    "from torch_geometric.nn import GATConv, GATv2Conv, GCNConv, TransformerConv, AGNNConv, FusedGATConv, ChebConv, SAGEConv, GraphConv, CuGraphGATConv, TAGConv, GMMConv\n",
    "from scipy.stats import linregress\n",
    "\n",
    "class GCN(torch.nn.Module):\n",
    "  def __init__(self):\n",
    "    super(GCN, self).__init__()\n",
    "    torch.manual_seed(42)\n",
    "\n",
    "    self.conv1 = ChebConv(120, 60, 1)\n",
    "    self.conv2 = GATConv(60, 30)\n",
    "    self.conv3 = ChebConv(30, 60, 1)\n",
    "    self.conv4 = GATConv(60, 120)\n",
    "\n",
    "    self.conv5 = ChebConv(120, 60, 1)\n",
    "    self.conv6 = GATConv(60, 30)\n",
    "    self.conv7 = ChebConv(30, 60, 1)\n",
    "    self.conv8 = GATConv(60, 120)\n",
    "\n",
    "\n",
    "  def forward(self, x, edge_index):\n",
    "\n",
    "\n",
    "    h_1 = self.conv1(x, edge_index)\n",
    "    h_2 = self.conv2(h_1, edge_index)\n",
    "    h_3 = self.conv3(h_2, edge_index)\n",
    "    h_a = self.conv4(h_3, edge_index)\n",
    "\n",
    "\n",
    "    h_5 = self.conv5(x, edge_index)\n",
    "    h_6 = self.conv6(h_5, edge_index)\n",
    "    h_7 = self.conv7(h_6, edge_index)\n",
    "    h_f = self.conv8(h_7, edge_index)\n",
    "\n",
    "    return h_a, h_f\n",
    "\n",
    "model = GCN()\n",
    "print(model)"
   ]
  },
  {
   "cell_type": "code",
   "execution_count": 11,
   "metadata": {},
   "outputs": [
    {
     "name": "stdout",
     "output_type": "stream",
     "text": [
      "GCN(\n",
      "  (conv1): GATConv(120, 60, heads=1)\n",
      "  (conv2): GATConv(60, 120, heads=1)\n",
      "  (conv3): GATConv(120, 60, heads=1)\n",
      "  (conv4): GATConv(60, 120, heads=1)\n",
      ")\n"
     ]
    }
   ],
   "source": [
    "import torch\n",
    "from torch.nn import Linear\n",
    "from torch_geometric.nn import GATConv, GATv2Conv, GCNConv, TransformerConv, AGNNConv, FusedGATConv, ChebConv, SAGEConv, GraphConv, CuGraphGATConv, TAGConv, GMMConv\n",
    "from scipy.stats import linregress\n",
    "\n",
    "class GCN(torch.nn.Module):\n",
    "  def __init__(self):\n",
    "    super(GCN, self).__init__()\n",
    "    torch.manual_seed(42)\n",
    "\n",
    "    self.conv1 = GATConv(120, 60)\n",
    "    self.conv2 = GATConv(60, 120)\n",
    "    self.conv3 = GATConv(120, 60)\n",
    "    self.conv4 = GATConv(60, 120)\n",
    "\n",
    "\n",
    "  def forward(self, x, edge_index):\n",
    "\n",
    "\n",
    "    h_1 = self.conv1(x, edge_index)\n",
    "    h_a = self.conv2(h_1, edge_index)\n",
    "\n",
    "\n",
    "    h_2 = self.conv3(x, edge_index)\n",
    "    h_f = self.conv4(h_2, edge_index)\n",
    "\n",
    "    return h_a, h_f\n",
    "\n",
    "model = GCN()\n",
    "print(model)"
   ]
  },
  {
   "cell_type": "code",
   "execution_count": 12,
   "metadata": {
    "colab": {
     "base_uri": "https://localhost:8080/"
    },
    "id": "L-NVdyxW_Cs2",
    "outputId": "4c83bce1-f88f-4d3d-e899-e2dc80fec114"
   },
   "outputs": [
    {
     "name": "stdout",
     "output_type": "stream",
     "text": [
      "GCN(\n",
      "  (conv1): ChebConv(\n",
      "    (linear): Linear(in_features=120, out_features=60, bias=True)\n",
      "  )\n",
      "  (conv2): GATConv(\n",
      "    (fc): Linear(in_features=60, out_features=30, bias=False)\n",
      "    (feat_drop): Dropout(p=0.0, inplace=False)\n",
      "    (attn_drop): Dropout(p=0.0, inplace=False)\n",
      "    (leaky_relu): LeakyReLU(negative_slope=0.2)\n",
      "  )\n",
      "  (conv3): ChebConv(\n",
      "    (linear): Linear(in_features=30, out_features=60, bias=True)\n",
      "  )\n",
      "  (conv4): GATConv(\n",
      "    (fc): Linear(in_features=60, out_features=120, bias=False)\n",
      "    (feat_drop): Dropout(p=0.0, inplace=False)\n",
      "    (attn_drop): Dropout(p=0.0, inplace=False)\n",
      "    (leaky_relu): LeakyReLU(negative_slope=0.2)\n",
      "  )\n",
      "  (conv5): ChebConv(\n",
      "    (linear): Linear(in_features=120, out_features=60, bias=True)\n",
      "  )\n",
      "  (conv6): GATConv(\n",
      "    (fc): Linear(in_features=60, out_features=30, bias=False)\n",
      "    (feat_drop): Dropout(p=0.0, inplace=False)\n",
      "    (attn_drop): Dropout(p=0.0, inplace=False)\n",
      "    (leaky_relu): LeakyReLU(negative_slope=0.2)\n",
      "  )\n",
      "  (conv7): ChebConv(\n",
      "    (linear): Linear(in_features=30, out_features=60, bias=True)\n",
      "  )\n",
      "  (conv8): GATConv(\n",
      "    (fc): Linear(in_features=60, out_features=120, bias=False)\n",
      "    (feat_drop): Dropout(p=0.0, inplace=False)\n",
      "    (attn_drop): Dropout(p=0.0, inplace=False)\n",
      "    (leaky_relu): LeakyReLU(negative_slope=0.2)\n",
      "  )\n",
      ")\n"
     ]
    }
   ],
   "source": [
    "import torch\n",
    "import torch.nn as nn\n",
    "import dgl\n",
    "from dgl.nn.pytorch import ChebConv, GATConv\n",
    "\n",
    "class GCN(nn.Module):\n",
    "    def __init__(self):\n",
    "        super(GCN, self).__init__()\n",
    "        torch.manual_seed(42)\n",
    "\n",
    "        self.conv1 = ChebConv(120, 60, 1)\n",
    "        self.conv2 = GATConv(60, 30, 1)\n",
    "        self.conv3 = ChebConv(30, 60, 1)\n",
    "        self.conv4 = GATConv(60, 120, 1)\n",
    "\n",
    "        self.conv5 = ChebConv(120, 60, 1)\n",
    "        self.conv6 = GATConv(60, 30, 1)\n",
    "        self.conv7 = ChebConv(30, 60, 1)\n",
    "        self.conv8 = GATConv(60, 120, 1)\n",
    "\n",
    "    def forward(self, g, x):\n",
    "        h_1 = self.conv1(g, x)\n",
    "        h_2 = self.conv2(g, h_1)\n",
    "        h_3 = self.conv3(g, h_2)\n",
    "        h_a = self.conv4(g, h_3)\n",
    "\n",
    "        h_5 = self.conv5(g, x)\n",
    "        h_6 = self.conv6(g, h_5)\n",
    "        h_7 = self.conv7(g, h_6)\n",
    "        h_f = self.conv8(g, h_7)\n",
    "\n",
    "        return h_a, h_f\n",
    "\n",
    "model = GCN()\n",
    "print(model)"
   ]
  },
  {
   "cell_type": "code",
   "execution_count": 21,
   "metadata": {
    "colab": {
     "base_uri": "https://localhost:8080/"
    },
    "id": "dzOWwsiOKAy5",
    "outputId": "1484b1b6-4f10-4e23-a6ed-1feff567f2af"
   },
   "outputs": [
    {
     "name": "stdout",
     "output_type": "stream",
     "text": [
      "GCN(\n",
      "  (conv1): GATConv(\n",
      "    (fc): Linear(in_features=120, out_features=60, bias=False)\n",
      "    (feat_drop): Dropout(p=0.0, inplace=False)\n",
      "    (attn_drop): Dropout(p=0.0, inplace=False)\n",
      "    (leaky_relu): LeakyReLU(negative_slope=0.2)\n",
      "  )\n",
      "  (conv2): GATConv(\n",
      "    (fc): Linear(in_features=60, out_features=120, bias=False)\n",
      "    (feat_drop): Dropout(p=0.0, inplace=False)\n",
      "    (attn_drop): Dropout(p=0.0, inplace=False)\n",
      "    (leaky_relu): LeakyReLU(negative_slope=0.2)\n",
      "  )\n",
      "  (conv3): GATConv(\n",
      "    (fc): Linear(in_features=120, out_features=60, bias=False)\n",
      "    (feat_drop): Dropout(p=0.0, inplace=False)\n",
      "    (attn_drop): Dropout(p=0.0, inplace=False)\n",
      "    (leaky_relu): LeakyReLU(negative_slope=0.2)\n",
      "  )\n",
      "  (conv4): GATConv(\n",
      "    (fc): Linear(in_features=60, out_features=120, bias=False)\n",
      "    (feat_drop): Dropout(p=0.0, inplace=False)\n",
      "    (attn_drop): Dropout(p=0.0, inplace=False)\n",
      "    (leaky_relu): LeakyReLU(negative_slope=0.2)\n",
      "  )\n",
      ")\n"
     ]
    }
   ],
   "source": [
    "import torch\n",
    "import torch.nn as nn\n",
    "import dgl\n",
    "from dgl.nn.pytorch import ChebConv, GATConv, DotGatConv\n",
    "\n",
    "class GCN(nn.Module):\n",
    "    def __init__(self):\n",
    "        super(GCN, self).__init__()\n",
    "        torch.manual_seed(42)\n",
    "\n",
    "        self.conv1 = GATConv(120, 60, 1)\n",
    "        self.conv2 = GATConv(60, 120, 1)\n",
    "        self.conv3 = GATConv(120, 60, 1)\n",
    "        self.conv4 = GATConv(60, 120, 1)\n",
    "\n",
    "    def forward(self, blocks, x):\n",
    "        h_1 = self.conv1(blocks[0], x)\n",
    "        h_a = self.conv2(blocks[1], h_1)\n",
    "        h_2 = self.conv3(blocks[0], x)\n",
    "        h_f = self.conv4(blocks[1], h_2)\n",
    "\n",
    "        return h_a, h_f\n",
    "\n",
    "model = GCN()\n",
    "print(model)\n"
   ]
  },
  {
   "cell_type": "code",
   "execution_count": 50,
   "metadata": {},
   "outputs": [
    {
     "name": "stdout",
     "output_type": "stream",
     "text": [
      "Model(\n",
      "  (conv1): ChebConv(\n",
      "    (linear): Linear(in_features=120, out_features=60, bias=True)\n",
      "  )\n",
      "  (conv2): GATConv(\n",
      "    (fc): Linear(in_features=60, out_features=30, bias=False)\n",
      "    (feat_drop): Dropout(p=0.0, inplace=False)\n",
      "    (attn_drop): Dropout(p=0.0, inplace=False)\n",
      "    (leaky_relu): LeakyReLU(negative_slope=0.2)\n",
      "  )\n",
      "  (conv3): ChebConv(\n",
      "    (linear): Linear(in_features=30, out_features=60, bias=True)\n",
      "  )\n",
      "  (conv4): GATConv(\n",
      "    (fc): Linear(in_features=60, out_features=120, bias=False)\n",
      "    (feat_drop): Dropout(p=0.0, inplace=False)\n",
      "    (attn_drop): Dropout(p=0.0, inplace=False)\n",
      "    (leaky_relu): LeakyReLU(negative_slope=0.2)\n",
      "  )\n",
      "  (conv5): ChebConv(\n",
      "    (linear): Linear(in_features=120, out_features=60, bias=True)\n",
      "  )\n",
      "  (conv6): GATConv(\n",
      "    (fc): Linear(in_features=60, out_features=30, bias=False)\n",
      "    (feat_drop): Dropout(p=0.0, inplace=False)\n",
      "    (attn_drop): Dropout(p=0.0, inplace=False)\n",
      "    (leaky_relu): LeakyReLU(negative_slope=0.2)\n",
      "  )\n",
      "  (conv7): ChebConv(\n",
      "    (linear): Linear(in_features=30, out_features=60, bias=True)\n",
      "  )\n",
      "  (conv8): GATConv(\n",
      "    (fc): Linear(in_features=60, out_features=120, bias=False)\n",
      "    (feat_drop): Dropout(p=0.0, inplace=False)\n",
      "    (attn_drop): Dropout(p=0.0, inplace=False)\n",
      "    (leaky_relu): LeakyReLU(negative_slope=0.2)\n",
      "  )\n",
      ")\n"
     ]
    }
   ],
   "source": [
    "import torch\n",
    "import torch.nn as nn\n",
    "import dgl\n",
    "from dgl.nn.pytorch import ChebConv, GATConv, GraphConv\n",
    "\n",
    "class Model(nn.Module):\n",
    "    def __init__(self):\n",
    "        super(Model, self).__init__()\n",
    "        torch.manual_seed(42)\n",
    "\n",
    "        self.conv1 = ChebConv(120, 60, 1)\n",
    "        self.conv2 = GATConv(60, 30, 1)\n",
    "        self.conv3 = ChebConv(30, 60, 1)\n",
    "        self.conv4 = GATConv(60, 120, 1)\n",
    "\n",
    "        self.conv5 = ChebConv(120, 60, 1)\n",
    "        self.conv6 = GATConv(60, 30, 1)\n",
    "        self.conv7 = ChebConv(30, 60, 1)\n",
    "        self.conv8 = GATConv(60, 120, 1)\n",
    "\n",
    "    def forward(self, g, in_feat):\n",
    "        # h_1 = self.conv1(g, in_feat)\n",
    "        \n",
    "        # h_a = self.conv2(g, h_1).relu()\n",
    "        # h_2 = self.conv3(g, in_feat)\n",
    "        # h_f = self.conv4(g, h_2).relu()\n",
    "\n",
    "        h_1 = self.conv1(g, x)\n",
    "        h_2 = self.conv2(g, h_1).relu()\n",
    "        h_3 = self.conv3(g, h_2)\n",
    "        h_a = self.conv4(g, h_3).relu()\n",
    "\n",
    "        h_5 = self.conv5(g, x)\n",
    "        h_6 = self.conv6(g, h_5).relu()\n",
    "        h_7 = self.conv7(g, h_6)\n",
    "        h_f = self.conv8(g, h_7).relu()\n",
    "\n",
    "\n",
    "        return h_a, h_f\n",
    "\n",
    "model = Model()\n",
    "print(model)"
   ]
  },
  {
   "cell_type": "code",
   "execution_count": null,
   "metadata": {},
   "outputs": [],
   "source": [
    "import torch\n",
    "import torch.nn as nn\n",
    "import dgl\n",
    "from dgl.nn.pytorch import ChebConv, GATConv, GraphConv\n",
    "\n",
    "class GCN(nn.Module):\n",
    "    def __init__(self, in_feats, h_feats, num_classes):\n",
    "        super(GCN, self).__init__()\n",
    "        self.conv1 = GATConv(120, 60, 1)\n",
    "        self.conv2 = GATConv(60, 120, 1)\n",
    "        self.conv3 = GATConv(120, 60, 1)\n",
    "        self.conv4 = GATConv(60, 120, 1)\n",
    "\n",
    "    def forward(self, g, in_feat):\n",
    "        h = self.conv1(g, in_feat)\n",
    "        h = F.relu(h)\n",
    "        h = self.conv2(g, h)\n",
    "        return h\n",
    "\n",
    "\n",
    "# Create the model with given dimensions\n",
    "model = GCN(g.ndata[\"feat\"].shape[1], 16, dataset.num_classes)\n"
   ]
  },
  {
   "cell_type": "code",
   "execution_count": 16,
   "metadata": {},
   "outputs": [
    {
     "name": "stdout",
     "output_type": "stream",
     "text": [
      "\u001b[33mWARNING: Ignoring invalid distribution -upy-cuda12x (/home/rxf131/ondemand/ubuntu2204/python310)\u001b[0m\u001b[33m\n",
      "\u001b[0m\u001b[33mWARNING: Ignoring invalid distribution -dlefleets (/home/rxf131/ondemand/ubuntu2204/python310)\u001b[0m\u001b[33m\n",
      "\u001b[0m\u001b[33mWARNING: Ignoring invalid distribution -upy-cuda12x (/home/rxf131/ondemand/ubuntu2204/python310)\u001b[0m\u001b[33m\n",
      "\u001b[0m\u001b[33mWARNING: Ignoring invalid distribution -dlefleets (/home/rxf131/ondemand/ubuntu2204/python310)\u001b[0m\u001b[33m\n",
      "\u001b[0m\u001b[31mERROR: Could not find a version that satisfies the requirement dgl-cpu (from versions: none)\u001b[0m\u001b[31m\n",
      "\u001b[0m\u001b[31mERROR: No matching distribution found for dgl-cpu\u001b[0m\u001b[31m\n",
      "\u001b[0m\u001b[33mWARNING: Ignoring invalid distribution -upy-cuda12x (/home/rxf131/ondemand/ubuntu2204/python310)\u001b[0m\u001b[33m\n",
      "\u001b[0m\u001b[33mWARNING: Ignoring invalid distribution -dlefleets (/home/rxf131/ondemand/ubuntu2204/python310)\u001b[0m\u001b[33m\n",
      "\u001b[0m\u001b[33mWARNING: Ignoring invalid distribution -upy-cuda12x (/home/rxf131/ondemand/ubuntu2204/python310)\u001b[0m\u001b[33m\n",
      "\u001b[0m\u001b[33mWARNING: Ignoring invalid distribution -dlefleets (/home/rxf131/ondemand/ubuntu2204/python310)\u001b[0m\u001b[33m\n",
      "\u001b[0m\u001b[33mWARNING: Ignoring invalid distribution -upy-cuda12x (/home/rxf131/ondemand/ubuntu2204/python310)\u001b[0m\u001b[33m\n",
      "\u001b[0m\u001b[33mWARNING: Ignoring invalid distribution -dlefleets (/home/rxf131/ondemand/ubuntu2204/python310)\u001b[0m\u001b[33m\n",
      "\u001b[0m\n",
      "\u001b[1m[\u001b[0m\u001b[34;49mnotice\u001b[0m\u001b[1;39;49m]\u001b[0m\u001b[39;49m A new release of pip available: \u001b[0m\u001b[31;49m22.3.1\u001b[0m\u001b[39;49m -> \u001b[0m\u001b[32;49m23.3.2\u001b[0m\n",
      "\u001b[1m[\u001b[0m\u001b[34;49mnotice\u001b[0m\u001b[1;39;49m]\u001b[0m\u001b[39;49m To update, run: \u001b[0m\u001b[32;49mpython3 -m pip install --upgrade pip\u001b[0m\n",
      "Note: you may need to restart the kernel to use updated packages.\n"
     ]
    }
   ],
   "source": [
    "pip install dgl-cpu"
   ]
  },
  {
   "cell_type": "code",
   "execution_count": 18,
   "metadata": {},
   "outputs": [
    {
     "name": "stdout",
     "output_type": "stream",
     "text": [
      "\u001b[33mWARNING: Ignoring invalid distribution -upy-cuda12x (/home/rxf131/ondemand/ubuntu2204/python310)\u001b[0m\u001b[33m\n",
      "\u001b[0m\u001b[33mWARNING: Ignoring invalid distribution -dlefleets (/home/rxf131/ondemand/ubuntu2204/python310)\u001b[0m\u001b[33m\n",
      "\u001b[0m\u001b[33mWARNING: Ignoring invalid distribution -upy-cuda12x (/home/rxf131/ondemand/ubuntu2204/python310)\u001b[0m\u001b[33m\n",
      "\u001b[0m\u001b[33mWARNING: Ignoring invalid distribution -dlefleets (/home/rxf131/ondemand/ubuntu2204/python310)\u001b[0m\u001b[33m\n",
      "\u001b[0mFound existing installation: dgl 2.0.0\n",
      "Uninstalling dgl-2.0.0:\n",
      "  Would remove:\n",
      "    /home/rxf131/ondemand/ubuntu2204/python310/dgl-2.0.0.dist-info/*\n",
      "    /home/rxf131/ondemand/ubuntu2204/python310/dgl/*\n",
      "  Would not remove (might be manually added):\n",
      "    /home/rxf131/ondemand/ubuntu2204/python310/dgl/network.py\n",
      "Proceed (Y/n)? ^C\n",
      "\u001b[31mERROR: Operation cancelled by user\u001b[0m\u001b[31m\n",
      "\u001b[0mNote: you may need to restart the kernel to use updated packages.\n"
     ]
    }
   ],
   "source": [
    "pip uninstall dgl "
   ]
  },
  {
   "cell_type": "code",
   "execution_count": 7,
   "metadata": {},
   "outputs": [
    {
     "name": "stdout",
     "output_type": "stream",
     "text": [
      "\u001b[33mWARNING: Ignoring invalid distribution -upy-cuda12x (/home/rxf131/ondemand/ubuntu2204/python310)\u001b[0m\u001b[33m\n",
      "\u001b[0m\u001b[33mWARNING: Ignoring invalid distribution -dlefleets (/home/rxf131/ondemand/ubuntu2204/python310)\u001b[0m\u001b[33m\n",
      "\u001b[0m\u001b[33mWARNING: Ignoring invalid distribution -upy-cuda12x (/home/rxf131/ondemand/ubuntu2204/python310)\u001b[0m\u001b[33m\n",
      "\u001b[0m\u001b[33mWARNING: Ignoring invalid distribution -dlefleets (/home/rxf131/ondemand/ubuntu2204/python310)\u001b[0m\u001b[33m\n",
      "\u001b[0mLooking in links: https://data.dgl.ai/wheels/repo.html\n",
      "Requirement already satisfied: dgl in /home/rxf131/ondemand/ubuntu2204/python310 (2.0.0)\n",
      "Requirement already satisfied: numpy>=1.14.0 in /home/rxf131/ondemand/ubuntu2204/python310 (from dgl) (1.26.3)\n",
      "Requirement already satisfied: torchdata>=0.5.0 in /home/rxf131/ondemand/ubuntu2204/python310 (from dgl) (0.7.1)\n",
      "Requirement already satisfied: psutil>=5.8.0 in /home/rxf131/ondemand/ubuntu2204/python310 (from dgl) (5.9.8)\n",
      "Requirement already satisfied: tqdm in /home/rxf131/ondemand/ubuntu2204/python310 (from dgl) (4.66.1)\n",
      "Requirement already satisfied: scipy>=1.1.0 in /home/rxf131/ondemand/ubuntu2204/python310 (from dgl) (1.12.0)\n",
      "Requirement already satisfied: networkx>=2.1 in /home/rxf131/ondemand/ubuntu2204/python310 (from dgl) (3.2.1)\n",
      "Requirement already satisfied: requests>=2.19.0 in /home/rxf131/ondemand/ubuntu2204/python310 (from dgl) (2.31.0)\n",
      "Requirement already satisfied: charset-normalizer<4,>=2 in /home/rxf131/ondemand/ubuntu2204/python310 (from requests>=2.19.0->dgl) (3.3.2)\n",
      "Requirement already satisfied: idna<4,>=2.5 in /home/rxf131/ondemand/ubuntu2204/python310 (from requests>=2.19.0->dgl) (3.6)\n",
      "Requirement already satisfied: urllib3<3,>=1.21.1 in /home/rxf131/ondemand/ubuntu2204/python310 (from requests>=2.19.0->dgl) (2.2.0)\n",
      "Requirement already satisfied: certifi>=2017.4.17 in /home/rxf131/ondemand/ubuntu2204/python310 (from requests>=2.19.0->dgl) (2023.11.17)\n",
      "Requirement already satisfied: torch>=2 in /home/rxf131/ondemand/ubuntu2204/python310 (from torchdata>=0.5.0->dgl) (2.2.0)\n",
      "Collecting nvidia-cusparse-cu12==12.1.0.106\n",
      "  Using cached nvidia_cusparse_cu12-12.1.0.106-py3-none-manylinux1_x86_64.whl (196.0 MB)\n",
      "Collecting nvidia-cublas-cu12==12.1.3.1\n",
      "  Using cached nvidia_cublas_cu12-12.1.3.1-py3-none-manylinux1_x86_64.whl (410.6 MB)\n",
      "Requirement already satisfied: typing-extensions>=4.8.0 in /home/rxf131/ondemand/ubuntu2204/python310 (from torch>=2->torchdata>=0.5.0->dgl) (4.9.0)\n",
      "Collecting nvidia-cuda-nvrtc-cu12==12.1.105\n",
      "  Using cached nvidia_cuda_nvrtc_cu12-12.1.105-py3-none-manylinux1_x86_64.whl (23.7 MB)\n",
      "Collecting nvidia-curand-cu12==10.3.2.106\n",
      "  Using cached nvidia_curand_cu12-10.3.2.106-py3-none-manylinux1_x86_64.whl (56.5 MB)\n",
      "Requirement already satisfied: triton==2.2.0 in /home/rxf131/ondemand/ubuntu2204/python310 (from torch>=2->torchdata>=0.5.0->dgl) (2.2.0)\n",
      "Collecting nvidia-cuda-runtime-cu12==12.1.105\n",
      "  Using cached nvidia_cuda_runtime_cu12-12.1.105-py3-none-manylinux1_x86_64.whl (823 kB)\n",
      "Collecting nvidia-cuda-cupti-cu12==12.1.105\n",
      "  Using cached nvidia_cuda_cupti_cu12-12.1.105-py3-none-manylinux1_x86_64.whl (14.1 MB)\n",
      "Requirement already satisfied: filelock in /home/rxf131/ondemand/ubuntu2204/python310 (from torch>=2->torchdata>=0.5.0->dgl) (3.13.1)\n",
      "Requirement already satisfied: jinja2 in /home/rxf131/ondemand/ubuntu2204/python310 (from torch>=2->torchdata>=0.5.0->dgl) (3.1.3)\n",
      "Requirement already satisfied: nvidia-nvtx-cu12==12.1.105 in /home/rxf131/ondemand/ubuntu2204/python310 (from torch>=2->torchdata>=0.5.0->dgl) (12.1.105)\n",
      "Requirement already satisfied: nvidia-nccl-cu12==2.19.3 in /home/rxf131/ondemand/ubuntu2204/python310 (from torch>=2->torchdata>=0.5.0->dgl) (2.19.3)\n",
      "Collecting nvidia-cusolver-cu12==11.4.5.107\n",
      "  Using cached nvidia_cusolver_cu12-11.4.5.107-py3-none-manylinux1_x86_64.whl (124.2 MB)\n",
      "Collecting nvidia-cufft-cu12==11.0.2.54\n",
      "  Using cached nvidia_cufft_cu12-11.0.2.54-py3-none-manylinux1_x86_64.whl (121.6 MB)\n",
      "Collecting nvidia-cudnn-cu12==8.9.2.26\n",
      "  Using cached nvidia_cudnn_cu12-8.9.2.26-py3-none-manylinux1_x86_64.whl (731.7 MB)\n",
      "Requirement already satisfied: sympy in /home/rxf131/ondemand/ubuntu2204/python310 (from torch>=2->torchdata>=0.5.0->dgl) (1.12)\n",
      "Requirement already satisfied: fsspec in /home/rxf131/ondemand/ubuntu2204/python310 (from torch>=2->torchdata>=0.5.0->dgl) (2023.12.2)\n",
      "Requirement already satisfied: nvidia-nvjitlink-cu12 in /home/rxf131/ondemand/ubuntu2204/python310 (from nvidia-cusolver-cu12==11.4.5.107->torch>=2->torchdata>=0.5.0->dgl) (12.3.101)\n",
      "Requirement already satisfied: MarkupSafe>=2.0 in /home/rxf131/ondemand/ubuntu2204/python310 (from jinja2->torch>=2->torchdata>=0.5.0->dgl) (2.1.4)\n",
      "Requirement already satisfied: mpmath>=0.19 in /home/rxf131/ondemand/ubuntu2204/python310 (from sympy->torch>=2->torchdata>=0.5.0->dgl) (1.3.0)\n",
      "\u001b[33mWARNING: Ignoring invalid distribution -upy-cuda12x (/home/rxf131/ondemand/ubuntu2204/python310)\u001b[0m\u001b[33m\n",
      "\u001b[0m\u001b[33mWARNING: Ignoring invalid distribution -dlefleets (/home/rxf131/ondemand/ubuntu2204/python310)\u001b[0m\u001b[33m\n",
      "\u001b[0mInstalling collected packages: nvidia-cusparse-cu12, nvidia-curand-cu12, nvidia-cufft-cu12, nvidia-cuda-runtime-cu12, nvidia-cuda-nvrtc-cu12, nvidia-cuda-cupti-cu12, nvidia-cublas-cu12, nvidia-cusolver-cu12, nvidia-cudnn-cu12\n",
      "  Attempting uninstall: nvidia-cusparse-cu12\n",
      "\u001b[33m    WARNING: Ignoring invalid distribution -upy-cuda12x (/home/rxf131/ondemand/ubuntu2204/python310)\u001b[0m\u001b[33m\n",
      "\u001b[0m\u001b[33m    WARNING: Ignoring invalid distribution -dlefleets (/home/rxf131/ondemand/ubuntu2204/python310)\u001b[0m\u001b[33m\n",
      "\u001b[0m    Found existing installation: nvidia-cusparse-cu12 12.1.2.141\n",
      "    Uninstalling nvidia-cusparse-cu12-12.1.2.141:\n",
      "\u001b[31mERROR: Could not install packages due to an OSError: [Errno 13] Permission denied: '/home/rxf131/ondemand/ubuntu2204/python310/nvidia/__init__.py'\n",
      "Consider using the `--user` option or check the permissions.\n",
      "\u001b[0m\u001b[31m\n",
      "\u001b[0m\u001b[33mWARNING: Ignoring invalid distribution -upy-cuda12x (/home/rxf131/ondemand/ubuntu2204/python310)\u001b[0m\u001b[33m\n",
      "\u001b[0m\u001b[33mWARNING: Ignoring invalid distribution -dlefleets (/home/rxf131/ondemand/ubuntu2204/python310)\u001b[0m\u001b[33m\n",
      "\u001b[0m\u001b[33mWARNING: Ignoring invalid distribution -upy-cuda12x (/home/rxf131/ondemand/ubuntu2204/python310)\u001b[0m\u001b[33m\n",
      "\u001b[0m\u001b[33mWARNING: Ignoring invalid distribution -dlefleets (/home/rxf131/ondemand/ubuntu2204/python310)\u001b[0m\u001b[33m\n",
      "\u001b[0m\u001b[33mWARNING: Ignoring invalid distribution -upy-cuda12x (/home/rxf131/ondemand/ubuntu2204/python310)\u001b[0m\u001b[33m\n",
      "\u001b[0m\u001b[33mWARNING: Ignoring invalid distribution -dlefleets (/home/rxf131/ondemand/ubuntu2204/python310)\u001b[0m\u001b[33m\n",
      "\u001b[0m\n",
      "\u001b[1m[\u001b[0m\u001b[34;49mnotice\u001b[0m\u001b[1;39;49m]\u001b[0m\u001b[39;49m A new release of pip available: \u001b[0m\u001b[31;49m22.3.1\u001b[0m\u001b[39;49m -> \u001b[0m\u001b[32;49m23.3.2\u001b[0m\n",
      "\u001b[1m[\u001b[0m\u001b[34;49mnotice\u001b[0m\u001b[1;39;49m]\u001b[0m\u001b[39;49m To update, run: \u001b[0m\u001b[32;49mpython -m pip install --upgrade pip\u001b[0m\n",
      "Note: you may need to restart the kernel to use updated packages.\n"
     ]
    }
   ],
   "source": [
    "pip install  dgl -f https://data.dgl.ai/wheels/repo.html"
   ]
  },
  {
   "cell_type": "code",
   "execution_count": 19,
   "metadata": {},
   "outputs": [
    {
     "name": "stdout",
     "output_type": "stream",
     "text": [
      "\u001b[33mWARNING: Ignoring invalid distribution -upy-cuda12x (/home/rxf131/ondemand/ubuntu2204/python310)\u001b[0m\u001b[33m\n",
      "\u001b[0m\u001b[33mWARNING: Ignoring invalid distribution -dlefleets (/home/rxf131/ondemand/ubuntu2204/python310)\u001b[0m\u001b[33m\n",
      "\u001b[0m\u001b[33mWARNING: Ignoring invalid distribution -upy-cuda12x (/home/rxf131/ondemand/ubuntu2204/python310)\u001b[0m\u001b[33m\n",
      "\u001b[0m\u001b[33mWARNING: Ignoring invalid distribution -dlefleets (/home/rxf131/ondemand/ubuntu2204/python310)\u001b[0m\u001b[33m\n",
      "\u001b[0mLooking in links: https://data.dgl.ai/wheels-test/repo.html\n",
      "Requirement already satisfied: dglgo in /home/rxf131/ondemand/ubuntu2204/python310 (0.0.2)\n",
      "Requirement already satisfied: autopep8>=1.6.0 in /home/rxf131/ondemand/ubuntu2204/python310 (from dglgo) (2.0.4)\n",
      "Requirement already satisfied: numpydoc>=1.1.0 in /home/rxf131/ondemand/ubuntu2204/python310 (from dglgo) (1.6.0)\n",
      "Requirement already satisfied: isort>=5.10.1 in /home/rxf131/ondemand/ubuntu2204/python310 (from dglgo) (5.13.2)\n",
      "Requirement already satisfied: PyYAML>=5.1 in /home/rxf131/ondemand/ubuntu2204/python310 (from dglgo) (6.0.1)\n",
      "Requirement already satisfied: ogb>=1.3.3 in /home/rxf131/ondemand/ubuntu2204/python310 (from dglgo) (1.3.6)\n",
      "Requirement already satisfied: ruamel.yaml>=0.17.20 in /home/rxf131/ondemand/ubuntu2204/python310 (from dglgo) (0.18.5)\n",
      "Requirement already satisfied: pydantic>=1.9.0 in /home/rxf131/ondemand/ubuntu2204/python310 (from dglgo) (2.6.0)\n",
      "Requirement already satisfied: rdkit-pypi in /home/rxf131/ondemand/ubuntu2204/python310 (from dglgo) (2022.9.5)\n",
      "Requirement already satisfied: scikit-learn>=0.20.0 in /home/rxf131/ondemand/ubuntu2204/python310 (from dglgo) (1.4.0)\n",
      "Requirement already satisfied: typer>=0.4.0 in /home/rxf131/ondemand/ubuntu2204/python310 (from dglgo) (0.9.0)\n",
      "Requirement already satisfied: tomli in /home/rxf131/ondemand/ubuntu2204/python310 (from autopep8>=1.6.0->dglgo) (2.0.1)\n",
      "Requirement already satisfied: pycodestyle>=2.10.0 in /home/rxf131/ondemand/ubuntu2204/python310 (from autopep8>=1.6.0->dglgo) (2.11.1)\n",
      "Requirement already satisfied: tabulate>=0.8.10 in /home/rxf131/ondemand/ubuntu2204/python310 (from numpydoc>=1.1.0->dglgo) (0.9.0)\n",
      "Requirement already satisfied: Jinja2>=2.10 in /home/rxf131/ondemand/ubuntu2204/python310 (from numpydoc>=1.1.0->dglgo) (3.1.3)\n",
      "Requirement already satisfied: sphinx>=5 in /home/rxf131/ondemand/ubuntu2204/python310 (from numpydoc>=1.1.0->dglgo) (7.2.6)\n",
      "Requirement already satisfied: six>=1.12.0 in /home/rxf131/ondemand/ubuntu2204/python310 (from ogb>=1.3.3->dglgo) (1.16.0)\n",
      "Requirement already satisfied: numpy>=1.16.0 in /home/rxf131/ondemand/ubuntu2204/python310 (from ogb>=1.3.3->dglgo) (1.26.3)\n",
      "Requirement already satisfied: urllib3>=1.24.0 in /home/rxf131/ondemand/ubuntu2204/python310 (from ogb>=1.3.3->dglgo) (2.2.0)\n",
      "Requirement already satisfied: outdated>=0.2.0 in /home/rxf131/ondemand/ubuntu2204/python310 (from ogb>=1.3.3->dglgo) (0.2.2)\n",
      "Requirement already satisfied: torch>=1.6.0 in /home/rxf131/ondemand/ubuntu2204/python310 (from ogb>=1.3.3->dglgo) (2.2.0)\n",
      "Requirement already satisfied: pandas>=0.24.0 in /home/rxf131/ondemand/ubuntu2204/python310 (from ogb>=1.3.3->dglgo) (2.2.0)\n",
      "Requirement already satisfied: tqdm>=4.29.0 in /home/rxf131/ondemand/ubuntu2204/python310 (from ogb>=1.3.3->dglgo) (4.66.1)\n",
      "Requirement already satisfied: pydantic-core==2.16.1 in /home/rxf131/ondemand/ubuntu2204/python310 (from pydantic>=1.9.0->dglgo) (2.16.1)\n",
      "Requirement already satisfied: annotated-types>=0.4.0 in /home/rxf131/ondemand/ubuntu2204/python310 (from pydantic>=1.9.0->dglgo) (0.6.0)\n",
      "Requirement already satisfied: typing-extensions>=4.6.1 in /home/rxf131/ondemand/ubuntu2204/python310 (from pydantic>=1.9.0->dglgo) (4.9.0)\n",
      "Requirement already satisfied: ruamel.yaml.clib>=0.2.7 in /home/rxf131/ondemand/ubuntu2204/python310 (from ruamel.yaml>=0.17.20->dglgo) (0.2.8)\n",
      "Requirement already satisfied: scipy>=1.6.0 in /home/rxf131/ondemand/ubuntu2204/python310 (from scikit-learn>=0.20.0->dglgo) (1.12.0)\n",
      "Requirement already satisfied: joblib>=1.2.0 in /home/rxf131/ondemand/ubuntu2204/python310 (from scikit-learn>=0.20.0->dglgo) (1.3.2)\n",
      "Requirement already satisfied: threadpoolctl>=2.0.0 in /home/rxf131/ondemand/ubuntu2204/python310 (from scikit-learn>=0.20.0->dglgo) (3.2.0)\n",
      "Requirement already satisfied: click<9.0.0,>=7.1.1 in /home/rxf131/ondemand/ubuntu2204/python310 (from typer>=0.4.0->dglgo) (8.1.7)\n",
      "Requirement already satisfied: Pillow in /home/rxf131/ondemand/ubuntu2204/python310 (from rdkit-pypi->dglgo) (10.2.0)\n",
      "Requirement already satisfied: MarkupSafe>=2.0 in /home/rxf131/ondemand/ubuntu2204/python310 (from Jinja2>=2.10->numpydoc>=1.1.0->dglgo) (2.1.4)\n",
      "Requirement already satisfied: littleutils in /home/rxf131/ondemand/ubuntu2204/python310 (from outdated>=0.2.0->ogb>=1.3.3->dglgo) (0.2.2)\n",
      "Requirement already satisfied: setuptools>=44 in /home/rxf131/ondemand/ubuntu2204/python310 (from outdated>=0.2.0->ogb>=1.3.3->dglgo) (69.0.3)\n",
      "Requirement already satisfied: requests in /home/rxf131/ondemand/ubuntu2204/python310 (from outdated>=0.2.0->ogb>=1.3.3->dglgo) (2.31.0)\n",
      "Requirement already satisfied: python-dateutil>=2.8.2 in /home/rxf131/ondemand/ubuntu2204/python310 (from pandas>=0.24.0->ogb>=1.3.3->dglgo) (2.8.2)\n",
      "Requirement already satisfied: tzdata>=2022.7 in /home/rxf131/ondemand/ubuntu2204/python310 (from pandas>=0.24.0->ogb>=1.3.3->dglgo) (2023.4)\n",
      "Requirement already satisfied: pytz>=2020.1 in /home/rxf131/ondemand/ubuntu2204/python310 (from pandas>=0.24.0->ogb>=1.3.3->dglgo) (2023.4)\n",
      "Requirement already satisfied: sphinxcontrib-serializinghtml>=1.1.9 in /home/rxf131/ondemand/ubuntu2204/python310 (from sphinx>=5->numpydoc>=1.1.0->dglgo) (1.1.10)\n",
      "Requirement already satisfied: snowballstemmer>=2.0 in /home/rxf131/ondemand/ubuntu2204/python310 (from sphinx>=5->numpydoc>=1.1.0->dglgo) (2.2.0)\n",
      "Requirement already satisfied: alabaster<0.8,>=0.7 in /home/rxf131/ondemand/ubuntu2204/python310 (from sphinx>=5->numpydoc>=1.1.0->dglgo) (0.7.16)\n",
      "Requirement already satisfied: babel>=2.9 in /home/rxf131/ondemand/ubuntu2204/python310 (from sphinx>=5->numpydoc>=1.1.0->dglgo) (2.14.0)\n",
      "Requirement already satisfied: imagesize>=1.3 in /home/rxf131/ondemand/ubuntu2204/python310 (from sphinx>=5->numpydoc>=1.1.0->dglgo) (1.4.1)\n",
      "Requirement already satisfied: sphinxcontrib-htmlhelp>=2.0.0 in /home/rxf131/ondemand/ubuntu2204/python310 (from sphinx>=5->numpydoc>=1.1.0->dglgo) (2.0.5)\n",
      "Requirement already satisfied: sphinxcontrib-devhelp in /home/rxf131/ondemand/ubuntu2204/python310 (from sphinx>=5->numpydoc>=1.1.0->dglgo) (1.0.6)\n",
      "Requirement already satisfied: sphinxcontrib-jsmath in /home/rxf131/ondemand/ubuntu2204/python310 (from sphinx>=5->numpydoc>=1.1.0->dglgo) (1.0.1)\n",
      "Requirement already satisfied: packaging>=21.0 in /home/rxf131/ondemand/ubuntu2204/python310 (from sphinx>=5->numpydoc>=1.1.0->dglgo) (23.2)\n",
      "Requirement already satisfied: Pygments>=2.14 in /home/rxf131/ondemand/ubuntu2204/python310 (from sphinx>=5->numpydoc>=1.1.0->dglgo) (2.17.2)\n",
      "Requirement already satisfied: sphinxcontrib-qthelp in /home/rxf131/ondemand/ubuntu2204/python310 (from sphinx>=5->numpydoc>=1.1.0->dglgo) (1.0.7)\n",
      "Requirement already satisfied: docutils<0.21,>=0.18.1 in /home/rxf131/ondemand/ubuntu2204/python310 (from sphinx>=5->numpydoc>=1.1.0->dglgo) (0.20.1)\n",
      "Requirement already satisfied: sphinxcontrib-applehelp in /home/rxf131/ondemand/ubuntu2204/python310 (from sphinx>=5->numpydoc>=1.1.0->dglgo) (1.0.8)\n",
      "Collecting nvidia-cufft-cu12==11.0.2.54\n",
      "  Using cached nvidia_cufft_cu12-11.0.2.54-py3-none-manylinux1_x86_64.whl (121.6 MB)\n",
      "Collecting nvidia-cusolver-cu12==11.4.5.107\n",
      "  Using cached nvidia_cusolver_cu12-11.4.5.107-py3-none-manylinux1_x86_64.whl (124.2 MB)\n",
      "Collecting nvidia-cuda-runtime-cu12==12.1.105\n",
      "  Using cached nvidia_cuda_runtime_cu12-12.1.105-py3-none-manylinux1_x86_64.whl (823 kB)\n",
      "Collecting nvidia-cudnn-cu12==8.9.2.26\n",
      "  Using cached nvidia_cudnn_cu12-8.9.2.26-py3-none-manylinux1_x86_64.whl (731.7 MB)\n",
      "Requirement already satisfied: fsspec in /home/rxf131/ondemand/ubuntu2204/python310 (from torch>=1.6.0->ogb>=1.3.3->dglgo) (2023.12.2)\n",
      "Collecting nvidia-cublas-cu12==12.1.3.1\n",
      "  Using cached nvidia_cublas_cu12-12.1.3.1-py3-none-manylinux1_x86_64.whl (410.6 MB)\n",
      "Requirement already satisfied: triton==2.2.0 in /home/rxf131/ondemand/ubuntu2204/python310 (from torch>=1.6.0->ogb>=1.3.3->dglgo) (2.2.0)\n",
      "Collecting nvidia-cuda-cupti-cu12==12.1.105\n",
      "  Using cached nvidia_cuda_cupti_cu12-12.1.105-py3-none-manylinux1_x86_64.whl (14.1 MB)\n",
      "Requirement already satisfied: nvidia-nccl-cu12==2.19.3 in /home/rxf131/ondemand/ubuntu2204/python310 (from torch>=1.6.0->ogb>=1.3.3->dglgo) (2.19.3)\n",
      "Requirement already satisfied: networkx in /home/rxf131/ondemand/ubuntu2204/python310 (from torch>=1.6.0->ogb>=1.3.3->dglgo) (3.2.1)\n",
      "Collecting nvidia-cuda-nvrtc-cu12==12.1.105\n",
      "  Using cached nvidia_cuda_nvrtc_cu12-12.1.105-py3-none-manylinux1_x86_64.whl (23.7 MB)\n",
      "Requirement already satisfied: filelock in /home/rxf131/ondemand/ubuntu2204/python310 (from torch>=1.6.0->ogb>=1.3.3->dglgo) (3.13.1)\n",
      "Collecting nvidia-cusparse-cu12==12.1.0.106\n",
      "  Using cached nvidia_cusparse_cu12-12.1.0.106-py3-none-manylinux1_x86_64.whl (196.0 MB)\n",
      "Requirement already satisfied: nvidia-nvtx-cu12==12.1.105 in /home/rxf131/ondemand/ubuntu2204/python310 (from torch>=1.6.0->ogb>=1.3.3->dglgo) (12.1.105)\n",
      "Collecting nvidia-curand-cu12==10.3.2.106\n",
      "  Using cached nvidia_curand_cu12-10.3.2.106-py3-none-manylinux1_x86_64.whl (56.5 MB)\n",
      "Requirement already satisfied: sympy in /home/rxf131/ondemand/ubuntu2204/python310 (from torch>=1.6.0->ogb>=1.3.3->dglgo) (1.12)\n",
      "Requirement already satisfied: nvidia-nvjitlink-cu12 in /home/rxf131/ondemand/ubuntu2204/python310 (from nvidia-cusolver-cu12==11.4.5.107->torch>=1.6.0->ogb>=1.3.3->dglgo) (12.3.101)\n",
      "Requirement already satisfied: certifi>=2017.4.17 in /home/rxf131/ondemand/ubuntu2204/python310 (from requests->outdated>=0.2.0->ogb>=1.3.3->dglgo) (2023.11.17)\n",
      "Requirement already satisfied: charset-normalizer<4,>=2 in /home/rxf131/ondemand/ubuntu2204/python310 (from requests->outdated>=0.2.0->ogb>=1.3.3->dglgo) (3.3.2)\n",
      "Requirement already satisfied: idna<4,>=2.5 in /home/rxf131/ondemand/ubuntu2204/python310 (from requests->outdated>=0.2.0->ogb>=1.3.3->dglgo) (3.6)\n",
      "Requirement already satisfied: mpmath>=0.19 in /home/rxf131/ondemand/ubuntu2204/python310 (from sympy->torch>=1.6.0->ogb>=1.3.3->dglgo) (1.3.0)\n",
      "\u001b[33mWARNING: Ignoring invalid distribution -upy-cuda12x (/home/rxf131/ondemand/ubuntu2204/python310)\u001b[0m\u001b[33m\n",
      "\u001b[0m\u001b[33mWARNING: Ignoring invalid distribution -dlefleets (/home/rxf131/ondemand/ubuntu2204/python310)\u001b[0m\u001b[33m\n",
      "\u001b[0mInstalling collected packages: nvidia-cusparse-cu12, nvidia-curand-cu12, nvidia-cufft-cu12, nvidia-cuda-runtime-cu12, nvidia-cuda-nvrtc-cu12, nvidia-cuda-cupti-cu12, nvidia-cublas-cu12, nvidia-cusolver-cu12, nvidia-cudnn-cu12\n",
      "  Attempting uninstall: nvidia-cusparse-cu12\n",
      "\u001b[33m    WARNING: Ignoring invalid distribution -upy-cuda12x (/home/rxf131/ondemand/ubuntu2204/python310)\u001b[0m\u001b[33m\n",
      "\u001b[0m\u001b[33m    WARNING: Ignoring invalid distribution -dlefleets (/home/rxf131/ondemand/ubuntu2204/python310)\u001b[0m\u001b[33m\n",
      "\u001b[0m    Found existing installation: nvidia-cusparse-cu12 12.1.2.141\n",
      "    Uninstalling nvidia-cusparse-cu12-12.1.2.141:\n",
      "\u001b[31mERROR: Could not install packages due to an OSError: [Errno 13] Permission denied: '/home/rxf131/ondemand/ubuntu2204/python310/nvidia/__init__.py'\n",
      "Consider using the `--user` option or check the permissions.\n",
      "\u001b[0m\u001b[31m\n",
      "\u001b[0m\u001b[33mWARNING: Ignoring invalid distribution -upy-cuda12x (/home/rxf131/ondemand/ubuntu2204/python310)\u001b[0m\u001b[33m\n",
      "\u001b[0m\u001b[33mWARNING: Ignoring invalid distribution -dlefleets (/home/rxf131/ondemand/ubuntu2204/python310)\u001b[0m\u001b[33m\n",
      "\u001b[0m\u001b[33mWARNING: Ignoring invalid distribution -upy-cuda12x (/home/rxf131/ondemand/ubuntu2204/python310)\u001b[0m\u001b[33m\n",
      "\u001b[0m\u001b[33mWARNING: Ignoring invalid distribution -dlefleets (/home/rxf131/ondemand/ubuntu2204/python310)\u001b[0m\u001b[33m\n",
      "\u001b[0m\u001b[33mWARNING: Ignoring invalid distribution -upy-cuda12x (/home/rxf131/ondemand/ubuntu2204/python310)\u001b[0m\u001b[33m\n",
      "\u001b[0m\u001b[33mWARNING: Ignoring invalid distribution -dlefleets (/home/rxf131/ondemand/ubuntu2204/python310)\u001b[0m\u001b[33m\n",
      "\u001b[0m\n",
      "\u001b[1m[\u001b[0m\u001b[34;49mnotice\u001b[0m\u001b[1;39;49m]\u001b[0m\u001b[39;49m A new release of pip available: \u001b[0m\u001b[31;49m22.3.1\u001b[0m\u001b[39;49m -> \u001b[0m\u001b[32;49m23.3.2\u001b[0m\n",
      "\u001b[1m[\u001b[0m\u001b[34;49mnotice\u001b[0m\u001b[1;39;49m]\u001b[0m\u001b[39;49m To update, run: \u001b[0m\u001b[32;49mpython -m pip install --upgrade pip\u001b[0m\n",
      "Note: you may need to restart the kernel to use updated packages.\n"
     ]
    }
   ],
   "source": [
    "pip install  dglgo -f https://data.dgl.ai/wheels-test/repo.html"
   ]
  },
  {
   "cell_type": "code",
   "execution_count": 11,
   "metadata": {
    "id": "jSRG5UBu8wWR"
   },
   "outputs": [],
   "source": [
    "import dgl\n",
    "\n",
    "sampler = dgl.dataloading.MultiLayerFullNeighborSampler(2)\n",
    "\n",
    "# import dgl\n",
    "\n",
    "# # Set the backend to PyTorch CPU\n",
    "# dgl.backend.load_backend('pytorch', device='cpu')\n",
    "\n",
    "# # Now you can use DGL functions\n",
    "# sampler = dgl.dataloading.MultiLayerFullNeighborSampler(2)\n"
   ]
  },
  {
   "cell_type": "code",
   "execution_count": 14,
   "metadata": {
    "id": "D2ixevx99ckh"
   },
   "outputs": [],
   "source": [
    "import dgl\n",
    "import torch\n",
    "from torch_geometric.data import Data\n",
    "\n",
    "\n",
    "# PyG Data object\n",
    "pyg_data = Data(x=x, edge_index=edge_index)\n",
    "\n",
    "# Extract PyG graph information\n",
    "num_nodes = pyg_data.num_nodes\n",
    "num_edges = pyg_data.num_edges\n",
    "src, dst = pyg_data.edge_index\n",
    "\n",
    "# Create DGL graph\n",
    "dgl_graph = dgl.graph((src, dst), num_nodes=num_nodes)\n",
    "\n",
    "# Optional: Set node features for DGL graph\n",
    "dgl_graph.ndata['x'] = pyg_data.x"
   ]
  },
  {
   "cell_type": "code",
   "execution_count": 15,
   "metadata": {
    "colab": {
     "base_uri": "https://localhost:8080/"
    },
    "id": "2mLtRaGM9scZ",
    "outputId": "d4ddd403-c066-40ed-bf66-74186c50a913"
   },
   "outputs": [
    {
     "data": {
      "text/plain": [
       "Graph(num_nodes=1000, num_edges=283600,\n",
       "      ndata_schemes={'x': Scheme(shape=(120,), dtype=torch.float32)}\n",
       "      edata_schemes={})"
      ]
     },
     "execution_count": 15,
     "metadata": {},
     "output_type": "execute_result"
    }
   ],
   "source": [
    "dgl_graph"
   ]
  },
  {
   "cell_type": "code",
   "execution_count": 17,
   "metadata": {
    "id": "4xPhi1fB8wZX"
   },
   "outputs": [],
   "source": [
    "dataloader = dgl.dataloading.DataLoader(\n",
    "    dgl_graph, dgl_graph.nodes().long(), sampler,\n",
    "    batch_size=3,\n",
    "    shuffle=False,\n",
    "    drop_last=False,\n",
    "    num_workers=0)"
   ]
  },
  {
   "cell_type": "code",
   "execution_count": 15,
   "metadata": {
    "id": "pOAHNLxUEpvS"
   },
   "outputs": [],
   "source": [
    "# from sklearn.metrics import mean_squared_error\n",
    "# import torch\n",
    "# # import tensorflow as tf\n",
    "# import torch.nn.functional as F\n",
    "\n",
    "# Lambda1 = 0\n",
    "# Lambda2 = 100\n",
    "# Lambda3 = 5\n",
    "\n",
    "# m1 = [[1] for i in range(1,121)]\n",
    "# m2 = [[i] for i in range(1,121)]\n",
    "# m = torch.Tensor([m1, m2])\n",
    "# m = torch.squeeze(m).T\n",
    "\n",
    "\n",
    "# K = 12\n",
    "# d = [ [ 0 for y in range(120) ] for x in range(10) ]\n",
    "# for i in range(10):\n",
    "#   for j in range(120):\n",
    "#     if int(j/K) == i:\n",
    "#       d[i][j] = 1/K\n",
    "# E = torch.as_tensor(d)\n",
    "\n",
    "# W = [ [ 1 for y in range(10) ] for x in range(10) ]\n",
    "# for i in range(10):\n",
    "#   for j in range(10):\n",
    "#     W[i][j] = abs(j-i)\n",
    "# W = torch.as_tensor(W)\n",
    "# W = W.fill_diagonal_(1)\n",
    "\n",
    "\n",
    "# I = [ 1 for x in range(10) ]\n",
    "# I = torch.as_tensor(I)\n",
    "# L = torch.diag(torch.matmul(W, I), 0) - W\n",
    "\n",
    "# criterion = torch.nn.MSELoss()\n",
    "# optimizer = torch.optim.Adam(model.parameters(), lr=0.001)\n",
    "\n",
    "\n",
    "# def train(x, edge_index, Lambda1, Lambda2):\n",
    "#   optimizer.zero_grad()\n",
    "#   h_a, h_f = model(x, edge_index)\n",
    "#   loss = criterion(h_a+h_f, x)  + \\\n",
    "#   10*torch.std(torch.diff(h_a)) +\\\n",
    "#   Lambda1 * torch.var(h_a) +\\\n",
    "#   Lambda2 * torch.sum(torch.abs(torch.matmul(torch.matmul(torch.linalg.inv(torch.matmul(torch.transpose(m, 0, 1), m)), torch.transpose(m, 0, 1)), torch.transpose(h_f, 0, 1))[1])) +\\\n",
    "#   Lambda3 * torch.sum(torch.diagonal(torch.matmul(torch.matmul(torch.matmul(h_f, E.T).long(), L.long()), torch.matmul(E, h_f.T).long()), 0))\n",
    "\n",
    "#   print(criterion(h_a + h_f, x))\n",
    "#   print(torch.std(torch.diff(h_a)))\n",
    "#   print(torch.var(h_a))\n",
    "#   print(torch.sum(torch.abs(torch.matmul(torch.matmul(torch.linalg.inv(torch.matmul(torch.transpose(m, 0, 1), m)), torch.transpose(m, 0, 1)), torch.transpose(h_f, 0, 1))[1])))\n",
    "#   print(torch.sum(torch.diagonal(torch.matmul(torch.matmul(torch.matmul(h_f, E.T).long(), L.long()), torch.matmul(E, h_f.T).long()), 0)))\n",
    "\n",
    "#   loss.backward()\n",
    "#   optimizer.step()\n",
    "#   return loss, criterion(h_a+h_f, x), h_a, h_f\n",
    "\n",
    "# epochs = range(1, 500)\n",
    "# losses = []\n",
    "# embeddings = []\n",
    "# min_loss = 1000\n",
    "# for epoch in epochs:\n",
    "#   loss, loss_2, h_a, h_f= train(x, edge_index, Lambda1, Lambda2)\n",
    "#   losses.append(loss)\n",
    "#   print(f\"Epoch: {epoch}\\tLoss: {loss:.4f}\")\n",
    "#   # if loss_2 < 100:\n",
    "#   #   break\n"
   ]
  },
  {
   "cell_type": "code",
   "execution_count": 55,
   "metadata": {},
   "outputs": [
    {
     "name": "stdout",
     "output_type": "stream",
     "text": [
      "tensor(9.6694, grad_fn=<MseLossBackward0>)\n",
      "tensor(0.5692, grad_fn=<StdBackward0>)\n",
      "tensor(6.3497, grad_fn=<VarBackward0>)\n",
      "tensor(0.0146, grad_fn=<SumBackward0>)\n",
      "tensor(13080)\n"
     ]
    }
   ],
   "source": [
    "  print(criterion(h_a + h_f, x))\n",
    "  print(torch.std(torch.diff(h_a)))\n",
    "  print(torch.var(h_a))\n",
    "  print(torch.sum(torch.abs(torch.matmul(torch.matmul(torch.linalg.inv(torch.matmul(torch.transpose(m, 0, 1), m)), torch.transpose(m, 0, 1)), torch.transpose(h_f, 0, 1))[1])))\n",
    "  print(torch.sum(torch.diagonal(torch.matmul(torch.matmul(torch.matmul(h_f, E.T).long(), L.long()), torch.matmul(E, h_f.T).long()), 0)))\n"
   ]
  },
  {
   "cell_type": "code",
   "execution_count": null,
   "metadata": {
    "colab": {
     "base_uri": "https://localhost:8080/",
     "height": 176
    },
    "id": "YbuDMxw-OF7T",
    "outputId": "76e62c16-bff1-446a-9f00-c06cc0593abc"
   },
   "outputs": [],
   "source": [
    "blocks[1].dstdata['x'].shape"
   ]
  },
  {
   "cell_type": "code",
   "execution_count": 13,
   "metadata": {
    "colab": {
     "base_uri": "https://localhost:8080/"
    },
    "id": "9WbO8pJs8we9",
    "outputId": "7b328a45-af36-4283-de67-0c354c10ea51"
   },
   "outputs": [],
   "source": [
    "# device = torch.device(\"cuda\") if torch.cuda.is_available() \\\n",
    "# else torch.device(\"cpu\")\n",
    "\n",
    "# model = model.to(device)\n",
    "# m = m.to(device)\n",
    "# E = E.to(device)\n",
    "# L = L.to(device)\n",
    "# # # Move the input features to the same device as the model\n",
    "# # input_features = input_features.to(device)\n",
    "\n",
    "# for input_nodes, output_nodes, blocks in dataloader:\n",
    "#     blocks = [b.to(device) for b in blocks]\n",
    "#     input_features = blocks[0].srcdata['x'].to(device)\n",
    "#     ground_truth = blocks[1].dstdata['x'].to(device)\n",
    "#     h_a, h_f = model(blocks, input_features)\n",
    "#     loss = criterion(torch.squeeze(h_a)+torch.squeeze(h_f), ground_truth)  + \\\n",
    "#     10*torch.std(torch.diff(h_a)) +\\\n",
    "#     Lambda1 * torch.var(h_a) +\\\n",
    "#     Lambda2 * torch.sum(torch.abs(torch.matmul(torch.matmul(torch.linalg.inv(torch.matmul(torch.transpose(m, 0, 1), m)), torch.transpose(m, 0, 1)), torch.transpose(torch.squeeze(h_f), 0, 1))[1])) +\\\n",
    "#     Lambda3 * torch.sum(torch.diagonal(torch.matmul(torch.matmul(torch.matmul(torch.squeeze(h_f), E.T).float(), L.float()), torch.matmul(E, torch.squeeze(h_f).T).float()), 0))\n",
    "#     optimizer.zero_grad()\n",
    "#     loss.backward()\n",
    "#     optimizer.step()\n",
    "#     print(loss)"
   ]
  },
  {
   "cell_type": "code",
   "execution_count": 64,
   "metadata": {},
   "outputs": [
    {
     "data": {
      "text/plain": [
       "tensor([[48.5786, 46.4354, 50.6477,  ..., 33.6993, 37.9428, 47.2802],\n",
       "        [48.5926, 46.4799, 50.7236,  ..., 33.2002, 37.3683, 46.5494],\n",
       "        [48.6029, 46.5166, 50.7899,  ..., 32.7940, 36.9030, 45.9515],\n",
       "        ...,\n",
       "        [41.7236, 44.8196, 43.9540,  ..., 40.6397, 42.6384, 40.6262],\n",
       "        [41.7287, 44.8377, 43.9773,  ..., 40.4663, 42.4543, 40.4481],\n",
       "        [41.7256, 44.8226, 43.9507,  ..., 40.6659, 42.6745, 40.6584]])"
      ]
     },
     "execution_count": 64,
     "metadata": {},
     "output_type": "execute_result"
    }
   ],
   "source": [
    "dgl_graph.ndata[\"x\"]"
   ]
  },
  {
   "cell_type": "code",
   "execution_count": 17,
   "metadata": {
    "colab": {
     "base_uri": "https://localhost:8080/"
    },
    "id": "52CLJdO4Q0Vs",
    "outputId": "2b9cc536-80e2-411f-8f4e-066b03c87ead"
   },
   "outputs": [],
   "source": [
    "# # Assuming 'dataloader' is your PyTorch DataLoader\n",
    "# Lambda1 = 0\n",
    "# Lambda2 = 100\n",
    "# Lambda3 = 5\n",
    "\n",
    "# m1 = [[1] for i in range(1,121)]\n",
    "# m2 = [[i] for i in range(1,121)]\n",
    "# m = torch.Tensor([m1, m2])\n",
    "# m = torch.squeeze(m).T\n",
    "\n",
    "\n",
    "# K = 12\n",
    "# d = [ [ 0 for y in range(120) ] for x in range(10) ]\n",
    "# for i in range(10):\n",
    "#   for j in range(120):\n",
    "#     if int(j/K) == i:\n",
    "#       d[i][j] = 1/K\n",
    "# E = torch.as_tensor(d)\n",
    "\n",
    "# W = [ [ 1 for y in range(10) ] for x in range(10) ]\n",
    "# for i in range(10):\n",
    "#   for j in range(10):\n",
    "#     W[i][j] = abs(j-i)\n",
    "# W = torch.as_tensor(W)\n",
    "# W = W.fill_diagonal_(1)\n",
    "\n",
    "\n",
    "# I = [ 1 for x in range(10) ]\n",
    "# I = torch.as_tensor(I)\n",
    "# L = torch.diag(torch.matmul(W, I), 0) - W\n",
    "\n",
    "# criterion = torch.nn.MSELoss()\n",
    "# optimizer = torch.optim.Adam(model.parameters(), lr=0.001)\n",
    "\n",
    "# num_epochs = 50  # You can adjust the number of epochs\n",
    "# # device = torch.device(\"cuda\") if torch.cuda.is_available() \\\n",
    "# # else torch.device(\"cpu\")\n",
    "\n",
    "# # model = model.to(device)\n",
    "# # m = m.to(device)\n",
    "# # E = E.to(device)\n",
    "# # L = L.to(device)\n",
    "# # dgl_graph = dgl_graph.to(device)\n",
    "\n",
    "\n",
    "# def train(x, edge_index, Lambda1, Lambda2):\n",
    "#   optimizer.zero_grad()\n",
    "#   features = dgl_graph.ndata[\"x\"]\n",
    "#   ground_truth = dgl_graph.ndata[\"x\"]\n",
    "#   h_a, h_f = model(dgl_graph, features)\n",
    "#   loss = criterion(torch.squeeze(h_a)+torch.squeeze(h_f), ground_truth)  + \\\n",
    "#   10*torch.std(torch.diff(torch.squeeze(h_a))) +\\\n",
    "#   0 * torch.var(torch.squeeze(h_a)) +\\\n",
    "#   100 * torch.sum(torch.abs(torch.matmul(torch.matmul(torch.linalg.inv(torch.matmul(torch.transpose(m, 0, 1), m)), torch.transpose(m, 0, 1)), torch.transpose(torch.squeeze(h_f), 0, 1))[1])) +\\\n",
    "#   5 * torch.sum(torch.diagonal(torch.matmul(torch.matmul(torch.matmul(torch.squeeze(h_f), E.T).long(), L.long()), torch.matmul(E, torch.squeeze(h_f).T).long()), 0))\n",
    "#   print(criterion(torch.squeeze(h_a) + torch.squeeze(h_f), x))\n",
    "#   print(torch.std(torch.diff(torch.squeeze(h_a))))\n",
    "#   print(torch.var(torch.squeeze(h_a)))\n",
    "#   print(torch.sum(torch.abs(torch.matmul(torch.matmul(torch.linalg.inv(torch.matmul(torch.transpose(m, 0, 1), m)), torch.transpose(m, 0, 1)), torch.transpose(torch.squeeze(h_f), 0, 1))[1])))\n",
    "#   print(torch.sum(torch.diagonal(torch.matmul(torch.matmul(torch.matmul(torch.squeeze(h_f), E.T).long(), L.long()), torch.matmul(E, torch.squeeze(h_f).T).long()), 0)))\n",
    "\n",
    "#   loss.backward()\n",
    "#   optimizer.step()\n",
    "#   return loss, criterion(h_a+h_f, x), h_a, h_f\n",
    "\n",
    "# epochs = range(1, 500)\n",
    "# losses = []\n",
    "# embeddings = []\n",
    "# min_loss = 1000\n",
    "# for epoch in epochs:\n",
    "#   loss, loss_2, h_a, h_f= train(x, edge_index, Lambda1, Lambda2)\n",
    "#   losses.append(loss)\n",
    "#   print(f\"Epoch: {epoch}\\tLoss: {loss:.4f}\")\n",
    "\n",
    "# # for epoch in range(num_epochs):\n",
    "# #     losses = []\n",
    "# #     for input_nodes, output_nodes, blocks in dataloader:\n",
    "# #         # Move blocks, input_features, and ground_truth to device\n",
    "# #         blocks = [b.to(device) for b in blocks]\n",
    "# #         input_features = blocks[0].srcdata['x'].to(device)\n",
    "# #         ground_truth = blocks[-1].dstdata['x'].to(device)\n",
    "\n",
    "# #         # Forward pass\n",
    "# #         h_a, h_f = model(blocks, input_features)\n",
    "\n",
    "# #         # Compute loss\n",
    "# #         loss = criterion(torch.squeeze(h_a) + torch.squeeze(h_f), ground_truth) + \\\n",
    "# #                10 * torch.std(torch.diff(h_a)) + \\\n",
    "# #                Lambda1 * torch.var(h_a) + \\\n",
    "# #                Lambda2 * torch.sum(torch.abs(torch.matmul(torch.matmul(torch.linalg.inv(torch.matmul(torch.transpose(m, 0, 1), m)).float(),\n",
    "# #                                                                    torch.transpose(m, 0, 1).float()),\n",
    "# #                                                         torch.transpose(torch.squeeze(h_f), 0, 1).float())[1])) + \\\n",
    "# #                Lambda3 * torch.sum(torch.diagonal(torch.matmul(torch.matmul(torch.matmul(torch.squeeze(h_f), E.T).float(),\n",
    "# #                                                                         L.float()),\n",
    "# #                                                              torch.matmul(E, torch.squeeze(h_f).T).float()), 0))\n",
    "\n",
    "# #         # Backward pass and optimization\n",
    "# #         optimizer.zero_grad()\n",
    "# #         loss.backward()\n",
    "# #         optimizer.step()\n",
    "# #         losses.append(loss.item())\n",
    "\n",
    "# #     print(f\"Epoch {epoch + 1}, Loss: {np.mean(losses)}\")\n",
    "\n",
    "# # print(\"Training complete!\")\n"
   ]
  },
  {
   "cell_type": "code",
   "execution_count": 16,
   "metadata": {},
   "outputs": [
    {
     "name": "stdout",
     "output_type": "stream",
     "text": [
      "tensor(13.3835, grad_fn=<MseLossBackward0>)\n",
      "tensor(0.3352, grad_fn=<StdBackward0>)\n",
      "tensor(6.9074, grad_fn=<VarBackward0>)\n",
      "tensor(0.0189, grad_fn=<SumBackward0>)\n",
      "tensor(2500)\n"
     ]
    }
   ],
   "source": [
    "  print(criterion(torch.squeeze(h_a) + torch.squeeze(h_f), x))\n",
    "  print(torch.std(torch.diff(torch.squeeze(h_a))))\n",
    "  print(torch.var(torch.squeeze(h_a)))\n",
    "  print(torch.sum(torch.abs(torch.matmul(torch.matmul(torch.linalg.inv(torch.matmul(torch.transpose(m, 0, 1), m)), torch.transpose(m, 0, 1)), torch.transpose(torch.squeeze(h_f), 0, 1))[1])))\n",
    "  print(torch.sum(torch.diagonal(torch.matmul(torch.matmul(torch.matmul(torch.squeeze(h_f), E.T).long(), L.long()), torch.matmul(E, torch.squeeze(h_f).T).long()), 0)))\n"
   ]
  },
  {
   "cell_type": "code",
   "execution_count": 47,
   "metadata": {},
   "outputs": [
    {
     "data": {
      "text/plain": [
       "torch.Size([6, 1, 1, 10])"
      ]
     },
     "execution_count": 47,
     "metadata": {},
     "output_type": "execute_result"
    }
   ],
   "source": [
    "g = dgl.graph(([0,1,2,3,2,5], [1,2,3,4,0,3]))\n",
    "g = dgl.add_self_loop(g)\n",
    "feat = torch.ones(6, 10)\n",
    "gatconv1 = GATConv(10, 2, num_heads=1)\n",
    "gatconv2 = GATConv(2, 10, num_heads=1)\n",
    "res = gatconv1(g, feat)\n",
    "f = gatconv2(g, res)\n",
    "f.shape"
   ]
  },
  {
   "cell_type": "code",
   "execution_count": 45,
   "metadata": {},
   "outputs": [
    {
     "data": {
      "text/plain": [
       "torch.Size([6, 10])"
      ]
     },
     "execution_count": 45,
     "metadata": {},
     "output_type": "execute_result"
    }
   ],
   "source": [
    "feat.shape"
   ]
  },
  {
   "cell_type": "code",
   "execution_count": null,
   "metadata": {},
   "outputs": [],
   "source": [
    "import time\n",
    "\n",
    "# ... (previous code)\n",
    "\n",
    "# Lists to store loss values for plotting\n",
    "train_losses = []\n",
    "\n",
    "# Start the timer\n",
    "start_time = time.time()\n",
    "\n",
    "for epoch in range(num_epochs):\n",
    "    losses = []\n",
    "    for input_nodes, output_nodes, blocks in dataloader:\n",
    "        # ... (rest of your code)\n",
    "\n",
    "    # Calculate the mean loss for the epoch and store it\n",
    "    epoch_loss = np.mean(losses)\n",
    "    train_losses.append(epoch_loss)\n",
    "\n",
    "    print(f\"Epoch {epoch + 1}, Loss: {epoch_loss}\")\n",
    "\n",
    "# Stop the timer\n",
    "end_time = time.time()\n",
    "elapsed_time = end_time - start_time\n",
    "\n",
    "print(f\"Training time: {elapsed_time} seconds\")"
   ]
  },
  {
   "cell_type": "code",
   "execution_count": null,
   "metadata": {
    "colab": {
     "base_uri": "https://localhost:8080/",
     "height": 1000
    },
    "id": "jFvpkqHmDOit",
    "outputId": "2f03498e-35a1-4358-ff92-77f5d1521f70"
   },
   "outputs": [],
   "source": [
    "import matplotlib.pyplot as plt\n",
    "import numpy as np\n",
    "\n",
    "num_epochs = 100  # You can adjust the number of epochs\n",
    "device = torch.device(\"cuda\") if torch.cuda.is_available() \\\n",
    "else torch.device(\"cpu\")\n",
    "\n",
    "model = model.to(device)\n",
    "m = m.to(device)\n",
    "E = E.to(device)\n",
    "L = L.to(device)\n",
    "\n",
    "# Lists to store loss values for plotting\n",
    "train_losses = []\n",
    "start_time = time.time()\n",
    "\n",
    "for epoch in range(num_epochs):\n",
    "    losses = []\n",
    "    for input_nodes, output_nodes, blocks in dataloader:\n",
    "        # ... (rest of your code)\n",
    "                # Move blocks, input_features, and ground_truth to device\n",
    "        blocks = [b.to(device) for b in blocks]\n",
    "        input_features = blocks[0].srcdata['x'].to(device)\n",
    "        ground_truth = blocks[-1].dstdata['x'].to(device)\n",
    "\n",
    "        # Forward pass\n",
    "        h_a, h_f = model(blocks, input_features)\n",
    "\n",
    "        # Compute loss\n",
    "        loss = criterion(torch.squeeze(h_a) * torch.squeeze(h_f), ground_truth) + \\\n",
    "               10 * torch.std(torch.diff(h_a)) + \\\n",
    "               Lambda1 * torch.var(h_a) + \\\n",
    "               Lambda2 * torch.sum(torch.abs(torch.matmul(torch.matmul(torch.linalg.inv(torch.matmul(torch.transpose(m, 0, 1), m)).float(),\n",
    "                                                                   torch.transpose(m, 0, 1).float()),\n",
    "                                                        torch.transpose(torch.squeeze(h_f), 0, 1).float())[1])) + \\\n",
    "               Lambda3 * torch.sum(torch.diagonal(torch.matmul(torch.matmul(torch.matmul(torch.squeeze(h_f), E.T).float(),\n",
    "                                                                        L.float()),\n",
    "                                                             torch.matmul(E, torch.squeeze(h_f).T).float()), 0))\n",
    "\n",
    "        # Backward pass and optimization\n",
    "        optimizer.zero_grad()\n",
    "        loss.backward()\n",
    "        optimizer.step()\n",
    "        # Append the current batch loss to the losses list\n",
    "        losses.append(loss.item())\n",
    "\n",
    "    # Calculate the mean loss for the epoch and store it\n",
    "    epoch_loss = np.mean(losses)\n",
    "    train_losses.append(epoch_loss)\n",
    "\n",
    "    print(f\"Epoch {epoch + 1}, Loss: {epoch_loss}\")\n",
    "\n",
    "end_time = time.time()\n",
    "elapsed_time = end_time - start_time\n",
    "\n",
    "print(f\"Training time: {elapsed_time} seconds\")\n",
    "\n",
    "# Plot the training loss\n",
    "plt.plot(range(1, num_epochs + 1), train_losses, label='Training Loss')\n",
    "plt.xlabel('Epoch')\n",
    "plt.ylabel('Loss')\n",
    "plt.title('Training Loss Over Epochs')\n",
    "plt.legend()\n",
    "plt.show()\n",
    "\n",
    "print(\"Training complete!\")\n"
   ]
  },
  {
   "cell_type": "markdown",
   "metadata": {},
   "source": [
    "## Stock"
   ]
  },
  {
   "cell_type": "code",
   "execution_count": 30,
   "metadata": {},
   "outputs": [
    {
     "ename": "FileNotFoundError",
     "evalue": "[Errno 2] No such file or directory: '/mnt/vstor/CSE_MSE_RXF131/cradle-members/sdle/yxf451/Git/21-pv-stgnn-bkp/topics/GDP/GDP.csv'",
     "output_type": "error",
     "traceback": [
      "\u001b[0;31m---------------------------------------------------------------------------\u001b[0m",
      "\u001b[0;31mFileNotFoundError\u001b[0m                         Traceback (most recent call last)",
      "Cell \u001b[0;32mIn[30], line 8\u001b[0m\n\u001b[1;32m      5\u001b[0m folder_path \u001b[38;5;241m=\u001b[39m \u001b[38;5;124m'\u001b[39m\u001b[38;5;124m/mnt/vstor/CSE_MSE_RXF131/cradle-members/sdle/yxf451/Git/21-pv-stgnn-bkp/topics/GDP/GDP.csv\u001b[39m\u001b[38;5;124m'\u001b[39m\n\u001b[1;32m      7\u001b[0m \u001b[38;5;66;03m# List all files in the folder\u001b[39;00m\n\u001b[0;32m----> 8\u001b[0m all_files \u001b[38;5;241m=\u001b[39m \u001b[43mos\u001b[49m\u001b[38;5;241;43m.\u001b[39;49m\u001b[43mlistdir\u001b[49m\u001b[43m(\u001b[49m\u001b[43mfolder_path\u001b[49m\u001b[43m)\u001b[49m\n\u001b[1;32m     10\u001b[0m \u001b[38;5;66;03m# Filter only CSV files\u001b[39;00m\n\u001b[1;32m     11\u001b[0m csv_files \u001b[38;5;241m=\u001b[39m [file \u001b[38;5;28;01mfor\u001b[39;00m file \u001b[38;5;129;01min\u001b[39;00m all_files \u001b[38;5;28;01mif\u001b[39;00m file\u001b[38;5;241m.\u001b[39mendswith(\u001b[38;5;124m'\u001b[39m\u001b[38;5;124m.csv\u001b[39m\u001b[38;5;124m'\u001b[39m)]\n",
      "\u001b[0;31mFileNotFoundError\u001b[0m: [Errno 2] No such file or directory: '/mnt/vstor/CSE_MSE_RXF131/cradle-members/sdle/yxf451/Git/21-pv-stgnn-bkp/topics/GDP/GDP.csv'"
     ]
    }
   ],
   "source": [
    "import os\n",
    "import pandas as pd\n",
    "\n",
    "# Folder containing CSV files\n",
    "folder_path = '/mnt/vstor/CSE_MSE_RXF131/cradle-members/sdle/yxf451/Git/21-pv-stgnn-bkp/topics/STGCN_DAE/Stock'\n",
    "\n",
    "# List all files in the folder\n",
    "all_files = os.listdir(folder_path)\n",
    "\n",
    "# Filter only CSV files\n",
    "csv_files = [file for file in all_files if file.endswith('.csv')]\n",
    "\n",
    "# Specify the columns you want to read\n",
    "columns_to_read = ['Adj Close']  # Replace with your actual column names\n",
    "\n",
    "# Initialize an empty DataFrame to store the data\n",
    "merged_df = pd.DataFrame()\n",
    "\n",
    "# Loop through each CSV file and read the specified columns\n",
    "for csv_file in csv_files:\n",
    "    file_path = os.path.join(folder_path, csv_file)\n",
    "\n",
    "    # Read only the specified columns\n",
    "    df = pd.read_csv(file_path, usecols=columns_to_read)\n",
    "\n",
    "    # Rename columns with the CSV file name (without '.csv')\n",
    "    df.columns = [csv_file.replace('.csv', '') + '_' + col for col in df.columns]\n",
    "\n",
    "    # Concatenate the data to the merged DataFrame\n",
    "    merged_df = pd.concat([merged_df, df], axis=1)\n",
    "\n",
    "merged_df\n",
    "# # Display the resulting DataFrame\n",
    "def min_max_normalize(df):\n",
    "    # Copy the original DataFrame to avoid modifying it in place\n",
    "    normalized_df = df.copy()\n",
    "\n",
    "    # Iterate through each column and apply min-max normalization\n",
    "    for column in df.columns:\n",
    "        min_val = df[column].min()\n",
    "        max_val = df[column].max()\n",
    "\n",
    "        # Min-max normalization formula: (x - min) / (max - min)\n",
    "        normalized_df[column] = (df[column] - min_val) / (max_val - min_val)\n",
    "\n",
    "    return normalized_df\n",
    "\n",
    "# Apply min-max normalization\n",
    "normalized_df = min_max_normalize(merged_df)\n",
    "normalized_df = normalized_df * 100\n",
    "normalized_df = normalized_df.iloc[:260,:]\n",
    "normalized_df"
   ]
  },
  {
   "cell_type": "code",
   "execution_count": 20,
   "metadata": {},
   "outputs": [
    {
     "name": "stdout",
     "output_type": "stream",
     "text": [
      "Adjacency Matrix:\n",
      "                 AAPL_Adj Close  ABBV_Adj Close  ABT_Adj Close  ACN_Adj Close   \n",
      "AAPL_Adj Close         1.000000        0.985586       0.968800       0.985598  \\\n",
      "ABBV_Adj Close         0.985586        1.000000       0.972777       0.982711   \n",
      "ABT_Adj Close          0.968800        0.972777       1.000000       0.992942   \n",
      "ACN_Adj Close          0.985598        0.982711       0.992942       1.000000   \n",
      "ADBE_Adj Close         0.964204        0.948055       0.984848       0.985546   \n",
      "AMD_Adj Close          0.987319        0.959075       0.964489       0.980956   \n",
      "AMGN_Adj Close         0.962221        0.979087       0.989334       0.982898   \n",
      "AMZN_Adj Close         0.953466        0.941215       0.987873       0.979431   \n",
      "AVGO_Adj Close         0.983713        0.975749       0.942737       0.967104   \n",
      "BAC_Adj Close          0.951830        0.961807       0.990337       0.986783   \n",
      "BRK-B_Adj Close        0.977978        0.989679       0.987923       0.992313   \n",
      "CMCSA_Adj Close        0.940026        0.944898       0.990362       0.978650   \n",
      "COST_Adj Close         0.991792        0.993332       0.981005       0.993186   \n",
      "CRM_Adj Close          0.951634        0.943865       0.988831       0.981215   \n",
      "CSCO_Adj Close         0.949122        0.964780       0.989024       0.984123   \n",
      "CVX_Adj Close          0.958200        0.988212       0.959594       0.967410   \n",
      "DHR_Adj Close          0.984112        0.980435       0.991755       0.995658   \n",
      "DIS_Adj Close          0.892859        0.899092       0.970358       0.947530   \n",
      "GOOG_Adj Close         0.986800        0.977173       0.984963       0.996149   \n",
      "GOOGL_Adj Close        0.986790        0.977504       0.985393       0.996407   \n",
      "HD_Adj Close           0.979888        0.981148       0.996022       0.997601   \n",
      "IBM_Adj Close          0.957639        0.976849       0.986835       0.983956   \n",
      "INTC_Adj Close         0.882538        0.896135       0.963445       0.938723   \n",
      "INTU_Adj Close         0.984384        0.974841       0.985549       0.996721   \n",
      "JNJ_Adj Close          0.964191        0.979989       0.995477       0.988732   \n",
      "JPM_Adj Close          0.966502        0.972334       0.991362       0.991515   \n",
      "KO_Adj Close           0.963590        0.982316       0.990473       0.986676   \n",
      "LIN_Adj Close          0.989226        0.991417       0.983409       0.992947   \n",
      "LLY_Adj Close          0.961225        0.960165       0.899732       0.931805   \n",
      "MA_Adj Close           0.971966        0.977892       0.994417       0.991156   \n",
      "MCD_Adj Close          0.974045        0.986279       0.989867       0.990406   \n",
      "META_Adj Close         0.941262        0.922678       0.972806       0.969650   \n",
      "MRK_Adj Close          0.961512        0.983382       0.976778       0.976087   \n",
      "MSFT_Adj Close         0.994962        0.983923       0.980982       0.994114   \n",
      "NFLX_Adj Close         0.916460        0.904380       0.968931       0.955424   \n",
      "NKE_Adj Close          0.959464        0.956687       0.994487       0.987449   \n",
      "NVDA_Adj Close         0.944392        0.909998       0.862606       0.905459   \n",
      "ORCL_Adj Close         0.983251        0.982123       0.974753       0.987867   \n",
      "PEP_Adj Close          0.974260        0.988358       0.990017       0.990005   \n",
      "PFE_Adj Close          0.952154        0.973890       0.988046       0.982726   \n",
      "PG_Adj Close           0.973222        0.982661       0.995223       0.992410   \n",
      "QCOM_Adj Close         0.980074        0.970984       0.989703       0.991099   \n",
      "TMO_Adj Close          0.986284        0.986054       0.992524       0.995546   \n",
      "TSLA_Adj Close         0.960398        0.923150       0.910399       0.936541   \n",
      "UNH_Adj Close          0.988423        0.997162       0.979341       0.989615   \n",
      "V_Adj Close            0.967070        0.975121       0.994119       0.989577   \n",
      "VZ_Adj Close           0.901104        0.921072       0.977029       0.953091   \n",
      "WFC_Adj Close          0.928395        0.954062       0.972356       0.969780   \n",
      "WMT_Adj Close          0.970865        0.978671       0.993942       0.989711   \n",
      "XOM_Adj Close          0.947570        0.978603       0.934021       0.948539   \n",
      "\n",
      "                 ADBE_Adj Close  AMD_Adj Close  AMGN_Adj Close   \n",
      "AAPL_Adj Close         0.964204       0.987319        0.962221  \\\n",
      "ABBV_Adj Close         0.948055       0.959075        0.979087   \n",
      "ABT_Adj Close          0.984848       0.964489        0.989334   \n",
      "ACN_Adj Close          0.985546       0.980956        0.982898   \n",
      "ADBE_Adj Close         1.000000       0.974621        0.970571   \n",
      "AMD_Adj Close          0.974621       1.000000        0.943098   \n",
      "AMGN_Adj Close         0.970571       0.943098        1.000000   \n",
      "AMZN_Adj Close         0.992668       0.962155        0.971543   \n",
      "AVGO_Adj Close         0.942588       0.965277        0.948383   \n",
      "BAC_Adj Close          0.972441       0.948933        0.976813   \n",
      "BRK-B_Adj Close        0.970751       0.960543        0.990235   \n",
      "CMCSA_Adj Close        0.984533       0.941243        0.980601   \n",
      "COST_Adj Close         0.967824       0.976564        0.980129   \n",
      "CRM_Adj Close          0.993319       0.960533        0.974953   \n",
      "CSCO_Adj Close         0.973919       0.940600        0.986504   \n",
      "CVX_Adj Close          0.923405       0.923392        0.974072   \n",
      "DHR_Adj Close          0.981373       0.978402        0.978084   \n",
      "DIS_Adj Close          0.960072       0.901336        0.951617   \n",
      "GOOG_Adj Close         0.985242       0.985209        0.971189   \n",
      "GOOGL_Adj Close        0.985214       0.985304        0.971614   \n",
      "HD_Adj Close           0.985075       0.974038        0.987850   \n",
      "IBM_Adj Close          0.968251       0.939139        0.994699   \n",
      "INTC_Adj Close         0.955873       0.889376        0.958362   \n",
      "INTU_Adj Close         0.986967       0.984594        0.971674   \n",
      "JNJ_Adj Close          0.974268       0.949674        0.995941   \n",
      "JPM_Adj Close          0.981513       0.959109        0.986177   \n",
      "KO_Adj Close           0.965836       0.945570        0.994073   \n",
      "LIN_Adj Close          0.973421       0.973580        0.984842   \n",
      "LLY_Adj Close          0.897917       0.927792        0.920279   \n",
      "MA_Adj Close           0.982837       0.960413        0.994915   \n",
      "MCD_Adj Close          0.970251       0.956104        0.992719   \n",
      "META_Adj Close         0.992417       0.955503        0.957064   \n",
      "MRK_Adj Close          0.952086       0.935460        0.990535   \n",
      "MSFT_Adj Close         0.981011       0.988719        0.973959   \n",
      "NFLX_Adj Close         0.981845       0.934983        0.950686   \n",
      "NKE_Adj Close          0.987645       0.965059        0.975668   \n",
      "NVDA_Adj Close         0.890201       0.938649        0.862404   \n",
      "ORCL_Adj Close         0.971636       0.969212        0.975325   \n",
      "PEP_Adj Close          0.967886       0.955560        0.993421   \n",
      "PFE_Adj Close          0.957461       0.941181        0.981089   \n",
      "PG_Adj Close           0.978183       0.961212        0.995013   \n",
      "QCOM_Adj Close         0.980122       0.981368        0.971878   \n",
      "TMO_Adj Close          0.977250       0.978340        0.981512   \n",
      "TSLA_Adj Close         0.915101       0.966124        0.877745   \n",
      "UNH_Adj Close          0.959579       0.966509        0.982240   \n",
      "V_Adj Close            0.982742       0.955430        0.995230   \n",
      "VZ_Adj Close           0.958073       0.900667        0.972802   \n",
      "WFC_Adj Close          0.946935       0.914505        0.971818   \n",
      "WMT_Adj Close          0.980920       0.958496        0.995828   \n",
      "XOM_Adj Close          0.899104       0.905249        0.954735   \n",
      "\n",
      "                 AMZN_Adj Close  AVGO_Adj Close  BAC_Adj Close  ...   \n",
      "AAPL_Adj Close         0.953466        0.983713       0.951830  ...  \\\n",
      "ABBV_Adj Close         0.941215        0.975749       0.961807  ...   \n",
      "ABT_Adj Close          0.987873        0.942737       0.990337  ...   \n",
      "ACN_Adj Close          0.979431        0.967104       0.986783  ...   \n",
      "ADBE_Adj Close         0.992668        0.942588       0.972441  ...   \n",
      "AMD_Adj Close          0.962155        0.965277       0.948933  ...   \n",
      "AMGN_Adj Close         0.971543        0.948383       0.976813  ...   \n",
      "AMZN_Adj Close         1.000000        0.920384       0.974185  ...   \n",
      "AVGO_Adj Close         0.920384        1.000000       0.926444  ...   \n",
      "BAC_Adj Close          0.974185        0.926444       1.000000  ...   \n",
      "BRK-B_Adj Close        0.964991        0.972343       0.982609  ...   \n",
      "CMCSA_Adj Close        0.987428        0.919588       0.986167  ...   \n",
      "COST_Adj Close         0.959027        0.980086       0.970393  ...   \n",
      "CRM_Adj Close          0.993577        0.928167       0.977793  ...   \n",
      "CSCO_Adj Close         0.973192        0.940313       0.987672  ...   \n",
      "CVX_Adj Close          0.916842        0.961374       0.956721  ...   \n",
      "DHR_Adj Close          0.978604        0.953720       0.983056  ...   \n",
      "DIS_Adj Close          0.973916        0.857262       0.973934  ...   \n",
      "GOOG_Adj Close         0.976296        0.968747       0.980001  ...   \n",
      "GOOGL_Adj Close        0.976378        0.968801       0.980416  ...   \n",
      "HD_Adj Close           0.981630        0.959131       0.988415  ...   \n",
      "IBM_Adj Close          0.965208        0.952853       0.981473  ...   \n",
      "INTC_Adj Close         0.967293        0.859472       0.961793  ...   \n",
      "INTU_Adj Close         0.976005        0.967821       0.980320  ...   \n",
      "JNJ_Adj Close          0.976624        0.945616       0.987280  ...   \n",
      "JPM_Adj Close          0.975346        0.956233       0.991439  ...   \n",
      "KO_Adj Close           0.965496        0.950769       0.984149  ...   \n",
      "LIN_Adj Close          0.962508        0.983739       0.970990  ...   \n",
      "LLY_Adj Close          0.868920        0.986252       0.879218  ...   \n",
      "MA_Adj Close           0.980847        0.957654       0.983095  ...   \n",
      "MCD_Adj Close          0.966257        0.965390       0.980214  ...   \n",
      "META_Adj Close         0.986268        0.925578       0.960979  ...   \n",
      "MRK_Adj Close          0.945999        0.961382       0.964024  ...   \n",
      "MSFT_Adj Close         0.969121        0.982912       0.967119  ...   \n",
      "NFLX_Adj Close         0.984132        0.892266       0.957316  ...   \n",
      "NKE_Adj Close          0.988761        0.927530       0.988766  ...   \n",
      "NVDA_Adj Close         0.852322        0.972039       0.840052  ...   \n",
      "ORCL_Adj Close         0.955532        0.986575       0.964379  ...   \n",
      "PEP_Adj Close          0.965058        0.962177       0.980209  ...   \n",
      "PFE_Adj Close          0.961881        0.926674       0.988010  ...   \n",
      "PG_Adj Close           0.977209        0.957217       0.984171  ...   \n",
      "QCOM_Adj Close         0.981398        0.946760       0.980581  ...   \n",
      "TMO_Adj Close          0.974944        0.959116       0.981465  ...   \n",
      "TSLA_Adj Close         0.908102        0.923648       0.900832  ...   \n",
      "UNH_Adj Close          0.952893        0.975416       0.970076  ...   \n",
      "V_Adj Close            0.981053        0.953095       0.983800  ...   \n",
      "VZ_Adj Close           0.971610        0.874234       0.973205  ...   \n",
      "WFC_Adj Close          0.944724        0.923189       0.987211  ...   \n",
      "WMT_Adj Close          0.980099        0.956546       0.980211  ...   \n",
      "XOM_Adj Close          0.885150        0.964280       0.930909  ...   \n",
      "\n",
      "                 PG_Adj Close  QCOM_Adj Close  TMO_Adj Close  TSLA_Adj Close   \n",
      "AAPL_Adj Close       0.973222        0.980074       0.986284        0.960398  \\\n",
      "ABBV_Adj Close       0.982661        0.970984       0.986054        0.923150   \n",
      "ABT_Adj Close        0.995223        0.989703       0.992524        0.910399   \n",
      "ACN_Adj Close        0.992410        0.991099       0.995546        0.936541   \n",
      "ADBE_Adj Close       0.978183        0.980122       0.977250        0.915101   \n",
      "AMD_Adj Close        0.961212        0.981368       0.978340        0.966124   \n",
      "AMGN_Adj Close       0.995013        0.971878       0.981512        0.877745   \n",
      "AMZN_Adj Close       0.977209        0.981398       0.974944        0.908102   \n",
      "AVGO_Adj Close       0.957217        0.946760       0.959116        0.923648   \n",
      "BAC_Adj Close        0.984171        0.980581       0.981465        0.900832   \n",
      "BRK-B_Adj Close      0.995015        0.977020       0.987634        0.906916   \n",
      "CMCSA_Adj Close      0.984633        0.972215       0.970844        0.871448   \n",
      "COST_Adj Close       0.988589        0.981658       0.991965        0.936745   \n",
      "CRM_Adj Close        0.981954        0.976800       0.975321        0.892879   \n",
      "CSCO_Adj Close       0.990797        0.967870       0.975848        0.870762   \n",
      "CVX_Adj Close        0.975255        0.945290       0.967048        0.875509   \n",
      "DHR_Adj Close        0.987338        0.993171       0.998141        0.943541   \n",
      "DIS_Adj Close        0.954458        0.950335       0.940709        0.835004   \n",
      "GOOG_Adj Close       0.982605        0.987031       0.990035        0.948896   \n",
      "GOOGL_Adj Close      0.983147        0.987224       0.990364        0.948635   \n",
      "HD_Adj Close         0.995182        0.990466       0.995649        0.922841   \n",
      "IBM_Adj Close        0.994204        0.966636       0.977819        0.870152   \n",
      "INTC_Adj Close       0.955020        0.932842       0.927967        0.801963   \n",
      "INTU_Adj Close       0.983605        0.986854       0.990523        0.943066   \n",
      "JNJ_Adj Close        0.997036        0.979164       0.988019        0.891181   \n",
      "JPM_Adj Close        0.991325        0.979095       0.984004        0.899445   \n",
      "KO_Adj Close         0.997123        0.974157       0.984972        0.883204   \n",
      "LIN_Adj Close        0.990870        0.978413       0.989798        0.922343   \n",
      "LLY_Adj Close        0.922684        0.901973       0.925219        0.892632   \n",
      "MA_Adj Close         0.997465        0.981454       0.987473        0.896097   \n",
      "MCD_Adj Close        0.997041        0.975956       0.988169        0.895278   \n",
      "META_Adj Close       0.965387        0.961520       0.956173        0.882569   \n",
      "MRK_Adj Close        0.990200        0.956202       0.975254        0.864760   \n",
      "MSFT_Adj Close       0.984205        0.983377       0.989894        0.945813   \n",
      "NFLX_Adj Close       0.955494        0.951488       0.946803        0.857435   \n",
      "NKE_Adj Close        0.984857        0.988800       0.986596        0.911430   \n",
      "NVDA_Adj Close       0.879829        0.880290       0.892022        0.905873   \n",
      "ORCL_Adj Close       0.983308        0.966542       0.980418        0.913897   \n",
      "PEP_Adj Close        0.997558        0.976731       0.989449        0.896492   \n",
      "PFE_Adj Close        0.987380        0.975511       0.984335        0.891853   \n",
      "PG_Adj Close         1.000000        0.983049       0.990794        0.899287   \n",
      "QCOM_Adj Close       0.983049        1.000000       0.992869        0.947665   \n",
      "TMO_Adj Close        0.990794        0.992869       1.000000        0.940557   \n",
      "TSLA_Adj Close       0.899287        0.947665       0.940557        1.000000   \n",
      "UNH_Adj Close        0.986582        0.977931       0.990636        0.931101   \n",
      "V_Adj Close          0.997009        0.978603       0.985302        0.887761   \n",
      "VZ_Adj Close         0.971882        0.949302       0.948514        0.818544   \n",
      "WFC_Adj Close        0.976048        0.950619       0.959129        0.850728   \n",
      "WMT_Adj Close        0.998078        0.979699       0.987554        0.894892   \n",
      "XOM_Adj Close        0.955334        0.919326       0.946575        0.856852   \n",
      "\n",
      "                 UNH_Adj Close  V_Adj Close  VZ_Adj Close  WFC_Adj Close   \n",
      "AAPL_Adj Close        0.988423     0.967070      0.901104       0.928395  \\\n",
      "ABBV_Adj Close        0.997162     0.975121      0.921072       0.954062   \n",
      "ABT_Adj Close         0.979341     0.994119      0.977029       0.972356   \n",
      "ACN_Adj Close         0.989615     0.989577      0.953091       0.969780   \n",
      "ADBE_Adj Close        0.959579     0.982742      0.958073       0.946935   \n",
      "AMD_Adj Close         0.966509     0.955430      0.900667       0.914505   \n",
      "AMGN_Adj Close        0.982240     0.995230      0.972802       0.971818   \n",
      "AMZN_Adj Close        0.952893     0.981053      0.971610       0.944724   \n",
      "AVGO_Adj Close        0.975416     0.953095      0.874234       0.923189   \n",
      "BAC_Adj Close         0.970076     0.983800      0.973205       0.987211   \n",
      "BRK-B_Adj Close       0.991962     0.992570      0.955956       0.980753   \n",
      "CMCSA_Adj Close       0.953478     0.990458      0.988085       0.974794   \n",
      "COST_Adj Close        0.996734     0.981774      0.931088       0.959251   \n",
      "CRM_Adj Close         0.954606     0.986415      0.976227       0.957940   \n",
      "CSCO_Adj Close        0.970118     0.992464      0.979510       0.988269   \n",
      "CVX_Adj Close         0.985187     0.968090      0.922638       0.968617   \n",
      "DHR_Adj Close         0.987426     0.983465      0.947656       0.957626   \n",
      "DIS_Adj Close         0.911472     0.963562      0.986253       0.956508   \n",
      "GOOG_Adj Close        0.984561     0.980804      0.938012       0.959383   \n",
      "GOOGL_Adj Close       0.984807     0.981102      0.938797       0.960101   \n",
      "HD_Adj Close          0.987351     0.992724      0.962008       0.971499   \n",
      "IBM_Adj Close         0.980855     0.995166      0.972597       0.985115   \n",
      "INTC_Adj Close        0.906450     0.964253      0.991690       0.954627   \n",
      "INTU_Adj Close        0.983375     0.981736      0.939592       0.961242   \n",
      "JNJ_Adj Close         0.984068     0.995892      0.977951       0.980060   \n",
      "JPM_Adj Close         0.978167     0.994062      0.967135       0.984279   \n",
      "KO_Adj Close          0.985296     0.994524      0.972527       0.984198   \n",
      "LIN_Adj Close         0.993654     0.988335      0.937049       0.962123   \n",
      "LLY_Adj Close         0.957211     0.917193      0.819131       0.883152   \n",
      "MA_Adj Close          0.982386     0.999381      0.971725       0.973506   \n",
      "MCD_Adj Close         0.989502     0.994875      0.961723       0.978532   \n",
      "META_Adj Close        0.935088     0.974365      0.957523       0.940459   \n",
      "MRK_Adj Close         0.982983     0.988041      0.952351       0.971511   \n",
      "MSFT_Adj Close        0.989194     0.981256      0.927146       0.948373   \n",
      "NFLX_Adj Close        0.917164     0.964824      0.964679       0.931845   \n",
      "NKE_Adj Close         0.965030     0.985913      0.972946       0.964165   \n",
      "NVDA_Adj Close        0.910033     0.875041      0.766342       0.829524   \n",
      "ORCL_Adj Close        0.985292     0.982801      0.927483       0.960919   \n",
      "PEP_Adj Close         0.990775     0.994006      0.961930       0.977310   \n",
      "PFE_Adj Close         0.978450     0.980413      0.970080       0.980857   \n",
      "PG_Adj Close          0.986582     0.997009      0.971882       0.976048   \n",
      "QCOM_Adj Close        0.977931     0.978603      0.949302       0.950619   \n",
      "TMO_Adj Close         0.990636     0.985302      0.948514       0.959129   \n",
      "TSLA_Adj Close        0.931101     0.887761      0.818544       0.850728   \n",
      "UNH_Adj Close         1.000000     0.979978      0.929637       0.959873   \n",
      "V_Adj Close           0.979978     1.000000      0.975947       0.976275   \n",
      "VZ_Adj Close          0.929637     0.975947      1.000000       0.967992   \n",
      "WFC_Adj Close         0.959873     0.976275      0.967992       1.000000   \n",
      "WMT_Adj Close         0.982909     0.997688      0.972089       0.971539   \n",
      "XOM_Adj Close         0.973354     0.948919      0.888042       0.951470   \n",
      "\n",
      "                 WMT_Adj Close  XOM_Adj Close  \n",
      "AAPL_Adj Close        0.970865       0.947570  \n",
      "ABBV_Adj Close        0.978671       0.978603  \n",
      "ABT_Adj Close         0.993942       0.934021  \n",
      "ACN_Adj Close         0.989711       0.948539  \n",
      "ADBE_Adj Close        0.980920       0.899104  \n",
      "AMD_Adj Close         0.958496       0.905249  \n",
      "AMGN_Adj Close        0.995828       0.954735  \n",
      "AMZN_Adj Close        0.980099       0.885150  \n",
      "AVGO_Adj Close        0.956546       0.964280  \n",
      "BAC_Adj Close         0.980211       0.930909  \n",
      "BRK-B_Adj Close       0.993031       0.973013  \n",
      "CMCSA_Adj Close       0.986291       0.910609  \n",
      "COST_Adj Close        0.985324       0.966922  \n",
      "CRM_Adj Close         0.984623       0.900403  \n",
      "CSCO_Adj Close        0.990189       0.948301  \n",
      "CVX_Adj Close         0.970313       0.994140  \n",
      "DHR_Adj Close         0.984612       0.936926  \n",
      "DIS_Adj Close         0.956723       0.856203  \n",
      "GOOG_Adj Close        0.980426       0.938566  \n",
      "GOOGL_Adj Close       0.980860       0.939123  \n",
      "HD_Adj Close          0.993024       0.946741  \n",
      "IBM_Adj Close         0.993302       0.964903  \n",
      "INTC_Adj Close        0.957766       0.858878  \n",
      "INTU_Adj Close        0.981659       0.939414  \n",
      "JNJ_Adj Close         0.995836       0.953519  \n",
      "JPM_Adj Close         0.991202       0.949659  \n",
      "KO_Adj Close          0.994115       0.964805  \n",
      "LIN_Adj Close         0.989841       0.969983  \n",
      "LLY_Adj Close         0.923055       0.961756  \n",
      "MA_Adj Close          0.997603       0.950330  \n",
      "MCD_Adj Close         0.995238       0.970576  \n",
      "META_Adj Close        0.970321       0.878018  \n",
      "MRK_Adj Close         0.989632       0.978973  \n",
      "MSFT_Adj Close        0.982865       0.949087  \n",
      "NFLX_Adj Close        0.962845       0.855147  \n",
      "NKE_Adj Close         0.984196       0.909639  \n",
      "NVDA_Adj Close        0.880974       0.893822  \n",
      "ORCL_Adj Close        0.983668       0.968423  \n",
      "PEP_Adj Close         0.995267       0.969987  \n",
      "PFE_Adj Close         0.981013       0.947460  \n",
      "PG_Adj Close          0.998078       0.955334  \n",
      "QCOM_Adj Close        0.979699       0.919326  \n",
      "TMO_Adj Close         0.987554       0.946575  \n",
      "TSLA_Adj Close        0.894892       0.856852  \n",
      "UNH_Adj Close         0.982909       0.973354  \n",
      "V_Adj Close           0.997688       0.948919  \n",
      "VZ_Adj Close          0.972089       0.888042  \n",
      "WFC_Adj Close         0.971539       0.951470  \n",
      "WMT_Adj Close         1.000000       0.950916  \n",
      "XOM_Adj Close         0.950916       1.000000  \n",
      "\n",
      "[50 rows x 50 columns]\n"
     ]
    }
   ],
   "source": [
    "import pandas as pd\n",
    "from sklearn.metrics.pairwise import cosine_similarity\n",
    "\n",
    "# Sample DataFrame\n",
    "# Replace this with your actual DataFrame\n",
    "data = {\n",
    "    'Column1': [1, 2, 3, 4],\n",
    "    'Column2': [5, 6, 7, 8],\n",
    "    'Column3': [9, 10, 11, 12],\n",
    "    # Add more columns as needed\n",
    "}\n",
    "\n",
    "df = pd.DataFrame(data)\n",
    "\n",
    "# Function to compute cosine similarity between columns\n",
    "def compute_cosine_similarity(df):\n",
    "    # Compute cosine similarity matrix\n",
    "    cosine_sim_matrix = cosine_similarity(df.T)  # Transpose to get columns as samples\n",
    "\n",
    "    # Create a DataFrame from the similarity matrix\n",
    "    adjacency_matrix = pd.DataFrame(cosine_sim_matrix, index=df.columns, columns=df.columns)\n",
    "\n",
    "    return adjacency_matrix\n",
    "\n",
    "# Call the function with your DataFrame\n",
    "adjacency_matrix = compute_cosine_similarity(merged_df)\n",
    "\n",
    "# Display the adjacency matrix\n",
    "print(\"Adjacency Matrix:\")\n",
    "print(adjacency_matrix)\n"
   ]
  },
  {
   "cell_type": "code",
   "execution_count": 21,
   "metadata": {},
   "outputs": [
    {
     "data": {
      "text/html": [
       "<div>\n",
       "<style scoped>\n",
       "    .dataframe tbody tr th:only-of-type {\n",
       "        vertical-align: middle;\n",
       "    }\n",
       "\n",
       "    .dataframe tbody tr th {\n",
       "        vertical-align: top;\n",
       "    }\n",
       "\n",
       "    .dataframe thead th {\n",
       "        text-align: right;\n",
       "    }\n",
       "</style>\n",
       "<table border=\"1\" class=\"dataframe\">\n",
       "  <thead>\n",
       "    <tr style=\"text-align: right;\">\n",
       "      <th></th>\n",
       "      <th>AAPL_Adj Close</th>\n",
       "      <th>ABBV_Adj Close</th>\n",
       "      <th>ABT_Adj Close</th>\n",
       "      <th>ACN_Adj Close</th>\n",
       "      <th>ADBE_Adj Close</th>\n",
       "      <th>AMD_Adj Close</th>\n",
       "      <th>AMGN_Adj Close</th>\n",
       "      <th>AMZN_Adj Close</th>\n",
       "      <th>AVGO_Adj Close</th>\n",
       "      <th>BAC_Adj Close</th>\n",
       "      <th>...</th>\n",
       "      <th>PG_Adj Close</th>\n",
       "      <th>QCOM_Adj Close</th>\n",
       "      <th>TMO_Adj Close</th>\n",
       "      <th>TSLA_Adj Close</th>\n",
       "      <th>UNH_Adj Close</th>\n",
       "      <th>V_Adj Close</th>\n",
       "      <th>VZ_Adj Close</th>\n",
       "      <th>WFC_Adj Close</th>\n",
       "      <th>WMT_Adj Close</th>\n",
       "      <th>XOM_Adj Close</th>\n",
       "    </tr>\n",
       "  </thead>\n",
       "  <tbody>\n",
       "    <tr>\n",
       "      <th>AAPL_Adj Close</th>\n",
       "      <td>1.000000</td>\n",
       "      <td>0.888553</td>\n",
       "      <td>0.835096</td>\n",
       "      <td>0.930854</td>\n",
       "      <td>0.000000</td>\n",
       "      <td>0.913382</td>\n",
       "      <td>0.779497</td>\n",
       "      <td>0.000000</td>\n",
       "      <td>0.895973</td>\n",
       "      <td>0.000000</td>\n",
       "      <td>...</td>\n",
       "      <td>0.947701</td>\n",
       "      <td>0.843805</td>\n",
       "      <td>0.927840</td>\n",
       "      <td>0.901147</td>\n",
       "      <td>0.923524</td>\n",
       "      <td>0.878010</td>\n",
       "      <td>0.000000</td>\n",
       "      <td>0.0</td>\n",
       "      <td>0.918141</td>\n",
       "      <td>0.000000</td>\n",
       "    </tr>\n",
       "    <tr>\n",
       "      <th>ABBV_Adj Close</th>\n",
       "      <td>0.888553</td>\n",
       "      <td>1.000000</td>\n",
       "      <td>0.000000</td>\n",
       "      <td>0.785601</td>\n",
       "      <td>0.000000</td>\n",
       "      <td>0.000000</td>\n",
       "      <td>0.817756</td>\n",
       "      <td>0.000000</td>\n",
       "      <td>0.849173</td>\n",
       "      <td>0.000000</td>\n",
       "      <td>...</td>\n",
       "      <td>0.868976</td>\n",
       "      <td>0.000000</td>\n",
       "      <td>0.835733</td>\n",
       "      <td>0.000000</td>\n",
       "      <td>0.968426</td>\n",
       "      <td>0.000000</td>\n",
       "      <td>0.000000</td>\n",
       "      <td>0.0</td>\n",
       "      <td>0.789635</td>\n",
       "      <td>0.814668</td>\n",
       "    </tr>\n",
       "    <tr>\n",
       "      <th>ABT_Adj Close</th>\n",
       "      <td>0.835096</td>\n",
       "      <td>0.000000</td>\n",
       "      <td>1.000000</td>\n",
       "      <td>0.898797</td>\n",
       "      <td>0.776546</td>\n",
       "      <td>0.883380</td>\n",
       "      <td>0.000000</td>\n",
       "      <td>0.767864</td>\n",
       "      <td>0.000000</td>\n",
       "      <td>0.000000</td>\n",
       "      <td>...</td>\n",
       "      <td>0.822624</td>\n",
       "      <td>0.935783</td>\n",
       "      <td>0.921596</td>\n",
       "      <td>0.893397</td>\n",
       "      <td>0.000000</td>\n",
       "      <td>0.777723</td>\n",
       "      <td>0.000000</td>\n",
       "      <td>0.0</td>\n",
       "      <td>0.770920</td>\n",
       "      <td>0.000000</td>\n",
       "    </tr>\n",
       "    <tr>\n",
       "      <th>ACN_Adj Close</th>\n",
       "      <td>0.930854</td>\n",
       "      <td>0.785601</td>\n",
       "      <td>0.898797</td>\n",
       "      <td>1.000000</td>\n",
       "      <td>0.776719</td>\n",
       "      <td>0.933396</td>\n",
       "      <td>0.000000</td>\n",
       "      <td>0.000000</td>\n",
       "      <td>0.807020</td>\n",
       "      <td>0.753376</td>\n",
       "      <td>...</td>\n",
       "      <td>0.902944</td>\n",
       "      <td>0.886435</td>\n",
       "      <td>0.933729</td>\n",
       "      <td>0.923211</td>\n",
       "      <td>0.859254</td>\n",
       "      <td>0.846789</td>\n",
       "      <td>0.000000</td>\n",
       "      <td>0.0</td>\n",
       "      <td>0.835145</td>\n",
       "      <td>0.000000</td>\n",
       "    </tr>\n",
       "    <tr>\n",
       "      <th>ADBE_Adj Close</th>\n",
       "      <td>0.000000</td>\n",
       "      <td>0.000000</td>\n",
       "      <td>0.776546</td>\n",
       "      <td>0.776719</td>\n",
       "      <td>1.000000</td>\n",
       "      <td>0.841673</td>\n",
       "      <td>0.000000</td>\n",
       "      <td>0.893600</td>\n",
       "      <td>0.000000</td>\n",
       "      <td>0.000000</td>\n",
       "      <td>...</td>\n",
       "      <td>0.000000</td>\n",
       "      <td>0.000000</td>\n",
       "      <td>0.000000</td>\n",
       "      <td>0.000000</td>\n",
       "      <td>0.000000</td>\n",
       "      <td>0.000000</td>\n",
       "      <td>0.000000</td>\n",
       "      <td>0.0</td>\n",
       "      <td>0.000000</td>\n",
       "      <td>0.000000</td>\n",
       "    </tr>\n",
       "    <tr>\n",
       "      <th>AMD_Adj Close</th>\n",
       "      <td>0.913382</td>\n",
       "      <td>0.000000</td>\n",
       "      <td>0.883380</td>\n",
       "      <td>0.933396</td>\n",
       "      <td>0.841673</td>\n",
       "      <td>1.000000</td>\n",
       "      <td>0.000000</td>\n",
       "      <td>0.000000</td>\n",
       "      <td>0.775973</td>\n",
       "      <td>0.000000</td>\n",
       "      <td>...</td>\n",
       "      <td>0.869876</td>\n",
       "      <td>0.894577</td>\n",
       "      <td>0.894111</td>\n",
       "      <td>0.910014</td>\n",
       "      <td>0.757026</td>\n",
       "      <td>0.809585</td>\n",
       "      <td>0.000000</td>\n",
       "      <td>0.0</td>\n",
       "      <td>0.835794</td>\n",
       "      <td>0.000000</td>\n",
       "    </tr>\n",
       "    <tr>\n",
       "      <th>AMGN_Adj Close</th>\n",
       "      <td>0.779497</td>\n",
       "      <td>0.817756</td>\n",
       "      <td>0.000000</td>\n",
       "      <td>0.000000</td>\n",
       "      <td>0.000000</td>\n",
       "      <td>0.000000</td>\n",
       "      <td>1.000000</td>\n",
       "      <td>0.000000</td>\n",
       "      <td>0.000000</td>\n",
       "      <td>0.000000</td>\n",
       "      <td>...</td>\n",
       "      <td>0.778392</td>\n",
       "      <td>0.000000</td>\n",
       "      <td>0.000000</td>\n",
       "      <td>0.000000</td>\n",
       "      <td>0.811358</td>\n",
       "      <td>0.757692</td>\n",
       "      <td>0.000000</td>\n",
       "      <td>0.0</td>\n",
       "      <td>0.807236</td>\n",
       "      <td>0.000000</td>\n",
       "    </tr>\n",
       "    <tr>\n",
       "      <th>AMZN_Adj Close</th>\n",
       "      <td>0.000000</td>\n",
       "      <td>0.000000</td>\n",
       "      <td>0.767864</td>\n",
       "      <td>0.000000</td>\n",
       "      <td>0.893600</td>\n",
       "      <td>0.000000</td>\n",
       "      <td>0.000000</td>\n",
       "      <td>1.000000</td>\n",
       "      <td>0.000000</td>\n",
       "      <td>0.000000</td>\n",
       "      <td>...</td>\n",
       "      <td>0.000000</td>\n",
       "      <td>0.000000</td>\n",
       "      <td>0.000000</td>\n",
       "      <td>0.000000</td>\n",
       "      <td>0.000000</td>\n",
       "      <td>0.000000</td>\n",
       "      <td>0.000000</td>\n",
       "      <td>0.0</td>\n",
       "      <td>0.000000</td>\n",
       "      <td>0.000000</td>\n",
       "    </tr>\n",
       "    <tr>\n",
       "      <th>AVGO_Adj Close</th>\n",
       "      <td>0.895973</td>\n",
       "      <td>0.849173</td>\n",
       "      <td>0.000000</td>\n",
       "      <td>0.807020</td>\n",
       "      <td>0.000000</td>\n",
       "      <td>0.775973</td>\n",
       "      <td>0.000000</td>\n",
       "      <td>0.000000</td>\n",
       "      <td>1.000000</td>\n",
       "      <td>0.000000</td>\n",
       "      <td>...</td>\n",
       "      <td>0.847971</td>\n",
       "      <td>0.000000</td>\n",
       "      <td>0.000000</td>\n",
       "      <td>0.000000</td>\n",
       "      <td>0.854421</td>\n",
       "      <td>0.806828</td>\n",
       "      <td>0.000000</td>\n",
       "      <td>0.0</td>\n",
       "      <td>0.846596</td>\n",
       "      <td>0.760602</td>\n",
       "    </tr>\n",
       "    <tr>\n",
       "      <th>BAC_Adj Close</th>\n",
       "      <td>0.000000</td>\n",
       "      <td>0.000000</td>\n",
       "      <td>0.000000</td>\n",
       "      <td>0.753376</td>\n",
       "      <td>0.000000</td>\n",
       "      <td>0.000000</td>\n",
       "      <td>0.000000</td>\n",
       "      <td>0.000000</td>\n",
       "      <td>0.000000</td>\n",
       "      <td>1.000000</td>\n",
       "      <td>...</td>\n",
       "      <td>0.000000</td>\n",
       "      <td>0.000000</td>\n",
       "      <td>0.000000</td>\n",
       "      <td>0.000000</td>\n",
       "      <td>0.000000</td>\n",
       "      <td>0.000000</td>\n",
       "      <td>0.000000</td>\n",
       "      <td>0.0</td>\n",
       "      <td>0.000000</td>\n",
       "      <td>0.000000</td>\n",
       "    </tr>\n",
       "    <tr>\n",
       "      <th>BRK-B_Adj Close</th>\n",
       "      <td>0.894791</td>\n",
       "      <td>0.914204</td>\n",
       "      <td>0.000000</td>\n",
       "      <td>0.857946</td>\n",
       "      <td>0.000000</td>\n",
       "      <td>0.750979</td>\n",
       "      <td>0.000000</td>\n",
       "      <td>0.000000</td>\n",
       "      <td>0.927813</td>\n",
       "      <td>0.000000</td>\n",
       "      <td>...</td>\n",
       "      <td>0.879582</td>\n",
       "      <td>0.000000</td>\n",
       "      <td>0.797096</td>\n",
       "      <td>0.763251</td>\n",
       "      <td>0.917704</td>\n",
       "      <td>0.804116</td>\n",
       "      <td>0.000000</td>\n",
       "      <td>0.0</td>\n",
       "      <td>0.816245</td>\n",
       "      <td>0.801920</td>\n",
       "    </tr>\n",
       "    <tr>\n",
       "      <th>CMCSA_Adj Close</th>\n",
       "      <td>0.000000</td>\n",
       "      <td>0.000000</td>\n",
       "      <td>0.000000</td>\n",
       "      <td>0.000000</td>\n",
       "      <td>0.789433</td>\n",
       "      <td>0.000000</td>\n",
       "      <td>0.000000</td>\n",
       "      <td>0.767387</td>\n",
       "      <td>0.000000</td>\n",
       "      <td>0.000000</td>\n",
       "      <td>...</td>\n",
       "      <td>0.000000</td>\n",
       "      <td>0.000000</td>\n",
       "      <td>0.000000</td>\n",
       "      <td>0.000000</td>\n",
       "      <td>0.000000</td>\n",
       "      <td>0.000000</td>\n",
       "      <td>0.000000</td>\n",
       "      <td>0.0</td>\n",
       "      <td>0.000000</td>\n",
       "      <td>0.000000</td>\n",
       "    </tr>\n",
       "    <tr>\n",
       "      <th>COST_Adj Close</th>\n",
       "      <td>0.956148</td>\n",
       "      <td>0.923489</td>\n",
       "      <td>0.754225</td>\n",
       "      <td>0.913692</td>\n",
       "      <td>0.000000</td>\n",
       "      <td>0.847671</td>\n",
       "      <td>0.760047</td>\n",
       "      <td>0.000000</td>\n",
       "      <td>0.891872</td>\n",
       "      <td>0.000000</td>\n",
       "      <td>...</td>\n",
       "      <td>0.941243</td>\n",
       "      <td>0.775030</td>\n",
       "      <td>0.902537</td>\n",
       "      <td>0.853934</td>\n",
       "      <td>0.959133</td>\n",
       "      <td>0.803872</td>\n",
       "      <td>0.000000</td>\n",
       "      <td>0.0</td>\n",
       "      <td>0.873344</td>\n",
       "      <td>0.000000</td>\n",
       "    </tr>\n",
       "    <tr>\n",
       "      <th>CRM_Adj Close</th>\n",
       "      <td>0.000000</td>\n",
       "      <td>0.000000</td>\n",
       "      <td>0.000000</td>\n",
       "      <td>0.000000</td>\n",
       "      <td>0.911478</td>\n",
       "      <td>0.000000</td>\n",
       "      <td>0.000000</td>\n",
       "      <td>0.884394</td>\n",
       "      <td>0.000000</td>\n",
       "      <td>0.000000</td>\n",
       "      <td>...</td>\n",
       "      <td>0.000000</td>\n",
       "      <td>0.000000</td>\n",
       "      <td>0.000000</td>\n",
       "      <td>0.000000</td>\n",
       "      <td>0.000000</td>\n",
       "      <td>0.000000</td>\n",
       "      <td>0.000000</td>\n",
       "      <td>0.0</td>\n",
       "      <td>0.000000</td>\n",
       "      <td>0.000000</td>\n",
       "    </tr>\n",
       "    <tr>\n",
       "      <th>CSCO_Adj Close</th>\n",
       "      <td>0.000000</td>\n",
       "      <td>0.000000</td>\n",
       "      <td>0.000000</td>\n",
       "      <td>0.000000</td>\n",
       "      <td>0.000000</td>\n",
       "      <td>0.000000</td>\n",
       "      <td>0.000000</td>\n",
       "      <td>0.000000</td>\n",
       "      <td>0.000000</td>\n",
       "      <td>0.000000</td>\n",
       "      <td>...</td>\n",
       "      <td>0.000000</td>\n",
       "      <td>0.000000</td>\n",
       "      <td>0.000000</td>\n",
       "      <td>0.000000</td>\n",
       "      <td>0.000000</td>\n",
       "      <td>0.000000</td>\n",
       "      <td>0.000000</td>\n",
       "      <td>0.0</td>\n",
       "      <td>0.000000</td>\n",
       "      <td>0.000000</td>\n",
       "    </tr>\n",
       "    <tr>\n",
       "      <th>CVX_Adj Close</th>\n",
       "      <td>0.000000</td>\n",
       "      <td>0.864086</td>\n",
       "      <td>0.000000</td>\n",
       "      <td>0.000000</td>\n",
       "      <td>0.000000</td>\n",
       "      <td>0.000000</td>\n",
       "      <td>0.000000</td>\n",
       "      <td>0.000000</td>\n",
       "      <td>0.000000</td>\n",
       "      <td>0.000000</td>\n",
       "      <td>...</td>\n",
       "      <td>0.000000</td>\n",
       "      <td>0.000000</td>\n",
       "      <td>0.000000</td>\n",
       "      <td>0.000000</td>\n",
       "      <td>0.816051</td>\n",
       "      <td>0.000000</td>\n",
       "      <td>0.773236</td>\n",
       "      <td>0.0</td>\n",
       "      <td>0.000000</td>\n",
       "      <td>0.970460</td>\n",
       "    </tr>\n",
       "    <tr>\n",
       "      <th>DHR_Adj Close</th>\n",
       "      <td>0.894189</td>\n",
       "      <td>0.766927</td>\n",
       "      <td>0.935820</td>\n",
       "      <td>0.942493</td>\n",
       "      <td>0.000000</td>\n",
       "      <td>0.882148</td>\n",
       "      <td>0.000000</td>\n",
       "      <td>0.000000</td>\n",
       "      <td>0.000000</td>\n",
       "      <td>0.000000</td>\n",
       "      <td>...</td>\n",
       "      <td>0.862556</td>\n",
       "      <td>0.913387</td>\n",
       "      <td>0.974442</td>\n",
       "      <td>0.917447</td>\n",
       "      <td>0.839015</td>\n",
       "      <td>0.796897</td>\n",
       "      <td>0.000000</td>\n",
       "      <td>0.0</td>\n",
       "      <td>0.804135</td>\n",
       "      <td>0.000000</td>\n",
       "    </tr>\n",
       "    <tr>\n",
       "      <th>DIS_Adj Close</th>\n",
       "      <td>0.000000</td>\n",
       "      <td>0.000000</td>\n",
       "      <td>0.000000</td>\n",
       "      <td>0.000000</td>\n",
       "      <td>0.000000</td>\n",
       "      <td>0.000000</td>\n",
       "      <td>0.000000</td>\n",
       "      <td>0.000000</td>\n",
       "      <td>0.000000</td>\n",
       "      <td>0.000000</td>\n",
       "      <td>...</td>\n",
       "      <td>0.000000</td>\n",
       "      <td>0.000000</td>\n",
       "      <td>0.000000</td>\n",
       "      <td>0.000000</td>\n",
       "      <td>0.000000</td>\n",
       "      <td>0.000000</td>\n",
       "      <td>0.000000</td>\n",
       "      <td>0.0</td>\n",
       "      <td>0.000000</td>\n",
       "      <td>0.000000</td>\n",
       "    </tr>\n",
       "    <tr>\n",
       "      <th>GOOG_Adj Close</th>\n",
       "      <td>0.902750</td>\n",
       "      <td>0.000000</td>\n",
       "      <td>0.866556</td>\n",
       "      <td>0.966388</td>\n",
       "      <td>0.815136</td>\n",
       "      <td>0.920320</td>\n",
       "      <td>0.000000</td>\n",
       "      <td>0.000000</td>\n",
       "      <td>0.793166</td>\n",
       "      <td>0.000000</td>\n",
       "      <td>...</td>\n",
       "      <td>0.842264</td>\n",
       "      <td>0.845909</td>\n",
       "      <td>0.880250</td>\n",
       "      <td>0.913009</td>\n",
       "      <td>0.813291</td>\n",
       "      <td>0.832234</td>\n",
       "      <td>0.000000</td>\n",
       "      <td>0.0</td>\n",
       "      <td>0.801316</td>\n",
       "      <td>0.000000</td>\n",
       "    </tr>\n",
       "    <tr>\n",
       "      <th>GOOGL_Adj Close</th>\n",
       "      <td>0.903822</td>\n",
       "      <td>0.000000</td>\n",
       "      <td>0.867052</td>\n",
       "      <td>0.967771</td>\n",
       "      <td>0.812216</td>\n",
       "      <td>0.923063</td>\n",
       "      <td>0.000000</td>\n",
       "      <td>0.000000</td>\n",
       "      <td>0.794697</td>\n",
       "      <td>0.000000</td>\n",
       "      <td>...</td>\n",
       "      <td>0.844452</td>\n",
       "      <td>0.846601</td>\n",
       "      <td>0.882142</td>\n",
       "      <td>0.915167</td>\n",
       "      <td>0.814376</td>\n",
       "      <td>0.827947</td>\n",
       "      <td>0.000000</td>\n",
       "      <td>0.0</td>\n",
       "      <td>0.800575</td>\n",
       "      <td>0.000000</td>\n",
       "    </tr>\n",
       "    <tr>\n",
       "      <th>HD_Adj Close</th>\n",
       "      <td>0.906978</td>\n",
       "      <td>0.768816</td>\n",
       "      <td>0.916393</td>\n",
       "      <td>0.962719</td>\n",
       "      <td>0.759551</td>\n",
       "      <td>0.907882</td>\n",
       "      <td>0.000000</td>\n",
       "      <td>0.000000</td>\n",
       "      <td>0.753115</td>\n",
       "      <td>0.000000</td>\n",
       "      <td>...</td>\n",
       "      <td>0.901877</td>\n",
       "      <td>0.891152</td>\n",
       "      <td>0.943013</td>\n",
       "      <td>0.885199</td>\n",
       "      <td>0.832119</td>\n",
       "      <td>0.838470</td>\n",
       "      <td>0.000000</td>\n",
       "      <td>0.0</td>\n",
       "      <td>0.837979</td>\n",
       "      <td>0.000000</td>\n",
       "    </tr>\n",
       "    <tr>\n",
       "      <th>IBM_Adj Close</th>\n",
       "      <td>0.000000</td>\n",
       "      <td>0.795663</td>\n",
       "      <td>0.000000</td>\n",
       "      <td>0.000000</td>\n",
       "      <td>0.000000</td>\n",
       "      <td>0.000000</td>\n",
       "      <td>0.000000</td>\n",
       "      <td>0.000000</td>\n",
       "      <td>0.832101</td>\n",
       "      <td>0.000000</td>\n",
       "      <td>...</td>\n",
       "      <td>0.000000</td>\n",
       "      <td>0.000000</td>\n",
       "      <td>0.000000</td>\n",
       "      <td>0.000000</td>\n",
       "      <td>0.804815</td>\n",
       "      <td>0.000000</td>\n",
       "      <td>0.000000</td>\n",
       "      <td>0.0</td>\n",
       "      <td>0.000000</td>\n",
       "      <td>0.828643</td>\n",
       "    </tr>\n",
       "    <tr>\n",
       "      <th>INTC_Adj Close</th>\n",
       "      <td>0.000000</td>\n",
       "      <td>0.000000</td>\n",
       "      <td>0.000000</td>\n",
       "      <td>0.000000</td>\n",
       "      <td>0.000000</td>\n",
       "      <td>0.000000</td>\n",
       "      <td>0.000000</td>\n",
       "      <td>0.000000</td>\n",
       "      <td>0.000000</td>\n",
       "      <td>0.000000</td>\n",
       "      <td>...</td>\n",
       "      <td>0.000000</td>\n",
       "      <td>0.000000</td>\n",
       "      <td>0.000000</td>\n",
       "      <td>0.000000</td>\n",
       "      <td>0.000000</td>\n",
       "      <td>0.000000</td>\n",
       "      <td>0.797748</td>\n",
       "      <td>0.0</td>\n",
       "      <td>0.000000</td>\n",
       "      <td>0.776011</td>\n",
       "    </tr>\n",
       "    <tr>\n",
       "      <th>INTU_Adj Close</th>\n",
       "      <td>0.881979</td>\n",
       "      <td>0.000000</td>\n",
       "      <td>0.855855</td>\n",
       "      <td>0.967585</td>\n",
       "      <td>0.827771</td>\n",
       "      <td>0.919553</td>\n",
       "      <td>0.000000</td>\n",
       "      <td>0.000000</td>\n",
       "      <td>0.779595</td>\n",
       "      <td>0.000000</td>\n",
       "      <td>...</td>\n",
       "      <td>0.833807</td>\n",
       "      <td>0.840596</td>\n",
       "      <td>0.883103</td>\n",
       "      <td>0.891322</td>\n",
       "      <td>0.790701</td>\n",
       "      <td>0.813458</td>\n",
       "      <td>0.000000</td>\n",
       "      <td>0.0</td>\n",
       "      <td>0.795016</td>\n",
       "      <td>0.000000</td>\n",
       "    </tr>\n",
       "    <tr>\n",
       "      <th>JNJ_Adj Close</th>\n",
       "      <td>0.893491</td>\n",
       "      <td>0.902003</td>\n",
       "      <td>0.833397</td>\n",
       "      <td>0.864632</td>\n",
       "      <td>0.000000</td>\n",
       "      <td>0.767661</td>\n",
       "      <td>0.787517</td>\n",
       "      <td>0.000000</td>\n",
       "      <td>0.000000</td>\n",
       "      <td>0.000000</td>\n",
       "      <td>...</td>\n",
       "      <td>0.871326</td>\n",
       "      <td>0.794334</td>\n",
       "      <td>0.909583</td>\n",
       "      <td>0.843047</td>\n",
       "      <td>0.920262</td>\n",
       "      <td>0.782555</td>\n",
       "      <td>0.000000</td>\n",
       "      <td>0.0</td>\n",
       "      <td>0.798881</td>\n",
       "      <td>0.000000</td>\n",
       "    </tr>\n",
       "    <tr>\n",
       "      <th>JPM_Adj Close</th>\n",
       "      <td>0.752228</td>\n",
       "      <td>0.000000</td>\n",
       "      <td>0.000000</td>\n",
       "      <td>0.844053</td>\n",
       "      <td>0.000000</td>\n",
       "      <td>0.750659</td>\n",
       "      <td>0.000000</td>\n",
       "      <td>0.000000</td>\n",
       "      <td>0.000000</td>\n",
       "      <td>0.791203</td>\n",
       "      <td>...</td>\n",
       "      <td>0.000000</td>\n",
       "      <td>0.000000</td>\n",
       "      <td>0.000000</td>\n",
       "      <td>0.000000</td>\n",
       "      <td>0.000000</td>\n",
       "      <td>0.821689</td>\n",
       "      <td>0.000000</td>\n",
       "      <td>0.0</td>\n",
       "      <td>0.000000</td>\n",
       "      <td>0.000000</td>\n",
       "    </tr>\n",
       "    <tr>\n",
       "      <th>KO_Adj Close</th>\n",
       "      <td>0.819749</td>\n",
       "      <td>0.905123</td>\n",
       "      <td>0.000000</td>\n",
       "      <td>0.765511</td>\n",
       "      <td>0.000000</td>\n",
       "      <td>0.000000</td>\n",
       "      <td>0.000000</td>\n",
       "      <td>0.000000</td>\n",
       "      <td>0.784289</td>\n",
       "      <td>0.000000</td>\n",
       "      <td>...</td>\n",
       "      <td>0.871885</td>\n",
       "      <td>0.000000</td>\n",
       "      <td>0.783396</td>\n",
       "      <td>0.000000</td>\n",
       "      <td>0.899535</td>\n",
       "      <td>0.000000</td>\n",
       "      <td>0.000000</td>\n",
       "      <td>0.0</td>\n",
       "      <td>0.000000</td>\n",
       "      <td>0.795676</td>\n",
       "    </tr>\n",
       "    <tr>\n",
       "      <th>LIN_Adj Close</th>\n",
       "      <td>0.948331</td>\n",
       "      <td>0.900848</td>\n",
       "      <td>0.000000</td>\n",
       "      <td>0.891223</td>\n",
       "      <td>0.000000</td>\n",
       "      <td>0.833904</td>\n",
       "      <td>0.788295</td>\n",
       "      <td>0.000000</td>\n",
       "      <td>0.949293</td>\n",
       "      <td>0.000000</td>\n",
       "      <td>...</td>\n",
       "      <td>0.925852</td>\n",
       "      <td>0.000000</td>\n",
       "      <td>0.855927</td>\n",
       "      <td>0.785087</td>\n",
       "      <td>0.916371</td>\n",
       "      <td>0.886497</td>\n",
       "      <td>0.000000</td>\n",
       "      <td>0.0</td>\n",
       "      <td>0.907378</td>\n",
       "      <td>0.000000</td>\n",
       "    </tr>\n",
       "    <tr>\n",
       "      <th>LLY_Adj Close</th>\n",
       "      <td>0.826420</td>\n",
       "      <td>0.863218</td>\n",
       "      <td>0.000000</td>\n",
       "      <td>0.000000</td>\n",
       "      <td>0.000000</td>\n",
       "      <td>0.000000</td>\n",
       "      <td>0.772590</td>\n",
       "      <td>0.000000</td>\n",
       "      <td>0.948628</td>\n",
       "      <td>0.000000</td>\n",
       "      <td>...</td>\n",
       "      <td>0.776354</td>\n",
       "      <td>0.000000</td>\n",
       "      <td>0.000000</td>\n",
       "      <td>0.000000</td>\n",
       "      <td>0.859824</td>\n",
       "      <td>0.000000</td>\n",
       "      <td>0.803080</td>\n",
       "      <td>0.0</td>\n",
       "      <td>0.792056</td>\n",
       "      <td>0.837922</td>\n",
       "    </tr>\n",
       "    <tr>\n",
       "      <th>MA_Adj Close</th>\n",
       "      <td>0.897581</td>\n",
       "      <td>0.751068</td>\n",
       "      <td>0.803019</td>\n",
       "      <td>0.856765</td>\n",
       "      <td>0.000000</td>\n",
       "      <td>0.829423</td>\n",
       "      <td>0.785290</td>\n",
       "      <td>0.000000</td>\n",
       "      <td>0.820520</td>\n",
       "      <td>0.000000</td>\n",
       "      <td>...</td>\n",
       "      <td>0.901842</td>\n",
       "      <td>0.772651</td>\n",
       "      <td>0.816899</td>\n",
       "      <td>0.756898</td>\n",
       "      <td>0.777947</td>\n",
       "      <td>0.982893</td>\n",
       "      <td>0.000000</td>\n",
       "      <td>0.0</td>\n",
       "      <td>0.905374</td>\n",
       "      <td>0.000000</td>\n",
       "    </tr>\n",
       "    <tr>\n",
       "      <th>MCD_Adj Close</th>\n",
       "      <td>0.897921</td>\n",
       "      <td>0.898085</td>\n",
       "      <td>0.000000</td>\n",
       "      <td>0.826619</td>\n",
       "      <td>0.000000</td>\n",
       "      <td>0.000000</td>\n",
       "      <td>0.000000</td>\n",
       "      <td>0.000000</td>\n",
       "      <td>0.903910</td>\n",
       "      <td>0.000000</td>\n",
       "      <td>...</td>\n",
       "      <td>0.899690</td>\n",
       "      <td>0.000000</td>\n",
       "      <td>0.820976</td>\n",
       "      <td>0.000000</td>\n",
       "      <td>0.910259</td>\n",
       "      <td>0.811878</td>\n",
       "      <td>0.000000</td>\n",
       "      <td>0.0</td>\n",
       "      <td>0.829969</td>\n",
       "      <td>0.810765</td>\n",
       "    </tr>\n",
       "    <tr>\n",
       "      <th>META_Adj Close</th>\n",
       "      <td>0.000000</td>\n",
       "      <td>0.000000</td>\n",
       "      <td>0.000000</td>\n",
       "      <td>0.000000</td>\n",
       "      <td>0.900307</td>\n",
       "      <td>0.000000</td>\n",
       "      <td>0.000000</td>\n",
       "      <td>0.814288</td>\n",
       "      <td>0.000000</td>\n",
       "      <td>0.000000</td>\n",
       "      <td>...</td>\n",
       "      <td>0.000000</td>\n",
       "      <td>0.000000</td>\n",
       "      <td>0.000000</td>\n",
       "      <td>0.000000</td>\n",
       "      <td>0.000000</td>\n",
       "      <td>0.000000</td>\n",
       "      <td>0.000000</td>\n",
       "      <td>0.0</td>\n",
       "      <td>0.000000</td>\n",
       "      <td>0.000000</td>\n",
       "    </tr>\n",
       "    <tr>\n",
       "      <th>MRK_Adj Close</th>\n",
       "      <td>0.000000</td>\n",
       "      <td>0.817076</td>\n",
       "      <td>0.000000</td>\n",
       "      <td>0.000000</td>\n",
       "      <td>0.000000</td>\n",
       "      <td>0.000000</td>\n",
       "      <td>0.000000</td>\n",
       "      <td>0.000000</td>\n",
       "      <td>0.803859</td>\n",
       "      <td>0.000000</td>\n",
       "      <td>...</td>\n",
       "      <td>0.000000</td>\n",
       "      <td>0.000000</td>\n",
       "      <td>0.000000</td>\n",
       "      <td>0.000000</td>\n",
       "      <td>0.761974</td>\n",
       "      <td>0.000000</td>\n",
       "      <td>0.834689</td>\n",
       "      <td>0.0</td>\n",
       "      <td>0.000000</td>\n",
       "      <td>0.901374</td>\n",
       "    </tr>\n",
       "    <tr>\n",
       "      <th>MSFT_Adj Close</th>\n",
       "      <td>0.972543</td>\n",
       "      <td>0.823227</td>\n",
       "      <td>0.831089</td>\n",
       "      <td>0.950385</td>\n",
       "      <td>0.772075</td>\n",
       "      <td>0.941555</td>\n",
       "      <td>0.000000</td>\n",
       "      <td>0.000000</td>\n",
       "      <td>0.901848</td>\n",
       "      <td>0.000000</td>\n",
       "      <td>...</td>\n",
       "      <td>0.923173</td>\n",
       "      <td>0.814407</td>\n",
       "      <td>0.895576</td>\n",
       "      <td>0.882351</td>\n",
       "      <td>0.876471</td>\n",
       "      <td>0.891767</td>\n",
       "      <td>0.000000</td>\n",
       "      <td>0.0</td>\n",
       "      <td>0.903860</td>\n",
       "      <td>0.000000</td>\n",
       "    </tr>\n",
       "    <tr>\n",
       "      <th>NFLX_Adj Close</th>\n",
       "      <td>0.000000</td>\n",
       "      <td>0.000000</td>\n",
       "      <td>0.000000</td>\n",
       "      <td>0.000000</td>\n",
       "      <td>0.756355</td>\n",
       "      <td>0.000000</td>\n",
       "      <td>0.000000</td>\n",
       "      <td>0.772016</td>\n",
       "      <td>0.000000</td>\n",
       "      <td>0.000000</td>\n",
       "      <td>...</td>\n",
       "      <td>0.000000</td>\n",
       "      <td>0.000000</td>\n",
       "      <td>0.000000</td>\n",
       "      <td>0.000000</td>\n",
       "      <td>0.000000</td>\n",
       "      <td>0.000000</td>\n",
       "      <td>0.000000</td>\n",
       "      <td>0.0</td>\n",
       "      <td>0.000000</td>\n",
       "      <td>0.000000</td>\n",
       "    </tr>\n",
       "    <tr>\n",
       "      <th>NKE_Adj Close</th>\n",
       "      <td>0.000000</td>\n",
       "      <td>0.000000</td>\n",
       "      <td>0.891996</td>\n",
       "      <td>0.774060</td>\n",
       "      <td>0.814040</td>\n",
       "      <td>0.792371</td>\n",
       "      <td>0.000000</td>\n",
       "      <td>0.793638</td>\n",
       "      <td>0.000000</td>\n",
       "      <td>0.757046</td>\n",
       "      <td>...</td>\n",
       "      <td>0.000000</td>\n",
       "      <td>0.858636</td>\n",
       "      <td>0.777001</td>\n",
       "      <td>0.763400</td>\n",
       "      <td>0.000000</td>\n",
       "      <td>0.000000</td>\n",
       "      <td>0.000000</td>\n",
       "      <td>0.0</td>\n",
       "      <td>0.000000</td>\n",
       "      <td>0.000000</td>\n",
       "    </tr>\n",
       "    <tr>\n",
       "      <th>NVDA_Adj Close</th>\n",
       "      <td>0.870559</td>\n",
       "      <td>0.000000</td>\n",
       "      <td>0.000000</td>\n",
       "      <td>0.804367</td>\n",
       "      <td>0.000000</td>\n",
       "      <td>0.822067</td>\n",
       "      <td>0.000000</td>\n",
       "      <td>0.000000</td>\n",
       "      <td>0.965623</td>\n",
       "      <td>0.000000</td>\n",
       "      <td>...</td>\n",
       "      <td>0.813992</td>\n",
       "      <td>0.000000</td>\n",
       "      <td>0.000000</td>\n",
       "      <td>0.000000</td>\n",
       "      <td>0.769826</td>\n",
       "      <td>0.799963</td>\n",
       "      <td>0.000000</td>\n",
       "      <td>0.0</td>\n",
       "      <td>0.840907</td>\n",
       "      <td>0.000000</td>\n",
       "    </tr>\n",
       "    <tr>\n",
       "      <th>ORCL_Adj Close</th>\n",
       "      <td>0.871395</td>\n",
       "      <td>0.790612</td>\n",
       "      <td>0.000000</td>\n",
       "      <td>0.836748</td>\n",
       "      <td>0.000000</td>\n",
       "      <td>0.780637</td>\n",
       "      <td>0.000000</td>\n",
       "      <td>0.000000</td>\n",
       "      <td>0.953036</td>\n",
       "      <td>0.000000</td>\n",
       "      <td>...</td>\n",
       "      <td>0.824784</td>\n",
       "      <td>0.000000</td>\n",
       "      <td>0.000000</td>\n",
       "      <td>0.000000</td>\n",
       "      <td>0.814599</td>\n",
       "      <td>0.838320</td>\n",
       "      <td>0.000000</td>\n",
       "      <td>0.0</td>\n",
       "      <td>0.840071</td>\n",
       "      <td>0.000000</td>\n",
       "    </tr>\n",
       "    <tr>\n",
       "      <th>PEP_Adj Close</th>\n",
       "      <td>0.902910</td>\n",
       "      <td>0.938156</td>\n",
       "      <td>0.000000</td>\n",
       "      <td>0.818396</td>\n",
       "      <td>0.000000</td>\n",
       "      <td>0.000000</td>\n",
       "      <td>0.758353</td>\n",
       "      <td>0.000000</td>\n",
       "      <td>0.865606</td>\n",
       "      <td>0.000000</td>\n",
       "      <td>...</td>\n",
       "      <td>0.917484</td>\n",
       "      <td>0.000000</td>\n",
       "      <td>0.845008</td>\n",
       "      <td>0.000000</td>\n",
       "      <td>0.937318</td>\n",
       "      <td>0.782094</td>\n",
       "      <td>0.000000</td>\n",
       "      <td>0.0</td>\n",
       "      <td>0.831563</td>\n",
       "      <td>0.801176</td>\n",
       "    </tr>\n",
       "    <tr>\n",
       "      <th>PFE_Adj Close</th>\n",
       "      <td>0.000000</td>\n",
       "      <td>0.000000</td>\n",
       "      <td>0.000000</td>\n",
       "      <td>0.000000</td>\n",
       "      <td>0.000000</td>\n",
       "      <td>0.000000</td>\n",
       "      <td>0.000000</td>\n",
       "      <td>0.000000</td>\n",
       "      <td>0.000000</td>\n",
       "      <td>0.000000</td>\n",
       "      <td>...</td>\n",
       "      <td>0.000000</td>\n",
       "      <td>0.000000</td>\n",
       "      <td>0.000000</td>\n",
       "      <td>0.000000</td>\n",
       "      <td>0.000000</td>\n",
       "      <td>0.000000</td>\n",
       "      <td>0.000000</td>\n",
       "      <td>0.0</td>\n",
       "      <td>0.000000</td>\n",
       "      <td>0.000000</td>\n",
       "    </tr>\n",
       "    <tr>\n",
       "      <th>PG_Adj Close</th>\n",
       "      <td>0.947701</td>\n",
       "      <td>0.868976</td>\n",
       "      <td>0.822624</td>\n",
       "      <td>0.902944</td>\n",
       "      <td>0.000000</td>\n",
       "      <td>0.869876</td>\n",
       "      <td>0.778392</td>\n",
       "      <td>0.000000</td>\n",
       "      <td>0.847971</td>\n",
       "      <td>0.000000</td>\n",
       "      <td>...</td>\n",
       "      <td>1.000000</td>\n",
       "      <td>0.819395</td>\n",
       "      <td>0.906964</td>\n",
       "      <td>0.818840</td>\n",
       "      <td>0.889641</td>\n",
       "      <td>0.869922</td>\n",
       "      <td>0.000000</td>\n",
       "      <td>0.0</td>\n",
       "      <td>0.917826</td>\n",
       "      <td>0.000000</td>\n",
       "    </tr>\n",
       "    <tr>\n",
       "      <th>QCOM_Adj Close</th>\n",
       "      <td>0.843805</td>\n",
       "      <td>0.000000</td>\n",
       "      <td>0.935783</td>\n",
       "      <td>0.886435</td>\n",
       "      <td>0.000000</td>\n",
       "      <td>0.894577</td>\n",
       "      <td>0.000000</td>\n",
       "      <td>0.000000</td>\n",
       "      <td>0.000000</td>\n",
       "      <td>0.000000</td>\n",
       "      <td>...</td>\n",
       "      <td>0.819395</td>\n",
       "      <td>1.000000</td>\n",
       "      <td>0.909368</td>\n",
       "      <td>0.917720</td>\n",
       "      <td>0.000000</td>\n",
       "      <td>0.000000</td>\n",
       "      <td>0.000000</td>\n",
       "      <td>0.0</td>\n",
       "      <td>0.000000</td>\n",
       "      <td>0.000000</td>\n",
       "    </tr>\n",
       "    <tr>\n",
       "      <th>TMO_Adj Close</th>\n",
       "      <td>0.927840</td>\n",
       "      <td>0.835733</td>\n",
       "      <td>0.921596</td>\n",
       "      <td>0.933729</td>\n",
       "      <td>0.000000</td>\n",
       "      <td>0.894111</td>\n",
       "      <td>0.000000</td>\n",
       "      <td>0.000000</td>\n",
       "      <td>0.000000</td>\n",
       "      <td>0.000000</td>\n",
       "      <td>...</td>\n",
       "      <td>0.906964</td>\n",
       "      <td>0.909368</td>\n",
       "      <td>1.000000</td>\n",
       "      <td>0.920203</td>\n",
       "      <td>0.879827</td>\n",
       "      <td>0.793966</td>\n",
       "      <td>0.000000</td>\n",
       "      <td>0.0</td>\n",
       "      <td>0.832604</td>\n",
       "      <td>0.000000</td>\n",
       "    </tr>\n",
       "    <tr>\n",
       "      <th>TSLA_Adj Close</th>\n",
       "      <td>0.901147</td>\n",
       "      <td>0.000000</td>\n",
       "      <td>0.893397</td>\n",
       "      <td>0.923211</td>\n",
       "      <td>0.000000</td>\n",
       "      <td>0.910014</td>\n",
       "      <td>0.000000</td>\n",
       "      <td>0.000000</td>\n",
       "      <td>0.000000</td>\n",
       "      <td>0.000000</td>\n",
       "      <td>...</td>\n",
       "      <td>0.818840</td>\n",
       "      <td>0.917720</td>\n",
       "      <td>0.920203</td>\n",
       "      <td>1.000000</td>\n",
       "      <td>0.815430</td>\n",
       "      <td>0.000000</td>\n",
       "      <td>0.000000</td>\n",
       "      <td>0.0</td>\n",
       "      <td>0.780372</td>\n",
       "      <td>0.000000</td>\n",
       "    </tr>\n",
       "    <tr>\n",
       "      <th>UNH_Adj Close</th>\n",
       "      <td>0.923524</td>\n",
       "      <td>0.968426</td>\n",
       "      <td>0.000000</td>\n",
       "      <td>0.859254</td>\n",
       "      <td>0.000000</td>\n",
       "      <td>0.757026</td>\n",
       "      <td>0.811358</td>\n",
       "      <td>0.000000</td>\n",
       "      <td>0.854421</td>\n",
       "      <td>0.000000</td>\n",
       "      <td>...</td>\n",
       "      <td>0.889641</td>\n",
       "      <td>0.000000</td>\n",
       "      <td>0.879827</td>\n",
       "      <td>0.815430</td>\n",
       "      <td>1.000000</td>\n",
       "      <td>0.755763</td>\n",
       "      <td>0.000000</td>\n",
       "      <td>0.0</td>\n",
       "      <td>0.811382</td>\n",
       "      <td>0.762958</td>\n",
       "    </tr>\n",
       "    <tr>\n",
       "      <th>V_Adj Close</th>\n",
       "      <td>0.878010</td>\n",
       "      <td>0.000000</td>\n",
       "      <td>0.777723</td>\n",
       "      <td>0.846789</td>\n",
       "      <td>0.000000</td>\n",
       "      <td>0.809585</td>\n",
       "      <td>0.757692</td>\n",
       "      <td>0.000000</td>\n",
       "      <td>0.806828</td>\n",
       "      <td>0.000000</td>\n",
       "      <td>...</td>\n",
       "      <td>0.869922</td>\n",
       "      <td>0.000000</td>\n",
       "      <td>0.793966</td>\n",
       "      <td>0.000000</td>\n",
       "      <td>0.755763</td>\n",
       "      <td>1.000000</td>\n",
       "      <td>0.000000</td>\n",
       "      <td>0.0</td>\n",
       "      <td>0.894885</td>\n",
       "      <td>0.000000</td>\n",
       "    </tr>\n",
       "    <tr>\n",
       "      <th>VZ_Adj Close</th>\n",
       "      <td>0.000000</td>\n",
       "      <td>0.000000</td>\n",
       "      <td>0.000000</td>\n",
       "      <td>0.000000</td>\n",
       "      <td>0.000000</td>\n",
       "      <td>0.000000</td>\n",
       "      <td>0.000000</td>\n",
       "      <td>0.000000</td>\n",
       "      <td>0.000000</td>\n",
       "      <td>0.000000</td>\n",
       "      <td>...</td>\n",
       "      <td>0.000000</td>\n",
       "      <td>0.000000</td>\n",
       "      <td>0.000000</td>\n",
       "      <td>0.000000</td>\n",
       "      <td>0.000000</td>\n",
       "      <td>0.000000</td>\n",
       "      <td>1.000000</td>\n",
       "      <td>0.0</td>\n",
       "      <td>0.000000</td>\n",
       "      <td>0.852376</td>\n",
       "    </tr>\n",
       "    <tr>\n",
       "      <th>WFC_Adj Close</th>\n",
       "      <td>0.000000</td>\n",
       "      <td>0.000000</td>\n",
       "      <td>0.000000</td>\n",
       "      <td>0.000000</td>\n",
       "      <td>0.000000</td>\n",
       "      <td>0.000000</td>\n",
       "      <td>0.000000</td>\n",
       "      <td>0.000000</td>\n",
       "      <td>0.000000</td>\n",
       "      <td>0.000000</td>\n",
       "      <td>...</td>\n",
       "      <td>0.000000</td>\n",
       "      <td>0.000000</td>\n",
       "      <td>0.000000</td>\n",
       "      <td>0.000000</td>\n",
       "      <td>0.000000</td>\n",
       "      <td>0.000000</td>\n",
       "      <td>0.000000</td>\n",
       "      <td>1.0</td>\n",
       "      <td>0.000000</td>\n",
       "      <td>0.000000</td>\n",
       "    </tr>\n",
       "    <tr>\n",
       "      <th>WMT_Adj Close</th>\n",
       "      <td>0.918141</td>\n",
       "      <td>0.789635</td>\n",
       "      <td>0.770920</td>\n",
       "      <td>0.835145</td>\n",
       "      <td>0.000000</td>\n",
       "      <td>0.835794</td>\n",
       "      <td>0.807236</td>\n",
       "      <td>0.000000</td>\n",
       "      <td>0.846596</td>\n",
       "      <td>0.000000</td>\n",
       "      <td>...</td>\n",
       "      <td>0.917826</td>\n",
       "      <td>0.000000</td>\n",
       "      <td>0.832604</td>\n",
       "      <td>0.780372</td>\n",
       "      <td>0.811382</td>\n",
       "      <td>0.894885</td>\n",
       "      <td>0.000000</td>\n",
       "      <td>0.0</td>\n",
       "      <td>1.000000</td>\n",
       "      <td>0.000000</td>\n",
       "    </tr>\n",
       "    <tr>\n",
       "      <th>XOM_Adj Close</th>\n",
       "      <td>0.000000</td>\n",
       "      <td>0.814668</td>\n",
       "      <td>0.000000</td>\n",
       "      <td>0.000000</td>\n",
       "      <td>0.000000</td>\n",
       "      <td>0.000000</td>\n",
       "      <td>0.000000</td>\n",
       "      <td>0.000000</td>\n",
       "      <td>0.760602</td>\n",
       "      <td>0.000000</td>\n",
       "      <td>...</td>\n",
       "      <td>0.000000</td>\n",
       "      <td>0.000000</td>\n",
       "      <td>0.000000</td>\n",
       "      <td>0.000000</td>\n",
       "      <td>0.762958</td>\n",
       "      <td>0.000000</td>\n",
       "      <td>0.852376</td>\n",
       "      <td>0.0</td>\n",
       "      <td>0.000000</td>\n",
       "      <td>1.000000</td>\n",
       "    </tr>\n",
       "  </tbody>\n",
       "</table>\n",
       "<p>50 rows × 50 columns</p>\n",
       "</div>"
      ],
      "text/plain": [
       "                 AAPL_Adj Close  ABBV_Adj Close  ABT_Adj Close  ACN_Adj Close   \n",
       "AAPL_Adj Close         1.000000        0.888553       0.835096       0.930854  \\\n",
       "ABBV_Adj Close         0.888553        1.000000       0.000000       0.785601   \n",
       "ABT_Adj Close          0.835096        0.000000       1.000000       0.898797   \n",
       "ACN_Adj Close          0.930854        0.785601       0.898797       1.000000   \n",
       "ADBE_Adj Close         0.000000        0.000000       0.776546       0.776719   \n",
       "AMD_Adj Close          0.913382        0.000000       0.883380       0.933396   \n",
       "AMGN_Adj Close         0.779497        0.817756       0.000000       0.000000   \n",
       "AMZN_Adj Close         0.000000        0.000000       0.767864       0.000000   \n",
       "AVGO_Adj Close         0.895973        0.849173       0.000000       0.807020   \n",
       "BAC_Adj Close          0.000000        0.000000       0.000000       0.753376   \n",
       "BRK-B_Adj Close        0.894791        0.914204       0.000000       0.857946   \n",
       "CMCSA_Adj Close        0.000000        0.000000       0.000000       0.000000   \n",
       "COST_Adj Close         0.956148        0.923489       0.754225       0.913692   \n",
       "CRM_Adj Close          0.000000        0.000000       0.000000       0.000000   \n",
       "CSCO_Adj Close         0.000000        0.000000       0.000000       0.000000   \n",
       "CVX_Adj Close          0.000000        0.864086       0.000000       0.000000   \n",
       "DHR_Adj Close          0.894189        0.766927       0.935820       0.942493   \n",
       "DIS_Adj Close          0.000000        0.000000       0.000000       0.000000   \n",
       "GOOG_Adj Close         0.902750        0.000000       0.866556       0.966388   \n",
       "GOOGL_Adj Close        0.903822        0.000000       0.867052       0.967771   \n",
       "HD_Adj Close           0.906978        0.768816       0.916393       0.962719   \n",
       "IBM_Adj Close          0.000000        0.795663       0.000000       0.000000   \n",
       "INTC_Adj Close         0.000000        0.000000       0.000000       0.000000   \n",
       "INTU_Adj Close         0.881979        0.000000       0.855855       0.967585   \n",
       "JNJ_Adj Close          0.893491        0.902003       0.833397       0.864632   \n",
       "JPM_Adj Close          0.752228        0.000000       0.000000       0.844053   \n",
       "KO_Adj Close           0.819749        0.905123       0.000000       0.765511   \n",
       "LIN_Adj Close          0.948331        0.900848       0.000000       0.891223   \n",
       "LLY_Adj Close          0.826420        0.863218       0.000000       0.000000   \n",
       "MA_Adj Close           0.897581        0.751068       0.803019       0.856765   \n",
       "MCD_Adj Close          0.897921        0.898085       0.000000       0.826619   \n",
       "META_Adj Close         0.000000        0.000000       0.000000       0.000000   \n",
       "MRK_Adj Close          0.000000        0.817076       0.000000       0.000000   \n",
       "MSFT_Adj Close         0.972543        0.823227       0.831089       0.950385   \n",
       "NFLX_Adj Close         0.000000        0.000000       0.000000       0.000000   \n",
       "NKE_Adj Close          0.000000        0.000000       0.891996       0.774060   \n",
       "NVDA_Adj Close         0.870559        0.000000       0.000000       0.804367   \n",
       "ORCL_Adj Close         0.871395        0.790612       0.000000       0.836748   \n",
       "PEP_Adj Close          0.902910        0.938156       0.000000       0.818396   \n",
       "PFE_Adj Close          0.000000        0.000000       0.000000       0.000000   \n",
       "PG_Adj Close           0.947701        0.868976       0.822624       0.902944   \n",
       "QCOM_Adj Close         0.843805        0.000000       0.935783       0.886435   \n",
       "TMO_Adj Close          0.927840        0.835733       0.921596       0.933729   \n",
       "TSLA_Adj Close         0.901147        0.000000       0.893397       0.923211   \n",
       "UNH_Adj Close          0.923524        0.968426       0.000000       0.859254   \n",
       "V_Adj Close            0.878010        0.000000       0.777723       0.846789   \n",
       "VZ_Adj Close           0.000000        0.000000       0.000000       0.000000   \n",
       "WFC_Adj Close          0.000000        0.000000       0.000000       0.000000   \n",
       "WMT_Adj Close          0.918141        0.789635       0.770920       0.835145   \n",
       "XOM_Adj Close          0.000000        0.814668       0.000000       0.000000   \n",
       "\n",
       "                 ADBE_Adj Close  AMD_Adj Close  AMGN_Adj Close   \n",
       "AAPL_Adj Close         0.000000       0.913382        0.779497  \\\n",
       "ABBV_Adj Close         0.000000       0.000000        0.817756   \n",
       "ABT_Adj Close          0.776546       0.883380        0.000000   \n",
       "ACN_Adj Close          0.776719       0.933396        0.000000   \n",
       "ADBE_Adj Close         1.000000       0.841673        0.000000   \n",
       "AMD_Adj Close          0.841673       1.000000        0.000000   \n",
       "AMGN_Adj Close         0.000000       0.000000        1.000000   \n",
       "AMZN_Adj Close         0.893600       0.000000        0.000000   \n",
       "AVGO_Adj Close         0.000000       0.775973        0.000000   \n",
       "BAC_Adj Close          0.000000       0.000000        0.000000   \n",
       "BRK-B_Adj Close        0.000000       0.750979        0.000000   \n",
       "CMCSA_Adj Close        0.789433       0.000000        0.000000   \n",
       "COST_Adj Close         0.000000       0.847671        0.760047   \n",
       "CRM_Adj Close          0.911478       0.000000        0.000000   \n",
       "CSCO_Adj Close         0.000000       0.000000        0.000000   \n",
       "CVX_Adj Close          0.000000       0.000000        0.000000   \n",
       "DHR_Adj Close          0.000000       0.882148        0.000000   \n",
       "DIS_Adj Close          0.000000       0.000000        0.000000   \n",
       "GOOG_Adj Close         0.815136       0.920320        0.000000   \n",
       "GOOGL_Adj Close        0.812216       0.923063        0.000000   \n",
       "HD_Adj Close           0.759551       0.907882        0.000000   \n",
       "IBM_Adj Close          0.000000       0.000000        0.000000   \n",
       "INTC_Adj Close         0.000000       0.000000        0.000000   \n",
       "INTU_Adj Close         0.827771       0.919553        0.000000   \n",
       "JNJ_Adj Close          0.000000       0.767661        0.787517   \n",
       "JPM_Adj Close          0.000000       0.750659        0.000000   \n",
       "KO_Adj Close           0.000000       0.000000        0.000000   \n",
       "LIN_Adj Close          0.000000       0.833904        0.788295   \n",
       "LLY_Adj Close          0.000000       0.000000        0.772590   \n",
       "MA_Adj Close           0.000000       0.829423        0.785290   \n",
       "MCD_Adj Close          0.000000       0.000000        0.000000   \n",
       "META_Adj Close         0.900307       0.000000        0.000000   \n",
       "MRK_Adj Close          0.000000       0.000000        0.000000   \n",
       "MSFT_Adj Close         0.772075       0.941555        0.000000   \n",
       "NFLX_Adj Close         0.756355       0.000000        0.000000   \n",
       "NKE_Adj Close          0.814040       0.792371        0.000000   \n",
       "NVDA_Adj Close         0.000000       0.822067        0.000000   \n",
       "ORCL_Adj Close         0.000000       0.780637        0.000000   \n",
       "PEP_Adj Close          0.000000       0.000000        0.758353   \n",
       "PFE_Adj Close          0.000000       0.000000        0.000000   \n",
       "PG_Adj Close           0.000000       0.869876        0.778392   \n",
       "QCOM_Adj Close         0.000000       0.894577        0.000000   \n",
       "TMO_Adj Close          0.000000       0.894111        0.000000   \n",
       "TSLA_Adj Close         0.000000       0.910014        0.000000   \n",
       "UNH_Adj Close          0.000000       0.757026        0.811358   \n",
       "V_Adj Close            0.000000       0.809585        0.757692   \n",
       "VZ_Adj Close           0.000000       0.000000        0.000000   \n",
       "WFC_Adj Close          0.000000       0.000000        0.000000   \n",
       "WMT_Adj Close          0.000000       0.835794        0.807236   \n",
       "XOM_Adj Close          0.000000       0.000000        0.000000   \n",
       "\n",
       "                 AMZN_Adj Close  AVGO_Adj Close  BAC_Adj Close  ...   \n",
       "AAPL_Adj Close         0.000000        0.895973       0.000000  ...  \\\n",
       "ABBV_Adj Close         0.000000        0.849173       0.000000  ...   \n",
       "ABT_Adj Close          0.767864        0.000000       0.000000  ...   \n",
       "ACN_Adj Close          0.000000        0.807020       0.753376  ...   \n",
       "ADBE_Adj Close         0.893600        0.000000       0.000000  ...   \n",
       "AMD_Adj Close          0.000000        0.775973       0.000000  ...   \n",
       "AMGN_Adj Close         0.000000        0.000000       0.000000  ...   \n",
       "AMZN_Adj Close         1.000000        0.000000       0.000000  ...   \n",
       "AVGO_Adj Close         0.000000        1.000000       0.000000  ...   \n",
       "BAC_Adj Close          0.000000        0.000000       1.000000  ...   \n",
       "BRK-B_Adj Close        0.000000        0.927813       0.000000  ...   \n",
       "CMCSA_Adj Close        0.767387        0.000000       0.000000  ...   \n",
       "COST_Adj Close         0.000000        0.891872       0.000000  ...   \n",
       "CRM_Adj Close          0.884394        0.000000       0.000000  ...   \n",
       "CSCO_Adj Close         0.000000        0.000000       0.000000  ...   \n",
       "CVX_Adj Close          0.000000        0.000000       0.000000  ...   \n",
       "DHR_Adj Close          0.000000        0.000000       0.000000  ...   \n",
       "DIS_Adj Close          0.000000        0.000000       0.000000  ...   \n",
       "GOOG_Adj Close         0.000000        0.793166       0.000000  ...   \n",
       "GOOGL_Adj Close        0.000000        0.794697       0.000000  ...   \n",
       "HD_Adj Close           0.000000        0.753115       0.000000  ...   \n",
       "IBM_Adj Close          0.000000        0.832101       0.000000  ...   \n",
       "INTC_Adj Close         0.000000        0.000000       0.000000  ...   \n",
       "INTU_Adj Close         0.000000        0.779595       0.000000  ...   \n",
       "JNJ_Adj Close          0.000000        0.000000       0.000000  ...   \n",
       "JPM_Adj Close          0.000000        0.000000       0.791203  ...   \n",
       "KO_Adj Close           0.000000        0.784289       0.000000  ...   \n",
       "LIN_Adj Close          0.000000        0.949293       0.000000  ...   \n",
       "LLY_Adj Close          0.000000        0.948628       0.000000  ...   \n",
       "MA_Adj Close           0.000000        0.820520       0.000000  ...   \n",
       "MCD_Adj Close          0.000000        0.903910       0.000000  ...   \n",
       "META_Adj Close         0.814288        0.000000       0.000000  ...   \n",
       "MRK_Adj Close          0.000000        0.803859       0.000000  ...   \n",
       "MSFT_Adj Close         0.000000        0.901848       0.000000  ...   \n",
       "NFLX_Adj Close         0.772016        0.000000       0.000000  ...   \n",
       "NKE_Adj Close          0.793638        0.000000       0.757046  ...   \n",
       "NVDA_Adj Close         0.000000        0.965623       0.000000  ...   \n",
       "ORCL_Adj Close         0.000000        0.953036       0.000000  ...   \n",
       "PEP_Adj Close          0.000000        0.865606       0.000000  ...   \n",
       "PFE_Adj Close          0.000000        0.000000       0.000000  ...   \n",
       "PG_Adj Close           0.000000        0.847971       0.000000  ...   \n",
       "QCOM_Adj Close         0.000000        0.000000       0.000000  ...   \n",
       "TMO_Adj Close          0.000000        0.000000       0.000000  ...   \n",
       "TSLA_Adj Close         0.000000        0.000000       0.000000  ...   \n",
       "UNH_Adj Close          0.000000        0.854421       0.000000  ...   \n",
       "V_Adj Close            0.000000        0.806828       0.000000  ...   \n",
       "VZ_Adj Close           0.000000        0.000000       0.000000  ...   \n",
       "WFC_Adj Close          0.000000        0.000000       0.000000  ...   \n",
       "WMT_Adj Close          0.000000        0.846596       0.000000  ...   \n",
       "XOM_Adj Close          0.000000        0.760602       0.000000  ...   \n",
       "\n",
       "                 PG_Adj Close  QCOM_Adj Close  TMO_Adj Close  TSLA_Adj Close   \n",
       "AAPL_Adj Close       0.947701        0.843805       0.927840        0.901147  \\\n",
       "ABBV_Adj Close       0.868976        0.000000       0.835733        0.000000   \n",
       "ABT_Adj Close        0.822624        0.935783       0.921596        0.893397   \n",
       "ACN_Adj Close        0.902944        0.886435       0.933729        0.923211   \n",
       "ADBE_Adj Close       0.000000        0.000000       0.000000        0.000000   \n",
       "AMD_Adj Close        0.869876        0.894577       0.894111        0.910014   \n",
       "AMGN_Adj Close       0.778392        0.000000       0.000000        0.000000   \n",
       "AMZN_Adj Close       0.000000        0.000000       0.000000        0.000000   \n",
       "AVGO_Adj Close       0.847971        0.000000       0.000000        0.000000   \n",
       "BAC_Adj Close        0.000000        0.000000       0.000000        0.000000   \n",
       "BRK-B_Adj Close      0.879582        0.000000       0.797096        0.763251   \n",
       "CMCSA_Adj Close      0.000000        0.000000       0.000000        0.000000   \n",
       "COST_Adj Close       0.941243        0.775030       0.902537        0.853934   \n",
       "CRM_Adj Close        0.000000        0.000000       0.000000        0.000000   \n",
       "CSCO_Adj Close       0.000000        0.000000       0.000000        0.000000   \n",
       "CVX_Adj Close        0.000000        0.000000       0.000000        0.000000   \n",
       "DHR_Adj Close        0.862556        0.913387       0.974442        0.917447   \n",
       "DIS_Adj Close        0.000000        0.000000       0.000000        0.000000   \n",
       "GOOG_Adj Close       0.842264        0.845909       0.880250        0.913009   \n",
       "GOOGL_Adj Close      0.844452        0.846601       0.882142        0.915167   \n",
       "HD_Adj Close         0.901877        0.891152       0.943013        0.885199   \n",
       "IBM_Adj Close        0.000000        0.000000       0.000000        0.000000   \n",
       "INTC_Adj Close       0.000000        0.000000       0.000000        0.000000   \n",
       "INTU_Adj Close       0.833807        0.840596       0.883103        0.891322   \n",
       "JNJ_Adj Close        0.871326        0.794334       0.909583        0.843047   \n",
       "JPM_Adj Close        0.000000        0.000000       0.000000        0.000000   \n",
       "KO_Adj Close         0.871885        0.000000       0.783396        0.000000   \n",
       "LIN_Adj Close        0.925852        0.000000       0.855927        0.785087   \n",
       "LLY_Adj Close        0.776354        0.000000       0.000000        0.000000   \n",
       "MA_Adj Close         0.901842        0.772651       0.816899        0.756898   \n",
       "MCD_Adj Close        0.899690        0.000000       0.820976        0.000000   \n",
       "META_Adj Close       0.000000        0.000000       0.000000        0.000000   \n",
       "MRK_Adj Close        0.000000        0.000000       0.000000        0.000000   \n",
       "MSFT_Adj Close       0.923173        0.814407       0.895576        0.882351   \n",
       "NFLX_Adj Close       0.000000        0.000000       0.000000        0.000000   \n",
       "NKE_Adj Close        0.000000        0.858636       0.777001        0.763400   \n",
       "NVDA_Adj Close       0.813992        0.000000       0.000000        0.000000   \n",
       "ORCL_Adj Close       0.824784        0.000000       0.000000        0.000000   \n",
       "PEP_Adj Close        0.917484        0.000000       0.845008        0.000000   \n",
       "PFE_Adj Close        0.000000        0.000000       0.000000        0.000000   \n",
       "PG_Adj Close         1.000000        0.819395       0.906964        0.818840   \n",
       "QCOM_Adj Close       0.819395        1.000000       0.909368        0.917720   \n",
       "TMO_Adj Close        0.906964        0.909368       1.000000        0.920203   \n",
       "TSLA_Adj Close       0.818840        0.917720       0.920203        1.000000   \n",
       "UNH_Adj Close        0.889641        0.000000       0.879827        0.815430   \n",
       "V_Adj Close          0.869922        0.000000       0.793966        0.000000   \n",
       "VZ_Adj Close         0.000000        0.000000       0.000000        0.000000   \n",
       "WFC_Adj Close        0.000000        0.000000       0.000000        0.000000   \n",
       "WMT_Adj Close        0.917826        0.000000       0.832604        0.780372   \n",
       "XOM_Adj Close        0.000000        0.000000       0.000000        0.000000   \n",
       "\n",
       "                 UNH_Adj Close  V_Adj Close  VZ_Adj Close  WFC_Adj Close   \n",
       "AAPL_Adj Close        0.923524     0.878010      0.000000            0.0  \\\n",
       "ABBV_Adj Close        0.968426     0.000000      0.000000            0.0   \n",
       "ABT_Adj Close         0.000000     0.777723      0.000000            0.0   \n",
       "ACN_Adj Close         0.859254     0.846789      0.000000            0.0   \n",
       "ADBE_Adj Close        0.000000     0.000000      0.000000            0.0   \n",
       "AMD_Adj Close         0.757026     0.809585      0.000000            0.0   \n",
       "AMGN_Adj Close        0.811358     0.757692      0.000000            0.0   \n",
       "AMZN_Adj Close        0.000000     0.000000      0.000000            0.0   \n",
       "AVGO_Adj Close        0.854421     0.806828      0.000000            0.0   \n",
       "BAC_Adj Close         0.000000     0.000000      0.000000            0.0   \n",
       "BRK-B_Adj Close       0.917704     0.804116      0.000000            0.0   \n",
       "CMCSA_Adj Close       0.000000     0.000000      0.000000            0.0   \n",
       "COST_Adj Close        0.959133     0.803872      0.000000            0.0   \n",
       "CRM_Adj Close         0.000000     0.000000      0.000000            0.0   \n",
       "CSCO_Adj Close        0.000000     0.000000      0.000000            0.0   \n",
       "CVX_Adj Close         0.816051     0.000000      0.773236            0.0   \n",
       "DHR_Adj Close         0.839015     0.796897      0.000000            0.0   \n",
       "DIS_Adj Close         0.000000     0.000000      0.000000            0.0   \n",
       "GOOG_Adj Close        0.813291     0.832234      0.000000            0.0   \n",
       "GOOGL_Adj Close       0.814376     0.827947      0.000000            0.0   \n",
       "HD_Adj Close          0.832119     0.838470      0.000000            0.0   \n",
       "IBM_Adj Close         0.804815     0.000000      0.000000            0.0   \n",
       "INTC_Adj Close        0.000000     0.000000      0.797748            0.0   \n",
       "INTU_Adj Close        0.790701     0.813458      0.000000            0.0   \n",
       "JNJ_Adj Close         0.920262     0.782555      0.000000            0.0   \n",
       "JPM_Adj Close         0.000000     0.821689      0.000000            0.0   \n",
       "KO_Adj Close          0.899535     0.000000      0.000000            0.0   \n",
       "LIN_Adj Close         0.916371     0.886497      0.000000            0.0   \n",
       "LLY_Adj Close         0.859824     0.000000      0.803080            0.0   \n",
       "MA_Adj Close          0.777947     0.982893      0.000000            0.0   \n",
       "MCD_Adj Close         0.910259     0.811878      0.000000            0.0   \n",
       "META_Adj Close        0.000000     0.000000      0.000000            0.0   \n",
       "MRK_Adj Close         0.761974     0.000000      0.834689            0.0   \n",
       "MSFT_Adj Close        0.876471     0.891767      0.000000            0.0   \n",
       "NFLX_Adj Close        0.000000     0.000000      0.000000            0.0   \n",
       "NKE_Adj Close         0.000000     0.000000      0.000000            0.0   \n",
       "NVDA_Adj Close        0.769826     0.799963      0.000000            0.0   \n",
       "ORCL_Adj Close        0.814599     0.838320      0.000000            0.0   \n",
       "PEP_Adj Close         0.937318     0.782094      0.000000            0.0   \n",
       "PFE_Adj Close         0.000000     0.000000      0.000000            0.0   \n",
       "PG_Adj Close          0.889641     0.869922      0.000000            0.0   \n",
       "QCOM_Adj Close        0.000000     0.000000      0.000000            0.0   \n",
       "TMO_Adj Close         0.879827     0.793966      0.000000            0.0   \n",
       "TSLA_Adj Close        0.815430     0.000000      0.000000            0.0   \n",
       "UNH_Adj Close         1.000000     0.755763      0.000000            0.0   \n",
       "V_Adj Close           0.755763     1.000000      0.000000            0.0   \n",
       "VZ_Adj Close          0.000000     0.000000      1.000000            0.0   \n",
       "WFC_Adj Close         0.000000     0.000000      0.000000            1.0   \n",
       "WMT_Adj Close         0.811382     0.894885      0.000000            0.0   \n",
       "XOM_Adj Close         0.762958     0.000000      0.852376            0.0   \n",
       "\n",
       "                 WMT_Adj Close  XOM_Adj Close  \n",
       "AAPL_Adj Close        0.918141       0.000000  \n",
       "ABBV_Adj Close        0.789635       0.814668  \n",
       "ABT_Adj Close         0.770920       0.000000  \n",
       "ACN_Adj Close         0.835145       0.000000  \n",
       "ADBE_Adj Close        0.000000       0.000000  \n",
       "AMD_Adj Close         0.835794       0.000000  \n",
       "AMGN_Adj Close        0.807236       0.000000  \n",
       "AMZN_Adj Close        0.000000       0.000000  \n",
       "AVGO_Adj Close        0.846596       0.760602  \n",
       "BAC_Adj Close         0.000000       0.000000  \n",
       "BRK-B_Adj Close       0.816245       0.801920  \n",
       "CMCSA_Adj Close       0.000000       0.000000  \n",
       "COST_Adj Close        0.873344       0.000000  \n",
       "CRM_Adj Close         0.000000       0.000000  \n",
       "CSCO_Adj Close        0.000000       0.000000  \n",
       "CVX_Adj Close         0.000000       0.970460  \n",
       "DHR_Adj Close         0.804135       0.000000  \n",
       "DIS_Adj Close         0.000000       0.000000  \n",
       "GOOG_Adj Close        0.801316       0.000000  \n",
       "GOOGL_Adj Close       0.800575       0.000000  \n",
       "HD_Adj Close          0.837979       0.000000  \n",
       "IBM_Adj Close         0.000000       0.828643  \n",
       "INTC_Adj Close        0.000000       0.776011  \n",
       "INTU_Adj Close        0.795016       0.000000  \n",
       "JNJ_Adj Close         0.798881       0.000000  \n",
       "JPM_Adj Close         0.000000       0.000000  \n",
       "KO_Adj Close          0.000000       0.795676  \n",
       "LIN_Adj Close         0.907378       0.000000  \n",
       "LLY_Adj Close         0.792056       0.837922  \n",
       "MA_Adj Close          0.905374       0.000000  \n",
       "MCD_Adj Close         0.829969       0.810765  \n",
       "META_Adj Close        0.000000       0.000000  \n",
       "MRK_Adj Close         0.000000       0.901374  \n",
       "MSFT_Adj Close        0.903860       0.000000  \n",
       "NFLX_Adj Close        0.000000       0.000000  \n",
       "NKE_Adj Close         0.000000       0.000000  \n",
       "NVDA_Adj Close        0.840907       0.000000  \n",
       "ORCL_Adj Close        0.840071       0.000000  \n",
       "PEP_Adj Close         0.831563       0.801176  \n",
       "PFE_Adj Close         0.000000       0.000000  \n",
       "PG_Adj Close          0.917826       0.000000  \n",
       "QCOM_Adj Close        0.000000       0.000000  \n",
       "TMO_Adj Close         0.832604       0.000000  \n",
       "TSLA_Adj Close        0.780372       0.000000  \n",
       "UNH_Adj Close         0.811382       0.762958  \n",
       "V_Adj Close           0.894885       0.000000  \n",
       "VZ_Adj Close          0.000000       0.852376  \n",
       "WFC_Adj Close         0.000000       0.000000  \n",
       "WMT_Adj Close         1.000000       0.000000  \n",
       "XOM_Adj Close         0.000000       1.000000  \n",
       "\n",
       "[50 rows x 50 columns]"
      ]
     },
     "execution_count": 21,
     "metadata": {},
     "output_type": "execute_result"
    }
   ],
   "source": [
    "# Function to compute correlation matrix\n",
    "def compute_correlation_matrix(df):\n",
    "    # Compute correlation matrix\n",
    "    correlation_matrix = df.corr().abs()\n",
    "\n",
    "    return correlation_matrix\n",
    "\n",
    "# Call the function with your DataFrame\n",
    "correlation_matrix = compute_correlation_matrix(normalized_df)\n",
    "correlation_matrix[correlation_matrix<=0.75] = 0\n",
    "correlation_matrix"
   ]
  },
  {
   "cell_type": "code",
   "execution_count": 22,
   "metadata": {},
   "outputs": [
    {
     "data": {
      "text/plain": [
       "tensor(100.)"
      ]
     },
     "execution_count": 22,
     "metadata": {},
     "output_type": "execute_result"
    }
   ],
   "source": [
    "x = torch.tensor(normalized_df.iloc[:260,:].values, dtype=torch.float32).T\n",
    "A = correlation_matrix\n",
    "G = sp.coo_matrix(A)\n",
    "edge_index = torch.tensor(np.array([G.row, G.col]), dtype=torch.int64)\n",
    "edge_weight = torch.tensor(G.data).float()\n",
    "torch.max(x)"
   ]
  },
  {
   "cell_type": "markdown",
   "metadata": {},
   "source": [
    "## GDP"
   ]
  },
  {
   "cell_type": "code",
   "execution_count": 31,
   "metadata": {},
   "outputs": [
    {
     "data": {
      "text/html": [
       "<div>\n",
       "<style scoped>\n",
       "    .dataframe tbody tr th:only-of-type {\n",
       "        vertical-align: middle;\n",
       "    }\n",
       "\n",
       "    .dataframe tbody tr th {\n",
       "        vertical-align: top;\n",
       "    }\n",
       "\n",
       "    .dataframe thead th {\n",
       "        text-align: right;\n",
       "    }\n",
       "</style>\n",
       "<table border=\"1\" class=\"dataframe\">\n",
       "  <thead>\n",
       "    <tr style=\"text-align: right;\">\n",
       "      <th></th>\n",
       "      <th>0</th>\n",
       "      <th>1</th>\n",
       "      <th>2</th>\n",
       "      <th>3</th>\n",
       "      <th>4</th>\n",
       "      <th>5</th>\n",
       "      <th>6</th>\n",
       "      <th>7</th>\n",
       "      <th>8</th>\n",
       "      <th>9</th>\n",
       "      <th>10</th>\n",
       "      <th>11</th>\n",
       "      <th>12</th>\n",
       "      <th>13</th>\n",
       "    </tr>\n",
       "  </thead>\n",
       "  <tbody>\n",
       "    <tr>\n",
       "      <th>1963</th>\n",
       "      <td>1.285640</td>\n",
       "      <td>0.890150</td>\n",
       "      <td>2.104350</td>\n",
       "      <td>0.282281</td>\n",
       "      <td>2.865539</td>\n",
       "      <td>2.772218</td>\n",
       "      <td>1.430447</td>\n",
       "      <td>2.395973</td>\n",
       "      <td>1.108006</td>\n",
       "      <td>0.220242</td>\n",
       "      <td>1.199275</td>\n",
       "      <td>1.078785</td>\n",
       "      <td>2.507982</td>\n",
       "      <td>2.368880</td>\n",
       "    </tr>\n",
       "    <tr>\n",
       "      <th>1964</th>\n",
       "      <td>1.420608</td>\n",
       "      <td>0.801318</td>\n",
       "      <td>2.307554</td>\n",
       "      <td>0.332392</td>\n",
       "      <td>3.178218</td>\n",
       "      <td>3.023480</td>\n",
       "      <td>1.668502</td>\n",
       "      <td>2.622850</td>\n",
       "      <td>1.303321</td>\n",
       "      <td>0.191006</td>\n",
       "      <td>1.419897</td>\n",
       "      <td>1.161971</td>\n",
       "      <td>2.693352</td>\n",
       "      <td>2.609343</td>\n",
       "    </tr>\n",
       "    <tr>\n",
       "      <th>1965</th>\n",
       "      <td>1.550428</td>\n",
       "      <td>0.858722</td>\n",
       "      <td>2.547626</td>\n",
       "      <td>0.392113</td>\n",
       "      <td>3.432771</td>\n",
       "      <td>3.261022</td>\n",
       "      <td>1.759329</td>\n",
       "      <td>2.822245</td>\n",
       "      <td>1.450016</td>\n",
       "      <td>0.172333</td>\n",
       "      <td>1.544350</td>\n",
       "      <td>1.243864</td>\n",
       "      <td>2.920743</td>\n",
       "      <td>2.852250</td>\n",
       "    </tr>\n",
       "    <tr>\n",
       "      <th>1966</th>\n",
       "      <td>1.629912</td>\n",
       "      <td>1.081102</td>\n",
       "      <td>2.854746</td>\n",
       "      <td>0.427096</td>\n",
       "      <td>3.720430</td>\n",
       "      <td>3.477132</td>\n",
       "      <td>1.354926</td>\n",
       "      <td>3.057925</td>\n",
       "      <td>1.684024</td>\n",
       "      <td>0.216958</td>\n",
       "      <td>1.719716</td>\n",
       "      <td>1.465611</td>\n",
       "      <td>3.200760</td>\n",
       "      <td>3.101573</td>\n",
       "    </tr>\n",
       "    <tr>\n",
       "      <th>1967</th>\n",
       "      <td>1.817022</td>\n",
       "      <td>1.188246</td>\n",
       "      <td>3.068851</td>\n",
       "      <td>0.405727</td>\n",
       "      <td>4.022238</td>\n",
       "      <td>3.622661</td>\n",
       "      <td>1.481052</td>\n",
       "      <td>3.368399</td>\n",
       "      <td>1.973449</td>\n",
       "      <td>0.268136</td>\n",
       "      <td>1.878111</td>\n",
       "      <td>1.626147</td>\n",
       "      <td>3.384166</td>\n",
       "      <td>3.452949</td>\n",
       "    </tr>\n",
       "    <tr>\n",
       "      <th>1968</th>\n",
       "      <td>1.952592</td>\n",
       "      <td>1.296958</td>\n",
       "      <td>3.356795</td>\n",
       "      <td>0.394397</td>\n",
       "      <td>4.387786</td>\n",
       "      <td>3.451100</td>\n",
       "      <td>1.568214</td>\n",
       "      <td>3.651092</td>\n",
       "      <td>2.337254</td>\n",
       "      <td>0.337904</td>\n",
       "      <td>2.076104</td>\n",
       "      <td>1.819021</td>\n",
       "      <td>3.701493</td>\n",
       "      <td>3.737410</td>\n",
       "    </tr>\n",
       "    <tr>\n",
       "      <th>1969</th>\n",
       "      <td>2.189504</td>\n",
       "      <td>1.420849</td>\n",
       "      <td>3.698781</td>\n",
       "      <td>0.443717</td>\n",
       "      <td>4.797459</td>\n",
       "      <td>3.729878</td>\n",
       "      <td>1.726631</td>\n",
       "      <td>4.030675</td>\n",
       "      <td>2.745444</td>\n",
       "      <td>0.424015</td>\n",
       "      <td>2.296726</td>\n",
       "      <td>2.023444</td>\n",
       "      <td>4.005467</td>\n",
       "      <td>4.202753</td>\n",
       "    </tr>\n",
       "    <tr>\n",
       "      <th>1970</th>\n",
       "      <td>2.467061</td>\n",
       "      <td>1.617933</td>\n",
       "      <td>4.121442</td>\n",
       "      <td>0.515514</td>\n",
       "      <td>5.019013</td>\n",
       "      <td>4.185208</td>\n",
       "      <td>1.844042</td>\n",
       "      <td>4.707827</td>\n",
       "      <td>3.389619</td>\n",
       "      <td>0.497252</td>\n",
       "      <td>2.511690</td>\n",
       "      <td>1.810989</td>\n",
       "      <td>4.215197</td>\n",
       "      <td>4.630820</td>\n",
       "    </tr>\n",
       "    <tr>\n",
       "      <th>1971</th>\n",
       "      <td>2.698827</td>\n",
       "      <td>1.868001</td>\n",
       "      <td>4.654807</td>\n",
       "      <td>0.555585</td>\n",
       "      <td>5.611000</td>\n",
       "      <td>4.743236</td>\n",
       "      <td>1.989649</td>\n",
       "      <td>5.176015</td>\n",
       "      <td>3.828729</td>\n",
       "      <td>0.546866</td>\n",
       "      <td>2.771910</td>\n",
       "      <td>1.703036</td>\n",
       "      <td>4.574731</td>\n",
       "      <td>5.109364</td>\n",
       "    </tr>\n",
       "    <tr>\n",
       "      <th>1972</th>\n",
       "      <td>3.106212</td>\n",
       "      <td>2.233615</td>\n",
       "      <td>5.302445</td>\n",
       "      <td>0.632902</td>\n",
       "      <td>6.879731</td>\n",
       "      <td>5.443400</td>\n",
       "      <td>2.111117</td>\n",
       "      <td>6.030753</td>\n",
       "      <td>5.070358</td>\n",
       "      <td>0.599812</td>\n",
       "      <td>3.196177</td>\n",
       "      <td>2.133130</td>\n",
       "      <td>5.023466</td>\n",
       "      <td>5.350489</td>\n",
       "    </tr>\n",
       "    <tr>\n",
       "      <th>1973</th>\n",
       "      <td>3.809923</td>\n",
       "      <td>3.195232</td>\n",
       "      <td>6.157733</td>\n",
       "      <td>0.771263</td>\n",
       "      <td>8.939845</td>\n",
       "      <td>6.166626</td>\n",
       "      <td>2.526233</td>\n",
       "      <td>7.285893</td>\n",
       "      <td>6.888676</td>\n",
       "      <td>0.766255</td>\n",
       "      <td>3.908974</td>\n",
       "      <td>2.685781</td>\n",
       "      <td>5.597898</td>\n",
       "      <td>7.259451</td>\n",
       "    </tr>\n",
       "    <tr>\n",
       "      <th>1974</th>\n",
       "      <td>5.309950</td>\n",
       "      <td>4.196787</td>\n",
       "      <td>7.521418</td>\n",
       "      <td>0.802692</td>\n",
       "      <td>9.653955</td>\n",
       "      <td>6.602199</td>\n",
       "      <td>2.940126</td>\n",
       "      <td>8.285307</td>\n",
       "      <td>7.646655</td>\n",
       "      <td>1.079214</td>\n",
       "      <td>5.091276</td>\n",
       "      <td>3.716824</td>\n",
       "      <td>6.068653</td>\n",
       "      <td>9.033006</td>\n",
       "    </tr>\n",
       "    <tr>\n",
       "      <th>1975</th>\n",
       "      <td>5.807765</td>\n",
       "      <td>4.938678</td>\n",
       "      <td>8.151392</td>\n",
       "      <td>0.909803</td>\n",
       "      <td>12.199015</td>\n",
       "      <td>7.741750</td>\n",
       "      <td>2.909016</td>\n",
       "      <td>9.453235</td>\n",
       "      <td>8.314919</td>\n",
       "      <td>1.202917</td>\n",
       "      <td>6.222656</td>\n",
       "      <td>4.660002</td>\n",
       "      <td>6.617146</td>\n",
       "      <td>9.364244</td>\n",
       "    </tr>\n",
       "    <tr>\n",
       "      <th>1976</th>\n",
       "      <td>6.270710</td>\n",
       "      <td>5.854732</td>\n",
       "      <td>9.686036</td>\n",
       "      <td>0.856971</td>\n",
       "      <td>12.587362</td>\n",
       "      <td>7.449541</td>\n",
       "      <td>3.034400</td>\n",
       "      <td>9.329574</td>\n",
       "      <td>9.345152</td>\n",
       "      <td>1.651199</td>\n",
       "      <td>6.284655</td>\n",
       "      <td>5.353928</td>\n",
       "      <td>7.357476</td>\n",
       "      <td>8.980903</td>\n",
       "    </tr>\n",
       "    <tr>\n",
       "      <th>1977</th>\n",
       "      <td>6.586473</td>\n",
       "      <td>6.740579</td>\n",
       "      <td>9.922479</td>\n",
       "      <td>0.973859</td>\n",
       "      <td>13.870729</td>\n",
       "      <td>8.425331</td>\n",
       "      <td>3.588875</td>\n",
       "      <td>10.694611</td>\n",
       "      <td>11.501435</td>\n",
       "      <td>2.122994</td>\n",
       "      <td>5.792196</td>\n",
       "      <td>6.126129</td>\n",
       "      <td>8.175983</td>\n",
       "      <td>9.892721</td>\n",
       "    </tr>\n",
       "    <tr>\n",
       "      <th>1978</th>\n",
       "      <td>7.072356</td>\n",
       "      <td>7.655453</td>\n",
       "      <td>10.252047</td>\n",
       "      <td>0.832485</td>\n",
       "      <td>17.130779</td>\n",
       "      <td>10.756835</td>\n",
       "      <td>4.056031</td>\n",
       "      <td>13.080257</td>\n",
       "      <td>16.159975</td>\n",
       "      <td>2.869872</td>\n",
       "      <td>7.258395</td>\n",
       "      <td>6.801696</td>\n",
       "      <td>9.235466</td>\n",
       "      <td>11.263085</td>\n",
       "    </tr>\n",
       "    <tr>\n",
       "      <th>1979</th>\n",
       "      <td>8.051619</td>\n",
       "      <td>8.460434</td>\n",
       "      <td>11.397395</td>\n",
       "      <td>0.992478</td>\n",
       "      <td>20.756527</td>\n",
       "      <td>14.059708</td>\n",
       "      <td>4.519574</td>\n",
       "      <td>16.344271</td>\n",
       "      <td>16.820011</td>\n",
       "      <td>3.696771</td>\n",
       "      <td>9.512859</td>\n",
       "      <td>9.333132</td>\n",
       "      <td>10.318359</td>\n",
       "      <td>13.757913</td>\n",
       "    </tr>\n",
       "    <tr>\n",
       "      <th>1980</th>\n",
       "      <td>8.952055</td>\n",
       "      <td>9.074131</td>\n",
       "      <td>12.840692</td>\n",
       "      <td>1.064117</td>\n",
       "      <td>23.709158</td>\n",
       "      <td>18.093126</td>\n",
       "      <td>5.504295</td>\n",
       "      <td>19.814241</td>\n",
       "      <td>17.623116</td>\n",
       "      <td>3.611278</td>\n",
       "      <td>14.536759</td>\n",
       "      <td>7.182010</td>\n",
       "      <td>11.221540</td>\n",
       "      <td>19.513748</td>\n",
       "    </tr>\n",
       "    <tr>\n",
       "      <th>1981</th>\n",
       "      <td>10.558072</td>\n",
       "      <td>9.862375</td>\n",
       "      <td>14.358356</td>\n",
       "      <td>1.090378</td>\n",
       "      <td>20.810589</td>\n",
       "      <td>17.317026</td>\n",
       "      <td>5.715989</td>\n",
       "      <td>17.881466</td>\n",
       "      <td>19.434282</td>\n",
       "      <td>4.027340</td>\n",
       "      <td>18.653975</td>\n",
       "      <td>7.417035</td>\n",
       "      <td>12.595055</td>\n",
       "      <td>20.327715</td>\n",
       "    </tr>\n",
       "    <tr>\n",
       "      <th>1982</th>\n",
       "      <td>11.581422</td>\n",
       "      <td>10.370713</td>\n",
       "      <td>14.703852</td>\n",
       "      <td>1.141723</td>\n",
       "      <td>19.773546</td>\n",
       "      <td>16.493515</td>\n",
       "      <td>5.929403</td>\n",
       "      <td>17.739054</td>\n",
       "      <td>18.087572</td>\n",
       "      <td>4.326934</td>\n",
       "      <td>13.053688</td>\n",
       "      <td>6.739010</td>\n",
       "      <td>13.132107</td>\n",
       "      <td>18.748182</td>\n",
       "    </tr>\n",
       "    <tr>\n",
       "      <th>1983</th>\n",
       "      <td>10.580249</td>\n",
       "      <td>7.249433</td>\n",
       "      <td>15.976101</td>\n",
       "      <td>1.284221</td>\n",
       "      <td>18.928057</td>\n",
       "      <td>15.679834</td>\n",
       "      <td>6.447750</td>\n",
       "      <td>18.393764</td>\n",
       "      <td>19.822254</td>\n",
       "      <td>4.846080</td>\n",
       "      <td>11.042919</td>\n",
       "      <td>6.439582</td>\n",
       "      <td>14.272006</td>\n",
       "      <td>20.996119</td>\n",
       "    </tr>\n",
       "    <tr>\n",
       "      <th>1984</th>\n",
       "      <td>11.550381</td>\n",
       "      <td>7.199110</td>\n",
       "      <td>16.670773</td>\n",
       "      <td>1.447108</td>\n",
       "      <td>17.941357</td>\n",
       "      <td>14.779372</td>\n",
       "      <td>6.267415</td>\n",
       "      <td>18.179756</td>\n",
       "      <td>21.018898</td>\n",
       "      <td>5.384462</td>\n",
       "      <td>13.027356</td>\n",
       "      <td>6.263346</td>\n",
       "      <td>15.856971</td>\n",
       "      <td>18.522530</td>\n",
       "    </tr>\n",
       "    <tr>\n",
       "      <th>1985</th>\n",
       "      <td>10.781475</td>\n",
       "      <td>8.060674</td>\n",
       "      <td>17.112682</td>\n",
       "      <td>1.722903</td>\n",
       "      <td>18.700504</td>\n",
       "      <td>15.668835</td>\n",
       "      <td>6.868697</td>\n",
       "      <td>18.774687</td>\n",
       "      <td>22.302481</td>\n",
       "      <td>5.593520</td>\n",
       "      <td>13.805908</td>\n",
       "      <td>7.019733</td>\n",
       "      <td>17.040529</td>\n",
       "      <td>14.067972</td>\n",
       "    </tr>\n",
       "    <tr>\n",
       "      <th>1986</th>\n",
       "      <td>10.891129</td>\n",
       "      <td>9.803727</td>\n",
       "      <td>17.712294</td>\n",
       "      <td>1.674304</td>\n",
       "      <td>26.081884</td>\n",
       "      <td>19.262091</td>\n",
       "      <td>7.355373</td>\n",
       "      <td>26.586882</td>\n",
       "      <td>33.144653</td>\n",
       "      <td>6.451665</td>\n",
       "      <td>9.514732</td>\n",
       "      <td>7.906441</td>\n",
       "      <td>17.985645</td>\n",
       "      <td>16.009354</td>\n",
       "    </tr>\n",
       "    <tr>\n",
       "      <th>1987</th>\n",
       "      <td>11.309879</td>\n",
       "      <td>10.819568</td>\n",
       "      <td>20.241697</td>\n",
       "      <td>1.519626</td>\n",
       "      <td>31.582531</td>\n",
       "      <td>23.863411</td>\n",
       "      <td>8.243018</td>\n",
       "      <td>33.450745</td>\n",
       "      <td>40.380455</td>\n",
       "      <td>8.169622</td>\n",
       "      <td>10.433032</td>\n",
       "      <td>9.100897</td>\n",
       "      <td>19.067951</td>\n",
       "      <td>21.068497</td>\n",
       "    </tr>\n",
       "    <tr>\n",
       "      <th>1988</th>\n",
       "      <td>14.095135</td>\n",
       "      <td>11.768482</td>\n",
       "      <td>23.804567</td>\n",
       "      <td>1.738856</td>\n",
       "      <td>34.445183</td>\n",
       "      <td>29.148975</td>\n",
       "      <td>8.761649</td>\n",
       "      <td>37.016876</td>\n",
       "      <td>48.971714</td>\n",
       "      <td>11.021297</td>\n",
       "      <td>12.842088</td>\n",
       "      <td>9.485611</td>\n",
       "      <td>20.565132</td>\n",
       "      <td>22.692486</td>\n",
       "    </tr>\n",
       "    <tr>\n",
       "      <th>1989</th>\n",
       "      <td>17.898561</td>\n",
       "      <td>15.786166</td>\n",
       "      <td>26.507839</td>\n",
       "      <td>1.936006</td>\n",
       "      <td>34.660358</td>\n",
       "      <td>29.685572</td>\n",
       "      <td>8.745471</td>\n",
       "      <td>38.555180</td>\n",
       "      <td>48.704353</td>\n",
       "      <td>13.635191</td>\n",
       "      <td>15.655859</td>\n",
       "      <td>11.186418</td>\n",
       "      <td>22.156252</td>\n",
       "      <td>23.582655</td>\n",
       "    </tr>\n",
       "    <tr>\n",
       "      <th>1990</th>\n",
       "      <td>18.588226</td>\n",
       "      <td>17.773748</td>\n",
       "      <td>27.856710</td>\n",
       "      <td>2.008877</td>\n",
       "      <td>42.908424</td>\n",
       "      <td>35.011066</td>\n",
       "      <td>9.482141</td>\n",
       "      <td>49.040749</td>\n",
       "      <td>49.946369</td>\n",
       "      <td>15.647401</td>\n",
       "      <td>18.473768</td>\n",
       "      <td>15.731504</td>\n",
       "      <td>23.419134</td>\n",
       "      <td>27.509447</td>\n",
       "    </tr>\n",
       "    <tr>\n",
       "      <th>1991</th>\n",
       "      <td>19.456728</td>\n",
       "      <td>15.585039</td>\n",
       "      <td>28.624285</td>\n",
       "      <td>2.134219</td>\n",
       "      <td>42.911713</td>\n",
       "      <td>36.598030</td>\n",
       "      <td>7.979266</td>\n",
       "      <td>51.739246</td>\n",
       "      <td>57.146263</td>\n",
       "      <td>18.258232</td>\n",
       "      <td>22.142731</td>\n",
       "      <td>15.769633</td>\n",
       "      <td>24.184902</td>\n",
       "      <td>29.507607</td>\n",
       "    </tr>\n",
       "    <tr>\n",
       "      <th>1992</th>\n",
       "      <td>19.429914</td>\n",
       "      <td>14.929020</td>\n",
       "      <td>27.776659</td>\n",
       "      <td>2.376617</td>\n",
       "      <td>47.380760</td>\n",
       "      <td>37.781281</td>\n",
       "      <td>8.514045</td>\n",
       "      <td>54.809071</td>\n",
       "      <td>62.317955</td>\n",
       "      <td>19.631912</td>\n",
       "      <td>25.679611</td>\n",
       "      <td>16.610476</td>\n",
       "      <td>25.607365</td>\n",
       "      <td>32.072525</td>\n",
       "    </tr>\n",
       "    <tr>\n",
       "      <th>1993</th>\n",
       "      <td>18.630455</td>\n",
       "      <td>16.753565</td>\n",
       "      <td>27.060854</td>\n",
       "      <td>2.475795</td>\n",
       "      <td>44.721748</td>\n",
       "      <td>33.994061</td>\n",
       "      <td>8.250760</td>\n",
       "      <td>44.213802</td>\n",
       "      <td>71.012222</td>\n",
       "      <td>21.682810</td>\n",
       "      <td>35.407856</td>\n",
       "      <td>18.837132</td>\n",
       "      <td>26.935709</td>\n",
       "      <td>32.124603</td>\n",
       "    </tr>\n",
       "    <tr>\n",
       "      <th>1994</th>\n",
       "      <td>19.267387</td>\n",
       "      <td>20.879093</td>\n",
       "      <td>27.102228</td>\n",
       "      <td>3.141549</td>\n",
       "      <td>47.127769</td>\n",
       "      <td>36.523636</td>\n",
       "      <td>9.668151</td>\n",
       "      <td>45.636116</td>\n",
       "      <td>79.695602</td>\n",
       "      <td>25.600702</td>\n",
       "      <td>37.322544</td>\n",
       "      <td>13.640844</td>\n",
       "      <td>28.619259</td>\n",
       "      <td>33.503464</td>\n",
       "    </tr>\n",
       "    <tr>\n",
       "      <th>1995</th>\n",
       "      <td>21.973061</td>\n",
       "      <td>29.407007</td>\n",
       "      <td>28.317118</td>\n",
       "      <td>4.088838</td>\n",
       "      <td>54.129810</td>\n",
       "      <td>43.114830</td>\n",
       "      <td>10.643201</td>\n",
       "      <td>48.768375</td>\n",
       "      <td>88.412689</td>\n",
       "      <td>31.286430</td>\n",
       "      <td>25.461447</td>\n",
       "      <td>17.677963</td>\n",
       "      <td>30.003687</td>\n",
       "      <td>37.480606</td>\n",
       "    </tr>\n",
       "    <tr>\n",
       "      <th>1996</th>\n",
       "      <td>23.952869</td>\n",
       "      <td>32.506710</td>\n",
       "      <td>29.469398</td>\n",
       "      <td>4.808445</td>\n",
       "      <td>54.284660</td>\n",
       "      <td>45.531494</td>\n",
       "      <td>11.606688</td>\n",
       "      <td>54.487930</td>\n",
       "      <td>78.493439</td>\n",
       "      <td>33.693233</td>\n",
       "      <td>29.060719</td>\n",
       "      <td>18.946005</td>\n",
       "      <td>31.705681</td>\n",
       "      <td>35.625294</td>\n",
       "    </tr>\n",
       "    <tr>\n",
       "      <th>1997</th>\n",
       "      <td>26.000294</td>\n",
       "      <td>33.759693</td>\n",
       "      <td>30.609203</td>\n",
       "      <td>5.353187</td>\n",
       "      <td>49.119133</td>\n",
       "      <td>50.015213</td>\n",
       "      <td>12.285275</td>\n",
       "      <td>51.559044</td>\n",
       "      <td>71.622925</td>\n",
       "      <td>31.461536</td>\n",
       "      <td>35.385414</td>\n",
       "      <td>19.824451</td>\n",
       "      <td>33.686741</td>\n",
       "      <td>36.878712</td>\n",
       "    </tr>\n",
       "    <tr>\n",
       "      <th>1998</th>\n",
       "      <td>23.854387</td>\n",
       "      <td>33.014500</td>\n",
       "      <td>29.628277</td>\n",
       "      <td>5.728725</td>\n",
       "      <td>50.817101</td>\n",
       "      <td>53.002625</td>\n",
       "      <td>12.447271</td>\n",
       "      <td>52.728695</td>\n",
       "      <td>65.340012</td>\n",
       "      <td>21.167326</td>\n",
       "      <td>37.229847</td>\n",
       "      <td>28.809982</td>\n",
       "      <td>35.592525</td>\n",
       "      <td>33.387856</td>\n",
       "    </tr>\n",
       "    <tr>\n",
       "      <th>1999</th>\n",
       "      <td>23.241333</td>\n",
       "      <td>22.920727</td>\n",
       "      <td>31.703773</td>\n",
       "      <td>6.090297</td>\n",
       "      <td>50.480473</td>\n",
       "      <td>54.104668</td>\n",
       "      <td>13.554157</td>\n",
       "      <td>51.997749</td>\n",
       "      <td>73.911247</td>\n",
       "      <td>27.472380</td>\n",
       "      <td>42.443676</td>\n",
       "      <td>26.769289</td>\n",
       "      <td>37.824638</td>\n",
       "      <td>33.067902</td>\n",
       "    </tr>\n",
       "    <tr>\n",
       "      <th>2000</th>\n",
       "      <td>24.820362</td>\n",
       "      <td>25.053860</td>\n",
       "      <td>34.805099</td>\n",
       "      <td>6.743418</td>\n",
       "      <td>46.169548</td>\n",
       "      <td>53.356583</td>\n",
       "      <td>13.837002</td>\n",
       "      <td>47.606514</td>\n",
       "      <td>79.210320</td>\n",
       "      <td>31.816244</td>\n",
       "      <td>50.057720</td>\n",
       "      <td>28.638039</td>\n",
       "      <td>40.258686</td>\n",
       "      <td>33.119362</td>\n",
       "    </tr>\n",
       "    <tr>\n",
       "      <th>2001</th>\n",
       "      <td>22.642569</td>\n",
       "      <td>21.404823</td>\n",
       "      <td>34.533550</td>\n",
       "      <td>7.456372</td>\n",
       "      <td>46.575840</td>\n",
       "      <td>52.803062</td>\n",
       "      <td>14.340565</td>\n",
       "      <td>48.492760</td>\n",
       "      <td>69.745804</td>\n",
       "      <td>30.241390</td>\n",
       "      <td>53.507973</td>\n",
       "      <td>21.064243</td>\n",
       "      <td>41.558556</td>\n",
       "      <td>29.556974</td>\n",
       "    </tr>\n",
       "    <tr>\n",
       "      <th>2002</th>\n",
       "      <td>23.610397</td>\n",
       "      <td>19.486420</td>\n",
       "      <td>35.547020</td>\n",
       "      <td>8.186515</td>\n",
       "      <td>50.759651</td>\n",
       "      <td>57.191116</td>\n",
       "      <td>15.211943</td>\n",
       "      <td>53.007553</td>\n",
       "      <td>66.686920</td>\n",
       "      <td>34.636189</td>\n",
       "      <td>54.597420</td>\n",
       "      <td>25.083447</td>\n",
       "      <td>42.922050</td>\n",
       "      <td>28.172785</td>\n",
       "    </tr>\n",
       "    <tr>\n",
       "      <th>2003</th>\n",
       "      <td>27.903351</td>\n",
       "      <td>21.337933</td>\n",
       "      <td>41.850822</td>\n",
       "      <td>9.242693</td>\n",
       "      <td>62.360371</td>\n",
       "      <td>65.867653</td>\n",
       "      <td>17.952234</td>\n",
       "      <td>65.498024</td>\n",
       "      <td>72.055191</td>\n",
       "      <td>38.803669</td>\n",
       "      <td>51.572735</td>\n",
       "      <td>32.845673</td>\n",
       "      <td>44.993038</td>\n",
       "      <td>42.998512</td>\n",
       "    </tr>\n",
       "    <tr>\n",
       "      <th>2004</th>\n",
       "      <td>36.667038</td>\n",
       "      <td>25.582922</td>\n",
       "      <td>47.979767</td>\n",
       "      <td>10.885310</td>\n",
       "      <td>71.660561</td>\n",
       "      <td>77.600082</td>\n",
       "      <td>20.949179</td>\n",
       "      <td>75.002136</td>\n",
       "      <td>78.010727</td>\n",
       "      <td>43.798695</td>\n",
       "      <td>55.313957</td>\n",
       "      <td>42.688011</td>\n",
       "      <td>47.980747</td>\n",
       "      <td>55.828728</td>\n",
       "    </tr>\n",
       "    <tr>\n",
       "      <th>2005</th>\n",
       "      <td>41.500374</td>\n",
       "      <td>34.081821</td>\n",
       "      <td>54.822254</td>\n",
       "      <td>12.725822</td>\n",
       "      <td>74.274323</td>\n",
       "      <td>81.499733</td>\n",
       "      <td>24.235149</td>\n",
       "      <td>77.147491</td>\n",
       "      <td>77.027855</td>\n",
       "      <td>51.624733</td>\n",
       "      <td>62.048141</td>\n",
       "      <td>52.862312</td>\n",
       "      <td>51.209023</td>\n",
       "      <td>63.043983</td>\n",
       "    </tr>\n",
       "    <tr>\n",
       "      <th>2006</th>\n",
       "      <td>44.640030</td>\n",
       "      <td>42.337936</td>\n",
       "      <td>61.652500</td>\n",
       "      <td>15.320895</td>\n",
       "      <td>78.452690</td>\n",
       "      <td>86.789284</td>\n",
       "      <td>27.776512</td>\n",
       "      <td>80.939423</td>\n",
       "      <td>73.364105</td>\n",
       "      <td>58.158066</td>\n",
       "      <td>68.971306</td>\n",
       "      <td>58.162098</td>\n",
       "      <td>54.258137</td>\n",
       "      <td>66.315804</td>\n",
       "    </tr>\n",
       "    <tr>\n",
       "      <th>2007</th>\n",
       "      <td>50.997837</td>\n",
       "      <td>53.403313</td>\n",
       "      <td>68.641594</td>\n",
       "      <td>19.764481</td>\n",
       "      <td>89.949265</td>\n",
       "      <td>99.055756</td>\n",
       "      <td>35.943993</td>\n",
       "      <td>91.881248</td>\n",
       "      <td>73.014740</td>\n",
       "      <td>64.751122</td>\n",
       "      <td>74.438316</td>\n",
       "      <td>71.134041</td>\n",
       "      <td>56.844826</td>\n",
       "      <td>72.692596</td>\n",
       "    </tr>\n",
       "    <tr>\n",
       "      <th>2008</th>\n",
       "      <td>63.010288</td>\n",
       "      <td>64.822395</td>\n",
       "      <td>72.575035</td>\n",
       "      <td>25.576424</td>\n",
       "      <td>99.067711</td>\n",
       "      <td>93.889580</td>\n",
       "      <td>35.416939</td>\n",
       "      <td>100.000000</td>\n",
       "      <td>81.415558</td>\n",
       "      <td>57.833492</td>\n",
       "      <td>78.489426</td>\n",
       "      <td>80.439560</td>\n",
       "      <td>58.005859</td>\n",
       "      <td>68.994232</td>\n",
       "    </tr>\n",
       "    <tr>\n",
       "      <th>2009</th>\n",
       "      <td>55.426727</td>\n",
       "      <td>63.719284</td>\n",
       "      <td>64.239624</td>\n",
       "      <td>28.400839</td>\n",
       "      <td>91.311607</td>\n",
       "      <td>77.424530</td>\n",
       "      <td>39.641132</td>\n",
       "      <td>91.334312</td>\n",
       "      <td>84.330162</td>\n",
       "      <td>52.123959</td>\n",
       "      <td>63.644123</td>\n",
       "      <td>67.789742</td>\n",
       "      <td>56.859898</td>\n",
       "      <td>71.967354</td>\n",
       "    </tr>\n",
       "    <tr>\n",
       "      <th>2010</th>\n",
       "      <td>68.554184</td>\n",
       "      <td>84.430656</td>\n",
       "      <td>75.582443</td>\n",
       "      <td>33.887066</td>\n",
       "      <td>89.428513</td>\n",
       "      <td>79.789055</td>\n",
       "      <td>49.499882</td>\n",
       "      <td>88.684334</td>\n",
       "      <td>91.816620</td>\n",
       "      <td>63.174755</td>\n",
       "      <td>74.799194</td>\n",
       "      <td>81.120094</td>\n",
       "      <td>59.101997</td>\n",
       "      <td>91.087799</td>\n",
       "    </tr>\n",
       "    <tr>\n",
       "      <th>2011</th>\n",
       "      <td>83.469055</td>\n",
       "      <td>100.000000</td>\n",
       "      <td>83.806572</td>\n",
       "      <td>42.039047</td>\n",
       "      <td>96.865250</td>\n",
       "      <td>85.393753</td>\n",
       "      <td>53.855347</td>\n",
       "      <td>95.281143</td>\n",
       "      <td>99.374786</td>\n",
       "      <td>69.202301</td>\n",
       "      <td>83.474609</td>\n",
       "      <td>87.574272</td>\n",
       "      <td>61.265022</td>\n",
       "      <td>100.000000</td>\n",
       "    </tr>\n",
       "    <tr>\n",
       "      <th>2012</th>\n",
       "      <td>92.332306</td>\n",
       "      <td>94.230911</td>\n",
       "      <td>85.444077</td>\n",
       "      <td>47.498219</td>\n",
       "      <td>90.729576</td>\n",
       "      <td>86.672798</td>\n",
       "      <td>53.990810</td>\n",
       "      <td>86.644096</td>\n",
       "      <td>100.000000</td>\n",
       "      <td>70.594078</td>\n",
       "      <td>84.931740</td>\n",
       "      <td>91.935356</td>\n",
       "      <td>63.834442</td>\n",
       "      <td>94.805984</td>\n",
       "    </tr>\n",
       "    <tr>\n",
       "      <th>2013</th>\n",
       "      <td>94.085716</td>\n",
       "      <td>94.521072</td>\n",
       "      <td>86.296051</td>\n",
       "      <td>53.278290</td>\n",
       "      <td>95.063934</td>\n",
       "      <td>89.234039</td>\n",
       "      <td>54.849987</td>\n",
       "      <td>88.926140</td>\n",
       "      <td>83.099915</td>\n",
       "      <td>75.694565</td>\n",
       "      <td>90.118477</td>\n",
       "      <td>100.000000</td>\n",
       "      <td>66.148491</td>\n",
       "      <td>87.491592</td>\n",
       "    </tr>\n",
       "    <tr>\n",
       "      <th>2014</th>\n",
       "      <td>87.595413</td>\n",
       "      <td>93.879845</td>\n",
       "      <td>84.387138</td>\n",
       "      <td>58.317238</td>\n",
       "      <td>96.554443</td>\n",
       "      <td>98.166290</td>\n",
       "      <td>60.238476</td>\n",
       "      <td>89.760025</td>\n",
       "      <td>78.072563</td>\n",
       "      <td>81.963249</td>\n",
       "      <td>93.011459</td>\n",
       "      <td>98.030426</td>\n",
       "      <td>68.927017</td>\n",
       "      <td>83.194962</td>\n",
       "    </tr>\n",
       "    <tr>\n",
       "      <th>2015</th>\n",
       "      <td>80.611511</td>\n",
       "      <td>68.887772</td>\n",
       "      <td>72.739494</td>\n",
       "      <td>61.579178</td>\n",
       "      <td>82.464096</td>\n",
       "      <td>93.991241</td>\n",
       "      <td>62.142761</td>\n",
       "      <td>76.251579</td>\n",
       "      <td>70.865326</td>\n",
       "      <td>80.939201</td>\n",
       "      <td>82.865273</td>\n",
       "      <td>90.239594</td>\n",
       "      <td>71.500748</td>\n",
       "      <td>75.667870</td>\n",
       "    </tr>\n",
       "    <tr>\n",
       "      <th>2016</th>\n",
       "      <td>72.015610</td>\n",
       "      <td>68.638596</td>\n",
       "      <td>71.406960</td>\n",
       "      <td>62.535252</td>\n",
       "      <td>83.605980</td>\n",
       "      <td>86.458817</td>\n",
       "      <td>67.791313</td>\n",
       "      <td>77.930275</td>\n",
       "      <td>79.773407</td>\n",
       "      <td>82.835350</td>\n",
       "      <td>76.262398</td>\n",
       "      <td>90.800156</td>\n",
       "      <td>73.421555</td>\n",
       "      <td>70.621094</td>\n",
       "    </tr>\n",
       "    <tr>\n",
       "      <th>2017</th>\n",
       "      <td>79.172302</td>\n",
       "      <td>78.875809</td>\n",
       "      <td>77.074249</td>\n",
       "      <td>68.531837</td>\n",
       "      <td>87.736870</td>\n",
       "      <td>85.940926</td>\n",
       "      <td>78.328033</td>\n",
       "      <td>81.447777</td>\n",
       "      <td>78.612122</td>\n",
       "      <td>89.670959</td>\n",
       "      <td>81.948982</td>\n",
       "      <td>89.683601</td>\n",
       "      <td>76.493607</td>\n",
       "      <td>83.249512</td>\n",
       "    </tr>\n",
       "    <tr>\n",
       "      <th>2018</th>\n",
       "      <td>85.248337</td>\n",
       "      <td>73.272896</td>\n",
       "      <td>80.627426</td>\n",
       "      <td>77.352203</td>\n",
       "      <td>94.356674</td>\n",
       "      <td>92.175186</td>\n",
       "      <td>79.848091</td>\n",
       "      <td>86.850632</td>\n",
       "      <td>80.366539</td>\n",
       "      <td>95.245041</td>\n",
       "      <td>86.438736</td>\n",
       "      <td>81.277672</td>\n",
       "      <td>80.639748</td>\n",
       "      <td>88.205879</td>\n",
       "    </tr>\n",
       "    <tr>\n",
       "      <th>2019</th>\n",
       "      <td>83.096756</td>\n",
       "      <td>71.604584</td>\n",
       "      <td>81.488579</td>\n",
       "      <td>79.495811</td>\n",
       "      <td>92.257652</td>\n",
       "      <td>91.499626</td>\n",
       "      <td>83.767532</td>\n",
       "      <td>83.503113</td>\n",
       "      <td>81.595947</td>\n",
       "      <td>91.190681</td>\n",
       "      <td>89.734200</td>\n",
       "      <td>79.341782</td>\n",
       "      <td>83.969788</td>\n",
       "      <td>84.795212</td>\n",
       "    </tr>\n",
       "    <tr>\n",
       "      <th>2020</th>\n",
       "      <td>79.200783</td>\n",
       "      <td>56.422741</td>\n",
       "      <td>76.996338</td>\n",
       "      <td>81.765869</td>\n",
       "      <td>89.219604</td>\n",
       "      <td>86.617332</td>\n",
       "      <td>78.922440</td>\n",
       "      <td>78.766373</td>\n",
       "      <td>80.492622</td>\n",
       "      <td>90.798065</td>\n",
       "      <td>77.112488</td>\n",
       "      <td>75.202499</td>\n",
       "      <td>82.711075</td>\n",
       "      <td>73.683968</td>\n",
       "    </tr>\n",
       "    <tr>\n",
       "      <th>2021</th>\n",
       "      <td>92.675529</td>\n",
       "      <td>63.055206</td>\n",
       "      <td>93.534409</td>\n",
       "      <td>99.205536</td>\n",
       "      <td>100.000000</td>\n",
       "      <td>100.000000</td>\n",
       "      <td>93.064201</td>\n",
       "      <td>87.781586</td>\n",
       "      <td>79.803047</td>\n",
       "      <td>100.000000</td>\n",
       "      <td>90.004974</td>\n",
       "      <td>85.512146</td>\n",
       "      <td>91.565628</td>\n",
       "      <td>91.448303</td>\n",
       "    </tr>\n",
       "    <tr>\n",
       "      <th>2022</th>\n",
       "      <td>100.000000</td>\n",
       "      <td>73.393753</td>\n",
       "      <td>100.000000</td>\n",
       "      <td>100.000000</td>\n",
       "      <td>94.084465</td>\n",
       "      <td>98.340660</td>\n",
       "      <td>100.000000</td>\n",
       "      <td>83.466972</td>\n",
       "      <td>67.456894</td>\n",
       "      <td>91.953957</td>\n",
       "      <td>100.000000</td>\n",
       "      <td>94.590599</td>\n",
       "      <td>100.000000</td>\n",
       "      <td>88.579262</td>\n",
       "    </tr>\n",
       "  </tbody>\n",
       "</table>\n",
       "</div>"
      ],
      "text/plain": [
       "              0           1           2           3           4           5    \n",
       "1963    1.285640    0.890150    2.104350    0.282281    2.865539    2.772218  \\\n",
       "1964    1.420608    0.801318    2.307554    0.332392    3.178218    3.023480   \n",
       "1965    1.550428    0.858722    2.547626    0.392113    3.432771    3.261022   \n",
       "1966    1.629912    1.081102    2.854746    0.427096    3.720430    3.477132   \n",
       "1967    1.817022    1.188246    3.068851    0.405727    4.022238    3.622661   \n",
       "1968    1.952592    1.296958    3.356795    0.394397    4.387786    3.451100   \n",
       "1969    2.189504    1.420849    3.698781    0.443717    4.797459    3.729878   \n",
       "1970    2.467061    1.617933    4.121442    0.515514    5.019013    4.185208   \n",
       "1971    2.698827    1.868001    4.654807    0.555585    5.611000    4.743236   \n",
       "1972    3.106212    2.233615    5.302445    0.632902    6.879731    5.443400   \n",
       "1973    3.809923    3.195232    6.157733    0.771263    8.939845    6.166626   \n",
       "1974    5.309950    4.196787    7.521418    0.802692    9.653955    6.602199   \n",
       "1975    5.807765    4.938678    8.151392    0.909803   12.199015    7.741750   \n",
       "1976    6.270710    5.854732    9.686036    0.856971   12.587362    7.449541   \n",
       "1977    6.586473    6.740579    9.922479    0.973859   13.870729    8.425331   \n",
       "1978    7.072356    7.655453   10.252047    0.832485   17.130779   10.756835   \n",
       "1979    8.051619    8.460434   11.397395    0.992478   20.756527   14.059708   \n",
       "1980    8.952055    9.074131   12.840692    1.064117   23.709158   18.093126   \n",
       "1981   10.558072    9.862375   14.358356    1.090378   20.810589   17.317026   \n",
       "1982   11.581422   10.370713   14.703852    1.141723   19.773546   16.493515   \n",
       "1983   10.580249    7.249433   15.976101    1.284221   18.928057   15.679834   \n",
       "1984   11.550381    7.199110   16.670773    1.447108   17.941357   14.779372   \n",
       "1985   10.781475    8.060674   17.112682    1.722903   18.700504   15.668835   \n",
       "1986   10.891129    9.803727   17.712294    1.674304   26.081884   19.262091   \n",
       "1987   11.309879   10.819568   20.241697    1.519626   31.582531   23.863411   \n",
       "1988   14.095135   11.768482   23.804567    1.738856   34.445183   29.148975   \n",
       "1989   17.898561   15.786166   26.507839    1.936006   34.660358   29.685572   \n",
       "1990   18.588226   17.773748   27.856710    2.008877   42.908424   35.011066   \n",
       "1991   19.456728   15.585039   28.624285    2.134219   42.911713   36.598030   \n",
       "1992   19.429914   14.929020   27.776659    2.376617   47.380760   37.781281   \n",
       "1993   18.630455   16.753565   27.060854    2.475795   44.721748   33.994061   \n",
       "1994   19.267387   20.879093   27.102228    3.141549   47.127769   36.523636   \n",
       "1995   21.973061   29.407007   28.317118    4.088838   54.129810   43.114830   \n",
       "1996   23.952869   32.506710   29.469398    4.808445   54.284660   45.531494   \n",
       "1997   26.000294   33.759693   30.609203    5.353187   49.119133   50.015213   \n",
       "1998   23.854387   33.014500   29.628277    5.728725   50.817101   53.002625   \n",
       "1999   23.241333   22.920727   31.703773    6.090297   50.480473   54.104668   \n",
       "2000   24.820362   25.053860   34.805099    6.743418   46.169548   53.356583   \n",
       "2001   22.642569   21.404823   34.533550    7.456372   46.575840   52.803062   \n",
       "2002   23.610397   19.486420   35.547020    8.186515   50.759651   57.191116   \n",
       "2003   27.903351   21.337933   41.850822    9.242693   62.360371   65.867653   \n",
       "2004   36.667038   25.582922   47.979767   10.885310   71.660561   77.600082   \n",
       "2005   41.500374   34.081821   54.822254   12.725822   74.274323   81.499733   \n",
       "2006   44.640030   42.337936   61.652500   15.320895   78.452690   86.789284   \n",
       "2007   50.997837   53.403313   68.641594   19.764481   89.949265   99.055756   \n",
       "2008   63.010288   64.822395   72.575035   25.576424   99.067711   93.889580   \n",
       "2009   55.426727   63.719284   64.239624   28.400839   91.311607   77.424530   \n",
       "2010   68.554184   84.430656   75.582443   33.887066   89.428513   79.789055   \n",
       "2011   83.469055  100.000000   83.806572   42.039047   96.865250   85.393753   \n",
       "2012   92.332306   94.230911   85.444077   47.498219   90.729576   86.672798   \n",
       "2013   94.085716   94.521072   86.296051   53.278290   95.063934   89.234039   \n",
       "2014   87.595413   93.879845   84.387138   58.317238   96.554443   98.166290   \n",
       "2015   80.611511   68.887772   72.739494   61.579178   82.464096   93.991241   \n",
       "2016   72.015610   68.638596   71.406960   62.535252   83.605980   86.458817   \n",
       "2017   79.172302   78.875809   77.074249   68.531837   87.736870   85.940926   \n",
       "2018   85.248337   73.272896   80.627426   77.352203   94.356674   92.175186   \n",
       "2019   83.096756   71.604584   81.488579   79.495811   92.257652   91.499626   \n",
       "2020   79.200783   56.422741   76.996338   81.765869   89.219604   86.617332   \n",
       "2021   92.675529   63.055206   93.534409   99.205536  100.000000  100.000000   \n",
       "2022  100.000000   73.393753  100.000000  100.000000   94.084465   98.340660   \n",
       "\n",
       "              6           7           8           9           10          11   \n",
       "1963    1.430447    2.395973    1.108006    0.220242    1.199275    1.078785  \\\n",
       "1964    1.668502    2.622850    1.303321    0.191006    1.419897    1.161971   \n",
       "1965    1.759329    2.822245    1.450016    0.172333    1.544350    1.243864   \n",
       "1966    1.354926    3.057925    1.684024    0.216958    1.719716    1.465611   \n",
       "1967    1.481052    3.368399    1.973449    0.268136    1.878111    1.626147   \n",
       "1968    1.568214    3.651092    2.337254    0.337904    2.076104    1.819021   \n",
       "1969    1.726631    4.030675    2.745444    0.424015    2.296726    2.023444   \n",
       "1970    1.844042    4.707827    3.389619    0.497252    2.511690    1.810989   \n",
       "1971    1.989649    5.176015    3.828729    0.546866    2.771910    1.703036   \n",
       "1972    2.111117    6.030753    5.070358    0.599812    3.196177    2.133130   \n",
       "1973    2.526233    7.285893    6.888676    0.766255    3.908974    2.685781   \n",
       "1974    2.940126    8.285307    7.646655    1.079214    5.091276    3.716824   \n",
       "1975    2.909016    9.453235    8.314919    1.202917    6.222656    4.660002   \n",
       "1976    3.034400    9.329574    9.345152    1.651199    6.284655    5.353928   \n",
       "1977    3.588875   10.694611   11.501435    2.122994    5.792196    6.126129   \n",
       "1978    4.056031   13.080257   16.159975    2.869872    7.258395    6.801696   \n",
       "1979    4.519574   16.344271   16.820011    3.696771    9.512859    9.333132   \n",
       "1980    5.504295   19.814241   17.623116    3.611278   14.536759    7.182010   \n",
       "1981    5.715989   17.881466   19.434282    4.027340   18.653975    7.417035   \n",
       "1982    5.929403   17.739054   18.087572    4.326934   13.053688    6.739010   \n",
       "1983    6.447750   18.393764   19.822254    4.846080   11.042919    6.439582   \n",
       "1984    6.267415   18.179756   21.018898    5.384462   13.027356    6.263346   \n",
       "1985    6.868697   18.774687   22.302481    5.593520   13.805908    7.019733   \n",
       "1986    7.355373   26.586882   33.144653    6.451665    9.514732    7.906441   \n",
       "1987    8.243018   33.450745   40.380455    8.169622   10.433032    9.100897   \n",
       "1988    8.761649   37.016876   48.971714   11.021297   12.842088    9.485611   \n",
       "1989    8.745471   38.555180   48.704353   13.635191   15.655859   11.186418   \n",
       "1990    9.482141   49.040749   49.946369   15.647401   18.473768   15.731504   \n",
       "1991    7.979266   51.739246   57.146263   18.258232   22.142731   15.769633   \n",
       "1992    8.514045   54.809071   62.317955   19.631912   25.679611   16.610476   \n",
       "1993    8.250760   44.213802   71.012222   21.682810   35.407856   18.837132   \n",
       "1994    9.668151   45.636116   79.695602   25.600702   37.322544   13.640844   \n",
       "1995   10.643201   48.768375   88.412689   31.286430   25.461447   17.677963   \n",
       "1996   11.606688   54.487930   78.493439   33.693233   29.060719   18.946005   \n",
       "1997   12.285275   51.559044   71.622925   31.461536   35.385414   19.824451   \n",
       "1998   12.447271   52.728695   65.340012   21.167326   37.229847   28.809982   \n",
       "1999   13.554157   51.997749   73.911247   27.472380   42.443676   26.769289   \n",
       "2000   13.837002   47.606514   79.210320   31.816244   50.057720   28.638039   \n",
       "2001   14.340565   48.492760   69.745804   30.241390   53.507973   21.064243   \n",
       "2002   15.211943   53.007553   66.686920   34.636189   54.597420   25.083447   \n",
       "2003   17.952234   65.498024   72.055191   38.803669   51.572735   32.845673   \n",
       "2004   20.949179   75.002136   78.010727   43.798695   55.313957   42.688011   \n",
       "2005   24.235149   77.147491   77.027855   51.624733   62.048141   52.862312   \n",
       "2006   27.776512   80.939423   73.364105   58.158066   68.971306   58.162098   \n",
       "2007   35.943993   91.881248   73.014740   64.751122   74.438316   71.134041   \n",
       "2008   35.416939  100.000000   81.415558   57.833492   78.489426   80.439560   \n",
       "2009   39.641132   91.334312   84.330162   52.123959   63.644123   67.789742   \n",
       "2010   49.499882   88.684334   91.816620   63.174755   74.799194   81.120094   \n",
       "2011   53.855347   95.281143   99.374786   69.202301   83.474609   87.574272   \n",
       "2012   53.990810   86.644096  100.000000   70.594078   84.931740   91.935356   \n",
       "2013   54.849987   88.926140   83.099915   75.694565   90.118477  100.000000   \n",
       "2014   60.238476   89.760025   78.072563   81.963249   93.011459   98.030426   \n",
       "2015   62.142761   76.251579   70.865326   80.939201   82.865273   90.239594   \n",
       "2016   67.791313   77.930275   79.773407   82.835350   76.262398   90.800156   \n",
       "2017   78.328033   81.447777   78.612122   89.670959   81.948982   89.683601   \n",
       "2018   79.848091   86.850632   80.366539   95.245041   86.438736   81.277672   \n",
       "2019   83.767532   83.503113   81.595947   91.190681   89.734200   79.341782   \n",
       "2020   78.922440   78.766373   80.492622   90.798065   77.112488   75.202499   \n",
       "2021   93.064201   87.781586   79.803047  100.000000   90.004974   85.512146   \n",
       "2022  100.000000   83.466972   67.456894   91.953957  100.000000   94.590599   \n",
       "\n",
       "              12          13  \n",
       "1963    2.507982    2.368880  \n",
       "1964    2.693352    2.609343  \n",
       "1965    2.920743    2.852250  \n",
       "1966    3.200760    3.101573  \n",
       "1967    3.384166    3.452949  \n",
       "1968    3.701493    3.737410  \n",
       "1969    4.005467    4.202753  \n",
       "1970    4.215197    4.630820  \n",
       "1971    4.574731    5.109364  \n",
       "1972    5.023466    5.350489  \n",
       "1973    5.597898    7.259451  \n",
       "1974    6.068653    9.033006  \n",
       "1975    6.617146    9.364244  \n",
       "1976    7.357476    8.980903  \n",
       "1977    8.175983    9.892721  \n",
       "1978    9.235466   11.263085  \n",
       "1979   10.318359   13.757913  \n",
       "1980   11.221540   19.513748  \n",
       "1981   12.595055   20.327715  \n",
       "1982   13.132107   18.748182  \n",
       "1983   14.272006   20.996119  \n",
       "1984   15.856971   18.522530  \n",
       "1985   17.040529   14.067972  \n",
       "1986   17.985645   16.009354  \n",
       "1987   19.067951   21.068497  \n",
       "1988   20.565132   22.692486  \n",
       "1989   22.156252   23.582655  \n",
       "1990   23.419134   27.509447  \n",
       "1991   24.184902   29.507607  \n",
       "1992   25.607365   32.072525  \n",
       "1993   26.935709   32.124603  \n",
       "1994   28.619259   33.503464  \n",
       "1995   30.003687   37.480606  \n",
       "1996   31.705681   35.625294  \n",
       "1997   33.686741   36.878712  \n",
       "1998   35.592525   33.387856  \n",
       "1999   37.824638   33.067902  \n",
       "2000   40.258686   33.119362  \n",
       "2001   41.558556   29.556974  \n",
       "2002   42.922050   28.172785  \n",
       "2003   44.993038   42.998512  \n",
       "2004   47.980747   55.828728  \n",
       "2005   51.209023   63.043983  \n",
       "2006   54.258137   66.315804  \n",
       "2007   56.844826   72.692596  \n",
       "2008   58.005859   68.994232  \n",
       "2009   56.859898   71.967354  \n",
       "2010   59.101997   91.087799  \n",
       "2011   61.265022  100.000000  \n",
       "2012   63.834442   94.805984  \n",
       "2013   66.148491   87.491592  \n",
       "2014   68.927017   83.194962  \n",
       "2015   71.500748   75.667870  \n",
       "2016   73.421555   70.621094  \n",
       "2017   76.493607   83.249512  \n",
       "2018   80.639748   88.205879  \n",
       "2019   83.969788   84.795212  \n",
       "2020   82.711075   73.683968  \n",
       "2021   91.565628   91.448303  \n",
       "2022  100.000000   88.579262  "
      ]
     },
     "execution_count": 31,
     "metadata": {},
     "output_type": "execute_result"
    }
   ],
   "source": [
    "df = pd.read_csv('/mnt/vstor/CSE_MSE_RXF131/cradle-members/sdle/yxf451/Git/21-pv-stgnn-bkp/topics/STGCN_DAE/GDP/GDP.csv', delimiter=',', encoding='utf-8', skiprows=4)\n",
    "\n",
    "# Example: Filtering rows where 'Name' is in a list of names\n",
    "G20_list = ['AUS', 'ARG', 'BRA', 'CAN', 'CHN', 'FRA', 'DEU', 'IND', 'IDN', 'ITA', 'JPN', 'MEX', 'RUS', 'SAU', 'ZAF', 'KOR', 'TUR', 'GBR', 'USA']\n",
    "# filter = ['BRA', 'CAN', 'IND', 'ITA', 'JPN', 'MEX', 'RUS', 'SAU', 'GBR', 'USA']\n",
    "# Applying the filter\n",
    "condition = df['Country Code'].isin(G20_list)\n",
    "filtered_df = df[condition]\n",
    "filtered_df = filtered_df.reset_index(drop=True)\n",
    "new_df = filtered_df.T.iloc[4:-1,:]\n",
    "new_df = new_df.dropna(axis=1)\n",
    "num_columns = len(new_df.columns)\n",
    "\n",
    "# Create a dictionary to map current column names to new column names\n",
    "new_column_names = {col: i for i, col in enumerate(new_df.columns)}\n",
    "\n",
    "# Rename the columns\n",
    "new_df.rename(columns=new_column_names, inplace=True)\n",
    "\n",
    "\n",
    "# Display the resulting DataFrame\n",
    "normalized_df = new_df.div(new_df.max())\n",
    "\n",
    "# Display the resulting normalized DataFrame\n",
    "normalized_df = normalized_df.iloc[3:,:]\n",
    "normalized_df = normalized_df.astype('float32')\n",
    "normalized_df = normalized_df*100\n",
    "normalized_df"
   ]
  },
  {
   "cell_type": "code",
   "execution_count": 40,
   "metadata": {},
   "outputs": [
    {
     "data": {
      "text/plain": [
       "(60, 14)"
      ]
     },
     "execution_count": 40,
     "metadata": {},
     "output_type": "execute_result"
    }
   ],
   "source": [
    "normalized_df.shape"
   ]
  },
  {
   "cell_type": "code",
   "execution_count": 32,
   "metadata": {},
   "outputs": [
    {
     "name": "stdout",
     "output_type": "stream",
     "text": [
      "Adjacency Matrix:\n",
      "          0         1         2         3         4         5         6    \n",
      "0   1.000000  0.984179  0.989144  0.000000  0.961498  0.961858  0.973649  \\\n",
      "1   0.984179  1.000000  0.975627  0.000000  0.957488  0.951461  0.000000   \n",
      "2   0.989144  0.975627  1.000000  0.000000  0.988583  0.987821  0.950375   \n",
      "3   0.000000  0.000000  0.000000  1.000000  0.000000  0.000000  0.985018   \n",
      "4   0.961498  0.957488  0.988583  0.000000  1.000000  0.994629  0.000000   \n",
      "5   0.961858  0.951461  0.987821  0.000000  0.994629  1.000000  0.000000   \n",
      "6   0.973649  0.000000  0.950375  0.985018  0.000000  0.000000  1.000000   \n",
      "7   0.000000  0.000000  0.979542  0.000000  0.997484  0.992106  0.000000   \n",
      "8   0.000000  0.000000  0.000000  0.000000  0.973215  0.962139  0.000000   \n",
      "9   0.986087  0.962403  0.983273  0.000000  0.964281  0.972227  0.973889   \n",
      "10  0.979310  0.967123  0.991979  0.000000  0.984190  0.990922  0.000000   \n",
      "11  0.991615  0.985221  0.984069  0.000000  0.959784  0.964889  0.957878   \n",
      "12  0.976892  0.950730  0.991064  0.000000  0.983473  0.987356  0.955328   \n",
      "13  0.982959  0.979424  0.995337  0.000000  0.989820  0.985055  0.000000   \n",
      "\n",
      "          7         8         9         10        11        12        13  \n",
      "0   0.000000  0.000000  0.986087  0.979310  0.991615  0.976892  0.982959  \n",
      "1   0.000000  0.000000  0.962403  0.967123  0.985221  0.950730  0.979424  \n",
      "2   0.979542  0.000000  0.983273  0.991979  0.984069  0.991064  0.995337  \n",
      "3   0.000000  0.000000  0.000000  0.000000  0.000000  0.000000  0.000000  \n",
      "4   0.997484  0.973215  0.964281  0.984190  0.959784  0.983473  0.989820  \n",
      "5   0.992106  0.962139  0.972227  0.990922  0.964889  0.987356  0.985055  \n",
      "6   0.000000  0.000000  0.973889  0.000000  0.957878  0.955328  0.000000  \n",
      "7   1.000000  0.979150  0.000000  0.975997  0.000000  0.973228  0.982149  \n",
      "8   0.979150  1.000000  0.000000  0.000000  0.000000  0.000000  0.000000  \n",
      "9   0.000000  0.000000  1.000000  0.983378  0.982031  0.986093  0.975802  \n",
      "10  0.975997  0.000000  0.983378  1.000000  0.979791  0.989720  0.986496  \n",
      "11  0.000000  0.000000  0.982031  0.979791  1.000000  0.967426  0.979257  \n",
      "12  0.973228  0.000000  0.986093  0.989720  0.967426  1.000000  0.982041  \n",
      "13  0.982149  0.000000  0.975802  0.986496  0.979257  0.982041  1.000000  \n"
     ]
    }
   ],
   "source": [
    "import pandas as pd\n",
    "from sklearn.metrics.pairwise import cosine_similarity\n",
    "\n",
    "# Sample DataFrame\n",
    "# Replace this with your actual DataFrame\n",
    "data = {\n",
    "    'Column1': [1, 2, 3, 4],\n",
    "    'Column2': [5, 6, 7, 8],\n",
    "    'Column3': [9, 10, 11, 12],\n",
    "    # Add more columns as needed\n",
    "}\n",
    "\n",
    "df = pd.DataFrame(data)\n",
    "\n",
    "# Function to compute cosine similarity between columns\n",
    "def compute_cosine_similarity(df):\n",
    "    # Compute cosine similarity matrix\n",
    "    cosine_sim_matrix = cosine_similarity(df.T)  # Transpose to get columns as samples\n",
    "\n",
    "    # Create a DataFrame from the similarity matrix\n",
    "    adjacency_matrix = pd.DataFrame(cosine_sim_matrix, index=df.columns, columns=df.columns)\n",
    "\n",
    "    return adjacency_matrix\n",
    "\n",
    "# Call the function with your DataFrame\n",
    "adjacency_matrix = compute_cosine_similarity(normalized_df)\n",
    "adjacency_matrix[adjacency_matrix<=0.95] = 0\n",
    "# Display the adjacency matrix\n",
    "print(\"Adjacency Matrix:\")\n",
    "print(adjacency_matrix)\n"
   ]
  },
  {
   "cell_type": "code",
   "execution_count": 33,
   "metadata": {},
   "outputs": [
    {
     "data": {
      "text/html": [
       "<div>\n",
       "<style scoped>\n",
       "    .dataframe tbody tr th:only-of-type {\n",
       "        vertical-align: middle;\n",
       "    }\n",
       "\n",
       "    .dataframe tbody tr th {\n",
       "        vertical-align: top;\n",
       "    }\n",
       "\n",
       "    .dataframe thead th {\n",
       "        text-align: right;\n",
       "    }\n",
       "</style>\n",
       "<table border=\"1\" class=\"dataframe\">\n",
       "  <thead>\n",
       "    <tr style=\"text-align: right;\">\n",
       "      <th></th>\n",
       "      <th>0</th>\n",
       "      <th>1</th>\n",
       "      <th>2</th>\n",
       "      <th>3</th>\n",
       "      <th>4</th>\n",
       "      <th>5</th>\n",
       "      <th>6</th>\n",
       "      <th>7</th>\n",
       "      <th>8</th>\n",
       "      <th>9</th>\n",
       "      <th>10</th>\n",
       "      <th>11</th>\n",
       "      <th>12</th>\n",
       "      <th>13</th>\n",
       "    </tr>\n",
       "  </thead>\n",
       "  <tbody>\n",
       "    <tr>\n",
       "      <th>0</th>\n",
       "      <td>1.000000</td>\n",
       "      <td>0.968333</td>\n",
       "      <td>0.984782</td>\n",
       "      <td>0.927076</td>\n",
       "      <td>0.935475</td>\n",
       "      <td>0.927517</td>\n",
       "      <td>0.958933</td>\n",
       "      <td>0.896876</td>\n",
       "      <td>0.776604</td>\n",
       "      <td>0.972980</td>\n",
       "      <td>0.959487</td>\n",
       "      <td>0.984369</td>\n",
       "      <td>0.959365</td>\n",
       "      <td>0.972863</td>\n",
       "    </tr>\n",
       "    <tr>\n",
       "      <th>1</th>\n",
       "      <td>0.968333</td>\n",
       "      <td>1.000000</td>\n",
       "      <td>0.956449</td>\n",
       "      <td>0.831699</td>\n",
       "      <td>0.929011</td>\n",
       "      <td>0.906225</td>\n",
       "      <td>0.883122</td>\n",
       "      <td>0.900823</td>\n",
       "      <td>0.802875</td>\n",
       "      <td>0.926449</td>\n",
       "      <td>0.934672</td>\n",
       "      <td>0.971666</td>\n",
       "      <td>0.902590</td>\n",
       "      <td>0.966803</td>\n",
       "    </tr>\n",
       "    <tr>\n",
       "      <th>2</th>\n",
       "      <td>0.984782</td>\n",
       "      <td>0.956449</td>\n",
       "      <td>1.000000</td>\n",
       "      <td>0.881727</td>\n",
       "      <td>0.974996</td>\n",
       "      <td>0.969861</td>\n",
       "      <td>0.932045</td>\n",
       "      <td>0.951096</td>\n",
       "      <td>0.841182</td>\n",
       "      <td>0.977102</td>\n",
       "      <td>0.981801</td>\n",
       "      <td>0.980761</td>\n",
       "      <td>0.977839</td>\n",
       "      <td>0.988502</td>\n",
       "    </tr>\n",
       "    <tr>\n",
       "      <th>3</th>\n",
       "      <td>0.927076</td>\n",
       "      <td>0.831699</td>\n",
       "      <td>0.881727</td>\n",
       "      <td>1.000000</td>\n",
       "      <td>0.789110</td>\n",
       "      <td>0.792243</td>\n",
       "      <td>0.989065</td>\n",
       "      <td>0.722481</td>\n",
       "      <td>0.579904</td>\n",
       "      <td>0.919240</td>\n",
       "      <td>0.847150</td>\n",
       "      <td>0.882636</td>\n",
       "      <td>0.903470</td>\n",
       "      <td>0.844475</td>\n",
       "    </tr>\n",
       "    <tr>\n",
       "      <th>4</th>\n",
       "      <td>0.935475</td>\n",
       "      <td>0.929011</td>\n",
       "      <td>0.974996</td>\n",
       "      <td>0.789110</td>\n",
       "      <td>1.000000</td>\n",
       "      <td>0.987235</td>\n",
       "      <td>0.857516</td>\n",
       "      <td>0.992659</td>\n",
       "      <td>0.920040</td>\n",
       "      <td>0.952006</td>\n",
       "      <td>0.970073</td>\n",
       "      <td>0.944741</td>\n",
       "      <td>0.958897</td>\n",
       "      <td>0.976343</td>\n",
       "    </tr>\n",
       "    <tr>\n",
       "      <th>5</th>\n",
       "      <td>0.927517</td>\n",
       "      <td>0.906225</td>\n",
       "      <td>0.969861</td>\n",
       "      <td>0.792243</td>\n",
       "      <td>0.987235</td>\n",
       "      <td>1.000000</td>\n",
       "      <td>0.858064</td>\n",
       "      <td>0.980502</td>\n",
       "      <td>0.897503</td>\n",
       "      <td>0.958656</td>\n",
       "      <td>0.981182</td>\n",
       "      <td>0.944755</td>\n",
       "      <td>0.967632</td>\n",
       "      <td>0.961796</td>\n",
       "    </tr>\n",
       "    <tr>\n",
       "      <th>6</th>\n",
       "      <td>0.958933</td>\n",
       "      <td>0.883122</td>\n",
       "      <td>0.932045</td>\n",
       "      <td>0.989065</td>\n",
       "      <td>0.857516</td>\n",
       "      <td>0.858064</td>\n",
       "      <td>1.000000</td>\n",
       "      <td>0.801812</td>\n",
       "      <td>0.664532</td>\n",
       "      <td>0.957035</td>\n",
       "      <td>0.900830</td>\n",
       "      <td>0.927603</td>\n",
       "      <td>0.945888</td>\n",
       "      <td>0.904565</td>\n",
       "    </tr>\n",
       "    <tr>\n",
       "      <th>7</th>\n",
       "      <td>0.896876</td>\n",
       "      <td>0.900823</td>\n",
       "      <td>0.951096</td>\n",
       "      <td>0.722481</td>\n",
       "      <td>0.992659</td>\n",
       "      <td>0.980502</td>\n",
       "      <td>0.801812</td>\n",
       "      <td>1.000000</td>\n",
       "      <td>0.937546</td>\n",
       "      <td>0.918226</td>\n",
       "      <td>0.949334</td>\n",
       "      <td>0.914010</td>\n",
       "      <td>0.931215</td>\n",
       "      <td>0.955790</td>\n",
       "    </tr>\n",
       "    <tr>\n",
       "      <th>8</th>\n",
       "      <td>0.776604</td>\n",
       "      <td>0.802875</td>\n",
       "      <td>0.841182</td>\n",
       "      <td>0.579904</td>\n",
       "      <td>0.920040</td>\n",
       "      <td>0.897503</td>\n",
       "      <td>0.664532</td>\n",
       "      <td>0.937546</td>\n",
       "      <td>1.000000</td>\n",
       "      <td>0.818689</td>\n",
       "      <td>0.861152</td>\n",
       "      <td>0.777888</td>\n",
       "      <td>0.845221</td>\n",
       "      <td>0.858978</td>\n",
       "    </tr>\n",
       "    <tr>\n",
       "      <th>9</th>\n",
       "      <td>0.972980</td>\n",
       "      <td>0.926449</td>\n",
       "      <td>0.977102</td>\n",
       "      <td>0.919240</td>\n",
       "      <td>0.952006</td>\n",
       "      <td>0.958656</td>\n",
       "      <td>0.957035</td>\n",
       "      <td>0.918226</td>\n",
       "      <td>0.818689</td>\n",
       "      <td>1.000000</td>\n",
       "      <td>0.972316</td>\n",
       "      <td>0.965537</td>\n",
       "      <td>0.986048</td>\n",
       "      <td>0.962995</td>\n",
       "    </tr>\n",
       "    <tr>\n",
       "      <th>10</th>\n",
       "      <td>0.959487</td>\n",
       "      <td>0.934672</td>\n",
       "      <td>0.981801</td>\n",
       "      <td>0.847150</td>\n",
       "      <td>0.970073</td>\n",
       "      <td>0.981182</td>\n",
       "      <td>0.900830</td>\n",
       "      <td>0.949334</td>\n",
       "      <td>0.861152</td>\n",
       "      <td>0.972316</td>\n",
       "      <td>1.000000</td>\n",
       "      <td>0.966284</td>\n",
       "      <td>0.977028</td>\n",
       "      <td>0.969165</td>\n",
       "    </tr>\n",
       "    <tr>\n",
       "      <th>11</th>\n",
       "      <td>0.984369</td>\n",
       "      <td>0.971666</td>\n",
       "      <td>0.980761</td>\n",
       "      <td>0.882636</td>\n",
       "      <td>0.944741</td>\n",
       "      <td>0.944755</td>\n",
       "      <td>0.927603</td>\n",
       "      <td>0.914010</td>\n",
       "      <td>0.777888</td>\n",
       "      <td>0.965537</td>\n",
       "      <td>0.966284</td>\n",
       "      <td>1.000000</td>\n",
       "      <td>0.947079</td>\n",
       "      <td>0.972797</td>\n",
       "    </tr>\n",
       "    <tr>\n",
       "      <th>12</th>\n",
       "      <td>0.959365</td>\n",
       "      <td>0.902590</td>\n",
       "      <td>0.977839</td>\n",
       "      <td>0.903470</td>\n",
       "      <td>0.958897</td>\n",
       "      <td>0.967632</td>\n",
       "      <td>0.945888</td>\n",
       "      <td>0.931215</td>\n",
       "      <td>0.845221</td>\n",
       "      <td>0.986048</td>\n",
       "      <td>0.977028</td>\n",
       "      <td>0.947079</td>\n",
       "      <td>1.000000</td>\n",
       "      <td>0.954545</td>\n",
       "    </tr>\n",
       "    <tr>\n",
       "      <th>13</th>\n",
       "      <td>0.972863</td>\n",
       "      <td>0.966803</td>\n",
       "      <td>0.988502</td>\n",
       "      <td>0.844475</td>\n",
       "      <td>0.976343</td>\n",
       "      <td>0.961796</td>\n",
       "      <td>0.904565</td>\n",
       "      <td>0.955790</td>\n",
       "      <td>0.858978</td>\n",
       "      <td>0.962995</td>\n",
       "      <td>0.969165</td>\n",
       "      <td>0.972797</td>\n",
       "      <td>0.954545</td>\n",
       "      <td>1.000000</td>\n",
       "    </tr>\n",
       "  </tbody>\n",
       "</table>\n",
       "</div>"
      ],
      "text/plain": [
       "          0         1         2         3         4         5         6    \n",
       "0   1.000000  0.968333  0.984782  0.927076  0.935475  0.927517  0.958933  \\\n",
       "1   0.968333  1.000000  0.956449  0.831699  0.929011  0.906225  0.883122   \n",
       "2   0.984782  0.956449  1.000000  0.881727  0.974996  0.969861  0.932045   \n",
       "3   0.927076  0.831699  0.881727  1.000000  0.789110  0.792243  0.989065   \n",
       "4   0.935475  0.929011  0.974996  0.789110  1.000000  0.987235  0.857516   \n",
       "5   0.927517  0.906225  0.969861  0.792243  0.987235  1.000000  0.858064   \n",
       "6   0.958933  0.883122  0.932045  0.989065  0.857516  0.858064  1.000000   \n",
       "7   0.896876  0.900823  0.951096  0.722481  0.992659  0.980502  0.801812   \n",
       "8   0.776604  0.802875  0.841182  0.579904  0.920040  0.897503  0.664532   \n",
       "9   0.972980  0.926449  0.977102  0.919240  0.952006  0.958656  0.957035   \n",
       "10  0.959487  0.934672  0.981801  0.847150  0.970073  0.981182  0.900830   \n",
       "11  0.984369  0.971666  0.980761  0.882636  0.944741  0.944755  0.927603   \n",
       "12  0.959365  0.902590  0.977839  0.903470  0.958897  0.967632  0.945888   \n",
       "13  0.972863  0.966803  0.988502  0.844475  0.976343  0.961796  0.904565   \n",
       "\n",
       "          7         8         9         10        11        12        13  \n",
       "0   0.896876  0.776604  0.972980  0.959487  0.984369  0.959365  0.972863  \n",
       "1   0.900823  0.802875  0.926449  0.934672  0.971666  0.902590  0.966803  \n",
       "2   0.951096  0.841182  0.977102  0.981801  0.980761  0.977839  0.988502  \n",
       "3   0.722481  0.579904  0.919240  0.847150  0.882636  0.903470  0.844475  \n",
       "4   0.992659  0.920040  0.952006  0.970073  0.944741  0.958897  0.976343  \n",
       "5   0.980502  0.897503  0.958656  0.981182  0.944755  0.967632  0.961796  \n",
       "6   0.801812  0.664532  0.957035  0.900830  0.927603  0.945888  0.904565  \n",
       "7   1.000000  0.937546  0.918226  0.949334  0.914010  0.931215  0.955790  \n",
       "8   0.937546  1.000000  0.818689  0.861152  0.777888  0.845221  0.858978  \n",
       "9   0.918226  0.818689  1.000000  0.972316  0.965537  0.986048  0.962995  \n",
       "10  0.949334  0.861152  0.972316  1.000000  0.966284  0.977028  0.969165  \n",
       "11  0.914010  0.777888  0.965537  0.966284  1.000000  0.947079  0.972797  \n",
       "12  0.931215  0.845221  0.986048  0.977028  0.947079  1.000000  0.954545  \n",
       "13  0.955790  0.858978  0.962995  0.969165  0.972797  0.954545  1.000000  "
      ]
     },
     "execution_count": 33,
     "metadata": {},
     "output_type": "execute_result"
    }
   ],
   "source": [
    "# Function to compute correlation matrix\n",
    "def compute_correlation_matrix(df):\n",
    "    # Compute correlation matrix\n",
    "    correlation_matrix = df.corr().abs()\n",
    "\n",
    "    return correlation_matrix\n",
    "\n",
    "# Call the function with your DataFrame\n",
    "correlation_matrix = compute_correlation_matrix(normalized_df)\n",
    "# correlation_matrix[correlation_matrix<=0.25] = 0\n",
    "correlation_matrix"
   ]
  },
  {
   "cell_type": "code",
   "execution_count": 34,
   "metadata": {},
   "outputs": [
    {
     "data": {
      "text/plain": [
       "tensor(100.)"
      ]
     },
     "execution_count": 34,
     "metadata": {},
     "output_type": "execute_result"
    }
   ],
   "source": [
    "x = torch.tensor(normalized_df.values, dtype=torch.float32).T\n",
    "A = adjacency_matrix\n",
    "G = sp.coo_matrix(A)\n",
    "edge_index = torch.tensor(np.array([G.row, G.col]), dtype=torch.int64)\n",
    "edge_weight = torch.tensor(G.data).float()\n",
    "torch.max(x)"
   ]
  },
  {
   "cell_type": "markdown",
   "metadata": {},
   "source": [
    "# Multi-CPU/GPU Training"
   ]
  },
  {
   "cell_type": "code",
   "execution_count": 16,
   "metadata": {},
   "outputs": [
    {
     "name": "stdout",
     "output_type": "stream",
     "text": [
      "CUDA is not available. Make sure you have installed the correct GPU version of PyTorch.\n"
     ]
    }
   ],
   "source": [
    "import torch\n",
    "\n",
    "if torch.cuda.is_available():\n",
    "    num_gpus = torch.cuda.device_count()\n",
    "    print(\"Number of available GPUs:\", num_gpus)\n",
    "else:\n",
    "    print(\"CUDA is not available. Make sure you have installed the correct GPU version of PyTorch.\")\n",
    "\n",
    "\n",
    "dgl_graph.create_formats_()"
   ]
  },
  {
   "cell_type": "code",
   "execution_count": 17,
   "metadata": {},
   "outputs": [
    {
     "name": "stdout",
     "output_type": "stream",
     "text": [
      "4 DL workers are assigned to cpus [0, 4, 8, 12], main process will use cpus [16, 20, 24, 28, 32, 36, 2, 6, 10, 14, 18, 22, 26, 30, 34, 38]4 DL workers are assigned to cpus [0, 4, 8, 12], main process will use cpus [16, 20, 24, 28, 32, 36, 2, 6, 10, 14, 18, 22, 26, 30, 34, 38]4 DL workers are assigned to cpus [0, 4, 8, 12], main process will use cpus [16, 20, 24, 28, 32, 36, 2, 6, 10, 14, 18, 22, 26, 30, 34, 38]4 DL workers are assigned to cpus [0, 4, 8, 12], main process will use cpus [16, 20, 24, 28, 32, 36, 2, 6, 10, 14, 18, 22, 26, 30, 34, 38]\n",
      "\n",
      "\n",
      "\n"
     ]
    },
    {
     "name": "stderr",
     "output_type": "stream",
     "text": [
      "  0%|          | 0/40 [00:00<?, ?it/s]"
     ]
    },
    {
     "name": "stdout",
     "output_type": "stream",
     "text": [
      "Training time: 1.5332882404327393 seconds\n"
     ]
    }
   ],
   "source": [
    "import time\n",
    "import multiprocessing as mp\n",
    "from st_DynGNN_CPU_Train import run\n",
    "\n",
    "def main():\n",
    "    num_cpus = 4  # Specify the number of CPU cores you want to use\n",
    "    # mp.set_start_method('spawn')  # Use 'spawn' method to start processes\n",
    "    # mp.set_start_method('spawn')\n",
    "\n",
    "    processes = []\n",
    "    for i in range(num_cpus):\n",
    "        p = mp.Process(target=run, args=(i, list(range(num_cpus)), dgl_graph))\n",
    "        p.start()\n",
    "        processes.append(p)\n",
    "\n",
    "    for p in processes:\n",
    "        p.join()\n",
    "\n",
    "if __name__ == '__main__':\n",
    "    start_time = time.time()\n",
    "    main()\n",
    "    end_time = time.time()\n",
    "    elapsed_time = end_time - start_time\n",
    "    print(f\"Training time: {elapsed_time} seconds\")\n"
   ]
  },
  {
   "cell_type": "code",
   "execution_count": 19,
   "metadata": {},
   "outputs": [
    {
     "name": "stderr",
     "output_type": "stream",
     "text": [
      "/home/rxf131/ondemand/ubuntu2204/python310/torch_geometric/typing.py:47: UserWarning: An issue occurred while importing 'pyg-lib'. Disabling its usage. Stacktrace: libcudart.so.12: cannot open shared object file: No such file or directory\n",
      "  warnings.warn(f\"An issue occurred while importing 'pyg-lib'. \"\n",
      "/home/rxf131/ondemand/ubuntu2204/python310/torch_geometric/typing.py:47: UserWarning: An issue occurred while importing 'pyg-lib'. Disabling its usage. Stacktrace: libcudart.so.12: cannot open shared object file: No such file or directory\n",
      "  warnings.warn(f\"An issue occurred while importing 'pyg-lib'. \"\n",
      "/home/rxf131/ondemand/ubuntu2204/python310/torch_geometric/typing.py:47: UserWarning: An issue occurred while importing 'pyg-lib'. Disabling its usage. Stacktrace: libcudart.so.12: cannot open shared object file: No such file or directory\n",
      "  warnings.warn(f\"An issue occurred while importing 'pyg-lib'. \"\n",
      "/home/rxf131/ondemand/ubuntu2204/python310/torch_geometric/typing.py:47: UserWarning: An issue occurred while importing 'pyg-lib'. Disabling its usage. Stacktrace: libcudart.so.12: cannot open shared object file: No such file or directory\n",
      "  warnings.warn(f\"An issue occurred while importing 'pyg-lib'. \"\n",
      "/home/rxf131/ondemand/ubuntu2204/python310/torch_geometric/typing.py:101: UserWarning: An issue occurred while importing 'torch-sparse'. Disabling its usage. Stacktrace: libcudart.so.12: cannot open shared object file: No such file or directory\n",
      "  warnings.warn(f\"An issue occurred while importing 'torch-sparse'. \"\n",
      "/home/rxf131/ondemand/ubuntu2204/python310/torch_geometric/typing.py:101: UserWarning: An issue occurred while importing 'torch-sparse'. Disabling its usage. Stacktrace: libcudart.so.12: cannot open shared object file: No such file or directory\n",
      "  warnings.warn(f\"An issue occurred while importing 'torch-sparse'. \"\n",
      "/home/rxf131/ondemand/ubuntu2204/python310/torch_geometric/typing.py:101: UserWarning: An issue occurred while importing 'torch-sparse'. Disabling its usage. Stacktrace: libcudart.so.12: cannot open shared object file: No such file or directory\n",
      "  warnings.warn(f\"An issue occurred while importing 'torch-sparse'. \"\n",
      "/home/rxf131/ondemand/ubuntu2204/python310/torch_geometric/typing.py:101: UserWarning: An issue occurred while importing 'torch-sparse'. Disabling its usage. Stacktrace: libcudart.so.12: cannot open shared object file: No such file or directory\n",
      "  warnings.warn(f\"An issue occurred while importing 'torch-sparse'. \"\n"
     ]
    },
    {
     "name": "stdout",
     "output_type": "stream",
     "text": [
      "4 DL workers are assigned to cpus [0, 4, 8, 12], main process will use cpus [16, 20, 24, 28, 32, 36, 2, 6, 10, 14, 18, 22, 26, 30, 34, 38]4 DL workers are assigned to cpus [0, 4, 8, 12], main process will use cpus [16, 20, 24, 28, 32, 36, 2, 6, 10, 14, 18, 22, 26, 30, 34, 38]\n",
      "\n",
      "4 DL workers are assigned to cpus [0, 4, 8, 12], main process will use cpus [16, 20, 24, 28, 32, 36, 2, 6, 10, 14, 18, 22, 26, 30, 34, 38]\n",
      "4 DL workers are assigned to cpus [0, 4, 8, 12], main process will use cpus [16, 20, 24, 28, 32, 36, 2, 6, 10, 14, 18, 22, 26, 30, 34, 38]\n"
     ]
    },
    {
     "name": "stderr",
     "output_type": "stream",
     "text": [
      "  0%|          | 0/40 [00:00<?, ?it/s]\n",
      "\n",
      "  0%|          | 0/40 [00:00<?, ?it/s]\n",
      "  0%|          | 0/40 [00:00<?, ?it/s]\n"
     ]
    },
    {
     "ename": "ProcessRaisedException",
     "evalue": "\n\n-- Process 1 terminated with the following error:\nTraceback (most recent call last):\n  File \"/home/rxf131/ondemand/ubuntu2204/python310/torch/multiprocessing/spawn.py\", line 74, in _wrap\n    fn(i, *args)\n  File \"/mnt/vstor/CSE_MSE_RXF131/cradle-members/sdle/yxf451/Git/21-pv-stgnn-bkp/topics/STGCN_DAE/st_DynGNN_CPU_Train.py\", line 128, in run\n    for step, (input_nodes, output_nodes, mfgs) in enumerate(tq):\n  File \"/home/rxf131/ondemand/ubuntu2204/python310/tqdm/std.py\", line 1182, in __iter__\n    for obj in iterable:\n  File \"/home/rxf131/ondemand/ubuntu2204/python310/dgl/dataloading/dataloader.py\", line 1160, in __iter__\n    self, super().__iter__(), num_threads=num_threads\n  File \"/home/rxf131/ondemand/ubuntu2204/python310/torch/utils/data/dataloader.py\", line 438, in __iter__\n    return self._get_iterator()\n  File \"/home/rxf131/ondemand/ubuntu2204/python310/torch/utils/data/dataloader.py\", line 386, in _get_iterator\n    return _MultiProcessingDataLoaderIter(self)\n  File \"/home/rxf131/ondemand/ubuntu2204/python310/torch/utils/data/dataloader.py\", line 1039, in __init__\n    w.start()\n  File \"/usr/lib/python3.10/multiprocessing/process.py\", line 121, in start\n    self._popen = self._Popen(self)\n  File \"/usr/lib/python3.10/multiprocessing/context.py\", line 224, in _Popen\n    return _default_context.get_context().Process._Popen(process_obj)\n  File \"/usr/lib/python3.10/multiprocessing/context.py\", line 288, in _Popen\n    return Popen(process_obj)\n  File \"/usr/lib/python3.10/multiprocessing/popen_spawn_posix.py\", line 32, in __init__\n    super().__init__(process_obj)\n  File \"/usr/lib/python3.10/multiprocessing/popen_fork.py\", line 19, in __init__\n    self._launch(process_obj)\n  File \"/usr/lib/python3.10/multiprocessing/popen_spawn_posix.py\", line 47, in _launch\n    reduction.dump(process_obj, fp)\n  File \"/usr/lib/python3.10/multiprocessing/reduction.py\", line 60, in dump\n    ForkingPickler(file, protocol).dump(obj)\nAttributeError: Can't pickle local object 'DataLoader.enable_cpu_affinity.<locals>.init_fn'\n",
     "output_type": "error",
     "traceback": [
      "\u001b[0;31m---------------------------------------------------------------------------\u001b[0m",
      "\u001b[0;31mProcessRaisedException\u001b[0m                    Traceback (most recent call last)",
      "\u001b[1;32m/home/yxf451/CSE_MSE_RXF131/cradle-members/sdle/yxf451/Git/21-pv-stgnn-bkp/topics/STGCN_DAE/mini_batch_st_DynGNN.ipynb Cell 53\u001b[0m line \u001b[0;36m1\n\u001b[1;32m      <a href='vscode-notebook-cell://ondemand-pioneer.case.edu/home/yxf451/CSE_MSE_RXF131/cradle-members/sdle/yxf451/Git/21-pv-stgnn-bkp/topics/STGCN_DAE/mini_batch_st_DynGNN.ipynb#Y103sdnNjb2RlLXJlbW90ZQ%3D%3D?line=8'>9</a>\u001b[0m     mp\u001b[39m.\u001b[39mset_start_method(\u001b[39m'\u001b[39m\u001b[39mspawn\u001b[39m\u001b[39m'\u001b[39m, force\u001b[39m=\u001b[39m\u001b[39mTrue\u001b[39;00m)\n\u001b[1;32m     <a href='vscode-notebook-cell://ondemand-pioneer.case.edu/home/yxf451/CSE_MSE_RXF131/cradle-members/sdle/yxf451/Git/21-pv-stgnn-bkp/topics/STGCN_DAE/mini_batch_st_DynGNN.ipynb#Y103sdnNjb2RlLXJlbW90ZQ%3D%3D?line=9'>10</a>\u001b[0m     num_cpus \u001b[39m=\u001b[39m \u001b[39m4\u001b[39m  \u001b[39m# Specify the number of CPU cores you want to use\u001b[39;00m\n\u001b[0;32m---> <a href='vscode-notebook-cell://ondemand-pioneer.case.edu/home/yxf451/CSE_MSE_RXF131/cradle-members/sdle/yxf451/Git/21-pv-stgnn-bkp/topics/STGCN_DAE/mini_batch_st_DynGNN.ipynb#Y103sdnNjb2RlLXJlbW90ZQ%3D%3D?line=10'>11</a>\u001b[0m     mp\u001b[39m.\u001b[39;49mspawn(run, args\u001b[39m=\u001b[39;49m(\u001b[39mlist\u001b[39;49m(\u001b[39mrange\u001b[39;49m(num_cpus)), dgl_graph), nprocs\u001b[39m=\u001b[39;49mnum_cpus)\n\u001b[1;32m     <a href='vscode-notebook-cell://ondemand-pioneer.case.edu/home/yxf451/CSE_MSE_RXF131/cradle-members/sdle/yxf451/Git/21-pv-stgnn-bkp/topics/STGCN_DAE/mini_batch_st_DynGNN.ipynb#Y103sdnNjb2RlLXJlbW90ZQ%3D%3D?line=12'>13</a>\u001b[0m end_time \u001b[39m=\u001b[39m time\u001b[39m.\u001b[39mtime()\n\u001b[1;32m     <a href='vscode-notebook-cell://ondemand-pioneer.case.edu/home/yxf451/CSE_MSE_RXF131/cradle-members/sdle/yxf451/Git/21-pv-stgnn-bkp/topics/STGCN_DAE/mini_batch_st_DynGNN.ipynb#Y103sdnNjb2RlLXJlbW90ZQ%3D%3D?line=13'>14</a>\u001b[0m elapsed_time \u001b[39m=\u001b[39m end_time \u001b[39m-\u001b[39m start_time\n",
      "File \u001b[0;32m/home/rxf131/ondemand/ubuntu2204/python310/torch/multiprocessing/spawn.py:246\u001b[0m, in \u001b[0;36mspawn\u001b[0;34m(fn, args, nprocs, join, daemon, start_method)\u001b[0m\n\u001b[1;32m    240\u001b[0m     msg \u001b[39m=\u001b[39m (\n\u001b[1;32m    241\u001b[0m         \u001b[39m\"\u001b[39m\u001b[39mThis method only supports start_method=spawn (got: \u001b[39m\u001b[39m%s\u001b[39;00m\u001b[39m).\u001b[39m\u001b[39m\\n\u001b[39;00m\u001b[39m\"\u001b[39m\n\u001b[1;32m    242\u001b[0m         \u001b[39m\"\u001b[39m\u001b[39mTo use a different start_method use:\u001b[39m\u001b[39m\\n\u001b[39;00m\u001b[39m\\t\u001b[39;00m\u001b[39m\\t\u001b[39;00m\u001b[39m\"\u001b[39m\n\u001b[1;32m    243\u001b[0m         \u001b[39m\"\u001b[39m\u001b[39m torch.multiprocessing.start_processes(...)\u001b[39m\u001b[39m\"\u001b[39m \u001b[39m%\u001b[39m start_method\n\u001b[1;32m    244\u001b[0m     )\n\u001b[1;32m    245\u001b[0m     warnings\u001b[39m.\u001b[39mwarn(msg)\n\u001b[0;32m--> 246\u001b[0m \u001b[39mreturn\u001b[39;00m start_processes(fn, args, nprocs, join, daemon, start_method\u001b[39m=\u001b[39;49m\u001b[39m\"\u001b[39;49m\u001b[39mspawn\u001b[39;49m\u001b[39m\"\u001b[39;49m)\n",
      "File \u001b[0;32m/home/rxf131/ondemand/ubuntu2204/python310/torch/multiprocessing/spawn.py:202\u001b[0m, in \u001b[0;36mstart_processes\u001b[0;34m(fn, args, nprocs, join, daemon, start_method)\u001b[0m\n\u001b[1;32m    199\u001b[0m     \u001b[39mreturn\u001b[39;00m context\n\u001b[1;32m    201\u001b[0m \u001b[39m# Loop on join until it returns True or raises an exception.\u001b[39;00m\n\u001b[0;32m--> 202\u001b[0m \u001b[39mwhile\u001b[39;00m \u001b[39mnot\u001b[39;00m context\u001b[39m.\u001b[39;49mjoin():\n\u001b[1;32m    203\u001b[0m     \u001b[39mpass\u001b[39;00m\n",
      "File \u001b[0;32m/home/rxf131/ondemand/ubuntu2204/python310/torch/multiprocessing/spawn.py:163\u001b[0m, in \u001b[0;36mProcessContext.join\u001b[0;34m(self, timeout)\u001b[0m\n\u001b[1;32m    161\u001b[0m msg \u001b[39m=\u001b[39m \u001b[39m\"\u001b[39m\u001b[39m\\n\u001b[39;00m\u001b[39m\\n\u001b[39;00m\u001b[39m-- Process \u001b[39m\u001b[39m%d\u001b[39;00m\u001b[39m terminated with the following error:\u001b[39m\u001b[39m\\n\u001b[39;00m\u001b[39m\"\u001b[39m \u001b[39m%\u001b[39m error_index\n\u001b[1;32m    162\u001b[0m msg \u001b[39m+\u001b[39m\u001b[39m=\u001b[39m original_trace\n\u001b[0;32m--> 163\u001b[0m \u001b[39mraise\u001b[39;00m ProcessRaisedException(msg, error_index, failed_process\u001b[39m.\u001b[39mpid)\n",
      "\u001b[0;31mProcessRaisedException\u001b[0m: \n\n-- Process 1 terminated with the following error:\nTraceback (most recent call last):\n  File \"/home/rxf131/ondemand/ubuntu2204/python310/torch/multiprocessing/spawn.py\", line 74, in _wrap\n    fn(i, *args)\n  File \"/mnt/vstor/CSE_MSE_RXF131/cradle-members/sdle/yxf451/Git/21-pv-stgnn-bkp/topics/STGCN_DAE/st_DynGNN_CPU_Train.py\", line 128, in run\n    for step, (input_nodes, output_nodes, mfgs) in enumerate(tq):\n  File \"/home/rxf131/ondemand/ubuntu2204/python310/tqdm/std.py\", line 1182, in __iter__\n    for obj in iterable:\n  File \"/home/rxf131/ondemand/ubuntu2204/python310/dgl/dataloading/dataloader.py\", line 1160, in __iter__\n    self, super().__iter__(), num_threads=num_threads\n  File \"/home/rxf131/ondemand/ubuntu2204/python310/torch/utils/data/dataloader.py\", line 438, in __iter__\n    return self._get_iterator()\n  File \"/home/rxf131/ondemand/ubuntu2204/python310/torch/utils/data/dataloader.py\", line 386, in _get_iterator\n    return _MultiProcessingDataLoaderIter(self)\n  File \"/home/rxf131/ondemand/ubuntu2204/python310/torch/utils/data/dataloader.py\", line 1039, in __init__\n    w.start()\n  File \"/usr/lib/python3.10/multiprocessing/process.py\", line 121, in start\n    self._popen = self._Popen(self)\n  File \"/usr/lib/python3.10/multiprocessing/context.py\", line 224, in _Popen\n    return _default_context.get_context().Process._Popen(process_obj)\n  File \"/usr/lib/python3.10/multiprocessing/context.py\", line 288, in _Popen\n    return Popen(process_obj)\n  File \"/usr/lib/python3.10/multiprocessing/popen_spawn_posix.py\", line 32, in __init__\n    super().__init__(process_obj)\n  File \"/usr/lib/python3.10/multiprocessing/popen_fork.py\", line 19, in __init__\n    self._launch(process_obj)\n  File \"/usr/lib/python3.10/multiprocessing/popen_spawn_posix.py\", line 47, in _launch\n    reduction.dump(process_obj, fp)\n  File \"/usr/lib/python3.10/multiprocessing/reduction.py\", line 60, in dump\n    ForkingPickler(file, protocol).dump(obj)\nAttributeError: Can't pickle local object 'DataLoader.enable_cpu_affinity.<locals>.init_fn'\n"
     ]
    }
   ],
   "source": [
    "import time\n",
    "from st_DynGNN_CPU_Train import run\n",
    "import torch.multiprocessing as mp\n",
    "\n",
    "\n",
    "start_time = time.time()\n",
    "\n",
    "if __name__ == '__main__':\n",
    "    mp.set_start_method('spawn', force=True)\n",
    "    num_cpus = 4  # Specify the number of CPU cores you want to use\n",
    "    mp.spawn(run, args=(list(range(num_cpus)), dgl_graph), nprocs=num_cpus)\n",
    "\n",
    "end_time = time.time()\n",
    "elapsed_time = end_time - start_time\n",
    "\n",
    "print(f\"Training time: {elapsed_time} seconds\")"
   ]
  },
  {
   "cell_type": "code",
   "execution_count": 17,
   "metadata": {},
   "outputs": [
    {
     "name": "stderr",
     "output_type": "stream",
     "text": [
      "/home/rxf131/ondemand/ubuntu2204/python310/torch_geometric/typing.py:47: UserWarning: An issue occurred while importing 'pyg-lib'. Disabling its usage. Stacktrace: libcudart.so.12: cannot open shared object file: No such file or directory\n",
      "  warnings.warn(f\"An issue occurred while importing 'pyg-lib'. \"\n",
      "/home/rxf131/ondemand/ubuntu2204/python310/torch_geometric/typing.py:47: UserWarning: An issue occurred while importing 'pyg-lib'. Disabling its usage. Stacktrace: libcudart.so.12: cannot open shared object file: No such file or directory\n",
      "  warnings.warn(f\"An issue occurred while importing 'pyg-lib'. \"\n",
      "/home/rxf131/ondemand/ubuntu2204/python310/torch_geometric/typing.py:101: UserWarning: An issue occurred while importing 'torch-sparse'. Disabling its usage. Stacktrace: libcudart.so.12: cannot open shared object file: No such file or directory\n",
      "  warnings.warn(f\"An issue occurred while importing 'torch-sparse'. \"\n",
      "/home/rxf131/ondemand/ubuntu2204/python310/torch_geometric/typing.py:101: UserWarning: An issue occurred while importing 'torch-sparse'. Disabling its usage. Stacktrace: libcudart.so.12: cannot open shared object file: No such file or directory\n",
      "  warnings.warn(f\"An issue occurred while importing 'torch-sparse'. \"\n",
      "100%|██████████| 20/20 [00:08<00:00,  2.29it/s]\n",
      "100%|██████████| 20/20 [00:08<00:00,  2.29it/s]\n",
      " 15%|█▌        | 3/20 [00:00<00:00, 29.14it/s]"
     ]
    },
    {
     "name": "stdout",
     "output_type": "stream",
     "text": [
      "Epoch 1, Loss: 12454606.4359375\n",
      "Epoch 1, Loss: 12322472.446875\n"
     ]
    },
    {
     "name": "stderr",
     "output_type": "stream",
     "text": [
      "100%|██████████| 20/20 [00:00<00:00, 37.96it/s]\n",
      "100%|██████████| 20/20 [00:00<00:00, 37.85it/s]\n",
      "  0%|          | 0/20 [00:00<?, ?it/s]"
     ]
    },
    {
     "name": "stdout",
     "output_type": "stream",
     "text": [
      "Epoch 2, Loss: 794078.478125\n",
      "Epoch 2, Loss: 792252.7796875\n"
     ]
    },
    {
     "name": "stderr",
     "output_type": "stream",
     "text": [
      "100%|██████████| 20/20 [00:00<00:00, 39.40it/s]\n",
      "100%|██████████| 20/20 [00:00<00:00, 39.41it/s]\n",
      "  0%|          | 0/20 [00:00<?, ?it/s]"
     ]
    },
    {
     "name": "stdout",
     "output_type": "stream",
     "text": [
      "Epoch 3, Loss: 93830.3125\n",
      "Epoch 3, Loss: 94454.42880859374\n"
     ]
    },
    {
     "name": "stderr",
     "output_type": "stream",
     "text": [
      "100%|██████████| 20/20 [00:00<00:00, 36.97it/s]\n",
      "100%|██████████| 20/20 [00:00<00:00, 36.85it/s]\n",
      " 20%|██        | 4/20 [00:00<00:00, 32.63it/s]"
     ]
    },
    {
     "name": "stdout",
     "output_type": "stream",
     "text": [
      "Epoch 4, Loss: 23317.600146484376\n",
      "Epoch 4, Loss: 23560.40390625\n"
     ]
    },
    {
     "name": "stderr",
     "output_type": "stream",
     "text": [
      "100%|██████████| 20/20 [00:00<00:00, 37.62it/s]\n",
      "100%|██████████| 20/20 [00:00<00:00, 37.60it/s]\n",
      "  0%|          | 0/20 [00:00<?, ?it/s]"
     ]
    },
    {
     "name": "stdout",
     "output_type": "stream",
     "text": [
      "Epoch 5, Loss: 10311.641381835938\n",
      "Epoch 5, Loss: 10091.044458007813\n"
     ]
    },
    {
     "name": "stderr",
     "output_type": "stream",
     "text": [
      "100%|██████████| 20/20 [00:00<00:00, 38.63it/s]\n",
      "100%|██████████| 20/20 [00:00<00:00, 38.63it/s]\n",
      "  0%|          | 0/20 [00:00<?, ?it/s]"
     ]
    },
    {
     "name": "stdout",
     "output_type": "stream",
     "text": [
      "Epoch 6, Loss: 6316.330297851562\n",
      "Epoch 6, Loss: 6180.880725097656\n"
     ]
    },
    {
     "name": "stderr",
     "output_type": "stream",
     "text": [
      "100%|██████████| 20/20 [00:00<00:00, 38.99it/s]\n",
      "100%|██████████| 20/20 [00:00<00:00, 38.90it/s]\n",
      "  0%|          | 0/20 [00:00<?, ?it/s]"
     ]
    },
    {
     "name": "stdout",
     "output_type": "stream",
     "text": [
      "Epoch 7, Loss: 4353.950451660156\n",
      "Epoch 7, Loss: 4272.305029296875\n"
     ]
    },
    {
     "name": "stderr",
     "output_type": "stream",
     "text": [
      "100%|██████████| 20/20 [00:00<00:00, 38.00it/s]\n",
      "100%|██████████| 20/20 [00:00<00:00, 37.99it/s]\n",
      "  0%|          | 0/20 [00:00<?, ?it/s]"
     ]
    },
    {
     "name": "stdout",
     "output_type": "stream",
     "text": [
      "Epoch 8, Loss: 3069.7669006347655\n",
      "Epoch 8, Loss: 3058.1173583984373\n"
     ]
    },
    {
     "name": "stderr",
     "output_type": "stream",
     "text": [
      "100%|██████████| 20/20 [00:00<00:00, 38.06it/s]\n",
      "100%|██████████| 20/20 [00:00<00:00, 38.07it/s]\n",
      "  0%|          | 0/20 [00:00<?, ?it/s]"
     ]
    },
    {
     "name": "stdout",
     "output_type": "stream",
     "text": [
      "Epoch 9, Loss: 2278.386749267578\n",
      "Epoch 9, Loss: 2322.9651733398437\n"
     ]
    },
    {
     "name": "stderr",
     "output_type": "stream",
     "text": [
      "100%|██████████| 20/20 [00:00<00:00, 39.13it/s]\n",
      "100%|██████████| 20/20 [00:00<00:00, 39.06it/s]\n",
      "  0%|          | 0/20 [00:00<?, ?it/s]"
     ]
    },
    {
     "name": "stdout",
     "output_type": "stream",
     "text": [
      "Epoch 10, Loss: 1703.128469848633\n",
      "Epoch 10, Loss: 1748.413348388672\n"
     ]
    },
    {
     "name": "stderr",
     "output_type": "stream",
     "text": [
      "100%|██████████| 20/20 [00:00<00:00, 37.11it/s]\n",
      "100%|██████████| 20/20 [00:00<00:00, 37.12it/s]\n",
      " 20%|██        | 4/20 [00:00<00:00, 31.25it/s]"
     ]
    },
    {
     "name": "stdout",
     "output_type": "stream",
     "text": [
      "Epoch 11, Loss: 1309.9024505615234\n",
      "Epoch 11, Loss: 1317.0214538574219\n"
     ]
    },
    {
     "name": "stderr",
     "output_type": "stream",
     "text": [
      "100%|██████████| 20/20 [00:00<00:00, 35.72it/s]\n",
      "100%|██████████| 20/20 [00:00<00:00, 35.63it/s]\n",
      "  0%|          | 0/20 [00:00<?, ?it/s]"
     ]
    },
    {
     "name": "stdout",
     "output_type": "stream",
     "text": [
      "Epoch 12, Loss: 1031.6058441162108\n",
      "Epoch 12, Loss: 994.7627899169922\n"
     ]
    },
    {
     "name": "stderr",
     "output_type": "stream",
     "text": [
      "100%|██████████| 20/20 [00:00<00:00, 37.50it/s]\n",
      "100%|██████████| 20/20 [00:00<00:00, 37.38it/s]\n",
      " 20%|██        | 4/20 [00:00<00:00, 33.22it/s]"
     ]
    },
    {
     "name": "stdout",
     "output_type": "stream",
     "text": [
      "Epoch 13, Loss: 844.5405288696289\n",
      "Epoch 13, Loss: 853.1904296875\n"
     ]
    },
    {
     "name": "stderr",
     "output_type": "stream",
     "text": [
      "100%|██████████| 20/20 [00:00<00:00, 37.37it/s]\n",
      "100%|██████████| 20/20 [00:00<00:00, 37.37it/s]\n",
      "  0%|          | 0/20 [00:00<?, ?it/s]"
     ]
    },
    {
     "name": "stdout",
     "output_type": "stream",
     "text": [
      "Epoch 14, Loss: 648.7681701660156\n",
      "Epoch 14, Loss: 640.9016693115234\n"
     ]
    },
    {
     "name": "stderr",
     "output_type": "stream",
     "text": [
      "100%|██████████| 20/20 [00:00<00:00, 39.53it/s]\n",
      "100%|██████████| 20/20 [00:00<00:00, 39.55it/s]\n",
      "  0%|          | 0/20 [00:00<?, ?it/s]"
     ]
    },
    {
     "name": "stdout",
     "output_type": "stream",
     "text": [
      "Epoch 15, Loss: 534.1819305419922\n",
      "Epoch 15, Loss: 533.7473159790039\n"
     ]
    },
    {
     "name": "stderr",
     "output_type": "stream",
     "text": [
      "100%|██████████| 20/20 [00:00<00:00, 40.47it/s]\n",
      "100%|██████████| 20/20 [00:00<00:00, 40.39it/s]\n",
      "  0%|          | 0/20 [00:00<?, ?it/s]"
     ]
    },
    {
     "name": "stdout",
     "output_type": "stream",
     "text": [
      "Epoch 16, Loss: 469.31610412597655\n",
      "Epoch 16, Loss: 469.9090072631836\n"
     ]
    },
    {
     "name": "stderr",
     "output_type": "stream",
     "text": [
      "100%|██████████| 20/20 [00:00<00:00, 39.71it/s]\n",
      "100%|██████████| 20/20 [00:00<00:00, 39.72it/s]\n",
      "  0%|          | 0/20 [00:00<?, ?it/s]"
     ]
    },
    {
     "name": "stdout",
     "output_type": "stream",
     "text": [
      "Epoch 17, Loss: 414.5026550292969\n",
      "Epoch 17, Loss: 412.31184844970704\n"
     ]
    },
    {
     "name": "stderr",
     "output_type": "stream",
     "text": [
      "100%|██████████| 20/20 [00:00<00:00, 38.92it/s]\n",
      "100%|██████████| 20/20 [00:00<00:00, 38.86it/s]\n",
      "  0%|          | 0/20 [00:00<?, ?it/s]"
     ]
    },
    {
     "name": "stdout",
     "output_type": "stream",
     "text": [
      "Epoch 18, Loss: 373.8082305908203\n",
      "Epoch 18, Loss: 372.2034851074219\n"
     ]
    },
    {
     "name": "stderr",
     "output_type": "stream",
     "text": [
      "100%|██████████| 20/20 [00:00<00:00, 39.59it/s]\n",
      "100%|██████████| 20/20 [00:00<00:00, 39.54it/s]\n",
      "  0%|          | 0/20 [00:00<?, ?it/s]"
     ]
    },
    {
     "name": "stdout",
     "output_type": "stream",
     "text": [
      "Epoch 19, Loss: 349.19886474609376\n",
      "Epoch 19, Loss: 349.2801544189453\n"
     ]
    },
    {
     "name": "stderr",
     "output_type": "stream",
     "text": [
      "100%|██████████| 20/20 [00:00<00:00, 38.63it/s]\n",
      "100%|██████████| 20/20 [00:00<00:00, 38.54it/s]\n",
      "  0%|          | 0/20 [00:00<?, ?it/s]"
     ]
    },
    {
     "name": "stdout",
     "output_type": "stream",
     "text": [
      "Epoch 20, Loss: 333.39060363769534\n",
      "Epoch 20, Loss: 334.79938354492185\n"
     ]
    },
    {
     "name": "stderr",
     "output_type": "stream",
     "text": [
      "100%|██████████| 20/20 [00:00<00:00, 38.69it/s]\n",
      "100%|██████████| 20/20 [00:00<00:00, 38.68it/s]\n",
      "  0%|          | 0/20 [00:00<?, ?it/s]"
     ]
    },
    {
     "name": "stdout",
     "output_type": "stream",
     "text": [
      "Epoch 21, Loss: 314.2904541015625\n",
      "Epoch 21, Loss: 316.08486328125\n"
     ]
    },
    {
     "name": "stderr",
     "output_type": "stream",
     "text": [
      "100%|██████████| 20/20 [00:00<00:00, 39.90it/s]\n",
      "100%|██████████| 20/20 [00:00<00:00, 39.80it/s]\n",
      "  0%|          | 0/20 [00:00<?, ?it/s]"
     ]
    },
    {
     "name": "stdout",
     "output_type": "stream",
     "text": [
      "Epoch 22, Loss: 307.08227996826173\n",
      "Epoch 22, Loss: 307.27156829833984\n"
     ]
    },
    {
     "name": "stderr",
     "output_type": "stream",
     "text": [
      "100%|██████████| 20/20 [00:00<00:00, 39.64it/s]\n",
      "100%|██████████| 20/20 [00:00<00:00, 39.52it/s]\n",
      "  0%|          | 0/20 [00:00<?, ?it/s]"
     ]
    },
    {
     "name": "stdout",
     "output_type": "stream",
     "text": [
      "Epoch 23, Loss: 1642.6895553588868\n",
      "Epoch 23, Loss: 1656.5469802856446\n"
     ]
    },
    {
     "name": "stderr",
     "output_type": "stream",
     "text": [
      "100%|██████████| 20/20 [00:00<00:00, 39.94it/s]\n",
      "100%|██████████| 20/20 [00:00<00:00, 39.93it/s]\n",
      "  0%|          | 0/20 [00:00<?, ?it/s]"
     ]
    },
    {
     "name": "stdout",
     "output_type": "stream",
     "text": [
      "Epoch 24, Loss: 105024.33690795899\n",
      "Epoch 24, Loss: 105710.24416503907\n"
     ]
    },
    {
     "name": "stderr",
     "output_type": "stream",
     "text": [
      "100%|██████████| 20/20 [00:00<00:00, 38.65it/s]\n",
      "100%|██████████| 20/20 [00:00<00:00, 38.65it/s]\n",
      "  0%|          | 0/20 [00:00<?, ?it/s]"
     ]
    },
    {
     "name": "stdout",
     "output_type": "stream",
     "text": [
      "Epoch 25, Loss: 6613.815344238281\n",
      "Epoch 25, Loss: 6941.9572265625\n"
     ]
    },
    {
     "name": "stderr",
     "output_type": "stream",
     "text": [
      "100%|██████████| 20/20 [00:00<00:00, 38.84it/s]\n",
      "100%|██████████| 20/20 [00:00<00:00, 38.86it/s]\n",
      "  0%|          | 0/20 [00:00<?, ?it/s]"
     ]
    },
    {
     "name": "stdout",
     "output_type": "stream",
     "text": [
      "Epoch 26, Loss: 1303.9320129394532\n",
      "Epoch 26, Loss: 1334.2530822753906\n"
     ]
    },
    {
     "name": "stderr",
     "output_type": "stream",
     "text": [
      "100%|██████████| 20/20 [00:00<00:00, 38.99it/s]\n",
      "100%|██████████| 20/20 [00:00<00:00, 38.90it/s]\n",
      "  0%|          | 0/20 [00:00<?, ?it/s]"
     ]
    },
    {
     "name": "stdout",
     "output_type": "stream",
     "text": [
      "Epoch 27, Loss: 374.9478530883789\n",
      "Epoch 27, Loss: 372.9491622924805\n"
     ]
    },
    {
     "name": "stderr",
     "output_type": "stream",
     "text": [
      "100%|██████████| 20/20 [00:00<00:00, 39.78it/s]\n",
      "100%|██████████| 20/20 [00:00<00:00, 39.79it/s]\n",
      "  0%|          | 0/20 [00:00<?, ?it/s]"
     ]
    },
    {
     "name": "stdout",
     "output_type": "stream",
     "text": [
      "Epoch 28, Loss: 254.81469650268554\n",
      "Epoch 28, Loss: 255.8940444946289\n"
     ]
    },
    {
     "name": "stderr",
     "output_type": "stream",
     "text": [
      "100%|██████████| 20/20 [00:00<00:00, 39.56it/s]\n",
      "100%|██████████| 20/20 [00:00<00:00, 39.47it/s]\n",
      "  0%|          | 0/20 [00:00<?, ?it/s]"
     ]
    },
    {
     "name": "stdout",
     "output_type": "stream",
     "text": [
      "Epoch 29, Loss: 236.91191177368165\n",
      "Epoch 29, Loss: 236.90527801513673\n"
     ]
    },
    {
     "name": "stderr",
     "output_type": "stream",
     "text": [
      "100%|██████████| 20/20 [00:00<00:00, 38.34it/s]\n"
     ]
    },
    {
     "name": "stdout",
     "output_type": "stream",
     "text": [
      "Epoch 30, Loss: 230.590869140625\n",
      "Epoch 30, Loss: 230.57403869628905\n"
     ]
    },
    {
     "name": "stderr",
     "output_type": "stream",
     "text": [
      "100%|██████████| 20/20 [00:00<00:00, 38.34it/s]\n",
      "100%|██████████| 20/20 [00:00<00:00, 38.98it/s]\n",
      "100%|██████████| 20/20 [00:00<00:00, 38.89it/s]\n",
      " 20%|██        | 4/20 [00:00<00:00, 33.21it/s]"
     ]
    },
    {
     "name": "stdout",
     "output_type": "stream",
     "text": [
      "Epoch 31, Loss: 231.87119522094727\n",
      "Epoch 31, Loss: 231.91737670898436\n"
     ]
    },
    {
     "name": "stderr",
     "output_type": "stream",
     "text": [
      "100%|██████████| 20/20 [00:00<00:00, 39.05it/s]\n",
      "100%|██████████| 20/20 [00:00<00:00, 39.13it/s]\n",
      " 20%|██        | 4/20 [00:00<00:00, 33.77it/s]"
     ]
    },
    {
     "name": "stdout",
     "output_type": "stream",
     "text": [
      "Epoch 32, Loss: 229.35157928466796\n",
      "Epoch 32, Loss: 229.29800109863282\n"
     ]
    },
    {
     "name": "stderr",
     "output_type": "stream",
     "text": [
      "100%|██████████| 20/20 [00:00<00:00, 38.22it/s]\n",
      "100%|██████████| 20/20 [00:00<00:00, 38.15it/s]\n",
      " 15%|█▌        | 3/20 [00:00<00:00, 29.17it/s]"
     ]
    },
    {
     "name": "stdout",
     "output_type": "stream",
     "text": [
      "Epoch 33, Loss: 226.30243148803712\n",
      "Epoch 33, Loss: 226.34210205078125\n"
     ]
    },
    {
     "name": "stderr",
     "output_type": "stream",
     "text": [
      "100%|██████████| 20/20 [00:00<00:00, 36.24it/s]\n",
      "100%|██████████| 20/20 [00:00<00:00, 36.26it/s]\n",
      "  0%|          | 0/20 [00:00<?, ?it/s]"
     ]
    },
    {
     "name": "stdout",
     "output_type": "stream",
     "text": [
      "Epoch 34, Loss: 223.11478729248046\n",
      "Epoch 34, Loss: 223.11892547607422\n"
     ]
    },
    {
     "name": "stderr",
     "output_type": "stream",
     "text": [
      "100%|██████████| 20/20 [00:00<00:00, 37.20it/s]\n",
      "100%|██████████| 20/20 [00:00<00:00, 37.20it/s]\n",
      " 20%|██        | 4/20 [00:00<00:00, 31.53it/s]"
     ]
    },
    {
     "name": "stdout",
     "output_type": "stream",
     "text": [
      "Epoch 35, Loss: 350.53434829711915\n",
      "Epoch 35, Loss: 349.55920562744143\n"
     ]
    },
    {
     "name": "stderr",
     "output_type": "stream",
     "text": [
      "100%|██████████| 20/20 [00:00<00:00, 38.48it/s]\n",
      "100%|██████████| 20/20 [00:00<00:00, 38.39it/s]\n",
      "  0%|          | 0/20 [00:00<?, ?it/s]"
     ]
    },
    {
     "name": "stdout",
     "output_type": "stream",
     "text": [
      "Epoch 36, Loss: 72316.80275878907\n",
      "Epoch 36, Loss: 72145.04189453126\n"
     ]
    },
    {
     "name": "stderr",
     "output_type": "stream",
     "text": [
      "100%|██████████| 20/20 [00:00<00:00, 39.58it/s]\n",
      "100%|██████████| 20/20 [00:00<00:00, 39.51it/s]\n",
      "  0%|          | 0/20 [00:00<?, ?it/s]"
     ]
    },
    {
     "name": "stdout",
     "output_type": "stream",
     "text": [
      "Epoch 37, Loss: 6873.073742675781\n",
      "Epoch 37, Loss: 6897.069052124023\n"
     ]
    },
    {
     "name": "stderr",
     "output_type": "stream",
     "text": [
      "100%|██████████| 20/20 [00:00<00:00, 40.65it/s]\n",
      "100%|██████████| 20/20 [00:00<00:00, 40.65it/s]\n",
      "  0%|          | 0/20 [00:00<?, ?it/s]"
     ]
    },
    {
     "name": "stdout",
     "output_type": "stream",
     "text": [
      "Epoch 38, Loss: 844.5754165649414\n",
      "Epoch 38, Loss: 867.8388366699219\n"
     ]
    },
    {
     "name": "stderr",
     "output_type": "stream",
     "text": [
      "100%|██████████| 20/20 [00:00<00:00, 39.71it/s]\n",
      "100%|██████████| 20/20 [00:00<00:00, 39.68it/s]\n",
      "  0%|          | 0/20 [00:00<?, ?it/s]"
     ]
    },
    {
     "name": "stdout",
     "output_type": "stream",
     "text": [
      "Epoch 39, Loss: 264.3408935546875\n",
      "Epoch 39, Loss: 263.1567237854004\n"
     ]
    },
    {
     "name": "stderr",
     "output_type": "stream",
     "text": [
      "100%|██████████| 20/20 [00:00<00:00, 38.67it/s]\n",
      "100%|██████████| 20/20 [00:00<00:00, 38.62it/s]\n",
      "  0%|          | 0/20 [00:00<?, ?it/s]"
     ]
    },
    {
     "name": "stdout",
     "output_type": "stream",
     "text": [
      "Epoch 40, Loss: 174.28992233276367\n",
      "Epoch 40, Loss: 174.06413726806642\n"
     ]
    },
    {
     "name": "stderr",
     "output_type": "stream",
     "text": [
      "100%|██████████| 20/20 [00:00<00:00, 39.01it/s]\n",
      "100%|██████████| 20/20 [00:00<00:00, 39.01it/s]\n",
      "  0%|          | 0/20 [00:00<?, ?it/s]"
     ]
    },
    {
     "name": "stdout",
     "output_type": "stream",
     "text": [
      "Epoch 41, Loss: 162.41276092529296\n",
      "Epoch 41, Loss: 162.39972229003905\n"
     ]
    },
    {
     "name": "stderr",
     "output_type": "stream",
     "text": [
      "100%|██████████| 20/20 [00:00<00:00, 38.68it/s]\n",
      "100%|██████████| 20/20 [00:00<00:00, 38.69it/s]\n",
      " 20%|██        | 4/20 [00:00<00:00, 33.84it/s]"
     ]
    },
    {
     "name": "stdout",
     "output_type": "stream",
     "text": [
      "Epoch 42, Loss: 158.71855850219725\n",
      "Epoch 42, Loss: 158.69259338378907\n"
     ]
    },
    {
     "name": "stderr",
     "output_type": "stream",
     "text": [
      "100%|██████████| 20/20 [00:00<00:00, 38.60it/s]\n",
      "100%|██████████| 20/20 [00:00<00:00, 38.61it/s]\n",
      " 20%|██        | 4/20 [00:00<00:00, 33.81it/s]"
     ]
    },
    {
     "name": "stdout",
     "output_type": "stream",
     "text": [
      "Epoch 43, Loss: 159.993359375\n",
      "Epoch 43, Loss: 160.0152946472168\n"
     ]
    },
    {
     "name": "stderr",
     "output_type": "stream",
     "text": [
      "100%|██████████| 20/20 [00:00<00:00, 38.95it/s]\n",
      "100%|██████████| 20/20 [00:00<00:00, 38.85it/s]\n",
      " 20%|██        | 4/20 [00:00<00:00, 33.03it/s]"
     ]
    },
    {
     "name": "stdout",
     "output_type": "stream",
     "text": [
      "Epoch 44, Loss: 158.7755096435547\n",
      "Epoch 44, Loss: 158.7474494934082\n"
     ]
    },
    {
     "name": "stderr",
     "output_type": "stream",
     "text": [
      "100%|██████████| 20/20 [00:00<00:00, 39.67it/s]\n",
      "100%|██████████| 20/20 [00:00<00:00, 39.69it/s]\n",
      " 20%|██        | 4/20 [00:00<00:00, 34.29it/s]"
     ]
    },
    {
     "name": "stdout",
     "output_type": "stream",
     "text": [
      "Epoch 45, Loss: 155.79275512695312\n",
      "Epoch 45, Loss: 155.75045166015624\n"
     ]
    },
    {
     "name": "stderr",
     "output_type": "stream",
     "text": [
      "100%|██████████| 20/20 [00:00<00:00, 39.12it/s]\n",
      "100%|██████████| 20/20 [00:00<00:00, 39.12it/s]\n",
      " 20%|██        | 4/20 [00:00<00:00, 35.89it/s]"
     ]
    },
    {
     "name": "stdout",
     "output_type": "stream",
     "text": [
      "Epoch 46, Loss: 157.32001113891602\n",
      "Epoch 46, Loss: 157.28762130737306\n"
     ]
    },
    {
     "name": "stderr",
     "output_type": "stream",
     "text": [
      "100%|██████████| 20/20 [00:00<00:00, 40.33it/s]\n",
      "100%|██████████| 20/20 [00:00<00:00, 40.20it/s]\n",
      " 20%|██        | 4/20 [00:00<00:00, 29.77it/s]"
     ]
    },
    {
     "name": "stdout",
     "output_type": "stream",
     "text": [
      "Epoch 47, Loss: 153.64501876831054\n",
      "Epoch 47, Loss: 153.72293090820312\n"
     ]
    },
    {
     "name": "stderr",
     "output_type": "stream",
     "text": [
      "100%|██████████| 20/20 [00:00<00:00, 37.73it/s]\n",
      "100%|██████████| 20/20 [00:00<00:00, 37.74it/s]\n",
      " 20%|██        | 4/20 [00:00<00:00, 34.98it/s]"
     ]
    },
    {
     "name": "stdout",
     "output_type": "stream",
     "text": [
      "Epoch 48, Loss: 150.94894561767578\n",
      "Epoch 48, Loss: 150.90284957885743\n"
     ]
    },
    {
     "name": "stderr",
     "output_type": "stream",
     "text": [
      "100%|██████████| 20/20 [00:00<00:00, 39.63it/s]\n",
      "100%|██████████| 20/20 [00:00<00:00, 39.61it/s]\n",
      " 20%|██        | 4/20 [00:00<00:00, 34.43it/s]"
     ]
    },
    {
     "name": "stdout",
     "output_type": "stream",
     "text": [
      "Epoch 49, Loss: 150.16736373901367\n",
      "Epoch 49, Loss: 150.15320510864257\n"
     ]
    },
    {
     "name": "stderr",
     "output_type": "stream",
     "text": [
      "100%|██████████| 20/20 [00:00<00:00, 38.43it/s]\n",
      "100%|██████████| 20/20 [00:00<00:00, 38.30it/s]\n",
      "  0%|          | 0/20 [00:00<?, ?it/s]"
     ]
    },
    {
     "name": "stdout",
     "output_type": "stream",
     "text": [
      "Epoch 50, Loss: 152.64150924682616\n",
      "Epoch 50, Loss: 152.58310775756837\n"
     ]
    },
    {
     "name": "stderr",
     "output_type": "stream",
     "text": [
      "100%|██████████| 20/20 [00:00<00:00, 39.50it/s]\n",
      "100%|██████████| 20/20 [00:00<00:00, 39.38it/s]\n",
      "  0%|          | 0/20 [00:00<?, ?it/s]"
     ]
    },
    {
     "name": "stdout",
     "output_type": "stream",
     "text": [
      "Epoch 51, Loss: 150.82864837646486\n",
      "Epoch 51, Loss: 150.73283996582032\n"
     ]
    },
    {
     "name": "stderr",
     "output_type": "stream",
     "text": [
      "100%|██████████| 20/20 [00:00<00:00, 39.48it/s]\n",
      "100%|██████████| 20/20 [00:00<00:00, 39.39it/s]\n",
      "  0%|          | 0/20 [00:00<?, ?it/s]"
     ]
    },
    {
     "name": "stdout",
     "output_type": "stream",
     "text": [
      "Epoch 52, Loss: 145.88297805786132\n",
      "Epoch 52, Loss: 145.8794174194336\n"
     ]
    },
    {
     "name": "stderr",
     "output_type": "stream",
     "text": [
      "100%|██████████| 20/20 [00:00<00:00, 39.35it/s]\n",
      "100%|██████████| 20/20 [00:00<00:00, 39.38it/s]\n",
      "  0%|          | 0/20 [00:00<?, ?it/s]"
     ]
    },
    {
     "name": "stdout",
     "output_type": "stream",
     "text": [
      "Epoch 53, Loss: 146.00391082763673\n",
      "Epoch 53, Loss: 146.02201461791992\n"
     ]
    },
    {
     "name": "stderr",
     "output_type": "stream",
     "text": [
      "100%|██████████| 20/20 [00:00<00:00, 40.30it/s]\n",
      "100%|██████████| 20/20 [00:00<00:00, 40.29it/s]\n",
      "  0%|          | 0/20 [00:00<?, ?it/s]"
     ]
    },
    {
     "name": "stdout",
     "output_type": "stream",
     "text": [
      "Epoch 54, Loss: 145.77735977172853\n",
      "Epoch 54, Loss: 145.6457260131836\n"
     ]
    },
    {
     "name": "stderr",
     "output_type": "stream",
     "text": [
      "100%|██████████| 20/20 [00:00<00:00, 39.46it/s]\n",
      "100%|██████████| 20/20 [00:00<00:00, 39.48it/s]\n",
      "  0%|          | 0/20 [00:00<?, ?it/s]"
     ]
    },
    {
     "name": "stdout",
     "output_type": "stream",
     "text": [
      "Epoch 55, Loss: 144.4120834350586\n",
      "Epoch 55, Loss: 144.46722412109375\n"
     ]
    },
    {
     "name": "stderr",
     "output_type": "stream",
     "text": [
      "100%|██████████| 20/20 [00:00<00:00, 38.19it/s]\n",
      "100%|██████████| 20/20 [00:00<00:00, 38.20it/s]\n",
      "  0%|          | 0/20 [00:00<?, ?it/s]"
     ]
    },
    {
     "name": "stdout",
     "output_type": "stream",
     "text": [
      "Epoch 56, Loss: 2207.440591430664\n",
      "Epoch 56, Loss: 2256.1364318847654\n"
     ]
    },
    {
     "name": "stderr",
     "output_type": "stream",
     "text": [
      "100%|██████████| 20/20 [00:00<00:00, 37.93it/s]\n",
      "100%|██████████| 20/20 [00:00<00:00, 37.88it/s]\n",
      " 20%|██        | 4/20 [00:00<00:00, 32.99it/s]"
     ]
    },
    {
     "name": "stdout",
     "output_type": "stream",
     "text": [
      "Epoch 57, Loss: 42207.09095458985\n",
      "Epoch 57, Loss: 41836.09174194336\n"
     ]
    },
    {
     "name": "stderr",
     "output_type": "stream",
     "text": [
      "100%|██████████| 20/20 [00:00<00:00, 37.99it/s]\n",
      "100%|██████████| 20/20 [00:00<00:00, 37.91it/s]\n",
      " 20%|██        | 4/20 [00:00<00:00, 32.69it/s]"
     ]
    },
    {
     "name": "stdout",
     "output_type": "stream",
     "text": [
      "Epoch 58, Loss: 2904.5623580932615\n",
      "Epoch 58, Loss: 2978.847901916504\n"
     ]
    },
    {
     "name": "stderr",
     "output_type": "stream",
     "text": [
      "100%|██████████| 20/20 [00:00<00:00, 37.90it/s]\n",
      "100%|██████████| 20/20 [00:00<00:00, 37.92it/s]\n",
      "  0%|          | 0/20 [00:00<?, ?it/s]"
     ]
    },
    {
     "name": "stdout",
     "output_type": "stream",
     "text": [
      "Epoch 59, Loss: 489.545841217041\n",
      "Epoch 59, Loss: 481.44724044799807\n"
     ]
    },
    {
     "name": "stderr",
     "output_type": "stream",
     "text": [
      "100%|██████████| 20/20 [00:00<00:00, 40.03it/s]\n",
      "100%|██████████| 20/20 [00:00<00:00, 40.02it/s]\n",
      "  0%|          | 0/20 [00:00<?, ?it/s]"
     ]
    },
    {
     "name": "stdout",
     "output_type": "stream",
     "text": [
      "Epoch 60, Loss: 189.3667465209961\n",
      "Epoch 60, Loss: 191.3903610229492\n"
     ]
    },
    {
     "name": "stderr",
     "output_type": "stream",
     "text": [
      "100%|██████████| 20/20 [00:00<00:00, 39.91it/s]\n",
      "  0%|          | 0/20 [00:00<?, ?it/s]9.80it/s]\n",
      "  0%|          | 0/20 [00:00<?, ?it/s]"
     ]
    },
    {
     "name": "stdout",
     "output_type": "stream",
     "text": [
      "Epoch 61, Loss: 140.50606994628907\n",
      "Epoch 61, Loss: 139.32358207702637\n"
     ]
    },
    {
     "name": "stderr",
     "output_type": "stream",
     "text": [
      "100%|██████████| 20/20 [00:00<00:00, 36.66it/s]\n",
      "100%|██████████| 20/20 [00:00<00:00, 36.58it/s]\n",
      " 20%|██        | 4/20 [00:00<00:00, 32.30it/s]"
     ]
    },
    {
     "name": "stdout",
     "output_type": "stream",
     "text": [
      "Epoch 62, Loss: 127.49066734313965\n",
      "Epoch 62, Loss: 127.45887184143066\n"
     ]
    },
    {
     "name": "stderr",
     "output_type": "stream",
     "text": [
      "100%|██████████| 20/20 [00:00<00:00, 39.14it/s]\n",
      "100%|██████████| 20/20 [00:00<00:00, 39.15it/s]\n",
      " 20%|██        | 4/20 [00:00<00:00, 36.44it/s]"
     ]
    },
    {
     "name": "stdout",
     "output_type": "stream",
     "text": [
      "Epoch 63, Loss: 7911.906234741211\n",
      "Epoch 63, Loss: 8008.192123413086\n"
     ]
    },
    {
     "name": "stderr",
     "output_type": "stream",
     "text": [
      "100%|██████████| 20/20 [00:00<00:00, 40.57it/s]\n",
      "100%|██████████| 20/20 [00:00<00:00, 40.58it/s]\n",
      " 20%|██        | 4/20 [00:00<00:00, 34.90it/s]"
     ]
    },
    {
     "name": "stdout",
     "output_type": "stream",
     "text": [
      "Epoch 64, Loss: 22203.874838256837\n",
      "Epoch 64, Loss: 22149.279370117187\n"
     ]
    },
    {
     "name": "stderr",
     "output_type": "stream",
     "text": [
      "100%|██████████| 20/20 [00:00<00:00, 39.35it/s]\n",
      "100%|██████████| 20/20 [00:00<00:00, 39.31it/s]\n",
      " 20%|██        | 4/20 [00:00<00:00, 32.36it/s]"
     ]
    },
    {
     "name": "stdout",
     "output_type": "stream",
     "text": [
      "Epoch 65, Loss: 1349.651663208008\n",
      "Epoch 65, Loss: 1357.7128936767579\n"
     ]
    },
    {
     "name": "stderr",
     "output_type": "stream",
     "text": [
      "100%|██████████| 20/20 [00:00<00:00, 39.13it/s]\n",
      "100%|██████████| 20/20 [00:00<00:00, 39.20it/s]\n",
      " 20%|██        | 4/20 [00:00<00:00, 34.76it/s]"
     ]
    },
    {
     "name": "stdout",
     "output_type": "stream",
     "text": [
      "Epoch 66, Loss: 274.76471519470215\n",
      "Epoch 66, Loss: 278.6501106262207\n"
     ]
    },
    {
     "name": "stderr",
     "output_type": "stream",
     "text": [
      "100%|██████████| 20/20 [00:00<00:00, 40.06it/s]\n",
      "100%|██████████| 20/20 [00:00<00:00, 39.99it/s]\n",
      " 20%|██        | 4/20 [00:00<00:00, 33.31it/s]"
     ]
    },
    {
     "name": "stdout",
     "output_type": "stream",
     "text": [
      "Epoch 67, Loss: 129.3658203125\n",
      "Epoch 67, Loss: 129.36178741455078\n"
     ]
    },
    {
     "name": "stderr",
     "output_type": "stream",
     "text": [
      "100%|██████████| 20/20 [00:00<00:00, 39.30it/s]\n",
      "100%|██████████| 20/20 [00:00<00:00, 39.28it/s]\n",
      " 20%|██        | 4/20 [00:00<00:00, 33.71it/s]"
     ]
    },
    {
     "name": "stdout",
     "output_type": "stream",
     "text": [
      "Epoch 68, Loss: 113.65760078430176\n",
      "Epoch 68, Loss: 113.77373275756835\n"
     ]
    },
    {
     "name": "stderr",
     "output_type": "stream",
     "text": [
      "100%|██████████| 20/20 [00:00<00:00, 39.25it/s]\n",
      "100%|██████████| 20/20 [00:00<00:00, 39.18it/s]\n",
      " 20%|██        | 4/20 [00:00<00:00, 33.54it/s]"
     ]
    },
    {
     "name": "stdout",
     "output_type": "stream",
     "text": [
      "Epoch 69, Loss: 107.27676277160644\n",
      "Epoch 69, Loss: 107.32115211486817\n"
     ]
    },
    {
     "name": "stderr",
     "output_type": "stream",
     "text": [
      "100%|██████████| 20/20 [00:00<00:00, 39.09it/s]\n",
      "100%|██████████| 20/20 [00:00<00:00, 39.05it/s]\n",
      " 20%|██        | 4/20 [00:00<00:00, 34.84it/s]"
     ]
    },
    {
     "name": "stdout",
     "output_type": "stream",
     "text": [
      "Epoch 70, Loss: 104.95749092102051\n",
      "Epoch 70, Loss: 104.93322486877442\n"
     ]
    },
    {
     "name": "stderr",
     "output_type": "stream",
     "text": [
      "100%|██████████| 20/20 [00:00<00:00, 38.97it/s]\n",
      "100%|██████████| 20/20 [00:00<00:00, 38.98it/s]\n",
      " 20%|██        | 4/20 [00:00<00:00, 35.77it/s]"
     ]
    },
    {
     "name": "stdout",
     "output_type": "stream",
     "text": [
      "Epoch 71, Loss: 104.63044586181641\n",
      "Epoch 71, Loss: 104.62417716979981\n"
     ]
    },
    {
     "name": "stderr",
     "output_type": "stream",
     "text": [
      "100%|██████████| 20/20 [00:00<00:00, 39.69it/s]\n",
      "100%|██████████| 20/20 [00:00<00:00, 39.59it/s]\n",
      "  0%|          | 0/20 [00:00<?, ?it/s]"
     ]
    },
    {
     "name": "stdout",
     "output_type": "stream",
     "text": [
      "Epoch 72, Loss: 103.10309257507325\n",
      "Epoch 72, Loss: 103.09683647155762\n"
     ]
    },
    {
     "name": "stderr",
     "output_type": "stream",
     "text": [
      "100%|██████████| 20/20 [00:00<00:00, 39.07it/s]\n",
      "100%|██████████| 20/20 [00:00<00:00, 38.97it/s]\n",
      "  0%|          | 0/20 [00:00<?, ?it/s]"
     ]
    },
    {
     "name": "stdout",
     "output_type": "stream",
     "text": [
      "Epoch 73, Loss: 102.56320457458496\n",
      "Epoch 73, Loss: 102.53905372619629\n"
     ]
    },
    {
     "name": "stderr",
     "output_type": "stream",
     "text": [
      "100%|██████████| 20/20 [00:00<00:00, 38.44it/s]\n",
      "  0%|          | 0/20 [00:00<?, ?it/s]"
     ]
    },
    {
     "name": "stdout",
     "output_type": "stream",
     "text": [
      "Epoch 74, Loss: 100.82269897460938\n",
      "Epoch 74, Loss: 100.84409866333007\n"
     ]
    },
    {
     "name": "stderr",
     "output_type": "stream",
     "text": [
      "100%|██████████| 20/20 [00:00<00:00, 38.46it/s]\n",
      "100%|██████████| 20/20 [00:00<00:00, 38.00it/s]\n",
      "100%|██████████| 20/20 [00:00<00:00, 37.98it/s]\n",
      "  0%|          | 0/20 [00:00<?, ?it/s]"
     ]
    },
    {
     "name": "stdout",
     "output_type": "stream",
     "text": [
      "Epoch 75, Loss: 99.77153549194335\n",
      "Epoch 75, Loss: 99.75475997924805\n"
     ]
    },
    {
     "name": "stderr",
     "output_type": "stream",
     "text": [
      "100%|██████████| 20/20 [00:00<00:00, 40.16it/s]\n",
      "100%|██████████| 20/20 [00:00<00:00, 40.05it/s]\n",
      "  0%|          | 0/20 [00:00<?, ?it/s]"
     ]
    },
    {
     "name": "stdout",
     "output_type": "stream",
     "text": [
      "Epoch 76, Loss: 98.43660202026368\n",
      "Epoch 76, Loss: 98.40397720336914\n"
     ]
    },
    {
     "name": "stderr",
     "output_type": "stream",
     "text": [
      "100%|██████████| 20/20 [00:00<00:00, 38.51it/s]\n"
     ]
    },
    {
     "name": "stdout",
     "output_type": "stream",
     "text": [
      "Epoch 77, Loss: 98.01111717224121\n",
      "Epoch 77, Loss: 98.06302032470703\n"
     ]
    },
    {
     "name": "stderr",
     "output_type": "stream",
     "text": [
      "100%|██████████| 20/20 [00:00<00:00, 38.44it/s]\n",
      "100%|██████████| 20/20 [00:00<00:00, 37.80it/s]\n",
      "100%|██████████| 20/20 [00:00<00:00, 37.79it/s]\n",
      "  0%|          | 0/20 [00:00<?, ?it/s]"
     ]
    },
    {
     "name": "stdout",
     "output_type": "stream",
     "text": [
      "Epoch 78, Loss: 98.22813186645507\n",
      "Epoch 78, Loss: 98.2042781829834\n"
     ]
    },
    {
     "name": "stderr",
     "output_type": "stream",
     "text": [
      "100%|██████████| 20/20 [00:00<00:00, 35.99it/s]\n",
      "100%|██████████| 20/20 [00:00<00:00, 35.97it/s]\n",
      " 20%|██        | 4/20 [00:00<00:00, 31.85it/s]"
     ]
    },
    {
     "name": "stdout",
     "output_type": "stream",
     "text": [
      "Epoch 79, Loss: 96.23505249023438\n",
      "Epoch 79, Loss: 96.22715110778809\n"
     ]
    },
    {
     "name": "stderr",
     "output_type": "stream",
     "text": [
      "100%|██████████| 20/20 [00:00<00:00, 35.88it/s]\n",
      "100%|██████████| 20/20 [00:00<00:00, 35.79it/s]\n",
      "  0%|          | 0/20 [00:00<?, ?it/s]"
     ]
    },
    {
     "name": "stdout",
     "output_type": "stream",
     "text": [
      "Epoch 80, Loss: 95.15276641845703\n",
      "Epoch 80, Loss: 95.15393905639648\n"
     ]
    },
    {
     "name": "stderr",
     "output_type": "stream",
     "text": [
      "100%|██████████| 20/20 [00:00<00:00, 38.95it/s]\n",
      "100%|██████████| 20/20 [00:00<00:00, 38.84it/s]\n",
      "  0%|          | 0/20 [00:00<?, ?it/s]"
     ]
    },
    {
     "name": "stdout",
     "output_type": "stream",
     "text": [
      "Epoch 81, Loss: 93.82431144714356\n",
      "Epoch 81, Loss: 93.80342597961426\n"
     ]
    },
    {
     "name": "stderr",
     "output_type": "stream",
     "text": [
      "100%|██████████| 20/20 [00:00<00:00, 38.38it/s]\n",
      "100%|██████████| 20/20 [00:00<00:00, 38.43it/s]\n",
      "  0%|          | 0/20 [00:00<?, ?it/s]"
     ]
    },
    {
     "name": "stdout",
     "output_type": "stream",
     "text": [
      "Epoch 82, Loss: 94.05410728454589\n",
      "Epoch 82, Loss: 94.07345809936524\n"
     ]
    },
    {
     "name": "stderr",
     "output_type": "stream",
     "text": [
      "100%|██████████| 20/20 [00:00<00:00, 38.24it/s]\n",
      "100%|██████████| 20/20 [00:00<00:00, 38.19it/s]\n",
      "  0%|          | 0/20 [00:00<?, ?it/s]"
     ]
    },
    {
     "name": "stdout",
     "output_type": "stream",
     "text": [
      "Epoch 83, Loss: 129.8669189453125\n",
      "Epoch 83, Loss: 130.1468090057373\n"
     ]
    },
    {
     "name": "stderr",
     "output_type": "stream",
     "text": [
      "100%|██████████| 20/20 [00:00<00:00, 39.46it/s]\n",
      "100%|██████████| 20/20 [00:00<00:00, 39.47it/s]\n",
      "  0%|          | 0/20 [00:00<?, ?it/s]"
     ]
    },
    {
     "name": "stdout",
     "output_type": "stream",
     "text": [
      "Epoch 84, Loss: 20677.45197753906\n",
      "Epoch 84, Loss: 20488.528186035157\n"
     ]
    },
    {
     "name": "stderr",
     "output_type": "stream",
     "text": [
      "100%|██████████| 20/20 [00:00<00:00, 39.80it/s]\n",
      "100%|██████████| 20/20 [00:00<00:00, 39.68it/s]\n",
      "  0%|          | 0/20 [00:00<?, ?it/s]"
     ]
    },
    {
     "name": "stdout",
     "output_type": "stream",
     "text": [
      "Epoch 85, Loss: 4649.5089660644535\n",
      "Epoch 85, Loss: 4737.854411315918\n"
     ]
    },
    {
     "name": "stderr",
     "output_type": "stream",
     "text": [
      "100%|██████████| 20/20 [00:00<00:00, 38.84it/s]\n",
      "100%|██████████| 20/20 [00:00<00:00, 38.70it/s]\n",
      "  0%|          | 0/20 [00:00<?, ?it/s]"
     ]
    },
    {
     "name": "stdout",
     "output_type": "stream",
     "text": [
      "Epoch 86, Loss: 671.0307754516601\n",
      "Epoch 86, Loss: 671.5306869506836\n"
     ]
    },
    {
     "name": "stderr",
     "output_type": "stream",
     "text": [
      "100%|██████████| 20/20 [00:00<00:00, 39.74it/s]\n",
      "100%|██████████| 20/20 [00:00<00:00, 39.75it/s]\n",
      "  0%|          | 0/20 [00:00<?, ?it/s]"
     ]
    },
    {
     "name": "stdout",
     "output_type": "stream",
     "text": [
      "Epoch 87, Loss: 217.69246520996094\n",
      "Epoch 87, Loss: 218.05883979797363\n"
     ]
    },
    {
     "name": "stderr",
     "output_type": "stream",
     "text": [
      "100%|██████████| 20/20 [00:00<00:00, 37.97it/s]\n",
      "100%|██████████| 20/20 [00:00<00:00, 37.90it/s]\n",
      "  0%|          | 0/20 [00:00<?, ?it/s]"
     ]
    },
    {
     "name": "stdout",
     "output_type": "stream",
     "text": [
      "Epoch 88, Loss: 120.04854774475098\n",
      "Epoch 88, Loss: 119.66203575134277\n"
     ]
    },
    {
     "name": "stderr",
     "output_type": "stream",
     "text": [
      "100%|██████████| 20/20 [00:00<00:00, 39.40it/s]\n",
      "100%|██████████| 20/20 [00:00<00:00, 39.32it/s]\n",
      "  0%|          | 0/20 [00:00<?, ?it/s]"
     ]
    },
    {
     "name": "stdout",
     "output_type": "stream",
     "text": [
      "Epoch 89, Loss: 103.63958168029785\n",
      "Epoch 89, Loss: 103.91941909790039\n"
     ]
    },
    {
     "name": "stderr",
     "output_type": "stream",
     "text": [
      "100%|██████████| 20/20 [00:00<00:00, 37.48it/s]\n",
      "100%|██████████| 20/20 [00:00<00:00, 37.44it/s]\n",
      " 20%|██        | 4/20 [00:00<00:00, 33.42it/s]"
     ]
    },
    {
     "name": "stdout",
     "output_type": "stream",
     "text": [
      "Epoch 90, Loss: 85.86054649353028\n",
      "Epoch 90, Loss: 85.8638469696045\n"
     ]
    },
    {
     "name": "stderr",
     "output_type": "stream",
     "text": [
      "100%|██████████| 20/20 [00:00<00:00, 37.81it/s]\n",
      "100%|██████████| 20/20 [00:00<00:00, 37.74it/s]\n",
      " 20%|██        | 4/20 [00:00<00:00, 34.23it/s]"
     ]
    },
    {
     "name": "stdout",
     "output_type": "stream",
     "text": [
      "Epoch 91, Loss: 81.2763900756836\n",
      "Epoch 91, Loss: 81.38809967041016\n"
     ]
    },
    {
     "name": "stderr",
     "output_type": "stream",
     "text": [
      "100%|██████████| 20/20 [00:00<00:00, 40.02it/s]\n",
      "100%|██████████| 20/20 [00:00<00:00, 40.00it/s]\n",
      " 20%|██        | 4/20 [00:00<00:00, 35.31it/s]"
     ]
    },
    {
     "name": "stdout",
     "output_type": "stream",
     "text": [
      "Epoch 92, Loss: 134.10803108215333\n",
      "Epoch 92, Loss: 134.73684158325196\n"
     ]
    },
    {
     "name": "stderr",
     "output_type": "stream",
     "text": [
      "100%|██████████| 20/20 [00:00<00:00, 39.66it/s]\n",
      "100%|██████████| 20/20 [00:00<00:00, 39.51it/s]\n",
      " 20%|██        | 4/20 [00:00<00:00, 32.84it/s]"
     ]
    },
    {
     "name": "stdout",
     "output_type": "stream",
     "text": [
      "Epoch 93, Loss: 21100.12763366699\n",
      "Epoch 93, Loss: 20971.943728637696\n"
     ]
    },
    {
     "name": "stderr",
     "output_type": "stream",
     "text": [
      "100%|██████████| 20/20 [00:00<00:00, 39.57it/s]\n",
      "100%|██████████| 20/20 [00:00<00:00, 39.66it/s]\n",
      " 20%|██        | 4/20 [00:00<00:00, 32.49it/s]"
     ]
    },
    {
     "name": "stdout",
     "output_type": "stream",
     "text": [
      "Epoch 94, Loss: 3896.8928497314455\n",
      "Epoch 94, Loss: 3892.800390625\n"
     ]
    },
    {
     "name": "stderr",
     "output_type": "stream",
     "text": [
      "100%|██████████| 20/20 [00:00<00:00, 39.33it/s]\n",
      "100%|██████████| 20/20 [00:00<00:00, 39.26it/s]\n",
      " 15%|█▌        | 3/20 [00:00<00:00, 29.57it/s]"
     ]
    },
    {
     "name": "stdout",
     "output_type": "stream",
     "text": [
      "Epoch 95, Loss: 630.8826377868652\n",
      "Epoch 95, Loss: 623.424168395996\n"
     ]
    },
    {
     "name": "stderr",
     "output_type": "stream",
     "text": [
      "100%|██████████| 20/20 [00:00<00:00, 37.95it/s]\n",
      "100%|██████████| 20/20 [00:00<00:00, 37.95it/s]\n",
      "  0%|          | 0/20 [00:00<?, ?it/s]"
     ]
    },
    {
     "name": "stdout",
     "output_type": "stream",
     "text": [
      "Epoch 96, Loss: 160.85777015686034\n",
      "Epoch 96, Loss: 160.5589069366455\n"
     ]
    },
    {
     "name": "stderr",
     "output_type": "stream",
     "text": [
      "100%|██████████| 20/20 [00:00<00:00, 39.16it/s]\n",
      "100%|██████████| 20/20 [00:00<00:00, 39.02it/s]\n",
      "  0%|          | 0/20 [00:00<?, ?it/s]"
     ]
    },
    {
     "name": "stdout",
     "output_type": "stream",
     "text": [
      "Epoch 97, Loss: 224.1275749206543\n",
      "Epoch 97, Loss: 225.1599334716797\n"
     ]
    },
    {
     "name": "stderr",
     "output_type": "stream",
     "text": [
      "100%|██████████| 20/20 [00:00<00:00, 38.70it/s]\n",
      "  0%|          | 0/20 [00:00<?, ?it/s]8.59it/s]\n",
      "  0%|          | 0/20 [00:00<?, ?it/s]"
     ]
    },
    {
     "name": "stdout",
     "output_type": "stream",
     "text": [
      "Epoch 98, Loss: 3927.8381385803223\n",
      "Epoch 98, Loss: 4001.558618927002\n"
     ]
    },
    {
     "name": "stderr",
     "output_type": "stream",
     "text": [
      "100%|██████████| 20/20 [00:00<00:00, 38.97it/s]\n",
      "100%|██████████| 20/20 [00:00<00:00, 38.94it/s]\n",
      "  0%|          | 0/20 [00:00<?, ?it/s]"
     ]
    },
    {
     "name": "stdout",
     "output_type": "stream",
     "text": [
      "Epoch 99, Loss: 280.53719329833984\n",
      "Epoch 99, Loss: 280.8592098236084\n"
     ]
    },
    {
     "name": "stderr",
     "output_type": "stream",
     "text": [
      "100%|██████████| 20/20 [00:00<00:00, 38.18it/s]\n",
      "100%|██████████| 20/20 [00:00<00:00, 38.09it/s]\n"
     ]
    },
    {
     "name": "stdout",
     "output_type": "stream",
     "text": [
      "Epoch 100, Loss: 74.90406723022461\n",
      "Training time: 59.8706488609314 seconds\n",
      "Epoch 100, Loss: 74.56572113037109\n",
      "Training time: 59.87123250961304 seconds\n",
      "Training time: 69.76988768577576 seconds\n"
     ]
    }
   ],
   "source": [
    "import time\n",
    "from st_DynGNN import run\n",
    "import torch.multiprocessing as mp\n",
    "\n",
    "start_time = time.time()\n",
    "if __name__ == '__main__':\n",
    "    num_gpus = 2\n",
    "    import torch.multiprocessing as mp\n",
    "    mp.spawn(run, args=(list(range(num_gpus)),dgl_graph), nprocs=num_gpus)\n",
    "\n",
    "end_time = time.time()\n",
    "elapsed_time = end_time - start_time\n",
    "\n",
    "print(f\"Training time: {elapsed_time} seconds\")"
   ]
  },
  {
   "cell_type": "code",
   "execution_count": 19,
   "metadata": {},
   "outputs": [],
   "source": [
    "# from st_DynGNN import run\n",
    "# import torch.multiprocessing as mp\n",
    "\n",
    "# devices = list(range(mp.cpu_count()))\n",
    "# num_processes = len(devices)\n",
    "\n",
    "# # Spawn multiple processes for training\n",
    "# processes = []\n",
    "# for rank in range(num_processes):\n",
    "#     p = mp.Process(target=run, args=(rank, devices, dgl_graph))\n",
    "#     p.start()\n",
    "#     processes.append(p)\n",
    "\n",
    "# # Wait for all processes to finish\n",
    "# for p in processes:\n",
    "#     p.join()\n",
    "\n",
    "\n",
    "\n",
    "# if __name__ == '__main__':\n",
    "#     devices = list(range(mp.cpu_count()))\n",
    "#     num_processes = len(devices)\n",
    "\n",
    "#     # Use the 'spawn' start method\n",
    "#     # mp.set_start_method('spawn')\n",
    "\n",
    "#     # Spawn multiple processes for training\n",
    "#     processes = []\n",
    "#     for rank in range(num_processes):\n",
    "#         p = mp.Process(target=run, args=(rank, devices, dgl_graph))\n",
    "#         p.start()\n",
    "#         processes.append(p)\n",
    "\n",
    "#     # Wait for all processes to finish\n",
    "#     for p in processes:\n",
    "#         p.join()\n"
   ]
  },
  {
   "cell_type": "code",
   "execution_count": null,
   "metadata": {},
   "outputs": [],
   "source": [
    "if __name__ == \"__main__\":\n",
    "    devices = list(range(torch.cuda.device_count())) if torch.cuda.is_available() else [0]\n",
    "    num_processes = len(devices)\n",
    "\n",
    "    # Your DGL graph initialization code here...\n",
    "\n",
    "    # Spawn multiple processes for training\n",
    "    processes = []\n",
    "    for rank in range(num_processes):\n",
    "        p = mp.Process(target=train, args=(rank, devices, dgl_graph))\n",
    "        p.start()\n",
    "        processes.append(p)\n",
    "\n",
    "    # Wait for all processes to finish\n",
    "    for p in processes:\n",
    "        p.join()"
   ]
  },
  {
   "cell_type": "code",
   "execution_count": 17,
   "metadata": {},
   "outputs": [
    {
     "name": "stderr",
     "output_type": "stream",
     "text": [
      "100%|██████████| 40/40 [00:01<00:00, 28.81it/s]\n"
     ]
    },
    {
     "name": "stdout",
     "output_type": "stream",
     "text": [
      "Epoch 1, Loss: 6406026.820507812\n"
     ]
    },
    {
     "name": "stderr",
     "output_type": "stream",
     "text": [
      "100%|██████████| 40/40 [00:00<00:00, 53.56it/s]\n"
     ]
    },
    {
     "name": "stdout",
     "output_type": "stream",
     "text": [
      "Epoch 2, Loss: 60299.95749511719\n"
     ]
    },
    {
     "name": "stderr",
     "output_type": "stream",
     "text": [
      "100%|██████████| 40/40 [00:00<00:00, 52.82it/s]\n"
     ]
    },
    {
     "name": "stdout",
     "output_type": "stream",
     "text": [
      "Epoch 3, Loss: 8235.869555664063\n"
     ]
    },
    {
     "name": "stderr",
     "output_type": "stream",
     "text": [
      "100%|██████████| 40/40 [00:00<00:00, 53.28it/s]\n"
     ]
    },
    {
     "name": "stdout",
     "output_type": "stream",
     "text": [
      "Epoch 4, Loss: 4101.781811523438\n"
     ]
    },
    {
     "name": "stderr",
     "output_type": "stream",
     "text": [
      "100%|██████████| 40/40 [00:00<00:00, 53.45it/s]\n"
     ]
    },
    {
     "name": "stdout",
     "output_type": "stream",
     "text": [
      "Epoch 5, Loss: 2270.6217559814454\n"
     ]
    },
    {
     "name": "stderr",
     "output_type": "stream",
     "text": [
      "100%|██████████| 40/40 [00:00<00:00, 53.44it/s]\n"
     ]
    },
    {
     "name": "stdout",
     "output_type": "stream",
     "text": [
      "Epoch 6, Loss: 1262.6855880737305\n"
     ]
    },
    {
     "name": "stderr",
     "output_type": "stream",
     "text": [
      "100%|██████████| 40/40 [00:00<00:00, 49.57it/s]\n"
     ]
    },
    {
     "name": "stdout",
     "output_type": "stream",
     "text": [
      "Epoch 7, Loss: 776.7214385986329\n"
     ]
    },
    {
     "name": "stderr",
     "output_type": "stream",
     "text": [
      "100%|██████████| 40/40 [00:00<00:00, 51.24it/s]\n"
     ]
    },
    {
     "name": "stdout",
     "output_type": "stream",
     "text": [
      "Epoch 8, Loss: 548.3401023864747\n"
     ]
    },
    {
     "name": "stderr",
     "output_type": "stream",
     "text": [
      "100%|██████████| 40/40 [00:00<00:00, 53.14it/s]\n"
     ]
    },
    {
     "name": "stdout",
     "output_type": "stream",
     "text": [
      "Epoch 9, Loss: 410.5076774597168\n"
     ]
    },
    {
     "name": "stderr",
     "output_type": "stream",
     "text": [
      "100%|██████████| 40/40 [00:00<00:00, 53.52it/s]\n"
     ]
    },
    {
     "name": "stdout",
     "output_type": "stream",
     "text": [
      "Epoch 10, Loss: 358.8323066711426\n"
     ]
    },
    {
     "name": "stderr",
     "output_type": "stream",
     "text": [
      "100%|██████████| 40/40 [00:00<00:00, 53.51it/s]\n"
     ]
    },
    {
     "name": "stdout",
     "output_type": "stream",
     "text": [
      "Epoch 11, Loss: 329.77314987182615\n"
     ]
    },
    {
     "name": "stderr",
     "output_type": "stream",
     "text": [
      "100%|██████████| 40/40 [00:00<00:00, 53.35it/s]\n"
     ]
    },
    {
     "name": "stdout",
     "output_type": "stream",
     "text": [
      "Epoch 12, Loss: 82092.17320709229\n"
     ]
    },
    {
     "name": "stderr",
     "output_type": "stream",
     "text": [
      "100%|██████████| 40/40 [00:00<00:00, 53.43it/s]\n"
     ]
    },
    {
     "name": "stdout",
     "output_type": "stream",
     "text": [
      "Epoch 13, Loss: 2561.8540603637693\n"
     ]
    },
    {
     "name": "stderr",
     "output_type": "stream",
     "text": [
      "100%|██████████| 40/40 [00:00<00:00, 53.34it/s]\n"
     ]
    },
    {
     "name": "stdout",
     "output_type": "stream",
     "text": [
      "Epoch 14, Loss: 274.84083595275877\n"
     ]
    },
    {
     "name": "stderr",
     "output_type": "stream",
     "text": [
      "100%|██████████| 40/40 [00:00<00:00, 52.84it/s]\n"
     ]
    },
    {
     "name": "stdout",
     "output_type": "stream",
     "text": [
      "Epoch 15, Loss: 218.62635078430176\n"
     ]
    },
    {
     "name": "stderr",
     "output_type": "stream",
     "text": [
      "100%|██████████| 40/40 [00:00<00:00, 53.16it/s]\n"
     ]
    },
    {
     "name": "stdout",
     "output_type": "stream",
     "text": [
      "Epoch 16, Loss: 214.78897972106932\n"
     ]
    },
    {
     "name": "stderr",
     "output_type": "stream",
     "text": [
      "100%|██████████| 40/40 [00:00<00:00, 51.94it/s]\n"
     ]
    },
    {
     "name": "stdout",
     "output_type": "stream",
     "text": [
      "Epoch 17, Loss: 49528.2811088562\n"
     ]
    },
    {
     "name": "stderr",
     "output_type": "stream",
     "text": [
      "100%|██████████| 40/40 [00:00<00:00, 53.08it/s]\n"
     ]
    },
    {
     "name": "stdout",
     "output_type": "stream",
     "text": [
      "Epoch 18, Loss: 3278.9794586181642\n"
     ]
    },
    {
     "name": "stderr",
     "output_type": "stream",
     "text": [
      "100%|██████████| 40/40 [00:00<00:00, 53.92it/s]\n"
     ]
    },
    {
     "name": "stdout",
     "output_type": "stream",
     "text": [
      "Epoch 19, Loss: 215.03433837890626\n"
     ]
    },
    {
     "name": "stderr",
     "output_type": "stream",
     "text": [
      "100%|██████████| 40/40 [00:00<00:00, 54.02it/s]\n"
     ]
    },
    {
     "name": "stdout",
     "output_type": "stream",
     "text": [
      "Epoch 20, Loss: 147.7929244995117\n"
     ]
    },
    {
     "name": "stderr",
     "output_type": "stream",
     "text": [
      "100%|██████████| 40/40 [00:00<00:00, 53.42it/s]\n"
     ]
    },
    {
     "name": "stdout",
     "output_type": "stream",
     "text": [
      "Epoch 21, Loss: 138.22359504699708\n"
     ]
    },
    {
     "name": "stderr",
     "output_type": "stream",
     "text": [
      "100%|██████████| 40/40 [00:00<00:00, 53.63it/s]\n"
     ]
    },
    {
     "name": "stdout",
     "output_type": "stream",
     "text": [
      "Epoch 22, Loss: 134.54814414978028\n"
     ]
    },
    {
     "name": "stderr",
     "output_type": "stream",
     "text": [
      "100%|██████████| 40/40 [00:00<00:00, 53.71it/s]\n"
     ]
    },
    {
     "name": "stdout",
     "output_type": "stream",
     "text": [
      "Epoch 23, Loss: 132.46323432922364\n"
     ]
    },
    {
     "name": "stderr",
     "output_type": "stream",
     "text": [
      "100%|██████████| 40/40 [00:00<00:00, 54.45it/s]\n"
     ]
    },
    {
     "name": "stdout",
     "output_type": "stream",
     "text": [
      "Epoch 24, Loss: 130.03978099823\n"
     ]
    },
    {
     "name": "stderr",
     "output_type": "stream",
     "text": [
      "100%|██████████| 40/40 [00:00<00:00, 53.64it/s]\n"
     ]
    },
    {
     "name": "stdout",
     "output_type": "stream",
     "text": [
      "Epoch 25, Loss: 126.32082996368408\n"
     ]
    },
    {
     "name": "stderr",
     "output_type": "stream",
     "text": [
      "100%|██████████| 40/40 [00:00<00:00, 53.61it/s]\n"
     ]
    },
    {
     "name": "stdout",
     "output_type": "stream",
     "text": [
      "Epoch 26, Loss: 124.27829971313477\n"
     ]
    },
    {
     "name": "stderr",
     "output_type": "stream",
     "text": [
      "100%|██████████| 40/40 [00:00<00:00, 53.97it/s]\n"
     ]
    },
    {
     "name": "stdout",
     "output_type": "stream",
     "text": [
      "Epoch 27, Loss: 122.4700210571289\n"
     ]
    },
    {
     "name": "stderr",
     "output_type": "stream",
     "text": [
      "100%|██████████| 40/40 [00:00<00:00, 51.58it/s]\n"
     ]
    },
    {
     "name": "stdout",
     "output_type": "stream",
     "text": [
      "Epoch 28, Loss: 121.99870128631592\n"
     ]
    },
    {
     "name": "stderr",
     "output_type": "stream",
     "text": [
      "100%|██████████| 40/40 [00:00<00:00, 53.33it/s]\n"
     ]
    },
    {
     "name": "stdout",
     "output_type": "stream",
     "text": [
      "Epoch 29, Loss: 11618.567108535766\n"
     ]
    },
    {
     "name": "stderr",
     "output_type": "stream",
     "text": [
      "100%|██████████| 40/40 [00:00<00:00, 52.94it/s]\n"
     ]
    },
    {
     "name": "stdout",
     "output_type": "stream",
     "text": [
      "Epoch 30, Loss: 4495.040866088867\n"
     ]
    },
    {
     "name": "stderr",
     "output_type": "stream",
     "text": [
      "100%|██████████| 40/40 [00:00<00:00, 53.43it/s]\n"
     ]
    },
    {
     "name": "stdout",
     "output_type": "stream",
     "text": [
      "Epoch 31, Loss: 260.3519794464111\n"
     ]
    },
    {
     "name": "stderr",
     "output_type": "stream",
     "text": [
      "100%|██████████| 40/40 [00:00<00:00, 53.43it/s]\n"
     ]
    },
    {
     "name": "stdout",
     "output_type": "stream",
     "text": [
      "Epoch 32, Loss: 109.86954803466797\n"
     ]
    },
    {
     "name": "stderr",
     "output_type": "stream",
     "text": [
      "100%|██████████| 40/40 [00:00<00:00, 53.45it/s]\n"
     ]
    },
    {
     "name": "stdout",
     "output_type": "stream",
     "text": [
      "Epoch 33, Loss: 103.30769309997558\n"
     ]
    },
    {
     "name": "stderr",
     "output_type": "stream",
     "text": [
      "100%|██████████| 40/40 [00:00<00:00, 53.27it/s]\n"
     ]
    },
    {
     "name": "stdout",
     "output_type": "stream",
     "text": [
      "Epoch 34, Loss: 101.2474557876587\n"
     ]
    },
    {
     "name": "stderr",
     "output_type": "stream",
     "text": [
      "100%|██████████| 40/40 [00:00<00:00, 53.48it/s]\n"
     ]
    },
    {
     "name": "stdout",
     "output_type": "stream",
     "text": [
      "Epoch 35, Loss: 100.33310050964356\n"
     ]
    },
    {
     "name": "stderr",
     "output_type": "stream",
     "text": [
      "100%|██████████| 40/40 [00:00<00:00, 53.14it/s]\n"
     ]
    },
    {
     "name": "stdout",
     "output_type": "stream",
     "text": [
      "Epoch 36, Loss: 371.0319829940796\n"
     ]
    },
    {
     "name": "stderr",
     "output_type": "stream",
     "text": [
      "100%|██████████| 40/40 [00:00<00:00, 53.78it/s]\n"
     ]
    },
    {
     "name": "stdout",
     "output_type": "stream",
     "text": [
      "Epoch 37, Loss: 22917.381074523924\n"
     ]
    },
    {
     "name": "stderr",
     "output_type": "stream",
     "text": [
      "100%|██████████| 40/40 [00:00<00:00, 54.06it/s]\n"
     ]
    },
    {
     "name": "stdout",
     "output_type": "stream",
     "text": [
      "Epoch 38, Loss: 1053.0367919921875\n"
     ]
    },
    {
     "name": "stderr",
     "output_type": "stream",
     "text": [
      "100%|██████████| 40/40 [00:00<00:00, 53.85it/s]\n"
     ]
    },
    {
     "name": "stdout",
     "output_type": "stream",
     "text": [
      "Epoch 39, Loss: 130.43750705718995\n"
     ]
    },
    {
     "name": "stderr",
     "output_type": "stream",
     "text": [
      "100%|██████████| 40/40 [00:00<00:00, 52.68it/s]\n"
     ]
    },
    {
     "name": "stdout",
     "output_type": "stream",
     "text": [
      "Epoch 40, Loss: 85.07586040496827\n"
     ]
    },
    {
     "name": "stderr",
     "output_type": "stream",
     "text": [
      "100%|██████████| 40/40 [00:00<00:00, 52.12it/s]\n"
     ]
    },
    {
     "name": "stdout",
     "output_type": "stream",
     "text": [
      "Epoch 41, Loss: 80.16906032562255\n"
     ]
    },
    {
     "name": "stderr",
     "output_type": "stream",
     "text": [
      "100%|██████████| 40/40 [00:00<00:00, 53.58it/s]\n"
     ]
    },
    {
     "name": "stdout",
     "output_type": "stream",
     "text": [
      "Epoch 42, Loss: 81.68307456970214\n"
     ]
    },
    {
     "name": "stderr",
     "output_type": "stream",
     "text": [
      "100%|██████████| 40/40 [00:00<00:00, 53.80it/s]\n"
     ]
    },
    {
     "name": "stdout",
     "output_type": "stream",
     "text": [
      "Epoch 43, Loss: 11549.784641075134\n"
     ]
    },
    {
     "name": "stderr",
     "output_type": "stream",
     "text": [
      "100%|██████████| 40/40 [00:00<00:00, 53.41it/s]\n"
     ]
    },
    {
     "name": "stdout",
     "output_type": "stream",
     "text": [
      "Epoch 44, Loss: 3097.6568862915037\n"
     ]
    },
    {
     "name": "stderr",
     "output_type": "stream",
     "text": [
      "100%|██████████| 40/40 [00:00<00:00, 52.82it/s]\n"
     ]
    },
    {
     "name": "stdout",
     "output_type": "stream",
     "text": [
      "Epoch 45, Loss: 154.80469188690185\n"
     ]
    },
    {
     "name": "stderr",
     "output_type": "stream",
     "text": [
      "100%|██████████| 40/40 [00:00<00:00, 54.14it/s]\n"
     ]
    },
    {
     "name": "stdout",
     "output_type": "stream",
     "text": [
      "Epoch 46, Loss: 71.27918434143066\n"
     ]
    },
    {
     "name": "stderr",
     "output_type": "stream",
     "text": [
      "100%|██████████| 40/40 [00:00<00:00, 51.90it/s]\n"
     ]
    },
    {
     "name": "stdout",
     "output_type": "stream",
     "text": [
      "Epoch 47, Loss: 66.90575580596924\n"
     ]
    },
    {
     "name": "stderr",
     "output_type": "stream",
     "text": [
      "100%|██████████| 40/40 [00:00<00:00, 49.94it/s]\n"
     ]
    },
    {
     "name": "stdout",
     "output_type": "stream",
     "text": [
      "Epoch 48, Loss: 65.41834840774536\n"
     ]
    },
    {
     "name": "stderr",
     "output_type": "stream",
     "text": [
      "100%|██████████| 40/40 [00:00<00:00, 53.49it/s]\n"
     ]
    },
    {
     "name": "stdout",
     "output_type": "stream",
     "text": [
      "Epoch 49, Loss: 64.12900524139404\n"
     ]
    },
    {
     "name": "stderr",
     "output_type": "stream",
     "text": [
      "100%|██████████| 40/40 [00:00<00:00, 53.20it/s]\n"
     ]
    },
    {
     "name": "stdout",
     "output_type": "stream",
     "text": [
      "Epoch 50, Loss: 62.65462169647217\n"
     ]
    },
    {
     "name": "stderr",
     "output_type": "stream",
     "text": [
      "100%|██████████| 40/40 [00:00<00:00, 53.90it/s]\n"
     ]
    },
    {
     "name": "stdout",
     "output_type": "stream",
     "text": [
      "Epoch 51, Loss: 61.943061923980714\n"
     ]
    },
    {
     "name": "stderr",
     "output_type": "stream",
     "text": [
      "100%|██████████| 40/40 [00:00<00:00, 54.07it/s]\n"
     ]
    },
    {
     "name": "stdout",
     "output_type": "stream",
     "text": [
      "Epoch 52, Loss: 60.89268684387207\n"
     ]
    },
    {
     "name": "stderr",
     "output_type": "stream",
     "text": [
      "100%|██████████| 40/40 [00:00<00:00, 54.10it/s]\n"
     ]
    },
    {
     "name": "stdout",
     "output_type": "stream",
     "text": [
      "Epoch 53, Loss: 59.35886678695679\n"
     ]
    },
    {
     "name": "stderr",
     "output_type": "stream",
     "text": [
      "100%|██████████| 40/40 [00:00<00:00, 52.52it/s]\n"
     ]
    },
    {
     "name": "stdout",
     "output_type": "stream",
     "text": [
      "Epoch 54, Loss: 61.97063760757446\n"
     ]
    },
    {
     "name": "stderr",
     "output_type": "stream",
     "text": [
      "100%|██████████| 40/40 [00:00<00:00, 53.28it/s]\n"
     ]
    },
    {
     "name": "stdout",
     "output_type": "stream",
     "text": [
      "Epoch 55, Loss: 5376.704878234863\n"
     ]
    },
    {
     "name": "stderr",
     "output_type": "stream",
     "text": [
      "100%|██████████| 40/40 [00:00<00:00, 53.23it/s]\n"
     ]
    },
    {
     "name": "stdout",
     "output_type": "stream",
     "text": [
      "Epoch 56, Loss: 172.52848787307738\n"
     ]
    },
    {
     "name": "stderr",
     "output_type": "stream",
     "text": [
      "100%|██████████| 40/40 [00:00<00:00, 51.90it/s]\n"
     ]
    },
    {
     "name": "stdout",
     "output_type": "stream",
     "text": [
      "Epoch 57, Loss: 56.97146635055542\n"
     ]
    },
    {
     "name": "stderr",
     "output_type": "stream",
     "text": [
      "100%|██████████| 40/40 [00:00<00:00, 53.84it/s]\n"
     ]
    },
    {
     "name": "stdout",
     "output_type": "stream",
     "text": [
      "Epoch 58, Loss: 121.50583267211914\n"
     ]
    },
    {
     "name": "stderr",
     "output_type": "stream",
     "text": [
      "100%|██████████| 40/40 [00:00<00:00, 53.52it/s]\n"
     ]
    },
    {
     "name": "stdout",
     "output_type": "stream",
     "text": [
      "Epoch 59, Loss: 2498.6584943771363\n"
     ]
    },
    {
     "name": "stderr",
     "output_type": "stream",
     "text": [
      "100%|██████████| 40/40 [00:00<00:00, 53.34it/s]\n"
     ]
    },
    {
     "name": "stdout",
     "output_type": "stream",
     "text": [
      "Epoch 60, Loss: 122.96171875\n"
     ]
    },
    {
     "name": "stderr",
     "output_type": "stream",
     "text": [
      "100%|██████████| 40/40 [00:00<00:00, 53.13it/s]\n"
     ]
    },
    {
     "name": "stdout",
     "output_type": "stream",
     "text": [
      "Epoch 61, Loss: 56.76302671432495\n"
     ]
    },
    {
     "name": "stderr",
     "output_type": "stream",
     "text": [
      "100%|██████████| 40/40 [00:00<00:00, 53.52it/s]\n"
     ]
    },
    {
     "name": "stdout",
     "output_type": "stream",
     "text": [
      "Epoch 62, Loss: 4881.062275123596\n"
     ]
    },
    {
     "name": "stderr",
     "output_type": "stream",
     "text": [
      "100%|██████████| 40/40 [00:00<00:00, 53.73it/s]\n"
     ]
    },
    {
     "name": "stdout",
     "output_type": "stream",
     "text": [
      "Epoch 63, Loss: 2320.0856845855715\n"
     ]
    },
    {
     "name": "stderr",
     "output_type": "stream",
     "text": [
      "100%|██████████| 40/40 [00:00<00:00, 53.65it/s]\n"
     ]
    },
    {
     "name": "stdout",
     "output_type": "stream",
     "text": [
      "Epoch 64, Loss: 129.95721502304076\n"
     ]
    },
    {
     "name": "stderr",
     "output_type": "stream",
     "text": [
      "100%|██████████| 40/40 [00:00<00:00, 53.54it/s]\n"
     ]
    },
    {
     "name": "stdout",
     "output_type": "stream",
     "text": [
      "Epoch 65, Loss: 75.00658731460571\n"
     ]
    },
    {
     "name": "stderr",
     "output_type": "stream",
     "text": [
      "100%|██████████| 40/40 [00:00<00:00, 54.22it/s]\n"
     ]
    },
    {
     "name": "stdout",
     "output_type": "stream",
     "text": [
      "Epoch 66, Loss: 5407.4126998901365\n"
     ]
    },
    {
     "name": "stderr",
     "output_type": "stream",
     "text": [
      "100%|██████████| 40/40 [00:00<00:00, 53.69it/s]\n"
     ]
    },
    {
     "name": "stdout",
     "output_type": "stream",
     "text": [
      "Epoch 67, Loss: 1092.2731384277345\n"
     ]
    },
    {
     "name": "stderr",
     "output_type": "stream",
     "text": [
      "100%|██████████| 40/40 [00:00<00:00, 52.85it/s]\n"
     ]
    },
    {
     "name": "stdout",
     "output_type": "stream",
     "text": [
      "Epoch 68, Loss: 87.10340843200683\n"
     ]
    },
    {
     "name": "stderr",
     "output_type": "stream",
     "text": [
      "100%|██████████| 40/40 [00:00<00:00, 53.75it/s]\n"
     ]
    },
    {
     "name": "stdout",
     "output_type": "stream",
     "text": [
      "Epoch 69, Loss: 80.81266489028931\n"
     ]
    },
    {
     "name": "stderr",
     "output_type": "stream",
     "text": [
      "100%|██████████| 40/40 [00:00<00:00, 54.26it/s]\n"
     ]
    },
    {
     "name": "stdout",
     "output_type": "stream",
     "text": [
      "Epoch 70, Loss: 4528.6463600158695\n"
     ]
    },
    {
     "name": "stderr",
     "output_type": "stream",
     "text": [
      "100%|██████████| 40/40 [00:00<00:00, 53.82it/s]\n"
     ]
    },
    {
     "name": "stdout",
     "output_type": "stream",
     "text": [
      "Epoch 71, Loss: 190.14444675445557\n"
     ]
    },
    {
     "name": "stderr",
     "output_type": "stream",
     "text": [
      "100%|██████████| 40/40 [00:00<00:00, 53.83it/s]\n"
     ]
    },
    {
     "name": "stdout",
     "output_type": "stream",
     "text": [
      "Epoch 72, Loss: 2595.4243462562563\n"
     ]
    },
    {
     "name": "stderr",
     "output_type": "stream",
     "text": [
      "100%|██████████| 40/40 [00:00<00:00, 54.27it/s]\n"
     ]
    },
    {
     "name": "stdout",
     "output_type": "stream",
     "text": [
      "Epoch 73, Loss: 1221.8102657318116\n"
     ]
    },
    {
     "name": "stderr",
     "output_type": "stream",
     "text": [
      "100%|██████████| 40/40 [00:00<00:00, 53.60it/s]\n"
     ]
    },
    {
     "name": "stdout",
     "output_type": "stream",
     "text": [
      "Epoch 74, Loss: 54.88917503356934\n"
     ]
    },
    {
     "name": "stderr",
     "output_type": "stream",
     "text": [
      "100%|██████████| 40/40 [00:00<00:00, 53.95it/s]\n"
     ]
    },
    {
     "name": "stdout",
     "output_type": "stream",
     "text": [
      "Epoch 75, Loss: 43.19752216339111\n"
     ]
    },
    {
     "name": "stderr",
     "output_type": "stream",
     "text": [
      "100%|██████████| 40/40 [00:00<00:00, 54.26it/s]\n"
     ]
    },
    {
     "name": "stdout",
     "output_type": "stream",
     "text": [
      "Epoch 76, Loss: 1301.1570356369018\n"
     ]
    },
    {
     "name": "stderr",
     "output_type": "stream",
     "text": [
      "100%|██████████| 40/40 [00:00<00:00, 54.42it/s]\n"
     ]
    },
    {
     "name": "stdout",
     "output_type": "stream",
     "text": [
      "Epoch 77, Loss: 808.6211471557617\n"
     ]
    },
    {
     "name": "stderr",
     "output_type": "stream",
     "text": [
      "100%|██████████| 40/40 [00:00<00:00, 53.87it/s]\n"
     ]
    },
    {
     "name": "stdout",
     "output_type": "stream",
     "text": [
      "Epoch 78, Loss: 59.78035774230957\n"
     ]
    },
    {
     "name": "stderr",
     "output_type": "stream",
     "text": [
      "100%|██████████| 40/40 [00:00<00:00, 53.92it/s]\n"
     ]
    },
    {
     "name": "stdout",
     "output_type": "stream",
     "text": [
      "Epoch 79, Loss: 1618.4667512893677\n"
     ]
    },
    {
     "name": "stderr",
     "output_type": "stream",
     "text": [
      "100%|██████████| 40/40 [00:00<00:00, 54.07it/s]\n"
     ]
    },
    {
     "name": "stdout",
     "output_type": "stream",
     "text": [
      "Epoch 80, Loss: 3666.441283607483\n"
     ]
    },
    {
     "name": "stderr",
     "output_type": "stream",
     "text": [
      "100%|██████████| 40/40 [00:00<00:00, 51.96it/s]\n"
     ]
    },
    {
     "name": "stdout",
     "output_type": "stream",
     "text": [
      "Epoch 81, Loss: 58.88143348693848\n"
     ]
    },
    {
     "name": "stderr",
     "output_type": "stream",
     "text": [
      "100%|██████████| 40/40 [00:00<00:00, 51.62it/s]\n"
     ]
    },
    {
     "name": "stdout",
     "output_type": "stream",
     "text": [
      "Epoch 82, Loss: 40.032183933258054\n"
     ]
    },
    {
     "name": "stderr",
     "output_type": "stream",
     "text": [
      "100%|██████████| 40/40 [00:00<00:00, 54.00it/s]\n"
     ]
    },
    {
     "name": "stdout",
     "output_type": "stream",
     "text": [
      "Epoch 83, Loss: 40.164271926879884\n"
     ]
    },
    {
     "name": "stderr",
     "output_type": "stream",
     "text": [
      "100%|██████████| 40/40 [00:00<00:00, 53.81it/s]\n"
     ]
    },
    {
     "name": "stdout",
     "output_type": "stream",
     "text": [
      "Epoch 84, Loss: 40.518621635437015\n"
     ]
    },
    {
     "name": "stderr",
     "output_type": "stream",
     "text": [
      "100%|██████████| 40/40 [00:00<00:00, 53.37it/s]\n"
     ]
    },
    {
     "name": "stdout",
     "output_type": "stream",
     "text": [
      "Epoch 85, Loss: 44.3209903717041\n"
     ]
    },
    {
     "name": "stderr",
     "output_type": "stream",
     "text": [
      "100%|██████████| 40/40 [00:00<00:00, 52.55it/s]\n"
     ]
    },
    {
     "name": "stdout",
     "output_type": "stream",
     "text": [
      "Epoch 86, Loss: 3593.0267372131348\n"
     ]
    },
    {
     "name": "stderr",
     "output_type": "stream",
     "text": [
      "100%|██████████| 40/40 [00:00<00:00, 51.13it/s]\n"
     ]
    },
    {
     "name": "stdout",
     "output_type": "stream",
     "text": [
      "Epoch 87, Loss: 617.5664474487305\n"
     ]
    },
    {
     "name": "stderr",
     "output_type": "stream",
     "text": [
      "100%|██████████| 40/40 [00:00<00:00, 52.55it/s]\n"
     ]
    },
    {
     "name": "stdout",
     "output_type": "stream",
     "text": [
      "Epoch 88, Loss: 62.541333293914796\n"
     ]
    },
    {
     "name": "stderr",
     "output_type": "stream",
     "text": [
      "100%|██████████| 40/40 [00:00<00:00, 54.01it/s]\n"
     ]
    },
    {
     "name": "stdout",
     "output_type": "stream",
     "text": [
      "Epoch 89, Loss: 43.064270210266116\n"
     ]
    },
    {
     "name": "stderr",
     "output_type": "stream",
     "text": [
      "100%|██████████| 40/40 [00:00<00:00, 52.98it/s]\n"
     ]
    },
    {
     "name": "stdout",
     "output_type": "stream",
     "text": [
      "Epoch 90, Loss: 1761.169014263153\n"
     ]
    },
    {
     "name": "stderr",
     "output_type": "stream",
     "text": [
      "100%|██████████| 40/40 [00:00<00:00, 53.79it/s]\n"
     ]
    },
    {
     "name": "stdout",
     "output_type": "stream",
     "text": [
      "Epoch 91, Loss: 535.5638292312622\n"
     ]
    },
    {
     "name": "stderr",
     "output_type": "stream",
     "text": [
      "100%|██████████| 40/40 [00:00<00:00, 54.41it/s]\n"
     ]
    },
    {
     "name": "stdout",
     "output_type": "stream",
     "text": [
      "Epoch 92, Loss: 159.35498733520507\n"
     ]
    },
    {
     "name": "stderr",
     "output_type": "stream",
     "text": [
      "100%|██████████| 40/40 [00:00<00:00, 54.15it/s]\n"
     ]
    },
    {
     "name": "stdout",
     "output_type": "stream",
     "text": [
      "Epoch 93, Loss: 73.55949935913085\n"
     ]
    },
    {
     "name": "stderr",
     "output_type": "stream",
     "text": [
      "100%|██████████| 40/40 [00:00<00:00, 53.20it/s]\n"
     ]
    },
    {
     "name": "stdout",
     "output_type": "stream",
     "text": [
      "Epoch 94, Loss: 811.6584080696106\n"
     ]
    },
    {
     "name": "stderr",
     "output_type": "stream",
     "text": [
      "100%|██████████| 40/40 [00:00<00:00, 53.29it/s]\n"
     ]
    },
    {
     "name": "stdout",
     "output_type": "stream",
     "text": [
      "Epoch 95, Loss: 1438.2909072875977\n"
     ]
    },
    {
     "name": "stderr",
     "output_type": "stream",
     "text": [
      "100%|██████████| 40/40 [00:00<00:00, 53.64it/s]\n"
     ]
    },
    {
     "name": "stdout",
     "output_type": "stream",
     "text": [
      "Epoch 96, Loss: 785.5619886398315\n"
     ]
    },
    {
     "name": "stderr",
     "output_type": "stream",
     "text": [
      "100%|██████████| 40/40 [00:00<00:00, 52.43it/s]\n"
     ]
    },
    {
     "name": "stdout",
     "output_type": "stream",
     "text": [
      "Epoch 97, Loss: 64.33268938064575\n"
     ]
    },
    {
     "name": "stderr",
     "output_type": "stream",
     "text": [
      "100%|██████████| 40/40 [00:00<00:00, 54.17it/s]\n"
     ]
    },
    {
     "name": "stdout",
     "output_type": "stream",
     "text": [
      "Epoch 98, Loss: 39.31035137176514\n"
     ]
    },
    {
     "name": "stderr",
     "output_type": "stream",
     "text": [
      "100%|██████████| 40/40 [00:00<00:00, 54.62it/s]\n"
     ]
    },
    {
     "name": "stdout",
     "output_type": "stream",
     "text": [
      "Epoch 99, Loss: 39.19460277557373\n"
     ]
    },
    {
     "name": "stderr",
     "output_type": "stream",
     "text": [
      "100%|██████████| 40/40 [00:00<00:00, 53.43it/s]\n"
     ]
    },
    {
     "name": "stdout",
     "output_type": "stream",
     "text": [
      "Epoch 100, Loss: 706.0038439750672\n",
      "Training time: 75.85685658454895 seconds\n"
     ]
    }
   ],
   "source": [
    "from st_DynGNN import run\n",
    "import torch\n",
    "import time\n",
    "\n",
    "# Set devices to CPU only\n",
    "devices = torch.device(\"cpu\")\n",
    "\n",
    "\n",
    "start_time = time.time()\n",
    "\n",
    "if __name__ == '__main__':\n",
    "    run(0, [0], dgl_graph) "
   ]
  },
  {
   "cell_type": "code",
   "execution_count": 26,
   "metadata": {},
   "outputs": [
    {
     "data": {
      "text/plain": [
       "40"
      ]
     },
     "execution_count": 26,
     "metadata": {},
     "output_type": "execute_result"
    }
   ],
   "source": [
    "from st_DynGNN import run\n",
    "import torch.multiprocessing as mp\n",
    "import time\n",
    "\n",
    "num_cpus = mp.cpu_count()\n",
    "num_cpus"
   ]
  },
  {
   "cell_type": "code",
   "execution_count": 17,
   "metadata": {},
   "outputs": [],
   "source": [
    "# from st_DynGNN_CPU import run\n",
    "# import torch.multiprocessing as mp\n",
    "# import time\n",
    "\n",
    "# def init_process(proc_id, devices, dgl_graph):\n",
    "#     torch.set_num_threads(1)  # Ensure that each process uses a single CPU core\n",
    "#     run(proc_id, devices, dgl_graph)\n",
    "\n",
    "# if __name__ == '__main__':\n",
    "#     num_cpus = mp.cpu_count()\n",
    "\n",
    "#     start_time = time.time()\n",
    "\n",
    "#     mp.spawn(init_process, args=(list(range(num_cpus)), devices, dgl_graph), nprocs=num_cpus)\n"
   ]
  },
  {
   "cell_type": "code",
   "execution_count": null,
   "metadata": {},
   "outputs": [],
   "source": []
  },
  {
   "cell_type": "code",
   "execution_count": 48,
   "metadata": {},
   "outputs": [
    {
     "name": "stderr",
     "output_type": "stream",
     "text": [
      "/home/rxf131/ondemand/ubuntu2204/python310/torch_geometric/typing.py:47: UserWarning: An issue occurred while importing 'pyg-lib'. Disabling its usage. Stacktrace: libcudart.so.12: cannot open shared object file: No such file or directory\n",
      "  warnings.warn(f\"An issue occurred while importing 'pyg-lib'. \"\n",
      "/home/rxf131/ondemand/ubuntu2204/python310/torch_geometric/typing.py:47: UserWarning: An issue occurred while importing 'pyg-lib'. Disabling its usage. Stacktrace: libcudart.so.12: cannot open shared object file: No such file or directory\n",
      "  warnings.warn(f\"An issue occurred while importing 'pyg-lib'. \"\n",
      "/home/rxf131/ondemand/ubuntu2204/python310/torch_geometric/typing.py:101: UserWarning: An issue occurred while importing 'torch-sparse'. Disabling its usage. Stacktrace: libcudart.so.12: cannot open shared object file: No such file or directory\n",
      "  warnings.warn(f\"An issue occurred while importing 'torch-sparse'. \"\n",
      "/home/rxf131/ondemand/ubuntu2204/python310/torch_geometric/typing.py:101: UserWarning: An issue occurred while importing 'torch-sparse'. Disabling its usage. Stacktrace: libcudart.so.12: cannot open shared object file: No such file or directory\n",
      "  warnings.warn(f\"An issue occurred while importing 'torch-sparse'. \"\n",
      "/home/rxf131/ondemand/ubuntu2204/python310/torch_geometric/typing.py:47: UserWarning: An issue occurred while importing 'pyg-lib'. Disabling its usage. Stacktrace: libcudart.so.12: cannot open shared object file: No such file or directory\n",
      "  warnings.warn(f\"An issue occurred while importing 'pyg-lib'. \"\n",
      "/home/rxf131/ondemand/ubuntu2204/python310/torch_geometric/typing.py:101: UserWarning: An issue occurred while importing 'torch-sparse'. Disabling its usage. Stacktrace: libcudart.so.12: cannot open shared object file: No such file or directory\n",
      "  warnings.warn(f\"An issue occurred while importing 'torch-sparse'. \"\n",
      "100%|██████████| 2/2 [00:00<00:00,  4.19it/s]\n",
      "100%|██████████| 2/2 [00:00<00:00,  4.20it/s]\n",
      "100%|██████████| 2/2 [00:00<00:00,  4.19it/s]\n",
      " 50%|█████     | 1/2 [00:00<00:00,  5.96it/s]"
     ]
    },
    {
     "name": "stdout",
     "output_type": "stream",
     "text": [
      "Epoch 1, Loss: 7072.731201171875\n",
      "Epoch 1, Loss: 9169.36328125\n",
      "Epoch 1, Loss: 7506.7197265625\n"
     ]
    },
    {
     "name": "stderr",
     "output_type": "stream",
     "text": [
      "100%|██████████| 2/2 [00:00<00:00,  7.08it/s]\n",
      "100%|██████████| 2/2 [00:00<00:00,  7.07it/s]\n",
      "100%|██████████| 2/2 [00:00<00:00,  7.07it/s]\n",
      " 50%|█████     | 1/2 [00:00<00:00,  5.40it/s]"
     ]
    },
    {
     "name": "stdout",
     "output_type": "stream",
     "text": [
      "Epoch 2, Loss: 2893.297119140625\n",
      "Epoch 2, Loss: 2231.4057006835938\n",
      "Epoch 2, Loss: 2370.503662109375\n"
     ]
    },
    {
     "name": "stderr",
     "output_type": "stream",
     "text": [
      "100%|██████████| 2/2 [00:00<00:00,  6.53it/s]\n",
      "100%|██████████| 2/2 [00:00<00:00,  6.51it/s]\n",
      "100%|██████████| 2/2 [00:00<00:00,  6.49it/s]\n",
      " 50%|█████     | 1/2 [00:00<00:00,  5.29it/s]"
     ]
    },
    {
     "name": "stdout",
     "output_type": "stream",
     "text": [
      "Epoch 3, Loss: 1334.0468139648438\n",
      "Epoch 3, Loss: 1433.8218383789062\n",
      "Epoch 3, Loss: 4222.963073730469\n"
     ]
    },
    {
     "name": "stderr",
     "output_type": "stream",
     "text": [
      "100%|██████████| 2/2 [00:00<00:00,  6.35it/s]\n",
      "100%|██████████| 2/2 [00:00<00:00,  6.34it/s]\n",
      "100%|██████████| 2/2 [00:00<00:00,  6.35it/s]\n",
      " 50%|█████     | 1/2 [00:00<00:00,  5.57it/s]"
     ]
    },
    {
     "name": "stdout",
     "output_type": "stream",
     "text": [
      "Epoch 4, Loss: 3021.8576049804688\n",
      "Epoch 4, Loss: 2876.469970703125\n",
      "Epoch 4, Loss: 3212.945068359375\n"
     ]
    },
    {
     "name": "stderr",
     "output_type": "stream",
     "text": [
      "100%|██████████| 2/2 [00:00<00:00,  6.45it/s]\n",
      "100%|██████████| 2/2 [00:00<00:00,  6.47it/s]\n",
      "100%|██████████| 2/2 [00:00<00:00,  6.44it/s]\n",
      " 50%|█████     | 1/2 [00:00<00:00,  5.25it/s]"
     ]
    },
    {
     "name": "stdout",
     "output_type": "stream",
     "text": [
      "Epoch 5, Loss: 1809.5053100585938\n",
      "Epoch 5, Loss: 1796.70263671875\n",
      "Epoch 5, Loss: 1497.23974609375\n"
     ]
    },
    {
     "name": "stderr",
     "output_type": "stream",
     "text": [
      "100%|██████████| 2/2 [00:00<00:00,  6.16it/s]\n",
      "100%|██████████| 2/2 [00:00<00:00,  6.17it/s]\n",
      "100%|██████████| 2/2 [00:00<00:00,  6.14it/s]\n",
      "  0%|          | 0/2 [00:00<?, ?it/s]"
     ]
    },
    {
     "name": "stdout",
     "output_type": "stream",
     "text": [
      "Epoch 6, Loss: 1684.3629150390625\n",
      "Epoch 6, Loss: 1405.3126831054688\n",
      "Epoch 6, Loss: 1736.6686401367188\n"
     ]
    },
    {
     "name": "stderr",
     "output_type": "stream",
     "text": [
      "100%|██████████| 2/2 [00:00<00:00,  6.24it/s]\n",
      "100%|██████████| 2/2 [00:00<00:00,  6.24it/s]\n",
      "100%|██████████| 2/2 [00:00<00:00,  6.24it/s]\n",
      "  0%|          | 0/2 [00:00<?, ?it/s]"
     ]
    },
    {
     "name": "stdout",
     "output_type": "stream",
     "text": [
      "Epoch 7, Loss: 1149.2384033203125\n",
      "Epoch 7, Loss: 1348.5330810546875\n",
      "Epoch 7, Loss: 1462.4942626953125\n"
     ]
    },
    {
     "name": "stderr",
     "output_type": "stream",
     "text": [
      "100%|██████████| 2/2 [00:00<00:00,  6.90it/s]\n",
      "100%|██████████| 2/2 [00:00<00:00,  6.92it/s]\n",
      "100%|██████████| 2/2 [00:00<00:00,  6.88it/s]\n",
      "  0%|          | 0/2 [00:00<?, ?it/s]"
     ]
    },
    {
     "name": "stdout",
     "output_type": "stream",
     "text": [
      "Epoch 8, Loss: 1101.7160034179688\n",
      "Epoch 8, Loss: 1300.5372314453125\n",
      "Epoch 8, Loss: 937.9090881347656\n"
     ]
    },
    {
     "name": "stderr",
     "output_type": "stream",
     "text": [
      "100%|██████████| 2/2 [00:00<00:00,  6.34it/s]\n",
      "\n",
      "100%|██████████| 2/2 [00:00<00:00,  6.31it/s]\n",
      "  0%|          | 0/2 [00:00<?, ?it/s]"
     ]
    },
    {
     "name": "stdout",
     "output_type": "stream",
     "text": [
      "Epoch 9, Loss: 1464.645751953125\n",
      "Epoch 9, Loss: 853.4632873535156\n",
      "Epoch 9, Loss: 928.2352905273438\n"
     ]
    },
    {
     "name": "stderr",
     "output_type": "stream",
     "text": [
      "100%|██████████| 2/2 [00:00<00:00,  6.18it/s]\n",
      "100%|██████████| 2/2 [00:00<00:00,  6.17it/s]\n",
      "100%|██████████| 2/2 [00:00<00:00,  6.17it/s]\n",
      "  0%|          | 0/2 [00:00<?, ?it/s]"
     ]
    },
    {
     "name": "stdout",
     "output_type": "stream",
     "text": [
      "Epoch 10, Loss: 773.4563598632812\n",
      "Epoch 10, Loss: 1440.7555541992188\n",
      "Epoch 10, Loss: 833.5324096679688\n"
     ]
    },
    {
     "name": "stderr",
     "output_type": "stream",
     "text": [
      "100%|██████████| 2/2 [00:00<00:00,  6.14it/s]\n",
      "100%|██████████| 2/2 [00:00<00:00,  6.15it/s]\n",
      "100%|██████████| 2/2 [00:00<00:00,  6.14it/s]\n",
      "  0%|          | 0/2 [00:00<?, ?it/s]"
     ]
    },
    {
     "name": "stdout",
     "output_type": "stream",
     "text": [
      "Epoch 11, Loss: 712.7861328125\n",
      "Epoch 11, Loss: 755.8838500976562\n",
      "Epoch 11, Loss: 1170.3223266601562\n"
     ]
    },
    {
     "name": "stderr",
     "output_type": "stream",
     "text": [
      "100%|██████████| 2/2 [00:00<00:00,  6.08it/s]\n",
      "\n",
      "100%|██████████| 2/2 [00:00<00:00,  6.06it/s]\n",
      "  0%|          | 0/2 [00:00<?, ?it/s]"
     ]
    },
    {
     "name": "stdout",
     "output_type": "stream",
     "text": [
      "Epoch 12, Loss: 1021.18603515625\n",
      "Epoch 12, Loss: 686.3341369628906\n",
      "Epoch 12, Loss: 589.1424560546875\n"
     ]
    },
    {
     "name": "stderr",
     "output_type": "stream",
     "text": [
      "100%|██████████| 2/2 [00:00<00:00,  5.93it/s]\n",
      "100%|██████████| 2/2 [00:00<00:00,  5.92it/s]\n",
      "100%|██████████| 2/2 [00:00<00:00,  5.91it/s]\n",
      "  0%|          | 0/2 [00:00<?, ?it/s]"
     ]
    },
    {
     "name": "stdout",
     "output_type": "stream",
     "text": [
      "Epoch 13, Loss: 567.0139465332031\n",
      "Epoch 13, Loss: 635.1471557617188\n",
      "Epoch 13, Loss: 928.9345703125\n"
     ]
    },
    {
     "name": "stderr",
     "output_type": "stream",
     "text": [
      "100%|██████████| 2/2 [00:00<00:00,  6.27it/s]\n",
      "\n",
      "100%|██████████| 2/2 [00:00<00:00,  6.27it/s]\n",
      "  0%|          | 0/2 [00:00<?, ?it/s]"
     ]
    },
    {
     "name": "stdout",
     "output_type": "stream",
     "text": [
      "Epoch 14, Loss: 521.0521240234375\n",
      "Epoch 14, Loss: 655.6990356445312\n",
      "Epoch 14, Loss: 820.929931640625\n"
     ]
    },
    {
     "name": "stderr",
     "output_type": "stream",
     "text": [
      "100%|██████████| 2/2 [00:00<00:00,  6.39it/s]\n",
      "100%|██████████| 2/2 [00:00<00:00,  6.37it/s]\n",
      "100%|██████████| 2/2 [00:00<00:00,  6.36it/s]\n",
      "  0%|          | 0/2 [00:00<?, ?it/s]"
     ]
    },
    {
     "name": "stdout",
     "output_type": "stream",
     "text": [
      "Epoch 15, Loss: 747.8830871582031\n",
      "Epoch 15, Loss: 559.2969970703125\n",
      "Epoch 15, Loss: 462.552978515625\n"
     ]
    },
    {
     "name": "stderr",
     "output_type": "stream",
     "text": [
      "100%|██████████| 2/2 [00:00<00:00,  6.40it/s]\n",
      "100%|██████████| 2/2 [00:00<00:00,  6.40it/s]\n",
      "100%|██████████| 2/2 [00:00<00:00,  6.40it/s]\n",
      "  0%|          | 0/2 [00:00<?, ?it/s]"
     ]
    },
    {
     "name": "stdout",
     "output_type": "stream",
     "text": [
      "Epoch 16, Loss: 497.4799499511719\n",
      "Epoch 16, Loss: 670.6676330566406\n",
      "Epoch 16, Loss: 412.3485565185547\n"
     ]
    },
    {
     "name": "stderr",
     "output_type": "stream",
     "text": [
      "100%|██████████| 2/2 [00:00<00:00,  6.42it/s]\n",
      "100%|██████████| 2/2 [00:00<00:00,  6.40it/s]\n",
      "100%|██████████| 2/2 [00:00<00:00,  6.39it/s]\n",
      "  0%|          | 0/2 [00:00<?, ?it/s]"
     ]
    },
    {
     "name": "stdout",
     "output_type": "stream",
     "text": [
      "Epoch 17, Loss: 372.91355895996094\n",
      "Epoch 17, Loss: 481.917236328125\n",
      "Epoch 17, Loss: 702.1010589599609\n"
     ]
    },
    {
     "name": "stderr",
     "output_type": "stream",
     "text": [
      "100%|██████████| 2/2 [00:00<00:00,  6.42it/s]\n",
      "\n",
      "100%|██████████| 2/2 [00:00<00:00,  6.42it/s]\n",
      "  0%|          | 0/2 [00:00<?, ?it/s]"
     ]
    },
    {
     "name": "stdout",
     "output_type": "stream",
     "text": [
      "Epoch 18, Loss: 351.5700378417969\n",
      "Epoch 18, Loss: 417.2327575683594\n",
      "Epoch 18, Loss: 647.7259521484375\n"
     ]
    },
    {
     "name": "stderr",
     "output_type": "stream",
     "text": [
      "100%|██████████| 2/2 [00:00<00:00,  6.74it/s]\n",
      "100%|██████████| 2/2 [00:00<00:00,  6.74it/s]\n",
      "100%|██████████| 2/2 [00:00<00:00,  6.74it/s]\n",
      "  0%|          | 0/2 [00:00<?, ?it/s]"
     ]
    },
    {
     "name": "stdout",
     "output_type": "stream",
     "text": [
      "Epoch 19, Loss: 414.54541015625\n",
      "Epoch 19, Loss: 315.32806396484375\n",
      "Epoch 19, Loss: 517.4059143066406\n"
     ]
    },
    {
     "name": "stderr",
     "output_type": "stream",
     "text": [
      "100%|██████████| 2/2 [00:00<00:00,  6.30it/s]\n",
      "100%|██████████| 2/2 [00:00<00:00,  6.30it/s]\n",
      "100%|██████████| 2/2 [00:00<00:00,  6.30it/s]\n",
      "  0%|          | 0/2 [00:00<?, ?it/s]"
     ]
    },
    {
     "name": "stdout",
     "output_type": "stream",
     "text": [
      "Epoch 20, Loss: 359.93287658691406\n",
      "Epoch 20, Loss: 280.2572479248047\n",
      "Epoch 20, Loss: 469.10589599609375\n"
     ]
    },
    {
     "name": "stderr",
     "output_type": "stream",
     "text": [
      "100%|██████████| 2/2 [00:00<00:00,  6.42it/s]\n",
      "100%|██████████| 2/2 [00:00<00:00,  6.43it/s]\n",
      "100%|██████████| 2/2 [00:00<00:00,  6.41it/s]\n",
      "  0%|          | 0/2 [00:00<?, ?it/s]"
     ]
    },
    {
     "name": "stdout",
     "output_type": "stream",
     "text": [
      "Epoch 21, Loss: 343.25189208984375\n",
      "Epoch 21, Loss: 422.9939270019531\n",
      "Epoch 21, Loss: 252.33935546875\n"
     ]
    },
    {
     "name": "stderr",
     "output_type": "stream",
     "text": [
      "100%|██████████| 2/2 [00:00<00:00,  6.60it/s]\n",
      "100%|██████████| 2/2 [00:00<00:00,  6.60it/s]\n",
      "100%|██████████| 2/2 [00:00<00:00,  6.60it/s]\n",
      "  0%|          | 0/2 [00:00<?, ?it/s]"
     ]
    },
    {
     "name": "stdout",
     "output_type": "stream",
     "text": [
      "Epoch 22, Loss: 338.94972229003906\n",
      "Epoch 22, Loss: 393.98699951171875\n",
      "Epoch 22, Loss: 245.5183563232422\n"
     ]
    },
    {
     "name": "stderr",
     "output_type": "stream",
     "text": [
      "100%|██████████| 2/2 [00:00<00:00,  6.24it/s]\n",
      "\n",
      "100%|██████████| 2/2 [00:00<00:00,  6.24it/s]\n",
      "  0%|          | 0/2 [00:00<?, ?it/s]"
     ]
    },
    {
     "name": "stdout",
     "output_type": "stream",
     "text": [
      "Epoch 23, Loss: 355.4060363769531\n",
      "Epoch 23, Loss: 291.8644256591797\n",
      "Epoch 23, Loss: 226.5390167236328\n"
     ]
    },
    {
     "name": "stderr",
     "output_type": "stream",
     "text": [
      "100%|██████████| 2/2 [00:00<00:00,  6.17it/s]\n",
      "100%|██████████| 2/2 [00:00<00:00,  6.17it/s]\n",
      "100%|██████████| 2/2 [00:00<00:00,  6.18it/s]\n",
      "  0%|          | 0/2 [00:00<?, ?it/s]"
     ]
    },
    {
     "name": "stdout",
     "output_type": "stream",
     "text": [
      "Epoch 24, Loss: 331.2364501953125\n",
      "Epoch 24, Loss: 270.8831024169922\n",
      "Epoch 24, Loss: 204.54814910888672\n"
     ]
    },
    {
     "name": "stderr",
     "output_type": "stream",
     "text": [
      "100%|██████████| 2/2 [00:00<00:00,  6.61it/s]\n",
      "100%|██████████| 2/2 [00:00<00:00,  6.63it/s]\n",
      "100%|██████████| 2/2 [00:00<00:00,  6.60it/s]\n",
      "  0%|          | 0/2 [00:00<?, ?it/s]"
     ]
    },
    {
     "name": "stdout",
     "output_type": "stream",
     "text": [
      "Epoch 25, Loss: 337.65895080566406\n",
      "Epoch 25, Loss: 182.7799835205078\n",
      "Epoch 25, Loss: 256.05164337158203\n"
     ]
    },
    {
     "name": "stderr",
     "output_type": "stream",
     "text": [
      "100%|██████████| 2/2 [00:00<00:00,  6.32it/s]\n",
      "100%|██████████| 2/2 [00:00<00:00,  6.33it/s]\n",
      "100%|██████████| 2/2 [00:00<00:00,  6.31it/s]\n",
      "  0%|          | 0/2 [00:00<?, ?it/s]"
     ]
    },
    {
     "name": "stdout",
     "output_type": "stream",
     "text": [
      "Epoch 26, Loss: 302.57960510253906\n",
      "Epoch 26, Loss: 245.51268768310547\n",
      "Epoch 26, Loss: 188.5587158203125\n"
     ]
    },
    {
     "name": "stderr",
     "output_type": "stream",
     "text": [
      "100%|██████████| 2/2 [00:00<00:00,  6.31it/s]\n",
      "100%|██████████| 2/2 [00:00<00:00,  6.30it/s]\n",
      "100%|██████████| 2/2 [00:00<00:00,  6.31it/s]\n",
      "  0%|          | 0/2 [00:00<?, ?it/s]"
     ]
    },
    {
     "name": "stdout",
     "output_type": "stream",
     "text": [
      "Epoch 27, Loss: 304.154541015625\n",
      "Epoch 27, Loss: 172.49822998046875\n",
      "Epoch 27, Loss: 266.37522888183594\n"
     ]
    },
    {
     "name": "stderr",
     "output_type": "stream",
     "text": [
      "100%|██████████| 2/2 [00:00<00:00,  6.51it/s]\n",
      "100%|██████████| 2/2 [00:00<00:00,  6.52it/s]\n",
      "100%|██████████| 2/2 [00:00<00:00,  6.51it/s]\n",
      "  0%|          | 0/2 [00:00<?, ?it/s]"
     ]
    },
    {
     "name": "stdout",
     "output_type": "stream",
     "text": [
      "Epoch 28, Loss: 267.74051666259766\n",
      "Epoch 28, Loss: 152.36087036132812\n",
      "Epoch 28, Loss: 246.4224395751953\n"
     ]
    },
    {
     "name": "stderr",
     "output_type": "stream",
     "text": [
      "100%|██████████| 2/2 [00:00<00:00,  6.44it/s]\n",
      "100%|██████████| 2/2 [00:00<00:00,  6.44it/s]\n",
      "100%|██████████| 2/2 [00:00<00:00,  6.44it/s]\n",
      "  0%|          | 0/2 [00:00<?, ?it/s]"
     ]
    },
    {
     "name": "stdout",
     "output_type": "stream",
     "text": [
      "Epoch 29, Loss: 265.1304702758789\n",
      "Epoch 29, Loss: 150.7556381225586\n",
      "Epoch 29, Loss: 251.04703521728516\n"
     ]
    },
    {
     "name": "stderr",
     "output_type": "stream",
     "text": [
      "100%|██████████| 2/2 [00:00<00:00,  6.54it/s]\n",
      "100%|██████████| 2/2 [00:00<00:00,  6.53it/s]\n",
      "100%|██████████| 2/2 [00:00<00:00,  6.52it/s]\n",
      "  0%|          | 0/2 [00:00<?, ?it/s]"
     ]
    },
    {
     "name": "stdout",
     "output_type": "stream",
     "text": [
      "Epoch 30, Loss: 227.6612319946289\n",
      "Epoch 30, Loss: 236.45066833496094\n",
      "Epoch 30, Loss: 144.28771209716797\n"
     ]
    },
    {
     "name": "stderr",
     "output_type": "stream",
     "text": [
      "100%|██████████| 2/2 [00:00<00:00,  6.45it/s]\n",
      "100%|██████████| 2/2 [00:00<00:00,  6.44it/s]\n",
      "100%|██████████| 2/2 [00:00<00:00,  6.45it/s]\n",
      "  0%|          | 0/2 [00:00<?, ?it/s]"
     ]
    },
    {
     "name": "stdout",
     "output_type": "stream",
     "text": [
      "Epoch 31, Loss: 242.8225555419922\n",
      "Epoch 31, Loss: 209.0591278076172\n",
      "Epoch 31, Loss: 138.46017456054688\n"
     ]
    },
    {
     "name": "stderr",
     "output_type": "stream",
     "text": [
      "100%|██████████| 2/2 [00:00<00:00,  6.50it/s]\n",
      "100%|██████████| 2/2 [00:00<00:00,  6.51it/s]\n",
      "100%|██████████| 2/2 [00:00<00:00,  6.50it/s]\n",
      "  0%|          | 0/2 [00:00<?, ?it/s]"
     ]
    },
    {
     "name": "stdout",
     "output_type": "stream",
     "text": [
      "Epoch 32, Loss: 222.32333374023438\n",
      "Epoch 32, Loss: 128.96930313110352\n",
      "Epoch 32, Loss: 211.2436065673828\n"
     ]
    },
    {
     "name": "stderr",
     "output_type": "stream",
     "text": [
      "100%|██████████| 2/2 [00:00<00:00,  6.38it/s]\n",
      "\n",
      "100%|██████████| 2/2 [00:00<00:00,  6.38it/s]\n",
      "  0%|          | 0/2 [00:00<?, ?it/s]"
     ]
    },
    {
     "name": "stdout",
     "output_type": "stream",
     "text": [
      "Epoch 33, Loss: 210.1522979736328\n",
      "Epoch 33, Loss: 134.8876190185547\n",
      "Epoch 33, Loss: 205.00253295898438\n"
     ]
    },
    {
     "name": "stderr",
     "output_type": "stream",
     "text": [
      "100%|██████████| 2/2 [00:00<00:00,  6.32it/s]\n",
      "\n",
      "100%|██████████| 2/2 [00:00<00:00,  6.32it/s]\n",
      "  0%|          | 0/2 [00:00<?, ?it/s]"
     ]
    },
    {
     "name": "stdout",
     "output_type": "stream",
     "text": [
      "Epoch 34, Loss: 203.0185089111328\n",
      "Epoch 34, Loss: 125.39126205444336\n",
      "Epoch 34, Loss: 206.09353637695312\n"
     ]
    },
    {
     "name": "stderr",
     "output_type": "stream",
     "text": [
      "100%|██████████| 2/2 [00:00<00:00,  6.34it/s]\n",
      "100%|██████████| 2/2 [00:00<00:00,  6.34it/s]\n",
      "100%|██████████| 2/2 [00:00<00:00,  6.34it/s]\n",
      "  0%|          | 0/2 [00:00<?, ?it/s]"
     ]
    },
    {
     "name": "stdout",
     "output_type": "stream",
     "text": [
      "Epoch 35, Loss: 200.88978576660156\n",
      "Epoch 35, Loss: 118.73308563232422\n",
      "Epoch 35, Loss: 183.44178009033203\n"
     ]
    },
    {
     "name": "stderr",
     "output_type": "stream",
     "text": [
      "100%|██████████| 2/2 [00:00<00:00,  6.33it/s]\n",
      "\n",
      "100%|██████████| 2/2 [00:00<00:00,  6.31it/s]\n",
      "  0%|          | 0/2 [00:00<?, ?it/s]"
     ]
    },
    {
     "name": "stdout",
     "output_type": "stream",
     "text": [
      "Epoch 36, Loss: 117.99768829345703\n",
      "Epoch 36, Loss: 177.8993911743164\n",
      "Epoch 36, Loss: 192.1693572998047\n"
     ]
    },
    {
     "name": "stderr",
     "output_type": "stream",
     "text": [
      "100%|██████████| 2/2 [00:00<00:00,  6.61it/s]\n",
      "100%|██████████| 2/2 [00:00<00:00,  6.62it/s]\n",
      "100%|██████████| 2/2 [00:00<00:00,  6.59it/s]\n",
      "  0%|          | 0/2 [00:00<?, ?it/s]"
     ]
    },
    {
     "name": "stdout",
     "output_type": "stream",
     "text": [
      "Epoch 37, Loss: 197.58153533935547\n",
      "Epoch 37, Loss: 180.73993682861328\n",
      "Epoch 37, Loss: 110.81842041015625\n"
     ]
    },
    {
     "name": "stderr",
     "output_type": "stream",
     "text": [
      "100%|██████████| 2/2 [00:00<00:00,  6.35it/s]\n",
      "100%|██████████| 2/2 [00:00<00:00,  6.35it/s]\n",
      "100%|██████████| 2/2 [00:00<00:00,  6.35it/s]\n",
      "  0%|          | 0/2 [00:00<?, ?it/s]"
     ]
    },
    {
     "name": "stdout",
     "output_type": "stream",
     "text": [
      "Epoch 38, Loss: 173.93350982666016\n",
      "Epoch 38, Loss: 180.94803619384766\n",
      "Epoch 38, Loss: 108.9325065612793\n"
     ]
    },
    {
     "name": "stderr",
     "output_type": "stream",
     "text": [
      "100%|██████████| 2/2 [00:00<00:00,  6.47it/s]\n",
      "100%|██████████| 2/2 [00:00<00:00,  6.45it/s]\n",
      "100%|██████████| 2/2 [00:00<00:00,  6.44it/s]\n",
      "  0%|          | 0/2 [00:00<?, ?it/s]"
     ]
    },
    {
     "name": "stdout",
     "output_type": "stream",
     "text": [
      "Epoch 39, Loss: 107.7601203918457\n",
      "Epoch 39, Loss: 170.68533325195312\n",
      "Epoch 39, Loss: 180.3384552001953\n"
     ]
    },
    {
     "name": "stderr",
     "output_type": "stream",
     "text": [
      "100%|██████████| 2/2 [00:00<00:00,  6.60it/s]\n",
      "\n",
      "100%|██████████| 2/2 [00:00<00:00,  6.60it/s]\n",
      "  0%|          | 0/2 [00:00<?, ?it/s]"
     ]
    },
    {
     "name": "stdout",
     "output_type": "stream",
     "text": [
      "Epoch 40, Loss: 102.38620376586914\n",
      "Epoch 40, Loss: 179.12210083007812\n",
      "Epoch 40, Loss: 174.35526657104492\n"
     ]
    },
    {
     "name": "stderr",
     "output_type": "stream",
     "text": [
      "100%|██████████| 2/2 [00:00<00:00,  6.51it/s]\n",
      "100%|██████████| 2/2 [00:00<00:00,  6.51it/s]\n",
      "100%|██████████| 2/2 [00:00<00:00,  6.51it/s]\n",
      "  0%|          | 0/2 [00:00<?, ?it/s]"
     ]
    },
    {
     "name": "stdout",
     "output_type": "stream",
     "text": [
      "Epoch 41, Loss: 100.18221664428711\n",
      "Epoch 41, Loss: 184.2555694580078\n",
      "Epoch 41, Loss: 176.4007339477539\n"
     ]
    },
    {
     "name": "stderr",
     "output_type": "stream",
     "text": [
      "100%|██████████| 2/2 [00:00<00:00,  6.59it/s]\n",
      "100%|██████████| 2/2 [00:00<00:00,  6.60it/s]\n",
      "100%|██████████| 2/2 [00:00<00:00,  6.57it/s]\n",
      "  0%|          | 0/2 [00:00<?, ?it/s]"
     ]
    },
    {
     "name": "stdout",
     "output_type": "stream",
     "text": [
      "Epoch 42, Loss: 95.8107681274414\n",
      "Epoch 42, Loss: 188.99513244628906\n",
      "Epoch 42, Loss: 166.91883087158203\n"
     ]
    },
    {
     "name": "stderr",
     "output_type": "stream",
     "text": [
      "100%|██████████| 2/2 [00:00<00:00,  6.49it/s]\n",
      "100%|██████████| 2/2 [00:00<00:00,  6.48it/s]\n",
      "100%|██████████| 2/2 [00:00<00:00,  6.48it/s]\n",
      "  0%|          | 0/2 [00:00<?, ?it/s]"
     ]
    },
    {
     "name": "stdout",
     "output_type": "stream",
     "text": [
      "Epoch 43, Loss: 171.5068588256836\n",
      "Epoch 43, Loss: 93.74066162109375\n",
      "Epoch 43, Loss: 154.16151428222656\n"
     ]
    },
    {
     "name": "stderr",
     "output_type": "stream",
     "text": [
      "100%|██████████| 2/2 [00:00<00:00,  6.61it/s]\n",
      "100%|██████████| 2/2 [00:00<00:00,  6.58it/s]\n",
      "100%|██████████| 2/2 [00:00<00:00,  6.58it/s]\n",
      "  0%|          | 0/2 [00:00<?, ?it/s]"
     ]
    },
    {
     "name": "stdout",
     "output_type": "stream",
     "text": [
      "Epoch 44, Loss: 158.53779983520508\n",
      "Epoch 44, Loss: 86.24781036376953\n",
      "Epoch 44, Loss: 163.77212524414062\n"
     ]
    },
    {
     "name": "stderr",
     "output_type": "stream",
     "text": [
      "100%|██████████| 2/2 [00:00<00:00,  6.29it/s]\n",
      "100%|██████████| 2/2 [00:00<00:00,  6.30it/s]\n",
      "100%|██████████| 2/2 [00:00<00:00,  6.29it/s]\n",
      "  0%|          | 0/2 [00:00<?, ?it/s]"
     ]
    },
    {
     "name": "stdout",
     "output_type": "stream",
     "text": [
      "Epoch 45, Loss: 152.9535369873047\n",
      "Epoch 45, Loss: 161.2488555908203\n",
      "Epoch 45, Loss: 93.12964630126953\n"
     ]
    },
    {
     "name": "stderr",
     "output_type": "stream",
     "text": [
      "100%|██████████| 2/2 [00:00<00:00,  6.38it/s]\n",
      "100%|██████████| 2/2 [00:00<00:00,  6.37it/s]\n",
      "100%|██████████| 2/2 [00:00<00:00,  6.36it/s]\n",
      "  0%|          | 0/2 [00:00<?, ?it/s]"
     ]
    },
    {
     "name": "stdout",
     "output_type": "stream",
     "text": [
      "Epoch 46, Loss: 82.52791213989258\n",
      "Epoch 46, Loss: 166.7967185974121\n",
      "Epoch 46, Loss: 148.62705993652344\n"
     ]
    },
    {
     "name": "stderr",
     "output_type": "stream",
     "text": [
      "100%|██████████| 2/2 [00:00<00:00,  6.38it/s]\n",
      "100%|██████████| 2/2 [00:00<00:00,  6.38it/s]\n",
      "100%|██████████| 2/2 [00:00<00:00,  6.39it/s]\n",
      "  0%|          | 0/2 [00:00<?, ?it/s]"
     ]
    },
    {
     "name": "stdout",
     "output_type": "stream",
     "text": [
      "Epoch 47, Loss: 153.7908935546875\n",
      "Epoch 47, Loss: 85.28847885131836\n",
      "Epoch 47, Loss: 137.2418975830078\n"
     ]
    },
    {
     "name": "stderr",
     "output_type": "stream",
     "text": [
      "100%|██████████| 2/2 [00:00<00:00,  6.09it/s]\n",
      "100%|██████████| 2/2 [00:00<00:00,  6.10it/s]\n",
      "100%|██████████| 2/2 [00:00<00:00,  6.08it/s]\n",
      "  0%|          | 0/2 [00:00<?, ?it/s]"
     ]
    },
    {
     "name": "stdout",
     "output_type": "stream",
     "text": [
      "Epoch 48, Loss: 145.74922943115234\n",
      "Epoch 48, Loss: 147.10050201416016\n",
      "Epoch 48, Loss: 93.46422576904297\n"
     ]
    },
    {
     "name": "stderr",
     "output_type": "stream",
     "text": [
      "100%|██████████| 2/2 [00:00<00:00,  6.12it/s]\n",
      "100%|██████████| 2/2 [00:00<00:00,  6.11it/s]\n",
      "100%|██████████| 2/2 [00:00<00:00,  6.11it/s]\n",
      "  0%|          | 0/2 [00:00<?, ?it/s]"
     ]
    },
    {
     "name": "stdout",
     "output_type": "stream",
     "text": [
      "Epoch 49, Loss: 83.69493865966797\n",
      "Epoch 49, Loss: 151.81560134887695\n",
      "Epoch 49, Loss: 148.30184936523438\n"
     ]
    },
    {
     "name": "stderr",
     "output_type": "stream",
     "text": [
      "100%|██████████| 2/2 [00:00<00:00,  6.12it/s]\n",
      "100%|██████████| 2/2 [00:00<00:00,  6.12it/s]\n",
      "100%|██████████| 2/2 [00:00<00:00,  6.12it/s]\n",
      "  0%|          | 0/2 [00:00<?, ?it/s]"
     ]
    },
    {
     "name": "stdout",
     "output_type": "stream",
     "text": [
      "Epoch 50, Loss: 136.04287719726562\n",
      "Epoch 50, Loss: 81.42743682861328\n",
      "Epoch 50, Loss: 139.19924926757812\n"
     ]
    },
    {
     "name": "stderr",
     "output_type": "stream",
     "text": [
      "100%|██████████| 2/2 [00:00<00:00,  6.30it/s]\n",
      "100%|██████████| 2/2 [00:00<00:00,  6.30it/s]\n",
      "100%|██████████| 2/2 [00:00<00:00,  6.30it/s]\n",
      "  0%|          | 0/2 [00:00<?, ?it/s]"
     ]
    },
    {
     "name": "stdout",
     "output_type": "stream",
     "text": [
      "Epoch 51, Loss: 135.67630004882812\n",
      "Epoch 51, Loss: 82.80546188354492\n",
      "Epoch 51, Loss: 138.75460815429688\n"
     ]
    },
    {
     "name": "stderr",
     "output_type": "stream",
     "text": [
      "100%|██████████| 2/2 [00:00<00:00,  6.55it/s]\n",
      "\n",
      "100%|██████████| 2/2 [00:00<00:00,  6.52it/s]\n",
      "  0%|          | 0/2 [00:00<?, ?it/s]"
     ]
    },
    {
     "name": "stdout",
     "output_type": "stream",
     "text": [
      "Epoch 52, Loss: 141.62567901611328\n",
      "Epoch 52, Loss: 79.20084381103516\n",
      "Epoch 52, Loss: 145.56632232666016\n"
     ]
    },
    {
     "name": "stderr",
     "output_type": "stream",
     "text": [
      "100%|██████████| 2/2 [00:00<00:00,  6.42it/s]\n",
      "100%|██████████| 2/2 [00:00<00:00,  6.42it/s]\n",
      "100%|██████████| 2/2 [00:00<00:00,  6.42it/s]\n",
      "  0%|          | 0/2 [00:00<?, ?it/s]"
     ]
    },
    {
     "name": "stdout",
     "output_type": "stream",
     "text": [
      "Epoch 53, Loss: 138.65128326416016\n",
      "Epoch 53, Loss: 87.10946655273438\n",
      "Epoch 53, Loss: 145.61898040771484\n"
     ]
    },
    {
     "name": "stderr",
     "output_type": "stream",
     "text": [
      "100%|██████████| 2/2 [00:00<00:00,  6.31it/s]\n",
      "100%|██████████| 2/2 [00:00<00:00,  6.27it/s]\n",
      "100%|██████████| 2/2 [00:00<00:00,  6.27it/s]\n",
      "  0%|          | 0/2 [00:00<?, ?it/s]"
     ]
    },
    {
     "name": "stdout",
     "output_type": "stream",
     "text": [
      "Epoch 54, Loss: 130.78881454467773\n",
      "Epoch 54, Loss: 125.5568618774414\n",
      "Epoch 54, Loss: 85.15164947509766\n"
     ]
    },
    {
     "name": "stderr",
     "output_type": "stream",
     "text": [
      "100%|██████████| 2/2 [00:00<00:00,  6.52it/s]\n",
      "100%|██████████| 2/2 [00:00<00:00,  6.49it/s]\n",
      "100%|██████████| 2/2 [00:00<00:00,  6.51it/s]\n",
      "  0%|          | 0/2 [00:00<?, ?it/s]"
     ]
    },
    {
     "name": "stdout",
     "output_type": "stream",
     "text": [
      "Epoch 55, Loss: 133.61894989013672\n",
      "Epoch 55, Loss: 137.70980072021484\n",
      "Epoch 55, Loss: 80.44245147705078\n"
     ]
    },
    {
     "name": "stderr",
     "output_type": "stream",
     "text": [
      "100%|██████████| 2/2 [00:00<00:00,  6.35it/s]\n",
      "100%|██████████| 2/2 [00:00<00:00,  6.35it/s]\n",
      "100%|██████████| 2/2 [00:00<00:00,  6.34it/s]\n",
      "  0%|          | 0/2 [00:00<?, ?it/s]"
     ]
    },
    {
     "name": "stdout",
     "output_type": "stream",
     "text": [
      "Epoch 56, Loss: 127.72084045410156\n",
      "Epoch 56, Loss: 75.38795471191406\n",
      "Epoch 56, Loss: 136.09988403320312\n"
     ]
    },
    {
     "name": "stderr",
     "output_type": "stream",
     "text": [
      "100%|██████████| 2/2 [00:00<00:00,  6.15it/s]\n",
      "100%|██████████| 2/2 [00:00<00:00,  6.16it/s]\n",
      "100%|██████████| 2/2 [00:00<00:00,  6.16it/s]\n",
      "  0%|          | 0/2 [00:00<?, ?it/s]"
     ]
    },
    {
     "name": "stdout",
     "output_type": "stream",
     "text": [
      "Epoch 57, Loss: 146.28047561645508\n",
      "Epoch 57, Loss: 134.58613967895508\n",
      "Epoch 57, Loss: 96.03197479248047\n"
     ]
    },
    {
     "name": "stderr",
     "output_type": "stream",
     "text": [
      "100%|██████████| 2/2 [00:00<00:00,  6.63it/s]\n",
      "\n",
      "100%|██████████| 2/2 [00:00<00:00,  6.61it/s]\n",
      "  0%|          | 0/2 [00:00<?, ?it/s]"
     ]
    },
    {
     "name": "stdout",
     "output_type": "stream",
     "text": [
      "Epoch 58, Loss: 143.15363311767578\n",
      "Epoch 58, Loss: 130.2910919189453\n",
      "Epoch 58, Loss: 87.8371696472168\n"
     ]
    },
    {
     "name": "stderr",
     "output_type": "stream",
     "text": [
      "100%|██████████| 2/2 [00:00<00:00,  6.33it/s]\n",
      "100%|██████████| 2/2 [00:00<00:00,  6.33it/s]\n",
      "100%|██████████| 2/2 [00:00<00:00,  6.33it/s]\n",
      "  0%|          | 0/2 [00:00<?, ?it/s]"
     ]
    },
    {
     "name": "stdout",
     "output_type": "stream",
     "text": [
      "Epoch 59, Loss: 139.31599807739258\n",
      "Epoch 59, Loss: 141.12250518798828\n",
      "Epoch 59, Loss: 91.05683898925781\n"
     ]
    },
    {
     "name": "stderr",
     "output_type": "stream",
     "text": [
      "100%|██████████| 2/2 [00:00<00:00,  6.30it/s]\n",
      "100%|██████████| 2/2 [00:00<00:00,  6.30it/s]\n",
      "100%|██████████| 2/2 [00:00<00:00,  6.30it/s]\n",
      "  0%|          | 0/2 [00:00<?, ?it/s]"
     ]
    },
    {
     "name": "stdout",
     "output_type": "stream",
     "text": [
      "Epoch 60, Loss: 123.44166564941406\n",
      "Epoch 60, Loss: 144.21609497070312\n",
      "Epoch 60, Loss: 95.67740249633789\n"
     ]
    },
    {
     "name": "stderr",
     "output_type": "stream",
     "text": [
      "100%|██████████| 2/2 [00:00<00:00,  6.17it/s]\n",
      "100%|██████████| 2/2 [00:00<00:00,  6.17it/s]\n",
      "100%|██████████| 2/2 [00:00<00:00,  6.17it/s]\n",
      "  0%|          | 0/2 [00:00<?, ?it/s]"
     ]
    },
    {
     "name": "stdout",
     "output_type": "stream",
     "text": [
      "Epoch 61, Loss: 118.10762405395508\n",
      "Epoch 61, Loss: 148.07190704345703\n",
      "Epoch 61, Loss: 78.07144546508789\n"
     ]
    },
    {
     "name": "stderr",
     "output_type": "stream",
     "text": [
      "100%|██████████| 2/2 [00:00<00:00,  6.14it/s]\n",
      "\n",
      "100%|██████████| 2/2 [00:00<00:00,  6.14it/s]\n",
      "  0%|          | 0/2 [00:00<?, ?it/s]"
     ]
    },
    {
     "name": "stdout",
     "output_type": "stream",
     "text": [
      "Epoch 62, Loss: 116.2817611694336\n",
      "Epoch 62, Loss: 134.43251037597656\n",
      "Epoch 62, Loss: 74.64875030517578\n"
     ]
    },
    {
     "name": "stderr",
     "output_type": "stream",
     "text": [
      "100%|██████████| 2/2 [00:00<00:00,  6.43it/s]\n",
      "\n",
      "100%|██████████| 2/2 [00:00<00:00,  6.43it/s]\n",
      "  0%|          | 0/2 [00:00<?, ?it/s]"
     ]
    },
    {
     "name": "stdout",
     "output_type": "stream",
     "text": [
      "Epoch 63, Loss: 116.25187683105469\n",
      "Epoch 63, Loss: 125.5440902709961\n",
      "Epoch 63, Loss: 80.88077926635742\n"
     ]
    },
    {
     "name": "stderr",
     "output_type": "stream",
     "text": [
      "100%|██████████| 2/2 [00:00<00:00,  6.71it/s]\n",
      "100%|██████████| 2/2 [00:00<00:00,  6.71it/s]\n",
      "100%|██████████| 2/2 [00:00<00:00,  6.71it/s]\n",
      "  0%|          | 0/2 [00:00<?, ?it/s]"
     ]
    },
    {
     "name": "stdout",
     "output_type": "stream",
     "text": [
      "Epoch 64, Loss: 121.31765747070312\n",
      "Epoch 64, Loss: 121.69507217407227\n",
      "Epoch 64, Loss: 70.85103607177734\n"
     ]
    },
    {
     "name": "stderr",
     "output_type": "stream",
     "text": [
      "100%|██████████| 2/2 [00:00<00:00,  6.19it/s]\n",
      "100%|██████████| 2/2 [00:00<00:00,  6.18it/s]\n",
      "100%|██████████| 2/2 [00:00<00:00,  6.17it/s]\n",
      "  0%|          | 0/2 [00:00<?, ?it/s]"
     ]
    },
    {
     "name": "stdout",
     "output_type": "stream",
     "text": [
      "Epoch 65, Loss: 71.59599685668945\n",
      "Epoch 65, Loss: 123.45466613769531\n",
      "Epoch 65, Loss: 112.61908340454102\n"
     ]
    },
    {
     "name": "stderr",
     "output_type": "stream",
     "text": [
      "100%|██████████| 2/2 [00:00<00:00,  6.55it/s]\n",
      "100%|██████████| 2/2 [00:00<00:00,  6.54it/s]\n",
      "100%|██████████| 2/2 [00:00<00:00,  6.55it/s]\n",
      "  0%|          | 0/2 [00:00<?, ?it/s]"
     ]
    },
    {
     "name": "stdout",
     "output_type": "stream",
     "text": [
      "Epoch 66, Loss: 116.82589721679688\n",
      "Epoch 66, Loss: 65.94780731201172\n",
      "Epoch 66, Loss: 111.24407196044922\n"
     ]
    },
    {
     "name": "stderr",
     "output_type": "stream",
     "text": [
      "100%|██████████| 2/2 [00:00<00:00,  6.40it/s]\n",
      "100%|██████████| 2/2 [00:00<00:00,  6.39it/s]\n",
      "100%|██████████| 2/2 [00:00<00:00,  6.38it/s]\n",
      "  0%|          | 0/2 [00:00<?, ?it/s]"
     ]
    },
    {
     "name": "stdout",
     "output_type": "stream",
     "text": [
      "Epoch 67, Loss: 111.18045806884766\n",
      "Epoch 67, Loss: 72.81370162963867\n",
      "Epoch 67, Loss: 126.88335037231445\n"
     ]
    },
    {
     "name": "stderr",
     "output_type": "stream",
     "text": [
      "100%|██████████| 2/2 [00:00<00:00,  6.20it/s]\n",
      "100%|██████████| 2/2 [00:00<00:00,  6.19it/s]\n",
      "100%|██████████| 2/2 [00:00<00:00,  6.18it/s]\n",
      "  0%|          | 0/2 [00:00<?, ?it/s]"
     ]
    },
    {
     "name": "stdout",
     "output_type": "stream",
     "text": [
      "Epoch 68, Loss: 108.5308723449707\n",
      "Epoch 68, Loss: 114.02527236938477\n",
      "Epoch 68, Loss: 64.0787181854248\n"
     ]
    },
    {
     "name": "stderr",
     "output_type": "stream",
     "text": [
      "100%|██████████| 2/2 [00:00<00:00,  6.36it/s]\n",
      "100%|██████████| 2/2 [00:00<00:00,  6.34it/s]\n",
      "100%|██████████| 2/2 [00:00<00:00,  6.33it/s]\n",
      "  0%|          | 0/2 [00:00<?, ?it/s]"
     ]
    },
    {
     "name": "stdout",
     "output_type": "stream",
     "text": [
      "Epoch 69, Loss: 66.33038711547852\n",
      "Epoch 69, Loss: 102.79185485839844\n",
      "Epoch 69, Loss: 120.17670059204102\n"
     ]
    },
    {
     "name": "stderr",
     "output_type": "stream",
     "text": [
      "100%|██████████| 2/2 [00:00<00:00,  6.21it/s]\n",
      "100%|██████████| 2/2 [00:00<00:00,  6.19it/s]\n",
      "100%|██████████| 2/2 [00:00<00:00,  6.18it/s]\n",
      "  0%|          | 0/2 [00:00<?, ?it/s]"
     ]
    },
    {
     "name": "stdout",
     "output_type": "stream",
     "text": [
      "Epoch 70, Loss: 128.17168807983398\n",
      "Epoch 70, Loss: 114.72502517700195\n",
      "Epoch 70, Loss: 88.3730354309082\n"
     ]
    },
    {
     "name": "stderr",
     "output_type": "stream",
     "text": [
      "100%|██████████| 2/2 [00:00<00:00,  6.48it/s]\n",
      "\n",
      "100%|██████████| 2/2 [00:00<00:00,  6.48it/s]\n",
      "  0%|          | 0/2 [00:00<?, ?it/s]"
     ]
    },
    {
     "name": "stdout",
     "output_type": "stream",
     "text": [
      "Epoch 71, Loss: 105.10597229003906\n",
      "Epoch 71, Loss: 105.44471740722656\n",
      "Epoch 71, Loss: 71.15391159057617\n"
     ]
    },
    {
     "name": "stderr",
     "output_type": "stream",
     "text": [
      "100%|██████████| 2/2 [00:00<00:00,  6.40it/s]\n",
      "100%|██████████| 2/2 [00:00<00:00,  6.39it/s]\n",
      "100%|██████████| 2/2 [00:00<00:00,  6.40it/s]\n",
      "  0%|          | 0/2 [00:00<?, ?it/s]"
     ]
    },
    {
     "name": "stdout",
     "output_type": "stream",
     "text": [
      "Epoch 72, Loss: 113.41847038269043\n",
      "Epoch 72, Loss: 107.93434143066406\n",
      "Epoch 72, Loss: 78.06460952758789\n"
     ]
    },
    {
     "name": "stderr",
     "output_type": "stream",
     "text": [
      "100%|██████████| 2/2 [00:00<00:00,  6.44it/s]\n",
      "100%|██████████| 2/2 [00:00<00:00,  6.43it/s]\n",
      "100%|██████████| 2/2 [00:00<00:00,  6.42it/s]\n",
      "  0%|          | 0/2 [00:00<?, ?it/s]"
     ]
    },
    {
     "name": "stdout",
     "output_type": "stream",
     "text": [
      "Epoch 73, Loss: 68.86310577392578\n",
      "Epoch 73, Loss: 108.31632423400879\n",
      "Epoch 73, Loss: 104.40104293823242\n"
     ]
    },
    {
     "name": "stderr",
     "output_type": "stream",
     "text": [
      "100%|██████████| 2/2 [00:00<00:00,  6.71it/s]\n",
      "100%|██████████| 2/2 [00:00<00:00,  6.71it/s]\n",
      "100%|██████████| 2/2 [00:00<00:00,  6.71it/s]\n",
      "  0%|          | 0/2 [00:00<?, ?it/s]"
     ]
    },
    {
     "name": "stdout",
     "output_type": "stream",
     "text": [
      "Epoch 74, Loss: 111.84897994995117\n",
      "Epoch 74, Loss: 72.67277145385742\n",
      "Epoch 74, Loss: 101.9871940612793\n"
     ]
    },
    {
     "name": "stderr",
     "output_type": "stream",
     "text": [
      "100%|██████████| 2/2 [00:00<00:00,  6.24it/s]\n",
      "100%|██████████| 2/2 [00:00<00:00,  6.22it/s]\n",
      "100%|██████████| 2/2 [00:00<00:00,  6.21it/s]\n",
      "  0%|          | 0/2 [00:00<?, ?it/s]"
     ]
    },
    {
     "name": "stdout",
     "output_type": "stream",
     "text": [
      "Epoch 75, Loss: 97.22830200195312\n",
      "Epoch 75, Loss: 108.52804565429688\n",
      "Epoch 75, Loss: 72.3954086303711\n"
     ]
    },
    {
     "name": "stderr",
     "output_type": "stream",
     "text": [
      "100%|██████████| 2/2 [00:00<00:00,  6.23it/s]\n",
      "100%|██████████| 2/2 [00:00<00:00,  6.23it/s]\n",
      "100%|██████████| 2/2 [00:00<00:00,  6.23it/s]\n",
      "  0%|          | 0/2 [00:00<?, ?it/s]"
     ]
    },
    {
     "name": "stdout",
     "output_type": "stream",
     "text": [
      "Epoch 76, Loss: 119.93997955322266\n",
      "Epoch 76, Loss: 99.48658752441406\n",
      "Epoch 76, Loss: 68.41879653930664\n"
     ]
    },
    {
     "name": "stderr",
     "output_type": "stream",
     "text": [
      "100%|██████████| 2/2 [00:00<00:00,  6.21it/s]\n",
      "\n",
      "100%|██████████| 2/2 [00:00<00:00,  6.20it/s]\n",
      "  0%|          | 0/2 [00:00<?, ?it/s]"
     ]
    },
    {
     "name": "stdout",
     "output_type": "stream",
     "text": [
      "Epoch 77, Loss: 106.16999816894531\n",
      "Epoch 77, Loss: 98.59405136108398\n",
      "Epoch 77, Loss: 62.32281303405762\n"
     ]
    },
    {
     "name": "stderr",
     "output_type": "stream",
     "text": [
      "100%|██████████| 2/2 [00:00<00:00,  6.51it/s]\n",
      "100%|██████████| 2/2 [00:00<00:00,  6.51it/s]\n",
      "100%|██████████| 2/2 [00:00<00:00,  6.51it/s]\n",
      "  0%|          | 0/2 [00:00<?, ?it/s]"
     ]
    },
    {
     "name": "stdout",
     "output_type": "stream",
     "text": [
      "Epoch 78, Loss: 108.2973403930664\n",
      "Epoch 78, Loss: 101.2616195678711\n",
      "Epoch 78, Loss: 64.68401718139648\n"
     ]
    },
    {
     "name": "stderr",
     "output_type": "stream",
     "text": [
      "100%|██████████| 2/2 [00:00<00:00,  6.34it/s]\n",
      "100%|██████████| 2/2 [00:00<00:00,  6.35it/s]\n",
      "100%|██████████| 2/2 [00:00<00:00,  6.33it/s]\n",
      "  0%|          | 0/2 [00:00<?, ?it/s]"
     ]
    },
    {
     "name": "stdout",
     "output_type": "stream",
     "text": [
      "Epoch 79, Loss: 115.16162872314453\n",
      "Epoch 79, Loss: 66.74668884277344\n",
      "Epoch 79, Loss: 86.8744888305664\n"
     ]
    },
    {
     "name": "stderr",
     "output_type": "stream",
     "text": [
      "100%|██████████| 2/2 [00:00<00:00,  6.25it/s]\n",
      "100%|██████████| 2/2 [00:00<00:00,  6.24it/s]\n",
      "100%|██████████| 2/2 [00:00<00:00,  6.25it/s]\n",
      "  0%|          | 0/2 [00:00<?, ?it/s]"
     ]
    },
    {
     "name": "stdout",
     "output_type": "stream",
     "text": [
      "Epoch 80, Loss: 59.43127250671387\n",
      "Epoch 80, Loss: 108.71078872680664\n",
      "Epoch 80, Loss: 84.55149459838867\n"
     ]
    },
    {
     "name": "stderr",
     "output_type": "stream",
     "text": [
      "100%|██████████| 2/2 [00:00<00:00,  6.39it/s]\n",
      "\n",
      "100%|██████████| 2/2 [00:00<00:00,  6.39it/s]\n",
      "  0%|          | 0/2 [00:00<?, ?it/s]"
     ]
    },
    {
     "name": "stdout",
     "output_type": "stream",
     "text": [
      "Epoch 81, Loss: 127.23161315917969\n",
      "Epoch 81, Loss: 70.83454513549805\n",
      "Epoch 81, Loss: 93.44876098632812\n"
     ]
    },
    {
     "name": "stderr",
     "output_type": "stream",
     "text": [
      "100%|██████████| 2/2 [00:00<00:00,  6.60it/s]\n",
      "100%|██████████| 2/2 [00:00<00:00,  6.60it/s]\n",
      "100%|██████████| 2/2 [00:00<00:00,  6.60it/s]\n",
      "  0%|          | 0/2 [00:00<?, ?it/s]"
     ]
    },
    {
     "name": "stdout",
     "output_type": "stream",
     "text": [
      "Epoch 82, Loss: 149.47188186645508\n",
      "Epoch 82, Loss: 172.2358055114746\n",
      "Epoch 82, Loss: 131.3663330078125\n"
     ]
    },
    {
     "name": "stderr",
     "output_type": "stream",
     "text": [
      "100%|██████████| 2/2 [00:00<00:00,  6.47it/s]\n",
      "100%|██████████| 2/2 [00:00<00:00,  6.46it/s]\n",
      "100%|██████████| 2/2 [00:00<00:00,  6.44it/s]\n",
      "  0%|          | 0/2 [00:00<?, ?it/s]"
     ]
    },
    {
     "name": "stdout",
     "output_type": "stream",
     "text": [
      "Epoch 83, Loss: 117.7635498046875\n",
      "Epoch 83, Loss: 152.9253158569336\n",
      "Epoch 83, Loss: 99.84634399414062\n"
     ]
    },
    {
     "name": "stderr",
     "output_type": "stream",
     "text": [
      "100%|██████████| 2/2 [00:00<00:00,  6.50it/s]\n",
      "100%|██████████| 2/2 [00:00<00:00,  6.51it/s]\n",
      "100%|██████████| 2/2 [00:00<00:00,  6.51it/s]\n",
      "  0%|          | 0/2 [00:00<?, ?it/s]"
     ]
    },
    {
     "name": "stdout",
     "output_type": "stream",
     "text": [
      "Epoch 84, Loss: 113.11843872070312\n",
      "Epoch 84, Loss: 160.37677764892578\n",
      "Epoch 84, Loss: 102.3944091796875\n"
     ]
    },
    {
     "name": "stderr",
     "output_type": "stream",
     "text": [
      "100%|██████████| 2/2 [00:00<00:00,  6.31it/s]\n",
      "100%|██████████| 2/2 [00:00<00:00,  6.31it/s]\n",
      "100%|██████████| 2/2 [00:00<00:00,  6.31it/s]\n",
      "  0%|          | 0/2 [00:00<?, ?it/s]"
     ]
    },
    {
     "name": "stdout",
     "output_type": "stream",
     "text": [
      "Epoch 85, Loss: 100.31175231933594\n",
      "Epoch 85, Loss: 161.88059616088867\n",
      "Epoch 85, Loss: 89.19135284423828\n"
     ]
    },
    {
     "name": "stderr",
     "output_type": "stream",
     "text": [
      "100%|██████████| 2/2 [00:00<00:00,  5.83it/s]\n",
      "\n",
      "100%|██████████| 2/2 [00:00<00:00,  5.82it/s]\n",
      "  0%|          | 0/2 [00:00<?, ?it/s]"
     ]
    },
    {
     "name": "stdout",
     "output_type": "stream",
     "text": [
      "Epoch 86, Loss: 109.36016464233398\n",
      "Epoch 86, Loss: 129.53656768798828\n",
      "Epoch 86, Loss: 73.73447036743164\n"
     ]
    },
    {
     "name": "stderr",
     "output_type": "stream",
     "text": [
      "100%|██████████| 2/2 [00:00<00:00,  6.02it/s]\n",
      "100%|██████████| 2/2 [00:00<00:00,  6.01it/s]\n",
      "100%|██████████| 2/2 [00:00<00:00,  6.01it/s]\n",
      "  0%|          | 0/2 [00:00<?, ?it/s]"
     ]
    },
    {
     "name": "stdout",
     "output_type": "stream",
     "text": [
      "Epoch 87, Loss: 113.34265899658203\n",
      "Epoch 87, Loss: 110.01723098754883\n",
      "Epoch 87, Loss: 65.35223770141602\n"
     ]
    },
    {
     "name": "stderr",
     "output_type": "stream",
     "text": [
      "100%|██████████| 2/2 [00:00<00:00,  6.20it/s]\n",
      "100%|██████████| 2/2 [00:00<00:00,  6.20it/s]\n",
      "100%|██████████| 2/2 [00:00<00:00,  6.18it/s]\n",
      "  0%|          | 0/2 [00:00<?, ?it/s]"
     ]
    },
    {
     "name": "stdout",
     "output_type": "stream",
     "text": [
      "Epoch 88, Loss: 113.42282485961914\n",
      "Epoch 88, Loss: 70.51599884033203\n",
      "Epoch 88, Loss: 121.33514022827148\n"
     ]
    },
    {
     "name": "stderr",
     "output_type": "stream",
     "text": [
      "100%|██████████| 2/2 [00:00<00:00,  6.28it/s]\n",
      "100%|██████████| 2/2 [00:00<00:00,  6.27it/s]\n",
      "100%|██████████| 2/2 [00:00<00:00,  6.29it/s]\n",
      "  0%|          | 0/2 [00:00<?, ?it/s]"
     ]
    },
    {
     "name": "stdout",
     "output_type": "stream",
     "text": [
      "Epoch 89, Loss: 69.35409545898438\n",
      "Epoch 89, Loss: 110.0372428894043\n",
      "Epoch 89, Loss: 113.16983032226562\n"
     ]
    },
    {
     "name": "stderr",
     "output_type": "stream",
     "text": [
      "100%|██████████| 2/2 [00:00<00:00,  6.56it/s]\n",
      "100%|██████████| 2/2 [00:00<00:00,  6.58it/s]\n",
      "100%|██████████| 2/2 [00:00<00:00,  6.55it/s]\n",
      "  0%|          | 0/2 [00:00<?, ?it/s]"
     ]
    },
    {
     "name": "stdout",
     "output_type": "stream",
     "text": [
      "Epoch 90, Loss: 102.76093673706055\n",
      "Epoch 90, Loss: 116.13927459716797\n",
      "Epoch 90, Loss: 64.9791145324707\n"
     ]
    },
    {
     "name": "stderr",
     "output_type": "stream",
     "text": [
      "100%|██████████| 2/2 [00:00<00:00,  6.43it/s]\n",
      "100%|██████████| 2/2 [00:00<00:00,  6.42it/s]\n",
      "100%|██████████| 2/2 [00:00<00:00,  6.41it/s]\n",
      "  0%|          | 0/2 [00:00<?, ?it/s]"
     ]
    },
    {
     "name": "stdout",
     "output_type": "stream",
     "text": [
      "Epoch 91, Loss: 53.06310272216797\n",
      "Epoch 91, Loss: 103.20578384399414\n",
      "Epoch 91, Loss: 106.33694076538086\n"
     ]
    },
    {
     "name": "stderr",
     "output_type": "stream",
     "text": [
      "100%|██████████| 2/2 [00:00<00:00,  6.34it/s]\n",
      "\n",
      "100%|██████████| 2/2 [00:00<00:00,  6.33it/s]\n",
      "  0%|          | 0/2 [00:00<?, ?it/s]"
     ]
    },
    {
     "name": "stdout",
     "output_type": "stream",
     "text": [
      "Epoch 92, Loss: 56.824825286865234\n",
      "Epoch 92, Loss: 109.81394958496094\n",
      "Epoch 92, Loss: 93.8566780090332\n"
     ]
    },
    {
     "name": "stderr",
     "output_type": "stream",
     "text": [
      "100%|██████████| 2/2 [00:00<00:00,  6.00it/s]\n",
      "100%|██████████| 2/2 [00:00<00:00,  6.00it/s]\n",
      "100%|██████████| 2/2 [00:00<00:00,  6.00it/s]\n",
      "  0%|          | 0/2 [00:00<?, ?it/s]"
     ]
    },
    {
     "name": "stdout",
     "output_type": "stream",
     "text": [
      "Epoch 93, Loss: 59.24058723449707\n",
      "Epoch 93, Loss: 117.48131561279297\n",
      "Epoch 93, Loss: 87.98280715942383\n"
     ]
    },
    {
     "name": "stderr",
     "output_type": "stream",
     "text": [
      "100%|██████████| 2/2 [00:00<00:00,  6.51it/s]\n",
      "100%|██████████| 2/2 [00:00<00:00,  6.52it/s]\n",
      "100%|██████████| 2/2 [00:00<00:00,  6.50it/s]\n",
      "  0%|          | 0/2 [00:00<?, ?it/s]"
     ]
    },
    {
     "name": "stdout",
     "output_type": "stream",
     "text": [
      "Epoch 94, Loss: 80.14864730834961\n",
      "Epoch 94, Loss: 52.671024322509766\n",
      "Epoch 94, Loss: 124.2325553894043\n"
     ]
    },
    {
     "name": "stderr",
     "output_type": "stream",
     "text": [
      "100%|██████████| 2/2 [00:00<00:00,  6.41it/s]\n",
      "\n",
      "100%|██████████| 2/2 [00:00<00:00,  6.41it/s]\n",
      "  0%|          | 0/2 [00:00<?, ?it/s]"
     ]
    },
    {
     "name": "stdout",
     "output_type": "stream",
     "text": [
      "Epoch 95, Loss: 92.06306838989258\n",
      "Epoch 95, Loss: 58.625301361083984\n",
      "Epoch 95, Loss: 99.63191223144531\n"
     ]
    },
    {
     "name": "stderr",
     "output_type": "stream",
     "text": [
      "100%|██████████| 2/2 [00:00<00:00,  6.27it/s]\n",
      "100%|██████████| 2/2 [00:00<00:00,  6.27it/s]\n",
      "100%|██████████| 2/2 [00:00<00:00,  6.27it/s]\n",
      "  0%|          | 0/2 [00:00<?, ?it/s]"
     ]
    },
    {
     "name": "stdout",
     "output_type": "stream",
     "text": [
      "Epoch 96, Loss: 89.8807144165039\n",
      "Epoch 96, Loss: 55.559343338012695\n",
      "Epoch 96, Loss: 100.58202362060547\n"
     ]
    },
    {
     "name": "stderr",
     "output_type": "stream",
     "text": [
      "100%|██████████| 2/2 [00:00<00:00,  6.54it/s]\n",
      "100%|██████████| 2/2 [00:00<00:00,  6.54it/s]\n",
      "100%|██████████| 2/2 [00:00<00:00,  6.54it/s]\n",
      "  0%|          | 0/2 [00:00<?, ?it/s]"
     ]
    },
    {
     "name": "stdout",
     "output_type": "stream",
     "text": [
      "Epoch 97, Loss: 56.65155220031738\n",
      "Epoch 97, Loss: 84.95772171020508\n",
      "Epoch 97, Loss: 109.5379753112793\n"
     ]
    },
    {
     "name": "stderr",
     "output_type": "stream",
     "text": [
      "100%|██████████| 2/2 [00:00<00:00,  6.45it/s]\n",
      "\n",
      "100%|██████████| 2/2 [00:00<00:00,  6.42it/s]\n",
      "  0%|          | 0/2 [00:00<?, ?it/s]"
     ]
    },
    {
     "name": "stdout",
     "output_type": "stream",
     "text": [
      "Epoch 98, Loss: 89.6405029296875\n",
      "Epoch 98, Loss: 102.82322692871094\n",
      "Epoch 98, Loss: 53.219844818115234\n"
     ]
    },
    {
     "name": "stderr",
     "output_type": "stream",
     "text": [
      "100%|██████████| 2/2 [00:00<00:00,  6.47it/s]\n",
      "100%|██████████| 2/2 [00:00<00:00,  6.47it/s]\n",
      "100%|██████████| 2/2 [00:00<00:00,  6.47it/s]\n",
      "  0%|          | 0/2 [00:00<?, ?it/s]"
     ]
    },
    {
     "name": "stdout",
     "output_type": "stream",
     "text": [
      "Epoch 99, Loss: 121.2659797668457\n",
      "Epoch 99, Loss: 81.1014633178711\n",
      "Epoch 99, Loss: 62.97592544555664\n"
     ]
    },
    {
     "name": "stderr",
     "output_type": "stream",
     "text": [
      "100%|██████████| 2/2 [00:00<00:00,  6.39it/s]\n",
      "100%|██████████| 2/2 [00:00<00:00,  6.39it/s]\n",
      "100%|██████████| 2/2 [00:00<00:00,  6.38it/s]\n"
     ]
    },
    {
     "name": "stdout",
     "output_type": "stream",
     "text": [
      "Epoch 100, Loss: 73.56602096557617\n",
      "Training time: 31.60764765739441 seconds\n",
      "Epoch 100, Loss: 107.47449111938477\n",
      "Training time: 31.60821509361267 seconds\n",
      "Epoch 100, Loss: 50.52954864501953\n",
      "Training time: 31.609142303466797 seconds\n",
      "Training time: 37.00596499443054 seconds\n"
     ]
    }
   ],
   "source": [
    "from st_DynGNN_GDP import run\n",
    "import torch.multiprocessing as mp\n",
    "import time\n",
    "\n",
    "\n",
    "start_time = time.time()\n",
    "if __name__ == '__main__':\n",
    "    num_gpus = 3\n",
    "    import torch.multiprocessing as mp\n",
    "    mp.spawn(run, args=(list(range(num_gpus)),dgl_graph), nprocs=num_gpus)\n",
    "\n",
    "end_time = time.time()\n",
    "elapsed_time = end_time - start_time\n",
    "\n",
    "print(f\"Training time: {elapsed_time} seconds\")"
   ]
  },
  {
   "cell_type": "code",
   "execution_count": 49,
   "metadata": {},
   "outputs": [
    {
     "name": "stderr",
     "output_type": "stream",
     "text": [
      "/home/rxf131/ondemand/ubuntu2204/python310/torch_geometric/typing.py:47: UserWarning: An issue occurred while importing 'pyg-lib'. Disabling its usage. Stacktrace: libcudart.so.12: cannot open shared object file: No such file or directory\n",
      "  warnings.warn(f\"An issue occurred while importing 'pyg-lib'. \"\n",
      "/home/rxf131/ondemand/ubuntu2204/python310/torch_geometric/typing.py:47: UserWarning: An issue occurred while importing 'pyg-lib'. Disabling its usage. Stacktrace: libcudart.so.12: cannot open shared object file: No such file or directory\n",
      "  warnings.warn(f\"An issue occurred while importing 'pyg-lib'. \"\n",
      "/home/rxf131/ondemand/ubuntu2204/python310/torch_geometric/typing.py:47: UserWarning: An issue occurred while importing 'pyg-lib'. Disabling its usage. Stacktrace: libcudart.so.12: cannot open shared object file: No such file or directory\n",
      "  warnings.warn(f\"An issue occurred while importing 'pyg-lib'. \"\n",
      "/home/rxf131/ondemand/ubuntu2204/python310/torch_geometric/typing.py:47: UserWarning: An issue occurred while importing 'pyg-lib'. Disabling its usage. Stacktrace: libcudart.so.12: cannot open shared object file: No such file or directory\n",
      "  warnings.warn(f\"An issue occurred while importing 'pyg-lib'. \"\n",
      "/home/rxf131/ondemand/ubuntu2204/python310/torch_geometric/typing.py:101: UserWarning: An issue occurred while importing 'torch-sparse'. Disabling its usage. Stacktrace: libcudart.so.12: cannot open shared object file: No such file or directory\n",
      "  warnings.warn(f\"An issue occurred while importing 'torch-sparse'. \"\n",
      "/home/rxf131/ondemand/ubuntu2204/python310/torch_geometric/typing.py:101: UserWarning: An issue occurred while importing 'torch-sparse'. Disabling its usage. Stacktrace: libcudart.so.12: cannot open shared object file: No such file or directory\n",
      "  warnings.warn(f\"An issue occurred while importing 'torch-sparse'. \"\n",
      "/home/rxf131/ondemand/ubuntu2204/python310/torch_geometric/typing.py:101: UserWarning: An issue occurred while importing 'torch-sparse'. Disabling its usage. Stacktrace: libcudart.so.12: cannot open shared object file: No such file or directory\n",
      "  warnings.warn(f\"An issue occurred while importing 'torch-sparse'. \"\n",
      "/home/rxf131/ondemand/ubuntu2204/python310/torch_geometric/typing.py:101: UserWarning: An issue occurred while importing 'torch-sparse'. Disabling its usage. Stacktrace: libcudart.so.12: cannot open shared object file: No such file or directory\n",
      "  warnings.warn(f\"An issue occurred while importing 'torch-sparse'. \"\n",
      " 50%|█████     | 1/2 [00:00<00:00,  1.82it/s]/home/rxf131/ondemand/ubuntu2204/python310/torch/nn/modules/loss.py:535: UserWarning: Using a target size (torch.Size([1, 60])) that is different to the input size (torch.Size([60])). This will likely lead to incorrect results due to broadcasting. Please ensure they have the same size.\n",
      "  return F.mse_loss(input, target, reduction=self.reduction)\n",
      "/home/rxf131/ondemand/ubuntu2204/python310/torch/nn/modules/loss.py:535: UserWarning: Using a target size (torch.Size([1, 60])) that is different to the input size (torch.Size([60])). This will likely lead to incorrect results due to broadcasting. Please ensure they have the same size.\n",
      "  return F.mse_loss(input, target, reduction=self.reduction)\n",
      "/home/rxf131/ondemand/ubuntu2204/python310/torch/nn/modules/loss.py:535: UserWarning: Using a target size (torch.Size([1, 60])) that is different to the input size (torch.Size([60])). This will likely lead to incorrect results due to broadcasting. Please ensure they have the same size.\n",
      "  return F.mse_loss(input, target, reduction=self.reduction)\n",
      "/home/rxf131/ondemand/ubuntu2204/python310/torch/nn/modules/loss.py:535: UserWarning: Using a target size (torch.Size([1, 60])) that is different to the input size (torch.Size([60])). This will likely lead to incorrect results due to broadcasting. Please ensure they have the same size.\n",
      "  return F.mse_loss(input, target, reduction=self.reduction)\n",
      "100%|██████████| 2/2 [00:00<00:00,  3.54it/s]\n",
      "100%|██████████| 2/2 [00:00<00:00,  3.54it/s]\n",
      "100%|██████████| 2/2 [00:00<00:00,  3.53it/s]\n",
      "100%|██████████| 2/2 [00:00<00:00,  3.54it/s]\n",
      "  0%|          | 0/2 [00:00<?, ?it/s]"
     ]
    },
    {
     "name": "stdout",
     "output_type": "stream",
     "text": [
      "Epoch 1, Loss: 8748.05517578125\n",
      "Epoch 1, Loss: 7516.104736328125\n",
      "Epoch 1, Loss: 8920.107421875\n",
      "Epoch 1, Loss: 6901.390380859375\n"
     ]
    },
    {
     "name": "stderr",
     "output_type": "stream",
     "text": [
      "100%|██████████| 2/2 [00:00<00:00,  5.84it/s]\n",
      "\n",
      "100%|██████████| 2/2 [00:00<00:00,  5.83it/s]\n",
      "100%|██████████| 2/2 [00:00<00:00,  5.83it/s]\n",
      "  0%|          | 0/2 [00:00<?, ?it/s]"
     ]
    },
    {
     "name": "stdout",
     "output_type": "stream",
     "text": [
      "Epoch 2, Loss: 1799.2197265625\n",
      "Epoch 2, Loss: 1716.0153198242188\n",
      "Epoch 2, Loss: 2223.3427734375\n",
      "Epoch 2, Loss: 2259.8724975585938\n"
     ]
    },
    {
     "name": "stderr",
     "output_type": "stream",
     "text": [
      "100%|██████████| 2/2 [00:00<00:00,  5.18it/s]\n",
      "100%|██████████| 2/2 [00:00<00:00,  5.18it/s]\n",
      "100%|██████████| 2/2 [00:00<00:00,  5.19it/s]\n",
      "100%|██████████| 2/2 [00:00<00:00,  5.18it/s]\n",
      "  0%|          | 0/2 [00:00<?, ?it/s]"
     ]
    },
    {
     "name": "stdout",
     "output_type": "stream",
     "text": [
      "Epoch 3, Loss: 1215.3699951171875\n",
      "Epoch 3, Loss: 1177.7115478515625\n",
      "Epoch 3, Loss: 1446.83837890625\n",
      "Epoch 3, Loss: 1615.27392578125\n"
     ]
    },
    {
     "name": "stderr",
     "output_type": "stream",
     "text": [
      "100%|██████████| 2/2 [00:00<00:00,  5.30it/s]\n",
      "100%|██████████| 2/2 [00:00<00:00,  5.29it/s]\n",
      "100%|██████████| 2/2 [00:00<00:00,  5.28it/s]\n",
      "100%|██████████| 2/2 [00:00<00:00,  5.28it/s]\n",
      "  0%|          | 0/2 [00:00<?, ?it/s]"
     ]
    },
    {
     "name": "stdout",
     "output_type": "stream",
     "text": [
      "Epoch 4, Loss: 1423.5699462890625\n",
      "Epoch 4, Loss: 1375.9998779296875\n",
      "Epoch 4, Loss: 1102.2253723144531\n",
      "Epoch 4, Loss: 1147.883056640625\n"
     ]
    },
    {
     "name": "stderr",
     "output_type": "stream",
     "text": [
      "100%|██████████| 2/2 [00:00<00:00,  5.07it/s]\n",
      "100%|██████████| 2/2 [00:00<00:00,  5.07it/s]\n",
      "100%|██████████| 2/2 [00:00<00:00,  5.06it/s]\n",
      "100%|██████████| 2/2 [00:00<00:00,  5.05it/s]\n",
      "  0%|          | 0/2 [00:00<?, ?it/s]"
     ]
    },
    {
     "name": "stdout",
     "output_type": "stream",
     "text": [
      "Epoch 5, Loss: 980.2937622070312\n",
      "Epoch 5, Loss: 1049.9592590332031\n",
      "Epoch 5, Loss: 1836.21533203125\n",
      "Epoch 5, Loss: 1165.569580078125\n"
     ]
    },
    {
     "name": "stderr",
     "output_type": "stream",
     "text": [
      "100%|██████████| 2/2 [00:00<00:00,  5.35it/s]\n",
      "100%|██████████| 2/2 [00:00<00:00,  5.35it/s]\n",
      "\n",
      "100%|██████████| 2/2 [00:00<00:00,  5.35it/s]\n",
      "  0%|          | 0/2 [00:00<?, ?it/s]"
     ]
    },
    {
     "name": "stdout",
     "output_type": "stream",
     "text": [
      "Epoch 6, Loss: 903.1919555664062\n",
      "Epoch 6, Loss: 776.979736328125\n",
      "Epoch 6, Loss: 1088.8409729003906\n",
      "Epoch 6, Loss: 910.847900390625\n"
     ]
    },
    {
     "name": "stderr",
     "output_type": "stream",
     "text": [
      "100%|██████████| 2/2 [00:00<00:00,  5.04it/s]\n",
      "\n",
      "100%|██████████| 2/2 [00:00<00:00,  5.05it/s]\n",
      "100%|██████████| 2/2 [00:00<00:00,  5.03it/s]\n",
      "  0%|          | 0/2 [00:00<?, ?it/s]"
     ]
    },
    {
     "name": "stdout",
     "output_type": "stream",
     "text": [
      "Epoch 7, Loss: 811.60693359375\n",
      "Epoch 7, Loss: 905.5477905273438\n",
      "Epoch 7, Loss: 817.35400390625\n",
      "Epoch 7, Loss: 678.626220703125\n"
     ]
    },
    {
     "name": "stderr",
     "output_type": "stream",
     "text": [
      "100%|██████████| 2/2 [00:00<00:00,  5.19it/s]\n",
      "\n",
      "100%|██████████| 2/2 [00:00<00:00,  5.19it/s]\n",
      "100%|██████████| 2/2 [00:00<00:00,  5.18it/s]\n",
      "  0%|          | 0/2 [00:00<?, ?it/s]"
     ]
    },
    {
     "name": "stdout",
     "output_type": "stream",
     "text": [
      "Epoch 8, Loss: 706.0872802734375\n",
      "Epoch 8, Loss: 596.1421508789062\n",
      "Epoch 8, Loss: 1220.5946655273438\n",
      "Epoch 8, Loss: 753.3211669921875\n"
     ]
    },
    {
     "name": "stderr",
     "output_type": "stream",
     "text": [
      "100%|██████████| 2/2 [00:00<00:00,  5.33it/s]\n",
      "100%|██████████| 2/2 [00:00<00:00,  5.33it/s]\n",
      "100%|██████████| 2/2 [00:00<00:00,  5.32it/s]\n",
      "100%|██████████| 2/2 [00:00<00:00,  5.31it/s]\n",
      "  0%|          | 0/2 [00:00<?, ?it/s]"
     ]
    },
    {
     "name": "stdout",
     "output_type": "stream",
     "text": [
      "Epoch 9, Loss: 612.9559936523438\n",
      "Epoch 9, Loss: 1025.3850402832031\n",
      "Epoch 9, Loss: 493.7760772705078\n",
      "Epoch 9, Loss: 719.432861328125\n"
     ]
    },
    {
     "name": "stderr",
     "output_type": "stream",
     "text": [
      "100%|██████████| 2/2 [00:00<00:00,  5.29it/s]\n",
      "100%|██████████| 2/2 [00:00<00:00,  5.25it/s]\n",
      "100%|██████████| 2/2 [00:00<00:00,  5.25it/s]\n",
      "100%|██████████| 2/2 [00:00<00:00,  5.24it/s]\n",
      "  0%|          | 0/2 [00:00<?, ?it/s]"
     ]
    },
    {
     "name": "stdout",
     "output_type": "stream",
     "text": [
      "Epoch 10, Loss: 585.1499328613281\n",
      "Epoch 10, Loss: 545.9075775146484\n",
      "Epoch 10, Loss: 652.1248168945312\n",
      "Epoch 10, Loss: 422.1177978515625\n"
     ]
    },
    {
     "name": "stderr",
     "output_type": "stream",
     "text": [
      "100%|██████████| 2/2 [00:00<00:00,  4.98it/s]\n",
      "100%|██████████| 2/2 [00:00<00:00,  4.97it/s]\n",
      "100%|██████████| 2/2 [00:00<00:00,  4.97it/s]\n",
      "100%|██████████| 2/2 [00:00<00:00,  4.98it/s]\n",
      "  0%|          | 0/2 [00:00<?, ?it/s]"
     ]
    },
    {
     "name": "stdout",
     "output_type": "stream",
     "text": [
      "Epoch 11, Loss: 567.4996032714844\n",
      "Epoch 11, Loss: 471.83485412597656\n",
      "Epoch 11, Loss: 563.649169921875\n",
      "Epoch 11, Loss: 382.89454650878906\n"
     ]
    },
    {
     "name": "stderr",
     "output_type": "stream",
     "text": [
      "100%|██████████| 2/2 [00:00<00:00,  4.96it/s]\n",
      "100%|██████████| 2/2 [00:00<00:00,  4.96it/s]\n",
      "100%|██████████| 2/2 [00:00<00:00,  4.96it/s]\n",
      "100%|██████████| 2/2 [00:00<00:00,  4.96it/s]\n",
      "  0%|          | 0/2 [00:00<?, ?it/s]"
     ]
    },
    {
     "name": "stdout",
     "output_type": "stream",
     "text": [
      "Epoch 12, Loss: 567.0368347167969\n",
      "Epoch 12, Loss: 416.61326599121094\n",
      "Epoch 12, Loss: 554.3569793701172\n",
      "Epoch 12, Loss: 397.1947479248047\n"
     ]
    },
    {
     "name": "stderr",
     "output_type": "stream",
     "text": [
      "100%|██████████| 2/2 [00:00<00:00,  4.89it/s]\n",
      "\n",
      "\n",
      "100%|██████████| 2/2 [00:00<00:00,  4.89it/s]\n",
      "  0%|          | 0/2 [00:00<?, ?it/s]"
     ]
    },
    {
     "name": "stdout",
     "output_type": "stream",
     "text": [
      "Epoch 13, Loss: 363.8820343017578\n",
      "Epoch 13, Loss: 347.33103942871094\n",
      "Epoch 13, Loss: 595.2870788574219\n",
      "Epoch 13, Loss: 520.4801025390625\n"
     ]
    },
    {
     "name": "stderr",
     "output_type": "stream",
     "text": [
      "100%|██████████| 2/2 [00:00<00:00,  5.01it/s]\n",
      "\n",
      "100%|██████████| 2/2 [00:00<00:00,  5.01it/s]\n",
      "100%|██████████| 2/2 [00:00<00:00,  5.01it/s]\n",
      "  0%|          | 0/2 [00:00<?, ?it/s]"
     ]
    },
    {
     "name": "stdout",
     "output_type": "stream",
     "text": [
      "Epoch 14, Loss: 310.7305908203125\n",
      "Epoch 14, Loss: 521.7239074707031\n",
      "Epoch 14, Loss: 329.5628662109375\n",
      "Epoch 14, Loss: 475.7190246582031\n"
     ]
    },
    {
     "name": "stderr",
     "output_type": "stream",
     "text": [
      "100%|██████████| 2/2 [00:00<00:00,  5.11it/s]\n",
      "100%|██████████| 2/2 [00:00<00:00,  5.11it/s]\n",
      "100%|██████████| 2/2 [00:00<00:00,  5.10it/s]\n",
      "100%|██████████| 2/2 [00:00<00:00,  5.11it/s]\n",
      "  0%|          | 0/2 [00:00<?, ?it/s]"
     ]
    },
    {
     "name": "stdout",
     "output_type": "stream",
     "text": [
      "Epoch 15, Loss: 454.2981262207031\n",
      "Epoch 15, Loss: 323.8158416748047\n",
      "Epoch 15, Loss: 277.4757385253906\n",
      "Epoch 15, Loss: 434.68719482421875\n"
     ]
    },
    {
     "name": "stderr",
     "output_type": "stream",
     "text": [
      "100%|██████████| 2/2 [00:00<00:00,  5.05it/s]\n",
      "\n",
      "100%|██████████| 2/2 [00:00<00:00,  5.05it/s]\n",
      "100%|██████████| 2/2 [00:00<00:00,  5.05it/s]\n",
      "  0%|          | 0/2 [00:00<?, ?it/s]"
     ]
    },
    {
     "name": "stdout",
     "output_type": "stream",
     "text": [
      "Epoch 16, Loss: 333.9217987060547\n",
      "Epoch 16, Loss: 248.4003143310547\n",
      "Epoch 16, Loss: 388.5069885253906\n",
      "Epoch 16, Loss: 390.928955078125\n"
     ]
    },
    {
     "name": "stderr",
     "output_type": "stream",
     "text": [
      "100%|██████████| 2/2 [00:00<00:00,  5.12it/s]\n",
      "100%|██████████| 2/2 [00:00<00:00,  5.11it/s]\n",
      "100%|██████████| 2/2 [00:00<00:00,  5.11it/s]\n",
      "100%|██████████| 2/2 [00:00<00:00,  5.10it/s]\n",
      "  0%|          | 0/2 [00:00<?, ?it/s]"
     ]
    },
    {
     "name": "stdout",
     "output_type": "stream",
     "text": [
      "Epoch 17, Loss: 548.738410949707\n",
      "Epoch 17, Loss: 231.34759521484375\n",
      "Epoch 17, Loss: 353.17958068847656\n",
      "Epoch 17, Loss: 315.6297912597656\n"
     ]
    },
    {
     "name": "stderr",
     "output_type": "stream",
     "text": [
      "100%|██████████| 2/2 [00:00<00:00,  5.45it/s]\n",
      "100%|██████████| 2/2 [00:00<00:00,  5.44it/s]\n",
      "100%|██████████| 2/2 [00:00<00:00,  5.44it/s]\n",
      "100%|██████████| 2/2 [00:00<00:00,  5.43it/s]\n",
      "  0%|          | 0/2 [00:00<?, ?it/s]"
     ]
    },
    {
     "name": "stdout",
     "output_type": "stream",
     "text": [
      "Epoch 18, Loss: 453.13734436035156\n",
      "Epoch 18, Loss: 368.22052001953125\n",
      "Epoch 18, Loss: 316.8172378540039\n",
      "Epoch 18, Loss: 199.24996185302734\n"
     ]
    },
    {
     "name": "stderr",
     "output_type": "stream",
     "text": [
      "100%|██████████| 2/2 [00:00<00:00,  6.12it/s]\n",
      "100%|██████████| 2/2 [00:00<00:00,  6.10it/s]\n",
      "100%|██████████| 2/2 [00:00<00:00,  6.10it/s]\n",
      "100%|██████████| 2/2 [00:00<00:00,  6.09it/s]\n",
      "  0%|          | 0/2 [00:00<?, ?it/s]"
     ]
    },
    {
     "name": "stdout",
     "output_type": "stream",
     "text": [
      "Epoch 19, Loss: 212.76516723632812\n",
      "Epoch 19, Loss: 422.77352142333984\n",
      "Epoch 19, Loss: 326.5271911621094\n",
      "Epoch 19, Loss: 420.07017517089844\n"
     ]
    },
    {
     "name": "stderr",
     "output_type": "stream",
     "text": [
      "100%|██████████| 2/2 [00:00<00:00,  5.04it/s]\n",
      "\n",
      "100%|██████████| 2/2 [00:00<00:00,  5.05it/s]\n",
      "100%|██████████| 2/2 [00:00<00:00,  5.04it/s]\n",
      "  0%|          | 0/2 [00:00<?, ?it/s]"
     ]
    },
    {
     "name": "stdout",
     "output_type": "stream",
     "text": [
      "Epoch 20, Loss: 278.10489654541016\n",
      "Epoch 20, Loss: 195.6471176147461\n",
      "Epoch 20, Loss: 298.0819854736328\n",
      "Epoch 20, Loss: 296.32640075683594\n"
     ]
    },
    {
     "name": "stderr",
     "output_type": "stream",
     "text": [
      "100%|██████████| 2/2 [00:00<00:00,  5.04it/s]\n",
      "100%|██████████| 2/2 [00:00<00:00,  5.04it/s]\n",
      "100%|██████████| 2/2 [00:00<00:00,  5.05it/s]\n",
      "100%|██████████| 2/2 [00:00<00:00,  5.03it/s]\n",
      "  0%|          | 0/2 [00:00<?, ?it/s]"
     ]
    },
    {
     "name": "stdout",
     "output_type": "stream",
     "text": [
      "Epoch 21, Loss: 263.9158935546875\n",
      "Epoch 21, Loss: 262.03882598876953\n",
      "Epoch 21, Loss: 288.7262268066406\n",
      "Epoch 21, Loss: 173.4823989868164\n"
     ]
    },
    {
     "name": "stderr",
     "output_type": "stream",
     "text": [
      "100%|██████████| 2/2 [00:00<00:00,  5.15it/s]\n",
      "\n",
      "100%|██████████| 2/2 [00:00<00:00,  5.15it/s]\n",
      "100%|██████████| 2/2 [00:00<00:00,  5.14it/s]\n",
      "  0%|          | 0/2 [00:00<?, ?it/s]"
     ]
    },
    {
     "name": "stdout",
     "output_type": "stream",
     "text": [
      "Epoch 22, Loss: 338.97420501708984\n",
      "Epoch 22, Loss: 264.9969177246094\n",
      "Epoch 22, Loss: 223.85975646972656\n",
      "Epoch 22, Loss: 156.21734619140625\n"
     ]
    },
    {
     "name": "stderr",
     "output_type": "stream",
     "text": [
      "100%|██████████| 2/2 [00:00<00:00,  5.16it/s]\n",
      "100%|██████████| 2/2 [00:00<00:00,  5.15it/s]\n",
      "100%|██████████| 2/2 [00:00<00:00,  5.15it/s]\n",
      "100%|██████████| 2/2 [00:00<00:00,  5.15it/s]\n",
      "  0%|          | 0/2 [00:00<?, ?it/s]"
     ]
    },
    {
     "name": "stdout",
     "output_type": "stream",
     "text": [
      "Epoch 23, Loss: 221.24392700195312\n",
      "Epoch 23, Loss: 305.94895935058594\n",
      "Epoch 23, Loss: 226.06634521484375\n",
      "Epoch 23, Loss: 153.4748306274414\n"
     ]
    },
    {
     "name": "stderr",
     "output_type": "stream",
     "text": [
      "100%|██████████| 2/2 [00:00<00:00,  5.52it/s]\n",
      "100%|██████████| 2/2 [00:00<00:00,  5.52it/s]\n",
      "100%|██████████| 2/2 [00:00<00:00,  5.52it/s]\n",
      "100%|██████████| 2/2 [00:00<00:00,  5.52it/s]\n",
      "  0%|          | 0/2 [00:00<?, ?it/s]"
     ]
    },
    {
     "name": "stdout",
     "output_type": "stream",
     "text": [
      "Epoch 24, Loss: 210.10552215576172\n",
      "Epoch 24, Loss: 322.7683410644531\n",
      "Epoch 24, Loss: 192.23900604248047\n",
      "Epoch 24, Loss: 144.77764892578125\n"
     ]
    },
    {
     "name": "stderr",
     "output_type": "stream",
     "text": [
      "100%|██████████| 2/2 [00:00<00:00,  4.92it/s]\n",
      "100%|██████████| 2/2 [00:00<00:00,  4.93it/s]\n",
      "100%|██████████| 2/2 [00:00<00:00,  4.92it/s]\n",
      "100%|██████████| 2/2 [00:00<00:00,  4.91it/s]\n",
      "  0%|          | 0/2 [00:00<?, ?it/s]"
     ]
    },
    {
     "name": "stdout",
     "output_type": "stream",
     "text": [
      "Epoch 25, Loss: 271.62975311279297\n",
      "Epoch 25, Loss: 135.4863052368164\n",
      "Epoch 25, Loss: 210.05825805664062\n",
      "Epoch 25, Loss: 170.46640014648438\n"
     ]
    },
    {
     "name": "stderr",
     "output_type": "stream",
     "text": [
      "100%|██████████| 2/2 [00:00<00:00,  5.74it/s]\n",
      "100%|██████████| 2/2 [00:00<00:00,  5.73it/s]\n",
      "100%|██████████| 2/2 [00:00<00:00,  5.73it/s]\n",
      "100%|██████████| 2/2 [00:00<00:00,  5.73it/s]\n",
      "  0%|          | 0/2 [00:00<?, ?it/s]"
     ]
    },
    {
     "name": "stdout",
     "output_type": "stream",
     "text": [
      "Epoch 26, Loss: 186.2066879272461\n",
      "Epoch 26, Loss: 298.903564453125\n",
      "Epoch 26, Loss: 129.41085815429688\n",
      "Epoch 26, Loss: 193.2261962890625\n"
     ]
    },
    {
     "name": "stderr",
     "output_type": "stream",
     "text": [
      "100%|██████████| 2/2 [00:00<00:00,  4.99it/s]\n",
      "\n",
      "100%|██████████| 2/2 [00:00<00:00,  4.99it/s]\n",
      "100%|██████████| 2/2 [00:00<00:00,  4.99it/s]\n",
      "  0%|          | 0/2 [00:00<?, ?it/s]"
     ]
    },
    {
     "name": "stdout",
     "output_type": "stream",
     "text": [
      "Epoch 27, Loss: 179.27388381958008\n",
      "Epoch 27, Loss: 222.63343811035156\n",
      "Epoch 27, Loss: 121.72256469726562\n",
      "Epoch 27, Loss: 183.65029907226562\n"
     ]
    },
    {
     "name": "stderr",
     "output_type": "stream",
     "text": [
      "100%|██████████| 2/2 [00:00<00:00,  5.71it/s]\n",
      "100%|██████████| 2/2 [00:00<00:00,  5.71it/s]\n",
      "100%|██████████| 2/2 [00:00<00:00,  5.71it/s]\n",
      "100%|██████████| 2/2 [00:00<00:00,  5.71it/s]\n",
      "  0%|          | 0/2 [00:00<?, ?it/s]"
     ]
    },
    {
     "name": "stdout",
     "output_type": "stream",
     "text": [
      "Epoch 28, Loss: 116.92913436889648\n",
      "Epoch 28, Loss: 247.08566284179688\n",
      "Epoch 28, Loss: 229.3160400390625\n",
      "Epoch 28, Loss: 185.6867904663086\n"
     ]
    },
    {
     "name": "stderr",
     "output_type": "stream",
     "text": [
      "100%|██████████| 2/2 [00:00<00:00,  5.60it/s]\n",
      "100%|██████████| 2/2 [00:00<00:00,  5.60it/s]\n",
      "\n",
      "100%|██████████| 2/2 [00:00<00:00,  5.59it/s]\n",
      "  0%|          | 0/2 [00:00<?, ?it/s]"
     ]
    },
    {
     "name": "stdout",
     "output_type": "stream",
     "text": [
      "Epoch 29, Loss: 164.9840316772461\n",
      "Epoch 29, Loss: 170.64334869384766\n",
      "Epoch 29, Loss: 232.7321319580078\n",
      "Epoch 29, Loss: 120.53856658935547\n"
     ]
    },
    {
     "name": "stderr",
     "output_type": "stream",
     "text": [
      "100%|██████████| 2/2 [00:00<00:00,  5.06it/s]\n",
      "100%|██████████| 2/2 [00:00<00:00,  5.06it/s]\n",
      "100%|██████████| 2/2 [00:00<00:00,  5.06it/s]\n",
      "100%|██████████| 2/2 [00:00<00:00,  5.06it/s]\n",
      "  0%|          | 0/2 [00:00<?, ?it/s]"
     ]
    },
    {
     "name": "stdout",
     "output_type": "stream",
     "text": [
      "Epoch 30, Loss: 163.37355041503906\n",
      "Epoch 30, Loss: 159.22582244873047\n",
      "Epoch 30, Loss: 217.0943145751953\n",
      "Epoch 30, Loss: 112.9917221069336\n"
     ]
    },
    {
     "name": "stderr",
     "output_type": "stream",
     "text": [
      "100%|██████████| 2/2 [00:00<00:00,  5.34it/s]\n",
      "100%|██████████| 2/2 [00:00<00:00,  5.34it/s]\n",
      "100%|██████████| 2/2 [00:00<00:00,  5.35it/s]\n",
      "100%|██████████| 2/2 [00:00<00:00,  5.34it/s]\n",
      "  0%|          | 0/2 [00:00<?, ?it/s]"
     ]
    },
    {
     "name": "stdout",
     "output_type": "stream",
     "text": [
      "Epoch 31, Loss: 144.60525512695312\n",
      "Epoch 31, Loss: 156.612060546875\n",
      "Epoch 31, Loss: 229.8312225341797\n",
      "Epoch 31, Loss: 110.78099822998047\n"
     ]
    },
    {
     "name": "stderr",
     "output_type": "stream",
     "text": [
      "100%|██████████| 2/2 [00:00<00:00,  5.05it/s]\n",
      "100%|██████████| 2/2 [00:00<00:00,  5.06it/s]\n",
      "100%|██████████| 2/2 [00:00<00:00,  5.05it/s]\n",
      "100%|██████████| 2/2 [00:00<00:00,  5.05it/s]\n",
      "  0%|          | 0/2 [00:00<?, ?it/s]"
     ]
    },
    {
     "name": "stdout",
     "output_type": "stream",
     "text": [
      "Epoch 32, Loss: 149.83760833740234\n",
      "Epoch 32, Loss: 170.4891815185547\n",
      "Epoch 32, Loss: 151.31311416625977\n",
      "Epoch 32, Loss: 96.1343994140625\n"
     ]
    },
    {
     "name": "stderr",
     "output_type": "stream",
     "text": [
      "100%|██████████| 2/2 [00:00<00:00,  5.19it/s]\n",
      "100%|██████████| 2/2 [00:00<00:00,  5.18it/s]\n",
      "100%|██████████| 2/2 [00:00<00:00,  5.18it/s]\n",
      "100%|██████████| 2/2 [00:00<00:00,  5.17it/s]\n",
      "  0%|          | 0/2 [00:00<?, ?it/s]"
     ]
    },
    {
     "name": "stdout",
     "output_type": "stream",
     "text": [
      "Epoch 33, Loss: 101.46011352539062\n",
      "Epoch 33, Loss: 141.00026321411133\n",
      "Epoch 33, Loss: 145.01694107055664\n",
      "Epoch 33, Loss: 167.28630828857422\n"
     ]
    },
    {
     "name": "stderr",
     "output_type": "stream",
     "text": [
      "100%|██████████| 2/2 [00:00<00:00,  4.85it/s]\n",
      "100%|██████████| 2/2 [00:00<00:00,  4.84it/s]\n",
      "\n",
      "100%|██████████| 2/2 [00:00<00:00,  4.83it/s]\n",
      "  0%|          | 0/2 [00:00<?, ?it/s]"
     ]
    },
    {
     "name": "stdout",
     "output_type": "stream",
     "text": [
      "Epoch 34, Loss: 129.9443588256836\n",
      "Epoch 34, Loss: 202.01235961914062\n",
      "Epoch 34, Loss: 95.3519515991211\n",
      "Epoch 34, Loss: 157.90557861328125\n"
     ]
    },
    {
     "name": "stderr",
     "output_type": "stream",
     "text": [
      "100%|██████████| 2/2 [00:00<00:00,  4.85it/s]\n",
      "\n",
      "100%|██████████| 2/2 [00:00<00:00,  4.85it/s]\n",
      "100%|██████████| 2/2 [00:00<00:00,  4.85it/s]\n",
      "  0%|          | 0/2 [00:00<?, ?it/s]"
     ]
    },
    {
     "name": "stdout",
     "output_type": "stream",
     "text": [
      "Epoch 35, Loss: 128.41858291625977\n",
      "Epoch 35, Loss: 143.02048110961914\n",
      "Epoch 35, Loss: 83.91227722167969\n",
      "Epoch 35, Loss: 136.4245719909668\n"
     ]
    },
    {
     "name": "stderr",
     "output_type": "stream",
     "text": [
      "100%|██████████| 2/2 [00:00<00:00,  5.21it/s]\n",
      "100%|██████████| 2/2 [00:00<00:00,  5.21it/s]\n",
      "100%|██████████| 2/2 [00:00<00:00,  5.21it/s]\n",
      "100%|██████████| 2/2 [00:00<00:00,  5.21it/s]\n",
      "  0%|          | 0/2 [00:00<?, ?it/s]"
     ]
    },
    {
     "name": "stdout",
     "output_type": "stream",
     "text": [
      "Epoch 36, Loss: 120.3988037109375\n",
      "Epoch 36, Loss: 216.18128967285156\n",
      "Epoch 36, Loss: 212.3494873046875\n",
      "Epoch 36, Loss: 188.56666946411133\n"
     ]
    },
    {
     "name": "stderr",
     "output_type": "stream",
     "text": [
      "100%|██████████| 2/2 [00:00<00:00,  5.58it/s]\n",
      "100%|██████████| 2/2 [00:00<00:00,  5.59it/s]\n",
      "100%|██████████| 2/2 [00:00<00:00,  5.57it/s]\n",
      "100%|██████████| 2/2 [00:00<00:00,  5.57it/s]\n",
      "  0%|          | 0/2 [00:00<?, ?it/s]"
     ]
    },
    {
     "name": "stdout",
     "output_type": "stream",
     "text": [
      "Epoch 37, Loss: 215.06429290771484\n",
      "Epoch 37, Loss: 168.40794372558594\n",
      "Epoch 37, Loss: 93.08735656738281\n",
      "Epoch 37, Loss: 228.4792709350586\n"
     ]
    },
    {
     "name": "stderr",
     "output_type": "stream",
     "text": [
      "100%|██████████| 2/2 [00:00<00:00,  5.01it/s]\n",
      "100%|██████████| 2/2 [00:00<00:00,  5.01it/s]\n",
      "100%|██████████| 2/2 [00:00<00:00,  5.00it/s]\n",
      "100%|██████████| 2/2 [00:00<00:00,  5.00it/s]\n",
      "  0%|          | 0/2 [00:00<?, ?it/s]"
     ]
    },
    {
     "name": "stdout",
     "output_type": "stream",
     "text": [
      "Epoch 38, Loss: 92.18876266479492\n",
      "Epoch 38, Loss: 280.2066345214844\n",
      "Epoch 38, Loss: 148.47976684570312\n",
      "Epoch 38, Loss: 113.61820220947266\n"
     ]
    },
    {
     "name": "stderr",
     "output_type": "stream",
     "text": [
      "100%|██████████| 2/2 [00:00<00:00,  5.09it/s]\n",
      "100%|██████████| 2/2 [00:00<00:00,  5.09it/s]\n",
      "100%|██████████| 2/2 [00:00<00:00,  5.09it/s]\n",
      "100%|██████████| 2/2 [00:00<00:00,  5.09it/s]\n",
      "  0%|          | 0/2 [00:00<?, ?it/s]"
     ]
    },
    {
     "name": "stdout",
     "output_type": "stream",
     "text": [
      "Epoch 39, Loss: 88.57106399536133\n",
      "Epoch 39, Loss: 248.26265716552734\n",
      "Epoch 39, Loss: 189.8505401611328\n",
      "Epoch 39, Loss: 104.46116638183594\n"
     ]
    },
    {
     "name": "stderr",
     "output_type": "stream",
     "text": [
      "100%|██████████| 2/2 [00:00<00:00,  4.83it/s]\n",
      "100%|██████████| 2/2 [00:00<00:00,  4.83it/s]\n",
      "100%|██████████| 2/2 [00:00<00:00,  4.83it/s]\n",
      "100%|██████████| 2/2 [00:00<00:00,  4.82it/s]\n",
      "  0%|          | 0/2 [00:00<?, ?it/s]"
     ]
    },
    {
     "name": "stdout",
     "output_type": "stream",
     "text": [
      "Epoch 40, Loss: 104.18764877319336\n",
      "Epoch 40, Loss: 237.65160369873047\n",
      "Epoch 40, Loss: 135.6004180908203\n",
      "Epoch 40, Loss: 242.035400390625\n"
     ]
    },
    {
     "name": "stderr",
     "output_type": "stream",
     "text": [
      "100%|██████████| 2/2 [00:00<00:00,  5.72it/s]\n",
      "100%|██████████| 2/2 [00:00<00:00,  5.71it/s]\n",
      "100%|██████████| 2/2 [00:00<00:00,  5.71it/s]\n",
      "100%|██████████| 2/2 [00:00<00:00,  5.70it/s]\n",
      "  0%|          | 0/2 [00:00<?, ?it/s]"
     ]
    },
    {
     "name": "stdout",
     "output_type": "stream",
     "text": [
      "Epoch 41, Loss: 230.1510772705078\n",
      "Epoch 41, Loss: 273.1063919067383\n",
      "Epoch 41, Loss: 332.43961334228516\n",
      "Epoch 41, Loss: 183.637451171875\n"
     ]
    },
    {
     "name": "stderr",
     "output_type": "stream",
     "text": [
      "100%|██████████| 2/2 [00:00<00:00,  5.18it/s]\n",
      "100%|██████████| 2/2 [00:00<00:00,  5.18it/s]\n",
      "100%|██████████| 2/2 [00:00<00:00,  5.18it/s]\n",
      "100%|██████████| 2/2 [00:00<00:00,  5.18it/s]\n",
      "  0%|          | 0/2 [00:00<?, ?it/s]"
     ]
    },
    {
     "name": "stdout",
     "output_type": "stream",
     "text": [
      "Epoch 42, Loss: 223.26515197753906\n",
      "Epoch 42, Loss: 265.7989807128906\n",
      "Epoch 42, Loss: 198.48538208007812\n",
      "Epoch 42, Loss: 157.43437957763672\n"
     ]
    },
    {
     "name": "stderr",
     "output_type": "stream",
     "text": [
      "100%|██████████| 2/2 [00:00<00:00,  5.29it/s]\n",
      "100%|██████████| 2/2 [00:00<00:00,  5.30it/s]\n",
      "100%|██████████| 2/2 [00:00<00:00,  5.29it/s]\n",
      "100%|██████████| 2/2 [00:00<00:00,  5.28it/s]\n",
      "  0%|          | 0/2 [00:00<?, ?it/s]"
     ]
    },
    {
     "name": "stdout",
     "output_type": "stream",
     "text": [
      "Epoch 43, Loss: 192.6380157470703\n",
      "Epoch 43, Loss: 341.56192779541016\n",
      "Epoch 43, Loss: 203.7267303466797\n",
      "Epoch 43, Loss: 252.46749877929688\n"
     ]
    },
    {
     "name": "stderr",
     "output_type": "stream",
     "text": [
      "100%|██████████| 2/2 [00:00<00:00,  5.48it/s]\n",
      "100%|██████████| 2/2 [00:00<00:00,  5.49it/s]\n",
      "100%|██████████| 2/2 [00:00<00:00,  5.47it/s]\n",
      "100%|██████████| 2/2 [00:00<00:00,  5.46it/s]\n",
      "  0%|          | 0/2 [00:00<?, ?it/s]"
     ]
    },
    {
     "name": "stdout",
     "output_type": "stream",
     "text": [
      "Epoch 44, Loss: 186.10971069335938\n",
      "Epoch 44, Loss: 236.4739761352539\n",
      "Epoch 44, Loss: 202.70751190185547\n",
      "Epoch 44, Loss: 301.04561614990234\n"
     ]
    },
    {
     "name": "stderr",
     "output_type": "stream",
     "text": [
      "100%|██████████| 2/2 [00:00<00:00,  4.93it/s]\n",
      "\n",
      "100%|██████████| 2/2 [00:00<00:00,  4.93it/s]\n",
      "100%|██████████| 2/2 [00:00<00:00,  4.93it/s]\n",
      "  0%|          | 0/2 [00:00<?, ?it/s]"
     ]
    },
    {
     "name": "stdout",
     "output_type": "stream",
     "text": [
      "Epoch 45, Loss: 250.4500961303711\n",
      "Epoch 45, Loss: 239.42792510986328\n",
      "Epoch 45, Loss: 182.39755249023438\n",
      "Epoch 45, Loss: 224.8429183959961\n"
     ]
    },
    {
     "name": "stderr",
     "output_type": "stream",
     "text": [
      "100%|██████████| 2/2 [00:00<00:00,  5.13it/s]\n",
      "100%|██████████| 2/2 [00:00<00:00,  5.13it/s]\n",
      "100%|██████████| 2/2 [00:00<00:00,  5.14it/s]\n",
      "100%|██████████| 2/2 [00:00<00:00,  5.12it/s]\n",
      "  0%|          | 0/2 [00:00<?, ?it/s]"
     ]
    },
    {
     "name": "stdout",
     "output_type": "stream",
     "text": [
      "Epoch 46, Loss: 206.35818481445312\n",
      "Epoch 46, Loss: 222.0789794921875\n",
      "Epoch 46, Loss: 200.3244400024414\n",
      "Epoch 46, Loss: 160.1844482421875\n"
     ]
    },
    {
     "name": "stderr",
     "output_type": "stream",
     "text": [
      "100%|██████████| 2/2 [00:00<00:00,  5.74it/s]\n",
      "100%|██████████| 2/2 [00:00<00:00,  5.74it/s]\n",
      "100%|██████████| 2/2 [00:00<00:00,  5.74it/s]\n",
      "100%|██████████| 2/2 [00:00<00:00,  5.74it/s]\n",
      "  0%|          | 0/2 [00:00<?, ?it/s]"
     ]
    },
    {
     "name": "stdout",
     "output_type": "stream",
     "text": [
      "Epoch 47, Loss: 219.5343017578125\n",
      "Epoch 47, Loss: 198.22171020507812\n",
      "Epoch 47, Loss: 277.2649230957031\n",
      "Epoch 47, Loss: 155.2884750366211\n"
     ]
    },
    {
     "name": "stderr",
     "output_type": "stream",
     "text": [
      "100%|██████████| 2/2 [00:00<00:00,  5.15it/s]\n",
      "100%|██████████| 2/2 [00:00<00:00,  5.15it/s]\n",
      "100%|██████████| 2/2 [00:00<00:00,  5.15it/s]\n",
      "100%|██████████| 2/2 [00:00<00:00,  5.13it/s]\n",
      "  0%|          | 0/2 [00:00<?, ?it/s]"
     ]
    },
    {
     "name": "stdout",
     "output_type": "stream",
     "text": [
      "Epoch 48, Loss: 226.5216827392578\n",
      "Epoch 48, Loss: 156.76910400390625\n",
      "Epoch 48, Loss: 187.0162124633789\n",
      "Epoch 48, Loss: 201.9825668334961\n"
     ]
    },
    {
     "name": "stderr",
     "output_type": "stream",
     "text": [
      "100%|██████████| 2/2 [00:00<00:00,  4.91it/s]\n",
      "100%|██████████| 2/2 [00:00<00:00,  4.91it/s]\n",
      "100%|██████████| 2/2 [00:00<00:00,  4.91it/s]\n",
      "100%|██████████| 2/2 [00:00<00:00,  4.91it/s]\n",
      "  0%|          | 0/2 [00:00<?, ?it/s]"
     ]
    },
    {
     "name": "stdout",
     "output_type": "stream",
     "text": [
      "Epoch 49, Loss: 176.67026901245117\n",
      "Epoch 49, Loss: 134.12212753295898\n",
      "Epoch 49, Loss: 193.56366729736328\n",
      "Epoch 49, Loss: 208.09332275390625\n"
     ]
    },
    {
     "name": "stderr",
     "output_type": "stream",
     "text": [
      "100%|██████████| 2/2 [00:00<00:00,  5.58it/s]\n",
      "100%|██████████| 2/2 [00:00<00:00,  5.58it/s]\n",
      "100%|██████████| 2/2 [00:00<00:00,  5.58it/s]\n",
      "100%|██████████| 2/2 [00:00<00:00,  5.58it/s]\n",
      "  0%|          | 0/2 [00:00<?, ?it/s]"
     ]
    },
    {
     "name": "stdout",
     "output_type": "stream",
     "text": [
      "Epoch 50, Loss: 274.80116271972656\n",
      "Epoch 50, Loss: 137.17371368408203\n",
      "Epoch 50, Loss: 190.5055694580078\n",
      "Epoch 50, Loss: 172.3837890625\n"
     ]
    },
    {
     "name": "stderr",
     "output_type": "stream",
     "text": [
      "100%|██████████| 2/2 [00:00<00:00,  5.07it/s]\n",
      "100%|██████████| 2/2 [00:00<00:00,  5.08it/s]\n",
      "100%|██████████| 2/2 [00:00<00:00,  5.08it/s]\n",
      "100%|██████████| 2/2 [00:00<00:00,  5.07it/s]\n",
      "  0%|          | 0/2 [00:00<?, ?it/s]"
     ]
    },
    {
     "name": "stdout",
     "output_type": "stream",
     "text": [
      "Epoch 51, Loss: 187.4234848022461\n",
      "Epoch 51, Loss: 154.28438186645508\n",
      "Epoch 51, Loss: 123.08814239501953\n",
      "Epoch 51, Loss: 146.54000854492188\n"
     ]
    },
    {
     "name": "stderr",
     "output_type": "stream",
     "text": [
      "100%|██████████| 2/2 [00:00<00:00,  4.80it/s]\n",
      "100%|██████████| 2/2 [00:00<00:00,  4.81it/s]\n",
      "100%|██████████| 2/2 [00:00<00:00,  4.80it/s]\n",
      "100%|██████████| 2/2 [00:00<00:00,  4.79it/s]\n",
      "  0%|          | 0/2 [00:00<?, ?it/s]"
     ]
    },
    {
     "name": "stdout",
     "output_type": "stream",
     "text": [
      "Epoch 52, Loss: 219.5638656616211\n",
      "Epoch 52, Loss: 133.66697692871094\n",
      "Epoch 52, Loss: 154.24551391601562\n",
      "Epoch 52, Loss: 106.30813598632812\n"
     ]
    },
    {
     "name": "stderr",
     "output_type": "stream",
     "text": [
      "100%|██████████| 2/2 [00:00<00:00,  5.07it/s]\n",
      "100%|██████████| 2/2 [00:00<00:00,  5.07it/s]\n",
      "100%|██████████| 2/2 [00:00<00:00,  5.07it/s]\n",
      "100%|██████████| 2/2 [00:00<00:00,  5.07it/s]\n",
      "  0%|          | 0/2 [00:00<?, ?it/s]"
     ]
    },
    {
     "name": "stdout",
     "output_type": "stream",
     "text": [
      "Epoch 53, Loss: 153.12847900390625\n",
      "Epoch 53, Loss: 129.38678741455078\n",
      "Epoch 53, Loss: 180.1896743774414\n",
      "Epoch 53, Loss: 104.92485046386719\n"
     ]
    },
    {
     "name": "stderr",
     "output_type": "stream",
     "text": [
      "100%|██████████| 2/2 [00:00<00:00,  5.27it/s]\n",
      "100%|██████████| 2/2 [00:00<00:00,  5.27it/s]\n",
      "100%|██████████| 2/2 [00:00<00:00,  5.27it/s]\n",
      "100%|██████████| 2/2 [00:00<00:00,  5.27it/s]\n",
      "  0%|          | 0/2 [00:00<?, ?it/s]"
     ]
    },
    {
     "name": "stdout",
     "output_type": "stream",
     "text": [
      "Epoch 54, Loss: 147.7710304260254\n",
      "Epoch 54, Loss: 217.0615692138672\n",
      "Epoch 54, Loss: 165.04483795166016\n",
      "Epoch 54, Loss: 91.98617935180664\n"
     ]
    },
    {
     "name": "stderr",
     "output_type": "stream",
     "text": [
      "100%|██████████| 2/2 [00:00<00:00,  4.82it/s]\n",
      "\n",
      "100%|██████████| 2/2 [00:00<00:00,  4.82it/s]\n",
      "100%|██████████| 2/2 [00:00<00:00,  4.82it/s]\n",
      "  0%|          | 0/2 [00:00<?, ?it/s]"
     ]
    },
    {
     "name": "stdout",
     "output_type": "stream",
     "text": [
      "Epoch 55, Loss: 147.18911743164062\n",
      "Epoch 55, Loss: 118.58876419067383\n",
      "Epoch 55, Loss: 170.7473907470703\n",
      "Epoch 55, Loss: 106.7305908203125\n"
     ]
    },
    {
     "name": "stderr",
     "output_type": "stream",
     "text": [
      "100%|██████████| 2/2 [00:00<00:00,  5.74it/s]\n",
      "100%|██████████| 2/2 [00:00<00:00,  5.73it/s]\n",
      "100%|██████████| 2/2 [00:00<00:00,  5.73it/s]\n",
      "100%|██████████| 2/2 [00:00<00:00,  5.73it/s]\n",
      "  0%|          | 0/2 [00:00<?, ?it/s]"
     ]
    },
    {
     "name": "stdout",
     "output_type": "stream",
     "text": [
      "Epoch 56, Loss: 213.35956573486328\n",
      "Epoch 56, Loss: 130.39711380004883\n",
      "Epoch 56, Loss: 117.67032623291016\n",
      "Epoch 56, Loss: 82.75474548339844\n"
     ]
    },
    {
     "name": "stderr",
     "output_type": "stream",
     "text": [
      "100%|██████████| 2/2 [00:00<00:00,  4.90it/s]\n",
      "100%|██████████| 2/2 [00:00<00:00,  4.90it/s]\n",
      "100%|██████████| 2/2 [00:00<00:00,  4.89it/s]\n",
      "100%|██████████| 2/2 [00:00<00:00,  4.90it/s]\n",
      "  0%|          | 0/2 [00:00<?, ?it/s]"
     ]
    },
    {
     "name": "stdout",
     "output_type": "stream",
     "text": [
      "Epoch 57, Loss: 151.6778793334961\n",
      "Epoch 57, Loss: 132.67678451538086\n",
      "Epoch 57, Loss: 125.08540344238281\n",
      "Epoch 57, Loss: 76.06345748901367\n"
     ]
    },
    {
     "name": "stderr",
     "output_type": "stream",
     "text": [
      "100%|██████████| 2/2 [00:00<00:00,  5.10it/s]\n",
      "100%|██████████| 2/2 [00:00<00:00,  5.11it/s]\n",
      "100%|██████████| 2/2 [00:00<00:00,  5.09it/s]\n",
      "100%|██████████| 2/2 [00:00<00:00,  5.10it/s]\n",
      "  0%|          | 0/2 [00:00<?, ?it/s]"
     ]
    },
    {
     "name": "stdout",
     "output_type": "stream",
     "text": [
      "Epoch 58, Loss: 149.1683349609375\n",
      "Epoch 58, Loss: 84.47506332397461\n",
      "Epoch 58, Loss: 115.74211883544922\n",
      "Epoch 58, Loss: 105.26129150390625\n"
     ]
    },
    {
     "name": "stderr",
     "output_type": "stream",
     "text": [
      "100%|██████████| 2/2 [00:00<00:00,  5.27it/s]\n",
      "\n",
      "100%|██████████| 2/2 [00:00<00:00,  5.28it/s]\n",
      "100%|██████████| 2/2 [00:00<00:00,  5.26it/s]\n",
      "  0%|          | 0/2 [00:00<?, ?it/s]"
     ]
    },
    {
     "name": "stdout",
     "output_type": "stream",
     "text": [
      "Epoch 59, Loss: 131.8941192626953\n",
      "Epoch 59, Loss: 133.91025924682617\n",
      "Epoch 59, Loss: 106.50118255615234\n",
      "Epoch 59, Loss: 75.46947860717773\n"
     ]
    },
    {
     "name": "stderr",
     "output_type": "stream",
     "text": [
      "100%|██████████| 2/2 [00:00<00:00,  5.00it/s]\n",
      "\n",
      "100%|██████████| 2/2 [00:00<00:00,  5.00it/s]\n",
      "100%|██████████| 2/2 [00:00<00:00,  4.99it/s]\n",
      "  0%|          | 0/2 [00:00<?, ?it/s]"
     ]
    },
    {
     "name": "stdout",
     "output_type": "stream",
     "text": [
      "Epoch 60, Loss: 143.0934066772461\n",
      "Epoch 60, Loss: 98.79110717773438\n",
      "Epoch 60, Loss: 67.9687385559082\n",
      "Epoch 60, Loss: 111.25626754760742\n"
     ]
    },
    {
     "name": "stderr",
     "output_type": "stream",
     "text": [
      "100%|██████████| 2/2 [00:00<00:00,  5.76it/s]\n",
      "100%|██████████| 2/2 [00:00<00:00,  5.76it/s]\n",
      "\n",
      "100%|██████████| 2/2 [00:00<00:00,  5.77it/s]\n",
      "  0%|          | 0/2 [00:00<?, ?it/s]"
     ]
    },
    {
     "name": "stdout",
     "output_type": "stream",
     "text": [
      "Epoch 61, Loss: 71.14764022827148\n",
      "Epoch 61, Loss: 96.60902786254883\n",
      "Epoch 61, Loss: 231.40447998046875\n",
      "Epoch 61, Loss: 96.26552200317383\n"
     ]
    },
    {
     "name": "stderr",
     "output_type": "stream",
     "text": [
      "100%|██████████| 2/2 [00:00<00:00,  4.93it/s]\n",
      "100%|██████████| 2/2 [00:00<00:00,  4.93it/s]\n",
      "100%|██████████| 2/2 [00:00<00:00,  4.92it/s]\n",
      "100%|██████████| 2/2 [00:00<00:00,  4.93it/s]\n",
      "  0%|          | 0/2 [00:00<?, ?it/s]"
     ]
    },
    {
     "name": "stdout",
     "output_type": "stream",
     "text": [
      "Epoch 62, Loss: 181.71247100830078\n",
      "Epoch 62, Loss: 67.59380340576172\n",
      "Epoch 62, Loss: 101.40541458129883\n",
      "Epoch 62, Loss: 110.67712020874023\n"
     ]
    },
    {
     "name": "stderr",
     "output_type": "stream",
     "text": [
      "100%|██████████| 2/2 [00:00<00:00,  6.02it/s]\n",
      "100%|██████████| 2/2 [00:00<00:00,  6.01it/s]\n",
      "100%|██████████| 2/2 [00:00<00:00,  6.01it/s]\n",
      "100%|██████████| 2/2 [00:00<00:00,  6.00it/s]\n",
      "  0%|          | 0/2 [00:00<?, ?it/s]"
     ]
    },
    {
     "name": "stdout",
     "output_type": "stream",
     "text": [
      "Epoch 63, Loss: 121.35372161865234\n",
      "Epoch 63, Loss: 194.8857765197754\n",
      "Epoch 63, Loss: 117.51860809326172\n",
      "Epoch 63, Loss: 63.364986419677734\n"
     ]
    },
    {
     "name": "stderr",
     "output_type": "stream",
     "text": [
      "100%|██████████| 2/2 [00:00<00:00,  4.99it/s]\n",
      "100%|██████████| 2/2 [00:00<00:00,  4.99it/s]\n",
      "\n",
      "100%|██████████| 2/2 [00:00<00:00,  4.98it/s]\n",
      "  0%|          | 0/2 [00:00<?, ?it/s]"
     ]
    },
    {
     "name": "stdout",
     "output_type": "stream",
     "text": [
      "Epoch 64, Loss: 99.1765251159668\n",
      "Epoch 64, Loss: 136.89951705932617\n",
      "Epoch 64, Loss: 62.24717712402344\n",
      "Epoch 64, Loss: 120.78987503051758\n"
     ]
    },
    {
     "name": "stderr",
     "output_type": "stream",
     "text": [
      "100%|██████████| 2/2 [00:00<00:00,  5.00it/s]\n",
      "\n",
      "100%|██████████| 2/2 [00:00<00:00,  5.01it/s]\n",
      "100%|██████████| 2/2 [00:00<00:00,  4.99it/s]\n",
      "  0%|          | 0/2 [00:00<?, ?it/s]"
     ]
    },
    {
     "name": "stdout",
     "output_type": "stream",
     "text": [
      "Epoch 65, Loss: 117.46513366699219\n",
      "Epoch 65, Loss: 107.13814544677734\n",
      "Epoch 65, Loss: 103.2718620300293\n",
      "Epoch 65, Loss: 69.67823791503906\n"
     ]
    },
    {
     "name": "stderr",
     "output_type": "stream",
     "text": [
      "100%|██████████| 2/2 [00:00<00:00,  5.10it/s]\n",
      "\n",
      "100%|██████████| 2/2 [00:00<00:00,  5.11it/s]\n",
      "100%|██████████| 2/2 [00:00<00:00,  5.10it/s]\n",
      "  0%|          | 0/2 [00:00<?, ?it/s]"
     ]
    },
    {
     "name": "stdout",
     "output_type": "stream",
     "text": [
      "Epoch 66, Loss: 97.12253952026367\n",
      "Epoch 66, Loss: 131.74776077270508\n",
      "Epoch 66, Loss: 68.70769119262695\n",
      "Epoch 66, Loss: 83.03356742858887\n"
     ]
    },
    {
     "name": "stderr",
     "output_type": "stream",
     "text": [
      "100%|██████████| 2/2 [00:00<00:00,  4.89it/s]\n",
      "100%|██████████| 2/2 [00:00<00:00,  4.89it/s]\n",
      "\n",
      "100%|██████████| 2/2 [00:00<00:00,  4.89it/s]\n",
      "  0%|          | 0/2 [00:00<?, ?it/s]"
     ]
    },
    {
     "name": "stdout",
     "output_type": "stream",
     "text": [
      "Epoch 67, Loss: 92.88748168945312\n",
      "Epoch 67, Loss: 145.12029266357422\n",
      "Epoch 67, Loss: 70.46451568603516\n",
      "Epoch 67, Loss: 83.85668182373047\n"
     ]
    },
    {
     "name": "stderr",
     "output_type": "stream",
     "text": [
      "100%|██████████| 2/2 [00:00<00:00,  5.13it/s]\n",
      "\n",
      "\n",
      "100%|██████████| 2/2 [00:00<00:00,  5.12it/s]\n",
      "  0%|          | 0/2 [00:00<?, ?it/s]"
     ]
    },
    {
     "name": "stdout",
     "output_type": "stream",
     "text": [
      "Epoch 68, Loss: 67.20683288574219\n",
      "Epoch 68, Loss: 87.51165390014648\n",
      "Epoch 68, Loss: 111.22754287719727\n",
      "Epoch 68, Loss: 127.95722198486328\n"
     ]
    },
    {
     "name": "stderr",
     "output_type": "stream",
     "text": [
      "100%|██████████| 2/2 [00:00<00:00,  5.12it/s]\n",
      "100%|██████████| 2/2 [00:00<00:00,  5.12it/s]\n",
      "100%|██████████| 2/2 [00:00<00:00,  5.12it/s]\n",
      "100%|██████████| 2/2 [00:00<00:00,  5.11it/s]\n",
      "  0%|          | 0/2 [00:00<?, ?it/s]"
     ]
    },
    {
     "name": "stdout",
     "output_type": "stream",
     "text": [
      "Epoch 69, Loss: 82.96377563476562\n",
      "Epoch 69, Loss: 57.49786186218262\n",
      "Epoch 69, Loss: 181.69149780273438\n",
      "Epoch 69, Loss: 90.13844299316406\n"
     ]
    },
    {
     "name": "stderr",
     "output_type": "stream",
     "text": [
      "100%|██████████| 2/2 [00:00<00:00,  5.50it/s]\n",
      "\n",
      "100%|██████████| 2/2 [00:00<00:00,  5.51it/s]\n",
      "100%|██████████| 2/2 [00:00<00:00,  5.51it/s]\n",
      "  0%|          | 0/2 [00:00<?, ?it/s]"
     ]
    },
    {
     "name": "stdout",
     "output_type": "stream",
     "text": [
      "Epoch 70, Loss: 64.8112964630127\n",
      "Epoch 70, Loss: 101.28026580810547\n",
      "Epoch 70, Loss: 181.51766204833984\n",
      "Epoch 70, Loss: 102.88822937011719\n"
     ]
    },
    {
     "name": "stderr",
     "output_type": "stream",
     "text": [
      "100%|██████████| 2/2 [00:00<00:00,  5.07it/s]\n",
      "100%|██████████| 2/2 [00:00<00:00,  5.08it/s]\n",
      "100%|██████████| 2/2 [00:00<00:00,  5.07it/s]\n",
      "100%|██████████| 2/2 [00:00<00:00,  5.06it/s]\n",
      "  0%|          | 0/2 [00:00<?, ?it/s]"
     ]
    },
    {
     "name": "stdout",
     "output_type": "stream",
     "text": [
      "Epoch 71, Loss: 121.7649040222168\n",
      "Epoch 71, Loss: 107.65137481689453\n",
      "Epoch 71, Loss: 83.5300121307373\n",
      "Epoch 71, Loss: 63.31682586669922\n"
     ]
    },
    {
     "name": "stderr",
     "output_type": "stream",
     "text": [
      "100%|██████████| 2/2 [00:00<00:00,  5.80it/s]\n",
      "\n",
      "100%|██████████| 2/2 [00:00<00:00,  5.79it/s]\n",
      "100%|██████████| 2/2 [00:00<00:00,  5.78it/s]\n",
      "  0%|          | 0/2 [00:00<?, ?it/s]"
     ]
    },
    {
     "name": "stdout",
     "output_type": "stream",
     "text": [
      "Epoch 72, Loss: 95.1722412109375\n",
      "Epoch 72, Loss: 56.08340644836426\n",
      "Epoch 72, Loss: 192.09800720214844\n",
      "Epoch 72, Loss: 95.74682235717773\n"
     ]
    },
    {
     "name": "stderr",
     "output_type": "stream",
     "text": [
      "100%|██████████| 2/2 [00:00<00:00,  5.07it/s]\n",
      "\n",
      "100%|██████████| 2/2 [00:00<00:00,  5.07it/s]\n",
      "100%|██████████| 2/2 [00:00<00:00,  5.06it/s]\n",
      "  0%|          | 0/2 [00:00<?, ?it/s]"
     ]
    },
    {
     "name": "stdout",
     "output_type": "stream",
     "text": [
      "Epoch 73, Loss: 94.326416015625\n",
      "Epoch 73, Loss: 97.94956588745117\n",
      "Epoch 73, Loss: 51.19973564147949\n",
      "Epoch 73, Loss: 127.27867126464844\n"
     ]
    },
    {
     "name": "stderr",
     "output_type": "stream",
     "text": [
      "100%|██████████| 2/2 [00:00<00:00,  5.52it/s]\n",
      "100%|██████████| 2/2 [00:00<00:00,  5.51it/s]\n",
      "100%|██████████| 2/2 [00:00<00:00,  5.51it/s]\n",
      "100%|██████████| 2/2 [00:00<00:00,  5.52it/s]\n",
      "  0%|          | 0/2 [00:00<?, ?it/s]"
     ]
    },
    {
     "name": "stdout",
     "output_type": "stream",
     "text": [
      "Epoch 74, Loss: 54.90471267700195\n",
      "Epoch 74, Loss: 109.47910690307617\n",
      "Epoch 74, Loss: 91.03816604614258\n",
      "Epoch 74, Loss: 184.9437255859375\n"
     ]
    },
    {
     "name": "stderr",
     "output_type": "stream",
     "text": [
      "100%|██████████| 2/2 [00:00<00:00,  4.88it/s]\n",
      "100%|██████████| 2/2 [00:00<00:00,  4.88it/s]\n",
      "100%|██████████| 2/2 [00:00<00:00,  4.87it/s]\n",
      "100%|██████████| 2/2 [00:00<00:00,  4.87it/s]\n",
      "  0%|          | 0/2 [00:00<?, ?it/s]"
     ]
    },
    {
     "name": "stdout",
     "output_type": "stream",
     "text": [
      "Epoch 75, Loss: 94.87689971923828\n",
      "Epoch 75, Loss: 95.8750228881836\n",
      "Epoch 75, Loss: 49.87084770202637\n",
      "Epoch 75, Loss: 115.67722129821777\n"
     ]
    },
    {
     "name": "stderr",
     "output_type": "stream",
     "text": [
      "100%|██████████| 2/2 [00:00<00:00,  5.07it/s]\n",
      "100%|██████████| 2/2 [00:00<00:00,  5.07it/s]\n",
      "100%|██████████| 2/2 [00:00<00:00,  5.08it/s]\n",
      "100%|██████████| 2/2 [00:00<00:00,  5.06it/s]\n",
      "  0%|          | 0/2 [00:00<?, ?it/s]"
     ]
    },
    {
     "name": "stdout",
     "output_type": "stream",
     "text": [
      "Epoch 76, Loss: 85.70926666259766\n",
      "Epoch 76, Loss: 100.83070373535156\n",
      "Epoch 76, Loss: 107.85925102233887\n",
      "Epoch 76, Loss: 63.93647766113281\n"
     ]
    },
    {
     "name": "stderr",
     "output_type": "stream",
     "text": [
      "100%|██████████| 2/2 [00:00<00:00,  5.10it/s]\n",
      "100%|██████████| 2/2 [00:00<00:00,  5.11it/s]\n",
      "100%|██████████| 2/2 [00:00<00:00,  5.10it/s]\n",
      "100%|██████████| 2/2 [00:00<00:00,  5.08it/s]\n",
      "  0%|          | 0/2 [00:00<?, ?it/s]"
     ]
    },
    {
     "name": "stdout",
     "output_type": "stream",
     "text": [
      "Epoch 77, Loss: 178.94963836669922\n",
      "Epoch 77, Loss: 68.02668571472168\n",
      "Epoch 77, Loss: 59.81135940551758\n",
      "Epoch 77, Loss: 83.18351745605469\n"
     ]
    },
    {
     "name": "stderr",
     "output_type": "stream",
     "text": [
      "100%|██████████| 2/2 [00:00<00:00,  5.44it/s]\n",
      "100%|██████████| 2/2 [00:00<00:00,  5.44it/s]\n",
      "100%|██████████| 2/2 [00:00<00:00,  5.44it/s]\n",
      "100%|██████████| 2/2 [00:00<00:00,  5.45it/s]\n",
      "  0%|          | 0/2 [00:00<?, ?it/s]"
     ]
    },
    {
     "name": "stdout",
     "output_type": "stream",
     "text": [
      "Epoch 78, Loss: 75.13310241699219\n",
      "Epoch 78, Loss: 57.318037033081055\n",
      "Epoch 78, Loss: 214.67813873291016\n",
      "Epoch 78, Loss: 110.73956680297852\n"
     ]
    },
    {
     "name": "stderr",
     "output_type": "stream",
     "text": [
      "100%|██████████| 2/2 [00:00<00:00,  5.12it/s]\n",
      "100%|██████████| 2/2 [00:00<00:00,  5.13it/s]\n",
      "100%|██████████| 2/2 [00:00<00:00,  5.12it/s]\n",
      "100%|██████████| 2/2 [00:00<00:00,  5.11it/s]\n",
      "  0%|          | 0/2 [00:00<?, ?it/s]"
     ]
    },
    {
     "name": "stdout",
     "output_type": "stream",
     "text": [
      "Epoch 79, Loss: 107.77386093139648\n",
      "Epoch 79, Loss: 49.88451957702637\n",
      "Epoch 79, Loss: 78.16671371459961\n",
      "Epoch 79, Loss: 139.80018615722656\n"
     ]
    },
    {
     "name": "stderr",
     "output_type": "stream",
     "text": [
      "100%|██████████| 2/2 [00:00<00:00,  5.52it/s]\n",
      "100%|██████████| 2/2 [00:00<00:00,  5.52it/s]\n",
      "\n",
      "100%|██████████| 2/2 [00:00<00:00,  5.51it/s]\n",
      "  0%|          | 0/2 [00:00<?, ?it/s]"
     ]
    },
    {
     "name": "stdout",
     "output_type": "stream",
     "text": [
      "Epoch 80, Loss: 99.65158462524414\n",
      "Epoch 80, Loss: 72.55667495727539\n",
      "Epoch 80, Loss: 134.59351348876953\n",
      "Epoch 80, Loss: 129.78541564941406\n"
     ]
    },
    {
     "name": "stderr",
     "output_type": "stream",
     "text": [
      "100%|██████████| 2/2 [00:00<00:00,  5.02it/s]\n",
      "100%|██████████| 2/2 [00:00<00:00,  5.02it/s]\n",
      "100%|██████████| 2/2 [00:00<00:00,  5.02it/s]\n",
      "100%|██████████| 2/2 [00:00<00:00,  5.02it/s]\n",
      "  0%|          | 0/2 [00:00<?, ?it/s]"
     ]
    },
    {
     "name": "stdout",
     "output_type": "stream",
     "text": [
      "Epoch 81, Loss: 54.247243881225586\n",
      "Epoch 81, Loss: 72.16749572753906\n",
      "Epoch 81, Loss: 113.59847640991211\n",
      "Epoch 81, Loss: 95.89773178100586\n"
     ]
    },
    {
     "name": "stderr",
     "output_type": "stream",
     "text": [
      "100%|██████████| 2/2 [00:00<00:00,  5.01it/s]\n",
      "\n",
      "100%|██████████| 2/2 [00:00<00:00,  5.01it/s]\n",
      "100%|██████████| 2/2 [00:00<00:00,  5.01it/s]\n",
      "  0%|          | 0/2 [00:00<?, ?it/s]"
     ]
    },
    {
     "name": "stdout",
     "output_type": "stream",
     "text": [
      "Epoch 82, Loss: 77.41336441040039\n",
      "Epoch 82, Loss: 60.60806846618652\n",
      "Epoch 82, Loss: 125.45872116088867\n",
      "Epoch 82, Loss: 74.43439483642578\n"
     ]
    },
    {
     "name": "stderr",
     "output_type": "stream",
     "text": [
      "100%|██████████| 2/2 [00:00<00:00,  5.03it/s]\n",
      "100%|██████████| 2/2 [00:00<00:00,  5.04it/s]\n",
      "100%|██████████| 2/2 [00:00<00:00,  5.03it/s]\n",
      "100%|██████████| 2/2 [00:00<00:00,  5.02it/s]\n",
      "  0%|          | 0/2 [00:00<?, ?it/s]"
     ]
    },
    {
     "name": "stdout",
     "output_type": "stream",
     "text": [
      "Epoch 83, Loss: 82.42434310913086\n",
      "Epoch 83, Loss: 104.46971130371094\n",
      "Epoch 83, Loss: 58.36501121520996\n",
      "Epoch 83, Loss: 135.88908767700195\n"
     ]
    },
    {
     "name": "stderr",
     "output_type": "stream",
     "text": [
      "100%|██████████| 2/2 [00:00<00:00,  5.03it/s]\n",
      "100%|██████████| 2/2 [00:00<00:00,  5.04it/s]\n",
      "100%|██████████| 2/2 [00:00<00:00,  5.02it/s]\n",
      "100%|██████████| 2/2 [00:00<00:00,  5.03it/s]\n",
      "  0%|          | 0/2 [00:00<?, ?it/s]"
     ]
    },
    {
     "name": "stdout",
     "output_type": "stream",
     "text": [
      "Epoch 84, Loss: 70.34946632385254\n",
      "Epoch 84, Loss: 117.19458961486816\n",
      "Epoch 84, Loss: 56.502431869506836\n",
      "Epoch 84, Loss: 94.36926651000977\n"
     ]
    },
    {
     "name": "stderr",
     "output_type": "stream",
     "text": [
      "100%|██████████| 2/2 [00:00<00:00,  5.12it/s]\n",
      "100%|██████████| 2/2 [00:00<00:00,  5.12it/s]\n",
      "100%|██████████| 2/2 [00:00<00:00,  5.12it/s]\n",
      "100%|██████████| 2/2 [00:00<00:00,  5.11it/s]\n",
      "  0%|          | 0/2 [00:00<?, ?it/s]"
     ]
    },
    {
     "name": "stdout",
     "output_type": "stream",
     "text": [
      "Epoch 85, Loss: 86.15525817871094\n",
      "Epoch 85, Loss: 105.61204719543457\n",
      "Epoch 85, Loss: 100.30797958374023\n",
      "Epoch 85, Loss: 50.51086616516113\n"
     ]
    },
    {
     "name": "stderr",
     "output_type": "stream",
     "text": [
      "100%|██████████| 2/2 [00:00<00:00,  5.35it/s]\n",
      "100%|██████████| 2/2 [00:00<00:00,  5.35it/s]\n",
      "100%|██████████| 2/2 [00:00<00:00,  5.35it/s]\n",
      "100%|██████████| 2/2 [00:00<00:00,  5.35it/s]\n",
      "  0%|          | 0/2 [00:00<?, ?it/s]"
     ]
    },
    {
     "name": "stdout",
     "output_type": "stream",
     "text": [
      "Epoch 86, Loss: 90.34643936157227\n",
      "Epoch 86, Loss: 163.1192512512207\n",
      "Epoch 86, Loss: 108.12374496459961\n",
      "Epoch 86, Loss: 52.14809799194336\n"
     ]
    },
    {
     "name": "stderr",
     "output_type": "stream",
     "text": [
      "100%|██████████| 2/2 [00:00<00:00,  5.34it/s]\n",
      "100%|██████████| 2/2 [00:00<00:00,  5.34it/s]\n",
      "100%|██████████| 2/2 [00:00<00:00,  5.34it/s]\n",
      "100%|██████████| 2/2 [00:00<00:00,  5.34it/s]\n",
      "  0%|          | 0/2 [00:00<?, ?it/s]"
     ]
    },
    {
     "name": "stdout",
     "output_type": "stream",
     "text": [
      "Epoch 87, Loss: 113.63777160644531\n",
      "Epoch 87, Loss: 102.24842834472656\n",
      "Epoch 87, Loss: 77.39874649047852\n",
      "Epoch 87, Loss: 49.39300727844238\n"
     ]
    },
    {
     "name": "stderr",
     "output_type": "stream",
     "text": [
      "100%|██████████| 2/2 [00:00<00:00,  5.34it/s]\n",
      "100%|██████████| 2/2 [00:00<00:00,  5.35it/s]\n",
      "100%|██████████| 2/2 [00:00<00:00,  5.34it/s]\n",
      "100%|██████████| 2/2 [00:00<00:00,  5.33it/s]\n",
      "  0%|          | 0/2 [00:00<?, ?it/s]"
     ]
    },
    {
     "name": "stdout",
     "output_type": "stream",
     "text": [
      "Epoch 88, Loss: 65.30986022949219\n",
      "Epoch 88, Loss: 55.036882400512695\n",
      "Epoch 88, Loss: 184.42617416381836\n",
      "Epoch 88, Loss: 84.29838943481445\n"
     ]
    },
    {
     "name": "stderr",
     "output_type": "stream",
     "text": [
      "100%|██████████| 2/2 [00:00<00:00,  4.87it/s]\n",
      "100%|██████████| 2/2 [00:00<00:00,  4.86it/s]\n",
      "100%|██████████| 2/2 [00:00<00:00,  4.86it/s]\n",
      "100%|██████████| 2/2 [00:00<00:00,  4.86it/s]\n",
      "  0%|          | 0/2 [00:00<?, ?it/s]"
     ]
    },
    {
     "name": "stdout",
     "output_type": "stream",
     "text": [
      "Epoch 89, Loss: 124.16192626953125\n",
      "Epoch 89, Loss: 67.93375778198242\n",
      "Epoch 89, Loss: 46.15966033935547\n",
      "Epoch 89, Loss: 83.40868377685547\n"
     ]
    },
    {
     "name": "stderr",
     "output_type": "stream",
     "text": [
      "100%|██████████| 2/2 [00:00<00:00,  4.81it/s]\n",
      "\n",
      "100%|██████████| 2/2 [00:00<00:00,  4.82it/s]\n",
      "100%|██████████| 2/2 [00:00<00:00,  4.82it/s]\n",
      "  0%|          | 0/2 [00:00<?, ?it/s]"
     ]
    },
    {
     "name": "stdout",
     "output_type": "stream",
     "text": [
      "Epoch 90, Loss: 168.00640869140625\n",
      "Epoch 90, Loss: 65.61391639709473\n",
      "Epoch 90, Loss: 52.26236915588379\n",
      "Epoch 90, Loss: 78.8429183959961\n"
     ]
    },
    {
     "name": "stderr",
     "output_type": "stream",
     "text": [
      "100%|██████████| 2/2 [00:00<00:00,  5.58it/s]\n",
      "100%|██████████| 2/2 [00:00<00:00,  5.57it/s]\n",
      "\n",
      "100%|██████████| 2/2 [00:00<00:00,  5.56it/s]\n",
      "  0%|          | 0/2 [00:00<?, ?it/s]"
     ]
    },
    {
     "name": "stdout",
     "output_type": "stream",
     "text": [
      "Epoch 91, Loss: 64.74342918395996\n",
      "Epoch 91, Loss: 176.20228576660156\n",
      "Epoch 91, Loss: 87.05973434448242\n",
      "Epoch 91, Loss: 56.2271614074707\n"
     ]
    },
    {
     "name": "stderr",
     "output_type": "stream",
     "text": [
      "100%|██████████| 2/2 [00:00<00:00,  4.95it/s]\n",
      "100%|██████████| 2/2 [00:00<00:00,  4.95it/s]\n",
      "\n",
      "100%|██████████| 2/2 [00:00<00:00,  4.95it/s]\n",
      "  0%|          | 0/2 [00:00<?, ?it/s]"
     ]
    },
    {
     "name": "stdout",
     "output_type": "stream",
     "text": [
      "Epoch 92, Loss: 84.0479736328125\n",
      "Epoch 92, Loss: 47.85249710083008\n",
      "Epoch 92, Loss: 87.43535232543945\n",
      "Epoch 92, Loss: 155.7964630126953\n"
     ]
    },
    {
     "name": "stderr",
     "output_type": "stream",
     "text": [
      "100%|██████████| 2/2 [00:00<00:00,  5.81it/s]\n",
      "100%|██████████| 2/2 [00:00<00:00,  5.81it/s]\n",
      "100%|██████████| 2/2 [00:00<00:00,  5.82it/s]\n",
      "100%|██████████| 2/2 [00:00<00:00,  5.80it/s]\n",
      "  0%|          | 0/2 [00:00<?, ?it/s]"
     ]
    },
    {
     "name": "stdout",
     "output_type": "stream",
     "text": [
      "Epoch 93, Loss: 75.22088241577148\n",
      "Epoch 93, Loss: 48.736236572265625\n",
      "Epoch 93, Loss: 175.1580047607422\n",
      "Epoch 93, Loss: 86.13652038574219\n"
     ]
    },
    {
     "name": "stderr",
     "output_type": "stream",
     "text": [
      "100%|██████████| 2/2 [00:00<00:00,  4.97it/s]\n",
      "100%|██████████| 2/2 [00:00<00:00,  4.97it/s]\n",
      "\n",
      "100%|██████████| 2/2 [00:00<00:00,  4.97it/s]\n",
      "  0%|          | 0/2 [00:00<?, ?it/s]"
     ]
    },
    {
     "name": "stdout",
     "output_type": "stream",
     "text": [
      "Epoch 94, Loss: 66.74759292602539\n",
      "Epoch 94, Loss: 55.92523002624512\n",
      "Epoch 94, Loss: 92.1107292175293\n",
      "Epoch 94, Loss: 151.7288360595703\n"
     ]
    },
    {
     "name": "stderr",
     "output_type": "stream",
     "text": [
      "100%|██████████| 2/2 [00:00<00:00,  4.96it/s]\n",
      "100%|██████████| 2/2 [00:00<00:00,  4.96it/s]\n",
      "\n",
      "100%|██████████| 2/2 [00:00<00:00,  4.95it/s]\n",
      "  0%|          | 0/2 [00:00<?, ?it/s]"
     ]
    },
    {
     "name": "stdout",
     "output_type": "stream",
     "text": [
      "Epoch 95, Loss: 116.9202766418457\n",
      "Epoch 95, Loss: 45.62224006652832\n",
      "Epoch 95, Loss: 64.95175552368164\n",
      "Epoch 95, Loss: 88.85902786254883\n"
     ]
    },
    {
     "name": "stderr",
     "output_type": "stream",
     "text": [
      "100%|██████████| 2/2 [00:00<00:00,  5.01it/s]\n",
      "100%|██████████| 2/2 [00:00<00:00,  5.01it/s]\n",
      "100%|██████████| 2/2 [00:00<00:00,  5.01it/s]\n",
      "100%|██████████| 2/2 [00:00<00:00,  5.01it/s]\n",
      "  0%|          | 0/2 [00:00<?, ?it/s]"
     ]
    },
    {
     "name": "stdout",
     "output_type": "stream",
     "text": [
      "Epoch 96, Loss: 52.372758865356445\n",
      "Epoch 96, Loss: 179.00411224365234\n",
      "Epoch 96, Loss: 67.76642227172852\n",
      "Epoch 96, Loss: 80.1956672668457\n"
     ]
    },
    {
     "name": "stderr",
     "output_type": "stream",
     "text": [
      "100%|██████████| 2/2 [00:00<00:00,  5.20it/s]\n",
      "100%|██████████| 2/2 [00:00<00:00,  5.21it/s]\n",
      "100%|██████████| 2/2 [00:00<00:00,  5.20it/s]\n",
      "100%|██████████| 2/2 [00:00<00:00,  5.19it/s]\n",
      "  0%|          | 0/2 [00:00<?, ?it/s]"
     ]
    },
    {
     "name": "stdout",
     "output_type": "stream",
     "text": [
      "Epoch 97, Loss: 67.23933410644531\n",
      "Epoch 97, Loss: 97.95781707763672\n",
      "Epoch 97, Loss: 51.37593078613281\n",
      "Epoch 97, Loss: 163.3174591064453\n"
     ]
    },
    {
     "name": "stderr",
     "output_type": "stream",
     "text": [
      "100%|██████████| 2/2 [00:00<00:00,  5.67it/s]\n",
      "100%|██████████| 2/2 [00:00<00:00,  5.66it/s]\n",
      "100%|██████████| 2/2 [00:00<00:00,  5.66it/s]\n",
      "100%|██████████| 2/2 [00:00<00:00,  5.68it/s]\n",
      "  0%|          | 0/2 [00:00<?, ?it/s]"
     ]
    },
    {
     "name": "stdout",
     "output_type": "stream",
     "text": [
      "Epoch 98, Loss: 77.25390625\n",
      "Epoch 98, Loss: 69.09447288513184\n",
      "Epoch 98, Loss: 117.42698287963867\n",
      "Epoch 98, Loss: 155.3071174621582\n"
     ]
    },
    {
     "name": "stderr",
     "output_type": "stream",
     "text": [
      "100%|██████████| 2/2 [00:00<00:00,  5.00it/s]\n",
      "100%|██████████| 2/2 [00:00<00:00,  5.01it/s]\n",
      "100%|██████████| 2/2 [00:00<00:00,  5.01it/s]\n",
      "100%|██████████| 2/2 [00:00<00:00,  5.00it/s]\n",
      "  0%|          | 0/2 [00:00<?, ?it/s]"
     ]
    },
    {
     "name": "stdout",
     "output_type": "stream",
     "text": [
      "Epoch 99, Loss: 70.41136932373047\n",
      "Epoch 99, Loss: 142.12116241455078\n",
      "Epoch 99, Loss: 106.59664154052734\n",
      "Epoch 99, Loss: 61.75423049926758\n"
     ]
    },
    {
     "name": "stderr",
     "output_type": "stream",
     "text": [
      "100%|██████████| 2/2 [00:00<00:00,  5.53it/s]\n",
      "100%|██████████| 2/2 [00:00<00:00,  5.53it/s]\n",
      "100%|██████████| 2/2 [00:00<00:00,  5.53it/s]\n",
      "100%|██████████| 2/2 [00:00<00:00,  5.53it/s]\n"
     ]
    },
    {
     "name": "stdout",
     "output_type": "stream",
     "text": [
      "Epoch 100, Loss: 103.98399925231934\n",
      "Training time: 38.724995136260986 seconds\n",
      "Epoch 100, Loss: 75.87561416625977\n",
      "Training time: 38.7258517742157 seconds\n",
      "Epoch 100, Loss: 51.70467758178711\n",
      "Training time: 38.72631001472473 seconds\n",
      "Epoch 100, Loss: 106.34242630004883\n",
      "Training time: 38.72703671455383 seconds\n",
      "Training time: 45.65045237541199 seconds\n"
     ]
    }
   ],
   "source": [
    "import time\n",
    "\n",
    "start_time = time.time()\n",
    "if __name__ == '__main__':\n",
    "    num_gpus = 4\n",
    "    import torch.multiprocessing as mp\n",
    "    mp.spawn(run, args=(list(range(num_gpus)),dgl_graph), nprocs=num_gpus)\n",
    "\n",
    "end_time = time.time()\n",
    "elapsed_time = end_time - start_time\n",
    "\n",
    "print(f\"Training time: {elapsed_time} seconds\")"
   ]
  },
  {
   "cell_type": "code",
   "execution_count": 34,
   "metadata": {},
   "outputs": [
    {
     "name": "stderr",
     "output_type": "stream",
     "text": [
      "/home/rxf131/ondemand/ubuntu2204/python310/torch_geometric/typing.py:47: UserWarning: An issue occurred while importing 'pyg-lib'. Disabling its usage. Stacktrace: libcudart.so.12: cannot open shared object file: No such file or directory\n",
      "  warnings.warn(f\"An issue occurred while importing 'pyg-lib'. \"\n",
      "/home/rxf131/ondemand/ubuntu2204/python310/torch_geometric/typing.py:101: UserWarning: An issue occurred while importing 'torch-sparse'. Disabling its usage. Stacktrace: libcudart.so.12: cannot open shared object file: No such file or directory\n",
      "  warnings.warn(f\"An issue occurred while importing 'torch-sparse'. \"\n",
      "/home/rxf131/ondemand/ubuntu2204/python310/torch_geometric/typing.py:47: UserWarning: An issue occurred while importing 'pyg-lib'. Disabling its usage. Stacktrace: libcudart.so.12: cannot open shared object file: No such file or directory\n",
      "  warnings.warn(f\"An issue occurred while importing 'pyg-lib'. \"\n",
      "/home/rxf131/ondemand/ubuntu2204/python310/torch_geometric/typing.py:101: UserWarning: An issue occurred while importing 'torch-sparse'. Disabling its usage. Stacktrace: libcudart.so.12: cannot open shared object file: No such file or directory\n",
      "  warnings.warn(f\"An issue occurred while importing 'torch-sparse'. \"\n",
      "/home/rxf131/ondemand/ubuntu2204/python310/torch_geometric/typing.py:47: UserWarning: An issue occurred while importing 'pyg-lib'. Disabling its usage. Stacktrace: libcudart.so.12: cannot open shared object file: No such file or directory\n",
      "  warnings.warn(f\"An issue occurred while importing 'pyg-lib'. \"\n",
      "/home/rxf131/ondemand/ubuntu2204/python310/torch_geometric/typing.py:101: UserWarning: An issue occurred while importing 'torch-sparse'. Disabling its usage. Stacktrace: libcudart.so.12: cannot open shared object file: No such file or directory\n",
      "  warnings.warn(f\"An issue occurred while importing 'torch-sparse'. \"\n",
      "100%|██████████| 14/14 [00:02<00:00,  5.29it/s]\n",
      "\n",
      "100%|██████████| 14/14 [00:02<00:00,  5.29it/s]\n",
      " 21%|██▏       | 3/14 [00:00<00:00, 21.98it/s]"
     ]
    },
    {
     "name": "stdout",
     "output_type": "stream",
     "text": [
      "Epoch 1, Loss: 16343160.982142856\n",
      "Epoch 1, Loss: 16285225.607142856\n",
      "Epoch 1, Loss: 16274649.348214285\n"
     ]
    },
    {
     "name": "stderr",
     "output_type": "stream",
     "text": [
      "100%|██████████| 14/14 [00:00<00:00, 25.60it/s]\n",
      "100%|██████████| 14/14 [00:00<00:00, 25.60it/s]\n",
      "100%|██████████| 14/14 [00:00<00:00, 25.59it/s]\n",
      "  0%|          | 0/14 [00:00<?, ?it/s]"
     ]
    },
    {
     "name": "stdout",
     "output_type": "stream",
     "text": [
      "Epoch 2, Loss: 2254134.5022321427\n",
      "Epoch 2, Loss: 2282747.2745535714\n",
      "Epoch 2, Loss: 2297705.6116071427\n"
     ]
    },
    {
     "name": "stderr",
     "output_type": "stream",
     "text": [
      "100%|██████████| 14/14 [00:00<00:00, 20.02it/s]\n",
      "100%|██████████| 14/14 [00:00<00:00, 20.02it/s]\n",
      "100%|██████████| 14/14 [00:00<00:00, 20.02it/s]\n",
      " 21%|██▏       | 3/14 [00:00<00:00, 22.05it/s]"
     ]
    },
    {
     "name": "stdout",
     "output_type": "stream",
     "text": [
      "Epoch 3, Loss: 512425.6192801339\n",
      "Epoch 3, Loss: 512175.30524553574\n",
      "Epoch 3, Loss: 523038.65694754466\n"
     ]
    },
    {
     "name": "stderr",
     "output_type": "stream",
     "text": [
      "100%|██████████| 14/14 [00:00<00:00, 26.08it/s]\n",
      "100%|██████████| 14/14 [00:00<00:00, 26.09it/s]\n",
      "100%|██████████| 14/14 [00:00<00:00, 26.05it/s]\n",
      " 14%|█▍        | 2/14 [00:00<00:00, 17.13it/s]"
     ]
    },
    {
     "name": "stdout",
     "output_type": "stream",
     "text": [
      "Epoch 4, Loss: 90559.8798828125\n",
      "Epoch 4, Loss: 95536.91657366071\n",
      "Epoch 4, Loss: 90548.59221540179\n"
     ]
    },
    {
     "name": "stderr",
     "output_type": "stream",
     "text": [
      "100%|██████████| 14/14 [00:00<00:00, 25.22it/s]\n",
      "\n",
      "100%|██████████| 14/14 [00:00<00:00, 25.22it/s]\n",
      "  0%|          | 0/14 [00:00<?, ?it/s]"
     ]
    },
    {
     "name": "stdout",
     "output_type": "stream",
     "text": [
      "Epoch 5, Loss: 41487.70061383928\n",
      "Epoch 5, Loss: 40842.94482421875\n",
      "Epoch 5, Loss: 41664.87981305803\n"
     ]
    },
    {
     "name": "stderr",
     "output_type": "stream",
     "text": [
      "100%|██████████| 14/14 [00:00<00:00, 23.01it/s]\n",
      "100%|██████████| 14/14 [00:00<00:00, 22.99it/s]\n",
      "100%|██████████| 14/14 [00:00<00:00, 22.96it/s]\n",
      " 14%|█▍        | 2/14 [00:00<00:00, 19.00it/s]"
     ]
    },
    {
     "name": "stdout",
     "output_type": "stream",
     "text": [
      "Epoch 6, Loss: 16756.282470703125\n",
      "Epoch 6, Loss: 16833.676827566964\n",
      "Epoch 6, Loss: 16896.076590401786\n"
     ]
    },
    {
     "name": "stderr",
     "output_type": "stream",
     "text": [
      "100%|██████████| 14/14 [00:00<00:00, 23.66it/s]\n",
      "100%|██████████| 14/14 [00:00<00:00, 23.64it/s]\n",
      "100%|██████████| 14/14 [00:00<00:00, 23.61it/s]\n",
      "  0%|          | 0/14 [00:00<?, ?it/s]"
     ]
    },
    {
     "name": "stdout",
     "output_type": "stream",
     "text": [
      "Epoch 7, Loss: 10406.842581612724\n",
      "Epoch 7, Loss: 10275.34535435268\n",
      "Epoch 7, Loss: 9858.026559012276\n"
     ]
    },
    {
     "name": "stderr",
     "output_type": "stream",
     "text": [
      "100%|██████████| 14/14 [00:00<00:00, 24.82it/s]\n",
      "\n",
      "100%|██████████| 14/14 [00:00<00:00, 24.81it/s]\n",
      "  0%|          | 0/14 [00:00<?, ?it/s]"
     ]
    },
    {
     "name": "stdout",
     "output_type": "stream",
     "text": [
      "Epoch 8, Loss: 7199.281511579241\n",
      "Epoch 8, Loss: 7011.159772600447\n",
      "Epoch 8, Loss: 7008.519932338169\n"
     ]
    },
    {
     "name": "stderr",
     "output_type": "stream",
     "text": [
      "100%|██████████| 14/14 [00:00<00:00, 24.50it/s]\n",
      "100%|██████████| 14/14 [00:00<00:00, 24.50it/s]\n",
      "100%|██████████| 14/14 [00:00<00:00, 24.50it/s]\n",
      " 21%|██▏       | 3/14 [00:00<00:00, 21.23it/s]"
     ]
    },
    {
     "name": "stdout",
     "output_type": "stream",
     "text": [
      "Epoch 9, Loss: 5425.276297433035\n",
      "Epoch 9, Loss: 5191.457144601004\n",
      "Epoch 9, Loss: 5091.704014369419\n"
     ]
    },
    {
     "name": "stderr",
     "output_type": "stream",
     "text": [
      "100%|██████████| 14/14 [00:00<00:00, 24.18it/s]\n",
      "100%|██████████| 14/14 [00:00<00:00, 24.18it/s]\n",
      "100%|██████████| 14/14 [00:00<00:00, 24.19it/s]\n",
      "  0%|          | 0/14 [00:00<?, ?it/s]"
     ]
    },
    {
     "name": "stdout",
     "output_type": "stream",
     "text": [
      "Epoch 10, Loss: 4123.241149902344\n",
      "Epoch 10, Loss: 4004.6663208007812\n",
      "Epoch 10, Loss: 3737.1719752720423\n"
     ]
    },
    {
     "name": "stderr",
     "output_type": "stream",
     "text": [
      "100%|██████████| 14/14 [00:00<00:00, 25.69it/s]\n",
      "100%|██████████| 14/14 [00:00<00:00, 25.69it/s]\n",
      "100%|██████████| 14/14 [00:00<00:00, 25.67it/s]\n",
      "  0%|          | 0/14 [00:00<?, ?it/s]"
     ]
    },
    {
     "name": "stdout",
     "output_type": "stream",
     "text": [
      "Epoch 11, Loss: 3165.4434727260045\n",
      "Epoch 11, Loss: 3377.695879255022\n",
      "Epoch 11, Loss: 3069.664337158203\n"
     ]
    },
    {
     "name": "stderr",
     "output_type": "stream",
     "text": [
      "100%|██████████| 14/14 [00:00<00:00, 24.24it/s]\n",
      "100%|██████████| 14/14 [00:00<00:00, 24.20it/s]\n",
      "100%|██████████| 14/14 [00:00<00:00, 24.18it/s]\n",
      " 21%|██▏       | 3/14 [00:00<00:00, 23.06it/s]"
     ]
    },
    {
     "name": "stdout",
     "output_type": "stream",
     "text": [
      "Epoch 12, Loss: 2468.9024963378906\n",
      "Epoch 12, Loss: 2599.793927873884\n",
      "Epoch 12, Loss: 2774.2924194335938\n"
     ]
    },
    {
     "name": "stderr",
     "output_type": "stream",
     "text": [
      "100%|██████████| 14/14 [00:00<00:00, 23.76it/s]\n",
      "\n",
      "100%|██████████| 14/14 [00:00<00:00, 23.76it/s]\n",
      " 21%|██▏       | 3/14 [00:00<00:00, 24.53it/s]"
     ]
    },
    {
     "name": "stdout",
     "output_type": "stream",
     "text": [
      "Epoch 13, Loss: 2030.5238429478236\n",
      "Epoch 13, Loss: 2143.8772583007812\n",
      "Epoch 13, Loss: 2258.982199532645\n"
     ]
    },
    {
     "name": "stderr",
     "output_type": "stream",
     "text": [
      "100%|██████████| 14/14 [00:00<00:00, 24.57it/s]\n",
      "100%|██████████| 14/14 [00:00<00:00, 24.55it/s]\n",
      "100%|██████████| 14/14 [00:00<00:00, 24.58it/s]\n",
      " 14%|█▍        | 2/14 [00:00<00:00, 19.96it/s]"
     ]
    },
    {
     "name": "stdout",
     "output_type": "stream",
     "text": [
      "Epoch 14, Loss: 1744.7834995814733\n",
      "Epoch 14, Loss: 1688.1847534179688\n",
      "Epoch 14, Loss: 1932.8901040213448\n"
     ]
    },
    {
     "name": "stderr",
     "output_type": "stream",
     "text": [
      "100%|██████████| 14/14 [00:00<00:00, 24.55it/s]\n",
      "100%|██████████| 14/14 [00:00<00:00, 24.52it/s]\n",
      "100%|██████████| 14/14 [00:00<00:00, 24.52it/s]\n",
      " 21%|██▏       | 3/14 [00:00<00:00, 21.65it/s]"
     ]
    },
    {
     "name": "stdout",
     "output_type": "stream",
     "text": [
      "Epoch 15, Loss: 1487.278773716518\n",
      "Epoch 15, Loss: 1617.2118530273438\n",
      "Epoch 15, Loss: 1425.857138497489\n"
     ]
    },
    {
     "name": "stderr",
     "output_type": "stream",
     "text": [
      "100%|██████████| 14/14 [00:00<00:00, 24.74it/s]\n",
      "100%|██████████| 14/14 [00:00<00:00, 24.70it/s]\n",
      "100%|██████████| 14/14 [00:00<00:00, 24.68it/s]\n",
      "  0%|          | 0/14 [00:00<?, ?it/s]"
     ]
    },
    {
     "name": "stdout",
     "output_type": "stream",
     "text": [
      "Epoch 16, Loss: 1264.3065621512276\n",
      "Epoch 16, Loss: 1457.78857421875\n",
      "Epoch 16, Loss: 1337.4168483189173\n"
     ]
    },
    {
     "name": "stderr",
     "output_type": "stream",
     "text": [
      "100%|██████████| 14/14 [00:00<00:00, 22.18it/s]\n",
      "\n",
      "100%|██████████| 14/14 [00:00<00:00, 22.15it/s]\n",
      " 14%|█▍        | 2/14 [00:00<00:00, 19.75it/s]"
     ]
    },
    {
     "name": "stdout",
     "output_type": "stream",
     "text": [
      "Epoch 17, Loss: 1136.9420863560267\n",
      "Epoch 17, Loss: 1218.3447919573102\n",
      "Epoch 17, Loss: 1091.3235473632812\n"
     ]
    },
    {
     "name": "stderr",
     "output_type": "stream",
     "text": [
      "100%|██████████| 14/14 [00:00<00:00, 23.25it/s]\n",
      "100%|██████████| 14/14 [00:00<00:00, 23.22it/s]\n",
      "100%|██████████| 14/14 [00:00<00:00, 23.20it/s]\n",
      "  0%|          | 0/14 [00:00<?, ?it/s]"
     ]
    },
    {
     "name": "stdout",
     "output_type": "stream",
     "text": [
      "Epoch 18, Loss: 917.0579833984375\n",
      "Epoch 18, Loss: 945.929909842355\n",
      "Epoch 18, Loss: 1024.756939479283\n"
     ]
    },
    {
     "name": "stderr",
     "output_type": "stream",
     "text": [
      "100%|██████████| 14/14 [00:00<00:00, 24.39it/s]\n",
      "\n",
      "100%|██████████| 14/14 [00:00<00:00, 24.39it/s]\n",
      "  0%|          | 0/14 [00:00<?, ?it/s]"
     ]
    },
    {
     "name": "stdout",
     "output_type": "stream",
     "text": [
      "Epoch 19, Loss: 758.0679757254464\n",
      "Epoch 19, Loss: 784.6267634800503\n",
      "Epoch 19, Loss: 857.7390856061663\n"
     ]
    },
    {
     "name": "stderr",
     "output_type": "stream",
     "text": [
      "100%|██████████| 14/14 [00:00<00:00, 18.37it/s]\n",
      "\n",
      "100%|██████████| 14/14 [00:00<00:00, 18.34it/s]\n",
      " 14%|█▍        | 2/14 [00:00<00:00, 19.46it/s]"
     ]
    },
    {
     "name": "stdout",
     "output_type": "stream",
     "text": [
      "Epoch 20, Loss: 650.5445360456195\n",
      "Epoch 20, Loss: 734.0620531354632\n",
      "Epoch 20, Loss: 676.7769295828683\n"
     ]
    },
    {
     "name": "stderr",
     "output_type": "stream",
     "text": [
      "100%|██████████| 14/14 [00:00<00:00, 20.45it/s]\n",
      "100%|██████████| 14/14 [00:00<00:00, 20.42it/s]\n",
      "100%|██████████| 14/14 [00:00<00:00, 20.42it/s]\n",
      "  0%|          | 0/14 [00:00<?, ?it/s]"
     ]
    },
    {
     "name": "stdout",
     "output_type": "stream",
     "text": [
      "Epoch 21, Loss: 604.2891540527344\n",
      "Epoch 21, Loss: 573.278095790318\n",
      "Epoch 21, Loss: 665.4796447753906\n"
     ]
    },
    {
     "name": "stderr",
     "output_type": "stream",
     "text": [
      "100%|██████████| 14/14 [00:00<00:00, 26.48it/s]\n",
      "\n",
      "100%|██████████| 14/14 [00:00<00:00, 26.44it/s]\n",
      "  0%|          | 0/14 [00:00<?, ?it/s]"
     ]
    },
    {
     "name": "stdout",
     "output_type": "stream",
     "text": [
      "Epoch 22, Loss: 601.7603759765625\n",
      "Epoch 22, Loss: 520.9147578648159\n",
      "Epoch 22, Loss: 547.4296613420759\n"
     ]
    },
    {
     "name": "stderr",
     "output_type": "stream",
     "text": [
      "100%|██████████| 14/14 [00:00<00:00, 18.91it/s]\n",
      "100%|██████████| 14/14 [00:00<00:00, 18.89it/s]\n",
      "100%|██████████| 14/14 [00:00<00:00, 18.88it/s]\n",
      " 14%|█▍        | 2/14 [00:00<00:00, 15.06it/s]"
     ]
    },
    {
     "name": "stdout",
     "output_type": "stream",
     "text": [
      "Epoch 23, Loss: 477.5257328578404\n",
      "Epoch 23, Loss: 514.8707493373325\n",
      "Epoch 23, Loss: 465.45809064592635\n"
     ]
    },
    {
     "name": "stderr",
     "output_type": "stream",
     "text": [
      "100%|██████████| 14/14 [00:00<00:00, 21.19it/s]\n",
      "\n",
      "100%|██████████| 14/14 [00:00<00:00, 21.15it/s]\n",
      "  0%|          | 0/14 [00:00<?, ?it/s]"
     ]
    },
    {
     "name": "stdout",
     "output_type": "stream",
     "text": [
      "Epoch 24, Loss: 455.69471740722656\n",
      "Epoch 24, Loss: 422.7643498011998\n",
      "Epoch 24, Loss: 429.7071337018694\n"
     ]
    },
    {
     "name": "stderr",
     "output_type": "stream",
     "text": [
      "100%|██████████| 14/14 [00:00<00:00, 25.59it/s]\n",
      "100%|██████████| 14/14 [00:00<00:00, 25.56it/s]\n",
      "100%|██████████| 14/14 [00:00<00:00, 25.59it/s]\n",
      " 21%|██▏       | 3/14 [00:00<00:00, 22.33it/s]"
     ]
    },
    {
     "name": "stdout",
     "output_type": "stream",
     "text": [
      "Epoch 25, Loss: 422.2499520438058\n",
      "Epoch 25, Loss: 401.30029732840404\n",
      "Epoch 25, Loss: 392.0800301688058\n"
     ]
    },
    {
     "name": "stderr",
     "output_type": "stream",
     "text": [
      "100%|██████████| 14/14 [00:00<00:00, 24.16it/s]\n",
      "100%|██████████| 14/14 [00:00<00:00, 24.19it/s]\n",
      "100%|██████████| 14/14 [00:00<00:00, 24.18it/s]\n",
      " 21%|██▏       | 3/14 [00:00<00:00, 23.53it/s]"
     ]
    },
    {
     "name": "stdout",
     "output_type": "stream",
     "text": [
      "Epoch 26, Loss: 372.5246887207031\n",
      "Epoch 26, Loss: 358.21996634347096\n",
      "Epoch 26, Loss: 348.8973366873605\n"
     ]
    },
    {
     "name": "stderr",
     "output_type": "stream",
     "text": [
      "100%|██████████| 14/14 [00:00<00:00, 25.18it/s]\n",
      "\n",
      "100%|██████████| 14/14 [00:00<00:00, 25.18it/s]\n",
      " 21%|██▏       | 3/14 [00:00<00:00, 23.60it/s]"
     ]
    },
    {
     "name": "stdout",
     "output_type": "stream",
     "text": [
      "Epoch 27, Loss: 350.49290684291293\n",
      "Epoch 27, Loss: 337.68155343191967\n",
      "Epoch 27, Loss: 332.510988507952\n"
     ]
    },
    {
     "name": "stderr",
     "output_type": "stream",
     "text": [
      "100%|██████████| 14/14 [00:00<00:00, 19.67it/s]\n",
      "100%|██████████| 14/14 [00:00<00:00, 19.67it/s]\n",
      "100%|██████████| 14/14 [00:00<00:00, 19.66it/s]\n",
      "  0%|          | 0/14 [00:00<?, ?it/s]"
     ]
    },
    {
     "name": "stdout",
     "output_type": "stream",
     "text": [
      "Epoch 28, Loss: 323.2317777361189\n",
      "Epoch 28, Loss: 310.4291283743722\n",
      "Epoch 28, Loss: 302.86048017229353\n"
     ]
    },
    {
     "name": "stderr",
     "output_type": "stream",
     "text": [
      "100%|██████████| 14/14 [00:00<00:00, 24.79it/s]\n",
      "100%|██████████| 14/14 [00:00<00:00, 24.75it/s]\n",
      "100%|██████████| 14/14 [00:00<00:00, 24.74it/s]\n",
      " 14%|█▍        | 2/14 [00:00<00:00, 18.33it/s]"
     ]
    },
    {
     "name": "stdout",
     "output_type": "stream",
     "text": [
      "Epoch 29, Loss: 309.94092232840404\n",
      "Epoch 29, Loss: 318.8217250279018\n",
      "Epoch 29, Loss: 317.33777400425504\n"
     ]
    },
    {
     "name": "stderr",
     "output_type": "stream",
     "text": [
      "100%|██████████| 14/14 [00:00<00:00, 25.35it/s]\n",
      "100%|██████████| 14/14 [00:00<00:00, 25.33it/s]\n",
      "100%|██████████| 14/14 [00:00<00:00, 25.36it/s]\n",
      "  0%|          | 0/14 [00:00<?, ?it/s]"
     ]
    },
    {
     "name": "stdout",
     "output_type": "stream",
     "text": [
      "Epoch 30, Loss: 323.58472769601\n",
      "Epoch 30, Loss: 337.3801836286272\n",
      "Epoch 30, Loss: 326.79769243512834\n"
     ]
    },
    {
     "name": "stderr",
     "output_type": "stream",
     "text": [
      "100%|██████████| 14/14 [00:00<00:00, 23.47it/s]\n",
      "\n",
      "100%|██████████| 14/14 [00:00<00:00, 23.45it/s]\n",
      " 21%|██▏       | 3/14 [00:00<00:00, 21.93it/s]"
     ]
    },
    {
     "name": "stdout",
     "output_type": "stream",
     "text": [
      "Epoch 31, Loss: 582.6493203299386\n",
      "Epoch 31, Loss: 592.9744676862445\n",
      "Epoch 31, Loss: 588.7322431291852\n"
     ]
    },
    {
     "name": "stderr",
     "output_type": "stream",
     "text": [
      "100%|██████████| 14/14 [00:00<00:00, 24.64it/s]\n",
      "\n",
      "100%|██████████| 14/14 [00:00<00:00, 24.62it/s]\n",
      "  0%|          | 0/14 [00:00<?, ?it/s]"
     ]
    },
    {
     "name": "stdout",
     "output_type": "stream",
     "text": [
      "Epoch 32, Loss: 515.2277548653739\n",
      "Epoch 32, Loss: 508.38031005859375\n",
      "Epoch 32, Loss: 504.4933885846819\n"
     ]
    },
    {
     "name": "stderr",
     "output_type": "stream",
     "text": [
      "100%|██████████| 14/14 [00:00<00:00, 24.06it/s]\n",
      "100%|██████████| 14/14 [00:00<00:00, 24.08it/s]\n",
      "100%|██████████| 14/14 [00:00<00:00, 24.03it/s]\n",
      " 21%|██▏       | 3/14 [00:00<00:00, 21.59it/s]"
     ]
    },
    {
     "name": "stdout",
     "output_type": "stream",
     "text": [
      "Epoch 33, Loss: 3180.6263209751673\n",
      "Epoch 33, Loss: 3126.3780386788503\n",
      "Epoch 33, Loss: 3197.7111162458145\n"
     ]
    },
    {
     "name": "stderr",
     "output_type": "stream",
     "text": [
      "100%|██████████| 14/14 [00:00<00:00, 15.95it/s]\n",
      "100%|██████████| 14/14 [00:00<00:00, 15.97it/s]\n",
      "100%|██████████| 14/14 [00:00<00:00, 15.94it/s]\n",
      " 21%|██▏       | 3/14 [00:00<00:00, 22.08it/s]"
     ]
    },
    {
     "name": "stdout",
     "output_type": "stream",
     "text": [
      "Epoch 34, Loss: 26308.580296107702\n",
      "Epoch 34, Loss: 26919.83517020089\n",
      "Epoch 34, Loss: 26715.73345075335\n"
     ]
    },
    {
     "name": "stderr",
     "output_type": "stream",
     "text": [
      "100%|██████████| 14/14 [00:00<00:00, 25.78it/s]\n",
      "\n",
      "100%|██████████| 14/14 [00:00<00:00, 25.78it/s]\n",
      " 14%|█▍        | 2/14 [00:00<00:00, 19.45it/s]"
     ]
    },
    {
     "name": "stdout",
     "output_type": "stream",
     "text": [
      "Epoch 35, Loss: 42570.93767438616\n",
      "Epoch 35, Loss: 42010.708060128345\n",
      "Epoch 35, Loss: 42133.01621791295\n"
     ]
    },
    {
     "name": "stderr",
     "output_type": "stream",
     "text": [
      "100%|██████████| 14/14 [00:00<00:00, 24.42it/s]\n",
      "100%|██████████| 14/14 [00:00<00:00, 24.43it/s]\n",
      "100%|██████████| 14/14 [00:00<00:00, 24.39it/s]\n",
      "  0%|          | 0/14 [00:00<?, ?it/s]"
     ]
    },
    {
     "name": "stdout",
     "output_type": "stream",
     "text": [
      "Epoch 36, Loss: 5186.506181989397\n",
      "Epoch 36, Loss: 5179.3382699149\n",
      "Epoch 36, Loss: 5154.33005632673\n"
     ]
    },
    {
     "name": "stderr",
     "output_type": "stream",
     "text": [
      "100%|██████████| 14/14 [00:00<00:00, 25.32it/s]\n",
      "\n",
      "100%|██████████| 14/14 [00:00<00:00, 25.29it/s]\n",
      "  0%|          | 0/14 [00:00<?, ?it/s]"
     ]
    },
    {
     "name": "stdout",
     "output_type": "stream",
     "text": [
      "Epoch 37, Loss: 637.0024741036551\n",
      "Epoch 37, Loss: 630.207024710519\n",
      "Epoch 37, Loss: 646.4448503766741\n"
     ]
    },
    {
     "name": "stderr",
     "output_type": "stream",
     "text": [
      "100%|██████████| 14/14 [00:00<00:00, 24.88it/s]\n",
      "100%|██████████| 14/14 [00:00<00:00, 24.88it/s]\n",
      "100%|██████████| 14/14 [00:00<00:00, 24.88it/s]\n",
      " 14%|█▍        | 2/14 [00:00<00:00, 17.59it/s]"
     ]
    },
    {
     "name": "stdout",
     "output_type": "stream",
     "text": [
      "Epoch 38, Loss: 668.8540518624442\n",
      "Epoch 38, Loss: 669.8468584333148\n",
      "Epoch 38, Loss: 672.0971112932477\n"
     ]
    },
    {
     "name": "stderr",
     "output_type": "stream",
     "text": [
      "100%|██████████| 14/14 [00:00<00:00, 24.16it/s]\n",
      "\n",
      "100%|██████████| 14/14 [00:00<00:00, 24.16it/s]\n",
      "  0%|          | 0/14 [00:00<?, ?it/s]"
     ]
    },
    {
     "name": "stdout",
     "output_type": "stream",
     "text": [
      "Epoch 39, Loss: 991.5223105294364\n",
      "Epoch 39, Loss: 992.4635685511997\n",
      "Epoch 39, Loss: 989.6773158482143\n"
     ]
    },
    {
     "name": "stderr",
     "output_type": "stream",
     "text": [
      "100%|██████████| 14/14 [00:00<00:00, 23.99it/s]\n",
      "100%|██████████| 14/14 [00:00<00:00, 23.99it/s]\n",
      "100%|██████████| 14/14 [00:00<00:00, 23.99it/s]\n",
      " 21%|██▏       | 3/14 [00:00<00:00, 23.34it/s]"
     ]
    },
    {
     "name": "stdout",
     "output_type": "stream",
     "text": [
      "Epoch 40, Loss: 1484.2053713117327\n",
      "Epoch 40, Loss: 1488.759730747768\n",
      "Epoch 40, Loss: 1502.180290222168\n"
     ]
    },
    {
     "name": "stderr",
     "output_type": "stream",
     "text": [
      "100%|██████████| 14/14 [00:00<00:00, 25.17it/s]\n",
      "100%|██████████| 14/14 [00:00<00:00, 25.15it/s]\n",
      "100%|██████████| 14/14 [00:00<00:00, 25.12it/s]\n",
      "  0%|          | 0/14 [00:00<?, ?it/s]"
     ]
    },
    {
     "name": "stdout",
     "output_type": "stream",
     "text": [
      "Epoch 41, Loss: 1322.4242749895368\n",
      "Epoch 41, Loss: 1338.6873408726283\n",
      "Epoch 41, Loss: 1335.4707728794642\n"
     ]
    },
    {
     "name": "stderr",
     "output_type": "stream",
     "text": [
      "100%|██████████| 14/14 [00:00<00:00, 25.10it/s]\n",
      "100%|██████████| 14/14 [00:00<00:00, 25.10it/s]\n",
      "100%|██████████| 14/14 [00:00<00:00, 25.10it/s]\n",
      "  0%|          | 0/14 [00:00<?, ?it/s]"
     ]
    },
    {
     "name": "stdout",
     "output_type": "stream",
     "text": [
      "Epoch 42, Loss: 246.43346078055245\n",
      "Epoch 42, Loss: 245.9378618512835\n",
      "Epoch 42, Loss: 243.9257365635463\n"
     ]
    },
    {
     "name": "stderr",
     "output_type": "stream",
     "text": [
      "100%|██████████| 14/14 [00:00<00:00, 24.03it/s]\n",
      "100%|██████████| 14/14 [00:00<00:00, 24.03it/s]\n",
      "100%|██████████| 14/14 [00:00<00:00, 24.02it/s]\n",
      " 21%|██▏       | 3/14 [00:00<00:00, 21.95it/s]"
     ]
    },
    {
     "name": "stdout",
     "output_type": "stream",
     "text": [
      "Epoch 43, Loss: 236.81515284946985\n",
      "Epoch 43, Loss: 237.97798483712333\n",
      "Epoch 43, Loss: 235.656733921596\n"
     ]
    },
    {
     "name": "stderr",
     "output_type": "stream",
     "text": [
      "100%|██████████| 14/14 [00:00<00:00, 24.52it/s]\n",
      "100%|██████████| 14/14 [00:00<00:00, 24.48it/s]\n",
      "100%|██████████| 14/14 [00:00<00:00, 24.46it/s]\n",
      "  0%|          | 0/14 [00:00<?, ?it/s]"
     ]
    },
    {
     "name": "stdout",
     "output_type": "stream",
     "text": [
      "Epoch 44, Loss: 254.53833988734655\n",
      "Epoch 44, Loss: 256.50645228794644\n",
      "Epoch 44, Loss: 255.1659916469029\n"
     ]
    },
    {
     "name": "stderr",
     "output_type": "stream",
     "text": [
      "100%|██████████| 14/14 [00:00<00:00, 23.19it/s]\n",
      "100%|██████████| 14/14 [00:00<00:00, 23.21it/s]\n",
      "100%|██████████| 14/14 [00:00<00:00, 23.17it/s]\n",
      " 21%|██▏       | 3/14 [00:00<00:00, 21.27it/s]"
     ]
    },
    {
     "name": "stdout",
     "output_type": "stream",
     "text": [
      "Epoch 45, Loss: 417.96075657435824\n",
      "Epoch 45, Loss: 418.00088936941967\n",
      "Epoch 45, Loss: 415.1472266060965\n"
     ]
    },
    {
     "name": "stderr",
     "output_type": "stream",
     "text": [
      "100%|██████████| 14/14 [00:00<00:00, 24.31it/s]\n",
      "100%|██████████| 14/14 [00:00<00:00, 24.33it/s]\n",
      "100%|██████████| 14/14 [00:00<00:00, 24.29it/s]\n",
      " 14%|█▍        | 2/14 [00:00<00:00, 18.30it/s]"
     ]
    },
    {
     "name": "stdout",
     "output_type": "stream",
     "text": [
      "Epoch 46, Loss: 1378.4181104387555\n",
      "Epoch 46, Loss: 1360.2200066702705\n",
      "Epoch 46, Loss: 1351.2709372384209\n"
     ]
    },
    {
     "name": "stderr",
     "output_type": "stream",
     "text": [
      "100%|██████████| 14/14 [00:00<00:00, 24.40it/s]\n",
      "100%|██████████| 14/14 [00:00<00:00, 24.42it/s]\n",
      "100%|██████████| 14/14 [00:00<00:00, 24.37it/s]\n",
      "  0%|          | 0/14 [00:00<?, ?it/s]"
     ]
    },
    {
     "name": "stdout",
     "output_type": "stream",
     "text": [
      "Epoch 47, Loss: 3016.0538242885045\n",
      "Epoch 47, Loss: 3054.834613255092\n",
      "Epoch 47, Loss: 3082.2956292288645\n"
     ]
    },
    {
     "name": "stderr",
     "output_type": "stream",
     "text": [
      "100%|██████████| 14/14 [00:00<00:00, 19.82it/s]\n",
      "\n",
      "100%|██████████| 14/14 [00:00<00:00, 19.82it/s]\n",
      "  0%|          | 0/14 [00:00<?, ?it/s]"
     ]
    },
    {
     "name": "stdout",
     "output_type": "stream",
     "text": [
      "Epoch 48, Loss: 2498.5399954659597\n",
      "Epoch 48, Loss: 2463.7637122017995\n",
      "Epoch 48, Loss: 2501.2860325404577\n"
     ]
    },
    {
     "name": "stderr",
     "output_type": "stream",
     "text": [
      "100%|██████████| 14/14 [00:00<00:00, 19.55it/s]\n",
      "\n",
      "100%|██████████| 14/14 [00:00<00:00, 19.52it/s]\n",
      "  0%|          | 0/14 [00:00<?, ?it/s]"
     ]
    },
    {
     "name": "stdout",
     "output_type": "stream",
     "text": [
      "Epoch 49, Loss: 8270.778930664062\n",
      "Epoch 49, Loss: 8306.155888148716\n",
      "Epoch 49, Loss: 8258.879712785993\n"
     ]
    },
    {
     "name": "stderr",
     "output_type": "stream",
     "text": [
      "100%|██████████| 14/14 [00:00<00:00, 24.22it/s]\n",
      "100%|██████████| 14/14 [00:00<00:00, 24.19it/s]\n",
      "100%|██████████| 14/14 [00:00<00:00, 24.17it/s]\n",
      " 21%|██▏       | 3/14 [00:00<00:00, 22.27it/s]"
     ]
    },
    {
     "name": "stdout",
     "output_type": "stream",
     "text": [
      "Epoch 50, Loss: 19247.89620099749\n",
      "Epoch 50, Loss: 19183.656668526786\n",
      "Epoch 50, Loss: 19395.783578055245\n"
     ]
    },
    {
     "name": "stderr",
     "output_type": "stream",
     "text": [
      "100%|██████████| 14/14 [00:00<00:00, 25.00it/s]\n",
      "100%|██████████| 14/14 [00:00<00:00, 25.01it/s]\n",
      "100%|██████████| 14/14 [00:00<00:00, 24.98it/s]\n",
      " 14%|█▍        | 2/14 [00:00<00:00, 18.58it/s]"
     ]
    },
    {
     "name": "stdout",
     "output_type": "stream",
     "text": [
      "Epoch 51, Loss: 11203.293178013393\n",
      "Epoch 51, Loss: 11312.036097935268\n",
      "Epoch 51, Loss: 11153.270656040737\n"
     ]
    },
    {
     "name": "stderr",
     "output_type": "stream",
     "text": [
      "100%|██████████| 14/14 [00:00<00:00, 25.75it/s]\n",
      "100%|██████████| 14/14 [00:00<00:00, 25.74it/s]\n",
      "100%|██████████| 14/14 [00:00<00:00, 25.72it/s]\n",
      "  0%|          | 0/14 [00:00<?, ?it/s]"
     ]
    },
    {
     "name": "stdout",
     "output_type": "stream",
     "text": [
      "Epoch 52, Loss: 8400.463623046875\n",
      "Epoch 52, Loss: 8367.54680960519\n",
      "Epoch 52, Loss: 8493.630083356586\n"
     ]
    },
    {
     "name": "stderr",
     "output_type": "stream",
     "text": [
      "100%|██████████| 14/14 [00:00<00:00, 20.41it/s]\n",
      "100%|██████████| 14/14 [00:00<00:00, 20.41it/s]\n",
      "100%|██████████| 14/14 [00:00<00:00, 20.39it/s]\n",
      " 14%|█▍        | 2/14 [00:00<00:00, 19.70it/s]"
     ]
    },
    {
     "name": "stdout",
     "output_type": "stream",
     "text": [
      "Epoch 53, Loss: 6613.138116019113\n",
      "Epoch 53, Loss: 6671.299724033901\n",
      "Epoch 53, Loss: 6626.784404209682\n"
     ]
    },
    {
     "name": "stderr",
     "output_type": "stream",
     "text": [
      "100%|██████████| 14/14 [00:00<00:00, 24.67it/s]\n",
      "100%|██████████| 14/14 [00:00<00:00, 24.70it/s]\n",
      "100%|██████████| 14/14 [00:00<00:00, 24.67it/s]\n",
      "  0%|          | 0/14 [00:00<?, ?it/s]"
     ]
    },
    {
     "name": "stdout",
     "output_type": "stream",
     "text": [
      "Epoch 54, Loss: 1403.3797498430524\n",
      "Epoch 54, Loss: 1415.7886276245117\n",
      "Epoch 54, Loss: 1424.6489464896065\n"
     ]
    },
    {
     "name": "stderr",
     "output_type": "stream",
     "text": [
      "100%|██████████| 14/14 [00:00<00:00, 25.03it/s]\n",
      "100%|██████████| 14/14 [00:00<00:00, 25.04it/s]\n",
      "100%|██████████| 14/14 [00:00<00:00, 25.00it/s]\n",
      " 21%|██▏       | 3/14 [00:00<00:00, 22.05it/s]"
     ]
    },
    {
     "name": "stdout",
     "output_type": "stream",
     "text": [
      "Epoch 55, Loss: 320.217641557966\n",
      "Epoch 55, Loss: 327.0553240094866\n",
      "Epoch 55, Loss: 322.64842442103793\n"
     ]
    },
    {
     "name": "stderr",
     "output_type": "stream",
     "text": [
      "100%|██████████| 14/14 [00:00<00:00, 23.04it/s]\n",
      "100%|██████████| 14/14 [00:00<00:00, 23.02it/s]\n",
      "100%|██████████| 14/14 [00:00<00:00, 23.03it/s]\n",
      "  0%|          | 0/14 [00:00<?, ?it/s]"
     ]
    },
    {
     "name": "stdout",
     "output_type": "stream",
     "text": [
      "Epoch 56, Loss: 329.5028054373605\n",
      "Epoch 56, Loss: 326.9800295148577\n",
      "Epoch 56, Loss: 326.22159576416016\n"
     ]
    },
    {
     "name": "stderr",
     "output_type": "stream",
     "text": [
      "100%|██████████| 14/14 [00:00<00:00, 24.17it/s]\n",
      "100%|██████████| 14/14 [00:00<00:00, 24.15it/s]\n",
      "100%|██████████| 14/14 [00:00<00:00, 24.14it/s]\n",
      " 21%|██▏       | 3/14 [00:00<00:00, 21.87it/s]"
     ]
    },
    {
     "name": "stdout",
     "output_type": "stream",
     "text": [
      "Epoch 57, Loss: 313.51881735665455\n",
      "Epoch 57, Loss: 312.6584919520787\n",
      "Epoch 57, Loss: 314.30439322335377\n"
     ]
    },
    {
     "name": "stderr",
     "output_type": "stream",
     "text": [
      "100%|██████████| 14/14 [00:00<00:00, 23.84it/s]\n",
      "100%|██████████| 14/14 [00:00<00:00, 23.81it/s]\n",
      "100%|██████████| 14/14 [00:00<00:00, 23.80it/s]\n",
      "  0%|          | 0/14 [00:00<?, ?it/s]"
     ]
    },
    {
     "name": "stdout",
     "output_type": "stream",
     "text": [
      "Epoch 58, Loss: 591.8421031406948\n",
      "Epoch 58, Loss: 587.4232428414481\n",
      "Epoch 58, Loss: 583.1909877232143\n"
     ]
    },
    {
     "name": "stderr",
     "output_type": "stream",
     "text": [
      "100%|██████████| 14/14 [00:00<00:00, 25.43it/s]\n",
      "\n",
      "100%|██████████| 14/14 [00:00<00:00, 25.38it/s]\n",
      "  0%|          | 0/14 [00:00<?, ?it/s]"
     ]
    },
    {
     "name": "stdout",
     "output_type": "stream",
     "text": [
      "Epoch 59, Loss: 2012.5086539132255\n",
      "Epoch 59, Loss: 2020.4639979771205\n",
      "Epoch 59, Loss: 2023.8594523838588\n"
     ]
    },
    {
     "name": "stderr",
     "output_type": "stream",
     "text": [
      "100%|██████████| 14/14 [00:00<00:00, 24.42it/s]\n",
      "100%|██████████| 14/14 [00:00<00:00, 24.38it/s]\n",
      "\n",
      " 21%|██▏       | 3/14 [00:00<00:00, 19.90it/s]"
     ]
    },
    {
     "name": "stdout",
     "output_type": "stream",
     "text": [
      "Epoch 60, Loss: 11684.016032627651\n",
      "Epoch 60, Loss: 11560.606506347656\n",
      "Epoch 60, Loss: 11493.097248622349\n"
     ]
    },
    {
     "name": "stderr",
     "output_type": "stream",
     "text": [
      "100%|██████████| 14/14 [00:00<00:00, 24.03it/s]\n",
      "\n",
      "100%|██████████| 14/14 [00:00<00:00, 24.01it/s]\n",
      " 14%|█▍        | 2/14 [00:00<00:00, 18.60it/s]"
     ]
    },
    {
     "name": "stdout",
     "output_type": "stream",
     "text": [
      "Epoch 61, Loss: 27832.086774553572\n",
      "Epoch 61, Loss: 27871.256591796875\n",
      "Epoch 61, Loss: 27585.17658342634\n"
     ]
    },
    {
     "name": "stderr",
     "output_type": "stream",
     "text": [
      "100%|██████████| 14/14 [00:00<00:00, 24.12it/s]\n",
      "\n",
      "100%|██████████| 14/14 [00:00<00:00, 24.18it/s]\n",
      "  0%|          | 0/14 [00:00<?, ?it/s]"
     ]
    },
    {
     "name": "stdout",
     "output_type": "stream",
     "text": [
      "Epoch 62, Loss: 26521.28803362165\n",
      "Epoch 62, Loss: 25954.351143973214\n",
      "Epoch 62, Loss: 26264.435477120536\n"
     ]
    },
    {
     "name": "stderr",
     "output_type": "stream",
     "text": [
      "100%|██████████| 14/14 [00:00<00:00, 23.39it/s]\n",
      "100%|██████████| 14/14 [00:00<00:00, 23.41it/s]\n",
      "100%|██████████| 14/14 [00:00<00:00, 23.36it/s]\n",
      " 21%|██▏       | 3/14 [00:00<00:00, 22.48it/s]"
     ]
    },
    {
     "name": "stdout",
     "output_type": "stream",
     "text": [
      "Epoch 63, Loss: 13646.227966308594\n",
      "Epoch 63, Loss: 13699.550013950893\n",
      "Epoch 63, Loss: 13743.705226353237\n"
     ]
    },
    {
     "name": "stderr",
     "output_type": "stream",
     "text": [
      "100%|██████████| 14/14 [00:00<00:00, 24.29it/s]\n",
      "100%|██████████| 14/14 [00:00<00:00, 24.30it/s]\n",
      "100%|██████████| 14/14 [00:00<00:00, 24.26it/s]\n",
      " 14%|█▍        | 2/14 [00:00<00:00, 18.70it/s]"
     ]
    },
    {
     "name": "stdout",
     "output_type": "stream",
     "text": [
      "Epoch 64, Loss: 11202.962698800224\n",
      "Epoch 64, Loss: 11328.375558035714\n",
      "Epoch 64, Loss: 11215.423601422992\n"
     ]
    },
    {
     "name": "stderr",
     "output_type": "stream",
     "text": [
      "100%|██████████| 14/14 [00:00<00:00, 24.21it/s]\n",
      "100%|██████████| 14/14 [00:00<00:00, 24.18it/s]\n",
      "100%|██████████| 14/14 [00:00<00:00, 24.17it/s]\n",
      "  0%|          | 0/14 [00:00<?, ?it/s]"
     ]
    },
    {
     "name": "stdout",
     "output_type": "stream",
     "text": [
      "Epoch 65, Loss: 8914.638126918248\n",
      "Epoch 65, Loss: 8942.63858468192\n",
      "Epoch 65, Loss: 9008.660051618304\n"
     ]
    },
    {
     "name": "stderr",
     "output_type": "stream",
     "text": [
      "100%|██████████| 14/14 [00:00<00:00, 26.21it/s]\n",
      "100%|██████████| 14/14 [00:00<00:00, 26.25it/s]\n",
      "100%|██████████| 14/14 [00:00<00:00, 26.19it/s]\n",
      "  0%|          | 0/14 [00:00<?, ?it/s]"
     ]
    },
    {
     "name": "stdout",
     "output_type": "stream",
     "text": [
      "Epoch 66, Loss: 3561.8405238560267\n",
      "Epoch 66, Loss: 3581.454332624163\n",
      "Epoch 66, Loss: 3558.452667236328\n"
     ]
    },
    {
     "name": "stderr",
     "output_type": "stream",
     "text": [
      "100%|██████████| 14/14 [00:00<00:00, 23.05it/s]\n",
      "100%|██████████| 14/14 [00:00<00:00, 23.05it/s]\n",
      "100%|██████████| 14/14 [00:00<00:00, 23.05it/s]\n",
      " 14%|█▍        | 2/14 [00:00<00:00, 14.84it/s]"
     ]
    },
    {
     "name": "stdout",
     "output_type": "stream",
     "text": [
      "Epoch 67, Loss: 3637.6361301967077\n",
      "Epoch 67, Loss: 3662.636027744838\n",
      "Epoch 67, Loss: 3643.998284476144\n"
     ]
    },
    {
     "name": "stderr",
     "output_type": "stream",
     "text": [
      "100%|██████████| 14/14 [00:00<00:00, 21.46it/s]\n",
      "100%|██████████| 14/14 [00:00<00:00, 21.47it/s]\n",
      "100%|██████████| 14/14 [00:00<00:00, 21.44it/s]\n",
      "  0%|          | 0/14 [00:00<?, ?it/s]"
     ]
    },
    {
     "name": "stdout",
     "output_type": "stream",
     "text": [
      "Epoch 68, Loss: 2919.3186710902623\n",
      "Epoch 68, Loss: 2951.7958635602677\n",
      "Epoch 68, Loss: 2948.980800083705\n"
     ]
    },
    {
     "name": "stderr",
     "output_type": "stream",
     "text": [
      "100%|██████████| 14/14 [00:00<00:00, 18.60it/s]\n",
      "100%|██████████| 14/14 [00:00<00:00, 18.59it/s]\n",
      "100%|██████████| 14/14 [00:00<00:00, 18.60it/s]\n",
      " 14%|█▍        | 2/14 [00:00<00:00, 16.09it/s]"
     ]
    },
    {
     "name": "stdout",
     "output_type": "stream",
     "text": [
      "Epoch 69, Loss: 616.8482982090542\n",
      "Epoch 69, Loss: 616.4475424630301\n",
      "Epoch 69, Loss: 624.689937046596\n"
     ]
    },
    {
     "name": "stderr",
     "output_type": "stream",
     "text": [
      "100%|██████████| 14/14 [00:00<00:00, 22.77it/s]\n",
      "100%|██████████| 14/14 [00:00<00:00, 22.78it/s]\n",
      "100%|██████████| 14/14 [00:00<00:00, 22.75it/s]\n",
      "  0%|          | 0/14 [00:00<?, ?it/s]"
     ]
    },
    {
     "name": "stdout",
     "output_type": "stream",
     "text": [
      "Epoch 70, Loss: 927.9601680210659\n",
      "Epoch 70, Loss: 940.6115875244141\n",
      "Epoch 70, Loss: 944.009154183524\n"
     ]
    },
    {
     "name": "stderr",
     "output_type": "stream",
     "text": [
      "100%|██████████| 14/14 [00:00<00:00, 20.14it/s]\n",
      "100%|██████████| 14/14 [00:00<00:00, 20.16it/s]\n",
      "100%|██████████| 14/14 [00:00<00:00, 20.13it/s]\n",
      " 21%|██▏       | 3/14 [00:00<00:00, 22.30it/s]"
     ]
    },
    {
     "name": "stdout",
     "output_type": "stream",
     "text": [
      "Epoch 71, Loss: 1207.331052507673\n",
      "Epoch 71, Loss: 1238.1517442975726\n",
      "Epoch 71, Loss: 1228.678801400321\n"
     ]
    },
    {
     "name": "stderr",
     "output_type": "stream",
     "text": [
      "100%|██████████| 14/14 [00:00<00:00, 25.73it/s]\n",
      "100%|██████████| 14/14 [00:00<00:00, 25.73it/s]\n",
      "100%|██████████| 14/14 [00:00<00:00, 25.71it/s]\n",
      "  0%|          | 0/14 [00:00<?, ?it/s]"
     ]
    },
    {
     "name": "stdout",
     "output_type": "stream",
     "text": [
      "Epoch 72, Loss: 371.35354559762135\n",
      "Epoch 72, Loss: 373.2838510785784\n",
      "Epoch 72, Loss: 363.9015208653041\n"
     ]
    },
    {
     "name": "stderr",
     "output_type": "stream",
     "text": [
      "100%|██████████| 14/14 [00:00<00:00, 18.72it/s]\n",
      "100%|██████████| 14/14 [00:00<00:00, 18.74it/s]\n",
      "100%|██████████| 14/14 [00:00<00:00, 18.70it/s]\n",
      "  0%|          | 0/14 [00:00<?, ?it/s]"
     ]
    },
    {
     "name": "stdout",
     "output_type": "stream",
     "text": [
      "Epoch 73, Loss: 1394.6525203159877\n",
      "Epoch 73, Loss: 1368.0535714285713\n",
      "Epoch 73, Loss: 1375.2603509085518\n"
     ]
    },
    {
     "name": "stderr",
     "output_type": "stream",
     "text": [
      "100%|██████████| 14/14 [00:00<00:00, 25.43it/s]\n",
      "100%|██████████| 14/14 [00:00<00:00, 25.38it/s]\n",
      "100%|██████████| 14/14 [00:00<00:00, 25.37it/s]\n",
      "  0%|          | 0/14 [00:00<?, ?it/s]"
     ]
    },
    {
     "name": "stdout",
     "output_type": "stream",
     "text": [
      "Epoch 74, Loss: 2128.280695778983\n",
      "Epoch 74, Loss: 2089.1186234610423\n",
      "Epoch 74, Loss: 2078.843116760254\n"
     ]
    },
    {
     "name": "stderr",
     "output_type": "stream",
     "text": [
      "100%|██████████| 14/14 [00:00<00:00, 23.76it/s]\n",
      "100%|██████████| 14/14 [00:00<00:00, 23.74it/s]\n",
      "  0%|          | 0/14 [00:00<?, ?it/s]3.71it/s]\n",
      " 14%|█▍        | 2/14 [00:00<00:00, 19.26it/s]"
     ]
    },
    {
     "name": "stdout",
     "output_type": "stream",
     "text": [
      "Epoch 75, Loss: 4167.598588126047\n",
      "Epoch 75, Loss: 4218.308025905064\n",
      "Epoch 75, Loss: 4220.279604230608\n"
     ]
    },
    {
     "name": "stderr",
     "output_type": "stream",
     "text": [
      "100%|██████████| 14/14 [00:00<00:00, 24.00it/s]\n",
      "100%|██████████| 14/14 [00:00<00:00, 24.01it/s]\n",
      "100%|██████████| 14/14 [00:00<00:00, 23.99it/s]\n",
      "  0%|          | 0/14 [00:00<?, ?it/s]"
     ]
    },
    {
     "name": "stdout",
     "output_type": "stream",
     "text": [
      "Epoch 76, Loss: 3890.8184721810476\n",
      "Epoch 76, Loss: 3855.9072799682617\n",
      "Epoch 76, Loss: 3920.484029497419\n"
     ]
    },
    {
     "name": "stderr",
     "output_type": "stream",
     "text": [
      "100%|██████████| 14/14 [00:00<00:00, 25.35it/s]\n",
      "\n",
      "100%|██████████| 14/14 [00:00<00:00, 25.35it/s]\n",
      "  0%|          | 0/14 [00:00<?, ?it/s]"
     ]
    },
    {
     "name": "stdout",
     "output_type": "stream",
     "text": [
      "Epoch 77, Loss: 2813.009365626744\n",
      "Epoch 77, Loss: 2838.845401218959\n",
      "Epoch 77, Loss: 2815.944677080427\n"
     ]
    },
    {
     "name": "stderr",
     "output_type": "stream",
     "text": [
      "100%|██████████| 14/14 [00:00<00:00, 19.40it/s]\n",
      "100%|██████████| 14/14 [00:00<00:00, 19.41it/s]\n",
      "100%|██████████| 14/14 [00:00<00:00, 19.38it/s]\n",
      "  0%|          | 0/14 [00:00<?, ?it/s]"
     ]
    },
    {
     "name": "stdout",
     "output_type": "stream",
     "text": [
      "Epoch 78, Loss: 4631.381395612444\n",
      "Epoch 78, Loss: 4686.652542114258\n",
      "Epoch 78, Loss: 4659.120492117746\n"
     ]
    },
    {
     "name": "stderr",
     "output_type": "stream",
     "text": [
      "100%|██████████| 14/14 [00:00<00:00, 25.69it/s]\n",
      "100%|██████████| 14/14 [00:00<00:00, 25.70it/s]\n",
      "100%|██████████| 14/14 [00:00<00:00, 25.67it/s]\n",
      " 14%|█▍        | 2/14 [00:00<00:00, 16.59it/s]"
     ]
    },
    {
     "name": "stdout",
     "output_type": "stream",
     "text": [
      "Epoch 79, Loss: 12813.800310407367\n",
      "Epoch 79, Loss: 12791.104034423828\n",
      "Epoch 79, Loss: 12937.390247889927\n"
     ]
    },
    {
     "name": "stderr",
     "output_type": "stream",
     "text": [
      "100%|██████████| 14/14 [00:00<00:00, 24.53it/s]\n",
      "100%|██████████| 14/14 [00:00<00:00, 24.55it/s]\n",
      "100%|██████████| 14/14 [00:00<00:00, 24.51it/s]\n",
      "  0%|          | 0/14 [00:00<?, ?it/s]"
     ]
    },
    {
     "name": "stdout",
     "output_type": "stream",
     "text": [
      "Epoch 80, Loss: 6703.920037405832\n",
      "Epoch 80, Loss: 6778.2411542619975\n",
      "Epoch 80, Loss: 6644.209213256836\n"
     ]
    },
    {
     "name": "stderr",
     "output_type": "stream",
     "text": [
      "100%|██████████| 14/14 [00:00<00:00, 23.05it/s]\n",
      "100%|██████████| 14/14 [00:00<00:00, 23.07it/s]\n",
      "100%|██████████| 14/14 [00:00<00:00, 23.02it/s]\n",
      " 21%|██▏       | 3/14 [00:00<00:00, 22.86it/s]"
     ]
    },
    {
     "name": "stdout",
     "output_type": "stream",
     "text": [
      "Epoch 81, Loss: 11712.337755475726\n",
      "Epoch 81, Loss: 11666.716132027763\n",
      "Epoch 81, Loss: 11525.823340279716\n"
     ]
    },
    {
     "name": "stderr",
     "output_type": "stream",
     "text": [
      "100%|██████████| 14/14 [00:00<00:00, 23.76it/s]\n",
      "100%|██████████| 14/14 [00:00<00:00, 23.74it/s]\n",
      "100%|██████████| 14/14 [00:00<00:00, 23.70it/s]\n",
      "  0%|          | 0/14 [00:00<?, ?it/s]"
     ]
    },
    {
     "name": "stdout",
     "output_type": "stream",
     "text": [
      "Epoch 82, Loss: 695.8829258510044\n",
      "Epoch 82, Loss: 708.8242416381836\n",
      "Epoch 82, Loss: 701.2131336757114\n"
     ]
    },
    {
     "name": "stderr",
     "output_type": "stream",
     "text": [
      "100%|██████████| 14/14 [00:00<00:00, 23.04it/s]\n",
      "\n",
      "100%|██████████| 14/14 [00:00<00:00, 23.05it/s]\n",
      "  0%|          | 0/14 [00:00<?, ?it/s]"
     ]
    },
    {
     "name": "stdout",
     "output_type": "stream",
     "text": [
      "Epoch 83, Loss: 939.9113311767578\n",
      "Epoch 83, Loss: 921.6180027553013\n",
      "Epoch 83, Loss: 935.593242100307\n"
     ]
    },
    {
     "name": "stderr",
     "output_type": "stream",
     "text": [
      "100%|██████████| 14/14 [00:00<00:00, 15.64it/s]\n",
      "100%|██████████| 14/14 [00:00<00:00, 15.65it/s]\n",
      "100%|██████████| 14/14 [00:00<00:00, 15.63it/s]\n",
      " 14%|█▍        | 2/14 [00:00<00:00, 19.77it/s]"
     ]
    },
    {
     "name": "stdout",
     "output_type": "stream",
     "text": [
      "Epoch 84, Loss: 1208.732709612165\n",
      "Epoch 84, Loss: 1225.1553562709264\n",
      "Epoch 84, Loss: 1210.349378313337\n"
     ]
    },
    {
     "name": "stderr",
     "output_type": "stream",
     "text": [
      "100%|██████████| 14/14 [00:00<00:00, 25.24it/s]\n",
      "\n",
      "100%|██████████| 14/14 [00:00<00:00, 25.25it/s]\n",
      "  0%|          | 0/14 [00:00<?, ?it/s]"
     ]
    },
    {
     "name": "stdout",
     "output_type": "stream",
     "text": [
      "Epoch 85, Loss: 1548.9131883893695\n",
      "Epoch 85, Loss: 1562.2502114432198\n",
      "Epoch 85, Loss: 1557.8030112130302\n"
     ]
    },
    {
     "name": "stderr",
     "output_type": "stream",
     "text": [
      "100%|██████████| 14/14 [00:00<00:00, 23.81it/s]\n",
      "100%|██████████| 14/14 [00:00<00:00, 23.80it/s]\n",
      "100%|██████████| 14/14 [00:00<00:00, 23.79it/s]\n",
      " 14%|█▍        | 2/14 [00:00<00:00, 19.34it/s]"
     ]
    },
    {
     "name": "stdout",
     "output_type": "stream",
     "text": [
      "Epoch 86, Loss: 1706.5966535295759\n",
      "Epoch 86, Loss: 1661.3263397216797\n",
      "Epoch 86, Loss: 1685.468041556222\n"
     ]
    },
    {
     "name": "stderr",
     "output_type": "stream",
     "text": [
      "100%|██████████| 14/14 [00:00<00:00, 24.23it/s]\n",
      "\n",
      "100%|██████████| 14/14 [00:00<00:00, 24.20it/s]\n",
      "  0%|          | 0/14 [00:00<?, ?it/s]"
     ]
    },
    {
     "name": "stdout",
     "output_type": "stream",
     "text": [
      "Epoch 87, Loss: 2298.0611812046595\n",
      "Epoch 87, Loss: 2348.4783761160716\n",
      "Epoch 87, Loss: 2311.910470145089\n"
     ]
    },
    {
     "name": "stderr",
     "output_type": "stream",
     "text": [
      "100%|██████████| 14/14 [00:00<00:00, 23.81it/s]\n",
      "100%|██████████| 14/14 [00:00<00:00, 23.84it/s]\n",
      "100%|██████████| 14/14 [00:00<00:00, 23.78it/s]\n",
      " 21%|██▏       | 3/14 [00:00<00:00, 22.85it/s]"
     ]
    },
    {
     "name": "stdout",
     "output_type": "stream",
     "text": [
      "Epoch 88, Loss: 2659.42259652274\n",
      "Epoch 88, Loss: 2607.5135040283203\n",
      "Epoch 88, Loss: 2614.8380105154856\n"
     ]
    },
    {
     "name": "stderr",
     "output_type": "stream",
     "text": [
      "100%|██████████| 14/14 [00:00<00:00, 24.49it/s]\n",
      "\n",
      "100%|██████████| 14/14 [00:00<00:00, 24.43it/s]\n",
      "  0%|          | 0/14 [00:00<?, ?it/s]"
     ]
    },
    {
     "name": "stdout",
     "output_type": "stream",
     "text": [
      "Epoch 89, Loss: 3891.085436139788\n",
      "Epoch 89, Loss: 3764.2363869803294\n",
      "Epoch 89, Loss: 3756.854482923235\n"
     ]
    },
    {
     "name": "stderr",
     "output_type": "stream",
     "text": [
      "100%|██████████| 14/14 [00:00<00:00, 26.12it/s]\n",
      "\n",
      "100%|██████████| 14/14 [00:00<00:00, 26.13it/s]\n",
      "  0%|          | 0/14 [00:00<?, ?it/s]"
     ]
    },
    {
     "name": "stdout",
     "output_type": "stream",
     "text": [
      "Epoch 90, Loss: 5813.960920061384\n",
      "Epoch 90, Loss: 5895.231563023159\n",
      "Epoch 90, Loss: 5868.476900373186\n"
     ]
    },
    {
     "name": "stderr",
     "output_type": "stream",
     "text": [
      "100%|██████████| 14/14 [00:00<00:00, 25.60it/s]\n",
      "\n",
      "100%|██████████| 14/14 [00:00<00:00, 25.55it/s]\n",
      "  0%|          | 0/14 [00:00<?, ?it/s]"
     ]
    },
    {
     "name": "stdout",
     "output_type": "stream",
     "text": [
      "Epoch 91, Loss: 4933.744470868792\n",
      "Epoch 91, Loss: 4909.310638427734\n",
      "Epoch 91, Loss: 5003.263857160296\n"
     ]
    },
    {
     "name": "stderr",
     "output_type": "stream",
     "text": [
      "100%|██████████| 14/14 [00:00<00:00, 26.51it/s]\n",
      "100%|██████████| 14/14 [00:00<00:00, 26.46it/s]\n",
      "100%|██████████| 14/14 [00:00<00:00, 26.46it/s]\n",
      "  0%|          | 0/14 [00:00<?, ?it/s]"
     ]
    },
    {
     "name": "stdout",
     "output_type": "stream",
     "text": [
      "Epoch 92, Loss: 454.9457631792341\n",
      "Epoch 92, Loss: 445.0079242161342\n",
      "Epoch 92, Loss: 448.28729466029574\n"
     ]
    },
    {
     "name": "stderr",
     "output_type": "stream",
     "text": [
      "100%|██████████| 14/14 [00:00<00:00, 23.80it/s]\n",
      "100%|██████████| 14/14 [00:00<00:00, 23.79it/s]\n",
      "100%|██████████| 14/14 [00:00<00:00, 23.79it/s]\n",
      "  0%|          | 0/14 [00:00<?, ?it/s]"
     ]
    },
    {
     "name": "stdout",
     "output_type": "stream",
     "text": [
      "Epoch 93, Loss: 475.2906254359654\n",
      "Epoch 93, Loss: 473.90953826904297\n",
      "Epoch 93, Loss: 472.54881014142717\n"
     ]
    },
    {
     "name": "stderr",
     "output_type": "stream",
     "text": [
      "100%|██████████| 14/14 [00:00<00:00, 25.95it/s]\n",
      "\n",
      "100%|██████████| 14/14 [00:00<00:00, 25.92it/s]\n",
      "  0%|          | 0/14 [00:00<?, ?it/s]"
     ]
    },
    {
     "name": "stdout",
     "output_type": "stream",
     "text": [
      "Epoch 94, Loss: 406.46719305855885\n",
      "Epoch 94, Loss: 409.15750885009766\n",
      "Epoch 94, Loss: 404.4915766034807\n"
     ]
    },
    {
     "name": "stderr",
     "output_type": "stream",
     "text": [
      "100%|██████████| 14/14 [00:00<00:00, 24.02it/s]\n",
      "100%|██████████| 14/14 [00:00<00:00, 24.04it/s]\n",
      "100%|██████████| 14/14 [00:00<00:00, 23.99it/s]\n",
      " 14%|█▍        | 2/14 [00:00<00:00, 19.51it/s]"
     ]
    },
    {
     "name": "stdout",
     "output_type": "stream",
     "text": [
      "Epoch 95, Loss: 505.2578604561942\n",
      "Epoch 95, Loss: 505.14561135428295\n",
      "Epoch 95, Loss: 502.9002598353795\n"
     ]
    },
    {
     "name": "stderr",
     "output_type": "stream",
     "text": [
      "100%|██████████| 14/14 [00:00<00:00, 24.02it/s]\n",
      "\n",
      "100%|██████████| 14/14 [00:00<00:00, 24.02it/s]\n",
      "  0%|          | 0/14 [00:00<?, ?it/s]"
     ]
    },
    {
     "name": "stdout",
     "output_type": "stream",
     "text": [
      "Epoch 96, Loss: 713.969502040318\n",
      "Epoch 96, Loss: 723.9468318394253\n",
      "Epoch 96, Loss: 709.6007712227957\n"
     ]
    },
    {
     "name": "stderr",
     "output_type": "stream",
     "text": [
      "100%|██████████| 14/14 [00:00<00:00, 24.54it/s]\n",
      "100%|██████████| 14/14 [00:00<00:00, 24.56it/s]\n",
      "100%|██████████| 14/14 [00:00<00:00, 24.52it/s]\n",
      " 21%|██▏       | 3/14 [00:00<00:00, 22.29it/s]"
     ]
    },
    {
     "name": "stdout",
     "output_type": "stream",
     "text": [
      "Epoch 97, Loss: 876.7469504220145\n",
      "Epoch 97, Loss: 856.100590297154\n",
      "Epoch 97, Loss: 856.5161394391741\n"
     ]
    },
    {
     "name": "stderr",
     "output_type": "stream",
     "text": [
      "100%|██████████| 14/14 [00:00<00:00, 19.41it/s]\n",
      "100%|██████████| 14/14 [00:00<00:00, 19.42it/s]\n",
      "100%|██████████| 14/14 [00:00<00:00, 19.39it/s]\n",
      "  0%|          | 0/14 [00:00<?, ?it/s]"
     ]
    },
    {
     "name": "stdout",
     "output_type": "stream",
     "text": [
      "Epoch 98, Loss: 1316.4513266427177\n",
      "Epoch 98, Loss: 1311.2315477643695\n",
      "Epoch 98, Loss: 1297.8997650146484\n"
     ]
    },
    {
     "name": "stderr",
     "output_type": "stream",
     "text": [
      "100%|██████████| 14/14 [00:00<00:00, 20.02it/s]\n",
      "100%|██████████| 14/14 [00:00<00:00, 20.00it/s]\n",
      "100%|██████████| 14/14 [00:00<00:00, 19.99it/s]\n",
      " 14%|█▍        | 2/14 [00:00<00:00, 16.58it/s]"
     ]
    },
    {
     "name": "stdout",
     "output_type": "stream",
     "text": [
      "Epoch 99, Loss: 2026.773886544364\n",
      "Epoch 99, Loss: 2046.390101841518\n",
      "Epoch 99, Loss: 2023.8047572544642\n"
     ]
    },
    {
     "name": "stderr",
     "output_type": "stream",
     "text": [
      "100%|██████████| 14/14 [00:00<00:00, 24.07it/s]\n",
      "\n",
      "100%|██████████| 14/14 [00:00<00:00, 24.01it/s]\n"
     ]
    },
    {
     "name": "stdout",
     "output_type": "stream",
     "text": [
      "Epoch 100, Loss: 2880.069534301758\n",
      "Training time: 62.17049264907837 seconds\n",
      "Epoch 100, Loss: 2849.8282754080637\n",
      "Training time: 62.17045545578003 seconds\n",
      "Epoch 100, Loss: 2853.241912841797\n",
      "Training time: 62.1711950302124 seconds\n",
      "Training time: 70.20292782783508 seconds\n"
     ]
    }
   ],
   "source": [
    "import time\n",
    "\n",
    "start_time = time.time()\n",
    "if __name__ == '__main__':\n",
    "    num_gpus = 3\n",
    "    import torch.multiprocessing as mp\n",
    "    mp.spawn(run, args=(list(range(num_gpus)),dgl_graph), nprocs=num_gpus)\n",
    "\n",
    "end_time = time.time()\n",
    "elapsed_time = end_time - start_time\n",
    "\n",
    "print(f\"Training time: {elapsed_time} seconds\")"
   ]
  },
  {
   "cell_type": "code",
   "execution_count": 27,
   "metadata": {},
   "outputs": [
    {
     "name": "stderr",
     "output_type": "stream",
     "text": [
      "/home/rxf131/ondemand/ubuntu2204/python310/torch_geometric/typing.py:47: UserWarning: An issue occurred while importing 'pyg-lib'. Disabling its usage. Stacktrace: libcudart.so.12: cannot open shared object file: No such file or directory\n",
      "  warnings.warn(f\"An issue occurred while importing 'pyg-lib'. \"\n",
      "/home/rxf131/ondemand/ubuntu2204/python310/torch_geometric/typing.py:101: UserWarning: An issue occurred while importing 'torch-sparse'. Disabling its usage. Stacktrace: libcudart.so.12: cannot open shared object file: No such file or directory\n",
      "  warnings.warn(f\"An issue occurred while importing 'torch-sparse'. \"\n",
      "/home/rxf131/ondemand/ubuntu2204/python310/torch_geometric/typing.py:47: UserWarning: An issue occurred while importing 'pyg-lib'. Disabling its usage. Stacktrace: libcudart.so.12: cannot open shared object file: No such file or directory\n",
      "  warnings.warn(f\"An issue occurred while importing 'pyg-lib'. \"\n",
      "/home/rxf131/ondemand/ubuntu2204/python310/torch_geometric/typing.py:47: UserWarning: An issue occurred while importing 'pyg-lib'. Disabling its usage. Stacktrace: libcudart.so.12: cannot open shared object file: No such file or directory\n",
      "  warnings.warn(f\"An issue occurred while importing 'pyg-lib'. \"\n",
      "/home/rxf131/ondemand/ubuntu2204/python310/torch_geometric/typing.py:47: UserWarning: An issue occurred while importing 'pyg-lib'. Disabling its usage. Stacktrace: libcudart.so.12: cannot open shared object file: No such file or directory\n",
      "  warnings.warn(f\"An issue occurred while importing 'pyg-lib'. \"\n",
      "/home/rxf131/ondemand/ubuntu2204/python310/torch_geometric/typing.py:101: UserWarning: An issue occurred while importing 'torch-sparse'. Disabling its usage. Stacktrace: libcudart.so.12: cannot open shared object file: No such file or directory\n",
      "  warnings.warn(f\"An issue occurred while importing 'torch-sparse'. \"\n",
      "/home/rxf131/ondemand/ubuntu2204/python310/torch_geometric/typing.py:101: UserWarning: An issue occurred while importing 'torch-sparse'. Disabling its usage. Stacktrace: libcudart.so.12: cannot open shared object file: No such file or directory\n",
      "  warnings.warn(f\"An issue occurred while importing 'torch-sparse'. \"\n",
      "/home/rxf131/ondemand/ubuntu2204/python310/torch_geometric/typing.py:101: UserWarning: An issue occurred while importing 'torch-sparse'. Disabling its usage. Stacktrace: libcudart.so.12: cannot open shared object file: No such file or directory\n",
      "  warnings.warn(f\"An issue occurred while importing 'torch-sparse'. \"\n",
      "100%|██████████| 2/2 [00:01<00:00,  1.51it/s]\n",
      "\n",
      "100%|██████████| 2/2 [00:01<00:00,  1.51it/s]\n",
      "100%|██████████| 2/2 [00:01<00:00,  1.51it/s]\n",
      "  0%|          | 0/2 [00:00<?, ?it/s]"
     ]
    },
    {
     "name": "stdout",
     "output_type": "stream",
     "text": [
      "Epoch 1, Loss: 5624127.4921875\n",
      "Epoch 1, Loss: 6214866.40625\n",
      "Epoch 1, Loss: 5038687.8828125\n",
      "Epoch 1, Loss: 5333665.1796875\n"
     ]
    },
    {
     "name": "stderr",
     "output_type": "stream",
     "text": [
      "100%|██████████| 2/2 [00:00<00:00,  3.93it/s]\n",
      "100%|██████████| 2/2 [00:00<00:00,  3.92it/s]\n",
      "100%|██████████| 2/2 [00:00<00:00,  3.92it/s]\n",
      "100%|██████████| 2/2 [00:00<00:00,  3.91it/s]\n",
      "  0%|          | 0/2 [00:00<?, ?it/s]"
     ]
    },
    {
     "name": "stdout",
     "output_type": "stream",
     "text": [
      "Epoch 2, Loss: 664272.2890625\n",
      "Epoch 2, Loss: 828639.328125\n",
      "Epoch 2, Loss: 677995.67578125\n",
      "Epoch 2, Loss: 905992.076171875\n"
     ]
    },
    {
     "name": "stderr",
     "output_type": "stream",
     "text": [
      "100%|██████████| 2/2 [00:00<00:00,  4.09it/s]\n",
      "100%|██████████| 2/2 [00:00<00:00,  4.07it/s]\n",
      "100%|██████████| 2/2 [00:00<00:00,  4.07it/s]\n",
      "100%|██████████| 2/2 [00:00<00:00,  4.07it/s]\n",
      "  0%|          | 0/2 [00:00<?, ?it/s]"
     ]
    },
    {
     "name": "stdout",
     "output_type": "stream",
     "text": [
      "Epoch 3, Loss: 912347.1640625\n",
      "Epoch 3, Loss: 733294.73046875\n",
      "Epoch 3, Loss: 882469.0859375\n",
      "Epoch 3, Loss: 1027453.15625\n"
     ]
    },
    {
     "name": "stderr",
     "output_type": "stream",
     "text": [
      "100%|██████████| 2/2 [00:00<00:00,  4.05it/s]\n",
      "100%|██████████| 2/2 [00:00<00:00,  4.04it/s]\n",
      "100%|██████████| 2/2 [00:00<00:00,  4.04it/s]\n",
      "100%|██████████| 2/2 [00:00<00:00,  4.04it/s]\n",
      "  0%|          | 0/2 [00:00<?, ?it/s]"
     ]
    },
    {
     "name": "stdout",
     "output_type": "stream",
     "text": [
      "Epoch 4, Loss: 1765112.5\n",
      "Epoch 4, Loss: 1820109.5\n",
      "Epoch 4, Loss: 2017922.6875\n",
      "Epoch 4, Loss: 1692644.59375\n"
     ]
    },
    {
     "name": "stderr",
     "output_type": "stream",
     "text": [
      "100%|██████████| 2/2 [00:00<00:00,  3.98it/s]\n",
      "100%|██████████| 2/2 [00:00<00:00,  3.98it/s]\n",
      "100%|██████████| 2/2 [00:00<00:00,  3.98it/s]\n",
      "100%|██████████| 2/2 [00:00<00:00,  3.98it/s]\n",
      "  0%|          | 0/2 [00:00<?, ?it/s]"
     ]
    },
    {
     "name": "stdout",
     "output_type": "stream",
     "text": [
      "Epoch 5, Loss: 2015031.71875\n",
      "Epoch 5, Loss: 2768779.9375\n",
      "Epoch 5, Loss: 2753840.90625\n",
      "Epoch 5, Loss: 1821395.515625\n"
     ]
    },
    {
     "name": "stderr",
     "output_type": "stream",
     "text": [
      "100%|██████████| 2/2 [00:00<00:00,  4.04it/s]\n",
      "100%|██████████| 2/2 [00:00<00:00,  4.04it/s]\n",
      "100%|██████████| 2/2 [00:00<00:00,  4.04it/s]\n",
      "100%|██████████| 2/2 [00:00<00:00,  4.04it/s]\n",
      "  0%|          | 0/2 [00:00<?, ?it/s]"
     ]
    },
    {
     "name": "stdout",
     "output_type": "stream",
     "text": [
      "Epoch 6, Loss: 4648850.15625\n",
      "Epoch 6, Loss: 5973994.359375\n",
      "Epoch 6, Loss: 4840512.734375\n",
      "Epoch 6, Loss: 5663547.34375\n"
     ]
    },
    {
     "name": "stderr",
     "output_type": "stream",
     "text": [
      "100%|██████████| 2/2 [00:00<00:00,  4.07it/s]\n",
      "100%|██████████| 2/2 [00:00<00:00,  4.07it/s]\n",
      "100%|██████████| 2/2 [00:00<00:00,  4.07it/s]\n",
      "100%|██████████| 2/2 [00:00<00:00,  4.07it/s]\n",
      "  0%|          | 0/2 [00:00<?, ?it/s]"
     ]
    },
    {
     "name": "stdout",
     "output_type": "stream",
     "text": [
      "Epoch 7, Loss: 1122063.25\n",
      "Epoch 7, Loss: 1100797.84375\n",
      "Epoch 7, Loss: 1164444.625\n",
      "Epoch 7, Loss: 1254225.09375\n"
     ]
    },
    {
     "name": "stderr",
     "output_type": "stream",
     "text": [
      "100%|██████████| 2/2 [00:00<00:00,  3.88it/s]\n",
      "100%|██████████| 2/2 [00:00<00:00,  3.88it/s]\n",
      "100%|██████████| 2/2 [00:00<00:00,  3.88it/s]\n"
     ]
    },
    {
     "name": "stdout",
     "output_type": "stream",
     "text": [
      "Epoch 8, Loss: 1907067.0703125\n",
      "Epoch 8, Loss: 2097650.0703125\n",
      "Epoch 8, Loss: 1951541.71875\n",
      "Epoch 8, Loss: 1992943.9296875\n"
     ]
    },
    {
     "name": "stderr",
     "output_type": "stream",
     "text": [
      "100%|██████████| 2/2 [00:00<00:00,  3.87it/s]\n",
      "100%|██████████| 2/2 [00:00<00:00,  3.87it/s]\n",
      "\n",
      "100%|██████████| 2/2 [00:00<00:00,  3.87it/s]\n",
      "100%|██████████| 2/2 [00:00<00:00,  3.87it/s]\n",
      "  0%|          | 0/2 [00:00<?, ?it/s]"
     ]
    },
    {
     "name": "stdout",
     "output_type": "stream",
     "text": [
      "Epoch 9, Loss: 722279.609375\n",
      "Epoch 9, Loss: 899799.25\n",
      "Epoch 9, Loss: 1802387.375\n",
      "Epoch 9, Loss: 819579.46875\n"
     ]
    },
    {
     "name": "stderr",
     "output_type": "stream",
     "text": [
      "100%|██████████| 2/2 [00:00<00:00,  4.04it/s]\n",
      "100%|██████████| 2/2 [00:00<00:00,  4.04it/s]\n",
      "100%|██████████| 2/2 [00:00<00:00,  4.04it/s]\n",
      "100%|██████████| 2/2 [00:00<00:00,  4.04it/s]\n",
      "  0%|          | 0/2 [00:00<?, ?it/s]"
     ]
    },
    {
     "name": "stdout",
     "output_type": "stream",
     "text": [
      "Epoch 10, Loss: 1736589.484375\n",
      "Epoch 10, Loss: 1250315.05859375\n",
      "Epoch 10, Loss: 1246596.3515625\n",
      "Epoch 10, Loss: 1247074.953125\n"
     ]
    },
    {
     "name": "stderr",
     "output_type": "stream",
     "text": [
      "100%|██████████| 2/2 [00:00<00:00,  4.09it/s]\n",
      "100%|██████████| 2/2 [00:00<00:00,  4.10it/s]\n",
      "100%|██████████| 2/2 [00:00<00:00,  4.09it/s]\n",
      "100%|██████████| 2/2 [00:00<00:00,  4.08it/s]\n",
      "  0%|          | 0/2 [00:00<?, ?it/s]"
     ]
    },
    {
     "name": "stdout",
     "output_type": "stream",
     "text": [
      "Epoch 11, Loss: 411694.703125\n",
      "Epoch 11, Loss: 706285.84375\n",
      "Epoch 11, Loss: 660312.4375\n",
      "Epoch 11, Loss: 788307.65625\n"
     ]
    },
    {
     "name": "stderr",
     "output_type": "stream",
     "text": [
      "100%|██████████| 2/2 [00:00<00:00,  4.01it/s]\n",
      "\n",
      "100%|██████████| 2/2 [00:00<00:00,  4.01it/s]\n",
      "100%|██████████| 2/2 [00:00<00:00,  4.01it/s]\n",
      "  0%|          | 0/2 [00:00<?, ?it/s]"
     ]
    },
    {
     "name": "stdout",
     "output_type": "stream",
     "text": [
      "Epoch 12, Loss: 1346629.83984375\n",
      "Epoch 12, Loss: 1652937.20703125\n",
      "Epoch 12, Loss: 1300953.9140625\n",
      "Epoch 12, Loss: 1281666.3125\n"
     ]
    },
    {
     "name": "stderr",
     "output_type": "stream",
     "text": [
      "100%|██████████| 2/2 [00:00<00:00,  4.01it/s]\n",
      "100%|██████████| 2/2 [00:00<00:00,  4.01it/s]\n",
      "100%|██████████| 2/2 [00:00<00:00,  4.01it/s]\n",
      "100%|██████████| 2/2 [00:00<00:00,  4.01it/s]\n",
      "  0%|          | 0/2 [00:00<?, ?it/s]"
     ]
    },
    {
     "name": "stdout",
     "output_type": "stream",
     "text": [
      "Epoch 13, Loss: 1661053.15625\n",
      "Epoch 13, Loss: 1542242.0\n",
      "Epoch 13, Loss: 2063669.96875\n",
      "Epoch 13, Loss: 1735971.484375\n"
     ]
    },
    {
     "name": "stderr",
     "output_type": "stream",
     "text": [
      "100%|██████████| 2/2 [00:00<00:00,  4.08it/s]\n",
      "100%|██████████| 2/2 [00:00<00:00,  4.08it/s]\n",
      "\n",
      "100%|██████████| 2/2 [00:00<00:00,  4.08it/s]\n",
      "  0%|          | 0/2 [00:00<?, ?it/s]"
     ]
    },
    {
     "name": "stdout",
     "output_type": "stream",
     "text": [
      "Epoch 14, Loss: 379055.6953125\n",
      "Epoch 14, Loss: 357015.1171875\n",
      "Epoch 14, Loss: 401965.5625\n",
      "Epoch 14, Loss: 369929.4921875\n"
     ]
    },
    {
     "name": "stderr",
     "output_type": "stream",
     "text": [
      "100%|██████████| 2/2 [00:00<00:00,  4.10it/s]\n",
      "100%|██████████| 2/2 [00:00<00:00,  4.10it/s]\n",
      "100%|██████████| 2/2 [00:00<00:00,  4.09it/s]\n",
      "  0%|          | 0/2 [00:00<?, ?it/s]"
     ]
    },
    {
     "name": "stdout",
     "output_type": "stream",
     "text": [
      "Epoch 15, Loss: 1108410.828125\n",
      "Epoch 15, Loss: 1216293.359375\n",
      "Epoch 15, Loss: 1106252.609375\n",
      "Epoch 15, Loss: 1182686.3359375\n"
     ]
    },
    {
     "name": "stderr",
     "output_type": "stream",
     "text": [
      "100%|██████████| 2/2 [00:00<00:00,  4.10it/s]\n",
      "100%|██████████| 2/2 [00:00<00:00,  3.98it/s]\n",
      "100%|██████████| 2/2 [00:00<00:00,  3.98it/s]\n",
      "100%|██████████| 2/2 [00:00<00:00,  3.98it/s]\n",
      "100%|██████████| 2/2 [00:00<00:00,  3.97it/s]\n",
      "  0%|          | 0/2 [00:00<?, ?it/s]"
     ]
    },
    {
     "name": "stdout",
     "output_type": "stream",
     "text": [
      "Epoch 16, Loss: 475820.46875\n",
      "Epoch 16, Loss: 541329.4296875\n",
      "Epoch 16, Loss: 538290.78125\n",
      "Epoch 16, Loss: 471069.2734375\n"
     ]
    },
    {
     "name": "stderr",
     "output_type": "stream",
     "text": [
      "100%|██████████| 2/2 [00:00<00:00,  4.00it/s]\n",
      "100%|██████████| 2/2 [00:00<00:00,  3.99it/s]\n",
      "100%|██████████| 2/2 [00:00<00:00,  4.00it/s]\n",
      "100%|██████████| 2/2 [00:00<00:00,  3.99it/s]\n",
      "  0%|          | 0/2 [00:00<?, ?it/s]"
     ]
    },
    {
     "name": "stdout",
     "output_type": "stream",
     "text": [
      "Epoch 17, Loss: 1349071.0\n",
      "Epoch 17, Loss: 1193615.90625\n",
      "Epoch 17, Loss: 1217556.9609375\n",
      "Epoch 17, Loss: 1354544.265625\n"
     ]
    },
    {
     "name": "stderr",
     "output_type": "stream",
     "text": [
      "100%|██████████| 2/2 [00:00<00:00,  4.00it/s]\n",
      "100%|██████████| 2/2 [00:00<00:00,  4.00it/s]\n",
      "100%|██████████| 2/2 [00:00<00:00,  4.00it/s]\n",
      "100%|██████████| 2/2 [00:00<00:00,  3.99it/s]\n",
      "  0%|          | 0/2 [00:00<?, ?it/s]"
     ]
    },
    {
     "name": "stdout",
     "output_type": "stream",
     "text": [
      "Epoch 18, Loss: 786902.703125\n",
      "Epoch 18, Loss: 522395.978515625\n",
      "Epoch 18, Loss: 609206.76953125\n",
      "Epoch 18, Loss: 675235.71875\n"
     ]
    },
    {
     "name": "stderr",
     "output_type": "stream",
     "text": [
      "100%|██████████| 2/2 [00:00<00:00,  3.97it/s]\n",
      "100%|██████████| 2/2 [00:00<00:00,  3.97it/s]\n",
      "100%|██████████| 2/2 [00:00<00:00,  3.97it/s]\n",
      "100%|██████████| 2/2 [00:00<00:00,  3.97it/s]\n",
      "  0%|          | 0/2 [00:00<?, ?it/s]"
     ]
    },
    {
     "name": "stdout",
     "output_type": "stream",
     "text": [
      "Epoch 19, Loss: 254318.875\n",
      "Epoch 19, Loss: 537269.65625\n",
      "Epoch 19, Loss: 270879.6171875\n",
      "Epoch 19, Loss: 270645.9453125\n"
     ]
    },
    {
     "name": "stderr",
     "output_type": "stream",
     "text": [
      "100%|██████████| 2/2 [00:00<00:00,  4.02it/s]\n",
      "100%|██████████| 2/2 [00:00<00:00,  4.02it/s]\n",
      "100%|██████████| 2/2 [00:00<00:00,  4.02it/s]\n",
      "100%|██████████| 2/2 [00:00<00:00,  4.01it/s]\n",
      "  0%|          | 0/2 [00:00<?, ?it/s]"
     ]
    },
    {
     "name": "stdout",
     "output_type": "stream",
     "text": [
      "Epoch 20, Loss: 356163.20703125\n",
      "Epoch 20, Loss: 348507.796875\n",
      "Epoch 20, Loss: 468484.09765625\n",
      "Epoch 20, Loss: 401765.39453125\n"
     ]
    },
    {
     "name": "stderr",
     "output_type": "stream",
     "text": [
      "100%|██████████| 2/2 [00:00<00:00,  4.12it/s]\n",
      "100%|██████████| 2/2 [00:00<00:00,  4.12it/s]\n",
      "100%|██████████| 2/2 [00:00<00:00,  4.13it/s]\n",
      "100%|██████████| 2/2 [00:00<00:00,  4.12it/s]\n",
      "  0%|          | 0/2 [00:00<?, ?it/s]"
     ]
    },
    {
     "name": "stdout",
     "output_type": "stream",
     "text": [
      "Epoch 21, Loss: 147455.96484375\n",
      "Epoch 21, Loss: 155446.8828125\n",
      "Epoch 21, Loss: 152332.701171875\n",
      "Epoch 21, Loss: 145662.75\n"
     ]
    },
    {
     "name": "stderr",
     "output_type": "stream",
     "text": [
      "100%|██████████| 2/2 [00:00<00:00,  4.00it/s]\n",
      "\n",
      "100%|██████████| 2/2 [00:00<00:00,  4.01it/s]\n",
      "100%|██████████| 2/2 [00:00<00:00,  4.00it/s]\n",
      "  0%|          | 0/2 [00:00<?, ?it/s]"
     ]
    },
    {
     "name": "stdout",
     "output_type": "stream",
     "text": [
      "Epoch 22, Loss: 152852.203125\n",
      "Epoch 22, Loss: 155128.984375\n",
      "Epoch 22, Loss: 172300.93359375\n",
      "Epoch 22, Loss: 155829.07421875\n"
     ]
    },
    {
     "name": "stderr",
     "output_type": "stream",
     "text": [
      "100%|██████████| 2/2 [00:00<00:00,  4.13it/s]\n",
      "100%|██████████| 2/2 [00:00<00:00,  4.13it/s]\n",
      "100%|██████████| 2/2 [00:00<00:00,  4.13it/s]\n",
      "100%|██████████| 2/2 [00:00<00:00,  4.13it/s]\n",
      "  0%|          | 0/2 [00:00<?, ?it/s]"
     ]
    },
    {
     "name": "stdout",
     "output_type": "stream",
     "text": [
      "Epoch 23, Loss: 205179.91015625\n",
      "Epoch 23, Loss: 208797.466796875\n",
      "Epoch 23, Loss: 249560.546875\n",
      "Epoch 23, Loss: 223218.421875\n"
     ]
    },
    {
     "name": "stderr",
     "output_type": "stream",
     "text": [
      "100%|██████████| 2/2 [00:00<00:00,  4.01it/s]\n",
      "\n",
      "100%|██████████| 2/2 [00:00<00:00,  4.01it/s]\n",
      "100%|██████████| 2/2 [00:00<00:00,  4.01it/s]\n",
      "  0%|          | 0/2 [00:00<?, ?it/s]"
     ]
    },
    {
     "name": "stdout",
     "output_type": "stream",
     "text": [
      "Epoch 24, Loss: 57739.7890625\n",
      "Epoch 24, Loss: 52007.12548828125\n",
      "Epoch 24, Loss: 74188.359375\n",
      "Epoch 24, Loss: 45308.4736328125\n"
     ]
    },
    {
     "name": "stderr",
     "output_type": "stream",
     "text": [
      "100%|██████████| 2/2 [00:00<00:00,  3.96it/s]\n",
      "100%|██████████| 2/2 [00:00<00:00,  3.96it/s]\n",
      "100%|██████████| 2/2 [00:00<00:00,  3.97it/s]\n",
      "100%|██████████| 2/2 [00:00<00:00,  3.96it/s]\n",
      "  0%|          | 0/2 [00:00<?, ?it/s]"
     ]
    },
    {
     "name": "stdout",
     "output_type": "stream",
     "text": [
      "Epoch 25, Loss: 75680.259765625\n",
      "Epoch 25, Loss: 109156.669921875\n",
      "Epoch 25, Loss: 79129.9140625\n",
      "Epoch 25, Loss: 66555.9375\n"
     ]
    },
    {
     "name": "stderr",
     "output_type": "stream",
     "text": [
      " 50%|█████     | 1/2 [00:00<00:00,  3.61it/s]"
     ]
    },
    {
     "name": "stdout",
     "output_type": "stream",
     "text": [
      "Epoch 26, Loss: 91445.6015625\n",
      "Epoch 26, Loss: 79457.4423828125\n",
      "Epoch 26, Loss: 68397.3310546875\n",
      "Epoch 26, Loss: 73940.35546875\n"
     ]
    },
    {
     "name": "stderr",
     "output_type": "stream",
     "text": [
      "100%|██████████| 2/2 [00:00<00:00,  4.04it/s]\n",
      "100%|██████████| 2/2 [00:00<00:00,  4.05it/s]\n",
      "100%|██████████| 2/2 [00:00<00:00,  4.04it/s]\n",
      "100%|██████████| 2/2 [00:00<00:00,  4.04it/s]\n",
      "100%|██████████| 2/2 [00:00<00:00,  4.02it/s]\n",
      "100%|██████████| 2/2 [00:00<00:00,  4.02it/s]\n",
      "100%|██████████| 2/2 [00:00<00:00,  4.02it/s]\n",
      "100%|██████████| 2/2 [00:00<00:00,  4.02it/s]\n",
      "  0%|          | 0/2 [00:00<?, ?it/s]"
     ]
    },
    {
     "name": "stdout",
     "output_type": "stream",
     "text": [
      "Epoch 27, Loss: 67452.90234375\n",
      "Epoch 27, Loss: 78626.3388671875\n",
      "Epoch 27, Loss: 64524.408203125\n",
      "Epoch 27, Loss: 66047.29296875\n"
     ]
    },
    {
     "name": "stderr",
     "output_type": "stream",
     "text": [
      "100%|██████████| 2/2 [00:00<00:00,  4.14it/s]\n",
      "100%|██████████| 2/2 [00:00<00:00,  4.13it/s]\n",
      "100%|██████████| 2/2 [00:00<00:00,  4.13it/s]\n",
      "100%|██████████| 2/2 [00:00<00:00,  4.13it/s]\n",
      "  0%|          | 0/2 [00:00<?, ?it/s]"
     ]
    },
    {
     "name": "stdout",
     "output_type": "stream",
     "text": [
      "Epoch 28, Loss: 33248.9296875\n",
      "Epoch 28, Loss: 34080.63623046875\n",
      "Epoch 28, Loss: 30233.71240234375\n",
      "Epoch 28, Loss: 39543.408203125\n"
     ]
    },
    {
     "name": "stderr",
     "output_type": "stream",
     "text": [
      "100%|██████████| 2/2 [00:00<00:00,  3.96it/s]\n",
      "\n",
      "100%|██████████| 2/2 [00:00<00:00,  3.95it/s]\n",
      "100%|██████████| 2/2 [00:00<00:00,  3.96it/s]\n",
      "  0%|          | 0/2 [00:00<?, ?it/s]"
     ]
    },
    {
     "name": "stdout",
     "output_type": "stream",
     "text": [
      "Epoch 29, Loss: 15190.90380859375\n",
      "Epoch 29, Loss: 15812.75634765625\n",
      "Epoch 29, Loss: 28907.2802734375\n",
      "Epoch 29, Loss: 15794.76318359375\n"
     ]
    },
    {
     "name": "stderr",
     "output_type": "stream",
     "text": [
      "100%|██████████| 2/2 [00:00<00:00,  3.98it/s]\n",
      "100%|██████████| 2/2 [00:00<00:00,  3.98it/s]\n",
      "100%|██████████| 2/2 [00:00<00:00,  3.98it/s]\n",
      "100%|██████████| 2/2 [00:00<00:00,  3.98it/s]\n",
      "  0%|          | 0/2 [00:00<?, ?it/s]"
     ]
    },
    {
     "name": "stdout",
     "output_type": "stream",
     "text": [
      "Epoch 30, Loss: 39438.29345703125\n",
      "Epoch 30, Loss: 46094.6220703125\n",
      "Epoch 30, Loss: 38571.9765625\n",
      "Epoch 30, Loss: 36134.7412109375\n"
     ]
    },
    {
     "name": "stderr",
     "output_type": "stream",
     "text": [
      "100%|██████████| 2/2 [00:00<00:00,  4.02it/s]\n",
      "100%|██████████| 2/2 [00:00<00:00,  4.02it/s]\n",
      "100%|██████████| 2/2 [00:00<00:00,  4.02it/s]\n",
      "100%|██████████| 2/2 [00:00<00:00,  4.01it/s]\n",
      "  0%|          | 0/2 [00:00<?, ?it/s]"
     ]
    },
    {
     "name": "stdout",
     "output_type": "stream",
     "text": [
      "Epoch 31, Loss: 27561.4052734375\n",
      "Epoch 31, Loss: 24696.58984375\n",
      "Epoch 31, Loss: 26834.0234375\n",
      "Epoch 31, Loss: 26716.0986328125\n"
     ]
    },
    {
     "name": "stderr",
     "output_type": "stream",
     "text": [
      "100%|██████████| 2/2 [00:00<00:00,  3.83it/s]\n",
      "100%|██████████| 2/2 [00:00<00:00,  3.83it/s]\n",
      "100%|██████████| 2/2 [00:00<00:00,  3.83it/s]\n",
      "100%|██████████| 2/2 [00:00<00:00,  3.83it/s]\n",
      "  0%|          | 0/2 [00:00<?, ?it/s]"
     ]
    },
    {
     "name": "stdout",
     "output_type": "stream",
     "text": [
      "Epoch 32, Loss: 27486.7568359375\n",
      "Epoch 32, Loss: 25577.38916015625\n",
      "Epoch 32, Loss: 19244.80126953125\n",
      "Epoch 32, Loss: 28194.05615234375\n"
     ]
    },
    {
     "name": "stderr",
     "output_type": "stream",
     "text": [
      "100%|██████████| 2/2 [00:00<00:00,  3.81it/s]\n",
      "100%|██████████| 2/2 [00:00<00:00,  3.81it/s]\n",
      "100%|██████████| 2/2 [00:00<00:00,  3.81it/s]\n",
      "100%|██████████| 2/2 [00:00<00:00,  3.80it/s]\n",
      "  0%|          | 0/2 [00:00<?, ?it/s]"
     ]
    },
    {
     "name": "stdout",
     "output_type": "stream",
     "text": [
      "Epoch 33, Loss: 9827.08984375\n",
      "Epoch 33, Loss: 15674.740234375\n",
      "Epoch 33, Loss: 18195.91064453125\n",
      "Epoch 33, Loss: 10224.5595703125\n"
     ]
    },
    {
     "name": "stderr",
     "output_type": "stream",
     "text": [
      "100%|██████████| 2/2 [00:00<00:00,  4.06it/s]\n",
      "\n",
      "100%|██████████| 2/2 [00:00<00:00,  4.06it/s]\n",
      "100%|██████████| 2/2 [00:00<00:00,  4.06it/s]\n",
      "  0%|          | 0/2 [00:00<?, ?it/s]"
     ]
    },
    {
     "name": "stdout",
     "output_type": "stream",
     "text": [
      "Epoch 34, Loss: 28869.4931640625\n",
      "Epoch 34, Loss: 13246.0849609375\n",
      "Epoch 34, Loss: 30187.0537109375\n",
      "Epoch 34, Loss: 14251.14892578125\n"
     ]
    },
    {
     "name": "stderr",
     "output_type": "stream",
     "text": [
      "100%|██████████| 2/2 [00:00<00:00,  4.07it/s]\n",
      "100%|██████████| 2/2 [00:00<00:00,  4.06it/s]\n",
      "100%|██████████| 2/2 [00:00<00:00,  4.06it/s]\n",
      "100%|██████████| 2/2 [00:00<00:00,  4.06it/s]\n",
      "  0%|          | 0/2 [00:00<?, ?it/s]"
     ]
    },
    {
     "name": "stdout",
     "output_type": "stream",
     "text": [
      "Epoch 35, Loss: 19142.2880859375\n",
      "Epoch 35, Loss: 23534.04345703125\n",
      "Epoch 35, Loss: 17259.0107421875\n",
      "Epoch 35, Loss: 26263.93408203125\n"
     ]
    },
    {
     "name": "stderr",
     "output_type": "stream",
     "text": [
      "100%|██████████| 2/2 [00:00<00:00,  4.10it/s]\n",
      "100%|██████████| 2/2 [00:00<00:00,  4.10it/s]\n",
      "100%|██████████| 2/2 [00:00<00:00,  4.11it/s]\n",
      "100%|██████████| 2/2 [00:00<00:00,  4.11it/s]\n",
      "  0%|          | 0/2 [00:00<?, ?it/s]"
     ]
    },
    {
     "name": "stdout",
     "output_type": "stream",
     "text": [
      "Epoch 36, Loss: 18770.4189453125\n",
      "Epoch 36, Loss: 11865.16748046875\n",
      "Epoch 36, Loss: 9776.167724609375\n",
      "Epoch 36, Loss: 16276.46142578125\n"
     ]
    },
    {
     "name": "stderr",
     "output_type": "stream",
     "text": [
      "100%|██████████| 2/2 [00:00<00:00,  4.01it/s]\n",
      "100%|██████████| 2/2 [00:00<00:00,  4.01it/s]\n",
      "100%|██████████| 2/2 [00:00<00:00,  4.00it/s]\n",
      "100%|██████████| 2/2 [00:00<00:00,  3.99it/s]\n",
      "  0%|          | 0/2 [00:00<?, ?it/s]"
     ]
    },
    {
     "name": "stdout",
     "output_type": "stream",
     "text": [
      "Epoch 37, Loss: 11681.29248046875\n",
      "Epoch 37, Loss: 10137.80419921875\n",
      "Epoch 37, Loss: 14884.85498046875\n",
      "Epoch 37, Loss: 14424.262939453125\n"
     ]
    },
    {
     "name": "stderr",
     "output_type": "stream",
     "text": [
      "100%|██████████| 2/2 [00:00<00:00,  4.02it/s]\n",
      "100%|██████████| 2/2 [00:00<00:00,  4.02it/s]\n",
      "100%|██████████| 2/2 [00:00<00:00,  4.04it/s]\n"
     ]
    },
    {
     "name": "stdout",
     "output_type": "stream",
     "text": [
      "Epoch 38, Loss: 6102.076416015625\n",
      "Epoch 38, Loss: 5573.9637451171875\n",
      "Epoch 38, Loss: 11411.52685546875\n",
      "Epoch 38, Loss: 11983.16552734375\n"
     ]
    },
    {
     "name": "stderr",
     "output_type": "stream",
     "text": [
      "100%|██████████| 2/2 [00:00<00:00,  4.02it/s]\n",
      "100%|██████████| 2/2 [00:00<00:00,  4.04it/s]\n",
      "100%|██████████| 2/2 [00:00<00:00,  4.04it/s]\n",
      "100%|██████████| 2/2 [00:00<00:00,  4.04it/s]\n",
      "100%|██████████| 2/2 [00:00<00:00,  4.04it/s]\n",
      "  0%|          | 0/2 [00:00<?, ?it/s]"
     ]
    },
    {
     "name": "stdout",
     "output_type": "stream",
     "text": [
      "Epoch 39, Loss: 7881.85205078125\n",
      "Epoch 39, Loss: 9499.4599609375\n",
      "Epoch 39, Loss: 5370.58544921875\n",
      "Epoch 39, Loss: 12376.80126953125\n"
     ]
    },
    {
     "name": "stderr",
     "output_type": "stream",
     "text": [
      "100%|██████████| 2/2 [00:00<00:00,  3.91it/s]\n",
      "100%|██████████| 2/2 [00:00<00:00,  3.90it/s]\n",
      "100%|██████████| 2/2 [00:00<00:00,  3.90it/s]\n",
      "100%|██████████| 2/2 [00:00<00:00,  3.90it/s]\n",
      "  0%|          | 0/2 [00:00<?, ?it/s]"
     ]
    },
    {
     "name": "stdout",
     "output_type": "stream",
     "text": [
      "Epoch 40, Loss: 11520.74755859375\n",
      "Epoch 40, Loss: 6915.20703125\n",
      "Epoch 40, Loss: 8663.90673828125\n",
      "Epoch 40, Loss: 11718.2529296875\n"
     ]
    },
    {
     "name": "stderr",
     "output_type": "stream",
     "text": [
      "100%|██████████| 2/2 [00:00<00:00,  4.23it/s]\n",
      "100%|██████████| 2/2 [00:00<00:00,  4.10it/s]\n",
      "100%|██████████| 2/2 [00:00<00:00,  4.09it/s]\n",
      "  0%|          | 0/2 [00:00<?, ?it/s]"
     ]
    },
    {
     "name": "stdout",
     "output_type": "stream",
     "text": [
      "Epoch 41, Loss: 8101.63427734375\n",
      "Epoch 41, Loss: 11736.728515625\n",
      "Epoch 41, Loss: 15546.40283203125\n",
      "Epoch 41, Loss: 5074.05712890625\n"
     ]
    },
    {
     "name": "stderr",
     "output_type": "stream",
     "text": [
      "100%|██████████| 2/2 [00:00<00:00,  4.09it/s]\n",
      "100%|██████████| 2/2 [00:00<00:00,  3.99it/s]\n",
      "100%|██████████| 2/2 [00:00<00:00,  3.99it/s]\n",
      "\n",
      "100%|██████████| 2/2 [00:00<00:00,  3.99it/s]\n",
      "  0%|          | 0/2 [00:00<?, ?it/s]"
     ]
    },
    {
     "name": "stdout",
     "output_type": "stream",
     "text": [
      "Epoch 42, Loss: 3660.6907958984375\n",
      "Epoch 42, Loss: 5530.8818359375\n",
      "Epoch 42, Loss: 9532.587890625\n",
      "Epoch 42, Loss: 17328.1806640625\n"
     ]
    },
    {
     "name": "stderr",
     "output_type": "stream",
     "text": [
      "100%|██████████| 2/2 [00:00<00:00,  4.10it/s]\n",
      "100%|██████████| 2/2 [00:00<00:00,  4.09it/s]\n",
      "100%|██████████| 2/2 [00:00<00:00,  4.09it/s]\n",
      "100%|██████████| 2/2 [00:00<00:00,  4.08it/s]\n",
      "  0%|          | 0/2 [00:00<?, ?it/s]"
     ]
    },
    {
     "name": "stdout",
     "output_type": "stream",
     "text": [
      "Epoch 43, Loss: 7087.198059082031\n",
      "Epoch 43, Loss: 4916.807861328125\n",
      "Epoch 43, Loss: 2742.16845703125\n",
      "Epoch 43, Loss: 5369.2113037109375\n"
     ]
    },
    {
     "name": "stderr",
     "output_type": "stream",
     "text": [
      "100%|██████████| 2/2 [00:00<00:00,  4.00it/s]\n",
      "100%|██████████| 2/2 [00:00<00:00,  4.00it/s]\n",
      "100%|██████████| 2/2 [00:00<00:00,  4.00it/s]\n",
      "100%|██████████| 2/2 [00:00<00:00,  4.00it/s]\n",
      "  0%|          | 0/2 [00:00<?, ?it/s]"
     ]
    },
    {
     "name": "stdout",
     "output_type": "stream",
     "text": [
      "Epoch 44, Loss: 3118.2418212890625\n",
      "Epoch 44, Loss: 12336.85205078125\n",
      "Epoch 44, Loss: 4493.769287109375\n",
      "Epoch 44, Loss: 5230.0863037109375\n"
     ]
    },
    {
     "name": "stderr",
     "output_type": "stream",
     "text": [
      "100%|██████████| 2/2 [00:00<00:00,  4.00it/s]\n",
      "\n",
      "100%|██████████| 2/2 [00:00<00:00,  4.00it/s]\n",
      "100%|██████████| 2/2 [00:00<00:00,  4.00it/s]\n",
      "  0%|          | 0/2 [00:00<?, ?it/s]"
     ]
    },
    {
     "name": "stdout",
     "output_type": "stream",
     "text": [
      "Epoch 45, Loss: 7452.255859375\n",
      "Epoch 45, Loss: 5078.36328125\n",
      "Epoch 45, Loss: 4062.5352783203125\n",
      "Epoch 45, Loss: 3315.251220703125\n"
     ]
    },
    {
     "name": "stderr",
     "output_type": "stream",
     "text": [
      "100%|██████████| 2/2 [00:00<00:00,  4.04it/s]\n",
      "\n",
      "\n",
      "100%|██████████| 2/2 [00:00<00:00,  4.04it/s]\n",
      "  0%|          | 0/2 [00:00<?, ?it/s]"
     ]
    },
    {
     "name": "stdout",
     "output_type": "stream",
     "text": [
      "Epoch 46, Loss: 4530.88818359375\n",
      "Epoch 46, Loss: 4532.0819091796875\n",
      "Epoch 46, Loss: 5988.111328125\n",
      "Epoch 46, Loss: 2861.90771484375\n"
     ]
    },
    {
     "name": "stderr",
     "output_type": "stream",
     "text": [
      "100%|██████████| 2/2 [00:00<00:00,  4.18it/s]\n",
      "100%|██████████| 2/2 [00:00<00:00,  4.18it/s]\n",
      "100%|██████████| 2/2 [00:00<00:00,  4.17it/s]\n",
      "100%|██████████| 2/2 [00:00<00:00,  4.18it/s]\n",
      "  0%|          | 0/2 [00:00<?, ?it/s]"
     ]
    },
    {
     "name": "stdout",
     "output_type": "stream",
     "text": [
      "Epoch 47, Loss: 3431.4744873046875\n",
      "Epoch 47, Loss: 9794.427001953125\n",
      "Epoch 47, Loss: 5811.5908203125\n",
      "Epoch 47, Loss: 2312.9202880859375\n"
     ]
    },
    {
     "name": "stderr",
     "output_type": "stream",
     "text": [
      "100%|██████████| 2/2 [00:00<00:00,  4.13it/s]\n",
      "100%|██████████| 2/2 [00:00<00:00,  4.12it/s]\n",
      "100%|██████████| 2/2 [00:00<00:00,  4.13it/s]\n",
      "100%|██████████| 2/2 [00:00<00:00,  4.12it/s]\n",
      "  0%|          | 0/2 [00:00<?, ?it/s]"
     ]
    },
    {
     "name": "stdout",
     "output_type": "stream",
     "text": [
      "Epoch 48, Loss: 6896.390380859375\n",
      "Epoch 48, Loss: 5095.1241455078125\n",
      "Epoch 48, Loss: 3966.9427490234375\n",
      "Epoch 48, Loss: 8679.6455078125\n"
     ]
    },
    {
     "name": "stderr",
     "output_type": "stream",
     "text": [
      "100%|██████████| 2/2 [00:00<00:00,  4.11it/s]\n",
      "100%|██████████| 2/2 [00:00<00:00,  4.10it/s]\n",
      "100%|██████████| 2/2 [00:00<00:00,  4.10it/s]\n",
      "100%|██████████| 2/2 [00:00<00:00,  4.10it/s]\n",
      "  0%|          | 0/2 [00:00<?, ?it/s]"
     ]
    },
    {
     "name": "stdout",
     "output_type": "stream",
     "text": [
      "Epoch 49, Loss: 7752.548583984375\n",
      "Epoch 49, Loss: 2553.0227661132812\n",
      "Epoch 49, Loss: 4000.984130859375\n",
      "Epoch 49, Loss: 4709.142578125\n"
     ]
    },
    {
     "name": "stderr",
     "output_type": "stream",
     "text": [
      "100%|██████████| 2/2 [00:00<00:00,  4.03it/s]\n",
      "100%|██████████| 2/2 [00:00<00:00,  4.03it/s]\n",
      "100%|██████████| 2/2 [00:00<00:00,  4.03it/s]\n",
      "100%|██████████| 2/2 [00:00<00:00,  4.03it/s]\n",
      "  0%|          | 0/2 [00:00<?, ?it/s]"
     ]
    },
    {
     "name": "stdout",
     "output_type": "stream",
     "text": [
      "Epoch 50, Loss: 9166.27099609375\n",
      "Epoch 50, Loss: 2169.9412231445312\n",
      "Epoch 50, Loss: 4719.8031005859375\n",
      "Epoch 50, Loss: 2629.8945922851562\n"
     ]
    },
    {
     "name": "stderr",
     "output_type": "stream",
     "text": [
      "100%|██████████| 2/2 [00:00<00:00,  4.15it/s]\n",
      "100%|██████████| 2/2 [00:00<00:00,  4.15it/s]\n",
      "100%|██████████| 2/2 [00:00<00:00,  4.15it/s]\n",
      "100%|██████████| 2/2 [00:00<00:00,  4.15it/s]\n",
      "  0%|          | 0/2 [00:00<?, ?it/s]"
     ]
    },
    {
     "name": "stdout",
     "output_type": "stream",
     "text": [
      "Epoch 51, Loss: 3055.932861328125\n",
      "Epoch 51, Loss: 4705.72216796875\n",
      "Epoch 51, Loss: 4454.3455810546875\n",
      "Epoch 51, Loss: 3182.3851318359375\n"
     ]
    },
    {
     "name": "stderr",
     "output_type": "stream",
     "text": [
      "100%|██████████| 2/2 [00:00<00:00,  4.04it/s]\n",
      "100%|██████████| 2/2 [00:00<00:00,  4.04it/s]\n",
      "100%|██████████| 2/2 [00:00<00:00,  4.03it/s]\n",
      "100%|██████████| 2/2 [00:00<00:00,  4.03it/s]\n",
      "  0%|          | 0/2 [00:00<?, ?it/s]"
     ]
    },
    {
     "name": "stdout",
     "output_type": "stream",
     "text": [
      "Epoch 52, Loss: 2263.4425659179688\n",
      "Epoch 52, Loss: 3786.443359375\n",
      "Epoch 52, Loss: 2004.0870971679688\n",
      "Epoch 52, Loss: 3835.0297241210938\n"
     ]
    },
    {
     "name": "stderr",
     "output_type": "stream",
     "text": [
      "100%|██████████| 2/2 [00:00<00:00,  4.12it/s]\n",
      "100%|██████████| 2/2 [00:00<00:00,  4.13it/s]\n",
      "100%|██████████| 2/2 [00:00<00:00,  4.12it/s]\n",
      "100%|██████████| 2/2 [00:00<00:00,  4.12it/s]\n",
      "  0%|          | 0/2 [00:00<?, ?it/s]"
     ]
    },
    {
     "name": "stdout",
     "output_type": "stream",
     "text": [
      "Epoch 53, Loss: 10264.51025390625\n",
      "Epoch 53, Loss: 4751.4056396484375\n",
      "Epoch 53, Loss: 5758.12060546875\n",
      "Epoch 53, Loss: 2190.6751708984375\n"
     ]
    },
    {
     "name": "stderr",
     "output_type": "stream",
     "text": [
      "100%|██████████| 2/2 [00:00<00:00,  4.10it/s]\n",
      "100%|██████████| 2/2 [00:00<00:00,  4.10it/s]\n",
      "100%|██████████| 2/2 [00:00<00:00,  4.11it/s]\n",
      "100%|██████████| 2/2 [00:00<00:00,  4.10it/s]\n",
      "  0%|          | 0/2 [00:00<?, ?it/s]"
     ]
    },
    {
     "name": "stdout",
     "output_type": "stream",
     "text": [
      "Epoch 54, Loss: 8070.91357421875\n",
      "Epoch 54, Loss: 13163.782470703125\n",
      "Epoch 54, Loss: 4833.86572265625\n",
      "Epoch 54, Loss: 10742.021484375\n"
     ]
    },
    {
     "name": "stderr",
     "output_type": "stream",
     "text": [
      "100%|██████████| 2/2 [00:00<00:00,  3.94it/s]\n",
      "100%|██████████| 2/2 [00:00<00:00,  3.93it/s]\n",
      "100%|██████████| 2/2 [00:00<00:00,  3.93it/s]\n",
      "100%|██████████| 2/2 [00:00<00:00,  3.93it/s]\n",
      "  0%|          | 0/2 [00:00<?, ?it/s]"
     ]
    },
    {
     "name": "stdout",
     "output_type": "stream",
     "text": [
      "Epoch 55, Loss: 6349.5457763671875\n",
      "Epoch 55, Loss: 3449.065673828125\n",
      "Epoch 55, Loss: 10296.67919921875\n",
      "Epoch 55, Loss: 9812.60888671875\n"
     ]
    },
    {
     "name": "stderr",
     "output_type": "stream",
     "text": [
      "100%|██████████| 2/2 [00:00<00:00,  3.86it/s]\n",
      "100%|██████████| 2/2 [00:00<00:00,  3.86it/s]\n",
      "100%|██████████| 2/2 [00:00<00:00,  3.86it/s]\n",
      "100%|██████████| 2/2 [00:00<00:00,  3.85it/s]\n",
      "  0%|          | 0/2 [00:00<?, ?it/s]"
     ]
    },
    {
     "name": "stdout",
     "output_type": "stream",
     "text": [
      "Epoch 56, Loss: 6748.75830078125\n",
      "Epoch 56, Loss: 3291.754150390625\n",
      "Epoch 56, Loss: 5535.3135986328125\n",
      "Epoch 56, Loss: 7743.269775390625\n"
     ]
    },
    {
     "name": "stderr",
     "output_type": "stream",
     "text": [
      "100%|██████████| 2/2 [00:00<00:00,  3.90it/s]\n",
      "100%|██████████| 2/2 [00:00<00:00,  3.91it/s]\n",
      "\n",
      "100%|██████████| 2/2 [00:00<00:00,  3.90it/s]\n",
      "  0%|          | 0/2 [00:00<?, ?it/s]"
     ]
    },
    {
     "name": "stdout",
     "output_type": "stream",
     "text": [
      "Epoch 57, Loss: 4216.7265625\n",
      "Epoch 57, Loss: 2182.0869140625\n",
      "Epoch 57, Loss: 8359.632080078125\n",
      "Epoch 57, Loss: 4671.5538330078125\n"
     ]
    },
    {
     "name": "stderr",
     "output_type": "stream",
     "text": [
      "100%|██████████| 2/2 [00:00<00:00,  4.13it/s]\n",
      "100%|██████████| 2/2 [00:00<00:00,  4.13it/s]\n",
      "100%|██████████| 2/2 [00:00<00:00,  4.13it/s]\n",
      "100%|██████████| 2/2 [00:00<00:00,  4.12it/s]\n",
      "  0%|          | 0/2 [00:00<?, ?it/s]"
     ]
    },
    {
     "name": "stdout",
     "output_type": "stream",
     "text": [
      "Epoch 58, Loss: 3256.8115844726562\n",
      "Epoch 58, Loss: 4644.4473876953125\n",
      "Epoch 58, Loss: 8518.71630859375\n",
      "Epoch 58, Loss: 5703.66943359375\n"
     ]
    },
    {
     "name": "stderr",
     "output_type": "stream",
     "text": [
      "100%|██████████| 2/2 [00:00<00:00,  4.06it/s]\n",
      "100%|██████████| 2/2 [00:00<00:00,  4.07it/s]\n",
      "100%|██████████| 2/2 [00:00<00:00,  4.06it/s]\n",
      "100%|██████████| 2/2 [00:00<00:00,  4.06it/s]\n",
      "  0%|          | 0/2 [00:00<?, ?it/s]"
     ]
    },
    {
     "name": "stdout",
     "output_type": "stream",
     "text": [
      "Epoch 59, Loss: 5222.650390625\n",
      "Epoch 59, Loss: 6259.64794921875\n",
      "Epoch 59, Loss: 4812.796142578125\n",
      "Epoch 59, Loss: 5552.9508056640625\n"
     ]
    },
    {
     "name": "stderr",
     "output_type": "stream",
     "text": [
      "100%|██████████| 2/2 [00:00<00:00,  4.04it/s]\n",
      "100%|██████████| 2/2 [00:00<00:00,  4.04it/s]\n",
      "100%|██████████| 2/2 [00:00<00:00,  4.04it/s]\n",
      "100%|██████████| 2/2 [00:00<00:00,  4.04it/s]\n",
      "  0%|          | 0/2 [00:00<?, ?it/s]"
     ]
    },
    {
     "name": "stdout",
     "output_type": "stream",
     "text": [
      "Epoch 60, Loss: 3075.805908203125\n",
      "Epoch 60, Loss: 6775.47216796875\n",
      "Epoch 60, Loss: 3322.619384765625\n",
      "Epoch 60, Loss: 4850.2188720703125\n"
     ]
    },
    {
     "name": "stderr",
     "output_type": "stream",
     "text": [
      "100%|██████████| 2/2 [00:00<00:00,  4.03it/s]\n",
      "100%|██████████| 2/2 [00:00<00:00,  4.02it/s]\n",
      "100%|██████████| 2/2 [00:00<00:00,  4.02it/s]\n",
      "100%|██████████| 2/2 [00:00<00:00,  4.02it/s]\n",
      "  0%|          | 0/2 [00:00<?, ?it/s]"
     ]
    },
    {
     "name": "stdout",
     "output_type": "stream",
     "text": [
      "Epoch 61, Loss: 4620.534912109375\n",
      "Epoch 61, Loss: 3692.91748046875\n",
      "Epoch 61, Loss: 4065.861328125\n",
      "Epoch 61, Loss: 3400.848388671875\n"
     ]
    },
    {
     "name": "stderr",
     "output_type": "stream",
     "text": [
      "100%|██████████| 2/2 [00:00<00:00,  4.04it/s]\n",
      "100%|██████████| 2/2 [00:00<00:00,  4.05it/s]\n",
      "100%|██████████| 2/2 [00:00<00:00,  4.04it/s]\n",
      "100%|██████████| 2/2 [00:00<00:00,  4.05it/s]\n",
      "  0%|          | 0/2 [00:00<?, ?it/s]"
     ]
    },
    {
     "name": "stdout",
     "output_type": "stream",
     "text": [
      "Epoch 62, Loss: 3396.821044921875\n",
      "Epoch 62, Loss: 3742.8701782226562\n",
      "Epoch 62, Loss: 2872.9134521484375\n",
      "Epoch 62, Loss: 4683.012451171875\n"
     ]
    },
    {
     "name": "stderr",
     "output_type": "stream",
     "text": [
      "100%|██████████| 2/2 [00:00<00:00,  4.09it/s]\n",
      "\n",
      "\n",
      "100%|██████████| 2/2 [00:00<00:00,  4.09it/s]\n",
      "  0%|          | 0/2 [00:00<?, ?it/s]"
     ]
    },
    {
     "name": "stdout",
     "output_type": "stream",
     "text": [
      "Epoch 63, Loss: 2481.8155517578125\n",
      "Epoch 63, Loss: 3267.3026123046875\n",
      "Epoch 63, Loss: 2192.7257690429688\n",
      "Epoch 63, Loss: 7467.464599609375\n"
     ]
    },
    {
     "name": "stderr",
     "output_type": "stream",
     "text": [
      "100%|██████████| 2/2 [00:00<00:00,  4.09it/s]\n",
      "100%|██████████| 2/2 [00:00<00:00,  4.08it/s]\n",
      "100%|██████████| 2/2 [00:00<00:00,  4.09it/s]\n",
      "100%|██████████| 2/2 [00:00<00:00,  4.08it/s]\n",
      "  0%|          | 0/2 [00:00<?, ?it/s]"
     ]
    },
    {
     "name": "stdout",
     "output_type": "stream",
     "text": [
      "Epoch 64, Loss: 2765.008544921875\n",
      "Epoch 64, Loss: 2110.5731811523438\n",
      "Epoch 64, Loss: 5391.159912109375\n",
      "Epoch 64, Loss: 4888.6351318359375\n"
     ]
    },
    {
     "name": "stderr",
     "output_type": "stream",
     "text": [
      "100%|██████████| 2/2 [00:00<00:00,  4.03it/s]\n",
      "100%|██████████| 2/2 [00:00<00:00,  4.03it/s]\n",
      "100%|██████████| 2/2 [00:00<00:00,  4.03it/s]\n",
      "100%|██████████| 2/2 [00:00<00:00,  4.03it/s]\n",
      "  0%|          | 0/2 [00:00<?, ?it/s]"
     ]
    },
    {
     "name": "stdout",
     "output_type": "stream",
     "text": [
      "Epoch 65, Loss: 2391.9364013671875\n",
      "Epoch 65, Loss: 2023.5198974609375\n",
      "Epoch 65, Loss: 3529.1510009765625\n",
      "Epoch 65, Loss: 3610.0887451171875\n"
     ]
    },
    {
     "name": "stderr",
     "output_type": "stream",
     "text": [
      "100%|██████████| 2/2 [00:00<00:00,  4.06it/s]\n",
      "100%|██████████| 2/2 [00:00<00:00,  4.06it/s]\n",
      "\n",
      "  0%|          | 0/2 [00:00<?, ?it/s].22it/s]"
     ]
    },
    {
     "name": "stdout",
     "output_type": "stream",
     "text": [
      "Epoch 66, Loss: 5377.551025390625\n",
      "Epoch 66, Loss: 2102.3088989257812\n",
      "Epoch 66, Loss: 3537.6884765625\n",
      "Epoch 66, Loss: 2048.474609375\n"
     ]
    },
    {
     "name": "stderr",
     "output_type": "stream",
     "text": [
      "100%|██████████| 2/2 [00:00<00:00,  4.06it/s]\n",
      "100%|██████████| 2/2 [00:00<00:00,  4.06it/s]\n",
      "100%|██████████| 2/2 [00:00<00:00,  4.07it/s]\n",
      "100%|██████████| 2/2 [00:00<00:00,  4.06it/s]\n",
      "100%|██████████| 2/2 [00:00<00:00,  4.06it/s]\n",
      "  0%|          | 0/2 [00:00<?, ?it/s]"
     ]
    },
    {
     "name": "stdout",
     "output_type": "stream",
     "text": [
      "Epoch 67, Loss: 3270.74853515625\n",
      "Epoch 67, Loss: 2332.2728271484375\n",
      "Epoch 67, Loss: 3320.322998046875\n",
      "Epoch 67, Loss: 2104.0144653320312\n"
     ]
    },
    {
     "name": "stderr",
     "output_type": "stream",
     "text": [
      "100%|██████████| 2/2 [00:00<00:00,  4.06it/s]\n",
      "100%|██████████| 2/2 [00:00<00:00,  4.06it/s]\n",
      "100%|██████████| 2/2 [00:00<00:00,  4.06it/s]\n",
      "100%|██████████| 2/2 [00:00<00:00,  4.06it/s]\n",
      "  0%|          | 0/2 [00:00<?, ?it/s]"
     ]
    },
    {
     "name": "stdout",
     "output_type": "stream",
     "text": [
      "Epoch 68, Loss: 3557.623779296875\n",
      "Epoch 68, Loss: 1586.5020751953125\n",
      "Epoch 68, Loss: 2388.3671875\n",
      "Epoch 68, Loss: 5074.5611572265625\n"
     ]
    },
    {
     "name": "stderr",
     "output_type": "stream",
     "text": [
      "100%|██████████| 2/2 [00:00<00:00,  3.92it/s]\n",
      "100%|██████████| 2/2 [00:00<00:00,  3.91it/s]\n",
      "\n",
      "100%|██████████| 2/2 [00:00<00:00,  3.91it/s]\n",
      "  0%|          | 0/2 [00:00<?, ?it/s]"
     ]
    },
    {
     "name": "stdout",
     "output_type": "stream",
     "text": [
      "Epoch 69, Loss: 2878.1687622070312\n",
      "Epoch 69, Loss: 2613.8736572265625\n",
      "Epoch 69, Loss: 7241.0777587890625\n",
      "Epoch 69, Loss: 2067.1154174804688\n"
     ]
    },
    {
     "name": "stderr",
     "output_type": "stream",
     "text": [
      "100%|██████████| 2/2 [00:00<00:00,  4.09it/s]\n",
      "100%|██████████| 2/2 [00:00<00:00,  4.09it/s]\n",
      "100%|██████████| 2/2 [00:00<00:00,  4.09it/s]\n",
      "100%|██████████| 2/2 [00:00<00:00,  4.08it/s]\n",
      "  0%|          | 0/2 [00:00<?, ?it/s]"
     ]
    },
    {
     "name": "stdout",
     "output_type": "stream",
     "text": [
      "Epoch 70, Loss: 3228.669677734375\n",
      "Epoch 70, Loss: 2419.6915283203125\n",
      "Epoch 70, Loss: 1910.9352416992188\n",
      "Epoch 70, Loss: 3382.160400390625\n"
     ]
    },
    {
     "name": "stderr",
     "output_type": "stream",
     "text": [
      "100%|██████████| 2/2 [00:00<00:00,  4.05it/s]\n",
      "100%|██████████| 2/2 [00:00<00:00,  4.05it/s]\n",
      "\n",
      "100%|██████████| 2/2 [00:00<00:00,  4.04it/s]\n",
      "  0%|          | 0/2 [00:00<?, ?it/s]"
     ]
    },
    {
     "name": "stdout",
     "output_type": "stream",
     "text": [
      "Epoch 71, Loss: 3438.139892578125\n",
      "Epoch 71, Loss: 2325.8530883789062\n",
      "Epoch 71, Loss: 4734.6087646484375\n",
      "Epoch 71, Loss: 2348.041015625\n"
     ]
    },
    {
     "name": "stderr",
     "output_type": "stream",
     "text": [
      "100%|██████████| 2/2 [00:00<00:00,  4.02it/s]\n",
      "100%|██████████| 2/2 [00:00<00:00,  4.02it/s]\n",
      "100%|██████████| 2/2 [00:00<00:00,  4.02it/s]\n",
      "100%|██████████| 2/2 [00:00<00:00,  4.02it/s]\n",
      "  0%|          | 0/2 [00:00<?, ?it/s]"
     ]
    },
    {
     "name": "stdout",
     "output_type": "stream",
     "text": [
      "Epoch 72, Loss: 1845.3544921875\n",
      "Epoch 72, Loss: 2992.8155517578125\n",
      "Epoch 72, Loss: 3567.982666015625\n",
      "Epoch 72, Loss: 1304.9883728027344\n"
     ]
    },
    {
     "name": "stderr",
     "output_type": "stream",
     "text": [
      "100%|██████████| 2/2 [00:00<00:00,  3.94it/s]\n",
      "100%|██████████| 2/2 [00:00<00:00,  3.94it/s]\n",
      "100%|██████████| 2/2 [00:00<00:00,  3.94it/s]\n",
      "100%|██████████| 2/2 [00:00<00:00,  3.94it/s]\n",
      "  0%|          | 0/2 [00:00<?, ?it/s]"
     ]
    },
    {
     "name": "stdout",
     "output_type": "stream",
     "text": [
      "Epoch 73, Loss: 4430.019775390625\n",
      "Epoch 73, Loss: 2855.095916748047\n",
      "Epoch 73, Loss: 2471.9449462890625\n",
      "Epoch 73, Loss: 1356.573486328125\n"
     ]
    },
    {
     "name": "stderr",
     "output_type": "stream",
     "text": [
      "100%|██████████| 2/2 [00:00<00:00,  4.01it/s]\n",
      "100%|██████████| 2/2 [00:00<00:00,  4.00it/s]\n",
      "100%|██████████| 2/2 [00:00<00:00,  4.00it/s]\n",
      "100%|██████████| 2/2 [00:00<00:00,  4.00it/s]\n",
      "  0%|          | 0/2 [00:00<?, ?it/s]"
     ]
    },
    {
     "name": "stdout",
     "output_type": "stream",
     "text": [
      "Epoch 74, Loss: 1206.7098388671875\n",
      "Epoch 74, Loss: 3423.2652587890625\n",
      "Epoch 74, Loss: 3282.9954223632812\n",
      "Epoch 74, Loss: 2012.1353149414062\n"
     ]
    },
    {
     "name": "stderr",
     "output_type": "stream",
     "text": [
      "100%|██████████| 2/2 [00:00<00:00,  4.07it/s]\n",
      "100%|██████████| 2/2 [00:00<00:00,  4.07it/s]\n",
      "100%|██████████| 2/2 [00:00<00:00,  4.07it/s]\n",
      "100%|██████████| 2/2 [00:00<00:00,  4.06it/s]\n",
      "  0%|          | 0/2 [00:00<?, ?it/s]"
     ]
    },
    {
     "name": "stdout",
     "output_type": "stream",
     "text": [
      "Epoch 75, Loss: 1943.7455444335938\n",
      "Epoch 75, Loss: 2979.7962646484375\n",
      "Epoch 75, Loss: 2539.1076049804688\n",
      "Epoch 75, Loss: 6020.9813232421875\n"
     ]
    },
    {
     "name": "stderr",
     "output_type": "stream",
     "text": [
      "100%|██████████| 2/2 [00:00<00:00,  4.12it/s]\n",
      "\n",
      "100%|██████████| 2/2 [00:00<00:00,  4.12it/s]\n",
      "100%|██████████| 2/2 [00:00<00:00,  4.12it/s]\n",
      "  0%|          | 0/2 [00:00<?, ?it/s]"
     ]
    },
    {
     "name": "stdout",
     "output_type": "stream",
     "text": [
      "Epoch 76, Loss: 2237.203857421875\n",
      "Epoch 76, Loss: 4362.949951171875\n",
      "Epoch 76, Loss: 1880.9826049804688\n",
      "Epoch 76, Loss: 3132.451171875\n"
     ]
    },
    {
     "name": "stderr",
     "output_type": "stream",
     "text": [
      "100%|██████████| 2/2 [00:00<00:00,  4.04it/s]\n",
      "100%|██████████| 2/2 [00:00<00:00,  4.04it/s]\n",
      "100%|██████████| 2/2 [00:00<00:00,  4.04it/s]\n",
      "100%|██████████| 2/2 [00:00<00:00,  4.03it/s]\n",
      "  0%|          | 0/2 [00:00<?, ?it/s]"
     ]
    },
    {
     "name": "stdout",
     "output_type": "stream",
     "text": [
      "Epoch 77, Loss: 2773.8890991210938\n",
      "Epoch 77, Loss: 1537.7681884765625\n",
      "Epoch 77, Loss: 3726.08740234375\n",
      "Epoch 77, Loss: 2487.19580078125\n"
     ]
    },
    {
     "name": "stderr",
     "output_type": "stream",
     "text": [
      "100%|██████████| 2/2 [00:00<00:00,  3.99it/s]\n",
      "100%|██████████| 2/2 [00:00<00:00,  3.99it/s]\n",
      "100%|██████████| 2/2 [00:00<00:00,  3.99it/s]\n",
      "100%|██████████| 2/2 [00:00<00:00,  3.99it/s]\n",
      "  0%|          | 0/2 [00:00<?, ?it/s]"
     ]
    },
    {
     "name": "stdout",
     "output_type": "stream",
     "text": [
      "Epoch 78, Loss: 2831.6514892578125\n",
      "Epoch 78, Loss: 1646.475341796875\n",
      "Epoch 78, Loss: 3991.795654296875\n",
      "Epoch 78, Loss: 4734.2000732421875\n"
     ]
    },
    {
     "name": "stderr",
     "output_type": "stream",
     "text": [
      "100%|██████████| 2/2 [00:00<00:00,  3.93it/s]\n",
      "100%|██████████| 2/2 [00:00<00:00,  3.93it/s]\n",
      "100%|██████████| 2/2 [00:00<00:00,  3.93it/s]\n",
      "100%|██████████| 2/2 [00:00<00:00,  3.92it/s]\n",
      "  0%|          | 0/2 [00:00<?, ?it/s]"
     ]
    },
    {
     "name": "stdout",
     "output_type": "stream",
     "text": [
      "Epoch 79, Loss: 1742.3302001953125\n",
      "Epoch 79, Loss: 3301.4367065429688\n",
      "Epoch 79, Loss: 3856.259521484375\n",
      "Epoch 79, Loss: 2735.1284790039062\n"
     ]
    },
    {
     "name": "stderr",
     "output_type": "stream",
     "text": [
      "100%|██████████| 2/2 [00:00<00:00,  3.78it/s]\n",
      "\n",
      "100%|██████████| 2/2 [00:00<00:00,  3.78it/s]\n",
      "100%|██████████| 2/2 [00:00<00:00,  3.78it/s]\n",
      "  0%|          | 0/2 [00:00<?, ?it/s]"
     ]
    },
    {
     "name": "stdout",
     "output_type": "stream",
     "text": [
      "Epoch 80, Loss: 3211.8634033203125\n",
      "Epoch 80, Loss: 1898.1107788085938\n",
      "Epoch 80, Loss: 3916.0870361328125\n",
      "Epoch 80, Loss: 1753.5140991210938\n"
     ]
    },
    {
     "name": "stderr",
     "output_type": "stream",
     "text": [
      "100%|██████████| 2/2 [00:00<00:00,  3.90it/s]\n",
      "100%|██████████| 2/2 [00:00<00:00,  3.90it/s]\n",
      "100%|██████████| 2/2 [00:00<00:00,  3.91it/s]\n",
      "100%|██████████| 2/2 [00:00<00:00,  3.89it/s]\n",
      "  0%|          | 0/2 [00:00<?, ?it/s]"
     ]
    },
    {
     "name": "stdout",
     "output_type": "stream",
     "text": [
      "Epoch 81, Loss: 3129.9678955078125\n",
      "Epoch 81, Loss: 3711.5498046875\n",
      "Epoch 81, Loss: 1560.6828002929688\n",
      "Epoch 81, Loss: 1860.3765869140625\n"
     ]
    },
    {
     "name": "stderr",
     "output_type": "stream",
     "text": [
      "100%|██████████| 2/2 [00:00<00:00,  4.00it/s]\n",
      "100%|██████████| 2/2 [00:00<00:00,  4.01it/s]\n",
      "100%|██████████| 2/2 [00:00<00:00,  4.00it/s]\n",
      "100%|██████████| 2/2 [00:00<00:00,  4.00it/s]\n",
      "  0%|          | 0/2 [00:00<?, ?it/s]"
     ]
    },
    {
     "name": "stdout",
     "output_type": "stream",
     "text": [
      "Epoch 82, Loss: 2595.8224487304688\n",
      "Epoch 82, Loss: 1640.65087890625\n",
      "Epoch 82, Loss: 1568.2391052246094\n",
      "Epoch 82, Loss: 6655.0428466796875\n"
     ]
    },
    {
     "name": "stderr",
     "output_type": "stream",
     "text": [
      "100%|██████████| 2/2 [00:00<00:00,  3.99it/s]\n",
      "100%|██████████| 2/2 [00:00<00:00,  3.99it/s]\n",
      "100%|██████████| 2/2 [00:00<00:00,  3.99it/s]\n",
      "100%|██████████| 2/2 [00:00<00:00,  3.99it/s]\n",
      "  0%|          | 0/2 [00:00<?, ?it/s]"
     ]
    },
    {
     "name": "stdout",
     "output_type": "stream",
     "text": [
      "Epoch 83, Loss: 1798.4764404296875\n",
      "Epoch 83, Loss: 2886.7236328125\n",
      "Epoch 83, Loss: 2411.8623046875\n",
      "Epoch 83, Loss: 3494.2655029296875\n"
     ]
    },
    {
     "name": "stderr",
     "output_type": "stream",
     "text": [
      "100%|██████████| 2/2 [00:00<00:00,  4.00it/s]\n",
      "100%|██████████| 2/2 [00:00<00:00,  4.00it/s]\n",
      "100%|██████████| 2/2 [00:00<00:00,  3.99it/s]\n",
      "100%|██████████| 2/2 [00:00<00:00,  3.99it/s]\n",
      "  0%|          | 0/2 [00:00<?, ?it/s]"
     ]
    },
    {
     "name": "stdout",
     "output_type": "stream",
     "text": [
      "Epoch 84, Loss: 2937.8878173828125\n",
      "Epoch 84, Loss: 2944.3577880859375\n",
      "Epoch 84, Loss: 1381.6771850585938\n",
      "Epoch 84, Loss: 1481.1944580078125\n"
     ]
    },
    {
     "name": "stderr",
     "output_type": "stream",
     "text": [
      "100%|██████████| 2/2 [00:00<00:00,  4.03it/s]\n",
      "100%|██████████| 2/2 [00:00<00:00,  4.04it/s]\n",
      "100%|██████████| 2/2 [00:00<00:00,  4.03it/s]\n",
      "100%|██████████| 2/2 [00:00<00:00,  4.03it/s]\n",
      "  0%|          | 0/2 [00:00<?, ?it/s]"
     ]
    },
    {
     "name": "stdout",
     "output_type": "stream",
     "text": [
      "Epoch 85, Loss: 2562.11572265625\n",
      "Epoch 85, Loss: 1578.1210327148438\n",
      "Epoch 85, Loss: 3451.27587890625\n",
      "Epoch 85, Loss: 2035.99072265625\n"
     ]
    },
    {
     "name": "stderr",
     "output_type": "stream",
     "text": [
      "100%|██████████| 2/2 [00:00<00:00,  4.10it/s]\n",
      "100%|██████████| 2/2 [00:00<00:00,  4.09it/s]\n",
      "100%|██████████| 2/2 [00:00<00:00,  4.09it/s]\n",
      "100%|██████████| 2/2 [00:00<00:00,  4.09it/s]\n",
      "  0%|          | 0/2 [00:00<?, ?it/s]"
     ]
    },
    {
     "name": "stdout",
     "output_type": "stream",
     "text": [
      "Epoch 86, Loss: 3339.2197265625\n",
      "Epoch 86, Loss: 5526.241943359375\n",
      "Epoch 86, Loss: 4678.029296875\n",
      "Epoch 86, Loss: 4106.913635253906\n"
     ]
    },
    {
     "name": "stderr",
     "output_type": "stream",
     "text": [
      "100%|██████████| 2/2 [00:00<00:00,  4.13it/s]\n",
      "100%|██████████| 2/2 [00:00<00:00,  4.13it/s]\n",
      "100%|██████████| 2/2 [00:00<00:00,  4.12it/s]\n",
      "100%|██████████| 2/2 [00:00<00:00,  4.12it/s]\n",
      "  0%|          | 0/2 [00:00<?, ?it/s]"
     ]
    },
    {
     "name": "stdout",
     "output_type": "stream",
     "text": [
      "Epoch 87, Loss: 7620.051513671875\n",
      "Epoch 87, Loss: 6517.810302734375\n",
      "Epoch 87, Loss: 8220.5263671875\n",
      "Epoch 87, Loss: 2635.54248046875\n"
     ]
    },
    {
     "name": "stderr",
     "output_type": "stream",
     "text": [
      "100%|██████████| 2/2 [00:00<00:00,  4.02it/s]\n",
      "100%|██████████| 2/2 [00:00<00:00,  4.02it/s]\n",
      "100%|██████████| 2/2 [00:00<00:00,  4.02it/s]\n",
      "100%|██████████| 2/2 [00:00<00:00,  4.03it/s]\n",
      "  0%|          | 0/2 [00:00<?, ?it/s]"
     ]
    },
    {
     "name": "stdout",
     "output_type": "stream",
     "text": [
      "Epoch 88, Loss: 20329.016845703125\n",
      "Epoch 88, Loss: 29044.83203125\n",
      "Epoch 88, Loss: 32554.9375\n",
      "Epoch 88, Loss: 3433.51904296875\n"
     ]
    },
    {
     "name": "stderr",
     "output_type": "stream",
     "text": [
      "100%|██████████| 2/2 [00:00<00:00,  3.98it/s]\n",
      "100%|██████████| 2/2 [00:00<00:00,  3.98it/s]\n",
      "100%|██████████| 2/2 [00:00<00:00,  3.97it/s]\n",
      "100%|██████████| 2/2 [00:00<00:00,  3.97it/s]\n",
      "  0%|          | 0/2 [00:00<?, ?it/s]"
     ]
    },
    {
     "name": "stdout",
     "output_type": "stream",
     "text": [
      "Epoch 89, Loss: 8782.61083984375\n",
      "Epoch 89, Loss: 13957.20849609375\n",
      "Epoch 89, Loss: 24500.2919921875\n",
      "Epoch 89, Loss: 21091.275390625\n"
     ]
    },
    {
     "name": "stderr",
     "output_type": "stream",
     "text": [
      "100%|██████████| 2/2 [00:00<00:00,  3.97it/s]\n",
      "\n",
      "100%|██████████| 2/2 [00:00<00:00,  3.97it/s]\n",
      "100%|██████████| 2/2 [00:00<00:00,  3.97it/s]\n",
      "  0%|          | 0/2 [00:00<?, ?it/s]"
     ]
    },
    {
     "name": "stdout",
     "output_type": "stream",
     "text": [
      "Epoch 90, Loss: 8615.1328125\n",
      "Epoch 90, Loss: 5658.7698974609375\n",
      "Epoch 90, Loss: 9060.27880859375\n",
      "Epoch 90, Loss: 9845.721435546875\n"
     ]
    },
    {
     "name": "stderr",
     "output_type": "stream",
     "text": [
      "100%|██████████| 2/2 [00:00<00:00,  4.11it/s]\n",
      "\n",
      "100%|██████████| 2/2 [00:00<00:00,  4.11it/s]\n",
      "100%|██████████| 2/2 [00:00<00:00,  4.11it/s]\n",
      "  0%|          | 0/2 [00:00<?, ?it/s]"
     ]
    },
    {
     "name": "stdout",
     "output_type": "stream",
     "text": [
      "Epoch 91, Loss: 8230.775146484375\n",
      "Epoch 91, Loss: 5956.49462890625\n",
      "Epoch 91, Loss: 14794.8154296875\n",
      "Epoch 91, Loss: 8695.007080078125\n"
     ]
    },
    {
     "name": "stderr",
     "output_type": "stream",
     "text": [
      "100%|██████████| 2/2 [00:00<00:00,  4.06it/s]\n",
      "100%|██████████| 2/2 [00:00<00:00,  4.05it/s]\n",
      "100%|██████████| 2/2 [00:00<00:00,  4.05it/s]\n",
      "100%|██████████| 2/2 [00:00<00:00,  4.05it/s]\n",
      "  0%|          | 0/2 [00:00<?, ?it/s]"
     ]
    },
    {
     "name": "stdout",
     "output_type": "stream",
     "text": [
      "Epoch 92, Loss: 12815.902587890625\n",
      "Epoch 92, Loss: 2681.6852416992188\n",
      "Epoch 92, Loss: 12537.60693359375\n",
      "Epoch 92, Loss: 7791.85595703125\n"
     ]
    },
    {
     "name": "stderr",
     "output_type": "stream",
     "text": [
      "100%|██████████| 2/2 [00:00<00:00,  4.03it/s]\n",
      "100%|██████████| 2/2 [00:00<00:00,  4.03it/s]\n",
      "100%|██████████| 2/2 [00:00<00:00,  4.03it/s]\n",
      "100%|██████████| 2/2 [00:00<00:00,  4.02it/s]\n",
      "  0%|          | 0/2 [00:00<?, ?it/s]"
     ]
    },
    {
     "name": "stdout",
     "output_type": "stream",
     "text": [
      "Epoch 93, Loss: 5049.223876953125\n",
      "Epoch 93, Loss: 8427.410400390625\n",
      "Epoch 93, Loss: 11967.486328125\n",
      "Epoch 93, Loss: 3577.100830078125\n"
     ]
    },
    {
     "name": "stderr",
     "output_type": "stream",
     "text": [
      "100%|██████████| 2/2 [00:00<00:00,  3.98it/s]\n",
      "100%|██████████| 2/2 [00:00<00:00,  3.98it/s]\n",
      "\n",
      "100%|██████████| 2/2 [00:00<00:00,  3.98it/s]\n",
      "  0%|          | 0/2 [00:00<?, ?it/s]"
     ]
    },
    {
     "name": "stdout",
     "output_type": "stream",
     "text": [
      "Epoch 94, Loss: 4913.46435546875\n",
      "Epoch 94, Loss: 4492.6695556640625\n",
      "Epoch 94, Loss: 10900.0546875\n",
      "Epoch 94, Loss: 7541.684814453125\n"
     ]
    },
    {
     "name": "stderr",
     "output_type": "stream",
     "text": [
      "100%|██████████| 2/2 [00:00<00:00,  4.00it/s]\n",
      "100%|██████████| 2/2 [00:00<00:00,  4.01it/s]\n",
      "100%|██████████| 2/2 [00:00<00:00,  4.00it/s]\n",
      "100%|██████████| 2/2 [00:00<00:00,  4.00it/s]\n",
      "  0%|          | 0/2 [00:00<?, ?it/s]"
     ]
    },
    {
     "name": "stdout",
     "output_type": "stream",
     "text": [
      "Epoch 95, Loss: 2777.3050537109375\n",
      "Epoch 95, Loss: 3412.6890869140625\n",
      "Epoch 95, Loss: 5993.1478271484375\n",
      "Epoch 95, Loss: 23215.69482421875\n"
     ]
    },
    {
     "name": "stderr",
     "output_type": "stream",
     "text": [
      "100%|██████████| 2/2 [00:00<00:00,  4.06it/s]\n",
      "100%|██████████| 2/2 [00:00<00:00,  4.06it/s]\n",
      "100%|██████████| 2/2 [00:00<00:00,  4.06it/s]\n",
      "100%|██████████| 2/2 [00:00<00:00,  4.05it/s]\n",
      "  0%|          | 0/2 [00:00<?, ?it/s]"
     ]
    },
    {
     "name": "stdout",
     "output_type": "stream",
     "text": [
      "Epoch 96, Loss: 30382.533203125\n",
      "Epoch 96, Loss: 5662.28125\n",
      "Epoch 96, Loss: 3912.7618408203125\n",
      "Epoch 96, Loss: 5376.93310546875\n"
     ]
    },
    {
     "name": "stderr",
     "output_type": "stream",
     "text": [
      "100%|██████████| 2/2 [00:00<00:00,  4.05it/s]\n",
      "100%|██████████| 2/2 [00:00<00:00,  4.06it/s]\n",
      "100%|██████████| 2/2 [00:00<00:00,  4.05it/s]\n",
      "100%|██████████| 2/2 [00:00<00:00,  4.04it/s]\n",
      "  0%|          | 0/2 [00:00<?, ?it/s]"
     ]
    },
    {
     "name": "stdout",
     "output_type": "stream",
     "text": [
      "Epoch 97, Loss: 6914.6639404296875\n",
      "Epoch 97, Loss: 22369.1728515625\n",
      "Epoch 97, Loss: 6278.2900390625\n",
      "Epoch 97, Loss: 3521.44873046875\n"
     ]
    },
    {
     "name": "stderr",
     "output_type": "stream",
     "text": [
      "100%|██████████| 2/2 [00:00<00:00,  3.99it/s]\n",
      "100%|██████████| 2/2 [00:00<00:00,  4.00it/s]\n",
      "  0%|          | 0/2 [00:00<?, ?it/s].99it/s]\n",
      "100%|██████████| 2/2 [00:00<00:00,  3.99it/s]\n",
      "  0%|          | 0/2 [00:00<?, ?it/s]"
     ]
    },
    {
     "name": "stdout",
     "output_type": "stream",
     "text": [
      "Epoch 98, Loss: 10588.8291015625\n",
      "Epoch 98, Loss: 6101.59130859375\n",
      "Epoch 98, Loss: 9950.460693359375\n",
      "Epoch 98, Loss: 14080.32275390625\n"
     ]
    },
    {
     "name": "stderr",
     "output_type": "stream",
     "text": [
      "100%|██████████| 2/2 [00:00<00:00,  4.03it/s]\n",
      "100%|██████████| 2/2 [00:00<00:00,  4.03it/s]\n",
      "100%|██████████| 2/2 [00:00<00:00,  4.03it/s]\n",
      "100%|██████████| 2/2 [00:00<00:00,  4.02it/s]\n",
      "  0%|          | 0/2 [00:00<?, ?it/s]"
     ]
    },
    {
     "name": "stdout",
     "output_type": "stream",
     "text": [
      "Epoch 99, Loss: 5939.860107421875\n",
      "Epoch 99, Loss: 9064.3564453125\n",
      "Epoch 99, Loss: 8112.438720703125\n",
      "Epoch 99, Loss: 4554.4393310546875\n"
     ]
    },
    {
     "name": "stderr",
     "output_type": "stream",
     "text": [
      "100%|██████████| 2/2 [00:00<00:00,  3.98it/s]\n",
      "100%|██████████| 2/2 [00:00<00:00,  3.98it/s]\n",
      "100%|██████████| 2/2 [00:00<00:00,  3.98it/s]\n",
      "100%|██████████| 2/2 [00:00<00:00,  3.98it/s]\n"
     ]
    },
    {
     "name": "stdout",
     "output_type": "stream",
     "text": [
      "Epoch 100, Loss: 5523.372802734375\n",
      "Training time: 50.625447034835815 seconds\n",
      "Epoch 100, Loss: 9176.868408203125\n",
      "Training time: 50.62601661682129 seconds\n",
      "Epoch 100, Loss: 18206.7333984375\n",
      "Training time: 50.62564182281494 seconds\n",
      "Epoch 100, Loss: 5407.921142578125\n",
      "Training time: 50.62549161911011 seconds\n",
      "Training time: 58.60069394111633 seconds\n"
     ]
    }
   ],
   "source": [
    "import time\n",
    "from st_DynGNN_stock import run\n",
    "import torch.multiprocessing as mp\n",
    "\n",
    "start_time = time.time()\n",
    "if __name__ == '__main__':\n",
    "    num_gpus = 4\n",
    "    import torch.multiprocessing as mp\n",
    "    mp.spawn(run, args=(list(range(num_gpus)),dgl_graph), nprocs=num_gpus)\n",
    "\n",
    "end_time = time.time()\n",
    "elapsed_time = end_time - start_time\n",
    "\n",
    "print(f\"Training time: {elapsed_time} seconds\")"
   ]
  },
  {
   "cell_type": "markdown",
   "metadata": {},
   "source": [
    "## Stock"
   ]
  },
  {
   "cell_type": "code",
   "execution_count": 33,
   "metadata": {},
   "outputs": [
    {
     "name": "stderr",
     "output_type": "stream",
     "text": [
      "/home/rxf131/ondemand/ubuntu2204/python310/torch_geometric/typing.py:47: UserWarning: An issue occurred while importing 'pyg-lib'. Disabling its usage. Stacktrace: libcudart.so.12: cannot open shared object file: No such file or directory\n",
      "  warnings.warn(f\"An issue occurred while importing 'pyg-lib'. \"\n",
      "/home/rxf131/ondemand/ubuntu2204/python310/torch_geometric/typing.py:47: UserWarning: An issue occurred while importing 'pyg-lib'. Disabling its usage. Stacktrace: libcudart.so.12: cannot open shared object file: No such file or directory\n",
      "  warnings.warn(f\"An issue occurred while importing 'pyg-lib'. \"\n",
      "/home/rxf131/ondemand/ubuntu2204/python310/torch_geometric/typing.py:47: UserWarning: An issue occurred while importing 'pyg-lib'. Disabling its usage. Stacktrace: libcudart.so.12: cannot open shared object file: No such file or directory\n",
      "  warnings.warn(f\"An issue occurred while importing 'pyg-lib'. \"\n",
      "/home/rxf131/ondemand/ubuntu2204/python310/torch_geometric/typing.py:47: UserWarning: An issue occurred while importing 'pyg-lib'. Disabling its usage. Stacktrace: libcudart.so.12: cannot open shared object file: No such file or directory\n",
      "  warnings.warn(f\"An issue occurred while importing 'pyg-lib'. \"\n",
      "/home/rxf131/ondemand/ubuntu2204/python310/torch_geometric/typing.py:101: UserWarning: An issue occurred while importing 'torch-sparse'. Disabling its usage. Stacktrace: libcudart.so.12: cannot open shared object file: No such file or directory\n",
      "  warnings.warn(f\"An issue occurred while importing 'torch-sparse'. \"\n",
      "/home/rxf131/ondemand/ubuntu2204/python310/torch_geometric/typing.py:101: UserWarning: An issue occurred while importing 'torch-sparse'. Disabling its usage. Stacktrace: libcudart.so.12: cannot open shared object file: No such file or directory\n",
      "  warnings.warn(f\"An issue occurred while importing 'torch-sparse'. \"\n",
      "/home/rxf131/ondemand/ubuntu2204/python310/torch_geometric/typing.py:101: UserWarning: An issue occurred while importing 'torch-sparse'. Disabling its usage. Stacktrace: libcudart.so.12: cannot open shared object file: No such file or directory\n",
      "  warnings.warn(f\"An issue occurred while importing 'torch-sparse'. \"\n",
      "/home/rxf131/ondemand/ubuntu2204/python310/torch_geometric/typing.py:101: UserWarning: An issue occurred while importing 'torch-sparse'. Disabling its usage. Stacktrace: libcudart.so.12: cannot open shared object file: No such file or directory\n",
      "  warnings.warn(f\"An issue occurred while importing 'torch-sparse'. \"\n",
      "100%|██████████| 10/10 [00:02<00:00,  3.53it/s]\n",
      "100%|██████████| 10/10 [00:02<00:00,  3.53it/s]\n",
      "100%|██████████| 10/10 [00:02<00:00,  3.53it/s]\n",
      "100%|██████████| 10/10 [00:02<00:00,  3.53it/s]\n",
      "  0%|          | 0/10 [00:00<?, ?it/s]"
     ]
    },
    {
     "name": "stdout",
     "output_type": "stream",
     "text": [
      "Epoch 1, Loss: 21833977.5\n",
      "Epoch 1, Loss: 22276373.7\n",
      "Epoch 1, Loss: 21691126.0\n",
      "Epoch 1, Loss: 22248165.1\n"
     ]
    },
    {
     "name": "stderr",
     "output_type": "stream",
     "text": [
      "100%|██████████| 10/10 [00:00<00:00, 16.60it/s]\n",
      "100%|██████████| 10/10 [00:00<00:00, 16.59it/s]\n",
      "100%|██████████| 10/10 [00:00<00:00, 16.57it/s]\n",
      "100%|██████████| 10/10 [00:00<00:00, 16.57it/s]\n",
      "  0%|          | 0/10 [00:00<?, ?it/s]"
     ]
    },
    {
     "name": "stdout",
     "output_type": "stream",
     "text": [
      "Epoch 2, Loss: 2877771.528125\n",
      "Epoch 2, Loss: 2826305.146875\n",
      "Epoch 2, Loss: 2852204.4125\n",
      "Epoch 2, Loss: 2820159.940625\n"
     ]
    },
    {
     "name": "stderr",
     "output_type": "stream",
     "text": [
      "100%|██████████| 10/10 [00:00<00:00, 18.79it/s]\n",
      "100%|██████████| 10/10 [00:00<00:00, 18.79it/s]\n",
      "\n",
      "100%|██████████| 10/10 [00:00<00:00, 18.80it/s]\n",
      "  0%|          | 0/10 [00:00<?, ?it/s]"
     ]
    },
    {
     "name": "stdout",
     "output_type": "stream",
     "text": [
      "Epoch 3, Loss: 1241793.390625\n",
      "Epoch 3, Loss: 1250233.2125\n",
      "Epoch 3, Loss: 1223850.4875\n",
      "Epoch 3, Loss: 1200230.4875\n"
     ]
    },
    {
     "name": "stderr",
     "output_type": "stream",
     "text": [
      "100%|██████████| 10/10 [00:00<00:00, 15.47it/s]\n",
      "100%|██████████| 10/10 [00:00<00:00, 15.47it/s]\n",
      "100%|██████████| 10/10 [00:00<00:00, 15.47it/s]\n",
      "100%|██████████| 10/10 [00:00<00:00, 15.48it/s]\n",
      " 20%|██        | 2/10 [00:00<00:00, 14.90it/s]"
     ]
    },
    {
     "name": "stdout",
     "output_type": "stream",
     "text": [
      "Epoch 4, Loss: 333264.3015625\n",
      "Epoch 4, Loss: 334647.50703125\n",
      "Epoch 4, Loss: 326769.7015625\n",
      "Epoch 4, Loss: 329543.390625\n"
     ]
    },
    {
     "name": "stderr",
     "output_type": "stream",
     "text": [
      "100%|██████████| 10/10 [00:00<00:00, 19.75it/s]\n",
      "100%|██████████| 10/10 [00:00<00:00, 19.74it/s]\n",
      "100%|██████████| 10/10 [00:00<00:00, 19.73it/s]\n",
      "100%|██████████| 10/10 [00:00<00:00, 19.71it/s]\n",
      " 20%|██        | 2/10 [00:00<00:00, 16.34it/s]"
     ]
    },
    {
     "name": "stdout",
     "output_type": "stream",
     "text": [
      "Epoch 5, Loss: 126258.717578125\n",
      "Epoch 5, Loss: 128667.076171875\n",
      "Epoch 5, Loss: 133139.15859375\n",
      "Epoch 5, Loss: 135770.01484375\n"
     ]
    },
    {
     "name": "stderr",
     "output_type": "stream",
     "text": [
      "100%|██████████| 10/10 [00:00<00:00, 19.38it/s]\n",
      "100%|██████████| 10/10 [00:00<00:00, 19.38it/s]\n",
      "100%|██████████| 10/10 [00:00<00:00, 19.38it/s]\n",
      "100%|██████████| 10/10 [00:00<00:00, 19.37it/s]\n",
      " 20%|██        | 2/10 [00:00<00:00, 14.48it/s]"
     ]
    },
    {
     "name": "stdout",
     "output_type": "stream",
     "text": [
      "Epoch 6, Loss: 57190.8533203125\n",
      "Epoch 6, Loss: 57887.907421875\n",
      "Epoch 6, Loss: 57287.513671875\n",
      "Epoch 6, Loss: 56987.3306640625\n"
     ]
    },
    {
     "name": "stderr",
     "output_type": "stream",
     "text": [
      "100%|██████████| 10/10 [00:00<00:00, 17.73it/s]\n",
      "\n",
      "100%|██████████| 10/10 [00:00<00:00, 17.71it/s]\n",
      "100%|██████████| 10/10 [00:00<00:00, 17.68it/s]\n",
      "  0%|          | 0/10 [00:00<?, ?it/s]"
     ]
    },
    {
     "name": "stdout",
     "output_type": "stream",
     "text": [
      "Epoch 7, Loss: 28112.133203125\n",
      "Epoch 7, Loss: 28056.0625\n",
      "Epoch 7, Loss: 26619.536328125\n",
      "Epoch 7, Loss: 26611.5490234375\n"
     ]
    },
    {
     "name": "stderr",
     "output_type": "stream",
     "text": [
      "100%|██████████| 10/10 [00:00<00:00, 19.58it/s]\n",
      "100%|██████████| 10/10 [00:00<00:00, 19.62it/s]\n",
      "100%|██████████| 10/10 [00:00<00:00, 19.58it/s]\n",
      "100%|██████████| 10/10 [00:00<00:00, 19.54it/s]\n",
      "  0%|          | 0/10 [00:00<?, ?it/s]"
     ]
    },
    {
     "name": "stdout",
     "output_type": "stream",
     "text": [
      "Epoch 8, Loss: 15853.1203125\n",
      "Epoch 8, Loss: 15904.94189453125\n",
      "Epoch 8, Loss: 15106.51181640625\n",
      "Epoch 8, Loss: 16098.18984375\n"
     ]
    },
    {
     "name": "stderr",
     "output_type": "stream",
     "text": [
      "100%|██████████| 10/10 [00:00<00:00, 15.97it/s]\n",
      "100%|██████████| 10/10 [00:00<00:00, 15.97it/s]\n",
      "100%|██████████| 10/10 [00:00<00:00, 15.96it/s]\n",
      "100%|██████████| 10/10 [00:00<00:00, 15.97it/s]\n",
      " 20%|██        | 2/10 [00:00<00:00, 15.35it/s]"
     ]
    },
    {
     "name": "stdout",
     "output_type": "stream",
     "text": [
      "Epoch 9, Loss: 10484.81826171875\n",
      "Epoch 9, Loss: 11355.65244140625\n",
      "Epoch 9, Loss: 10427.257275390624\n",
      "Epoch 9, Loss: 11500.897265625\n"
     ]
    },
    {
     "name": "stderr",
     "output_type": "stream",
     "text": [
      "100%|██████████| 10/10 [00:00<00:00, 19.27it/s]\n",
      "100%|██████████| 10/10 [00:00<00:00, 19.27it/s]\n",
      "100%|██████████| 10/10 [00:00<00:00, 19.24it/s]\n",
      "100%|██████████| 10/10 [00:00<00:00, 19.23it/s]\n",
      " 20%|██        | 2/10 [00:00<00:00, 12.78it/s]"
     ]
    },
    {
     "name": "stdout",
     "output_type": "stream",
     "text": [
      "Epoch 10, Loss: 8796.061572265626\n",
      "Epoch 10, Loss: 8516.71328125\n",
      "Epoch 10, Loss: 8811.3283203125\n",
      "Epoch 10, Loss: 8799.2251953125\n"
     ]
    },
    {
     "name": "stderr",
     "output_type": "stream",
     "text": [
      "100%|██████████| 10/10 [00:00<00:00, 17.48it/s]\n",
      "100%|██████████| 10/10 [00:00<00:00, 17.48it/s]\n",
      "100%|██████████| 10/10 [00:00<00:00, 17.47it/s]\n",
      "100%|██████████| 10/10 [00:00<00:00, 17.44it/s]\n",
      " 20%|██        | 2/10 [00:00<00:00, 16.30it/s]"
     ]
    },
    {
     "name": "stdout",
     "output_type": "stream",
     "text": [
      "Epoch 11, Loss: 7092.1779296875\n",
      "Epoch 11, Loss: 6719.273388671875\n",
      "Epoch 11, Loss: 6830.893994140625\n",
      "Epoch 11, Loss: 7295.9330078125\n"
     ]
    },
    {
     "name": "stderr",
     "output_type": "stream",
     "text": [
      "100%|██████████| 10/10 [00:00<00:00, 20.85it/s]\n",
      "\n",
      "100%|██████████| 10/10 [00:00<00:00, 20.89it/s]\n",
      "100%|██████████| 10/10 [00:00<00:00, 20.83it/s]\n",
      " 20%|██        | 2/10 [00:00<00:00, 14.57it/s]"
     ]
    },
    {
     "name": "stdout",
     "output_type": "stream",
     "text": [
      "Epoch 12, Loss: 5580.8888671875\n",
      "Epoch 12, Loss: 5865.151708984375\n",
      "Epoch 12, Loss: 5792.416064453125\n",
      "Epoch 12, Loss: 5514.465405273438\n"
     ]
    },
    {
     "name": "stderr",
     "output_type": "stream",
     "text": [
      "100%|██████████| 10/10 [00:00<00:00, 20.15it/s]\n",
      "100%|██████████| 10/10 [00:00<00:00, 20.13it/s]\n",
      "100%|██████████| 10/10 [00:00<00:00, 20.11it/s]\n",
      "100%|██████████| 10/10 [00:00<00:00, 20.10it/s]\n",
      " 20%|██        | 2/10 [00:00<00:00, 15.63it/s]"
     ]
    },
    {
     "name": "stdout",
     "output_type": "stream",
     "text": [
      "Epoch 13, Loss: 4497.45380859375\n",
      "Epoch 13, Loss: 4433.554638671875\n",
      "Epoch 13, Loss: 4832.3758544921875\n",
      "Epoch 13, Loss: 4848.16162109375\n"
     ]
    },
    {
     "name": "stderr",
     "output_type": "stream",
     "text": [
      "100%|██████████| 10/10 [00:00<00:00, 17.90it/s]\n",
      "\n",
      "100%|██████████| 10/10 [00:00<00:00, 17.92it/s]\n",
      "100%|██████████| 10/10 [00:00<00:00, 17.88it/s]\n",
      "  0%|          | 0/10 [00:00<?, ?it/s]"
     ]
    },
    {
     "name": "stdout",
     "output_type": "stream",
     "text": [
      "Epoch 14, Loss: 3986.1003173828126\n",
      "Epoch 14, Loss: 3819.050439453125\n",
      "Epoch 14, Loss: 3936.0989501953127\n",
      "Epoch 14, Loss: 3748.8160888671873\n"
     ]
    },
    {
     "name": "stderr",
     "output_type": "stream",
     "text": [
      "100%|██████████| 10/10 [00:00<00:00, 18.36it/s]\n",
      "\n",
      "100%|██████████| 10/10 [00:00<00:00, 18.37it/s]\n",
      "100%|██████████| 10/10 [00:00<00:00, 18.35it/s]\n",
      "  0%|          | 0/10 [00:00<?, ?it/s]"
     ]
    },
    {
     "name": "stdout",
     "output_type": "stream",
     "text": [
      "Epoch 15, Loss: 3214.5900024414063\n",
      "Epoch 15, Loss: 3463.76650390625\n",
      "Epoch 15, Loss: 3197.929638671875\n",
      "Epoch 15, Loss: 3429.100634765625\n"
     ]
    },
    {
     "name": "stderr",
     "output_type": "stream",
     "text": [
      "100%|██████████| 10/10 [00:00<00:00, 13.21it/s]\n",
      "100%|██████████| 10/10 [00:00<00:00, 13.20it/s]\n",
      "100%|██████████| 10/10 [00:00<00:00, 13.19it/s]\n",
      "100%|██████████| 10/10 [00:00<00:00, 13.20it/s]\n",
      " 20%|██        | 2/10 [00:00<00:00, 16.45it/s]"
     ]
    },
    {
     "name": "stdout",
     "output_type": "stream",
     "text": [
      "Epoch 16, Loss: 2892.456494140625\n",
      "Epoch 16, Loss: 2932.680456542969\n",
      "Epoch 16, Loss: 2702.1708374023438\n",
      "Epoch 16, Loss: 2703.237646484375\n"
     ]
    },
    {
     "name": "stderr",
     "output_type": "stream",
     "text": [
      "100%|██████████| 10/10 [00:00<00:00, 18.95it/s]\n",
      "100%|██████████| 10/10 [00:00<00:00, 18.94it/s]\n",
      "100%|██████████| 10/10 [00:00<00:00, 18.91it/s]\n",
      "100%|██████████| 10/10 [00:00<00:00, 18.91it/s]\n",
      " 20%|██        | 2/10 [00:00<00:00, 16.08it/s]"
     ]
    },
    {
     "name": "stdout",
     "output_type": "stream",
     "text": [
      "Epoch 17, Loss: 2332.2477172851563\n",
      "Epoch 17, Loss: 2537.5463134765623\n",
      "Epoch 17, Loss: 2553.170361328125\n",
      "Epoch 17, Loss: 2434.724719238281\n"
     ]
    },
    {
     "name": "stderr",
     "output_type": "stream",
     "text": [
      "100%|██████████| 10/10 [00:00<00:00, 18.36it/s]\n",
      "\n",
      "\n",
      "100%|██████████| 10/10 [00:00<00:00, 18.32it/s]\n",
      " 20%|██        | 2/10 [00:00<00:00, 16.48it/s]"
     ]
    },
    {
     "name": "stdout",
     "output_type": "stream",
     "text": [
      "Epoch 18, Loss: 2152.7480590820314\n",
      "Epoch 18, Loss: 2230.9846801757812\n",
      "Epoch 18, Loss: 2069.1984375\n",
      "Epoch 18, Loss: 2184.484503173828\n"
     ]
    },
    {
     "name": "stderr",
     "output_type": "stream",
     "text": [
      "100%|██████████| 10/10 [00:00<00:00, 20.55it/s]\n",
      "\n",
      "100%|██████████| 10/10 [00:00<00:00, 20.52it/s]\n",
      "\n",
      " 20%|██        | 2/10 [00:00<00:00, 15.71it/s]"
     ]
    },
    {
     "name": "stdout",
     "output_type": "stream",
     "text": [
      "Epoch 19, Loss: 1945.4791748046875\n",
      "Epoch 19, Loss: 1824.50537109375\n",
      "Epoch 19, Loss: 1839.1971313476563\n",
      "Epoch 19, Loss: 1938.0615112304688\n"
     ]
    },
    {
     "name": "stderr",
     "output_type": "stream",
     "text": [
      "100%|██████████| 10/10 [00:00<00:00, 19.66it/s]\n",
      "100%|██████████| 10/10 [00:00<00:00, 19.66it/s]\n",
      "100%|██████████| 10/10 [00:00<00:00, 19.61it/s]\n",
      "\n",
      " 20%|██        | 2/10 [00:00<00:00, 13.49it/s]"
     ]
    },
    {
     "name": "stdout",
     "output_type": "stream",
     "text": [
      "Epoch 20, Loss: 1665.6617431640625\n",
      "Epoch 20, Loss: 1588.9127014160156\n",
      "Epoch 20, Loss: 1584.4092712402344\n",
      "Epoch 20, Loss: 1679.7703491210937\n"
     ]
    },
    {
     "name": "stderr",
     "output_type": "stream",
     "text": [
      "100%|██████████| 10/10 [00:00<00:00, 17.56it/s]\n",
      "100%|██████████| 10/10 [00:00<00:00, 17.56it/s]\n",
      "100%|██████████| 10/10 [00:00<00:00, 17.52it/s]\n",
      "100%|██████████| 10/10 [00:00<00:00, 17.51it/s]\n",
      "  0%|          | 0/10 [00:00<?, ?it/s]"
     ]
    },
    {
     "name": "stdout",
     "output_type": "stream",
     "text": [
      "Epoch 21, Loss: 1440.69990234375\n",
      "Epoch 21, Loss: 1351.6275573730468\n",
      "Epoch 21, Loss: 1368.7771118164062\n",
      "Epoch 21, Loss: 1438.5081420898437\n"
     ]
    },
    {
     "name": "stderr",
     "output_type": "stream",
     "text": [
      "100%|██████████| 10/10 [00:00<00:00, 18.31it/s]\n",
      "100%|██████████| 10/10 [00:00<00:00, 18.31it/s]\n",
      "100%|██████████| 10/10 [00:00<00:00, 18.30it/s]\n",
      "100%|██████████| 10/10 [00:00<00:00, 18.27it/s]\n",
      "  0%|          | 0/10 [00:00<?, ?it/s]"
     ]
    },
    {
     "name": "stdout",
     "output_type": "stream",
     "text": [
      "Epoch 22, Loss: 1162.21611328125\n",
      "Epoch 22, Loss: 1265.1321655273437\n",
      "Epoch 22, Loss: 1189.9703002929687\n",
      "Epoch 22, Loss: 1259.4767822265626\n"
     ]
    },
    {
     "name": "stderr",
     "output_type": "stream",
     "text": [
      "100%|██████████| 10/10 [00:00<00:00, 20.61it/s]\n",
      "\n",
      "\n",
      "100%|██████████| 10/10 [00:00<00:00, 20.59it/s]\n",
      "  0%|          | 0/10 [00:00<?, ?it/s]"
     ]
    },
    {
     "name": "stdout",
     "output_type": "stream",
     "text": [
      "Epoch 23, Loss: 1115.2379577636718\n",
      "Epoch 23, Loss: 1126.4819702148438\n",
      "Epoch 23, Loss: 1073.2130737304688\n",
      "Epoch 23, Loss: 1063.1213623046874\n"
     ]
    },
    {
     "name": "stderr",
     "output_type": "stream",
     "text": [
      "100%|██████████| 10/10 [00:00<00:00, 20.39it/s]\n",
      "100%|██████████| 10/10 [00:00<00:00, 20.38it/s]\n",
      "\n",
      "100%|██████████| 10/10 [00:00<00:00, 20.36it/s]\n",
      "  0%|          | 0/10 [00:00<?, ?it/s]"
     ]
    },
    {
     "name": "stdout",
     "output_type": "stream",
     "text": [
      "Epoch 24, Loss: 1008.8244750976562\n",
      "Epoch 24, Loss: 961.2746368408203\n",
      "Epoch 24, Loss: 1013.7468139648438\n",
      "Epoch 24, Loss: 987.3473022460937\n"
     ]
    },
    {
     "name": "stderr",
     "output_type": "stream",
     "text": [
      "100%|██████████| 10/10 [00:00<00:00, 18.66it/s]\n",
      "100%|██████████| 10/10 [00:00<00:00, 18.66it/s]\n",
      "100%|██████████| 10/10 [00:00<00:00, 18.64it/s]\n",
      "\n",
      "  0%|          | 0/10 [00:00<?, ?it/s]"
     ]
    },
    {
     "name": "stdout",
     "output_type": "stream",
     "text": [
      "Epoch 25, Loss: 894.882275390625\n",
      "Epoch 25, Loss: 893.2432495117188\n",
      "Epoch 25, Loss: 849.621240234375\n",
      "Epoch 25, Loss: 860.3639282226562\n"
     ]
    },
    {
     "name": "stderr",
     "output_type": "stream",
     "text": [
      "100%|██████████| 10/10 [00:00<00:00, 18.24it/s]\n",
      "100%|██████████| 10/10 [00:00<00:00, 18.22it/s]\n",
      "100%|██████████| 10/10 [00:00<00:00, 18.22it/s]\n",
      "100%|██████████| 10/10 [00:00<00:00, 18.21it/s]\n",
      "  0%|          | 0/10 [00:00<?, ?it/s]"
     ]
    },
    {
     "name": "stdout",
     "output_type": "stream",
     "text": [
      "Epoch 26, Loss: 774.729931640625\n",
      "Epoch 26, Loss: 798.4854553222656\n",
      "Epoch 26, Loss: 809.4648803710937\n",
      "Epoch 26, Loss: 769.13388671875\n"
     ]
    },
    {
     "name": "stderr",
     "output_type": "stream",
     "text": [
      "100%|██████████| 10/10 [00:00<00:00, 21.03it/s]\n",
      "100%|██████████| 10/10 [00:00<00:00, 21.03it/s]\n",
      "\n",
      "100%|██████████| 10/10 [00:00<00:00, 21.05it/s]\n",
      " 20%|██        | 2/10 [00:00<00:00, 16.60it/s]"
     ]
    },
    {
     "name": "stdout",
     "output_type": "stream",
     "text": [
      "Epoch 27, Loss: 719.3576049804688\n",
      "Epoch 27, Loss: 730.5264739990234\n",
      "Epoch 27, Loss: 687.4951538085937\n",
      "Epoch 27, Loss: 677.1468139648438\n"
     ]
    },
    {
     "name": "stderr",
     "output_type": "stream",
     "text": [
      "100%|██████████| 10/10 [00:00<00:00, 20.52it/s]\n",
      "\n",
      "100%|██████████| 10/10 [00:00<00:00, 20.52it/s]\n",
      "100%|██████████| 10/10 [00:00<00:00, 20.52it/s]\n",
      " 20%|██        | 2/10 [00:00<00:00, 13.70it/s]"
     ]
    },
    {
     "name": "stdout",
     "output_type": "stream",
     "text": [
      "Epoch 28, Loss: 643.5411926269531\n",
      "Epoch 28, Loss: 644.9708740234375\n",
      "Epoch 28, Loss: 611.4893585205078\n",
      "Epoch 28, Loss: 621.01513671875\n"
     ]
    },
    {
     "name": "stderr",
     "output_type": "stream",
     "text": [
      "100%|██████████| 10/10 [00:00<00:00, 17.75it/s]\n",
      "100%|██████████| 10/10 [00:00<00:00, 17.73it/s]\n",
      "100%|██████████| 10/10 [00:00<00:00, 17.71it/s]\n",
      "100%|██████████| 10/10 [00:00<00:00, 17.70it/s]\n",
      " 20%|██        | 2/10 [00:00<00:00, 16.08it/s]"
     ]
    },
    {
     "name": "stdout",
     "output_type": "stream",
     "text": [
      "Epoch 29, Loss: 566.7134429931641\n",
      "Epoch 29, Loss: 560.7778076171875\n",
      "Epoch 29, Loss: 592.6869720458984\n",
      "Epoch 29, Loss: 586.680307006836\n"
     ]
    },
    {
     "name": "stderr",
     "output_type": "stream",
     "text": [
      "100%|██████████| 10/10 [00:00<00:00, 19.33it/s]\n",
      "100%|██████████| 10/10 [00:00<00:00, 19.37it/s]\n",
      "\n",
      "100%|██████████| 10/10 [00:00<00:00, 19.34it/s]\n",
      " 20%|██        | 2/10 [00:00<00:00, 15.52it/s]"
     ]
    },
    {
     "name": "stdout",
     "output_type": "stream",
     "text": [
      "Epoch 30, Loss: 512.5110137939453\n",
      "Epoch 30, Loss: 515.5747131347656\n",
      "Epoch 30, Loss: 532.620947265625\n",
      "Epoch 30, Loss: 533.8165100097656\n"
     ]
    },
    {
     "name": "stderr",
     "output_type": "stream",
     "text": [
      "100%|██████████| 10/10 [00:00<00:00, 20.05it/s]\n",
      "\n",
      "100%|██████████| 10/10 [00:00<00:00, 20.05it/s]\n",
      "100%|██████████| 10/10 [00:00<00:00, 20.01it/s]\n",
      "  0%|          | 0/10 [00:00<?, ?it/s]"
     ]
    },
    {
     "name": "stdout",
     "output_type": "stream",
     "text": [
      "Epoch 31, Loss: 481.2707458496094\n",
      "Epoch 31, Loss: 496.91791381835935\n",
      "Epoch 31, Loss: 500.9369415283203\n",
      "Epoch 31, Loss: 488.3658142089844\n"
     ]
    },
    {
     "name": "stderr",
     "output_type": "stream",
     "text": [
      "100%|██████████| 10/10 [00:00<00:00, 15.85it/s]\n",
      "100%|██████████| 10/10 [00:00<00:00, 15.84it/s]\n",
      "100%|██████████| 10/10 [00:00<00:00, 15.83it/s]\n",
      "100%|██████████| 10/10 [00:00<00:00, 15.82it/s]\n",
      "  0%|          | 0/10 [00:00<?, ?it/s]"
     ]
    },
    {
     "name": "stdout",
     "output_type": "stream",
     "text": [
      "Epoch 32, Loss: 451.8201171875\n",
      "Epoch 32, Loss: 460.0241760253906\n",
      "Epoch 32, Loss: 467.4293243408203\n",
      "Epoch 32, Loss: 450.59735717773435\n"
     ]
    },
    {
     "name": "stderr",
     "output_type": "stream",
     "text": [
      "100%|██████████| 10/10 [00:00<00:00, 13.45it/s]\n",
      "\n",
      "100%|██████████| 10/10 [00:00<00:00, 13.45it/s]\n",
      "100%|██████████| 10/10 [00:00<00:00, 13.44it/s]\n",
      " 20%|██        | 2/10 [00:00<00:00, 14.37it/s]"
     ]
    },
    {
     "name": "stdout",
     "output_type": "stream",
     "text": [
      "Epoch 33, Loss: 435.4387512207031\n",
      "Epoch 33, Loss: 424.0570770263672\n",
      "Epoch 33, Loss: 435.67189025878906\n",
      "Epoch 33, Loss: 425.8847717285156\n"
     ]
    },
    {
     "name": "stderr",
     "output_type": "stream",
     "text": [
      "100%|██████████| 10/10 [00:00<00:00, 19.88it/s]\n",
      "\n",
      "100%|██████████| 10/10 [00:00<00:00, 19.88it/s]\n",
      "100%|██████████| 10/10 [00:00<00:00, 19.87it/s]\n",
      " 20%|██        | 2/10 [00:00<00:00, 16.01it/s]"
     ]
    },
    {
     "name": "stdout",
     "output_type": "stream",
     "text": [
      "Epoch 34, Loss: 403.71730346679686\n",
      "Epoch 34, Loss: 416.22283630371095\n",
      "Epoch 34, Loss: 407.3811553955078\n",
      "Epoch 34, Loss: 417.9412872314453\n"
     ]
    },
    {
     "name": "stderr",
     "output_type": "stream",
     "text": [
      "100%|██████████| 10/10 [00:00<00:00, 20.78it/s]\n",
      "100%|██████████| 10/10 [00:00<00:00, 20.78it/s]\n",
      "100%|██████████| 10/10 [00:00<00:00, 20.77it/s]\n",
      "100%|██████████| 10/10 [00:00<00:00, 20.76it/s]\n",
      " 20%|██        | 2/10 [00:00<00:00, 17.14it/s]"
     ]
    },
    {
     "name": "stdout",
     "output_type": "stream",
     "text": [
      "Epoch 35, Loss: 392.5264007568359\n",
      "Epoch 35, Loss: 379.5967987060547\n",
      "Epoch 35, Loss: 381.5315246582031\n",
      "Epoch 35, Loss: 390.7071838378906\n"
     ]
    },
    {
     "name": "stderr",
     "output_type": "stream",
     "text": [
      "100%|██████████| 10/10 [00:00<00:00, 19.57it/s]\n",
      "100%|██████████| 10/10 [00:00<00:00, 19.56it/s]\n",
      "100%|██████████| 10/10 [00:00<00:00, 19.58it/s]\n",
      "100%|██████████| 10/10 [00:00<00:00, 19.54it/s]\n",
      "  0%|          | 0/10 [00:00<?, ?it/s]"
     ]
    },
    {
     "name": "stdout",
     "output_type": "stream",
     "text": [
      "Epoch 36, Loss: 368.0769287109375\n",
      "Epoch 36, Loss: 376.5448944091797\n",
      "Epoch 36, Loss: 367.9671295166016\n",
      "Epoch 36, Loss: 376.43910522460936\n"
     ]
    },
    {
     "name": "stderr",
     "output_type": "stream",
     "text": [
      "100%|██████████| 10/10 [00:00<00:00, 14.70it/s]\n",
      "\n",
      "\n",
      "100%|██████████| 10/10 [00:00<00:00, 14.67it/s]\n",
      "  0%|          | 0/10 [00:00<?, ?it/s]"
     ]
    },
    {
     "name": "stdout",
     "output_type": "stream",
     "text": [
      "Epoch 37, Loss: 351.55617065429686\n",
      "Epoch 37, Loss: 361.9118988037109\n",
      "Epoch 37, Loss: 361.9736328125\n",
      "Epoch 37, Loss: 353.8410980224609\n"
     ]
    },
    {
     "name": "stderr",
     "output_type": "stream",
     "text": [
      "100%|██████████| 10/10 [00:00<00:00, 20.48it/s]\n",
      "100%|██████████| 10/10 [00:00<00:00, 20.44it/s]\n",
      "100%|██████████| 10/10 [00:00<00:00, 20.43it/s]\n",
      "100%|██████████| 10/10 [00:00<00:00, 20.43it/s]\n",
      "  0%|          | 0/10 [00:00<?, ?it/s]"
     ]
    },
    {
     "name": "stdout",
     "output_type": "stream",
     "text": [
      "Epoch 38, Loss: 341.1457092285156\n",
      "Epoch 38, Loss: 340.5062530517578\n",
      "Epoch 38, Loss: 349.14081420898435\n",
      "Epoch 38, Loss: 349.5788208007813\n"
     ]
    },
    {
     "name": "stderr",
     "output_type": "stream",
     "text": [
      "100%|██████████| 10/10 [00:00<00:00, 20.25it/s]\n",
      "\n",
      "100%|██████████| 10/10 [00:00<00:00, 20.23it/s]\n",
      "100%|██████████| 10/10 [00:00<00:00, 20.20it/s]\n",
      " 10%|█         | 1/10 [00:00<00:00,  9.37it/s]"
     ]
    },
    {
     "name": "stdout",
     "output_type": "stream",
     "text": [
      "Epoch 39, Loss: 341.1759857177734\n",
      "Epoch 39, Loss: 333.6616546630859\n",
      "Epoch 39, Loss: 339.9010437011719\n",
      "Epoch 39, Loss: 335.5010986328125\n"
     ]
    },
    {
     "name": "stderr",
     "output_type": "stream",
     "text": [
      "100%|██████████| 10/10 [00:00<00:00, 17.74it/s]\n",
      "100%|██████████| 10/10 [00:00<00:00, 17.72it/s]\n",
      "100%|██████████| 10/10 [00:00<00:00, 17.72it/s]\n",
      "100%|██████████| 10/10 [00:00<00:00, 17.72it/s]\n",
      "  0%|          | 0/10 [00:00<?, ?it/s]"
     ]
    },
    {
     "name": "stdout",
     "output_type": "stream",
     "text": [
      "Epoch 40, Loss: 338.7199432373047\n",
      "Epoch 40, Loss: 332.7197326660156\n",
      "Epoch 40, Loss: 338.3352905273438\n",
      "Epoch 40, Loss: 331.7727996826172\n"
     ]
    },
    {
     "name": "stderr",
     "output_type": "stream",
     "text": [
      "100%|██████████| 10/10 [00:00<00:00, 18.59it/s]\n",
      "100%|██████████| 10/10 [00:00<00:00, 18.59it/s]\n",
      "100%|██████████| 10/10 [00:00<00:00, 18.57it/s]\n",
      "100%|██████████| 10/10 [00:00<00:00, 18.57it/s]\n",
      "  0%|          | 0/10 [00:00<?, ?it/s]"
     ]
    },
    {
     "name": "stdout",
     "output_type": "stream",
     "text": [
      "Epoch 41, Loss: 340.7319030761719\n",
      "Epoch 41, Loss: 334.4650482177734\n",
      "Epoch 41, Loss: 339.33217163085936\n",
      "Epoch 41, Loss: 334.63506774902345\n"
     ]
    },
    {
     "name": "stderr",
     "output_type": "stream",
     "text": [
      "100%|██████████| 10/10 [00:00<00:00, 20.55it/s]\n",
      "\n",
      "\n",
      "100%|██████████| 10/10 [00:00<00:00, 20.51it/s]\n",
      "  0%|          | 0/10 [00:00<?, ?it/s]"
     ]
    },
    {
     "name": "stdout",
     "output_type": "stream",
     "text": [
      "Epoch 42, Loss: 322.864404296875\n",
      "Epoch 42, Loss: 327.75526428222656\n",
      "Epoch 42, Loss: 321.31484069824216\n",
      "Epoch 42, Loss: 325.9197967529297\n"
     ]
    },
    {
     "name": "stderr",
     "output_type": "stream",
     "text": [
      "100%|██████████| 10/10 [00:00<00:00, 18.47it/s]\n",
      "100%|██████████| 10/10 [00:00<00:00, 18.46it/s]\n",
      "100%|██████████| 10/10 [00:00<00:00, 18.46it/s]\n",
      "100%|██████████| 10/10 [00:00<00:00, 18.47it/s]\n",
      "  0%|          | 0/10 [00:00<?, ?it/s]"
     ]
    },
    {
     "name": "stdout",
     "output_type": "stream",
     "text": [
      "Epoch 43, Loss: 353.59873352050784\n",
      "Epoch 43, Loss: 348.1837432861328\n",
      "Epoch 43, Loss: 348.6552673339844\n",
      "Epoch 43, Loss: 354.0755340576172\n"
     ]
    },
    {
     "name": "stderr",
     "output_type": "stream",
     "text": [
      "100%|██████████| 10/10 [00:00<00:00, 19.11it/s]\n",
      "\n",
      "100%|██████████| 10/10 [00:00<00:00, 19.10it/s]\n",
      "  0%|          | 0/10 [00:00<?, ?it/s]9.10it/s]\n",
      "  0%|          | 0/10 [00:00<?, ?it/s]"
     ]
    },
    {
     "name": "stdout",
     "output_type": "stream",
     "text": [
      "Epoch 44, Loss: 2521.167608642578\n",
      "Epoch 44, Loss: 2493.6701843261717\n",
      "Epoch 44, Loss: 2470.366143798828\n",
      "Epoch 44, Loss: 2459.4124755859375\n"
     ]
    },
    {
     "name": "stderr",
     "output_type": "stream",
     "text": [
      "100%|██████████| 10/10 [00:00<00:00, 17.62it/s]\n",
      "\n",
      "100%|██████████| 10/10 [00:00<00:00, 17.61it/s]\n",
      "100%|██████████| 10/10 [00:00<00:00, 17.59it/s]\n",
      " 20%|██        | 2/10 [00:00<00:00, 16.63it/s]"
     ]
    },
    {
     "name": "stdout",
     "output_type": "stream",
     "text": [
      "Epoch 45, Loss: 135801.737890625\n",
      "Epoch 45, Loss: 138751.4482421875\n",
      "Epoch 45, Loss: 136609.48271484376\n",
      "Epoch 45, Loss: 136132.04228515626\n"
     ]
    },
    {
     "name": "stderr",
     "output_type": "stream",
     "text": [
      "100%|██████████| 10/10 [00:00<00:00, 20.14it/s]\n",
      "100%|██████████| 10/10 [00:00<00:00, 20.09it/s]\n",
      "\n",
      "100%|██████████| 10/10 [00:00<00:00, 20.08it/s]\n",
      " 20%|██        | 2/10 [00:00<00:00, 13.31it/s]"
     ]
    },
    {
     "name": "stdout",
     "output_type": "stream",
     "text": [
      "Epoch 46, Loss: 33145.512475585936\n",
      "Epoch 46, Loss: 34085.61127929688\n",
      "Epoch 46, Loss: 33612.47321777344\n",
      "Epoch 46, Loss: 33924.90834960937\n"
     ]
    },
    {
     "name": "stderr",
     "output_type": "stream",
     "text": [
      "100%|██████████| 10/10 [00:00<00:00, 17.00it/s]\n",
      "\n",
      "100%|██████████| 10/10 [00:00<00:00, 16.99it/s]\n",
      "100%|██████████| 10/10 [00:00<00:00, 16.98it/s]\n",
      "  0%|          | 0/10 [00:00<?, ?it/s]"
     ]
    },
    {
     "name": "stdout",
     "output_type": "stream",
     "text": [
      "Epoch 47, Loss: 8404.753881835937\n",
      "Epoch 47, Loss: 8321.885803222656\n",
      "Epoch 47, Loss: 8584.036010742188\n",
      "Epoch 47, Loss: 8769.74112548828\n"
     ]
    },
    {
     "name": "stderr",
     "output_type": "stream",
     "text": [
      "100%|██████████| 10/10 [00:00<00:00, 17.82it/s]\n",
      "100%|██████████| 10/10 [00:00<00:00, 17.84it/s]\n",
      "100%|██████████| 10/10 [00:00<00:00, 17.83it/s]\n",
      "100%|██████████| 10/10 [00:00<00:00, 17.80it/s]\n",
      "  0%|          | 0/10 [00:00<?, ?it/s]"
     ]
    },
    {
     "name": "stdout",
     "output_type": "stream",
     "text": [
      "Epoch 48, Loss: 2623.142822265625\n",
      "Epoch 48, Loss: 2745.109997558594\n",
      "Epoch 48, Loss: 2635.2663452148436\n",
      "Epoch 48, Loss: 2582.8825073242188\n"
     ]
    },
    {
     "name": "stderr",
     "output_type": "stream",
     "text": [
      "100%|██████████| 10/10 [00:00<00:00, 19.20it/s]\n",
      "100%|██████████| 10/10 [00:00<00:00, 19.20it/s]\n",
      "100%|██████████| 10/10 [00:00<00:00, 19.20it/s]\n",
      "100%|██████████| 10/10 [00:00<00:00, 19.17it/s]\n",
      "  0%|          | 0/10 [00:00<?, ?it/s]"
     ]
    },
    {
     "name": "stdout",
     "output_type": "stream",
     "text": [
      "Epoch 49, Loss: 1118.599786376953\n",
      "Epoch 49, Loss: 1070.9433837890624\n",
      "Epoch 49, Loss: 1056.2431762695312\n",
      "Epoch 49, Loss: 1096.7934844970703\n"
     ]
    },
    {
     "name": "stderr",
     "output_type": "stream",
     "text": [
      "100%|██████████| 10/10 [00:00<00:00, 20.01it/s]\n",
      "\n",
      "100%|██████████| 10/10 [00:00<00:00, 20.03it/s]\n",
      "100%|██████████| 10/10 [00:00<00:00, 20.00it/s]\n",
      " 20%|██        | 2/10 [00:00<00:00, 17.41it/s]"
     ]
    },
    {
     "name": "stdout",
     "output_type": "stream",
     "text": [
      "Epoch 50, Loss: 587.3752410888671\n",
      "Epoch 50, Loss: 598.3598083496094\n",
      "Epoch 50, Loss: 613.3708709716797\n",
      "Epoch 50, Loss: 572.9542175292969\n"
     ]
    },
    {
     "name": "stderr",
     "output_type": "stream",
     "text": [
      "100%|██████████| 10/10 [00:00<00:00, 19.93it/s]\n",
      "100%|██████████| 10/10 [00:00<00:00, 19.92it/s]\n",
      "100%|██████████| 10/10 [00:00<00:00, 19.94it/s]\n",
      "100%|██████████| 10/10 [00:00<00:00, 19.90it/s]\n",
      " 20%|██        | 2/10 [00:00<00:00, 13.96it/s]"
     ]
    },
    {
     "name": "stdout",
     "output_type": "stream",
     "text": [
      "Epoch 51, Loss: 353.6597076416016\n",
      "Epoch 51, Loss: 348.4007507324219\n",
      "Epoch 51, Loss: 346.0326354980469\n",
      "Epoch 51, Loss: 354.8704376220703\n"
     ]
    },
    {
     "name": "stderr",
     "output_type": "stream",
     "text": [
      "100%|██████████| 10/10 [00:00<00:00, 18.09it/s]\n",
      "\n",
      "100%|██████████| 10/10 [00:00<00:00, 18.09it/s]\n",
      "100%|██████████| 10/10 [00:00<00:00, 18.08it/s]\n",
      " 20%|██        | 2/10 [00:00<00:00, 14.21it/s]"
     ]
    },
    {
     "name": "stdout",
     "output_type": "stream",
     "text": [
      "Epoch 52, Loss: 281.98590393066405\n",
      "Epoch 52, Loss: 282.9362823486328\n",
      "Epoch 52, Loss: 278.9987091064453\n",
      "Epoch 52, Loss: 278.81700744628904\n"
     ]
    },
    {
     "name": "stderr",
     "output_type": "stream",
     "text": [
      "100%|██████████| 10/10 [00:00<00:00, 18.12it/s]\n",
      "\n",
      "100%|██████████| 10/10 [00:00<00:00, 18.10it/s]\n",
      "100%|██████████| 10/10 [00:00<00:00, 18.08it/s]\n",
      "  0%|          | 0/10 [00:00<?, ?it/s]"
     ]
    },
    {
     "name": "stdout",
     "output_type": "stream",
     "text": [
      "Epoch 53, Loss: 264.95462493896486\n",
      "Epoch 53, Loss: 264.27677154541016\n",
      "Epoch 53, Loss: 268.0664306640625\n",
      "Epoch 53, Loss: 267.71680908203126\n"
     ]
    },
    {
     "name": "stderr",
     "output_type": "stream",
     "text": [
      "100%|██████████| 10/10 [00:00<00:00, 21.14it/s]\n",
      "\n",
      "\n",
      "100%|██████████| 10/10 [00:00<00:00, 21.09it/s]\n",
      " 10%|█         | 1/10 [00:00<00:00,  9.58it/s]"
     ]
    },
    {
     "name": "stdout",
     "output_type": "stream",
     "text": [
      "Epoch 54, Loss: 257.77003173828126\n",
      "Epoch 54, Loss: 254.8524627685547\n",
      "Epoch 54, Loss: 258.2923889160156\n",
      "Epoch 54, Loss: 254.94937896728516\n"
     ]
    },
    {
     "name": "stderr",
     "output_type": "stream",
     "text": [
      "100%|██████████| 10/10 [00:00<00:00, 14.14it/s]\n",
      "\n",
      "100%|██████████| 10/10 [00:00<00:00, 14.14it/s]\n",
      "100%|██████████| 10/10 [00:00<00:00, 14.14it/s]\n",
      "  0%|          | 0/10 [00:00<?, ?it/s]"
     ]
    },
    {
     "name": "stdout",
     "output_type": "stream",
     "text": [
      "Epoch 55, Loss: 250.78944091796876\n",
      "Epoch 55, Loss: 254.26146392822267\n",
      "Epoch 55, Loss: 250.99551391601562\n",
      "Epoch 55, Loss: 253.98934326171874\n"
     ]
    },
    {
     "name": "stderr",
     "output_type": "stream",
     "text": [
      "100%|██████████| 10/10 [00:00<00:00, 18.04it/s]\n",
      "100%|██████████| 10/10 [00:00<00:00, 18.04it/s]\n",
      "100%|██████████| 10/10 [00:00<00:00, 18.03it/s]\n",
      "100%|██████████| 10/10 [00:00<00:00, 18.01it/s]\n",
      "  0%|          | 0/10 [00:00<?, ?it/s]"
     ]
    },
    {
     "name": "stdout",
     "output_type": "stream",
     "text": [
      "Epoch 56, Loss: 250.86034240722657\n",
      "Epoch 56, Loss: 247.5693572998047\n",
      "Epoch 56, Loss: 250.9070617675781\n",
      "Epoch 56, Loss: 247.51667022705078\n"
     ]
    },
    {
     "name": "stderr",
     "output_type": "stream",
     "text": [
      "100%|██████████| 10/10 [00:00<00:00, 16.86it/s]\n",
      "100%|██████████| 10/10 [00:00<00:00, 16.85it/s]\n",
      "100%|██████████| 10/10 [00:00<00:00, 16.88it/s]\n",
      "100%|██████████| 10/10 [00:00<00:00, 16.86it/s]\n",
      "  0%|          | 0/10 [00:00<?, ?it/s]"
     ]
    },
    {
     "name": "stdout",
     "output_type": "stream",
     "text": [
      "Epoch 57, Loss: 248.9901092529297\n",
      "Epoch 57, Loss: 245.7157440185547\n",
      "Epoch 57, Loss: 245.72408142089844\n",
      "Epoch 57, Loss: 249.03144226074218\n"
     ]
    },
    {
     "name": "stderr",
     "output_type": "stream",
     "text": [
      "100%|██████████| 10/10 [00:00<00:00, 19.78it/s]\n",
      "100%|██████████| 10/10 [00:00<00:00, 19.77it/s]\n",
      "100%|██████████| 10/10 [00:00<00:00, 19.78it/s]\n",
      "100%|██████████| 10/10 [00:00<00:00, 19.75it/s]\n",
      "  0%|          | 0/10 [00:00<?, ?it/s]"
     ]
    },
    {
     "name": "stdout",
     "output_type": "stream",
     "text": [
      "Epoch 58, Loss: 244.95589752197264\n",
      "Epoch 58, Loss: 248.17364196777345\n",
      "Epoch 58, Loss: 244.94996948242186\n",
      "Epoch 58, Loss: 248.20025177001952\n"
     ]
    },
    {
     "name": "stderr",
     "output_type": "stream",
     "text": [
      "100%|██████████| 10/10 [00:00<00:00, 13.69it/s]\n",
      "100%|██████████| 10/10 [00:00<00:00, 13.69it/s]\n",
      "\n",
      "100%|██████████| 10/10 [00:00<00:00, 13.68it/s]\n",
      " 20%|██        | 2/10 [00:00<00:00, 15.34it/s]"
     ]
    },
    {
     "name": "stdout",
     "output_type": "stream",
     "text": [
      "Epoch 59, Loss: 247.22444915771484\n",
      "Epoch 59, Loss: 247.22056884765624\n",
      "Epoch 59, Loss: 243.9916030883789\n",
      "Epoch 59, Loss: 243.96731872558593\n"
     ]
    },
    {
     "name": "stderr",
     "output_type": "stream",
     "text": [
      "100%|██████████| 10/10 [00:00<00:00, 20.80it/s]\n",
      "100%|██████████| 10/10 [00:00<00:00, 20.80it/s]\n",
      "100%|██████████| 10/10 [00:00<00:00, 20.78it/s]\n",
      "100%|██████████| 10/10 [00:00<00:00, 20.79it/s]\n",
      " 20%|██        | 2/10 [00:00<00:00, 16.60it/s]"
     ]
    },
    {
     "name": "stdout",
     "output_type": "stream",
     "text": [
      "Epoch 60, Loss: 246.72811889648438\n",
      "Epoch 60, Loss: 243.3845443725586\n",
      "Epoch 60, Loss: 246.65607452392578\n",
      "Epoch 60, Loss: 243.40330505371094\n"
     ]
    },
    {
     "name": "stderr",
     "output_type": "stream",
     "text": [
      "100%|██████████| 10/10 [00:00<00:00, 20.12it/s]\n",
      "100%|██████████| 10/10 [00:00<00:00, 20.13it/s]\n",
      "\n",
      "100%|██████████| 10/10 [00:00<00:00, 20.09it/s]\n",
      " 20%|██        | 2/10 [00:00<00:00, 13.16it/s]"
     ]
    },
    {
     "name": "stdout",
     "output_type": "stream",
     "text": [
      "Epoch 61, Loss: 241.7045135498047\n",
      "Epoch 61, Loss: 244.9609405517578\n",
      "Epoch 61, Loss: 241.70310821533204\n",
      "Epoch 61, Loss: 244.9279800415039\n"
     ]
    },
    {
     "name": "stderr",
     "output_type": "stream",
     "text": [
      "100%|██████████| 10/10 [00:00<00:00, 19.86it/s]\n",
      "\n",
      "100%|██████████| 10/10 [00:00<00:00, 19.87it/s]\n",
      "100%|██████████| 10/10 [00:00<00:00, 19.85it/s]\n",
      " 20%|██        | 2/10 [00:00<00:00, 13.72it/s]"
     ]
    },
    {
     "name": "stdout",
     "output_type": "stream",
     "text": [
      "Epoch 62, Loss: 240.7989288330078\n",
      "Epoch 62, Loss: 243.9296859741211\n",
      "Epoch 62, Loss: 240.74120483398437\n",
      "Epoch 62, Loss: 244.00065002441406\n"
     ]
    },
    {
     "name": "stderr",
     "output_type": "stream",
     "text": [
      "100%|██████████| 10/10 [00:00<00:00, 17.83it/s]\n",
      "\n",
      "100%|██████████| 10/10 [00:00<00:00, 17.83it/s]\n",
      "100%|██████████| 10/10 [00:00<00:00, 17.82it/s]\n",
      " 20%|██        | 2/10 [00:00<00:00, 16.68it/s]"
     ]
    },
    {
     "name": "stdout",
     "output_type": "stream",
     "text": [
      "Epoch 63, Loss: 250.34593658447267\n",
      "Epoch 63, Loss: 250.2247512817383\n",
      "Epoch 63, Loss: 246.9391326904297\n",
      "Epoch 63, Loss: 246.94782257080078\n"
     ]
    },
    {
     "name": "stderr",
     "output_type": "stream",
     "text": [
      "100%|██████████| 10/10 [00:00<00:00, 21.82it/s]\n",
      "\n",
      "100%|██████████| 10/10 [00:00<00:00, 21.82it/s]\n",
      "100%|██████████| 10/10 [00:00<00:00, 21.78it/s]\n",
      "  0%|          | 0/10 [00:00<?, ?it/s]"
     ]
    },
    {
     "name": "stdout",
     "output_type": "stream",
     "text": [
      "Epoch 64, Loss: 246.2458526611328\n",
      "Epoch 64, Loss: 249.4213073730469\n",
      "Epoch 64, Loss: 249.6023391723633\n",
      "Epoch 64, Loss: 246.36651916503905\n"
     ]
    },
    {
     "name": "stderr",
     "output_type": "stream",
     "text": [
      "100%|██████████| 10/10 [00:00<00:00, 15.38it/s]\n",
      "\n",
      "100%|██████████| 10/10 [00:00<00:00, 15.34it/s]\n",
      "100%|██████████| 10/10 [00:00<00:00, 15.34it/s]\n",
      "  0%|          | 0/10 [00:00<?, ?it/s]"
     ]
    },
    {
     "name": "stdout",
     "output_type": "stream",
     "text": [
      "Epoch 65, Loss: 243.41900634765625\n",
      "Epoch 65, Loss: 240.26217956542968\n",
      "Epoch 65, Loss: 240.23339385986327\n",
      "Epoch 65, Loss: 243.40110778808594\n"
     ]
    },
    {
     "name": "stderr",
     "output_type": "stream",
     "text": [
      "100%|██████████| 10/10 [00:00<00:00, 20.31it/s]\n",
      "\n",
      "100%|██████████| 10/10 [00:00<00:00, 20.33it/s]\n",
      "100%|██████████| 10/10 [00:00<00:00, 20.31it/s]\n",
      " 10%|█         | 1/10 [00:00<00:00,  9.33it/s]"
     ]
    },
    {
     "name": "stdout",
     "output_type": "stream",
     "text": [
      "Epoch 66, Loss: 237.92103271484376\n",
      "Epoch 66, Loss: 241.07134399414062\n",
      "Epoch 66, Loss: 241.0762969970703\n",
      "Epoch 66, Loss: 237.84650421142578\n"
     ]
    },
    {
     "name": "stderr",
     "output_type": "stream",
     "text": [
      "100%|██████████| 10/10 [00:00<00:00, 18.93it/s]\n",
      "\n",
      "100%|██████████| 10/10 [00:00<00:00, 18.91it/s]\n",
      "100%|██████████| 10/10 [00:00<00:00, 18.92it/s]\n",
      " 20%|██        | 2/10 [00:00<00:00, 16.06it/s]"
     ]
    },
    {
     "name": "stdout",
     "output_type": "stream",
     "text": [
      "Epoch 67, Loss: 241.66641693115236\n",
      "Epoch 67, Loss: 241.64817504882814\n",
      "Epoch 67, Loss: 238.40349273681642\n",
      "Epoch 67, Loss: 238.42994842529296\n"
     ]
    },
    {
     "name": "stderr",
     "output_type": "stream",
     "text": [
      "100%|██████████| 10/10 [00:00<00:00, 20.26it/s]\n",
      "100%|██████████| 10/10 [00:00<00:00, 20.24it/s]\n",
      "100%|██████████| 10/10 [00:00<00:00, 20.24it/s]\n",
      "100%|██████████| 10/10 [00:00<00:00, 20.25it/s]\n",
      " 20%|██        | 2/10 [00:00<00:00, 16.62it/s]"
     ]
    },
    {
     "name": "stdout",
     "output_type": "stream",
     "text": [
      "Epoch 68, Loss: 1142.9800262451172\n",
      "Epoch 68, Loss: 1172.4056076049806\n",
      "Epoch 68, Loss: 1156.0005630493165\n",
      "Epoch 68, Loss: 1150.47509765625\n"
     ]
    },
    {
     "name": "stderr",
     "output_type": "stream",
     "text": [
      "100%|██████████| 10/10 [00:00<00:00, 19.16it/s]\n",
      "100%|██████████| 10/10 [00:00<00:00, 19.18it/s]\n",
      "100%|██████████| 10/10 [00:00<00:00, 19.16it/s]\n",
      "100%|██████████| 10/10 [00:00<00:00, 19.14it/s]\n",
      " 20%|██        | 2/10 [00:00<00:00, 13.75it/s]"
     ]
    },
    {
     "name": "stdout",
     "output_type": "stream",
     "text": [
      "Epoch 69, Loss: 138101.4546875\n",
      "Epoch 69, Loss: 137088.8671875\n",
      "Epoch 69, Loss: 138791.510546875\n",
      "Epoch 69, Loss: 140306.2943359375\n"
     ]
    },
    {
     "name": "stderr",
     "output_type": "stream",
     "text": [
      "100%|██████████| 10/10 [00:00<00:00, 18.11it/s]\n",
      "100%|██████████| 10/10 [00:00<00:00, 18.10it/s]\n",
      "100%|██████████| 10/10 [00:00<00:00, 18.08it/s]\n",
      "100%|██████████| 10/10 [00:00<00:00, 18.07it/s]\n",
      " 20%|██        | 2/10 [00:00<00:00, 12.55it/s]"
     ]
    },
    {
     "name": "stdout",
     "output_type": "stream",
     "text": [
      "Epoch 70, Loss: 45969.196484375\n",
      "Epoch 70, Loss: 46632.18125\n",
      "Epoch 70, Loss: 45808.82138671875\n",
      "Epoch 70, Loss: 45809.579296875\n"
     ]
    },
    {
     "name": "stderr",
     "output_type": "stream",
     "text": [
      "100%|██████████| 10/10 [00:00<00:00, 12.18it/s]\n",
      "100%|██████████| 10/10 [00:00<00:00, 12.17it/s]\n",
      "\n",
      "100%|██████████| 10/10 [00:00<00:00, 12.18it/s]\n",
      "  0%|          | 0/10 [00:00<?, ?it/s]"
     ]
    },
    {
     "name": "stdout",
     "output_type": "stream",
     "text": [
      "Epoch 71, Loss: 13288.438208007812\n",
      "Epoch 71, Loss: 13403.681274414062\n",
      "Epoch 71, Loss: 13393.744604492187\n",
      "Epoch 71, Loss: 13230.659594726563\n"
     ]
    },
    {
     "name": "stderr",
     "output_type": "stream",
     "text": [
      "100%|██████████| 10/10 [00:00<00:00, 18.82it/s]\n",
      "\n",
      "100%|██████████| 10/10 [00:00<00:00, 18.83it/s]\n",
      "100%|██████████| 10/10 [00:00<00:00, 18.79it/s]\n",
      "  0%|          | 0/10 [00:00<?, ?it/s]"
     ]
    },
    {
     "name": "stdout",
     "output_type": "stream",
     "text": [
      "Epoch 72, Loss: 4624.376806640625\n",
      "Epoch 72, Loss: 4452.730322265625\n",
      "Epoch 72, Loss: 4580.0462646484375\n",
      "Epoch 72, Loss: 4514.366271972656\n"
     ]
    },
    {
     "name": "stderr",
     "output_type": "stream",
     "text": [
      "100%|██████████| 10/10 [00:00<00:00, 19.32it/s]\n",
      "100%|██████████| 10/10 [00:00<00:00, 19.32it/s]\n",
      "\n",
      "100%|██████████| 10/10 [00:00<00:00, 19.30it/s]\n",
      "  0%|          | 0/10 [00:00<?, ?it/s]"
     ]
    },
    {
     "name": "stdout",
     "output_type": "stream",
     "text": [
      "Epoch 73, Loss: 1546.2280822753905\n",
      "Epoch 73, Loss: 1554.287664794922\n",
      "Epoch 73, Loss: 1542.638739013672\n",
      "Epoch 73, Loss: 1539.3546264648437\n"
     ]
    },
    {
     "name": "stderr",
     "output_type": "stream",
     "text": [
      "100%|██████████| 10/10 [00:00<00:00, 18.88it/s]\n",
      "\n",
      "100%|██████████| 10/10 [00:00<00:00, 18.90it/s]\n",
      "100%|██████████| 10/10 [00:00<00:00, 18.86it/s]\n",
      " 20%|██        | 2/10 [00:00<00:00, 17.52it/s]"
     ]
    },
    {
     "name": "stdout",
     "output_type": "stream",
     "text": [
      "Epoch 74, Loss: 693.1367797851562\n",
      "Epoch 74, Loss: 657.0365753173828\n",
      "Epoch 74, Loss: 682.5729278564453\n",
      "Epoch 74, Loss: 682.0656097412109\n"
     ]
    },
    {
     "name": "stderr",
     "output_type": "stream",
     "text": [
      "100%|██████████| 10/10 [00:00<00:00, 21.12it/s]\n",
      "\n",
      "100%|██████████| 10/10 [00:00<00:00, 21.10it/s]\n",
      "100%|██████████| 10/10 [00:00<00:00, 21.11it/s]\n",
      " 20%|██        | 2/10 [00:00<00:00, 15.27it/s]"
     ]
    },
    {
     "name": "stdout",
     "output_type": "stream",
     "text": [
      "Epoch 75, Loss: 341.7307723999023\n",
      "Epoch 75, Loss: 343.3545257568359\n",
      "Epoch 75, Loss: 344.88938598632814\n",
      "Epoch 75, Loss: 344.82615661621094\n"
     ]
    },
    {
     "name": "stderr",
     "output_type": "stream",
     "text": [
      "100%|██████████| 10/10 [00:00<00:00, 18.26it/s]\n",
      "100%|██████████| 10/10 [00:00<00:00, 18.23it/s]\n",
      "100%|██████████| 10/10 [00:00<00:00, 18.24it/s]\n",
      "\n",
      " 20%|██        | 2/10 [00:00<00:00, 16.44it/s]"
     ]
    },
    {
     "name": "stdout",
     "output_type": "stream",
     "text": [
      "Epoch 76, Loss: 223.07038421630858\n",
      "Epoch 76, Loss: 223.22683563232422\n",
      "Epoch 76, Loss: 226.48018798828124\n",
      "Epoch 76, Loss: 226.28316345214844\n"
     ]
    },
    {
     "name": "stderr",
     "output_type": "stream",
     "text": [
      "100%|██████████| 10/10 [00:00<00:00, 20.73it/s]\n",
      "\n",
      "100%|██████████| 10/10 [00:00<00:00, 20.77it/s]\n",
      "100%|██████████| 10/10 [00:00<00:00, 20.74it/s]\n",
      " 20%|██        | 2/10 [00:00<00:00, 12.31it/s]"
     ]
    },
    {
     "name": "stdout",
     "output_type": "stream",
     "text": [
      "Epoch 77, Loss: 186.58163299560547\n",
      "Epoch 77, Loss: 189.65503387451173\n",
      "Epoch 77, Loss: 187.1720230102539\n",
      "Epoch 77, Loss: 190.0208282470703\n"
     ]
    },
    {
     "name": "stderr",
     "output_type": "stream",
     "text": [
      "100%|██████████| 10/10 [00:00<00:00, 19.03it/s]\n",
      "\n",
      "\n",
      "  0%|          | 0/10 [00:00<?, ?it/s]9.04it/s]\n",
      " 20%|██        | 2/10 [00:00<00:00, 16.25it/s]"
     ]
    },
    {
     "name": "stdout",
     "output_type": "stream",
     "text": [
      "Epoch 78, Loss: 174.8576644897461\n",
      "Epoch 78, Loss: 171.94024810791015\n",
      "Epoch 78, Loss: 172.07521057128906\n",
      "Epoch 78, Loss: 174.77978057861327\n"
     ]
    },
    {
     "name": "stderr",
     "output_type": "stream",
     "text": [
      "100%|██████████| 10/10 [00:00<00:00, 20.42it/s]\n",
      "\n",
      "\n",
      "100%|██████████| 10/10 [00:00<00:00, 20.39it/s]\n",
      " 20%|██        | 2/10 [00:00<00:00, 15.69it/s]"
     ]
    },
    {
     "name": "stdout",
     "output_type": "stream",
     "text": [
      "Epoch 79, Loss: 166.84613800048828\n",
      "Epoch 79, Loss: 164.27840728759764\n",
      "Epoch 79, Loss: 164.23777465820314\n",
      "Epoch 79, Loss: 166.9866149902344\n"
     ]
    },
    {
     "name": "stderr",
     "output_type": "stream",
     "text": [
      "100%|██████████| 10/10 [00:00<00:00, 18.01it/s]\n",
      "\n",
      "100%|██████████| 10/10 [00:00<00:00, 18.01it/s]\n",
      "100%|██████████| 10/10 [00:00<00:00, 17.99it/s]\n",
      " 20%|██        | 2/10 [00:00<00:00, 16.38it/s]"
     ]
    },
    {
     "name": "stdout",
     "output_type": "stream",
     "text": [
      "Epoch 80, Loss: 163.35609436035156\n",
      "Epoch 80, Loss: 160.8733871459961\n",
      "Epoch 80, Loss: 163.43592529296876\n",
      "Epoch 80, Loss: 160.86121368408203\n"
     ]
    },
    {
     "name": "stderr",
     "output_type": "stream",
     "text": [
      "100%|██████████| 10/10 [00:00<00:00, 19.08it/s]\n",
      "100%|██████████| 10/10 [00:00<00:00, 19.10it/s]\n",
      "100%|██████████| 10/10 [00:00<00:00, 19.06it/s]\n",
      "100%|██████████| 10/10 [00:00<00:00, 19.05it/s]\n",
      " 10%|█         | 1/10 [00:00<00:00,  9.85it/s]"
     ]
    },
    {
     "name": "stdout",
     "output_type": "stream",
     "text": [
      "Epoch 81, Loss: 165.09598693847656\n",
      "Epoch 81, Loss: 162.56132049560546\n",
      "Epoch 81, Loss: 165.06060638427735\n",
      "Epoch 81, Loss: 162.53249969482422\n"
     ]
    },
    {
     "name": "stderr",
     "output_type": "stream",
     "text": [
      "100%|██████████| 10/10 [00:00<00:00, 19.60it/s]\n",
      "100%|██████████| 10/10 [00:00<00:00, 19.58it/s]\n",
      "100%|██████████| 10/10 [00:00<00:00, 19.58it/s]\n",
      "100%|██████████| 10/10 [00:00<00:00, 19.56it/s]\n",
      " 20%|██        | 2/10 [00:00<00:00, 15.70it/s]"
     ]
    },
    {
     "name": "stdout",
     "output_type": "stream",
     "text": [
      "Epoch 82, Loss: 162.64923248291015\n",
      "Epoch 82, Loss: 162.63054809570312\n",
      "Epoch 82, Loss: 165.14745635986327\n",
      "Epoch 82, Loss: 165.16942443847657\n"
     ]
    },
    {
     "name": "stderr",
     "output_type": "stream",
     "text": [
      "100%|██████████| 10/10 [00:00<00:00, 20.18it/s]\n",
      "100%|██████████| 10/10 [00:00<00:00, 20.18it/s]\n",
      "100%|██████████| 10/10 [00:00<00:00, 20.20it/s]\n",
      "100%|██████████| 10/10 [00:00<00:00, 20.17it/s]\n",
      " 20%|██        | 2/10 [00:00<00:00, 16.43it/s]"
     ]
    },
    {
     "name": "stdout",
     "output_type": "stream",
     "text": [
      "Epoch 83, Loss: 157.60834045410155\n",
      "Epoch 83, Loss: 157.63577423095703\n",
      "Epoch 83, Loss: 160.06486053466796\n",
      "Epoch 83, Loss: 160.08394470214844\n"
     ]
    },
    {
     "name": "stderr",
     "output_type": "stream",
     "text": [
      "100%|██████████| 10/10 [00:00<00:00, 17.90it/s]\n",
      "100%|██████████| 10/10 [00:00<00:00, 17.90it/s]\n",
      "100%|██████████| 10/10 [00:00<00:00, 17.90it/s]\n",
      "100%|██████████| 10/10 [00:00<00:00, 17.90it/s]\n",
      " 20%|██        | 2/10 [00:00<00:00, 15.46it/s]"
     ]
    },
    {
     "name": "stdout",
     "output_type": "stream",
     "text": [
      "Epoch 84, Loss: 157.07263641357423\n",
      "Epoch 84, Loss: 159.49597625732423\n",
      "Epoch 84, Loss: 156.9894790649414\n",
      "Epoch 84, Loss: 159.5004638671875\n"
     ]
    },
    {
     "name": "stderr",
     "output_type": "stream",
     "text": [
      "100%|██████████| 10/10 [00:00<00:00, 18.18it/s]\n",
      "\n",
      "100%|██████████| 10/10 [00:00<00:00, 18.17it/s]\n",
      "100%|██████████| 10/10 [00:00<00:00, 18.15it/s]\n",
      "  0%|          | 0/10 [00:00<?, ?it/s]"
     ]
    },
    {
     "name": "stdout",
     "output_type": "stream",
     "text": [
      "Epoch 85, Loss: 160.42635650634764\n",
      "Epoch 85, Loss: 158.00377655029297\n",
      "Epoch 85, Loss: 160.35025024414062\n",
      "Epoch 85, Loss: 157.98212432861328\n"
     ]
    },
    {
     "name": "stderr",
     "output_type": "stream",
     "text": [
      "100%|██████████| 10/10 [00:00<00:00, 20.62it/s]\n",
      "\n",
      "\n",
      "100%|██████████| 10/10 [00:00<00:00, 20.62it/s]\n",
      "  0%|          | 0/10 [00:00<?, ?it/s]"
     ]
    },
    {
     "name": "stdout",
     "output_type": "stream",
     "text": [
      "Epoch 86, Loss: 157.47244262695312\n",
      "Epoch 86, Loss: 154.97669982910156\n",
      "Epoch 86, Loss: 157.41827545166015\n",
      "Epoch 86, Loss: 154.9804260253906\n"
     ]
    },
    {
     "name": "stderr",
     "output_type": "stream",
     "text": [
      "100%|██████████| 10/10 [00:00<00:00, 15.94it/s]\n",
      "100%|██████████| 10/10 [00:00<00:00, 15.96it/s]\n",
      "100%|██████████| 10/10 [00:00<00:00, 15.92it/s]\n",
      "100%|██████████| 10/10 [00:00<00:00, 15.92it/s]\n",
      "  0%|          | 0/10 [00:00<?, ?it/s]"
     ]
    },
    {
     "name": "stdout",
     "output_type": "stream",
     "text": [
      "Epoch 87, Loss: 155.3171142578125\n",
      "Epoch 87, Loss: 155.32249450683594\n",
      "Epoch 87, Loss: 157.725\n",
      "Epoch 87, Loss: 157.7710159301758\n"
     ]
    },
    {
     "name": "stderr",
     "output_type": "stream",
     "text": [
      "100%|██████████| 10/10 [00:00<00:00, 13.90it/s]\n",
      "100%|██████████| 10/10 [00:00<00:00, 13.92it/s]\n",
      "100%|██████████| 10/10 [00:00<00:00, 13.91it/s]\n",
      "100%|██████████| 10/10 [00:00<00:00, 13.89it/s]\n",
      " 10%|█         | 1/10 [00:00<00:01,  6.09it/s]"
     ]
    },
    {
     "name": "stdout",
     "output_type": "stream",
     "text": [
      "Epoch 88, Loss: 153.4904586791992\n",
      "Epoch 88, Loss: 155.90597229003907\n",
      "Epoch 88, Loss: 155.94666442871093\n",
      "Epoch 88, Loss: 153.5456771850586\n"
     ]
    },
    {
     "name": "stderr",
     "output_type": "stream",
     "text": [
      "100%|██████████| 10/10 [00:00<00:00, 17.41it/s]\n",
      "\n",
      "100%|██████████| 10/10 [00:00<00:00, 17.42it/s]\n",
      "100%|██████████| 10/10 [00:00<00:00, 17.40it/s]\n",
      " 20%|██        | 2/10 [00:00<00:00, 16.55it/s]"
     ]
    },
    {
     "name": "stdout",
     "output_type": "stream",
     "text": [
      "Epoch 89, Loss: 155.36456451416015\n",
      "Epoch 89, Loss: 152.9310302734375\n",
      "Epoch 89, Loss: 152.91614379882813\n",
      "Epoch 89, Loss: 155.31954803466797\n"
     ]
    },
    {
     "name": "stderr",
     "output_type": "stream",
     "text": [
      "100%|██████████| 10/10 [00:00<00:00, 20.32it/s]\n",
      "\n",
      "100%|██████████| 10/10 [00:00<00:00, 20.34it/s]\n",
      "100%|██████████| 10/10 [00:00<00:00, 20.28it/s]\n",
      " 20%|██        | 2/10 [00:00<00:00, 15.59it/s]"
     ]
    },
    {
     "name": "stdout",
     "output_type": "stream",
     "text": [
      "Epoch 90, Loss: 158.8152069091797\n",
      "Epoch 90, Loss: 156.3375732421875\n",
      "Epoch 90, Loss: 156.39926452636718\n",
      "Epoch 90, Loss: 158.72684326171876\n"
     ]
    },
    {
     "name": "stderr",
     "output_type": "stream",
     "text": [
      "100%|██████████| 10/10 [00:00<00:00, 19.21it/s]\n",
      "100%|██████████| 10/10 [00:00<00:00, 19.21it/s]\n",
      "100%|██████████| 10/10 [00:00<00:00, 19.25it/s]\n",
      "100%|██████████| 10/10 [00:00<00:00, 19.18it/s]\n",
      "  0%|          | 0/10 [00:00<?, ?it/s]"
     ]
    },
    {
     "name": "stdout",
     "output_type": "stream",
     "text": [
      "Epoch 91, Loss: 155.6546890258789\n",
      "Epoch 91, Loss: 158.0041717529297\n",
      "Epoch 91, Loss: 157.992041015625\n",
      "Epoch 91, Loss: 155.58606872558593\n"
     ]
    },
    {
     "name": "stderr",
     "output_type": "stream",
     "text": [
      "100%|██████████| 10/10 [00:00<00:00, 14.55it/s]\n",
      "\n",
      "\n",
      "100%|██████████| 10/10 [00:00<00:00, 14.51it/s]\n",
      " 20%|██        | 2/10 [00:00<00:00, 15.72it/s]"
     ]
    },
    {
     "name": "stdout",
     "output_type": "stream",
     "text": [
      "Epoch 92, Loss: 155.76498413085938\n",
      "Epoch 92, Loss: 155.67398376464843\n",
      "Epoch 92, Loss: 153.32360382080077\n",
      "Epoch 92, Loss: 153.27582092285155\n"
     ]
    },
    {
     "name": "stderr",
     "output_type": "stream",
     "text": [
      "100%|██████████| 10/10 [00:00<00:00, 19.20it/s]\n",
      "\n",
      "100%|██████████| 10/10 [00:00<00:00, 19.19it/s]\n",
      "100%|██████████| 10/10 [00:00<00:00, 19.18it/s]\n",
      " 20%|██        | 2/10 [00:00<00:00, 15.94it/s]"
     ]
    },
    {
     "name": "stdout",
     "output_type": "stream",
     "text": [
      "Epoch 93, Loss: 150.4325912475586\n",
      "Epoch 93, Loss: 150.43243103027345\n",
      "Epoch 93, Loss: 152.8254135131836\n",
      "Epoch 93, Loss: 152.86126251220702\n"
     ]
    },
    {
     "name": "stderr",
     "output_type": "stream",
     "text": [
      "100%|██████████| 10/10 [00:00<00:00, 20.14it/s]\n",
      "\n",
      "\n",
      "100%|██████████| 10/10 [00:00<00:00, 20.10it/s]\n",
      " 20%|██        | 2/10 [00:00<00:00, 14.24it/s]"
     ]
    },
    {
     "name": "stdout",
     "output_type": "stream",
     "text": [
      "Epoch 94, Loss: 149.21933135986328\n",
      "Epoch 94, Loss: 151.62901763916017\n",
      "Epoch 94, Loss: 151.64182891845704\n",
      "Epoch 94, Loss: 149.24935455322264\n"
     ]
    },
    {
     "name": "stderr",
     "output_type": "stream",
     "text": [
      "100%|██████████| 10/10 [00:00<00:00, 19.97it/s]\n",
      "100%|██████████| 10/10 [00:00<00:00, 19.95it/s]\n",
      "100%|██████████| 10/10 [00:00<00:00, 19.95it/s]\n",
      "100%|██████████| 10/10 [00:00<00:00, 19.95it/s]\n",
      " 20%|██        | 2/10 [00:00<00:00, 13.28it/s]"
     ]
    },
    {
     "name": "stdout",
     "output_type": "stream",
     "text": [
      "Epoch 95, Loss: 151.82076721191407\n",
      "Epoch 95, Loss: 151.84990539550782\n",
      "Epoch 95, Loss: 149.46131134033203\n",
      "Epoch 95, Loss: 149.46151580810547\n"
     ]
    },
    {
     "name": "stderr",
     "output_type": "stream",
     "text": [
      "100%|██████████| 10/10 [00:00<00:00, 17.54it/s]\n",
      "\n",
      "100%|██████████| 10/10 [00:00<00:00, 17.55it/s]\n",
      "100%|██████████| 10/10 [00:00<00:00, 17.52it/s]\n",
      " 20%|██        | 2/10 [00:00<00:00, 16.73it/s]"
     ]
    },
    {
     "name": "stdout",
     "output_type": "stream",
     "text": [
      "Epoch 96, Loss: 149.92428436279297\n",
      "Epoch 96, Loss: 152.3525588989258\n",
      "Epoch 96, Loss: 149.91881561279297\n",
      "Epoch 96, Loss: 152.28338012695312\n"
     ]
    },
    {
     "name": "stderr",
     "output_type": "stream",
     "text": [
      "100%|██████████| 10/10 [00:00<00:00, 21.56it/s]\n",
      "100%|██████████| 10/10 [00:00<00:00, 21.58it/s]\n",
      "\n",
      "100%|██████████| 10/10 [00:00<00:00, 21.51it/s]\n",
      " 20%|██        | 2/10 [00:00<00:00, 15.75it/s]"
     ]
    },
    {
     "name": "stdout",
     "output_type": "stream",
     "text": [
      "Epoch 97, Loss: 150.7322006225586\n",
      "Epoch 97, Loss: 150.66241607666015\n",
      "Epoch 97, Loss: 148.3139877319336\n",
      "Epoch 97, Loss: 148.32738494873047\n"
     ]
    },
    {
     "name": "stderr",
     "output_type": "stream",
     "text": [
      "100%|██████████| 10/10 [00:00<00:00, 20.18it/s]\n",
      "\n",
      "\n",
      "100%|██████████| 10/10 [00:00<00:00, 20.18it/s]\n",
      " 20%|██        | 2/10 [00:00<00:00, 12.48it/s]"
     ]
    },
    {
     "name": "stdout",
     "output_type": "stream",
     "text": [
      "Epoch 98, Loss: 147.42644348144532\n",
      "Epoch 98, Loss: 149.78262023925782\n",
      "Epoch 98, Loss: 149.75960235595704\n",
      "Epoch 98, Loss: 147.455078125\n"
     ]
    },
    {
     "name": "stderr",
     "output_type": "stream",
     "text": [
      "100%|██████████| 10/10 [00:00<00:00, 18.23it/s]\n",
      "100%|██████████| 10/10 [00:00<00:00, 18.23it/s]\n",
      "\n",
      "100%|██████████| 10/10 [00:00<00:00, 18.23it/s]\n",
      " 10%|█         | 1/10 [00:00<00:00,  9.80it/s]"
     ]
    },
    {
     "name": "stdout",
     "output_type": "stream",
     "text": [
      "Epoch 99, Loss: 153.54573669433594\n",
      "Epoch 99, Loss: 151.1748245239258\n",
      "Epoch 99, Loss: 153.5890380859375\n",
      "Epoch 99, Loss: 151.14035186767578\n"
     ]
    },
    {
     "name": "stderr",
     "output_type": "stream",
     "text": [
      "100%|██████████| 10/10 [00:00<00:00, 17.72it/s]\n",
      "\n",
      "100%|██████████| 10/10 [00:00<00:00, 17.72it/s]\n",
      "100%|██████████| 10/10 [00:00<00:00, 17.70it/s]\n"
     ]
    },
    {
     "name": "stdout",
     "output_type": "stream",
     "text": [
      "Epoch 100, Loss: 149.73740997314454\n",
      "Training time: 56.82544827461243 seconds\n",
      "Epoch 100, Loss: 147.4085433959961\n",
      "Training time: 56.82635426521301 seconds\n",
      "Epoch 100, Loss: 147.36728057861328\n",
      "Training time: 56.82554364204407 seconds\n",
      "Epoch 100, Loss: 149.75623931884766\n",
      "Training time: 56.82681608200073 seconds\n",
      "Training time: 68.19354510307312 seconds\n"
     ]
    }
   ],
   "source": [
    "import time\n",
    "\n",
    "start_time = time.time()\n",
    "if __name__ == '__main__':\n",
    "    num_gpus = 4\n",
    "    import torch.multiprocessing as mp\n",
    "    mp.spawn(run, args=(list(range(num_gpus)),dgl_graph), nprocs=num_gpus)\n",
    "\n",
    "end_time = time.time()\n",
    "elapsed_time = end_time - start_time\n",
    "\n",
    "print(f\"Training time: {elapsed_time} seconds\")"
   ]
  },
  {
   "cell_type": "code",
   "execution_count": 28,
   "metadata": {},
   "outputs": [
    {
     "name": "stderr",
     "output_type": "stream",
     "text": [
      "/home/rxf131/ondemand/ubuntu2204/python310/torch_geometric/typing.py:47: UserWarning: An issue occurred while importing 'pyg-lib'. Disabling its usage. Stacktrace: libcudart.so.12: cannot open shared object file: No such file or directory\n",
      "  warnings.warn(f\"An issue occurred while importing 'pyg-lib'. \"\n",
      "/home/rxf131/ondemand/ubuntu2204/python310/torch_geometric/typing.py:47: UserWarning: An issue occurred while importing 'pyg-lib'. Disabling its usage. Stacktrace: libcudart.so.12: cannot open shared object file: No such file or directory\n",
      "  warnings.warn(f\"An issue occurred while importing 'pyg-lib'. \"\n",
      "/home/rxf131/ondemand/ubuntu2204/python310/torch_geometric/typing.py:47: UserWarning: An issue occurred while importing 'pyg-lib'. Disabling its usage. Stacktrace: libcudart.so.12: cannot open shared object file: No such file or directory\n",
      "  warnings.warn(f\"An issue occurred while importing 'pyg-lib'. \"\n",
      "/home/rxf131/ondemand/ubuntu2204/python310/torch_geometric/typing.py:101: UserWarning: An issue occurred while importing 'torch-sparse'. Disabling its usage. Stacktrace: libcudart.so.12: cannot open shared object file: No such file or directory\n",
      "  warnings.warn(f\"An issue occurred while importing 'torch-sparse'. \"\n",
      "/home/rxf131/ondemand/ubuntu2204/python310/torch_geometric/typing.py:101: UserWarning: An issue occurred while importing 'torch-sparse'. Disabling its usage. Stacktrace: libcudart.so.12: cannot open shared object file: No such file or directory\n",
      "  warnings.warn(f\"An issue occurred while importing 'torch-sparse'. \"\n",
      "/home/rxf131/ondemand/ubuntu2204/python310/torch_geometric/typing.py:101: UserWarning: An issue occurred while importing 'torch-sparse'. Disabling its usage. Stacktrace: libcudart.so.12: cannot open shared object file: No such file or directory\n",
      "  warnings.warn(f\"An issue occurred while importing 'torch-sparse'. \"\n",
      "100%|██████████| 2/2 [00:00<00:00,  3.80it/s]\n",
      "\n",
      "100%|██████████| 2/2 [00:00<00:00,  3.79it/s]\n",
      "  0%|          | 0/2 [00:00<?, ?it/s]"
     ]
    },
    {
     "name": "stdout",
     "output_type": "stream",
     "text": [
      "Epoch 1, Loss: 14142146.4140625\n",
      "Epoch 1, Loss: 14230714.828125\n",
      "Epoch 1, Loss: 13129100.546875\n"
     ]
    },
    {
     "name": "stderr",
     "output_type": "stream",
     "text": [
      "100%|██████████| 2/2 [00:00<00:00,  5.64it/s]\n",
      "100%|██████████| 2/2 [00:00<00:00,  5.65it/s]\n",
      "100%|██████████| 2/2 [00:00<00:00,  5.63it/s]\n",
      "  0%|          | 0/2 [00:00<?, ?it/s]"
     ]
    },
    {
     "name": "stdout",
     "output_type": "stream",
     "text": [
      "Epoch 2, Loss: 1538332.5625\n",
      "Epoch 2, Loss: 1556322.28125\n",
      "Epoch 2, Loss: 1519377.875\n"
     ]
    },
    {
     "name": "stderr",
     "output_type": "stream",
     "text": [
      "100%|██████████| 2/2 [00:00<00:00,  5.70it/s]\n",
      "100%|██████████| 2/2 [00:00<00:00,  5.70it/s]\n",
      "100%|██████████| 2/2 [00:00<00:00,  5.70it/s]\n",
      "  0%|          | 0/2 [00:00<?, ?it/s]"
     ]
    },
    {
     "name": "stdout",
     "output_type": "stream",
     "text": [
      "Epoch 3, Loss: 3516809.0625\n",
      "Epoch 3, Loss: 3274744.0625\n",
      "Epoch 3, Loss: 3719299.0625\n"
     ]
    },
    {
     "name": "stderr",
     "output_type": "stream",
     "text": [
      "100%|██████████| 2/2 [00:00<00:00,  5.68it/s]\n",
      "100%|██████████| 2/2 [00:00<00:00,  5.69it/s]\n",
      "100%|██████████| 2/2 [00:00<00:00,  5.67it/s]\n",
      "  0%|          | 0/2 [00:00<?, ?it/s]"
     ]
    },
    {
     "name": "stdout",
     "output_type": "stream",
     "text": [
      "Epoch 4, Loss: 1252568.3125\n",
      "Epoch 4, Loss: 1139387.65625\n",
      "Epoch 4, Loss: 1180436.90625\n"
     ]
    },
    {
     "name": "stderr",
     "output_type": "stream",
     "text": [
      "100%|██████████| 2/2 [00:00<00:00,  5.20it/s]\n",
      "100%|██████████| 2/2 [00:00<00:00,  5.21it/s]\n",
      "100%|██████████| 2/2 [00:00<00:00,  5.19it/s]\n",
      "  0%|          | 0/2 [00:00<?, ?it/s]"
     ]
    },
    {
     "name": "stdout",
     "output_type": "stream",
     "text": [
      "Epoch 5, Loss: 840503.09375\n",
      "Epoch 5, Loss: 844605.28125\n",
      "Epoch 5, Loss: 581368.4375\n"
     ]
    },
    {
     "name": "stderr",
     "output_type": "stream",
     "text": [
      "100%|██████████| 2/2 [00:00<00:00,  5.41it/s]\n",
      "100%|██████████| 2/2 [00:00<00:00,  5.42it/s]\n",
      "100%|██████████| 2/2 [00:00<00:00,  5.40it/s]\n",
      "  0%|          | 0/2 [00:00<?, ?it/s]"
     ]
    },
    {
     "name": "stdout",
     "output_type": "stream",
     "text": [
      "Epoch 6, Loss: 1660758.40625\n",
      "Epoch 6, Loss: 1727590.96875\n",
      "Epoch 6, Loss: 1520370.125\n"
     ]
    },
    {
     "name": "stderr",
     "output_type": "stream",
     "text": [
      "100%|██████████| 2/2 [00:00<00:00,  5.49it/s]\n",
      "\n",
      "100%|██████████| 2/2 [00:00<00:00,  5.48it/s]\n",
      "  0%|          | 0/2 [00:00<?, ?it/s]"
     ]
    },
    {
     "name": "stdout",
     "output_type": "stream",
     "text": [
      "Epoch 7, Loss: 1870053.625\n",
      "Epoch 7, Loss: 2441131.90625\n",
      "Epoch 7, Loss: 2183200.8125\n"
     ]
    },
    {
     "name": "stderr",
     "output_type": "stream",
     "text": [
      "100%|██████████| 2/2 [00:00<00:00,  5.81it/s]\n",
      "100%|██████████| 2/2 [00:00<00:00,  5.81it/s]\n",
      "100%|██████████| 2/2 [00:00<00:00,  5.81it/s]\n",
      "  0%|          | 0/2 [00:00<?, ?it/s]"
     ]
    },
    {
     "name": "stdout",
     "output_type": "stream",
     "text": [
      "Epoch 8, Loss: 2868427.125\n",
      "Epoch 8, Loss: 2739343.546875\n",
      "Epoch 8, Loss: 3337216.875\n"
     ]
    },
    {
     "name": "stderr",
     "output_type": "stream",
     "text": [
      "100%|██████████| 2/2 [00:00<00:00,  5.40it/s]\n",
      "100%|██████████| 2/2 [00:00<00:00,  5.40it/s]\n",
      "100%|██████████| 2/2 [00:00<00:00,  5.39it/s]\n",
      "  0%|          | 0/2 [00:00<?, ?it/s]"
     ]
    },
    {
     "name": "stdout",
     "output_type": "stream",
     "text": [
      "Epoch 9, Loss: 2231206.3125\n",
      "Epoch 9, Loss: 2086690.0\n",
      "Epoch 9, Loss: 1728765.21875\n"
     ]
    },
    {
     "name": "stderr",
     "output_type": "stream",
     "text": [
      "100%|██████████| 2/2 [00:00<00:00,  5.77it/s]\n",
      "100%|██████████| 2/2 [00:00<00:00,  5.77it/s]\n",
      "100%|██████████| 2/2 [00:00<00:00,  5.77it/s]\n",
      "  0%|          | 0/2 [00:00<?, ?it/s]"
     ]
    },
    {
     "name": "stdout",
     "output_type": "stream",
     "text": [
      "Epoch 10, Loss: 793040.375\n",
      "Epoch 10, Loss: 810321.875\n",
      "Epoch 10, Loss: 717068.78125\n"
     ]
    },
    {
     "name": "stderr",
     "output_type": "stream",
     "text": [
      "100%|██████████| 2/2 [00:00<00:00,  5.52it/s]\n",
      "100%|██████████| 2/2 [00:00<00:00,  5.51it/s]\n",
      "100%|██████████| 2/2 [00:00<00:00,  5.45it/s]\n",
      "  0%|          | 0/2 [00:00<?, ?it/s]"
     ]
    },
    {
     "name": "stdout",
     "output_type": "stream",
     "text": [
      "Epoch 11, Loss: 716750.28125\n",
      "Epoch 11, Loss: 721497.96875\n",
      "Epoch 11, Loss: 606168.1875\n"
     ]
    },
    {
     "name": "stderr",
     "output_type": "stream",
     "text": [
      "100%|██████████| 2/2 [00:00<00:00,  5.59it/s]\n",
      "100%|██████████| 2/2 [00:00<00:00,  5.67it/s]\n",
      "100%|██████████| 2/2 [00:00<00:00,  5.57it/s]\n",
      "  0%|          | 0/2 [00:00<?, ?it/s]"
     ]
    },
    {
     "name": "stdout",
     "output_type": "stream",
     "text": [
      "Epoch 12, Loss: 908720.203125\n",
      "Epoch 12, Loss: 775126.875\n",
      "Epoch 12, Loss: 848661.234375\n"
     ]
    },
    {
     "name": "stderr",
     "output_type": "stream",
     "text": [
      "100%|██████████| 2/2 [00:00<00:00,  5.62it/s]\n",
      "100%|██████████| 2/2 [00:00<00:00,  5.63it/s]\n",
      "100%|██████████| 2/2 [00:00<00:00,  5.61it/s]\n",
      "  0%|          | 0/2 [00:00<?, ?it/s]"
     ]
    },
    {
     "name": "stdout",
     "output_type": "stream",
     "text": [
      "Epoch 13, Loss: 476319.5625\n",
      "Epoch 13, Loss: 554922.484375\n",
      "Epoch 13, Loss: 578884.28125\n"
     ]
    },
    {
     "name": "stderr",
     "output_type": "stream",
     "text": [
      "100%|██████████| 2/2 [00:00<00:00,  5.41it/s]\n",
      "100%|██████████| 2/2 [00:00<00:00,  5.42it/s]\n",
      "100%|██████████| 2/2 [00:00<00:00,  5.40it/s]\n",
      "  0%|          | 0/2 [00:00<?, ?it/s]"
     ]
    },
    {
     "name": "stdout",
     "output_type": "stream",
     "text": [
      "Epoch 14, Loss: 235482.92578125\n",
      "Epoch 14, Loss: 231351.109375\n",
      "Epoch 14, Loss: 236356.005859375\n"
     ]
    },
    {
     "name": "stderr",
     "output_type": "stream",
     "text": [
      "100%|██████████| 2/2 [00:00<00:00,  5.62it/s]\n",
      "100%|██████████| 2/2 [00:00<00:00,  5.62it/s]\n",
      "100%|██████████| 2/2 [00:00<00:00,  5.62it/s]\n",
      "  0%|          | 0/2 [00:00<?, ?it/s]"
     ]
    },
    {
     "name": "stdout",
     "output_type": "stream",
     "text": [
      "Epoch 15, Loss: 432637.21875\n",
      "Epoch 15, Loss: 461273.1875\n",
      "Epoch 15, Loss: 502425.3125\n"
     ]
    },
    {
     "name": "stderr",
     "output_type": "stream",
     "text": [
      "100%|██████████| 2/2 [00:00<00:00,  5.58it/s]\n",
      "100%|██████████| 2/2 [00:00<00:00,  5.57it/s]\n",
      "100%|██████████| 2/2 [00:00<00:00,  5.56it/s]\n",
      "  0%|          | 0/2 [00:00<?, ?it/s]"
     ]
    },
    {
     "name": "stdout",
     "output_type": "stream",
     "text": [
      "Epoch 16, Loss: 166779.8203125\n",
      "Epoch 16, Loss: 162388.65625\n",
      "Epoch 16, Loss: 186445.71875\n"
     ]
    },
    {
     "name": "stderr",
     "output_type": "stream",
     "text": [
      "100%|██████████| 2/2 [00:00<00:00,  5.60it/s]\n",
      "\n",
      "100%|██████████| 2/2 [00:00<00:00,  5.60it/s]\n",
      "  0%|          | 0/2 [00:00<?, ?it/s]"
     ]
    },
    {
     "name": "stdout",
     "output_type": "stream",
     "text": [
      "Epoch 17, Loss: 209940.24609375\n",
      "Epoch 17, Loss: 221583.8046875\n",
      "Epoch 17, Loss: 240702.921875\n"
     ]
    },
    {
     "name": "stderr",
     "output_type": "stream",
     "text": [
      "100%|██████████| 2/2 [00:00<00:00,  5.20it/s]\n",
      "100%|██████████| 2/2 [00:00<00:00,  5.20it/s]\n",
      "100%|██████████| 2/2 [00:00<00:00,  5.19it/s]\n",
      "  0%|          | 0/2 [00:00<?, ?it/s]"
     ]
    },
    {
     "name": "stdout",
     "output_type": "stream",
     "text": [
      "Epoch 18, Loss: 186229.50390625\n",
      "Epoch 18, Loss: 189294.3046875\n",
      "Epoch 18, Loss: 249399.4765625\n"
     ]
    },
    {
     "name": "stderr",
     "output_type": "stream",
     "text": [
      "100%|██████████| 2/2 [00:00<00:00,  5.21it/s]\n",
      "100%|██████████| 2/2 [00:00<00:00,  5.21it/s]\n",
      "100%|██████████| 2/2 [00:00<00:00,  5.21it/s]\n",
      "  0%|          | 0/2 [00:00<?, ?it/s]"
     ]
    },
    {
     "name": "stdout",
     "output_type": "stream",
     "text": [
      "Epoch 19, Loss: 108834.7265625\n",
      "Epoch 19, Loss: 100314.02734375\n",
      "Epoch 19, Loss: 112898.32421875\n"
     ]
    },
    {
     "name": "stderr",
     "output_type": "stream",
     "text": [
      "100%|██████████| 2/2 [00:00<00:00,  5.21it/s]\n",
      "100%|██████████| 2/2 [00:00<00:00,  5.21it/s]\n",
      "100%|██████████| 2/2 [00:00<00:00,  5.21it/s]\n",
      "  0%|          | 0/2 [00:00<?, ?it/s]"
     ]
    },
    {
     "name": "stdout",
     "output_type": "stream",
     "text": [
      "Epoch 20, Loss: 120269.49609375\n",
      "Epoch 20, Loss: 147174.240234375\n",
      "Epoch 20, Loss: 123386.693359375\n"
     ]
    },
    {
     "name": "stderr",
     "output_type": "stream",
     "text": [
      "100%|██████████| 2/2 [00:00<00:00,  5.74it/s]\n",
      "100%|██████████| 2/2 [00:00<00:00,  5.73it/s]\n",
      "100%|██████████| 2/2 [00:00<00:00,  5.72it/s]\n",
      "  0%|          | 0/2 [00:00<?, ?it/s]"
     ]
    },
    {
     "name": "stdout",
     "output_type": "stream",
     "text": [
      "Epoch 21, Loss: 106614.25390625\n",
      "Epoch 21, Loss: 75465.30859375\n",
      "Epoch 21, Loss: 83122.5546875\n"
     ]
    },
    {
     "name": "stderr",
     "output_type": "stream",
     "text": [
      "100%|██████████| 2/2 [00:00<00:00,  5.40it/s]\n",
      "100%|██████████| 2/2 [00:00<00:00,  5.40it/s]\n",
      "100%|██████████| 2/2 [00:00<00:00,  5.38it/s]\n",
      "  0%|          | 0/2 [00:00<?, ?it/s]"
     ]
    },
    {
     "name": "stdout",
     "output_type": "stream",
     "text": [
      "Epoch 22, Loss: 56482.6328125\n",
      "Epoch 22, Loss: 65621.1875\n",
      "Epoch 22, Loss: 79400.578125\n"
     ]
    },
    {
     "name": "stderr",
     "output_type": "stream",
     "text": [
      "100%|██████████| 2/2 [00:00<00:00,  5.76it/s]\n",
      "100%|██████████| 2/2 [00:00<00:00,  5.75it/s]\n",
      "100%|██████████| 2/2 [00:00<00:00,  5.76it/s]\n",
      "  0%|          | 0/2 [00:00<?, ?it/s]"
     ]
    },
    {
     "name": "stdout",
     "output_type": "stream",
     "text": [
      "Epoch 23, Loss: 69703.3359375\n",
      "Epoch 23, Loss: 61859.4814453125\n",
      "Epoch 23, Loss: 69787.2265625\n"
     ]
    },
    {
     "name": "stderr",
     "output_type": "stream",
     "text": [
      "100%|██████████| 2/2 [00:00<00:00,  5.55it/s]\n",
      "100%|██████████| 2/2 [00:00<00:00,  5.55it/s]\n",
      "100%|██████████| 2/2 [00:00<00:00,  5.55it/s]\n",
      "  0%|          | 0/2 [00:00<?, ?it/s]"
     ]
    },
    {
     "name": "stdout",
     "output_type": "stream",
     "text": [
      "Epoch 24, Loss: 47902.546875\n",
      "Epoch 24, Loss: 47136.7109375\n",
      "Epoch 24, Loss: 64534.25\n"
     ]
    },
    {
     "name": "stderr",
     "output_type": "stream",
     "text": [
      "100%|██████████| 2/2 [00:00<00:00,  5.40it/s]\n",
      "100%|██████████| 2/2 [00:00<00:00,  5.39it/s]\n",
      "100%|██████████| 2/2 [00:00<00:00,  5.38it/s]\n",
      "  0%|          | 0/2 [00:00<?, ?it/s]"
     ]
    },
    {
     "name": "stdout",
     "output_type": "stream",
     "text": [
      "Epoch 25, Loss: 45688.8876953125\n",
      "Epoch 25, Loss: 30413.37109375\n",
      "Epoch 25, Loss: 29605.2509765625\n"
     ]
    },
    {
     "name": "stderr",
     "output_type": "stream",
     "text": [
      "100%|██████████| 2/2 [00:00<00:00,  5.48it/s]\n",
      "100%|██████████| 2/2 [00:00<00:00,  5.48it/s]\n",
      "100%|██████████| 2/2 [00:00<00:00,  5.48it/s]\n",
      "  0%|          | 0/2 [00:00<?, ?it/s]"
     ]
    },
    {
     "name": "stdout",
     "output_type": "stream",
     "text": [
      "Epoch 26, Loss: 44323.814453125\n",
      "Epoch 26, Loss: 50950.0322265625\n",
      "Epoch 26, Loss: 56265.451171875\n"
     ]
    },
    {
     "name": "stderr",
     "output_type": "stream",
     "text": [
      "100%|██████████| 2/2 [00:00<00:00,  5.60it/s]\n",
      "\n",
      "100%|██████████| 2/2 [00:00<00:00,  5.60it/s]\n",
      "  0%|          | 0/2 [00:00<?, ?it/s]"
     ]
    },
    {
     "name": "stdout",
     "output_type": "stream",
     "text": [
      "Epoch 27, Loss: 27070.0693359375\n",
      "Epoch 27, Loss: 16471.7197265625\n",
      "Epoch 27, Loss: 18168.69482421875\n"
     ]
    },
    {
     "name": "stderr",
     "output_type": "stream",
     "text": [
      "100%|██████████| 2/2 [00:00<00:00,  5.63it/s]\n",
      "\n",
      "100%|██████████| 2/2 [00:00<00:00,  5.63it/s]\n",
      "  0%|          | 0/2 [00:00<?, ?it/s]"
     ]
    },
    {
     "name": "stdout",
     "output_type": "stream",
     "text": [
      "Epoch 28, Loss: 34353.39306640625\n",
      "Epoch 28, Loss: 24152.6337890625\n",
      "Epoch 28, Loss: 26709.5029296875\n"
     ]
    },
    {
     "name": "stderr",
     "output_type": "stream",
     "text": [
      "100%|██████████| 2/2 [00:00<00:00,  5.43it/s]\n",
      "100%|██████████| 2/2 [00:00<00:00,  5.42it/s]\n",
      "100%|██████████| 2/2 [00:00<00:00,  5.41it/s]\n",
      "  0%|          | 0/2 [00:00<?, ?it/s]"
     ]
    },
    {
     "name": "stdout",
     "output_type": "stream",
     "text": [
      "Epoch 29, Loss: 26087.50390625\n",
      "Epoch 29, Loss: 22855.26171875\n",
      "Epoch 29, Loss: 21742.7646484375\n"
     ]
    },
    {
     "name": "stderr",
     "output_type": "stream",
     "text": [
      "100%|██████████| 2/2 [00:00<00:00,  5.89it/s]\n",
      "100%|██████████| 2/2 [00:00<00:00,  5.89it/s]\n",
      "100%|██████████| 2/2 [00:00<00:00,  5.88it/s]\n",
      "  0%|          | 0/2 [00:00<?, ?it/s]"
     ]
    },
    {
     "name": "stdout",
     "output_type": "stream",
     "text": [
      "Epoch 30, Loss: 14033.78515625\n",
      "Epoch 30, Loss: 11760.21875\n",
      "Epoch 30, Loss: 14593.40771484375\n"
     ]
    },
    {
     "name": "stderr",
     "output_type": "stream",
     "text": [
      "100%|██████████| 2/2 [00:00<00:00,  5.75it/s]\n",
      "100%|██████████| 2/2 [00:00<00:00,  5.76it/s]\n",
      "100%|██████████| 2/2 [00:00<00:00,  5.74it/s]\n",
      "  0%|          | 0/2 [00:00<?, ?it/s]"
     ]
    },
    {
     "name": "stdout",
     "output_type": "stream",
     "text": [
      "Epoch 31, Loss: 17293.83935546875\n",
      "Epoch 31, Loss: 23766.3623046875\n",
      "Epoch 31, Loss: 13881.3671875\n"
     ]
    },
    {
     "name": "stderr",
     "output_type": "stream",
     "text": [
      "100%|██████████| 2/2 [00:00<00:00,  5.50it/s]\n",
      "100%|██████████| 2/2 [00:00<00:00,  5.49it/s]\n",
      "100%|██████████| 2/2 [00:00<00:00,  5.50it/s]\n",
      "  0%|          | 0/2 [00:00<?, ?it/s]"
     ]
    },
    {
     "name": "stdout",
     "output_type": "stream",
     "text": [
      "Epoch 32, Loss: 12026.8505859375\n",
      "Epoch 32, Loss: 13138.04248046875\n",
      "Epoch 32, Loss: 11092.50830078125\n"
     ]
    },
    {
     "name": "stderr",
     "output_type": "stream",
     "text": [
      "100%|██████████| 2/2 [00:00<00:00,  5.66it/s]\n",
      "100%|██████████| 2/2 [00:00<00:00,  5.67it/s]\n",
      "100%|██████████| 2/2 [00:00<00:00,  5.65it/s]\n",
      "  0%|          | 0/2 [00:00<?, ?it/s]"
     ]
    },
    {
     "name": "stdout",
     "output_type": "stream",
     "text": [
      "Epoch 33, Loss: 13590.21044921875\n",
      "Epoch 33, Loss: 8932.08544921875\n",
      "Epoch 33, Loss: 10538.0185546875\n"
     ]
    },
    {
     "name": "stderr",
     "output_type": "stream",
     "text": [
      "100%|██████████| 2/2 [00:00<00:00,  5.42it/s]\n",
      "100%|██████████| 2/2 [00:00<00:00,  5.42it/s]\n",
      "100%|██████████| 2/2 [00:00<00:00,  5.42it/s]\n",
      "  0%|          | 0/2 [00:00<?, ?it/s]"
     ]
    },
    {
     "name": "stdout",
     "output_type": "stream",
     "text": [
      "Epoch 34, Loss: 13671.310546875\n",
      "Epoch 34, Loss: 9300.5146484375\n",
      "Epoch 34, Loss: 9846.839599609375\n"
     ]
    },
    {
     "name": "stderr",
     "output_type": "stream",
     "text": [
      "100%|██████████| 2/2 [00:00<00:00,  5.13it/s]\n",
      "100%|██████████| 2/2 [00:00<00:00,  5.13it/s]\n",
      "100%|██████████| 2/2 [00:00<00:00,  5.13it/s]\n",
      "  0%|          | 0/2 [00:00<?, ?it/s]"
     ]
    },
    {
     "name": "stdout",
     "output_type": "stream",
     "text": [
      "Epoch 35, Loss: 7792.19775390625\n",
      "Epoch 35, Loss: 7376.56005859375\n",
      "Epoch 35, Loss: 8897.10791015625\n"
     ]
    },
    {
     "name": "stderr",
     "output_type": "stream",
     "text": [
      "100%|██████████| 2/2 [00:00<00:00,  5.77it/s]\n",
      "100%|██████████| 2/2 [00:00<00:00,  5.76it/s]\n",
      "100%|██████████| 2/2 [00:00<00:00,  5.75it/s]\n",
      "  0%|          | 0/2 [00:00<?, ?it/s]"
     ]
    },
    {
     "name": "stdout",
     "output_type": "stream",
     "text": [
      "Epoch 36, Loss: 8129.119140625\n",
      "Epoch 36, Loss: 7664.468994140625\n",
      "Epoch 36, Loss: 7031.3525390625\n"
     ]
    },
    {
     "name": "stderr",
     "output_type": "stream",
     "text": [
      "100%|██████████| 2/2 [00:00<00:00,  5.63it/s]\n",
      "100%|██████████| 2/2 [00:00<00:00,  5.62it/s]\n",
      "100%|██████████| 2/2 [00:00<00:00,  5.62it/s]\n",
      "  0%|          | 0/2 [00:00<?, ?it/s]"
     ]
    },
    {
     "name": "stdout",
     "output_type": "stream",
     "text": [
      "Epoch 37, Loss: 6878.7998046875\n",
      "Epoch 37, Loss: 7383.591064453125\n",
      "Epoch 37, Loss: 9712.525390625\n"
     ]
    },
    {
     "name": "stderr",
     "output_type": "stream",
     "text": [
      "100%|██████████| 2/2 [00:00<00:00,  5.33it/s]\n",
      "100%|██████████| 2/2 [00:00<00:00,  5.32it/s]\n",
      "100%|██████████| 2/2 [00:00<00:00,  5.31it/s]\n",
      "  0%|          | 0/2 [00:00<?, ?it/s]"
     ]
    },
    {
     "name": "stdout",
     "output_type": "stream",
     "text": [
      "Epoch 38, Loss: 5999.86181640625\n",
      "Epoch 38, Loss: 5446.008056640625\n",
      "Epoch 38, Loss: 4641.8310546875\n"
     ]
    },
    {
     "name": "stderr",
     "output_type": "stream",
     "text": [
      "100%|██████████| 2/2 [00:00<00:00,  5.29it/s]\n",
      "100%|██████████| 2/2 [00:00<00:00,  5.29it/s]\n",
      "100%|██████████| 2/2 [00:00<00:00,  5.29it/s]\n",
      "  0%|          | 0/2 [00:00<?, ?it/s]"
     ]
    },
    {
     "name": "stdout",
     "output_type": "stream",
     "text": [
      "Epoch 39, Loss: 6410.61181640625\n",
      "Epoch 39, Loss: 5813.996826171875\n",
      "Epoch 39, Loss: 4936.1025390625\n"
     ]
    },
    {
     "name": "stderr",
     "output_type": "stream",
     "text": [
      "100%|██████████| 2/2 [00:00<00:00,  5.65it/s]\n",
      "100%|██████████| 2/2 [00:00<00:00,  5.65it/s]\n",
      "100%|██████████| 2/2 [00:00<00:00,  5.64it/s]\n",
      "  0%|          | 0/2 [00:00<?, ?it/s]"
     ]
    },
    {
     "name": "stdout",
     "output_type": "stream",
     "text": [
      "Epoch 40, Loss: 4378.1168212890625\n",
      "Epoch 40, Loss: 5356.4814453125\n",
      "Epoch 40, Loss: 6896.023193359375\n"
     ]
    },
    {
     "name": "stderr",
     "output_type": "stream",
     "text": [
      "100%|██████████| 2/2 [00:00<00:00,  5.52it/s]\n",
      "100%|██████████| 2/2 [00:00<00:00,  5.52it/s]\n",
      "100%|██████████| 2/2 [00:00<00:00,  5.51it/s]\n",
      "  0%|          | 0/2 [00:00<?, ?it/s]"
     ]
    },
    {
     "name": "stdout",
     "output_type": "stream",
     "text": [
      "Epoch 41, Loss: 5443.11376953125\n",
      "Epoch 41, Loss: 5926.8818359375\n",
      "Epoch 41, Loss: 4263.457763671875\n"
     ]
    },
    {
     "name": "stderr",
     "output_type": "stream",
     "text": [
      "100%|██████████| 2/2 [00:00<00:00,  5.73it/s]\n",
      "\n",
      "100%|██████████| 2/2 [00:00<00:00,  5.72it/s]\n",
      "  0%|          | 0/2 [00:00<?, ?it/s]"
     ]
    },
    {
     "name": "stdout",
     "output_type": "stream",
     "text": [
      "Epoch 42, Loss: 4953.732666015625\n",
      "Epoch 42, Loss: 4266.578369140625\n",
      "Epoch 42, Loss: 5120.053955078125\n"
     ]
    },
    {
     "name": "stderr",
     "output_type": "stream",
     "text": [
      "100%|██████████| 2/2 [00:00<00:00,  5.47it/s]\n",
      "\n",
      "100%|██████████| 2/2 [00:00<00:00,  5.46it/s]\n",
      "  0%|          | 0/2 [00:00<?, ?it/s]"
     ]
    },
    {
     "name": "stdout",
     "output_type": "stream",
     "text": [
      "Epoch 43, Loss: 5910.763427734375\n",
      "Epoch 43, Loss: 4305.010009765625\n",
      "Epoch 43, Loss: 4561.380615234375\n"
     ]
    },
    {
     "name": "stderr",
     "output_type": "stream",
     "text": [
      "100%|██████████| 2/2 [00:00<00:00,  5.47it/s]\n",
      "100%|██████████| 2/2 [00:00<00:00,  5.45it/s]\n",
      "100%|██████████| 2/2 [00:00<00:00,  5.45it/s]\n",
      "  0%|          | 0/2 [00:00<?, ?it/s]"
     ]
    },
    {
     "name": "stdout",
     "output_type": "stream",
     "text": [
      "Epoch 44, Loss: 3817.736083984375\n",
      "Epoch 44, Loss: 4451.567138671875\n",
      "Epoch 44, Loss: 3694.2005615234375\n"
     ]
    },
    {
     "name": "stderr",
     "output_type": "stream",
     "text": [
      "100%|██████████| 2/2 [00:00<00:00,  5.60it/s]\n",
      "100%|██████████| 2/2 [00:00<00:00,  5.58it/s]\n",
      "100%|██████████| 2/2 [00:00<00:00,  5.58it/s]\n",
      "  0%|          | 0/2 [00:00<?, ?it/s]"
     ]
    },
    {
     "name": "stdout",
     "output_type": "stream",
     "text": [
      "Epoch 45, Loss: 3353.8067626953125\n",
      "Epoch 45, Loss: 3408.1456298828125\n",
      "Epoch 45, Loss: 4523.3182373046875\n"
     ]
    },
    {
     "name": "stderr",
     "output_type": "stream",
     "text": [
      "100%|██████████| 2/2 [00:00<00:00,  5.75it/s]\n",
      "100%|██████████| 2/2 [00:00<00:00,  5.75it/s]\n",
      "100%|██████████| 2/2 [00:00<00:00,  5.74it/s]\n",
      "  0%|          | 0/2 [00:00<?, ?it/s]"
     ]
    },
    {
     "name": "stdout",
     "output_type": "stream",
     "text": [
      "Epoch 46, Loss: 3179.8779296875\n",
      "Epoch 46, Loss: 4214.997802734375\n",
      "Epoch 46, Loss: 3092.337158203125\n"
     ]
    },
    {
     "name": "stderr",
     "output_type": "stream",
     "text": [
      "100%|██████████| 2/2 [00:00<00:00,  5.29it/s]\n",
      "100%|██████████| 2/2 [00:00<00:00,  5.28it/s]\n",
      "100%|██████████| 2/2 [00:00<00:00,  5.26it/s]\n",
      "  0%|          | 0/2 [00:00<?, ?it/s]"
     ]
    },
    {
     "name": "stdout",
     "output_type": "stream",
     "text": [
      "Epoch 47, Loss: 3300.0985107421875\n",
      "Epoch 47, Loss: 3795.509765625\n",
      "Epoch 47, Loss: 3218.9056396484375\n"
     ]
    },
    {
     "name": "stderr",
     "output_type": "stream",
     "text": [
      "100%|██████████| 2/2 [00:00<00:00,  5.40it/s]\n",
      "100%|██████████| 2/2 [00:00<00:00,  5.42it/s]\n",
      "100%|██████████| 2/2 [00:00<00:00,  5.38it/s]\n",
      "  0%|          | 0/2 [00:00<?, ?it/s]"
     ]
    },
    {
     "name": "stdout",
     "output_type": "stream",
     "text": [
      "Epoch 48, Loss: 3850.5728759765625\n",
      "Epoch 48, Loss: 2881.8204345703125\n",
      "Epoch 48, Loss: 2871.3114013671875\n"
     ]
    },
    {
     "name": "stderr",
     "output_type": "stream",
     "text": [
      "100%|██████████| 2/2 [00:00<00:00,  5.22it/s]\n",
      "\n",
      "100%|██████████| 2/2 [00:00<00:00,  5.21it/s]\n",
      "  0%|          | 0/2 [00:00<?, ?it/s]"
     ]
    },
    {
     "name": "stdout",
     "output_type": "stream",
     "text": [
      "Epoch 49, Loss: 2971.6075439453125\n",
      "Epoch 49, Loss: 2769.06201171875\n",
      "Epoch 49, Loss: 3795.40625\n"
     ]
    },
    {
     "name": "stderr",
     "output_type": "stream",
     "text": [
      "100%|██████████| 2/2 [00:00<00:00,  5.24it/s]\n",
      "100%|██████████| 2/2 [00:00<00:00,  5.24it/s]\n",
      "100%|██████████| 2/2 [00:00<00:00,  5.24it/s]\n",
      "  0%|          | 0/2 [00:00<?, ?it/s]"
     ]
    },
    {
     "name": "stdout",
     "output_type": "stream",
     "text": [
      "Epoch 50, Loss: 2876.87060546875\n",
      "Epoch 50, Loss: 2806.33740234375\n",
      "Epoch 50, Loss: 3630.014404296875\n"
     ]
    },
    {
     "name": "stderr",
     "output_type": "stream",
     "text": [
      "100%|██████████| 2/2 [00:00<00:00,  5.77it/s]\n",
      "100%|██████████| 2/2 [00:00<00:00,  5.77it/s]\n",
      "100%|██████████| 2/2 [00:00<00:00,  5.77it/s]\n",
      "  0%|          | 0/2 [00:00<?, ?it/s]"
     ]
    },
    {
     "name": "stdout",
     "output_type": "stream",
     "text": [
      "Epoch 51, Loss: 2655.4970703125\n",
      "Epoch 51, Loss: 2669.771484375\n",
      "Epoch 51, Loss: 3366.2661743164062\n"
     ]
    },
    {
     "name": "stderr",
     "output_type": "stream",
     "text": [
      "100%|██████████| 2/2 [00:00<00:00,  5.48it/s]\n",
      "\n",
      "100%|██████████| 2/2 [00:00<00:00,  5.48it/s]\n",
      "  0%|          | 0/2 [00:00<?, ?it/s]"
     ]
    },
    {
     "name": "stdout",
     "output_type": "stream",
     "text": [
      "Epoch 52, Loss: 2724.7020263671875\n",
      "Epoch 52, Loss: 3015.0303955078125\n",
      "Epoch 52, Loss: 3071.3004150390625\n"
     ]
    },
    {
     "name": "stderr",
     "output_type": "stream",
     "text": [
      "100%|██████████| 2/2 [00:00<00:00,  5.58it/s]\n",
      "\n",
      "100%|██████████| 2/2 [00:00<00:00,  5.58it/s]\n",
      "  0%|          | 0/2 [00:00<?, ?it/s]"
     ]
    },
    {
     "name": "stdout",
     "output_type": "stream",
     "text": [
      "Epoch 53, Loss: 2723.65673828125\n",
      "Epoch 53, Loss: 2495.5828857421875\n",
      "Epoch 53, Loss: 2947.6663818359375\n"
     ]
    },
    {
     "name": "stderr",
     "output_type": "stream",
     "text": [
      "100%|██████████| 2/2 [00:00<00:00,  5.56it/s]\n",
      "100%|██████████| 2/2 [00:00<00:00,  5.56it/s]\n",
      "100%|██████████| 2/2 [00:00<00:00,  5.57it/s]\n",
      "  0%|          | 0/2 [00:00<?, ?it/s]"
     ]
    },
    {
     "name": "stdout",
     "output_type": "stream",
     "text": [
      "Epoch 54, Loss: 2787.8487548828125\n",
      "Epoch 54, Loss: 2810.7491455078125\n",
      "Epoch 54, Loss: 3631.252197265625\n"
     ]
    },
    {
     "name": "stderr",
     "output_type": "stream",
     "text": [
      "100%|██████████| 2/2 [00:00<00:00,  5.40it/s]\n",
      "\n",
      "100%|██████████| 2/2 [00:00<00:00,  5.40it/s]\n",
      "  0%|          | 0/2 [00:00<?, ?it/s]"
     ]
    },
    {
     "name": "stdout",
     "output_type": "stream",
     "text": [
      "Epoch 55, Loss: 2801.7261962890625\n",
      "Epoch 55, Loss: 2756.714599609375\n",
      "Epoch 55, Loss: 3530.410400390625\n"
     ]
    },
    {
     "name": "stderr",
     "output_type": "stream",
     "text": [
      "100%|██████████| 2/2 [00:00<00:00,  5.55it/s]\n",
      "100%|██████████| 2/2 [00:00<00:00,  5.55it/s]\n",
      "100%|██████████| 2/2 [00:00<00:00,  5.55it/s]\n",
      "  0%|          | 0/2 [00:00<?, ?it/s]"
     ]
    },
    {
     "name": "stdout",
     "output_type": "stream",
     "text": [
      "Epoch 56, Loss: 2891.4478759765625\n",
      "Epoch 56, Loss: 2686.0272216796875\n",
      "Epoch 56, Loss: 3582.5294189453125\n"
     ]
    },
    {
     "name": "stderr",
     "output_type": "stream",
     "text": [
      "100%|██████████| 2/2 [00:00<00:00,  5.42it/s]\n",
      "\n",
      "100%|██████████| 2/2 [00:00<00:00,  5.42it/s]\n",
      "  0%|          | 0/2 [00:00<?, ?it/s]"
     ]
    },
    {
     "name": "stdout",
     "output_type": "stream",
     "text": [
      "Epoch 57, Loss: 3086.88525390625\n",
      "Epoch 57, Loss: 2816.9652099609375\n",
      "Epoch 57, Loss: 3456.3204345703125\n"
     ]
    },
    {
     "name": "stderr",
     "output_type": "stream",
     "text": [
      "100%|██████████| 2/2 [00:00<00:00,  5.74it/s]\n",
      "100%|██████████| 2/2 [00:00<00:00,  5.74it/s]\n",
      "100%|██████████| 2/2 [00:00<00:00,  5.75it/s]\n",
      "  0%|          | 0/2 [00:00<?, ?it/s]"
     ]
    },
    {
     "name": "stdout",
     "output_type": "stream",
     "text": [
      "Epoch 58, Loss: 2924.9383544921875\n",
      "Epoch 58, Loss: 2599.5638427734375\n",
      "Epoch 58, Loss: 3452.6282958984375\n"
     ]
    },
    {
     "name": "stderr",
     "output_type": "stream",
     "text": [
      "100%|██████████| 2/2 [00:00<00:00,  5.60it/s]\n",
      "100%|██████████| 2/2 [00:00<00:00,  5.60it/s]\n",
      "100%|██████████| 2/2 [00:00<00:00,  5.60it/s]\n",
      "  0%|          | 0/2 [00:00<?, ?it/s]"
     ]
    },
    {
     "name": "stdout",
     "output_type": "stream",
     "text": [
      "Epoch 59, Loss: 2432.128173828125\n",
      "Epoch 59, Loss: 2930.4620361328125\n",
      "Epoch 59, Loss: 3384.0819091796875\n"
     ]
    },
    {
     "name": "stderr",
     "output_type": "stream",
     "text": [
      "100%|██████████| 2/2 [00:00<00:00,  5.65it/s]\n",
      "100%|██████████| 2/2 [00:00<00:00,  5.65it/s]\n",
      "100%|██████████| 2/2 [00:00<00:00,  5.64it/s]\n",
      "  0%|          | 0/2 [00:00<?, ?it/s]"
     ]
    },
    {
     "name": "stdout",
     "output_type": "stream",
     "text": [
      "Epoch 60, Loss: 3328.2621459960938\n",
      "Epoch 60, Loss: 2851.4774169921875\n",
      "Epoch 60, Loss: 2450.0062255859375\n"
     ]
    },
    {
     "name": "stderr",
     "output_type": "stream",
     "text": [
      "100%|██████████| 2/2 [00:00<00:00,  5.61it/s]\n",
      "100%|██████████| 2/2 [00:00<00:00,  5.61it/s]\n",
      "100%|██████████| 2/2 [00:00<00:00,  5.60it/s]\n",
      "  0%|          | 0/2 [00:00<?, ?it/s]"
     ]
    },
    {
     "name": "stdout",
     "output_type": "stream",
     "text": [
      "Epoch 61, Loss: 3347.6788330078125\n",
      "Epoch 61, Loss: 2753.135986328125\n",
      "Epoch 61, Loss: 2604.1229248046875\n"
     ]
    },
    {
     "name": "stderr",
     "output_type": "stream",
     "text": [
      "100%|██████████| 2/2 [00:00<00:00,  5.61it/s]\n",
      "100%|██████████| 2/2 [00:00<00:00,  5.61it/s]\n",
      "100%|██████████| 2/2 [00:00<00:00,  5.61it/s]\n",
      "  0%|          | 0/2 [00:00<?, ?it/s]"
     ]
    },
    {
     "name": "stdout",
     "output_type": "stream",
     "text": [
      "Epoch 62, Loss: 3723.3297119140625\n",
      "Epoch 62, Loss: 2928.510009765625\n",
      "Epoch 62, Loss: 3102.062255859375\n"
     ]
    },
    {
     "name": "stderr",
     "output_type": "stream",
     "text": [
      "100%|██████████| 2/2 [00:00<00:00,  5.44it/s]\n",
      "100%|██████████| 2/2 [00:00<00:00,  5.43it/s]\n",
      "100%|██████████| 2/2 [00:00<00:00,  5.43it/s]\n",
      "  0%|          | 0/2 [00:00<?, ?it/s]"
     ]
    },
    {
     "name": "stdout",
     "output_type": "stream",
     "text": [
      "Epoch 63, Loss: 2758.9920654296875\n",
      "Epoch 63, Loss: 3197.652587890625\n",
      "Epoch 63, Loss: 2524.3543701171875\n"
     ]
    },
    {
     "name": "stderr",
     "output_type": "stream",
     "text": [
      "100%|██████████| 2/2 [00:00<00:00,  5.89it/s]\n",
      "100%|██████████| 2/2 [00:00<00:00,  5.88it/s]\n",
      "100%|██████████| 2/2 [00:00<00:00,  5.89it/s]\n",
      "  0%|          | 0/2 [00:00<?, ?it/s]"
     ]
    },
    {
     "name": "stdout",
     "output_type": "stream",
     "text": [
      "Epoch 64, Loss: 3943.9869384765625\n",
      "Epoch 64, Loss: 4324.146728515625\n",
      "Epoch 64, Loss: 4311.6805419921875\n"
     ]
    },
    {
     "name": "stderr",
     "output_type": "stream",
     "text": [
      "100%|██████████| 2/2 [00:00<00:00,  5.68it/s]\n",
      "100%|██████████| 2/2 [00:00<00:00,  5.68it/s]\n",
      "100%|██████████| 2/2 [00:00<00:00,  5.66it/s]\n",
      "  0%|          | 0/2 [00:00<?, ?it/s]"
     ]
    },
    {
     "name": "stdout",
     "output_type": "stream",
     "text": [
      "Epoch 65, Loss: 4797.51513671875\n",
      "Epoch 65, Loss: 4062.393798828125\n",
      "Epoch 65, Loss: 4111.853271484375\n"
     ]
    },
    {
     "name": "stderr",
     "output_type": "stream",
     "text": [
      "100%|██████████| 2/2 [00:00<00:00,  5.60it/s]\n",
      "100%|██████████| 2/2 [00:00<00:00,  5.60it/s]\n",
      "100%|██████████| 2/2 [00:00<00:00,  5.60it/s]\n",
      "  0%|          | 0/2 [00:00<?, ?it/s]"
     ]
    },
    {
     "name": "stdout",
     "output_type": "stream",
     "text": [
      "Epoch 66, Loss: 3652.0439453125\n",
      "Epoch 66, Loss: 4977.2667236328125\n",
      "Epoch 66, Loss: 3534.8094482421875\n"
     ]
    },
    {
     "name": "stderr",
     "output_type": "stream",
     "text": [
      "100%|██████████| 2/2 [00:00<00:00,  5.48it/s]\n",
      "100%|██████████| 2/2 [00:00<00:00,  5.46it/s]\n",
      "100%|██████████| 2/2 [00:00<00:00,  5.47it/s]\n",
      "  0%|          | 0/2 [00:00<?, ?it/s]"
     ]
    },
    {
     "name": "stdout",
     "output_type": "stream",
     "text": [
      "Epoch 67, Loss: 4769.07373046875\n",
      "Epoch 67, Loss: 4849.891845703125\n",
      "Epoch 67, Loss: 4194.9200439453125\n"
     ]
    },
    {
     "name": "stderr",
     "output_type": "stream",
     "text": [
      "100%|██████████| 2/2 [00:00<00:00,  5.43it/s]\n",
      "100%|██████████| 2/2 [00:00<00:00,  5.42it/s]\n",
      "100%|██████████| 2/2 [00:00<00:00,  5.42it/s]\n",
      "  0%|          | 0/2 [00:00<?, ?it/s]"
     ]
    },
    {
     "name": "stdout",
     "output_type": "stream",
     "text": [
      "Epoch 68, Loss: 3613.373046875\n",
      "Epoch 68, Loss: 4558.1761474609375\n",
      "Epoch 68, Loss: 4666.2685546875\n"
     ]
    },
    {
     "name": "stderr",
     "output_type": "stream",
     "text": [
      "100%|██████████| 2/2 [00:00<00:00,  5.59it/s]\n",
      "100%|██████████| 2/2 [00:00<00:00,  5.59it/s]\n",
      "100%|██████████| 2/2 [00:00<00:00,  5.59it/s]\n",
      "  0%|          | 0/2 [00:00<?, ?it/s]"
     ]
    },
    {
     "name": "stdout",
     "output_type": "stream",
     "text": [
      "Epoch 69, Loss: 3764.4342041015625\n",
      "Epoch 69, Loss: 3542.8753662109375\n",
      "Epoch 69, Loss: 4477.2745361328125\n"
     ]
    },
    {
     "name": "stderr",
     "output_type": "stream",
     "text": [
      "100%|██████████| 2/2 [00:00<00:00,  5.50it/s]\n",
      "\n",
      "100%|██████████| 2/2 [00:00<00:00,  5.49it/s]\n",
      "  0%|          | 0/2 [00:00<?, ?it/s]"
     ]
    },
    {
     "name": "stdout",
     "output_type": "stream",
     "text": [
      "Epoch 70, Loss: 4002.2724609375\n",
      "Epoch 70, Loss: 3812.7222900390625\n",
      "Epoch 70, Loss: 3570.45556640625\n"
     ]
    },
    {
     "name": "stderr",
     "output_type": "stream",
     "text": [
      "100%|██████████| 2/2 [00:00<00:00,  5.48it/s]\n",
      "100%|██████████| 2/2 [00:00<00:00,  5.49it/s]\n",
      "100%|██████████| 2/2 [00:00<00:00,  5.47it/s]\n",
      "  0%|          | 0/2 [00:00<?, ?it/s]"
     ]
    },
    {
     "name": "stdout",
     "output_type": "stream",
     "text": [
      "Epoch 71, Loss: 4087.779052734375\n",
      "Epoch 71, Loss: 4317.98193359375\n",
      "Epoch 71, Loss: 4079.7508544921875\n"
     ]
    },
    {
     "name": "stderr",
     "output_type": "stream",
     "text": [
      "100%|██████████| 2/2 [00:00<00:00,  5.33it/s]\n",
      "100%|██████████| 2/2 [00:00<00:00,  5.33it/s]\n",
      "100%|██████████| 2/2 [00:00<00:00,  5.33it/s]\n",
      "  0%|          | 0/2 [00:00<?, ?it/s]"
     ]
    },
    {
     "name": "stdout",
     "output_type": "stream",
     "text": [
      "Epoch 72, Loss: 4503.3145751953125\n",
      "Epoch 72, Loss: 3860.8829345703125\n",
      "Epoch 72, Loss: 4719.72412109375\n"
     ]
    },
    {
     "name": "stderr",
     "output_type": "stream",
     "text": [
      "100%|██████████| 2/2 [00:00<00:00,  5.64it/s]\n",
      "100%|██████████| 2/2 [00:00<00:00,  5.62it/s]\n",
      "100%|██████████| 2/2 [00:00<00:00,  5.62it/s]\n",
      "  0%|          | 0/2 [00:00<?, ?it/s]"
     ]
    },
    {
     "name": "stdout",
     "output_type": "stream",
     "text": [
      "Epoch 73, Loss: 3281.1661376953125\n",
      "Epoch 73, Loss: 3169.8194580078125\n",
      "Epoch 73, Loss: 3305.043701171875\n"
     ]
    },
    {
     "name": "stderr",
     "output_type": "stream",
     "text": [
      "100%|██████████| 2/2 [00:00<00:00,  5.60it/s]\n",
      "100%|██████████| 2/2 [00:00<00:00,  5.60it/s]\n",
      "100%|██████████| 2/2 [00:00<00:00,  5.60it/s]\n",
      "  0%|          | 0/2 [00:00<?, ?it/s]"
     ]
    },
    {
     "name": "stdout",
     "output_type": "stream",
     "text": [
      "Epoch 74, Loss: 3120.0528564453125\n",
      "Epoch 74, Loss: 3507.09765625\n",
      "Epoch 74, Loss: 3792.04736328125\n"
     ]
    },
    {
     "name": "stderr",
     "output_type": "stream",
     "text": [
      "100%|██████████| 2/2 [00:00<00:00,  5.49it/s]\n",
      "100%|██████████| 2/2 [00:00<00:00,  5.49it/s]\n",
      "100%|██████████| 2/2 [00:00<00:00,  5.48it/s]\n",
      "  0%|          | 0/2 [00:00<?, ?it/s]"
     ]
    },
    {
     "name": "stdout",
     "output_type": "stream",
     "text": [
      "Epoch 75, Loss: 2781.71533203125\n",
      "Epoch 75, Loss: 3288.9715576171875\n",
      "Epoch 75, Loss: 2958.5992431640625\n"
     ]
    },
    {
     "name": "stderr",
     "output_type": "stream",
     "text": [
      "100%|██████████| 2/2 [00:00<00:00,  5.48it/s]\n",
      "\n",
      "100%|██████████| 2/2 [00:00<00:00,  5.48it/s]\n",
      "  0%|          | 0/2 [00:00<?, ?it/s]"
     ]
    },
    {
     "name": "stdout",
     "output_type": "stream",
     "text": [
      "Epoch 76, Loss: 2775.5103759765625\n",
      "Epoch 76, Loss: 3440.3446044921875\n",
      "Epoch 76, Loss: 2785.27734375\n"
     ]
    },
    {
     "name": "stderr",
     "output_type": "stream",
     "text": [
      "100%|██████████| 2/2 [00:00<00:00,  5.61it/s]\n",
      "100%|██████████| 2/2 [00:00<00:00,  5.61it/s]\n",
      "100%|██████████| 2/2 [00:00<00:00,  5.61it/s]\n",
      "  0%|          | 0/2 [00:00<?, ?it/s]"
     ]
    },
    {
     "name": "stdout",
     "output_type": "stream",
     "text": [
      "Epoch 77, Loss: 3521.6724853515625\n",
      "Epoch 77, Loss: 4292.89404296875\n",
      "Epoch 77, Loss: 4135.66796875\n"
     ]
    },
    {
     "name": "stderr",
     "output_type": "stream",
     "text": [
      "100%|██████████| 2/2 [00:00<00:00,  5.43it/s]\n",
      "100%|██████████| 2/2 [00:00<00:00,  5.44it/s]\n",
      "100%|██████████| 2/2 [00:00<00:00,  5.43it/s]\n",
      "  0%|          | 0/2 [00:00<?, ?it/s]"
     ]
    },
    {
     "name": "stdout",
     "output_type": "stream",
     "text": [
      "Epoch 78, Loss: 8498.729736328125\n",
      "Epoch 78, Loss: 8046.226806640625\n",
      "Epoch 78, Loss: 9408.3818359375\n"
     ]
    },
    {
     "name": "stderr",
     "output_type": "stream",
     "text": [
      "100%|██████████| 2/2 [00:00<00:00,  5.56it/s]\n",
      "100%|██████████| 2/2 [00:00<00:00,  5.55it/s]\n",
      "100%|██████████| 2/2 [00:00<00:00,  5.56it/s]\n",
      "  0%|          | 0/2 [00:00<?, ?it/s]"
     ]
    },
    {
     "name": "stdout",
     "output_type": "stream",
     "text": [
      "Epoch 79, Loss: 11099.09130859375\n",
      "Epoch 79, Loss: 9876.5107421875\n",
      "Epoch 79, Loss: 11422.843017578125\n"
     ]
    },
    {
     "name": "stderr",
     "output_type": "stream",
     "text": [
      "100%|██████████| 2/2 [00:00<00:00,  5.16it/s]\n",
      "\n",
      "100%|██████████| 2/2 [00:00<00:00,  5.15it/s]\n",
      "  0%|          | 0/2 [00:00<?, ?it/s]"
     ]
    },
    {
     "name": "stdout",
     "output_type": "stream",
     "text": [
      "Epoch 80, Loss: 7923.06884765625\n",
      "Epoch 80, Loss: 6272.336669921875\n",
      "Epoch 80, Loss: 7708.16162109375\n"
     ]
    },
    {
     "name": "stderr",
     "output_type": "stream",
     "text": [
      "100%|██████████| 2/2 [00:00<00:00,  5.18it/s]\n",
      "100%|██████████| 2/2 [00:00<00:00,  5.18it/s]\n",
      "100%|██████████| 2/2 [00:00<00:00,  5.18it/s]\n",
      "  0%|          | 0/2 [00:00<?, ?it/s]"
     ]
    },
    {
     "name": "stdout",
     "output_type": "stream",
     "text": [
      "Epoch 81, Loss: 4678.908203125\n",
      "Epoch 81, Loss: 4028.457763671875\n",
      "Epoch 81, Loss: 4565.10498046875\n"
     ]
    },
    {
     "name": "stderr",
     "output_type": "stream",
     "text": [
      "100%|██████████| 2/2 [00:00<00:00,  5.47it/s]\n",
      "100%|██████████| 2/2 [00:00<00:00,  5.47it/s]\n",
      "100%|██████████| 2/2 [00:00<00:00,  5.47it/s]\n",
      "  0%|          | 0/2 [00:00<?, ?it/s]"
     ]
    },
    {
     "name": "stdout",
     "output_type": "stream",
     "text": [
      "Epoch 82, Loss: 3820.154052734375\n",
      "Epoch 82, Loss: 3998.3927001953125\n",
      "Epoch 82, Loss: 3727.223876953125\n"
     ]
    },
    {
     "name": "stderr",
     "output_type": "stream",
     "text": [
      "100%|██████████| 2/2 [00:00<00:00,  5.46it/s]\n",
      "\n",
      "100%|██████████| 2/2 [00:00<00:00,  5.46it/s]\n",
      "  0%|          | 0/2 [00:00<?, ?it/s]"
     ]
    },
    {
     "name": "stdout",
     "output_type": "stream",
     "text": [
      "Epoch 83, Loss: 5096.3836669921875\n",
      "Epoch 83, Loss: 5740.073974609375\n",
      "Epoch 83, Loss: 5159.145263671875\n"
     ]
    },
    {
     "name": "stderr",
     "output_type": "stream",
     "text": [
      "100%|██████████| 2/2 [00:00<00:00,  5.73it/s]\n",
      "100%|██████████| 2/2 [00:00<00:00,  5.74it/s]\n",
      "100%|██████████| 2/2 [00:00<00:00,  5.72it/s]\n",
      "  0%|          | 0/2 [00:00<?, ?it/s]"
     ]
    },
    {
     "name": "stdout",
     "output_type": "stream",
     "text": [
      "Epoch 84, Loss: 5849.814697265625\n",
      "Epoch 84, Loss: 5146.964599609375\n",
      "Epoch 84, Loss: 4819.798095703125\n"
     ]
    },
    {
     "name": "stderr",
     "output_type": "stream",
     "text": [
      "100%|██████████| 2/2 [00:00<00:00,  5.82it/s]\n",
      "100%|██████████| 2/2 [00:00<00:00,  5.81it/s]\n",
      "100%|██████████| 2/2 [00:00<00:00,  5.79it/s]\n",
      "  0%|          | 0/2 [00:00<?, ?it/s]"
     ]
    },
    {
     "name": "stdout",
     "output_type": "stream",
     "text": [
      "Epoch 85, Loss: 6049.729736328125\n",
      "Epoch 85, Loss: 6259.279052734375\n",
      "Epoch 85, Loss: 5335.5185546875\n"
     ]
    },
    {
     "name": "stderr",
     "output_type": "stream",
     "text": [
      "100%|██████████| 2/2 [00:00<00:00,  5.56it/s]\n",
      "100%|██████████| 2/2 [00:00<00:00,  5.57it/s]\n",
      "100%|██████████| 2/2 [00:00<00:00,  5.55it/s]\n",
      "  0%|          | 0/2 [00:00<?, ?it/s]"
     ]
    },
    {
     "name": "stdout",
     "output_type": "stream",
     "text": [
      "Epoch 86, Loss: 5178.309814453125\n",
      "Epoch 86, Loss: 4614.44970703125\n",
      "Epoch 86, Loss: 4903.044921875\n"
     ]
    },
    {
     "name": "stderr",
     "output_type": "stream",
     "text": [
      "100%|██████████| 2/2 [00:00<00:00,  5.62it/s]\n",
      "100%|██████████| 2/2 [00:00<00:00,  5.61it/s]\n",
      "  0%|          | 0/2 [00:00<?, ?it/s].62it/s]\n",
      "  0%|          | 0/2 [00:00<?, ?it/s]"
     ]
    },
    {
     "name": "stdout",
     "output_type": "stream",
     "text": [
      "Epoch 87, Loss: 4972.220947265625\n",
      "Epoch 87, Loss: 4785.542724609375\n",
      "Epoch 87, Loss: 4841.318359375\n"
     ]
    },
    {
     "name": "stderr",
     "output_type": "stream",
     "text": [
      "100%|██████████| 2/2 [00:00<00:00,  5.61it/s]\n",
      "100%|██████████| 2/2 [00:00<00:00,  5.58it/s]\n",
      "100%|██████████| 2/2 [00:00<00:00,  5.58it/s]\n",
      "  0%|          | 0/2 [00:00<?, ?it/s]"
     ]
    },
    {
     "name": "stdout",
     "output_type": "stream",
     "text": [
      "Epoch 88, Loss: 3777.7969970703125\n",
      "Epoch 88, Loss: 3901.967041015625\n",
      "Epoch 88, Loss: 3754.8197021484375\n"
     ]
    },
    {
     "name": "stderr",
     "output_type": "stream",
     "text": [
      "100%|██████████| 2/2 [00:00<00:00,  5.50it/s]\n",
      "100%|██████████| 2/2 [00:00<00:00,  5.50it/s]\n",
      "100%|██████████| 2/2 [00:00<00:00,  5.50it/s]\n",
      "  0%|          | 0/2 [00:00<?, ?it/s]"
     ]
    },
    {
     "name": "stdout",
     "output_type": "stream",
     "text": [
      "Epoch 89, Loss: 3716.6490478515625\n",
      "Epoch 89, Loss: 3466.0379638671875\n",
      "Epoch 89, Loss: 3581.2906494140625\n"
     ]
    },
    {
     "name": "stderr",
     "output_type": "stream",
     "text": [
      "100%|██████████| 2/2 [00:00<00:00,  5.84it/s]\n",
      "100%|██████████| 2/2 [00:00<00:00,  5.83it/s]\n",
      "100%|██████████| 2/2 [00:00<00:00,  5.82it/s]\n",
      "  0%|          | 0/2 [00:00<?, ?it/s]"
     ]
    },
    {
     "name": "stdout",
     "output_type": "stream",
     "text": [
      "Epoch 90, Loss: 3268.44775390625\n",
      "Epoch 90, Loss: 3195.9903564453125\n",
      "Epoch 90, Loss: 3329.846435546875\n"
     ]
    },
    {
     "name": "stderr",
     "output_type": "stream",
     "text": [
      "100%|██████████| 2/2 [00:00<00:00,  5.44it/s]\n",
      "100%|██████████| 2/2 [00:00<00:00,  5.43it/s]\n",
      "100%|██████████| 2/2 [00:00<00:00,  5.42it/s]\n",
      "  0%|          | 0/2 [00:00<?, ?it/s]"
     ]
    },
    {
     "name": "stdout",
     "output_type": "stream",
     "text": [
      "Epoch 91, Loss: 3271.796875\n",
      "Epoch 91, Loss: 2982.928955078125\n",
      "Epoch 91, Loss: 2971.011962890625\n"
     ]
    },
    {
     "name": "stderr",
     "output_type": "stream",
     "text": [
      "100%|██████████| 2/2 [00:00<00:00,  5.39it/s]\n",
      "100%|██████████| 2/2 [00:00<00:00,  5.39it/s]\n",
      "100%|██████████| 2/2 [00:00<00:00,  5.38it/s]\n",
      "  0%|          | 0/2 [00:00<?, ?it/s]"
     ]
    },
    {
     "name": "stdout",
     "output_type": "stream",
     "text": [
      "Epoch 92, Loss: 3166.705810546875\n",
      "Epoch 92, Loss: 2967.7197265625\n",
      "Epoch 92, Loss: 3019.787109375\n"
     ]
    },
    {
     "name": "stderr",
     "output_type": "stream",
     "text": [
      "100%|██████████| 2/2 [00:00<00:00,  5.49it/s]\n",
      "100%|██████████| 2/2 [00:00<00:00,  5.50it/s]\n",
      "100%|██████████| 2/2 [00:00<00:00,  5.48it/s]\n",
      "  0%|          | 0/2 [00:00<?, ?it/s]"
     ]
    },
    {
     "name": "stdout",
     "output_type": "stream",
     "text": [
      "Epoch 93, Loss: 3357.4814453125\n",
      "Epoch 93, Loss: 3068.15478515625\n",
      "Epoch 93, Loss: 3260.79541015625\n"
     ]
    },
    {
     "name": "stderr",
     "output_type": "stream",
     "text": [
      "100%|██████████| 2/2 [00:00<00:00,  5.64it/s]\n",
      "100%|██████████| 2/2 [00:00<00:00,  5.63it/s]\n",
      "100%|██████████| 2/2 [00:00<00:00,  5.62it/s]\n",
      "  0%|          | 0/2 [00:00<?, ?it/s]"
     ]
    },
    {
     "name": "stdout",
     "output_type": "stream",
     "text": [
      "Epoch 94, Loss: 3587.2703857421875\n",
      "Epoch 94, Loss: 2972.344970703125\n",
      "Epoch 94, Loss: 3163.696533203125\n"
     ]
    },
    {
     "name": "stderr",
     "output_type": "stream",
     "text": [
      "100%|██████████| 2/2 [00:00<00:00,  5.58it/s]\n",
      "\n",
      "100%|██████████| 2/2 [00:00<00:00,  5.56it/s]\n",
      "  0%|          | 0/2 [00:00<?, ?it/s]"
     ]
    },
    {
     "name": "stdout",
     "output_type": "stream",
     "text": [
      "Epoch 95, Loss: 3153.8458251953125\n",
      "Epoch 95, Loss: 2996.1595458984375\n",
      "Epoch 95, Loss: 2866.5743408203125\n"
     ]
    },
    {
     "name": "stderr",
     "output_type": "stream",
     "text": [
      "100%|██████████| 2/2 [00:00<00:00,  5.49it/s]\n",
      "100%|██████████| 2/2 [00:00<00:00,  5.50it/s]\n",
      "100%|██████████| 2/2 [00:00<00:00,  5.47it/s]\n",
      "  0%|          | 0/2 [00:00<?, ?it/s]"
     ]
    },
    {
     "name": "stdout",
     "output_type": "stream",
     "text": [
      "Epoch 96, Loss: 3037.663330078125\n",
      "Epoch 96, Loss: 2894.083984375\n",
      "Epoch 96, Loss: 3063.453857421875\n"
     ]
    },
    {
     "name": "stderr",
     "output_type": "stream",
     "text": [
      "100%|██████████| 2/2 [00:00<00:00,  5.57it/s]\n",
      "100%|██████████| 2/2 [00:00<00:00,  5.56it/s]\n",
      "100%|██████████| 2/2 [00:00<00:00,  5.55it/s]\n",
      "  0%|          | 0/2 [00:00<?, ?it/s]"
     ]
    },
    {
     "name": "stdout",
     "output_type": "stream",
     "text": [
      "Epoch 97, Loss: 2970.017333984375\n",
      "Epoch 97, Loss: 2722.913818359375\n",
      "Epoch 97, Loss: 2915.4271240234375\n"
     ]
    },
    {
     "name": "stderr",
     "output_type": "stream",
     "text": [
      "100%|██████████| 2/2 [00:00<00:00,  5.39it/s]\n",
      "100%|██████████| 2/2 [00:00<00:00,  5.40it/s]\n",
      "100%|██████████| 2/2 [00:00<00:00,  5.40it/s]\n",
      "  0%|          | 0/2 [00:00<?, ?it/s]"
     ]
    },
    {
     "name": "stdout",
     "output_type": "stream",
     "text": [
      "Epoch 98, Loss: 2882.07958984375\n",
      "Epoch 98, Loss: 2748.4525146484375\n",
      "Epoch 98, Loss: 2658.001708984375\n"
     ]
    },
    {
     "name": "stderr",
     "output_type": "stream",
     "text": [
      "100%|██████████| 2/2 [00:00<00:00,  5.39it/s]\n",
      "100%|██████████| 2/2 [00:00<00:00,  5.38it/s]\n",
      "100%|██████████| 2/2 [00:00<00:00,  5.38it/s]\n",
      "  0%|          | 0/2 [00:00<?, ?it/s]"
     ]
    },
    {
     "name": "stdout",
     "output_type": "stream",
     "text": [
      "Epoch 99, Loss: 2601.194091796875\n",
      "Epoch 99, Loss: 2985.7694091796875\n",
      "Epoch 99, Loss: 2718.36767578125\n"
     ]
    },
    {
     "name": "stderr",
     "output_type": "stream",
     "text": [
      "100%|██████████| 2/2 [00:00<00:00,  5.47it/s]\n",
      "100%|██████████| 2/2 [00:00<00:00,  5.45it/s]\n",
      "100%|██████████| 2/2 [00:00<00:00,  5.45it/s]\n"
     ]
    },
    {
     "name": "stdout",
     "output_type": "stream",
     "text": [
      "Epoch 100, Loss: 2575.11669921875\n",
      "Training time: 36.433953285217285 seconds\n",
      "Epoch 100, Loss: 2794.421875\n",
      "Training time: 36.433690309524536 seconds\n",
      "Epoch 100, Loss: 2833.53857421875\n",
      "Training time: 36.435166358947754 seconds\n",
      "Training time: 42.32234811782837 seconds\n"
     ]
    }
   ],
   "source": [
    "import time\n",
    "\n",
    "start_time = time.time()\n",
    "if __name__ == '__main__':\n",
    "    num_gpus = 3\n",
    "    import torch.multiprocessing as mp\n",
    "    mp.spawn(run, args=(list(range(num_gpus)),dgl_graph), nprocs=num_gpus)\n",
    "\n",
    "end_time = time.time()\n",
    "elapsed_time = end_time - start_time\n",
    "\n",
    "print(f\"Training time: {elapsed_time} seconds\")"
   ]
  },
  {
   "cell_type": "code",
   "execution_count": 29,
   "metadata": {},
   "outputs": [
    {
     "name": "stderr",
     "output_type": "stream",
     "text": [
      "/home/rxf131/ondemand/ubuntu2204/python310/torch_geometric/typing.py:47: UserWarning: An issue occurred while importing 'pyg-lib'. Disabling its usage. Stacktrace: libcudart.so.12: cannot open shared object file: No such file or directory\n",
      "  warnings.warn(f\"An issue occurred while importing 'pyg-lib'. \"\n",
      "/home/rxf131/ondemand/ubuntu2204/python310/torch_geometric/typing.py:47: UserWarning: An issue occurred while importing 'pyg-lib'. Disabling its usage. Stacktrace: libcudart.so.12: cannot open shared object file: No such file or directory\n",
      "  warnings.warn(f\"An issue occurred while importing 'pyg-lib'. \"\n",
      "/home/rxf131/ondemand/ubuntu2204/python310/torch_geometric/typing.py:101: UserWarning: An issue occurred while importing 'torch-sparse'. Disabling its usage. Stacktrace: libcudart.so.12: cannot open shared object file: No such file or directory\n",
      "  warnings.warn(f\"An issue occurred while importing 'torch-sparse'. \"\n",
      "/home/rxf131/ondemand/ubuntu2204/python310/torch_geometric/typing.py:101: UserWarning: An issue occurred while importing 'torch-sparse'. Disabling its usage. Stacktrace: libcudart.so.12: cannot open shared object file: No such file or directory\n",
      "  warnings.warn(f\"An issue occurred while importing 'torch-sparse'. \"\n",
      "100%|██████████| 3/3 [00:00<00:00,  6.67it/s]\n",
      "100%|██████████| 3/3 [00:00<00:00,  6.67it/s]\n",
      " 33%|███▎      | 1/3 [00:00<00:00,  9.39it/s]"
     ]
    },
    {
     "name": "stdout",
     "output_type": "stream",
     "text": [
      "Epoch 1, Loss: 11916703.40625\n",
      "Epoch 1, Loss: 13506773.875\n"
     ]
    },
    {
     "name": "stderr",
     "output_type": "stream",
     "text": [
      "100%|██████████| 3/3 [00:00<00:00, 10.31it/s]\n",
      "100%|██████████| 3/3 [00:00<00:00, 10.27it/s]\n",
      " 33%|███▎      | 1/3 [00:00<00:00,  6.41it/s]"
     ]
    },
    {
     "name": "stdout",
     "output_type": "stream",
     "text": [
      "Epoch 2, Loss: 4416471.208333333\n",
      "Epoch 2, Loss: 4243355.708333333\n"
     ]
    },
    {
     "name": "stderr",
     "output_type": "stream",
     "text": [
      "100%|██████████| 3/3 [00:00<00:00,  8.90it/s]\n",
      "100%|██████████| 3/3 [00:00<00:00,  8.88it/s]\n",
      " 33%|███▎      | 1/3 [00:00<00:00,  8.90it/s]"
     ]
    },
    {
     "name": "stdout",
     "output_type": "stream",
     "text": [
      "Epoch 3, Loss: 2188356.7291666665\n",
      "Epoch 3, Loss: 1904191.4583333333\n"
     ]
    },
    {
     "name": "stderr",
     "output_type": "stream",
     "text": [
      "100%|██████████| 3/3 [00:00<00:00,  9.99it/s]\n",
      "100%|██████████| 3/3 [00:00<00:00, 10.01it/s]\n",
      "  0%|          | 0/3 [00:00<?, ?it/s]"
     ]
    },
    {
     "name": "stdout",
     "output_type": "stream",
     "text": [
      "Epoch 4, Loss: 2253668.5\n",
      "Epoch 4, Loss: 2372747.1666666665\n"
     ]
    },
    {
     "name": "stderr",
     "output_type": "stream",
     "text": [
      "100%|██████████| 3/3 [00:00<00:00,  9.78it/s]\n",
      "100%|██████████| 3/3 [00:00<00:00,  9.78it/s]\n",
      "  0%|          | 0/3 [00:00<?, ?it/s]"
     ]
    },
    {
     "name": "stdout",
     "output_type": "stream",
     "text": [
      "Epoch 5, Loss: 1766773.3541666667\n",
      "Epoch 5, Loss: 2158335.2708333335\n"
     ]
    },
    {
     "name": "stderr",
     "output_type": "stream",
     "text": [
      "100%|██████████| 3/3 [00:00<00:00,  8.39it/s]\n",
      "100%|██████████| 3/3 [00:00<00:00,  8.37it/s]\n",
      " 33%|███▎      | 1/3 [00:00<00:00,  7.06it/s]"
     ]
    },
    {
     "name": "stdout",
     "output_type": "stream",
     "text": [
      "Epoch 6, Loss: 2223158.3333333335\n",
      "Epoch 6, Loss: 2455836.6979166665\n"
     ]
    },
    {
     "name": "stderr",
     "output_type": "stream",
     "text": [
      "100%|██████████| 3/3 [00:00<00:00,  8.87it/s]\n",
      "100%|██████████| 3/3 [00:00<00:00,  8.87it/s]\n",
      "  0%|          | 0/3 [00:00<?, ?it/s]"
     ]
    },
    {
     "name": "stdout",
     "output_type": "stream",
     "text": [
      "Epoch 7, Loss: 2522196.03125\n",
      "Epoch 7, Loss: 2216639.7395833335\n"
     ]
    },
    {
     "name": "stderr",
     "output_type": "stream",
     "text": [
      "100%|██████████| 3/3 [00:00<00:00,  9.43it/s]\n",
      "100%|██████████| 3/3 [00:00<00:00,  9.42it/s]\n",
      "  0%|          | 0/3 [00:00<?, ?it/s]"
     ]
    },
    {
     "name": "stdout",
     "output_type": "stream",
     "text": [
      "Epoch 8, Loss: 1464609.1666666667\n",
      "Epoch 8, Loss: 1597858.8125\n"
     ]
    },
    {
     "name": "stderr",
     "output_type": "stream",
     "text": [
      "100%|██████████| 3/3 [00:00<00:00,  8.82it/s]\n",
      "100%|██████████| 3/3 [00:00<00:00,  8.82it/s]\n",
      "  0%|          | 0/3 [00:00<?, ?it/s]"
     ]
    },
    {
     "name": "stdout",
     "output_type": "stream",
     "text": [
      "Epoch 9, Loss: 370596.7083333333\n",
      "Epoch 9, Loss: 445843.4895833333\n"
     ]
    },
    {
     "name": "stderr",
     "output_type": "stream",
     "text": [
      "100%|██████████| 3/3 [00:00<00:00, 11.29it/s]\n",
      "100%|██████████| 3/3 [00:00<00:00, 11.28it/s]\n",
      "  0%|          | 0/3 [00:00<?, ?it/s]"
     ]
    },
    {
     "name": "stdout",
     "output_type": "stream",
     "text": [
      "Epoch 10, Loss: 652039.9134114584\n",
      "Epoch 10, Loss: 656818.3489583334\n"
     ]
    },
    {
     "name": "stderr",
     "output_type": "stream",
     "text": [
      "100%|██████████| 3/3 [00:00<00:00,  9.66it/s]\n",
      "100%|██████████| 3/3 [00:00<00:00,  9.67it/s]\n",
      "  0%|          | 0/3 [00:00<?, ?it/s]"
     ]
    },
    {
     "name": "stdout",
     "output_type": "stream",
     "text": [
      "Epoch 11, Loss: 568960.7916666666\n",
      "Epoch 11, Loss: 473677.9166666667\n"
     ]
    },
    {
     "name": "stderr",
     "output_type": "stream",
     "text": [
      "100%|██████████| 3/3 [00:00<00:00,  8.52it/s]\n",
      "100%|██████████| 3/3 [00:00<00:00,  8.53it/s]\n",
      " 33%|███▎      | 1/3 [00:00<00:00,  7.30it/s]"
     ]
    },
    {
     "name": "stdout",
     "output_type": "stream",
     "text": [
      "Epoch 12, Loss: 140892.703125\n",
      "Epoch 12, Loss: 131216.85026041666\n"
     ]
    },
    {
     "name": "stderr",
     "output_type": "stream",
     "text": [
      "100%|██████████| 3/3 [00:00<00:00,  9.21it/s]\n",
      "100%|██████████| 3/3 [00:00<00:00,  9.20it/s]\n",
      " 33%|███▎      | 1/3 [00:00<00:00,  6.54it/s]"
     ]
    },
    {
     "name": "stdout",
     "output_type": "stream",
     "text": [
      "Epoch 13, Loss: 322938.3098958333\n",
      "Epoch 13, Loss: 302367.578125\n"
     ]
    },
    {
     "name": "stderr",
     "output_type": "stream",
     "text": [
      "100%|██████████| 3/3 [00:00<00:00, 10.62it/s]\n",
      "100%|██████████| 3/3 [00:00<00:00, 10.57it/s]\n",
      " 33%|███▎      | 1/3 [00:00<00:00,  9.08it/s]"
     ]
    },
    {
     "name": "stdout",
     "output_type": "stream",
     "text": [
      "Epoch 14, Loss: 51554.983072916664\n",
      "Epoch 14, Loss: 59912.67578125\n"
     ]
    },
    {
     "name": "stderr",
     "output_type": "stream",
     "text": [
      "100%|██████████| 3/3 [00:00<00:00, 10.19it/s]\n",
      "100%|██████████| 3/3 [00:00<00:00, 10.18it/s]\n",
      " 33%|███▎      | 1/3 [00:00<00:00,  8.88it/s]"
     ]
    },
    {
     "name": "stdout",
     "output_type": "stream",
     "text": [
      "Epoch 15, Loss: 194688.78645833334\n",
      "Epoch 15, Loss: 225227.97786458334\n"
     ]
    },
    {
     "name": "stderr",
     "output_type": "stream",
     "text": [
      "100%|██████████| 3/3 [00:00<00:00,  9.75it/s]\n",
      "100%|██████████| 3/3 [00:00<00:00,  9.70it/s]\n",
      "  0%|          | 0/3 [00:00<?, ?it/s]"
     ]
    },
    {
     "name": "stdout",
     "output_type": "stream",
     "text": [
      "Epoch 16, Loss: 114584.40755208333\n",
      "Epoch 16, Loss: 106843.10416666667\n"
     ]
    },
    {
     "name": "stderr",
     "output_type": "stream",
     "text": [
      "100%|██████████| 3/3 [00:00<00:00,  9.51it/s]\n",
      "100%|██████████| 3/3 [00:00<00:00,  9.51it/s]\n",
      "  0%|          | 0/3 [00:00<?, ?it/s]"
     ]
    },
    {
     "name": "stdout",
     "output_type": "stream",
     "text": [
      "Epoch 17, Loss: 223983.98958333334\n",
      "Epoch 17, Loss: 239785.0859375\n"
     ]
    },
    {
     "name": "stderr",
     "output_type": "stream",
     "text": [
      "100%|██████████| 3/3 [00:00<00:00,  9.05it/s]\n",
      "100%|██████████| 3/3 [00:00<00:00,  9.04it/s]\n",
      " 33%|███▎      | 1/3 [00:00<00:00,  8.24it/s]"
     ]
    },
    {
     "name": "stdout",
     "output_type": "stream",
     "text": [
      "Epoch 18, Loss: 208550.626953125\n",
      "Epoch 18, Loss: 232078.37760416666\n"
     ]
    },
    {
     "name": "stderr",
     "output_type": "stream",
     "text": [
      "100%|██████████| 3/3 [00:00<00:00,  9.40it/s]\n",
      "100%|██████████| 3/3 [00:00<00:00,  9.41it/s]\n",
      "  0%|          | 0/3 [00:00<?, ?it/s]"
     ]
    },
    {
     "name": "stdout",
     "output_type": "stream",
     "text": [
      "Epoch 19, Loss: 194481.8671875\n",
      "Epoch 19, Loss: 228790.23697916666\n"
     ]
    },
    {
     "name": "stderr",
     "output_type": "stream",
     "text": [
      "100%|██████████| 3/3 [00:00<00:00,  9.79it/s]\n",
      "100%|██████████| 3/3 [00:00<00:00,  9.74it/s]\n",
      "  0%|          | 0/3 [00:00<?, ?it/s]"
     ]
    },
    {
     "name": "stdout",
     "output_type": "stream",
     "text": [
      "Epoch 20, Loss: 216201.19986979166\n",
      "Epoch 20, Loss: 239451.951171875\n"
     ]
    },
    {
     "name": "stderr",
     "output_type": "stream",
     "text": [
      "100%|██████████| 3/3 [00:00<00:00,  9.08it/s]\n",
      "100%|██████████| 3/3 [00:00<00:00,  9.04it/s]\n",
      " 33%|███▎      | 1/3 [00:00<00:00,  6.85it/s]"
     ]
    },
    {
     "name": "stdout",
     "output_type": "stream",
     "text": [
      "Epoch 21, Loss: 216579.92447916666\n",
      "Epoch 21, Loss: 174622.82552083334\n"
     ]
    },
    {
     "name": "stderr",
     "output_type": "stream",
     "text": [
      "100%|██████████| 3/3 [00:00<00:00,  9.06it/s]\n",
      "100%|██████████| 3/3 [00:00<00:00,  9.03it/s]\n",
      "  0%|          | 0/3 [00:00<?, ?it/s]"
     ]
    },
    {
     "name": "stdout",
     "output_type": "stream",
     "text": [
      "Epoch 22, Loss: 58765.87890625\n",
      "Epoch 22, Loss: 62493.678385416664\n"
     ]
    },
    {
     "name": "stderr",
     "output_type": "stream",
     "text": [
      "100%|██████████| 3/3 [00:00<00:00,  8.84it/s]\n",
      "100%|██████████| 3/3 [00:00<00:00,  8.82it/s]\n",
      "  0%|          | 0/3 [00:00<?, ?it/s]"
     ]
    },
    {
     "name": "stdout",
     "output_type": "stream",
     "text": [
      "Epoch 23, Loss: 56695.759765625\n",
      "Epoch 23, Loss: 50883.44921875\n"
     ]
    },
    {
     "name": "stderr",
     "output_type": "stream",
     "text": [
      "100%|██████████| 3/3 [00:00<00:00,  8.86it/s]\n",
      "100%|██████████| 3/3 [00:00<00:00,  8.85it/s]\n",
      "  0%|          | 0/3 [00:00<?, ?it/s]"
     ]
    },
    {
     "name": "stdout",
     "output_type": "stream",
     "text": [
      "Epoch 24, Loss: 148952.63541666666\n",
      "Epoch 24, Loss: 126736.20052083333\n"
     ]
    },
    {
     "name": "stderr",
     "output_type": "stream",
     "text": [
      "100%|██████████| 3/3 [00:00<00:00,  9.30it/s]\n",
      "100%|██████████| 3/3 [00:00<00:00,  9.30it/s]\n",
      "  0%|          | 0/3 [00:00<?, ?it/s]"
     ]
    },
    {
     "name": "stdout",
     "output_type": "stream",
     "text": [
      "Epoch 25, Loss: 87781.31380208333\n",
      "Epoch 25, Loss: 78152.29947916667\n"
     ]
    },
    {
     "name": "stderr",
     "output_type": "stream",
     "text": [
      "100%|██████████| 3/3 [00:00<00:00,  9.08it/s]\n",
      "100%|██████████| 3/3 [00:00<00:00,  9.07it/s]\n",
      "  0%|          | 0/3 [00:00<?, ?it/s]"
     ]
    },
    {
     "name": "stdout",
     "output_type": "stream",
     "text": [
      "Epoch 26, Loss: 25926.3984375\n",
      "Epoch 26, Loss: 32070.091145833332\n"
     ]
    },
    {
     "name": "stderr",
     "output_type": "stream",
     "text": [
      "100%|██████████| 3/3 [00:00<00:00,  9.46it/s]\n",
      "100%|██████████| 3/3 [00:00<00:00,  9.44it/s]\n",
      " 33%|███▎      | 1/3 [00:00<00:00,  7.42it/s]"
     ]
    },
    {
     "name": "stdout",
     "output_type": "stream",
     "text": [
      "Epoch 27, Loss: 15897.8740234375\n",
      "Epoch 27, Loss: 16344.968424479166\n"
     ]
    },
    {
     "name": "stderr",
     "output_type": "stream",
     "text": [
      "100%|██████████| 3/3 [00:00<00:00,  9.33it/s]\n",
      "100%|██████████| 3/3 [00:00<00:00,  9.33it/s]\n",
      "  0%|          | 0/3 [00:00<?, ?it/s]"
     ]
    },
    {
     "name": "stdout",
     "output_type": "stream",
     "text": [
      "Epoch 28, Loss: 35895.177083333336\n",
      "Epoch 28, Loss: 25042.574544270832\n"
     ]
    },
    {
     "name": "stderr",
     "output_type": "stream",
     "text": [
      "100%|██████████| 3/3 [00:00<00:00,  9.00it/s]\n"
     ]
    },
    {
     "name": "stdout",
     "output_type": "stream",
     "text": [
      "Epoch 29, Loss: 44769.876139322914\n",
      "Epoch 29, Loss: 50122.471028645836\n"
     ]
    },
    {
     "name": "stderr",
     "output_type": "stream",
     "text": [
      "100%|██████████| 3/3 [00:00<00:00,  9.00it/s]\n",
      "100%|██████████| 3/3 [00:00<00:00,  9.80it/s]\n",
      "100%|██████████| 3/3 [00:00<00:00,  9.77it/s]\n",
      " 33%|███▎      | 1/3 [00:00<00:00,  7.76it/s]"
     ]
    },
    {
     "name": "stdout",
     "output_type": "stream",
     "text": [
      "Epoch 30, Loss: 28935.822265625\n",
      "Epoch 30, Loss: 34466.134765625\n"
     ]
    },
    {
     "name": "stderr",
     "output_type": "stream",
     "text": [
      "100%|██████████| 3/3 [00:00<00:00,  9.08it/s]\n",
      "100%|██████████| 3/3 [00:00<00:00,  9.08it/s]\n",
      " 33%|███▎      | 1/3 [00:00<00:00,  7.04it/s]"
     ]
    },
    {
     "name": "stdout",
     "output_type": "stream",
     "text": [
      "Epoch 31, Loss: 19124.052734375\n",
      "Epoch 31, Loss: 18463.605794270832\n"
     ]
    },
    {
     "name": "stderr",
     "output_type": "stream",
     "text": [
      "100%|██████████| 3/3 [00:00<00:00,  9.40it/s]\n",
      "100%|██████████| 3/3 [00:00<00:00,  9.40it/s]\n",
      "  0%|          | 0/3 [00:00<?, ?it/s]"
     ]
    },
    {
     "name": "stdout",
     "output_type": "stream",
     "text": [
      "Epoch 32, Loss: 11638.1533203125\n",
      "Epoch 32, Loss: 9991.709309895834\n"
     ]
    },
    {
     "name": "stderr",
     "output_type": "stream",
     "text": [
      "100%|██████████| 3/3 [00:00<00:00,  9.91it/s]\n",
      "100%|██████████| 3/3 [00:00<00:00,  9.88it/s]\n",
      "  0%|          | 0/3 [00:00<?, ?it/s]"
     ]
    },
    {
     "name": "stdout",
     "output_type": "stream",
     "text": [
      "Epoch 33, Loss: 33208.460611979164\n",
      "Epoch 33, Loss: 32959.216796875\n"
     ]
    },
    {
     "name": "stderr",
     "output_type": "stream",
     "text": [
      "100%|██████████| 3/3 [00:00<00:00,  8.95it/s]\n",
      "100%|██████████| 3/3 [00:00<00:00,  8.95it/s]\n",
      " 33%|███▎      | 1/3 [00:00<00:00,  8.87it/s]"
     ]
    },
    {
     "name": "stdout",
     "output_type": "stream",
     "text": [
      "Epoch 34, Loss: 74193.76822916667\n",
      "Epoch 34, Loss: 71719.388671875\n"
     ]
    },
    {
     "name": "stderr",
     "output_type": "stream",
     "text": [
      "100%|██████████| 3/3 [00:00<00:00,  9.92it/s]\n",
      "100%|██████████| 3/3 [00:00<00:00,  9.89it/s]\n",
      "  0%|          | 0/3 [00:00<?, ?it/s]"
     ]
    },
    {
     "name": "stdout",
     "output_type": "stream",
     "text": [
      "Epoch 35, Loss: 123276.685546875\n",
      "Epoch 35, Loss: 123961.876953125\n"
     ]
    },
    {
     "name": "stderr",
     "output_type": "stream",
     "text": [
      "100%|██████████| 3/3 [00:00<00:00,  9.70it/s]\n",
      "100%|██████████| 3/3 [00:00<00:00,  9.70it/s]\n",
      "  0%|          | 0/3 [00:00<?, ?it/s]"
     ]
    },
    {
     "name": "stdout",
     "output_type": "stream",
     "text": [
      "Epoch 36, Loss: 419197.9765625\n",
      "Epoch 36, Loss: 415479.3619791667\n"
     ]
    },
    {
     "name": "stderr",
     "output_type": "stream",
     "text": [
      "100%|██████████| 3/3 [00:00<00:00,  9.71it/s]\n",
      "100%|██████████| 3/3 [00:00<00:00,  9.72it/s]\n",
      "  0%|          | 0/3 [00:00<?, ?it/s]"
     ]
    },
    {
     "name": "stdout",
     "output_type": "stream",
     "text": [
      "Epoch 37, Loss: 1050782.6272786458\n",
      "Epoch 37, Loss: 891091.4830729166\n"
     ]
    },
    {
     "name": "stderr",
     "output_type": "stream",
     "text": [
      "100%|██████████| 3/3 [00:00<00:00,  9.57it/s]\n",
      "100%|██████████| 3/3 [00:00<00:00,  9.57it/s]\n",
      "  0%|          | 0/3 [00:00<?, ?it/s]"
     ]
    },
    {
     "name": "stdout",
     "output_type": "stream",
     "text": [
      "Epoch 38, Loss: 1260206.5208333333\n",
      "Epoch 38, Loss: 980450.03125\n"
     ]
    },
    {
     "name": "stderr",
     "output_type": "stream",
     "text": [
      "100%|██████████| 3/3 [00:00<00:00,  8.73it/s]\n",
      "100%|██████████| 3/3 [00:00<00:00,  8.73it/s]\n",
      "  0%|          | 0/3 [00:00<?, ?it/s]"
     ]
    },
    {
     "name": "stdout",
     "output_type": "stream",
     "text": [
      "Epoch 39, Loss: 275473.8873697917\n",
      "Epoch 39, Loss: 333976.22265625\n"
     ]
    },
    {
     "name": "stderr",
     "output_type": "stream",
     "text": [
      "100%|██████████| 3/3 [00:00<00:00,  9.94it/s]\n",
      "100%|██████████| 3/3 [00:00<00:00,  9.93it/s]\n",
      "  0%|          | 0/3 [00:00<?, ?it/s]"
     ]
    },
    {
     "name": "stdout",
     "output_type": "stream",
     "text": [
      "Epoch 40, Loss: 309149.4947916667\n",
      "Epoch 40, Loss: 290782.3046875\n"
     ]
    },
    {
     "name": "stderr",
     "output_type": "stream",
     "text": [
      "100%|██████████| 3/3 [00:00<00:00,  8.80it/s]\n",
      "100%|██████████| 3/3 [00:00<00:00,  8.81it/s]\n",
      " 33%|███▎      | 1/3 [00:00<00:00,  6.85it/s]"
     ]
    },
    {
     "name": "stdout",
     "output_type": "stream",
     "text": [
      "Epoch 41, Loss: 454572.4739583333\n",
      "Epoch 41, Loss: 437632.359375\n"
     ]
    },
    {
     "name": "stderr",
     "output_type": "stream",
     "text": [
      "100%|██████████| 3/3 [00:00<00:00,  8.31it/s]\n",
      "100%|██████████| 3/3 [00:00<00:00,  8.31it/s]\n",
      "  0%|          | 0/3 [00:00<?, ?it/s]"
     ]
    },
    {
     "name": "stdout",
     "output_type": "stream",
     "text": [
      "Epoch 42, Loss: 561159.2447916666\n",
      "Epoch 42, Loss: 520614.0\n"
     ]
    },
    {
     "name": "stderr",
     "output_type": "stream",
     "text": [
      "100%|██████████| 3/3 [00:00<00:00,  8.74it/s]\n",
      "100%|██████████| 3/3 [00:00<00:00,  8.75it/s]\n",
      " 33%|███▎      | 1/3 [00:00<00:00,  8.24it/s]"
     ]
    },
    {
     "name": "stdout",
     "output_type": "stream",
     "text": [
      "Epoch 43, Loss: 169899.7578125\n",
      "Epoch 43, Loss: 214085.44791666666\n"
     ]
    },
    {
     "name": "stderr",
     "output_type": "stream",
     "text": [
      "100%|██████████| 3/3 [00:00<00:00, 10.45it/s]\n",
      "100%|██████████| 3/3 [00:00<00:00, 10.43it/s]\n",
      " 33%|███▎      | 1/3 [00:00<00:00,  6.91it/s]"
     ]
    },
    {
     "name": "stdout",
     "output_type": "stream",
     "text": [
      "Epoch 44, Loss: 65138.689453125\n",
      "Epoch 44, Loss: 51073.381510416664\n"
     ]
    },
    {
     "name": "stderr",
     "output_type": "stream",
     "text": [
      "100%|██████████| 3/3 [00:00<00:00,  8.76it/s]\n",
      "100%|██████████| 3/3 [00:00<00:00,  8.72it/s]\n",
      "  0%|          | 0/3 [00:00<?, ?it/s]"
     ]
    },
    {
     "name": "stdout",
     "output_type": "stream",
     "text": [
      "Epoch 45, Loss: 31185.421549479168\n",
      "Epoch 45, Loss: 29491.7509765625\n"
     ]
    },
    {
     "name": "stderr",
     "output_type": "stream",
     "text": [
      "100%|██████████| 3/3 [00:00<00:00,  9.01it/s]\n",
      "100%|██████████| 3/3 [00:00<00:00,  8.98it/s]\n",
      " 33%|███▎      | 1/3 [00:00<00:00,  6.49it/s]"
     ]
    },
    {
     "name": "stdout",
     "output_type": "stream",
     "text": [
      "Epoch 46, Loss: 17482.194661458332\n",
      "Epoch 46, Loss: 25811.919270833332\n"
     ]
    },
    {
     "name": "stderr",
     "output_type": "stream",
     "text": [
      "100%|██████████| 3/3 [00:00<00:00,  8.87it/s]\n",
      "100%|██████████| 3/3 [00:00<00:00,  8.85it/s]\n",
      "  0%|          | 0/3 [00:00<?, ?it/s]"
     ]
    },
    {
     "name": "stdout",
     "output_type": "stream",
     "text": [
      "Epoch 47, Loss: 21118.403645833332\n",
      "Epoch 47, Loss: 19474.080729166668\n"
     ]
    },
    {
     "name": "stderr",
     "output_type": "stream",
     "text": [
      "100%|██████████| 3/3 [00:00<00:00,  9.21it/s]\n",
      "100%|██████████| 3/3 [00:00<00:00,  9.20it/s]\n",
      "  0%|          | 0/3 [00:00<?, ?it/s]"
     ]
    },
    {
     "name": "stdout",
     "output_type": "stream",
     "text": [
      "Epoch 48, Loss: 27809.881510416668\n",
      "Epoch 48, Loss: 19416.166015625\n"
     ]
    },
    {
     "name": "stderr",
     "output_type": "stream",
     "text": [
      "100%|██████████| 3/3 [00:00<00:00,  9.54it/s]\n",
      "100%|██████████| 3/3 [00:00<00:00,  9.55it/s]\n",
      "  0%|          | 0/3 [00:00<?, ?it/s]"
     ]
    },
    {
     "name": "stdout",
     "output_type": "stream",
     "text": [
      "Epoch 49, Loss: 26019.159830729168\n",
      "Epoch 49, Loss: 25237.015625\n"
     ]
    },
    {
     "name": "stderr",
     "output_type": "stream",
     "text": [
      "100%|██████████| 3/3 [00:00<00:00,  9.23it/s]\n",
      "100%|██████████| 3/3 [00:00<00:00,  9.20it/s]\n",
      "  0%|          | 0/3 [00:00<?, ?it/s]"
     ]
    },
    {
     "name": "stdout",
     "output_type": "stream",
     "text": [
      "Epoch 50, Loss: 36066.440104166664\n",
      "Epoch 50, Loss: 34238.221354166664\n"
     ]
    },
    {
     "name": "stderr",
     "output_type": "stream",
     "text": [
      "100%|██████████| 3/3 [00:00<00:00,  9.82it/s]\n",
      "100%|██████████| 3/3 [00:00<00:00,  9.82it/s]\n",
      "  0%|          | 0/3 [00:00<?, ?it/s]"
     ]
    },
    {
     "name": "stdout",
     "output_type": "stream",
     "text": [
      "Epoch 51, Loss: 53325.96875\n",
      "Epoch 51, Loss: 45848.87255859375\n"
     ]
    },
    {
     "name": "stderr",
     "output_type": "stream",
     "text": [
      "100%|██████████| 3/3 [00:00<00:00, 10.06it/s]\n",
      "100%|██████████| 3/3 [00:00<00:00, 10.06it/s]\n",
      "  0%|          | 0/3 [00:00<?, ?it/s]"
     ]
    },
    {
     "name": "stdout",
     "output_type": "stream",
     "text": [
      "Epoch 52, Loss: 63732.582682291664\n",
      "Epoch 52, Loss: 66296.75455729167\n"
     ]
    },
    {
     "name": "stderr",
     "output_type": "stream",
     "text": [
      "100%|██████████| 3/3 [00:00<00:00,  9.32it/s]\n",
      "100%|██████████| 3/3 [00:00<00:00,  9.29it/s]\n",
      "  0%|          | 0/3 [00:00<?, ?it/s]"
     ]
    },
    {
     "name": "stdout",
     "output_type": "stream",
     "text": [
      "Epoch 53, Loss: 72158.91861979167\n",
      "Epoch 53, Loss: 75058.51920572917\n"
     ]
    },
    {
     "name": "stderr",
     "output_type": "stream",
     "text": [
      "100%|██████████| 3/3 [00:00<00:00,  8.84it/s]\n",
      "100%|██████████| 3/3 [00:00<00:00,  8.82it/s]\n",
      " 33%|███▎      | 1/3 [00:00<00:00,  7.16it/s]"
     ]
    },
    {
     "name": "stdout",
     "output_type": "stream",
     "text": [
      "Epoch 54, Loss: 103555.51692708333\n",
      "Epoch 54, Loss: 93458.80338541667\n"
     ]
    },
    {
     "name": "stderr",
     "output_type": "stream",
     "text": [
      "100%|██████████| 3/3 [00:00<00:00,  8.86it/s]\n",
      "100%|██████████| 3/3 [00:00<00:00,  8.84it/s]\n",
      "  0%|          | 0/3 [00:00<?, ?it/s]"
     ]
    },
    {
     "name": "stdout",
     "output_type": "stream",
     "text": [
      "Epoch 55, Loss: 154404.58658854166\n",
      "Epoch 55, Loss: 165085.08626302084\n"
     ]
    },
    {
     "name": "stderr",
     "output_type": "stream",
     "text": [
      "100%|██████████| 3/3 [00:00<00:00,  9.71it/s]\n",
      "100%|██████████| 3/3 [00:00<00:00,  9.71it/s]\n",
      "  0%|          | 0/3 [00:00<?, ?it/s]"
     ]
    },
    {
     "name": "stdout",
     "output_type": "stream",
     "text": [
      "Epoch 56, Loss: 200129.14192708334\n",
      "Epoch 56, Loss: 194262.86328125\n"
     ]
    },
    {
     "name": "stderr",
     "output_type": "stream",
     "text": [
      "100%|██████████| 3/3 [00:00<00:00,  9.68it/s]\n",
      "100%|██████████| 3/3 [00:00<00:00,  9.65it/s]\n",
      "  0%|          | 0/3 [00:00<?, ?it/s]"
     ]
    },
    {
     "name": "stdout",
     "output_type": "stream",
     "text": [
      "Epoch 57, Loss: 274536.4817708333\n",
      "Epoch 57, Loss: 273172.2109375\n"
     ]
    },
    {
     "name": "stderr",
     "output_type": "stream",
     "text": [
      "100%|██████████| 3/3 [00:00<00:00,  8.90it/s]\n",
      "100%|██████████| 3/3 [00:00<00:00,  8.91it/s]\n",
      " 33%|███▎      | 1/3 [00:00<00:00,  7.92it/s]"
     ]
    },
    {
     "name": "stdout",
     "output_type": "stream",
     "text": [
      "Epoch 58, Loss: 379269.5651041667\n",
      "Epoch 58, Loss: 378316.3776041667\n"
     ]
    },
    {
     "name": "stderr",
     "output_type": "stream",
     "text": [
      "100%|██████████| 3/3 [00:00<00:00, 10.01it/s]\n",
      "100%|██████████| 3/3 [00:00<00:00,  9.99it/s]\n",
      " 33%|███▎      | 1/3 [00:00<00:00,  6.60it/s]"
     ]
    },
    {
     "name": "stdout",
     "output_type": "stream",
     "text": [
      "Epoch 59, Loss: 421756.6145833333\n",
      "Epoch 59, Loss: 502517.5911458333\n"
     ]
    },
    {
     "name": "stderr",
     "output_type": "stream",
     "text": [
      "100%|██████████| 3/3 [00:00<00:00,  8.75it/s]\n",
      "100%|██████████| 3/3 [00:00<00:00,  8.74it/s]\n",
      " 33%|███▎      | 1/3 [00:00<00:00,  6.09it/s]"
     ]
    },
    {
     "name": "stdout",
     "output_type": "stream",
     "text": [
      "Epoch 60, Loss: 530693.7921549479\n",
      "Epoch 60, Loss: 529931.6005859375\n"
     ]
    },
    {
     "name": "stderr",
     "output_type": "stream",
     "text": [
      "100%|██████████| 3/3 [00:00<00:00,  9.17it/s]\n",
      "100%|██████████| 3/3 [00:00<00:00,  9.16it/s]\n",
      " 33%|███▎      | 1/3 [00:00<00:00,  7.98it/s]"
     ]
    },
    {
     "name": "stdout",
     "output_type": "stream",
     "text": [
      "Epoch 61, Loss: 390364.0598958333\n",
      "Epoch 61, Loss: 367934.4140625\n"
     ]
    },
    {
     "name": "stderr",
     "output_type": "stream",
     "text": [
      "100%|██████████| 3/3 [00:00<00:00,  9.14it/s]\n",
      "100%|██████████| 3/3 [00:00<00:00,  9.14it/s]\n",
      "  0%|          | 0/3 [00:00<?, ?it/s]"
     ]
    },
    {
     "name": "stdout",
     "output_type": "stream",
     "text": [
      "Epoch 62, Loss: 121576.498046875\n",
      "Epoch 62, Loss: 120649.36848958333\n"
     ]
    },
    {
     "name": "stderr",
     "output_type": "stream",
     "text": [
      "100%|██████████| 3/3 [00:00<00:00,  9.51it/s]\n",
      "100%|██████████| 3/3 [00:00<00:00,  9.51it/s]\n",
      "  0%|          | 0/3 [00:00<?, ?it/s]"
     ]
    },
    {
     "name": "stdout",
     "output_type": "stream",
     "text": [
      "Epoch 63, Loss: 77919.05143229167\n",
      "Epoch 63, Loss: 91661.95572916667\n"
     ]
    },
    {
     "name": "stderr",
     "output_type": "stream",
     "text": [
      "100%|██████████| 3/3 [00:00<00:00,  8.74it/s]\n",
      "100%|██████████| 3/3 [00:00<00:00,  8.73it/s]\n",
      "  0%|          | 0/3 [00:00<?, ?it/s]"
     ]
    },
    {
     "name": "stdout",
     "output_type": "stream",
     "text": [
      "Epoch 64, Loss: 147972.49479166666\n",
      "Epoch 64, Loss: 112535.203125\n"
     ]
    },
    {
     "name": "stderr",
     "output_type": "stream",
     "text": [
      "100%|██████████| 3/3 [00:00<00:00,  9.04it/s]\n",
      "100%|██████████| 3/3 [00:00<00:00,  9.00it/s]\n",
      "  0%|          | 0/3 [00:00<?, ?it/s]"
     ]
    },
    {
     "name": "stdout",
     "output_type": "stream",
     "text": [
      "Epoch 65, Loss: 17618.999348958332\n",
      "Epoch 65, Loss: 15008.98828125\n"
     ]
    },
    {
     "name": "stderr",
     "output_type": "stream",
     "text": [
      "100%|██████████| 3/3 [00:00<00:00,  9.06it/s]\n",
      "100%|██████████| 3/3 [00:00<00:00,  9.03it/s]\n",
      " 33%|███▎      | 1/3 [00:00<00:00,  7.85it/s]"
     ]
    },
    {
     "name": "stdout",
     "output_type": "stream",
     "text": [
      "Epoch 66, Loss: 56873.103190104164\n",
      "Epoch 66, Loss: 65237.467447916664\n"
     ]
    },
    {
     "name": "stderr",
     "output_type": "stream",
     "text": [
      "100%|██████████| 3/3 [00:00<00:00,  9.69it/s]\n",
      "100%|██████████| 3/3 [00:00<00:00,  9.66it/s]\n",
      " 33%|███▎      | 1/3 [00:00<00:00,  7.16it/s]"
     ]
    },
    {
     "name": "stdout",
     "output_type": "stream",
     "text": [
      "Epoch 67, Loss: 11599.429036458334\n",
      "Epoch 67, Loss: 9428.1455078125\n"
     ]
    },
    {
     "name": "stderr",
     "output_type": "stream",
     "text": [
      "100%|██████████| 3/3 [00:00<00:00,  8.84it/s]\n",
      "100%|██████████| 3/3 [00:00<00:00,  8.82it/s]\n",
      "  0%|          | 0/3 [00:00<?, ?it/s]"
     ]
    },
    {
     "name": "stdout",
     "output_type": "stream",
     "text": [
      "Epoch 68, Loss: 33161.224934895836\n",
      "Epoch 68, Loss: 26922.5439453125\n"
     ]
    },
    {
     "name": "stderr",
     "output_type": "stream",
     "text": [
      "100%|██████████| 3/3 [00:00<00:00,  9.91it/s]\n",
      "100%|██████████| 3/3 [00:00<00:00,  9.90it/s]\n",
      "  0%|          | 0/3 [00:00<?, ?it/s]"
     ]
    },
    {
     "name": "stdout",
     "output_type": "stream",
     "text": [
      "Epoch 69, Loss: 5129.910237630208\n",
      "Epoch 69, Loss: 6516.115559895833\n"
     ]
    },
    {
     "name": "stderr",
     "output_type": "stream",
     "text": [
      "100%|██████████| 3/3 [00:00<00:00,  8.98it/s]\n",
      "100%|██████████| 3/3 [00:00<00:00,  8.98it/s]\n",
      " 33%|███▎      | 1/3 [00:00<00:00,  7.40it/s]"
     ]
    },
    {
     "name": "stdout",
     "output_type": "stream",
     "text": [
      "Epoch 70, Loss: 16800.243001302082\n",
      "Epoch 70, Loss: 15567.978841145834\n"
     ]
    },
    {
     "name": "stderr",
     "output_type": "stream",
     "text": [
      "100%|██████████| 3/3 [00:00<00:00, 10.06it/s]\n",
      "100%|██████████| 3/3 [00:00<00:00, 10.02it/s]\n",
      " 33%|███▎      | 1/3 [00:00<00:00,  6.08it/s]"
     ]
    },
    {
     "name": "stdout",
     "output_type": "stream",
     "text": [
      "Epoch 71, Loss: 2996.6189778645835\n",
      "Epoch 71, Loss: 3518.5341796875\n"
     ]
    },
    {
     "name": "stderr",
     "output_type": "stream",
     "text": [
      "100%|██████████| 3/3 [00:00<00:00,  8.19it/s]\n",
      "100%|██████████| 3/3 [00:00<00:00,  8.20it/s]\n",
      "  0%|          | 0/3 [00:00<?, ?it/s]"
     ]
    },
    {
     "name": "stdout",
     "output_type": "stream",
     "text": [
      "Epoch 72, Loss: 6292.958658854167\n",
      "Epoch 72, Loss: 8201.69189453125\n"
     ]
    },
    {
     "name": "stderr",
     "output_type": "stream",
     "text": [
      "100%|██████████| 3/3 [00:00<00:00,  9.31it/s]\n",
      "100%|██████████| 3/3 [00:00<00:00,  9.30it/s]\n",
      "  0%|          | 0/3 [00:00<?, ?it/s]"
     ]
    },
    {
     "name": "stdout",
     "output_type": "stream",
     "text": [
      "Epoch 73, Loss: 3498.6474609375\n",
      "Epoch 73, Loss: 4502.31982421875\n"
     ]
    },
    {
     "name": "stderr",
     "output_type": "stream",
     "text": [
      "100%|██████████| 3/3 [00:00<00:00,  9.36it/s]\n",
      "100%|██████████| 3/3 [00:00<00:00,  9.36it/s]\n",
      "  0%|          | 0/3 [00:00<?, ?it/s]"
     ]
    },
    {
     "name": "stdout",
     "output_type": "stream",
     "text": [
      "Epoch 74, Loss: 3970.95849609375\n",
      "Epoch 74, Loss: 3332.1537272135415\n"
     ]
    },
    {
     "name": "stderr",
     "output_type": "stream",
     "text": [
      "100%|██████████| 3/3 [00:00<00:00, 10.24it/s]\n",
      "100%|██████████| 3/3 [00:00<00:00, 10.20it/s]\n",
      "  0%|          | 0/3 [00:00<?, ?it/s]"
     ]
    },
    {
     "name": "stdout",
     "output_type": "stream",
     "text": [
      "Epoch 75, Loss: 3645.320068359375\n",
      "Epoch 75, Loss: 4065.7672119140625\n"
     ]
    },
    {
     "name": "stderr",
     "output_type": "stream",
     "text": [
      "100%|██████████| 3/3 [00:00<00:00,  8.43it/s]\n",
      "100%|██████████| 3/3 [00:00<00:00,  8.43it/s]\n",
      " 33%|███▎      | 1/3 [00:00<00:00,  7.33it/s]"
     ]
    },
    {
     "name": "stdout",
     "output_type": "stream",
     "text": [
      "Epoch 76, Loss: 2039.66796875\n",
      "Epoch 76, Loss: 2064.5662841796875\n"
     ]
    },
    {
     "name": "stderr",
     "output_type": "stream",
     "text": [
      "100%|██████████| 3/3 [00:00<00:00,  8.61it/s]\n",
      "100%|██████████| 3/3 [00:00<00:00,  8.61it/s]\n",
      "  0%|          | 0/3 [00:00<?, ?it/s]"
     ]
    },
    {
     "name": "stdout",
     "output_type": "stream",
     "text": [
      "Epoch 77, Loss: 3091.7381998697915\n",
      "Epoch 77, Loss: 2964.761962890625\n"
     ]
    },
    {
     "name": "stderr",
     "output_type": "stream",
     "text": [
      "100%|██████████| 3/3 [00:00<00:00,  9.55it/s]\n",
      "100%|██████████| 3/3 [00:00<00:00,  9.55it/s]\n",
      "  0%|          | 0/3 [00:00<?, ?it/s]"
     ]
    },
    {
     "name": "stdout",
     "output_type": "stream",
     "text": [
      "Epoch 78, Loss: 1733.0388997395833\n",
      "Epoch 78, Loss: 1758.8176676432292\n"
     ]
    },
    {
     "name": "stderr",
     "output_type": "stream",
     "text": [
      "100%|██████████| 3/3 [00:00<00:00,  9.24it/s]\n",
      "100%|██████████| 3/3 [00:00<00:00,  9.24it/s]\n",
      " 33%|███▎      | 1/3 [00:00<00:00,  8.22it/s]"
     ]
    },
    {
     "name": "stdout",
     "output_type": "stream",
     "text": [
      "Epoch 79, Loss: 2077.3929036458335\n",
      "Epoch 79, Loss: 2217.285196940104\n"
     ]
    },
    {
     "name": "stderr",
     "output_type": "stream",
     "text": [
      "100%|██████████| 3/3 [00:00<00:00,  9.48it/s]\n",
      "100%|██████████| 3/3 [00:00<00:00,  9.47it/s]\n",
      " 33%|███▎      | 1/3 [00:00<00:00,  8.16it/s]"
     ]
    },
    {
     "name": "stdout",
     "output_type": "stream",
     "text": [
      "Epoch 80, Loss: 1810.1165364583333\n",
      "Epoch 80, Loss: 1960.0848388671875\n"
     ]
    },
    {
     "name": "stderr",
     "output_type": "stream",
     "text": [
      "100%|██████████| 3/3 [00:00<00:00,  8.96it/s]\n",
      "100%|██████████| 3/3 [00:00<00:00,  8.97it/s]\n",
      "  0%|          | 0/3 [00:00<?, ?it/s]"
     ]
    },
    {
     "name": "stdout",
     "output_type": "stream",
     "text": [
      "Epoch 81, Loss: 1691.1178792317708\n",
      "Epoch 81, Loss: 1605.6820068359375\n"
     ]
    },
    {
     "name": "stderr",
     "output_type": "stream",
     "text": [
      "100%|██████████| 3/3 [00:00<00:00, 10.15it/s]\n",
      "100%|██████████| 3/3 [00:00<00:00, 10.11it/s]\n",
      "  0%|          | 0/3 [00:00<?, ?it/s]"
     ]
    },
    {
     "name": "stdout",
     "output_type": "stream",
     "text": [
      "Epoch 82, Loss: 1635.2544759114583\n",
      "Epoch 82, Loss: 1946.582763671875\n"
     ]
    },
    {
     "name": "stderr",
     "output_type": "stream",
     "text": [
      "100%|██████████| 3/3 [00:00<00:00,  9.17it/s]\n",
      "100%|██████████| 3/3 [00:00<00:00,  9.14it/s]\n",
      "  0%|          | 0/3 [00:00<?, ?it/s]"
     ]
    },
    {
     "name": "stdout",
     "output_type": "stream",
     "text": [
      "Epoch 83, Loss: 1531.83984375\n",
      "Epoch 83, Loss: 1583.6923828125\n"
     ]
    },
    {
     "name": "stderr",
     "output_type": "stream",
     "text": [
      "100%|██████████| 3/3 [00:00<00:00,  9.37it/s]\n",
      "100%|██████████| 3/3 [00:00<00:00,  9.37it/s]\n",
      "  0%|          | 0/3 [00:00<?, ?it/s]"
     ]
    },
    {
     "name": "stdout",
     "output_type": "stream",
     "text": [
      "Epoch 84, Loss: 1582.7457275390625\n",
      "Epoch 84, Loss: 1569.1736653645833\n"
     ]
    },
    {
     "name": "stderr",
     "output_type": "stream",
     "text": [
      "100%|██████████| 3/3 [00:00<00:00,  9.57it/s]\n",
      "100%|██████████| 3/3 [00:00<00:00,  9.57it/s]\n",
      "  0%|          | 0/3 [00:00<?, ?it/s]"
     ]
    },
    {
     "name": "stdout",
     "output_type": "stream",
     "text": [
      "Epoch 85, Loss: 1470.3854573567708\n",
      "Epoch 85, Loss: 1550.5232747395833\n"
     ]
    },
    {
     "name": "stderr",
     "output_type": "stream",
     "text": [
      "100%|██████████| 3/3 [00:00<00:00,  9.17it/s]\n",
      "100%|██████████| 3/3 [00:00<00:00,  9.14it/s]\n",
      " 33%|███▎      | 1/3 [00:00<00:00,  8.41it/s]"
     ]
    },
    {
     "name": "stdout",
     "output_type": "stream",
     "text": [
      "Epoch 86, Loss: 1575.5113525390625\n",
      "Epoch 86, Loss: 1590.328857421875\n"
     ]
    },
    {
     "name": "stderr",
     "output_type": "stream",
     "text": [
      "100%|██████████| 3/3 [00:00<00:00,  9.93it/s]\n",
      "100%|██████████| 3/3 [00:00<00:00,  9.90it/s]\n",
      " 33%|███▎      | 1/3 [00:00<00:00,  7.39it/s]"
     ]
    },
    {
     "name": "stdout",
     "output_type": "stream",
     "text": [
      "Epoch 87, Loss: 1625.8963216145833\n",
      "Epoch 87, Loss: 1561.8940836588542\n"
     ]
    },
    {
     "name": "stderr",
     "output_type": "stream",
     "text": [
      "100%|██████████| 3/3 [00:00<00:00,  9.18it/s]\n",
      "100%|██████████| 3/3 [00:00<00:00,  9.18it/s]\n",
      " 33%|███▎      | 1/3 [00:00<00:00,  8.81it/s]"
     ]
    },
    {
     "name": "stdout",
     "output_type": "stream",
     "text": [
      "Epoch 88, Loss: 1470.08837890625\n",
      "Epoch 88, Loss: 1634.9610188802083\n"
     ]
    },
    {
     "name": "stderr",
     "output_type": "stream",
     "text": [
      "100%|██████████| 3/3 [00:00<00:00,  9.99it/s]\n",
      "100%|██████████| 3/3 [00:00<00:00,  9.96it/s]\n",
      "  0%|          | 0/3 [00:00<?, ?it/s]"
     ]
    },
    {
     "name": "stdout",
     "output_type": "stream",
     "text": [
      "Epoch 89, Loss: 1441.6832275390625\n",
      "Epoch 89, Loss: 1438.4042154947917\n"
     ]
    },
    {
     "name": "stderr",
     "output_type": "stream",
     "text": [
      "100%|██████████| 3/3 [00:00<00:00,  9.27it/s]\n",
      "100%|██████████| 3/3 [00:00<00:00,  9.23it/s]\n",
      "  0%|          | 0/3 [00:00<?, ?it/s]"
     ]
    },
    {
     "name": "stdout",
     "output_type": "stream",
     "text": [
      "Epoch 90, Loss: 1489.2911376953125\n",
      "Epoch 90, Loss: 1450.5491129557292\n"
     ]
    },
    {
     "name": "stderr",
     "output_type": "stream",
     "text": [
      "100%|██████████| 3/3 [00:00<00:00,  9.20it/s]\n",
      "100%|██████████| 3/3 [00:00<00:00,  9.21it/s]\n",
      "  0%|          | 0/3 [00:00<?, ?it/s]"
     ]
    },
    {
     "name": "stdout",
     "output_type": "stream",
     "text": [
      "Epoch 91, Loss: 1407.9154866536458\n",
      "Epoch 91, Loss: 1468.3157145182292\n"
     ]
    },
    {
     "name": "stderr",
     "output_type": "stream",
     "text": [
      "100%|██████████| 3/3 [00:00<00:00,  9.59it/s]\n",
      "100%|██████████| 3/3 [00:00<00:00,  9.57it/s]\n",
      "  0%|          | 0/3 [00:00<?, ?it/s]"
     ]
    },
    {
     "name": "stdout",
     "output_type": "stream",
     "text": [
      "Epoch 92, Loss: 1406.9933675130208\n",
      "Epoch 92, Loss: 1449.1356608072917\n"
     ]
    },
    {
     "name": "stderr",
     "output_type": "stream",
     "text": [
      "100%|██████████| 3/3 [00:00<00:00, 10.13it/s]\n",
      "100%|██████████| 3/3 [00:00<00:00, 10.09it/s]\n",
      "  0%|          | 0/3 [00:00<?, ?it/s]"
     ]
    },
    {
     "name": "stdout",
     "output_type": "stream",
     "text": [
      "Epoch 93, Loss: 1420.2961018880208\n",
      "Epoch 93, Loss: 1642.5807698567708\n"
     ]
    },
    {
     "name": "stderr",
     "output_type": "stream",
     "text": [
      "100%|██████████| 3/3 [00:00<00:00,  8.83it/s]\n"
     ]
    },
    {
     "name": "stdout",
     "output_type": "stream",
     "text": [
      "Epoch 94, Loss: 1635.2694091796875\n",
      "Epoch 94, Loss: 1594.4539388020833\n"
     ]
    },
    {
     "name": "stderr",
     "output_type": "stream",
     "text": [
      "100%|██████████| 3/3 [00:00<00:00,  8.83it/s]\n",
      "100%|██████████| 3/3 [00:00<00:00,  8.99it/s]\n",
      "100%|██████████| 3/3 [00:00<00:00,  8.96it/s]\n",
      "  0%|          | 0/3 [00:00<?, ?it/s]"
     ]
    },
    {
     "name": "stdout",
     "output_type": "stream",
     "text": [
      "Epoch 95, Loss: 1739.64404296875\n",
      "Epoch 95, Loss: 1896.0613606770833\n"
     ]
    },
    {
     "name": "stderr",
     "output_type": "stream",
     "text": [
      "100%|██████████| 3/3 [00:00<00:00,  9.76it/s]\n",
      "100%|██████████| 3/3 [00:00<00:00,  9.72it/s]\n",
      "  0%|          | 0/3 [00:00<?, ?it/s]"
     ]
    },
    {
     "name": "stdout",
     "output_type": "stream",
     "text": [
      "Epoch 96, Loss: 1619.2702229817708\n",
      "Epoch 96, Loss: 1758.4864095052083\n"
     ]
    },
    {
     "name": "stderr",
     "output_type": "stream",
     "text": [
      "100%|██████████| 3/3 [00:00<00:00,  8.45it/s]\n",
      "100%|██████████| 3/3 [00:00<00:00,  8.46it/s]\n",
      " 33%|███▎      | 1/3 [00:00<00:00,  8.08it/s]"
     ]
    },
    {
     "name": "stdout",
     "output_type": "stream",
     "text": [
      "Epoch 97, Loss: 1944.3010660807292\n",
      "Epoch 97, Loss: 1730.1248372395833\n"
     ]
    },
    {
     "name": "stderr",
     "output_type": "stream",
     "text": [
      "100%|██████████| 3/3 [00:00<00:00,  9.49it/s]\n",
      "100%|██████████| 3/3 [00:00<00:00,  9.47it/s]\n",
      " 33%|███▎      | 1/3 [00:00<00:00,  8.03it/s]"
     ]
    },
    {
     "name": "stdout",
     "output_type": "stream",
     "text": [
      "Epoch 98, Loss: 1782.2199300130208\n",
      "Epoch 98, Loss: 2050.940144856771\n"
     ]
    },
    {
     "name": "stderr",
     "output_type": "stream",
     "text": [
      "100%|██████████| 3/3 [00:00<00:00,  9.24it/s]\n",
      "100%|██████████| 3/3 [00:00<00:00,  9.21it/s]\n",
      "  0%|          | 0/3 [00:00<?, ?it/s]"
     ]
    },
    {
     "name": "stdout",
     "output_type": "stream",
     "text": [
      "Epoch 99, Loss: 1787.0673828125\n",
      "Epoch 99, Loss: 1823.3971761067708\n"
     ]
    },
    {
     "name": "stderr",
     "output_type": "stream",
     "text": [
      "100%|██████████| 3/3 [00:00<00:00,  9.38it/s]\n",
      "100%|██████████| 3/3 [00:00<00:00,  9.34it/s]\n"
     ]
    },
    {
     "name": "stdout",
     "output_type": "stream",
     "text": [
      "Epoch 100, Loss: 1736.6885579427083\n",
      "Training time: 32.38999676704407 seconds\n",
      "Epoch 100, Loss: 1756.9105631510417\n",
      "Training time: 32.39141130447388 seconds\n",
      "Training time: 37.02104926109314 seconds\n"
     ]
    }
   ],
   "source": [
    "import time\n",
    "\n",
    "start_time = time.time()\n",
    "if __name__ == '__main__':\n",
    "    num_gpus = 2\n",
    "    import torch.multiprocessing as mp\n",
    "    mp.spawn(run, args=(list(range(num_gpus)),dgl_graph), nprocs=num_gpus)\n",
    "\n",
    "end_time = time.time()\n",
    "elapsed_time = end_time - start_time\n",
    "\n",
    "print(f\"Training time: {elapsed_time} seconds\")"
   ]
  },
  {
   "cell_type": "code",
   "execution_count": 28,
   "metadata": {},
   "outputs": [
    {
     "ename": "DGLError",
     "evalue": "Invalid key \"0\". Must be one of the edge types.",
     "output_type": "error",
     "traceback": [
      "\u001b[0;31m---------------------------------------------------------------------------\u001b[0m",
      "\u001b[0;31mDGLError\u001b[0m                                  Traceback (most recent call last)",
      "Cell \u001b[0;32mIn[28], line 6\u001b[0m\n\u001b[1;32m      4\u001b[0m model\u001b[39m.\u001b[39mload_state_dict(state_dict)\n\u001b[1;32m      5\u001b[0m model\u001b[39m.\u001b[39meval()\n\u001b[0;32m----> 6\u001b[0m h_a, h_f \u001b[39m=\u001b[39m model(dgl_graph, x)\n\u001b[1;32m      8\u001b[0m h_a \u001b[39m=\u001b[39m torch\u001b[39m.\u001b[39msqueeze(h_a)\n\u001b[1;32m      9\u001b[0m h_a\u001b[39m.\u001b[39mshape\n",
      "File \u001b[0;32m/home/rxf131/ondemand/ubuntu2204/python310/torch/nn/modules/module.py:1501\u001b[0m, in \u001b[0;36mModule._call_impl\u001b[0;34m(self, *args, **kwargs)\u001b[0m\n\u001b[1;32m   1496\u001b[0m \u001b[39m# If we don't have any hooks, we want to skip the rest of the logic in\u001b[39;00m\n\u001b[1;32m   1497\u001b[0m \u001b[39m# this function, and just call forward.\u001b[39;00m\n\u001b[1;32m   1498\u001b[0m \u001b[39mif\u001b[39;00m \u001b[39mnot\u001b[39;00m (\u001b[39mself\u001b[39m\u001b[39m.\u001b[39m_backward_hooks \u001b[39mor\u001b[39;00m \u001b[39mself\u001b[39m\u001b[39m.\u001b[39m_backward_pre_hooks \u001b[39mor\u001b[39;00m \u001b[39mself\u001b[39m\u001b[39m.\u001b[39m_forward_hooks \u001b[39mor\u001b[39;00m \u001b[39mself\u001b[39m\u001b[39m.\u001b[39m_forward_pre_hooks\n\u001b[1;32m   1499\u001b[0m         \u001b[39mor\u001b[39;00m _global_backward_pre_hooks \u001b[39mor\u001b[39;00m _global_backward_hooks\n\u001b[1;32m   1500\u001b[0m         \u001b[39mor\u001b[39;00m _global_forward_hooks \u001b[39mor\u001b[39;00m _global_forward_pre_hooks):\n\u001b[0;32m-> 1501\u001b[0m     \u001b[39mreturn\u001b[39;00m forward_call(\u001b[39m*\u001b[39;49margs, \u001b[39m*\u001b[39;49m\u001b[39m*\u001b[39;49mkwargs)\n\u001b[1;32m   1502\u001b[0m \u001b[39m# Do not call functions when jit is used\u001b[39;00m\n\u001b[1;32m   1503\u001b[0m full_backward_hooks, non_full_backward_hooks \u001b[39m=\u001b[39m [], []\n",
      "Cell \u001b[0;32mIn[21], line 17\u001b[0m, in \u001b[0;36mGCN.forward\u001b[0;34m(self, blocks, x)\u001b[0m\n\u001b[1;32m     16\u001b[0m \u001b[39mdef\u001b[39;00m \u001b[39mforward\u001b[39m(\u001b[39mself\u001b[39m, blocks, x):\n\u001b[0;32m---> 17\u001b[0m     h_1 \u001b[39m=\u001b[39m \u001b[39mself\u001b[39m\u001b[39m.\u001b[39mconv1(blocks[\u001b[39m0\u001b[39;49m], x)\n\u001b[1;32m     18\u001b[0m     h_a \u001b[39m=\u001b[39m \u001b[39mself\u001b[39m\u001b[39m.\u001b[39mconv2(blocks[\u001b[39m1\u001b[39m], h_1)\n\u001b[1;32m     19\u001b[0m     h_2 \u001b[39m=\u001b[39m \u001b[39mself\u001b[39m\u001b[39m.\u001b[39mconv3(blocks[\u001b[39m0\u001b[39m], x)\n",
      "File \u001b[0;32m/home/rxf131/ondemand/ubuntu2204/python310/dgl/heterograph.py:2409\u001b[0m, in \u001b[0;36mDGLGraph.__getitem__\u001b[0;34m(self, key)\u001b[0m\n\u001b[1;32m   2406\u001b[0m etypes \u001b[39m=\u001b[39m \u001b[39mself\u001b[39m\u001b[39m.\u001b[39m_find_etypes(key)\n\u001b[1;32m   2408\u001b[0m \u001b[39mif\u001b[39;00m \u001b[39mlen\u001b[39m(etypes) \u001b[39m==\u001b[39m \u001b[39m0\u001b[39m:\n\u001b[0;32m-> 2409\u001b[0m     \u001b[39mraise\u001b[39;00m DGLError(\n\u001b[1;32m   2410\u001b[0m         \u001b[39m'\u001b[39m\u001b[39mInvalid key \u001b[39m\u001b[39m\"\u001b[39m\u001b[39m{}\u001b[39;00m\u001b[39m\"\u001b[39m\u001b[39m. Must be one of the edge types.\u001b[39m\u001b[39m'\u001b[39m\u001b[39m.\u001b[39mformat(\n\u001b[1;32m   2411\u001b[0m             orig_key\n\u001b[1;32m   2412\u001b[0m         )\n\u001b[1;32m   2413\u001b[0m     )\n\u001b[1;32m   2415\u001b[0m \u001b[39mif\u001b[39;00m \u001b[39mlen\u001b[39m(etypes) \u001b[39m==\u001b[39m \u001b[39m1\u001b[39m:\n\u001b[1;32m   2416\u001b[0m     \u001b[39m# no ambiguity: return the unitgraph itself\u001b[39;00m\n\u001b[1;32m   2417\u001b[0m     srctype, etype, dsttype \u001b[39m=\u001b[39m \u001b[39mself\u001b[39m\u001b[39m.\u001b[39m_canonical_etypes[etypes[\u001b[39m0\u001b[39m]]\n",
      "\u001b[0;31mDGLError\u001b[0m: Invalid key \"0\". Must be one of the edge types."
     ]
    }
   ],
   "source": [
    "model = GCN()\n",
    "model_save_path = os.path.join('st_DynGNN_best.pt')\n",
    "state_dict = {k.replace('module.', ''): v for k, v in torch.load(model_save_path).items()}\n",
    "model.load_state_dict(state_dict)\n",
    "model.eval()\n",
    "h_a, h_f = model(dgl_graph, x)\n",
    "\n",
    "h_a = torch.squeeze(h_a)\n",
    "h_a.shape"
   ]
  },
  {
   "cell_type": "code",
   "execution_count": 32,
   "metadata": {},
   "outputs": [
    {
     "data": {
      "text/plain": [
       "tensor([[[[ 0.0000, 46.5279,  0.0000,  ..., 32.2680,  0.0000,  0.0000]]],\n",
       "\n",
       "\n",
       "        [[[ 0.0000, 46.5266,  0.0000,  ..., 32.2655,  0.0000,  0.0000]]],\n",
       "\n",
       "\n",
       "        [[[ 0.0000, 46.5265,  0.0000,  ..., 32.2652,  0.0000,  0.0000]]],\n",
       "\n",
       "\n",
       "        ...,\n",
       "\n",
       "\n",
       "        [[[ 0.0000, 43.4879,  0.0000,  ..., 31.6806,  0.0000,  0.0000]]],\n",
       "\n",
       "\n",
       "        [[[ 0.0000, 43.4868,  0.0000,  ..., 31.6780,  0.0000,  0.0000]]],\n",
       "\n",
       "\n",
       "        [[[ 0.0000, 43.4882,  0.0000,  ..., 31.6811,  0.0000,  0.0000]]]],\n",
       "       grad_fn=<ReluBackward0>)"
      ]
     },
     "execution_count": 32,
     "metadata": {},
     "output_type": "execute_result"
    }
   ],
   "source": [
    "h_f"
   ]
  },
  {
   "cell_type": "code",
   "execution_count": 95,
   "metadata": {},
   "outputs": [
    {
     "data": {
      "text/plain": [
       "tensor(1478.1057, grad_fn=<AddBackward0>)"
      ]
     },
     "execution_count": 95,
     "metadata": {},
     "output_type": "execute_result"
    }
   ],
   "source": [
    "m1 = [[1] for i in range(1,121)]\n",
    "m2 = [[i] for i in range(1,121)]\n",
    "m = torch.Tensor([m1, m2])\n",
    "m = torch.squeeze(m).T\n",
    "\n",
    "\n",
    "K = 12\n",
    "d = [ [ 0 for y in range(120) ] for x in range(10) ]\n",
    "for i in range(10):\n",
    "    for j in range(120):\n",
    "        if int(j/K) == i:\n",
    "            d[i][j] = 1/K\n",
    "E = torch.as_tensor(d)\n",
    "\n",
    "W = [ [ 1 for y in range(10) ] for x in range(10) ]\n",
    "for i in range(10):\n",
    "    for j in range(10):\n",
    "        W[i][j] = abs(j-i)\n",
    "W = torch.as_tensor(W)\n",
    "W = W.fill_diagonal_(1)\n",
    "\n",
    "\n",
    "I = [ 1 for x in range(10) ]\n",
    "I = torch.as_tensor(I)\n",
    "L = torch.diag(torch.matmul(W, I), 0) - W\n",
    "\n",
    "criterion = torch.nn.MSELoss()\n",
    "loss = criterion(torch.squeeze(h_a)+torch.squeeze(h_f), x)  + \\\n",
    "                10*torch.std(torch.diff(h_a)) +\\\n",
    "                0 * torch.var(h_a) +\\\n",
    "                100 * torch.sum(torch.abs(torch.matmul(torch.matmul(torch.linalg.inv(torch.matmul(torch.transpose(m, 0, 1), m)), torch.transpose(m, 0, 1)), torch.transpose(torch.squeeze(h_f), 0, 1))[1])) +\\\n",
    "                5 * torch.sum(torch.diagonal(torch.matmul(torch.matmul(torch.matmul(torch.squeeze(h_f), E.T).float(), L.float()), torch.matmul(E, torch.squeeze(h_f).T).float()), 0))\n",
    "loss"
   ]
  },
  {
   "cell_type": "code",
   "execution_count": 17,
   "metadata": {},
   "outputs": [
    {
     "name": "stdout",
     "output_type": "stream",
     "text": [
      "Number of available physical CPUs: 128\n"
     ]
    }
   ],
   "source": [
    "import torch\n",
    "import psutil\n",
    "\n",
    "# if torch.cuda.is_available():\n",
    "#     num_gpus = torch.cuda.device_count()\n",
    "#     print(\"Number of available GPUs:\", num_gpus)\n",
    "# else:\n",
    "num_cpus = psutil.cpu_count(logical=False)  # Count physical CPUs (sockets)\n",
    "print(\"Number of available physical CPUs:\", num_cpus)\n"
   ]
  },
  {
   "cell_type": "code",
   "execution_count": 33,
   "metadata": {},
   "outputs": [
    {
     "name": "stdout",
     "output_type": "stream",
     "text": [
      "GCN(\n",
      "  (conv1): GCNConv(120, 60)\n",
      "  (conv2): GCNConv(60, 120)\n",
      "  (conv3): GCNConv(120, 60)\n",
      "  (conv4): GCNConv(60, 120)\n",
      ")\n"
     ]
    }
   ],
   "source": [
    "import torch\n",
    "from torch.nn import Linear\n",
    "from torch_geometric.nn import GATConv, GATv2Conv, GCNConv, TransformerConv, AGNNConv, FusedGATConv, ChebConv, SAGEConv, GraphConv, TAGConv, GMMConv \n",
    "from scipy.stats import linregress\n",
    "\n",
    "class GCN(torch.nn.Module):\n",
    "    def __init__(self):\n",
    "        super(GCN, self).__init__()\n",
    "        torch.manual_seed(42)\n",
    "\n",
    "\n",
    "\n",
    "        self.conv1 = GCNConv(120, 60)\n",
    "        self.conv2 = GCNConv(60, 120)\n",
    "        self.conv3 = GCNConv(120, 60)\n",
    "        self.conv4 = GCNConv(60, 120)\n",
    "        \n",
    "    \n",
    "\n",
    "    def forward(self, x, edge_index):\n",
    "\n",
    "  \n",
    "        h_1 = self.conv1(x, edge_index)\n",
    "        h_a = self.conv2(h_1, edge_index)\n",
    "\n",
    "\n",
    "        h_2 = self.conv3(x, edge_index)\n",
    "        h_f = self.conv4(h_2, edge_index)\n",
    "\n",
    "        return h_a, h_f\n",
    "model = GCN()\n",
    "print(model)"
   ]
  },
  {
   "cell_type": "code",
   "execution_count": 34,
   "metadata": {},
   "outputs": [
    {
     "name": "stdout",
     "output_type": "stream",
     "text": [
      "Epoch: 1\tLoss: 4043.5540\n",
      "Epoch: 2\tLoss: 3077.6011\n",
      "Epoch: 3\tLoss: 1203.8195\n",
      "Epoch: 4\tLoss: 1130.1881\n",
      "Epoch: 5\tLoss: 788.4680\n",
      "Epoch: 6\tLoss: 574.6251\n",
      "Epoch: 7\tLoss: 534.2384\n",
      "Epoch: 8\tLoss: 519.5971\n",
      "Epoch: 9\tLoss: 398.7972\n",
      "Epoch: 10\tLoss: 292.3871\n",
      "Epoch: 11\tLoss: 272.8162\n",
      "Epoch: 12\tLoss: 253.1906\n",
      "Epoch: 13\tLoss: 203.6208\n",
      "Epoch: 14\tLoss: 169.9689\n",
      "Epoch: 15\tLoss: 150.9902\n",
      "Epoch: 16\tLoss: 138.5900\n",
      "Epoch: 17\tLoss: 126.7226\n",
      "Epoch: 18\tLoss: 110.5001\n",
      "Epoch: 19\tLoss: 104.1171\n",
      "Epoch: 20\tLoss: 88.5925\n",
      "Epoch: 21\tLoss: 69.0048\n",
      "Epoch: 22\tLoss: 61.3695\n",
      "Epoch: 23\tLoss: 55.2481\n",
      "Epoch: 24\tLoss: 49.1813\n",
      "Epoch: 25\tLoss: 43.2701\n",
      "Epoch: 26\tLoss: 38.8014\n",
      "Epoch: 27\tLoss: 36.3555\n",
      "Epoch: 28\tLoss: 34.8477\n",
      "Epoch: 29\tLoss: 32.6112\n",
      "Epoch: 30\tLoss: 31.5829\n",
      "Epoch: 31\tLoss: 29.7149\n",
      "Epoch: 32\tLoss: 28.3097\n",
      "Epoch: 33\tLoss: 26.9053\n",
      "Epoch: 34\tLoss: 23.6492\n",
      "Epoch: 35\tLoss: 21.8967\n",
      "Epoch: 36\tLoss: 21.4657\n",
      "Epoch: 37\tLoss: 21.1018\n",
      "Epoch: 38\tLoss: 20.0730\n",
      "Epoch: 39\tLoss: 19.3213\n"
     ]
    },
    {
     "name": "stdout",
     "output_type": "stream",
     "text": [
      "Epoch: 40\tLoss: 19.2897\n",
      "Epoch: 41\tLoss: 18.5695\n",
      "Epoch: 42\tLoss: 17.1709\n",
      "Epoch: 43\tLoss: 16.2519\n",
      "Epoch: 44\tLoss: 15.7972\n",
      "Epoch: 45\tLoss: 15.4778\n",
      "Epoch: 46\tLoss: 15.6919\n",
      "Epoch: 47\tLoss: 16.8263\n",
      "Epoch: 48\tLoss: 20.7117\n",
      "Epoch: 49\tLoss: 32.2773\n",
      "Epoch: 50\tLoss: 64.5979\n",
      "Epoch: 51\tLoss: 132.1909\n",
      "Epoch: 52\tLoss: 203.4060\n",
      "Epoch: 53\tLoss: 146.8800\n",
      "Epoch: 54\tLoss: 21.9300\n",
      "Epoch: 55\tLoss: 51.9439\n",
      "Epoch: 56\tLoss: 116.7872\n",
      "Epoch: 57\tLoss: 40.7097\n",
      "Epoch: 58\tLoss: 23.9973\n",
      "Epoch: 59\tLoss: 80.8747\n",
      "Epoch: 60\tLoss: 29.1475\n",
      "Epoch: 61\tLoss: 23.9380\n",
      "Epoch: 62\tLoss: 58.4518\n",
      "Epoch: 63\tLoss: 14.3489\n",
      "Epoch: 64\tLoss: 30.3226\n",
      "Epoch: 65\tLoss: 36.9141\n",
      "Epoch: 66\tLoss: 9.1399\n",
      "Epoch: 67\tLoss: 33.3893\n",
      "Epoch: 68\tLoss: 17.2631\n",
      "Epoch: 69\tLoss: 15.0563\n",
      "Epoch: 70\tLoss: 26.4170\n",
      "Epoch: 71\tLoss: 8.4907\n",
      "Epoch: 72\tLoss: 21.2588\n",
      "Epoch: 73\tLoss: 14.3692\n",
      "Epoch: 74\tLoss: 11.1695\n",
      "Epoch: 75\tLoss: 18.6672\n",
      "Epoch: 76\tLoss: 8.0061\n",
      "Epoch: 77\tLoss: 15.1045\n",
      "Epoch: 78\tLoss: 11.3733\n",
      "Epoch: 79\tLoss: 9.2950\n",
      "Epoch: 80\tLoss: 13.6646\n",
      "Epoch: 81\tLoss: 7.5555\n",
      "Epoch: 82\tLoss: 11.5349\n",
      "Epoch: 83\tLoss: 9.5687\n",
      "Epoch: 84\tLoss: 8.0695\n",
      "Epoch: 85\tLoss: 10.7618\n",
      "Epoch: 86\tLoss: 7.2484\n",
      "Epoch: 87\tLoss: 9.1357\n",
      "Epoch: 88\tLoss: 8.5329\n",
      "Epoch: 89\tLoss: 7.1260\n",
      "Epoch: 90\tLoss: 8.8370\n",
      "Epoch: 91\tLoss: 7.0211\n",
      "Epoch: 92\tLoss: 7.4949\n",
      "Epoch: 93\tLoss: 7.7846\n",
      "Epoch: 94\tLoss: 6.5387\n",
      "Epoch: 95\tLoss: 7.4497\n",
      "Epoch: 96\tLoss: 6.8722\n",
      "Epoch: 97\tLoss: 6.4659\n",
      "Epoch: 98\tLoss: 7.0554\n",
      "Epoch: 99\tLoss: 6.3217\n"
     ]
    }
   ],
   "source": [
    "from sklearn.metrics import mean_squared_error\n",
    "import torch\n",
    "import torch.nn.functional as F\n",
    "\n",
    "# Lambda1 = 0.1\n",
    "# Lambda2 = 250\n",
    "# Lambda3 = 1\n",
    "\n",
    "Lambda1 = 0\n",
    "Lambda2 = 100\n",
    "Lambda3 = 5\n",
    "\n",
    "m1 = [[1] for i in range(1,121)]\n",
    "m2 = [[i] for i in range(1,121)]\n",
    "m = torch.Tensor([m1, m2])\n",
    "m = torch.squeeze(m).T\n",
    "\n",
    "K = 12\n",
    "d = [ [ 0 for y in range(120) ] for x in range(10) ]\n",
    "for i in range(10):\n",
    "  for j in range(120):\n",
    "    if int(j/K) == i:\n",
    "      d[i][j] = 1/K\n",
    "E = torch.as_tensor(d)\n",
    "\n",
    "W = [ [ 1 for y in range(10) ] for x in range(10) ]\n",
    "for i in range(10):\n",
    "  for j in range(10):\n",
    "    W[i][j] = abs(j-i)\n",
    "W = torch.as_tensor(W)\n",
    "W = W.fill_diagonal_(1)\n",
    "\n",
    "\n",
    "I = [ 1 for x in range(10) ]\n",
    "I = torch.as_tensor(I)\n",
    "L = torch.diag(torch.matmul(W, I), 0) - W\n",
    "\n",
    "criterion = torch.nn.MSELoss()\n",
    "optimizer = torch.optim.Adam(model.parameters(), lr=0.01, weight_decay= 0.02)\n",
    "\n",
    "\n",
    "def train(x, edge_index, Lambda1, Lambda2):\n",
    "  optimizer.zero_grad()\n",
    "  h_a, h_f = model(x, edge_index)\n",
    "  loss = criterion(h_a+h_f, x)\n",
    "  # loss = criterion(h_a+h_f, x)  + \\\n",
    "  # 10*torch.std(torch.diff(h_a)) +\\\n",
    "  # Lambda1 * torch.var(h_a) +\\\n",
    "  # Lambda2 * torch.sum(torch.abs(torch.matmul(torch.matmul(torch.linalg.inv(torch.matmul(torch.transpose(m, 0, 1), m)), torch.transpose(m, 0, 1)), torch.transpose(h_f, 0, 1))[1])) +\\\n",
    "  # Lambda3 * torch.sum(torch.diagonal(torch.matmul(torch.matmul(torch.matmul(h_f, E.T).long(), L.long()), torch.matmul(E, h_f.T).long()), 0))\n",
    "\n",
    "  # print(criterion(h_a + h_f, x))\n",
    "  # print(torch.sum(torch.abs(torch.matmul(torch.matmul(torch.linalg.inv(torch.matmul(torch.transpose(m, 0, 1), m)), torch.transpose(m, 0, 1)), torch.transpose(h_f, 0, 1))[1])))\n",
    "  # print(torch.sum(torch.diagonal(torch.matmul(torch.matmul(torch.matmul(h_f, E.T).long(), L.long()), torch.matmul(E, h_f.T).long()), 0)))\n",
    "\n",
    "  loss.backward()\n",
    "  optimizer.step()\n",
    "  return loss, criterion(h_a+h_f, x), h_a, h_f\n",
    "\n",
    "epochs = range(1, 100)\n",
    "losses = []\n",
    "embeddings = []\n",
    "min_loss = 1000\n",
    "for epoch in epochs:\n",
    "  loss, loss_2, h_a, h_f= train(x, edge_index, Lambda1, Lambda2)\n",
    "  losses.append(loss)\n",
    "  print(f\"Epoch: {epoch}\\tLoss: {loss:.4f}\")\n",
    "  # if loss_2 < 100:\n",
    "  #   break\n"
   ]
  },
  {
   "cell_type": "code",
   "execution_count": 36,
   "metadata": {},
   "outputs": [
    {
     "data": {
      "text/plain": [
       "tensor([[22.3434, 26.4559, 25.8054,  ..., 20.5591, 42.3927, 17.1584],\n",
       "        [22.3434, 26.4559, 25.8054,  ..., 20.5591, 42.3927, 17.1584],\n",
       "        [22.3434, 26.4559, 25.8054,  ..., 20.5591, 42.3927, 17.1584],\n",
       "        ...,\n",
       "        [22.9697, 25.4002, 23.6304,  ..., 17.8749, 37.6075, 12.5646],\n",
       "        [22.9697, 25.4002, 23.6304,  ..., 17.8749, 37.6075, 12.5646],\n",
       "        [22.9697, 25.4002, 23.6304,  ..., 17.8749, 37.6075, 12.5646]],\n",
       "       grad_fn=<AddBackward0>)"
      ]
     },
     "execution_count": 36,
     "metadata": {},
     "output_type": "execute_result"
    }
   ],
   "source": [
    "h_f"
   ]
  }
 ],
 "metadata": {
  "accelerator": "GPU",
  "colab": {
   "gpuType": "V100",
   "machine_shape": "hm",
   "provenance": []
  },
  "kernelspec": {
   "display_name": "Python 3 (ipykernel)",
   "language": "python",
   "name": "python3"
  },
  "language_info": {
   "codemirror_mode": {
    "name": "ipython",
    "version": 3
   },
   "file_extension": ".py",
   "mimetype": "text/x-python",
   "name": "python",
   "nbconvert_exporter": "python",
   "pygments_lexer": "ipython3",
   "version": "3.10.12"
  }
 },
 "nbformat": 4,
 "nbformat_minor": 4
}
